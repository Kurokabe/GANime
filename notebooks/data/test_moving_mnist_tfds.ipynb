{
 "cells": [
  {
   "cell_type": "code",
   "execution_count": 1,
   "id": "bd8ca1ca-3ba0-4e51-bda4-a784d3beed4b",
   "metadata": {},
   "outputs": [],
   "source": [
    "import ganime.data.moving_mnist\n",
    "import tensorflow_datasets as tfds\n",
    "import tensorflow as tf"
   ]
  },
  {
   "cell_type": "code",
   "execution_count": 9,
   "id": "fee75463-bd40-4e54-9065-7ce23b08510d",
   "metadata": {},
   "outputs": [],
   "source": [
    "ds, ds_info = tfds.load('moving_mnist', shuffle_files=True,\n",
    "    as_supervised=False, with_info=True)"
   ]
  },
  {
   "cell_type": "code",
   "execution_count": 4,
   "id": "0eee1cdd-809e-484c-8a37-e4ed7d3b65e7",
   "metadata": {},
   "outputs": [],
   "source": [
    "def _preprocess(sample):\n",
    "    video = sample['video']\n",
    "    video = tf.cast(video, tf.float32) / 255.  # Scale to unit interval.\n",
    "    #video = video < tf.random.uniform(tf.shape(video))   # Randomly binarize.\n",
    "    return video, video"
   ]
  },
  {
   "cell_type": "code",
   "execution_count": 5,
   "id": "a84fad2d-b2f9-4b7c-a7a0-45675bbad0a0",
   "metadata": {},
   "outputs": [],
   "source": [
    "ds_train = (ds['train']\n",
    "             .map(_preprocess)\n",
    "             .batch(256)\n",
    "             .prefetch(tf.data.AUTOTUNE)\n",
    "             .shuffle(int(10e3)))"
   ]
  },
  {
   "cell_type": "code",
   "execution_count": 6,
   "id": "db052469-9df4-4c25-a517-174c520285fa",
   "metadata": {},
   "outputs": [
    {
     "data": {
      "text/plain": [
       "<ShuffleDataset element_spec=(TensorSpec(shape=(None, 20, 64, 64, 1), dtype=tf.float32, name=None), TensorSpec(shape=(None, 20, 64, 64, 1), dtype=tf.float32, name=None))>"
      ]
     },
     "execution_count": 6,
     "metadata": {},
     "output_type": "execute_result"
    }
   ],
   "source": [
    "ds_train"
   ]
  },
  {
   "cell_type": "code",
   "execution_count": null,
   "id": "0cd09d9b-8c8a-4344-bf81-cbbf995d92f7",
   "metadata": {},
   "outputs": [],
   "source": []
  }
 ],
 "metadata": {
  "kernelspec": {
   "display_name": "Python 3 (ipykernel)",
   "language": "python",
   "name": "python3"
  },
  "language_info": {
   "codemirror_mode": {
    "name": "ipython",
    "version": 3
   },
   "file_extension": ".py",
   "mimetype": "text/x-python",
   "name": "python",
   "nbconvert_exporter": "python",
   "pygments_lexer": "ipython3",
   "version": "3.8.10"
  }
 },
 "nbformat": 4,
 "nbformat_minor": 5
}
