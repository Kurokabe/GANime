{
 "cells": [
  {
   "cell_type": "code",
   "execution_count": 165,
   "metadata": {},
   "outputs": [],
   "source": [
    "import torch\n",
    "import torch.nn as nn\n",
    "from torch.autograd import Variable"
   ]
  },
  {
   "cell_type": "code",
   "execution_count": 166,
   "metadata": {},
   "outputs": [],
   "source": [
    "class gaussian_lstm(nn.Module):\n",
    "    def __init__(self, input_size, output_size, hidden_size, n_layers, batch_size):\n",
    "        super(gaussian_lstm, self).__init__()\n",
    "        self.input_size = input_size\n",
    "        self.output_size = output_size\n",
    "        self.hidden_size = hidden_size\n",
    "        self.n_layers = n_layers\n",
    "        self.batch_size = batch_size\n",
    "        self.embed = nn.Linear(input_size, hidden_size)\n",
    "        self.lstm = nn.LSTM(input_size=hidden_size, hidden_size=hidden_size, batch_first=True)#nn.ModuleList([nn.LSTMCell(hidden_size, hidden_size) for i in range(self.n_layers)])\n",
    "        self.mu_net = nn.Linear(hidden_size, output_size)\n",
    "        self.logvar_net = nn.Linear(hidden_size, output_size)\n",
    "        # self.hidden = self.init_hidden()\n",
    "\n",
    "    # def init_hidden(self, batch_size=1):\n",
    "    #     hidden = []\n",
    "    #     for i in range(self.n_layers):\n",
    "    #         hidden.append((Variable(torch.zeros(batch_size, self.hidden_size)),\n",
    "    #                        Variable(torch.zeros(batch_size, self.hidden_size))))\n",
    "    #     self.hidden = hidden\n",
    "    #     return hidden\n",
    "\n",
    "    # def init_hidden_(self):\n",
    "    #     hidden = []\n",
    "    #     for i in range(self.n_layers):\n",
    "    #         hidden.append((Variable(torch.zeros(self.batch_size, self.hidden_size)),\n",
    "    #                        Variable(torch.zeros(self.batch_size, self.hidden_size))))\n",
    "    #     self.hidden = hidden\n",
    "        #return hidden\n",
    "\n",
    "    def reparameterize(self, mu, logvar):\n",
    "        logvar = logvar.mul(0.5).exp_()\n",
    "        eps = Variable(logvar.data.new(logvar.size()).normal_())\n",
    "        #return eps.add_(mu)\n",
    "        #return eps.mul(logvar)\n",
    "        return eps.mul(logvar).add_(mu)\n",
    "\n",
    "    def forward(self, input):\n",
    "        #import pdb\n",
    "        #pdb.set_trace()\n",
    "        # embedded = self.embed(input.view(-1, self.input_size))\n",
    "        # h_in = embedded\n",
    "        # for i in range(self.n_layers):\n",
    "        #     # self.hidden[i] = self.lstm(h_in, self.hidden[i])\n",
    "        #     h_in = nn.Linear(3, 3)(h_in)#self.hidden[i][0]\n",
    "        # mu = self.mu_net(h_in)\n",
    "        # logvar = self.logvar_net(h_in)\n",
    "        # z = self.reparameterize(mu, logvar)\n",
    "        # return z, mu, logvar\n",
    "        return self.embed(input)"
   ]
  },
  {
   "cell_type": "code",
   "execution_count": 167,
   "metadata": {},
   "outputs": [],
   "source": [
    "torch_model = gaussian_lstm(input_size=5, output_size=2, hidden_size=3, n_layers=1, batch_size=1)"
   ]
  },
  {
   "cell_type": "code",
   "execution_count": 168,
   "metadata": {},
   "outputs": [
    {
     "data": {
      "text/plain": [
       "tensor([[-0.6163,  0.7211, -0.8625]], grad_fn=<AddmmBackward0>)"
      ]
     },
     "execution_count": 168,
     "metadata": {},
     "output_type": "execute_result"
    }
   ],
   "source": [
    "import random\n",
    "import numpy as np\n",
    "np.random.seed(0)\n",
    "random.seed(0)\n",
    "torch.manual_seed(0)\n",
    "torch_model(torch.tensor([[1, 1, 1, 1, 1]], dtype=torch.float32))"
   ]
  },
  {
   "cell_type": "code",
   "execution_count": 169,
   "metadata": {},
   "outputs": [],
   "source": [
    "import tensorflow as tf\n",
    "from tensorflow.python.keras.models import Sequential, Model\n",
    "from tensorflow.python.keras.layers import Dense, LSTM, Input\n",
    "import tensorflow_probability as tfp"
   ]
  },
  {
   "cell_type": "code",
   "execution_count": 170,
   "metadata": {},
   "outputs": [],
   "source": [
    "input = Input(shape=(5))\n",
    "# x = LSTM(3)(input)\n",
    "x = Dense(3)(input)\n",
    "# mu = Dense(2)(x)\n",
    "# logvar = Dense(2)(x)\n",
    "tf_model = Model(inputs=input, outputs=[x])"
   ]
  },
  {
   "cell_type": "code",
   "execution_count": 182,
   "metadata": {},
   "outputs": [
    {
     "data": {
      "text/plain": [
       "array([[-0.00334821,  0.11992361, -0.1351538 ],\n",
       "       [ 0.23990487, -0.00886072, -0.08790671],\n",
       "       [-0.36807698,  0.35459095, -0.42724484],\n",
       "       [-0.32912195, -0.03968754, -0.29618156],\n",
       "       [-0.17224626,  0.11833833, -0.18435177]], dtype=float32)"
      ]
     },
     "execution_count": 182,
     "metadata": {},
     "output_type": "execute_result"
    }
   ],
   "source": [
    "weights = torch_model.embed.weight.detach().numpy().T\n",
    "weights"
   ]
  },
  {
   "cell_type": "code",
   "execution_count": 188,
   "metadata": {},
   "outputs": [
    {
     "data": {
      "text/plain": [
       "array([0.01656639, 0.17679927, 0.26833835], dtype=float32)"
      ]
     },
     "execution_count": 188,
     "metadata": {},
     "output_type": "execute_result"
    }
   ],
   "source": [
    "bias = torch_model.embed.bias.detach().numpy()\n",
    "bias"
   ]
  },
  {
   "cell_type": "code",
   "execution_count": 189,
   "metadata": {},
   "outputs": [],
   "source": [
    "tf_model.set_weights([weights, bias])"
   ]
  },
  {
   "cell_type": "code",
   "execution_count": 190,
   "metadata": {},
   "outputs": [
    {
     "data": {
      "text/plain": [
       "<tf.Tensor: shape=(1, 3), dtype=float32, numpy=array([[-0.6164197 ,  0.72104216, -0.862399  ]], dtype=float32)>"
      ]
     },
     "execution_count": 190,
     "metadata": {},
     "output_type": "execute_result"
    }
   ],
   "source": [
    "np.random.seed(0)\n",
    "random.seed(0)\n",
    "tf.random.set_seed(0)\n",
    "tf_model(tf.constant([[1, 1, 1, 1, 1]], dtype=tf.float32))"
   ]
  },
  {
   "cell_type": "code",
   "execution_count": 173,
   "metadata": {},
   "outputs": [
    {
     "data": {
      "text/plain": [
       "[array([[-0.3603096 , -0.5082418 ,  0.06129855],\n",
       "        [ 0.1061011 , -0.144324  ,  0.5331736 ],\n",
       "        [-0.01173449,  0.86278516,  0.34075528],\n",
       "        [-0.64887196,  0.36341316,  0.28131205],\n",
       "        [ 0.12515205, -0.23425382, -0.1376664 ]], dtype=float32),\n",
       " array([0., 0., 0.], dtype=float32)]"
      ]
     },
     "execution_count": 173,
     "metadata": {},
     "output_type": "execute_result"
    }
   ],
   "source": [
    "tf_model.get_weights()"
   ]
  },
  {
   "cell_type": "code",
   "execution_count": 177,
   "metadata": {},
   "outputs": [
    {
     "data": {
      "text/plain": [
       "array([[-0.00334821,  0.23990487, -0.36807698, -0.32912195, -0.17224626],\n",
       "       [ 0.11992361, -0.00886072,  0.35459095, -0.03968754,  0.11833833],\n",
       "       [-0.1351538 , -0.08790671, -0.42724484, -0.29618156, -0.18435177]],\n",
       "      dtype=float32)"
      ]
     },
     "execution_count": 177,
     "metadata": {},
     "output_type": "execute_result"
    }
   ],
   "source": [
    "torch_model.embed.weight.detach().numpy()"
   ]
  },
  {
   "cell_type": "code",
   "execution_count": 178,
   "metadata": {},
   "outputs": [
    {
     "data": {
      "text/plain": [
       "Parameter containing:\n",
       "tensor([0.0166, 0.1768, 0.2683], requires_grad=True)"
      ]
     },
     "execution_count": 178,
     "metadata": {},
     "output_type": "execute_result"
    }
   ],
   "source": [
    "torch_model.embed.bias"
   ]
  },
  {
   "cell_type": "code",
   "execution_count": null,
   "metadata": {},
   "outputs": [],
   "source": []
  }
 ],
 "metadata": {
  "kernelspec": {
   "display_name": "GANime",
   "language": "python",
   "name": "ganime"
  },
  "language_info": {
   "codemirror_mode": {
    "name": "ipython",
    "version": 3
   },
   "file_extension": ".py",
   "mimetype": "text/x-python",
   "name": "python",
   "nbconvert_exporter": "python",
   "pygments_lexer": "ipython3",
   "version": "3.8.10"
  },
  "orig_nbformat": 4
 },
 "nbformat": 4,
 "nbformat_minor": 2
}
