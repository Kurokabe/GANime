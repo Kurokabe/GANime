{
 "cells": [
  {
   "cell_type": "code",
   "execution_count": 1,
   "id": "c1df7df1-919b-4942-afc2-48962dedb126",
   "metadata": {},
   "outputs": [
    {
     "name": "stdout",
     "output_type": "stream",
     "text": [
      "env: CUDA_DEVICE_ORDER=PCI_BUS_ID\n",
      "env: CUDA_VISIBLE_DEVICES=1\n"
     ]
    }
   ],
   "source": [
    "%env CUDA_DEVICE_ORDER=PCI_BUS_ID\n",
    "%env CUDA_VISIBLE_DEVICES=1"
   ]
  },
  {
   "cell_type": "code",
   "execution_count": 2,
   "id": "d0d9e0ec-1abb-4413-a3f6-5bbe1a6d71a1",
   "metadata": {},
   "outputs": [],
   "source": [
    "%load_ext autoreload\n",
    "%autoreload 2"
   ]
  },
  {
   "cell_type": "code",
   "execution_count": 3,
   "id": "84f518c7-834e-4aa8-b922-9e939dbf0c26",
   "metadata": {},
   "outputs": [],
   "source": [
    "import numpy as np\n",
    "from ganime.data.base import load_dataset\n",
    "from ganime.model.p2p.p2p_test import P2P\n",
    "import tensorflow as tf\n",
    "from tqdm import tqdm\n",
    "tf.get_logger().setLevel('ERROR')"
   ]
  },
  {
   "cell_type": "code",
   "execution_count": 4,
   "id": "22037684-cd33-41c0-a5dd-80b89eb18964",
   "metadata": {},
   "outputs": [
    {
     "name": "stderr",
     "output_type": "stream",
     "text": [
      "2022-05-06 02:24:34.419064: I tensorflow/core/platform/cpu_feature_guard.cc:151] This TensorFlow binary is optimized with oneAPI Deep Neural Network Library (oneDNN) to use the following CPU instructions in performance-critical operations:  AVX2 FMA\n",
      "To enable them in other operations, rebuild TensorFlow with the appropriate compiler flags.\n",
      "2022-05-06 02:24:34.802990: I tensorflow/core/common_runtime/gpu/gpu_device.cc:1525] Created device /job:localhost/replica:0/task:0/device:GPU:0 with 14252 MB memory:  -> device: 0, name: NVIDIA RTX A4000, pci bus id: 0000:25:00.0, compute capability: 8.6\n"
     ]
    }
   ],
   "source": [
    "train_ds, test_ds, input_shape = load_dataset(\"moving_mnist_vae\", \"../../../data\", batch_size=100)# * strategy.num_replicas_in_sync)"
   ]
  },
  {
   "cell_type": "code",
   "execution_count": 5,
   "id": "7b1a29c6-d327-496b-9b69-10c4d5682eaf",
   "metadata": {},
   "outputs": [],
   "source": [
    "train_ds_iterator = train_ds.as_numpy_iterator()\n",
    "x = next(train_ds_iterator)"
   ]
  },
  {
   "cell_type": "code",
   "execution_count": 8,
   "id": "694f2d3d-26ab-4548-be93-82b72829326a",
   "metadata": {},
   "outputs": [],
   "source": [
    "#with strategy.scope():\n",
    "model = P2P(z_dim=10)"
   ]
  },
  {
   "cell_type": "code",
   "execution_count": 12,
   "id": "61fb7225-2ea6-47b8-a1f0-58f11a899249",
   "metadata": {
    "tags": []
   },
   "outputs": [
    {
     "name": "stdout",
     "output_type": "stream",
     "text": [
      "Epoch 1/5\n"
     ]
    },
    {
     "data": {
      "application/vnd.jupyter.widget-view+json": {
       "model_id": "4c9cf310f7d5480a9c1698900378b6b2",
       "version_major": 2,
       "version_minor": 0
      },
      "text/plain": [
       "  0%|          | 0/19 [00:00<?, ?it/s]"
      ]
     },
     "metadata": {},
     "output_type": "display_data"
    },
    {
     "data": {
      "application/vnd.jupyter.widget-view+json": {
       "model_id": "26c1676c86ed4afd919d9bc90ec74637",
       "version_major": 2,
       "version_minor": 0
      },
      "text/plain": [
       "  0%|          | 0/19 [00:00<?, ?it/s]"
      ]
     },
     "metadata": {},
     "output_type": "display_data"
    },
    {
     "name": "stdout",
     "output_type": "stream",
     "text": [
      "90/90 [==============================] - 85s 341ms/step - loss: 0.5229 - reconstruction_loss: 0.4680 - kl_loss: 0.6395 - align_loss: 0.3178 - cpc_loss: 0.0425\n",
      "Epoch 2/5\n",
      "90/90 [==============================] - 31s 344ms/step - loss: 0.4756 - reconstruction_loss: 0.4679 - kl_loss: 0.0015 - align_loss: 0.0468 - cpc_loss: 0.0423\n",
      "Epoch 3/5\n",
      "90/90 [==============================] - 31s 347ms/step - loss: 0.4664 - reconstruction_loss: 0.4679 - kl_loss: 3.8745e-07 - align_loss: 0.0086 - cpc_loss: 0.0424\n",
      "Epoch 4/5\n",
      "90/90 [==============================] - 31s 348ms/step - loss: 0.4688 - reconstruction_loss: 0.4679 - kl_loss: 1.5735e-07 - align_loss: 0.0086 - cpc_loss: 0.0426\n",
      "Epoch 5/5\n",
      "90/90 [==============================] - 32s 349ms/step - loss: 0.4702 - reconstruction_loss: 0.4679 - kl_loss: 1.3959e-07 - align_loss: 0.0086 - cpc_loss: 0.0426\n"
     ]
    }
   ],
   "source": [
    "#with strategy.scope():\n",
    "model.compile(frame_predictor_optimizer=tf.keras.optimizers.Adam(learning_rate=0.002, beta_1=0.9, beta_2=0.999, epsilon=1e-8),\n",
    "             posterior_optimizer=tf.keras.optimizers.Adam(learning_rate=0.002, beta_1=0.9, beta_2=0.999, epsilon=1e-8),\n",
    "             prior_optimizer=tf.keras.optimizers.Adam(learning_rate=0.002, beta_1=0.9, beta_2=0.999, epsilon=1e-8),\n",
    "             encoder_optimizer=tf.keras.optimizers.Adam(learning_rate=0.002, beta_1=0.9, beta_2=0.999, epsilon=1e-8),\n",
    "             decoder_optimizer=tf.keras.optimizers.Adam(learning_rate=0.002, beta_1=0.9, beta_2=0.999, epsilon=1e-8),)\n",
    "\n",
    "history = model.fit(train_ds, epochs=5)"
   ]
  },
  {
   "cell_type": "code",
   "execution_count": 13,
   "id": "cabe14bb-2208-4417-a2d8-374e55e8ce18",
   "metadata": {},
   "outputs": [],
   "source": [
    "from ganime.visualization.videos import display_videos\n",
    "generated = model(x[0])"
   ]
  },
  {
   "cell_type": "code",
   "execution_count": 14,
   "id": "1cf28f03-c82f-4ba5-8bd2-db35cd958f12",
   "metadata": {},
   "outputs": [
    {
     "data": {
      "text/html": [
       "<video width=\"432\" height=\"288\" controls autoplay loop>\n",
       "  <source type=\"video/mp4\" src=\"data:video/mp4;base64,AAAAIGZ0eXBNNFYgAAACAE00ViBpc29taXNvMmF2YzEAAAAIZnJlZQAAGd9tZGF0AAACrgYF//+q\n",
       "3EXpvebZSLeWLNgg2SPu73gyNjQgLSBjb3JlIDE2NCByMzA5NCBiZmM4N2I3IC0gSC4yNjQvTVBF\n",
       "Ry00IEFWQyBjb2RlYyAtIENvcHlsZWZ0IDIwMDMtMjAyMiAtIGh0dHA6Ly93d3cudmlkZW9sYW4u\n",
       "b3JnL3gyNjQuaHRtbCAtIG9wdGlvbnM6IGNhYmFjPTEgcmVmPTMgZGVibG9jaz0xOjA6MCBhbmFs\n",
       "eXNlPTB4MzoweDExMyBtZT1oZXggc3VibWU9NyBwc3k9MSBwc3lfcmQ9MS4wMDowLjAwIG1peGVk\n",
       "X3JlZj0xIG1lX3JhbmdlPTE2IGNocm9tYV9tZT0xIHRyZWxsaXM9MSA4eDhkY3Q9MSBjcW09MCBk\n",
       "ZWFkem9uZT0yMSwxMSBmYXN0X3Bza2lwPTEgY2hyb21hX3FwX29mZnNldD0tMiB0aHJlYWRzPTkg\n",
       "bG9va2FoZWFkX3RocmVhZHM9MSBzbGljZWRfdGhyZWFkcz0wIG5yPTAgZGVjaW1hdGU9MSBpbnRl\n",
       "cmxhY2VkPTAgYmx1cmF5X2NvbXBhdD0wIGNvbnN0cmFpbmVkX2ludHJhPTAgYmZyYW1lcz0zIGJf\n",
       "cHlyYW1pZD0yIGJfYWRhcHQ9MSBiX2JpYXM9MCBkaXJlY3Q9MSB3ZWlnaHRiPTEgb3Blbl9nb3A9\n",
       "MCB3ZWlnaHRwPTIga2V5aW50PTI1MCBrZXlpbnRfbWluPTEwIHNjZW5lY3V0PTQwIGludHJhX3Jl\n",
       "ZnJlc2g9MCByY19sb29rYWhlYWQ9NDAgcmM9Y3JmIG1idHJlZT0xIGNyZj0yMy4wIHFjb21wPTAu\n",
       "NjAgcXBtaW49MCBxcG1heD02OSBxcHN0ZXA9NCBpcF9yYXRpbz0xLjQwIGFxPTE6MS4wMACAAAAT\n",
       "DGWIhAAR//73iB8yy2n5OtdyEeetLq0fUO5GcV6kvf4gAAADABacmUP7YcdOWsNAAEKAAIWNXv7a\n",
       "D/MARg5cZ9uZbtFL+bv8IvgpdPDH0Vp2oaZHdwRogGecR4ZWNzCXDE4MbtsNOwz4+3kSo5t0Nbvh\n",
       "PmXak1HBuPmqn4+COQMhOa4xo4CfB4EScrre/NTZkXJx/u12LO9YvG4DfWixpd058uL8sJNGDgGN\n",
       "+vqRGe/jOc7+L9qpkKQ/x3I/NUZ9I4nVSTOW7mw3L+/q/WEQJZZ/HYtU6lZYYLDus8OoDdvLv10V\n",
       "at6DJ7vs+1Q4Sa+zzyFf0PcLvC3TsSrsxyBn7kduH3R+ONPLW8q7Il+NquoS6qd9ZQo0DQRhhcvJ\n",
       "fE8rTzVYBrzQ3Df/RjdKb3MSfhqBCwzJHjvOyM+khNw1SyRzHi8EPk37cD+TYd6qIFI+WsK8PBjc\n",
       "ErJKsFBm+BkxAPEmHfSsYDt35NyF7circECANNVH4TAkpVLfcKzY20c4G2l/S2u/5oAWOgSyiDNE\n",
       "N4aUGYZfy3u+1BePfm2+lyZwQNehIM/xzx3N26nmA729OvrQVxohjirRKAaJgRQRIM70WR4f+KXu\n",
       "eEnAAhplVcltOP/0AyOKhgXpC3RY3/aHTEuufrmvAEaGi6F6LT3Udc1PlBJZqUrZACq2b0f+zFEK\n",
       "rJU783Vch1pa9KLA9UgoeMM6gOGDjxNwxfRlcv2rHXUn8Yg9OMBPnizZeQ/iaKFFh01a9MqF+R3C\n",
       "5gqrUqIIDUQIWUFAtypQ3mI/wKGVy5YqJhQAPYGogGbDnAdIhi753v/4wGv8AHZC5fqvVHytc0AB\n",
       "AJv9jP9EPIERsbixZB9CrN7uqtZFZXbF1nUtXHKm4uAsNALx1THBq5n0E4ww6VqsaDAI7/t1e5fF\n",
       "W469XH7tUoIhcYsWmSXKxyTPU+6rl0Tr+MAL5wmqzRAteovb/iaaXUnrrlFvaZHCwJOQdzzfjYOa\n",
       "E1n2KpVObPJ/jUi3IvUC8sNjUhyvzyCeNjMsUoUPYGHZzaOAZYHMjEfsRW3aagSg0U+ntlD6lZZh\n",
       "mC7xw4jWmIpUy+Zc9/m9Oa9xdx0bEEwgSixuPnVP/2yBpOMyuJZM6tIagTzr5rgOup7cpNxhvsFz\n",
       "B+ZDRCgAZGoc3/P0+mOtInZh4Lv0gr80sO98zxdAwJaHyVNjurVsux1fWVznezFK91qKQIdZl2hL\n",
       "KOS9eNpBUCLwYXpF0UYgKtThfx/d/zer4zEwAdW2KTpNhmCifrxu8/+L6iWcWC2/lk+iThB4LrSD\n",
       "LLsiLJ603y0V+IAcqNFjHXqSgmp49jws/IE6tpNtEzWiIuiInyMzvpSzvuOCAfHaPfAEbiYNO20s\n",
       "2c3tc5gONO7keghV1bPEOBYleqCA0aNO4YfihyA9y8c+LRdeDWo5141OoE5yaSWd2j21YJ4lukhW\n",
       "RXP4wPSdJpWGE05mE8EHpcXpqEm0EuaPi7RVsgyfPOiXp1GRpuS0UKfqM95fvMFBzvnjPVcEreOx\n",
       "iCBzdnxxtpulw/raDazNlJfTi5R3DiPsux3eEmZsmr2DxJQTcHJnYLXpMTHUv7A6tO4oapuL46/D\n",
       "OZWJ4oO2uneU5dHm9Xf3D6BbsPk9ea6mlJbnkOy5ieDoBETxrICblHvWOcktYTbit0q52julzNr+\n",
       "bR5pRWmWixoGAy0IxUBZe5n+icZAA7BbAyGVF0RJ/v8VALZmmzfSNfOfwKq4FOrQWN6qfOUIfFri\n",
       "+YzMQ4xpXQ3q8s4Xgu7LxiHzKYFfh+o5eZzLTZdGmP1XGVFoLiGzP8RWYI5CCbfb13Fj2AHiNjif\n",
       "ylzhUiflWkQ3aloHK20QbrAiqxHjXWJYOQl677ZkFH4ypn01qMLBdPg9F8Ox3/kzF7ceL1qtcOqF\n",
       "HgL7Y2mQl6u9VzWUx3bSyihRrk6+dlnNwS34BAB8SlIxJ6SX+x61XaoG9tz/26G0SV6v7SRgRQIL\n",
       "grdPTPYpZMo3YzvnfCWnoe+72IyIDEKe8JZHT7gXH6h5DLtC/y1rEHjWMF7BsZGtoc/wuW6sVuyo\n",
       "LUqyin9BnlfsPXpo9zLgCLB3ttOAd2vUR2GYrquAmjKWlWpvJw9+8bgWFxCxID56zYuE2sz51DYt\n",
       "Q3BMOrkdEPkqdAG4F03AVIkWi7M7MKSWEDI/V8iJe9NlodAbBRY3BxRUhKrzEtvQY8SOFRM88/Ga\n",
       "0fG6no+hbZRCFY1BzfGVjenBDLXBoEml1U5fAw1gp5qm9ilVKPrpRFyq2mrsQSibz6+PWVrTZwUb\n",
       "uwf7kcCGMLW3l/ixLjAP2cyO8t79sEhoJdr5nmdFvZGhQ6DcI3IoL4eqAsm8PMluvyYKgQTVrgcu\n",
       "I0HoPfwPN+Lkzf8oWT68anUCc5NHbWHv6EEAuMF4rkgZNkOFmVgESe96mowZCHfI/ElAuC4C3MoW\n",
       "msOBN5TDHp4xjNU/zKRzVJ5K955eFdBDaaXFtXhdILhw249Z2dbA+fJKKueYJDvsv6kz6lS/hI36\n",
       "xBb3MwF13q839GKnX4dtEk+4SBJh3E0TBovjAUQPCxMSKi/Tejr92EQFZrS5Tw+0FlOkmb+wVuEf\n",
       "OLLJBRzDRp5huli5bjPYSP1RPQTJ5soUDGbia5n2TfusZWN2Yd9am6OkZG8sc/z7GgvAwMYCJ9ZP\n",
       "eywYambACXJKwVVKABM/kyUcQ0phEj0f/pMkQSyxxYXjCIfyqL6KAKCO6QFrpD+heCxsZP9eNdPY\n",
       "YnfGE0sK0Uvgg2eylCyo0chaH9AF1BBotvj5/QKG+fT0i7tJwvobOWXUhBy36ZctQ10LYupJ5gDJ\n",
       "LQ/ptObjiCRDKPFtELsj/OynDuQNzGmDZfzke4gV2+J4y04o6q47PdFo7HCfSWpyGeG7a4tiLA8c\n",
       "ofa8X2ho8nIGY1sb/JePHAO5e7NLPhH8/3Xdd+dEP1zv27OfD9bILdv5v5iwsFc+qqddJlS32gKE\n",
       "EnB1ngA4l6+T8+CagBTwx3H+CqGVKQRjA3fFxTo0ULIOSmcHbxFzEWZzJn9uZ5pHahWMTcilalkf\n",
       "Zz/Q+ZepuwEsjYZ/VB+03TKc5Rj24GS1OJbvRrv5M0D/8qT85ZzCbf3kOQzFnxoGqZHeC7Ycd2ZA\n",
       "euPgqEdmsULyOTKf3v86s4nzovPaxZPfN8lOV+7sjmRU5ttGBVkzNRwChcD9ES4/vDLyFmO0qerc\n",
       "jida4h4cyANMs4HhQ1FCuaUlrLk0I5IdDgifZJq87K6Stdxy9sC4vf14U7ZEOfg9jFxKOA51m+WP\n",
       "zQy7N+nKaYmzELWme/ue/l7AEYA2My8LtULGrJIunJBcoUn77PMTiR0eMYrOGsFekXGnZIOUGph0\n",
       "+wFGk7Vu+oq836cbKDc6DXcWb5P0FgqkTMfFUDbXvFzFfqE5r4ij9vb9N2lZF62yMBYLJ4STsk7D\n",
       "zM8Ju7yCH3BOnXc9C1LMOpMqowrqGT4dAIYUZRvAUPn6oNxU2ZV37iPcvrjGbWYpZEBtiQyG2Y4+\n",
       "2IUEfPnT9cOG1jrCLutb1WTm2yhVfFFMlahtBtYWQkg7LGAjQ7h/CQYP6EJtNfFuW9eMlfLoqs+8\n",
       "oq8PUHiiSKzFh8vkHJOnZ2ZOImzfKvA41xeW8qP3KNseYs/JXmJCfh/oLfL2y7h/zZxmU28wUQUq\n",
       "xJAagIdME/Uih8axbA/+R/nY1sWdoIzIn5FBNdMtTVZE+3Q3jXRpZiSQ/Tkl5hccjG5k5qEslmIY\n",
       "03VhbonrFgXp5DH+ot2Sht5ko/CE2K+adTak4bsDTtN/lKO7R6WbiGU49sf6+NYhNGvVmTXYrB7S\n",
       "dDIg8oxwLbt/fhxH449amMuqC1L6cIEbylnrUSnW4x/BvLPB/WMxCqHVPufMNUMgIxt08+pdeAoT\n",
       "QWjEhsyFA7sl/S9+YOYQ2HYMluKbi9mvqR/vlo36kKOSCv02+08oGj9epfN0jwsbFxMbqDft+YIJ\n",
       "rPWagCr99tBrKJ3hqrALjfTs4uzUM5oPbp0JGZiD8DwYGdCkPxNP89edF0YmDHztlMLzCKBlzQof\n",
       "Uf/2J5STh3vPQXzPWuzzHuTgBDo7Wk4JxY5aLCCofbkhK/FrMg/FbNRwwAolK8/Xk/5r2a6YOmoG\n",
       "96qSXFrIUkymGrmOD0rHUgDmhEGTL8ewpP1WZ3xCKfso3EJTLHddyMJ6Fw/VyzEhyUZymhp/HMIk\n",
       "WlA42tfVQYnI81GRj3benP3TPxPnDQZYbCCKEF8HJOnQkI6ttHdGecZXE/HwdYcp3EnEmQ0jRO9m\n",
       "wehy1xQnRyBTYDWKyY6/dcfkDXjMS1dwRWcM5SZIguRWfX51n6SxyCo2ZXerdEtHEzK/b+Dlgt2E\n",
       "ezex35EXFepXAHmO4Gh20qBXv9qquUPTLojmD+9sLJ5m29Trd+mMES0ObJQLjjt6WjESn5NLuS3t\n",
       "UOkHfg164WifcxIF5T/IyNJwD4p4Oq8MJRuhKKT9n9iRo0ZY7/uUevfB/kVnjDZ9cE+rSxHA1MYt\n",
       "6retTNU5CGMAHAlllBbCWRPU0DPbrzV+jE5i9+bt7GI0CA0H301HzpBtQx3m6t58v1hjygaP/lWh\n",
       "SwDfBoA1VfVcG3d6ZeJ1MK/ajpYAncjppJ9AWT3XjADcg5M6UwXNAtAkfH7QR6ovY6dXA0Brh/eJ\n",
       "Th3EcWYMHDpQSU5Gz+dbqfw/V5u+pWUjHFGdL6/Kmfz8e5tN7S7p+DonmRJBq58lSRj7kI9otrv6\n",
       "/j1p660RFVG2jUZokEaBk+8uPijoe01oqk0TrfJmNyhUwV/95v5gkOgOYFnk2vEzaEChjMrqkunj\n",
       "xYZlOeMXM6e03sfSnTOK/2ICPwS0E2U5hcWLYWxwuCoG5SJBEkhhFcX+REasFgLpguTSCSxnumNQ\n",
       "1UejNxFAv60vj0MQSU2+Q9zeS+opAByyAjLGFPp+gybALRHctBMyiEDxC2rsSnXJ5dgVd24esb21\n",
       "KF6gJC3rL0wm0pbAII3WiwNfKRwiqnQpYoxuYQ0ROaFjlrX2n4HyZ/umvDPpErQLDYSBYTJAXAQ5\n",
       "4PngueLst7ZWcyOIfD8Cp4N7aOdbpW2BMepWckEcvrmpoVggAQuozkJXh/db+FeU4l7cdXo2Smm9\n",
       "jcHrgl0nxBKBF3lOwL6TllI47ME/wAAN7Bh5ym8Vy7Kxtt24WJ5LWVWoGR7kq8i1WwaAkCzL/sfe\n",
       "uriNYKuHn3V++4wQwcPHFI5P3jMYqQdJ7AoTqO5Tt4wGalqiNirCxSE8dot2FCvG5un4BoR0N6iH\n",
       "wVZTBouS/iREuP+U0SGqCve85QjBdjjosLnvfDNF0Dce25wUAJUw5QzjEpcInFR2miNAfSbsQL8l\n",
       "dU/8Pe7hfC3mGW9GOJbq/CVyYBjMt+kwgc1Wj/OZ11hf6zesq3lYry1s3JQT0qQyeerEtWe4ANyM\n",
       "oy/rt+SzVqwzlFCuKds+eCsHtQdqtrK2NdR6xNC0d/7caQ9aQ8nRDEBY0vmgGLMfPVKQTs0LViBQ\n",
       "YSheKnDNWkT7fgLFThb5FKTUrAUxIKFuQ7nSAZeit7FhVWjqtD8YNTYRRUX63QRE7ougRTpqR6Eg\n",
       "lMKOaZhsrvBDdLhtyKGEc0219CYvUdo9mHBg8wY641ruajOicovW9oy7eobXaSWpHed+zUKX81IR\n",
       "2FVoEbUMputDsKiGa8MPiREr5GA2T4qxzkpVmBU/Zrg4CBa8axHHfDZlhD1hwmzys1/eRgKTOyEA\n",
       "xbEKPGntBQ+TG+hEmjokdcRq4Fdo0KqTcDZ2ygjRsQ2LUPgSHcniUwfzDB0Zr6QJ9dNPDJYLtQnq\n",
       "/Pzy0XdWfu9fMseOsfoEHv4wPBU736E/Uoq//+qb2/qyfqNOpvMC1npCd/+B1Pu4H4fv14vd1FUT\n",
       "NcxN2a0kfPHu37MA+5e1kyFO8mQ85ixiLcj0arWSfOAdCaQBDsw5al6IQ48eIg6t/95jLm1/D1Ar\n",
       "c9arOxqPWp1+wFHeoIzQV8N6NO9KVKi/69cloPNFwulYBRDyl7xL1G1P5yv6zHJorOj6yHvuK320\n",
       "6TpcbK+/7X4HG8R1cRuuwzjgDiO0Qdjln3Xw+OnqjZbGKPh1LKF9KbXdenxrBFP/nj1+fpkmVxtw\n",
       "hbDUoeO01FRQLEu2Cvm8hQdZiXwD0nEhJyQuUdKXB62NI+uXXFWbJgz+yonnyyHiqJ0Fli/mbIr2\n",
       "JZVQ+BcVuo7459kYv7RCtKUDId3lLTqpMCr/Mr/vYRRy+KBHUdKoGltB2yXjnE0AbqOTWkzmYso2\n",
       "gz5FL8zy8SC6SwC3gOHGQQ07OuzzUZquTHwAErfKqfnYQt1kt0GIvIHDICD/6fHfzzHihIOl3mGV\n",
       "1LUsI2A9w7U5gqEIiHn3mcDkrkAUE8IzgUtbuPwnI+8RaTS9Tvem1IhmVl3BqeS/D4qUIPX+ZRLQ\n",
       "f1L9gPXbBZ81XjxPxu7+BE2eKJQX6DCpdl/e7v1RN/sYjQNHlg/5J0NA3fXNA5TqnoU+Gp4/qG0R\n",
       "7JL8zJySX8hz0rd3df0zgMOC23KygAAAAwAAAwAAYcEAAADpQZokbEEf/rUqgAb75w0AGs75ecSm\n",
       "ejuicm/ljzumftNArE4D3UR/H6CEUxZSpgRWRy/MSstGxHjtoNLOSH8xySiAWTulI2vWhI7oj/5s\n",
       "PjAtldLwWUBztREUxsGecpwOANyGKAB4qwu/yvzYw1UgZ+SECGvFdkqdmsZ/rwWKxlH6BFCKm3fv\n",
       "mQ4AshL3M9lQ6jg7r/PjQ77bFVhpCk/4H7BSA9FtBYWEBwBLgHUIsmoRLsQXuhom3K0j4EasXm3S\n",
       "ZOx9ye3rIs9uv/cd67TbEQMPe4eTwQOVR6PBLb++swNCXtshSm+AlYAAAABMQZ5CeId/ABrt7sAC\n",
       "E8NioBtY6lMEPkZ9tyLXq7qUmZ1b1/YqXHC2GdPLxd4lMvhgHAsfF/nk/rJtKRqCHJdAFa8eVidJ\n",
       "W5oIASWivwAAAEUBnmF0Q38AO2fM4Lp5rlg6YzHeARs8tmgE2PTsuBYqODpUgm7+p/um43izr0V9\n",
       "PDFbNla27l15lrc+lY8i4UBWD5jggbMAAAAqAZ5jakN/ADtdxZiBHM1HzvK39T2nPSxzSW+2gbbu\n",
       "ygo1aXz9eTvUPcXRAAAAJ0GaaEmoQWiZTAgj//61KoAG++cNABrO+XnEpno7onJv5UabUsBSQQAA\n",
       "AC1BnoZFESw7/wAa7e7AAhPDYqAbWOpTBD5GbHqeR8DA4/MnNhXtdhPMDraoEvEAAAAjAZ6ldEN/\n",
       "ACZSWkggN4mOv+AQdPFUp5EU8O9s9okpe4QAJuEAAAAkAZ6nakN/ACZSWkggN4mOv+AQdPFUp5K4\n",
       "63BleMaxSxxB4HzAAAAAJkGarEmoQWyZTAgh//6qVQAN98VwAEKavjIPk2bEFVWMda+1LAUkAAAA\n",
       "LEGeykUVLDv/ABrt7sACE8NioBtY6lMEPkZsep5HwMz6P9pgaMwna7iyAGzBAAAAIwGe6XRDfwAm\n",
       "UlpIIDeJjr/gEHTxVKeRFPDvbPaJKXuEACbgAAAAJAGe62pDfwAmUlpIIDeJjr/gEHTxVKeSuOtw\n",
       "ZXjGsUscQeB8wAAAACZBmvBJqEFsmUwIf//+qZYANp8PYAEKakKfOEDaoBLZwKqNsjAgYQAAACxB\n",
       "nw5FFSw7/wAa7e7AAhPDYqAbWOpTBD5GbHqeR8DM+j/aYGjMJ2u4sgBswQAAACMBny10Q38AJlJa\n",
       "SCA3iY6/4BB08VSnkRTw72z2iSl7hAAm4QAAACQBny9qQ38AJlJaSCA3iY6/4BB08VSnkrjrcGV4\n",
       "xrFLHEHgfMAAAAAiQZszSahBbJlMCG///qeEAGx95r3IbFzqjup/VOGlsxgYEAAAACBBn1FFFSw3\n",
       "/wAmsZKRhsMEnepqW8hQuNxCKVu9U62DuwAAABYBn3JqQ38ADYF4AsucoLZMAelM8ZBAAAAEGm1v\n",
       "b3YAAABsbXZoZAAAAAAAAAAAAAAAAAAAA+gAAAfQAAEAAAEAAAAAAAAAAAAAAAABAAAAAAAAAAAA\n",
       "AAAAAAAAAQAAAAAAAAAAAAAAAAAAQAAAAAAAAAAAAAAAAAAAAAAAAAAAAAAAAAAAAAAAAAIAAANE\n",
       "dHJhawAAAFx0a2hkAAAAAwAAAAAAAAAAAAAAAQAAAAAAAAfQAAAAAAAAAAAAAAAAAAAAAAABAAAA\n",
       "AAAAAAAAAAAAAAAAAQAAAAAAAAAAAAAAAAAAQAAAAAGwAAABIAAAAAAAJGVkdHMAAAAcZWxzdAAA\n",
       "AAAAAAABAAAH0AAACAAAAQAAAAACvG1kaWEAAAAgbWRoZAAAAAAAAAAAAAAAAAAAKAAAAFAAVcQA\n",
       "AAAAAC1oZGxyAAAAAAAAAAB2aWRlAAAAAAAAAAAAAAAAVmlkZW9IYW5kbGVyAAAAAmdtaW5mAAAA\n",
       "FHZtaGQAAAABAAAAAAAAAAAAAAAkZGluZgAAABxkcmVmAAAAAAAAAAEAAAAMdXJsIAAAAAEAAAIn\n",
       "c3RibAAAALdzdHNkAAAAAAAAAAEAAACnYXZjMQAAAAAAAAABAAAAAAAAAAAAAAAAAAAAAAGwASAA\n",
       "SAAAAEgAAAAAAAAAAQAAAAAAAAAAAAAAAAAAAAAAAAAAAAAAAAAAAAAAAAAAABj//wAAADVhdmND\n",
       "AWQAFf/hABhnZAAVrNlBsJaEAAADAAQAAAMAUDxYtlgBAAZo6+PLIsD9+PgAAAAAHHV1aWRraEDy\n",
       "XyRPxbo5pRvPAyPzAAAAAAAAABhzdHRzAAAAAAAAAAEAAAAUAAAEAAAAABRzdHNzAAAAAAAAAAEA\n",
       "AAABAAAAqGN0dHMAAAAAAAAAEwAAAAEAAAgAAAAAAQAAFAAAAAABAAAIAAAAAAEAAAAAAAAAAQAA\n",
       "BAAAAAABAAAUAAAAAAEAAAgAAAAAAQAAAAAAAAABAAAEAAAAAAEAABQAAAAAAQAACAAAAAABAAAA\n",
       "AAAAAAEAAAQAAAAAAQAAFAAAAAABAAAIAAAAAAEAAAAAAAAAAQAABAAAAAABAAAQAAAAAAIAAAQA\n",
       "AAAAHHN0c2MAAAAAAAAAAQAAAAEAAAAUAAAAAQAAAGRzdHN6AAAAAAAAAAAAAAAUAAAVwgAAAO0A\n",
       "AABQAAAASQAAAC4AAAArAAAAMQAAACcAAAAoAAAAKgAAADAAAAAnAAAAKAAAACoAAAAwAAAAJwAA\n",
       "ACgAAAAmAAAAJAAAABoAAAAUc3RjbwAAAAAAAAABAAAAMAAAAGJ1ZHRhAAAAWm1ldGEAAAAAAAAA\n",
       "IWhkbHIAAAAAAAAAAG1kaXJhcHBsAAAAAAAAAAAAAAAALWlsc3QAAAAlqXRvbwAAAB1kYXRhAAAA\n",
       "AQAAAABMYXZmNTkuMTYuMTAw\n",
       "\">\n",
       "  Your browser does not support the video tag.\n",
       "</video>"
      ],
      "text/plain": [
       "<IPython.core.display.HTML object>"
      ]
     },
     "execution_count": 14,
     "metadata": {},
     "output_type": "execute_result"
    }
   ],
   "source": [
    "display_videos(generated, n_rows=1, n_cols=2)"
   ]
  },
  {
   "cell_type": "code",
   "execution_count": 10,
   "id": "25a6cb51-d19a-43ab-8f15-f7811774ccd0",
   "metadata": {},
   "outputs": [
    {
     "data": {
      "text/plain": [
       "(100, 64, 64, 1)"
      ]
     },
     "execution_count": 10,
     "metadata": {},
     "output_type": "execute_result"
    }
   ],
   "source": [
    "x[0][:,0,...].shape"
   ]
  },
  {
   "cell_type": "code",
   "execution_count": 11,
   "id": "c1a14d76-e3d0-4583-9c6a-38ff460c2437",
   "metadata": {},
   "outputs": [],
   "source": [
    "h, skip = model.encoder(x[0][:,0,...])\n",
    "global_z, _ = model.encoder(x[0][:,-1,...])"
   ]
  },
  {
   "cell_type": "code",
   "execution_count": 12,
   "id": "9fd1ce82-3cb0-4714-b4c2-922d47a6b8f4",
   "metadata": {},
   "outputs": [],
   "source": [
    "time_until_cp = tf.fill([100, 1], (19 - 1 + 1) / 19)\n",
    "delta_time = tf.fill([100, 1], ((1 - 0) / 19))"
   ]
  },
  {
   "cell_type": "code",
   "execution_count": 13,
   "id": "2a8c91da-95a5-4e3d-8926-52a302f72239",
   "metadata": {},
   "outputs": [],
   "source": [
    "h_cpaw = tf.concat([h, global_z, time_until_cp, delta_time], axis=-1)"
   ]
  },
  {
   "cell_type": "code",
   "execution_count": 14,
   "id": "1bfebd68-73c6-47bd-9542-b401f6013638",
   "metadata": {},
   "outputs": [],
   "source": [
    "zt_p, _, _ = model.prior(h_cpaw)"
   ]
  },
  {
   "cell_type": "code",
   "execution_count": 15,
   "id": "186fa751-c10a-40e4-8a9f-aa44d8718789",
   "metadata": {},
   "outputs": [],
   "source": [
    "h = model.frame_predictor(\n",
    "    tf.concat([h, zt_p, time_until_cp, delta_time], axis=-1)\n",
    ")"
   ]
  },
  {
   "cell_type": "code",
   "execution_count": 16,
   "id": "a5b06107-47c2-4ea1-a063-b1e61599027f",
   "metadata": {},
   "outputs": [
    {
     "data": {
      "text/plain": [
       "0.0"
      ]
     },
     "execution_count": 16,
     "metadata": {},
     "output_type": "execute_result"
    }
   ],
   "source": [
    "model.decoder([tf.ones_like(h), [tf.ones_like(s) for s in skip]]).numpy().mean()"
   ]
  },
  {
   "cell_type": "code",
   "execution_count": 17,
   "id": "b436bdd7-961c-425c-8153-a819ecfb83cd",
   "metadata": {},
   "outputs": [
    {
     "data": {
      "text/plain": [
       "0.0"
      ]
     },
     "execution_count": 17,
     "metadata": {},
     "output_type": "execute_result"
    }
   ],
   "source": [
    "model.decoder([h, skip]).numpy().mean()"
   ]
  },
  {
   "cell_type": "code",
   "execution_count": null,
   "id": "111209b6-0c4b-4b2a-b8c4-575920dac5ec",
   "metadata": {},
   "outputs": [],
   "source": []
  }
 ],
 "metadata": {
  "kernelspec": {
   "display_name": "Python 3 (ipykernel)",
   "language": "python",
   "name": "python3"
  },
  "language_info": {
   "codemirror_mode": {
    "name": "ipython",
    "version": 3
   },
   "file_extension": ".py",
   "mimetype": "text/x-python",
   "name": "python",
   "nbconvert_exporter": "python",
   "pygments_lexer": "ipython3",
   "version": "3.8.10"
  }
 },
 "nbformat": 4,
 "nbformat_minor": 5
}
