{
 "cells": [
  {
   "cell_type": "code",
   "execution_count": 1,
   "id": "c1df7df1-919b-4942-afc2-48962dedb126",
   "metadata": {},
   "outputs": [
    {
     "name": "stdout",
     "output_type": "stream",
     "text": [
      "env: CUDA_DEVICE_ORDER=PCI_BUS_ID\n",
      "env: CUDA_VISIBLE_DEVICES=1\n"
     ]
    }
   ],
   "source": [
    "%env CUDA_DEVICE_ORDER=PCI_BUS_ID\n",
    "%env CUDA_VISIBLE_DEVICES=1"
   ]
  },
  {
   "cell_type": "code",
   "execution_count": 2,
   "id": "d0d9e0ec-1abb-4413-a3f6-5bbe1a6d71a1",
   "metadata": {},
   "outputs": [],
   "source": [
    "%load_ext autoreload\n",
    "%autoreload 2"
   ]
  },
  {
   "cell_type": "code",
   "execution_count": 3,
   "id": "84f518c7-834e-4aa8-b922-9e939dbf0c26",
   "metadata": {},
   "outputs": [],
   "source": [
    "import numpy as np\n",
    "from ganime.data.base import load_dataset\n",
    "from ganime.model.p2p.p2p_test import P2P\n",
    "import tensorflow as tf\n",
    "from tqdm import tqdm\n",
    "tf.get_logger().setLevel('ERROR')"
   ]
  },
  {
   "cell_type": "code",
   "execution_count": 4,
   "id": "22037684-cd33-41c0-a5dd-80b89eb18964",
   "metadata": {},
   "outputs": [
    {
     "name": "stderr",
     "output_type": "stream",
     "text": [
      "2022-05-03 07:52:36.725381: I tensorflow/core/platform/cpu_feature_guard.cc:142] This TensorFlow binary is optimized with oneAPI Deep Neural Network Library (oneDNN) to use the following CPU instructions in performance-critical operations:  AVX2 FMA\n",
      "To enable them in other operations, rebuild TensorFlow with the appropriate compiler flags.\n",
      "2022-05-03 07:52:37.111645: I tensorflow/core/common_runtime/gpu/gpu_device.cc:1510] Created device /job:localhost/replica:0/task:0/device:GPU:0 with 14264 MB memory:  -> device: 0, name: NVIDIA RTX A4000, pci bus id: 0000:25:00.0, compute capability: 8.6\n"
     ]
    }
   ],
   "source": [
    "train_ds, test_ds, input_shape = load_dataset(\"moving_mnist_vae\", \"../../data\", batch_size=100)# * strategy.num_replicas_in_sync)"
   ]
  },
  {
   "cell_type": "code",
   "execution_count": 5,
   "id": "7b1a29c6-d327-496b-9b69-10c4d5682eaf",
   "metadata": {},
   "outputs": [
    {
     "name": "stderr",
     "output_type": "stream",
     "text": [
      "2022-05-03 07:52:38.239689: I tensorflow/compiler/mlir/mlir_graph_optimization_pass.cc:185] None of the MLIR Optimization Passes are enabled (registered 2)\n"
     ]
    }
   ],
   "source": [
    "train_ds_iterator = train_ds.as_numpy_iterator()\n",
    "x = next(train_ds_iterator)"
   ]
  },
  {
   "cell_type": "code",
   "execution_count": 21,
   "id": "a8ea740b-bea0-455a-975c-87a65f2f2cc3",
   "metadata": {},
   "outputs": [
    {
     "data": {
      "text/plain": [
       "tensorflow.python.data.ops.dataset_ops.ShuffleDataset"
      ]
     },
     "execution_count": 21,
     "metadata": {},
     "output_type": "execute_result"
    }
   ],
   "source": [
    "type(test_ds)"
   ]
  },
  {
   "cell_type": "code",
   "execution_count": 19,
   "id": "694f2d3d-26ab-4548-be93-82b72829326a",
   "metadata": {},
   "outputs": [],
   "source": [
    "#with strategy.scope():\n",
    "model = P2P(z_dim=64)"
   ]
  },
  {
   "cell_type": "code",
   "execution_count": 24,
   "id": "61fb7225-2ea6-47b8-a1f0-58f11a899249",
   "metadata": {
    "tags": []
   },
   "outputs": [
    {
     "data": {
      "application/vnd.jupyter.widget-view+json": {
       "model_id": "7667fb6b9e8b4ec1b6747980f3b2390a",
       "version_major": 2,
       "version_minor": 0
      },
      "text/plain": [
       "  0%|          | 0/19 [00:00<?, ?it/s]"
      ]
     },
     "metadata": {},
     "output_type": "display_data"
    },
    {
     "data": {
      "application/vnd.jupyter.widget-view+json": {
       "model_id": "3f8cde67b2944ecca6f00b8e554812ae",
       "version_major": 2,
       "version_minor": 0
      },
      "text/plain": [
       "  0%|          | 0/19 [00:00<?, ?it/s]"
      ]
     },
     "metadata": {},
     "output_type": "display_data"
    },
    {
     "name": "stdout",
     "output_type": "stream",
     "text": [
      "90/90 [==============================] - 53s 311ms/step - loss: 8650.0600 - reconstruction_loss: 8653.6475 - kl_loss: 0.7098 - align_loss: 0.1181 - cpc_loss: 0.0425\n"
     ]
    }
   ],
   "source": [
    "#with strategy.scope():\n",
    "model.compile(frame_predictor_optimizer=tf.keras.optimizers.Adam(learning_rate=0.002, beta_1=0.9, beta_2=0.999, epsilon=1e-8),\n",
    "             posterior_optimizer=tf.keras.optimizers.Adam(learning_rate=0.002, beta_1=0.9, beta_2=0.999, epsilon=1e-8),\n",
    "             prior_optimizer=tf.keras.optimizers.Adam(learning_rate=0.002, beta_1=0.9, beta_2=0.999, epsilon=1e-8),\n",
    "             encoder_optimizer=tf.keras.optimizers.Adam(learning_rate=0.002, beta_1=0.9, beta_2=0.999, epsilon=1e-8),\n",
    "             decoder_optimizer=tf.keras.optimizers.Adam(learning_rate=0.002, beta_1=0.9, beta_2=0.999, epsilon=1e-8),)\n",
    "\n",
    "history = model.fit(train_ds, epochs=1)"
   ]
  },
  {
   "cell_type": "code",
   "execution_count": 8,
   "id": "cabe14bb-2208-4417-a2d8-374e55e8ce18",
   "metadata": {},
   "outputs": [],
   "source": [
    "from ganime.visualization.videos import display_videos\n",
    "generated = model(x[0])"
   ]
  },
  {
   "cell_type": "code",
   "execution_count": 9,
   "id": "1cf28f03-c82f-4ba5-8bd2-db35cd958f12",
   "metadata": {},
   "outputs": [
    {
     "data": {
      "text/html": [
       "<video width=\"432\" height=\"288\" controls autoplay loop>\n",
       "  <source type=\"video/mp4\" src=\"data:video/mp4;base64,AAAAIGZ0eXBNNFYgAAACAE00ViBpc29taXNvMmF2YzEAAAAIZnJlZQAAGHltZGF0AAACrgYF//+q\n",
       "3EXpvebZSLeWLNgg2SPu73gyNjQgLSBjb3JlIDE2NCByMzA5NCBiZmM4N2I3IC0gSC4yNjQvTVBF\n",
       "Ry00IEFWQyBjb2RlYyAtIENvcHlsZWZ0IDIwMDMtMjAyMiAtIGh0dHA6Ly93d3cudmlkZW9sYW4u\n",
       "b3JnL3gyNjQuaHRtbCAtIG9wdGlvbnM6IGNhYmFjPTEgcmVmPTMgZGVibG9jaz0xOjA6MCBhbmFs\n",
       "eXNlPTB4MzoweDExMyBtZT1oZXggc3VibWU9NyBwc3k9MSBwc3lfcmQ9MS4wMDowLjAwIG1peGVk\n",
       "X3JlZj0xIG1lX3JhbmdlPTE2IGNocm9tYV9tZT0xIHRyZWxsaXM9MSA4eDhkY3Q9MSBjcW09MCBk\n",
       "ZWFkem9uZT0yMSwxMSBmYXN0X3Bza2lwPTEgY2hyb21hX3FwX29mZnNldD0tMiB0aHJlYWRzPTkg\n",
       "bG9va2FoZWFkX3RocmVhZHM9MSBzbGljZWRfdGhyZWFkcz0wIG5yPTAgZGVjaW1hdGU9MSBpbnRl\n",
       "cmxhY2VkPTAgYmx1cmF5X2NvbXBhdD0wIGNvbnN0cmFpbmVkX2ludHJhPTAgYmZyYW1lcz0zIGJf\n",
       "cHlyYW1pZD0yIGJfYWRhcHQ9MSBiX2JpYXM9MCBkaXJlY3Q9MSB3ZWlnaHRiPTEgb3Blbl9nb3A9\n",
       "MCB3ZWlnaHRwPTIga2V5aW50PTI1MCBrZXlpbnRfbWluPTEwIHNjZW5lY3V0PTQwIGludHJhX3Jl\n",
       "ZnJlc2g9MCByY19sb29rYWhlYWQ9NDAgcmM9Y3JmIG1idHJlZT0xIGNyZj0yMy4wIHFjb21wPTAu\n",
       "NjAgcXBtaW49MCBxcG1heD02OSBxcHN0ZXA9NCBpcF9yYXRpbz0xLjQwIGFxPTE6MS4wMACAAAAR\n",
       "x2WIhAAR//73iB8yy2n5OtdyEeetLq0fUO5GcV6kvf4gAAADABacmUP7YcdOWsNAAEKAAIWNXv7a\n",
       "D/MARg5cZ9uZbtFL+bv8IvgpdPDH0Vp2oaZHdwRogGecR4ZWNzCXDE4MbtsNOwz4+3kSo5t0Nbvh\n",
       "PmXak1HBuPmqn4+COQMhOa4xo4CfB4EScrre/NTZkXJx/xVvGd6xeNwG+tF4IljpXdfywk0YOAY3\n",
       "6+pEZ7+M5zv4v2qmQpD/Hcj81Rnrbfuqkmct3Dxi1TeaZuEQJZZ/HYtU6lZYYLDus8OoDdvLv10V\n",
       "at6DJ7vs+1Q4Sa+zzyFf0PcLvC3TsSrsxyBn7kduH3R+ONPLW8q7Il+NquoS6qd9ZQo0DQRhhcvJ\n",
       "fE8rTzVYBrzQ3Df/RjdKb3MSfhqBCwzJHjvOyM+khNw1SyRzHi8EPk37cD+TYd6qIFI+WsK8PBjc\n",
       "ErJKsFBm+BkxAPEmHfSsYDt35NyF7circECANNVH4TAkpVLfcKzY20c4G2l/S2u/5oAWOgSyiDNE\n",
       "N4aUGYZfy3u+1BePfm2+lyZwQNehIM/xzx3N26nmA729OvrQVxohjirRKAatjQ4rJ3Xr40pivEio\n",
       "Tgwq8ZQOGNGAMc2a2NUV/OZwf9CwlFMHF+caKLCuJNXnlR9/FonK8QfQkyJMFaxr6GUn/Rj1MbRV\n",
       "/9iCLaaHEDPIlaWdfk1g9vdXv8Y2/1aBYyYxj1ncTLlgk3671IXCUn4YShBGgKMUEICYUYvIit5Y\n",
       "pSorBkAu2RfTKCOloanTYTs1yM2ejqdvSyXAnPWzHC4qmOQEzYd1cm+hcPd0gtKKpLus5q/swJ2z\n",
       "JCmLI6TNM2DHMQ+JHfzPmPHM1haDf2lCwJl+hC5LOiUurstDT9tqL9mKIVWSp35uU9bWkOrZO3kc\n",
       "gaIBKAoDhg48TcMX0V/7fN5LJ196WZy4GhyCYG04UMh2suc5y46UcwVFo0yDZOTg/tq38DDF0RpO\n",
       "0rTxuczdx95D7rklu+sEm2b6NZXU9guiOn9mONa3cgZ29sF3Cvg3xw2gpitvqu9TcvltEE1lx9Sh\n",
       "oWhALSJxQ8JY39NDz177gQ9D89RNlQce2d6zu0nRz1d2hGdAVL2EMm5/9l5V50SN0sOpcYbd7A96\n",
       "I4W1t8g0aeemEyQDMjhQgIL6HzTsLdAmh408ZfdbKf5lhaHbbQ3i5o1u8JWxSw50c+lYkckFRFEn\n",
       "n5Wzuhd43jNijeyPXN2KsgitqPOjCbNaoifCBJDesB1HcKgp7rbNzIxedA5rJaQW6IT1tIY7vgub\n",
       "5KHMBxCrgbjYD5wF8u8ypXJb7dM8HdriQGCWmTmR03dKB3SPlgKc2r9Jyu6r5N7+gRICe83fslvg\n",
       "YI771IYs8C22oJMWxbXWSfBkgWJYxVon4kWxchyF0GonS3c+0cWWDOc1UZtOyWD067eiy22vOdxw\n",
       "AXZkKqGD53+oFTiw/xDyukUeqS2Yn2R5zQ/OmrgZqzoqwLYObeC8ifJHwt8oLVYWvQBoqZz481Y0\n",
       "FF6hwVErU2cI4vBmbCJtumR/7zVydKZSA4mCkjQ9n1HQF3MaoMmOzLixsWkzMY2+O3QbO6DlBlS7\n",
       "koett/uLu9wB0opwLeUkt0SW0nVEvVp5gmhwAS8taWd9xwQD47SOD6RedcVtPqtsirOzbE+ndyPO\n",
       "23PN3fHAsSvVBAaNId/Pt7aFIXSH1LRxUhjBWfNB5+oE5yaeDkVYAUQC4yhidnE/e4ujekCvm04r\n",
       "0Wwt9raSowcCrOhB7w1t8ahYObr1m+AjLZT3obWVDoRTml2EoDiagqVZ+3puyqXd3Z0yGV9XZoV8\n",
       "PN7hSSnXZCkde4Oi0/UbziqifbE41V5T25O5WO8OjmJJ2LDVVhkMuqVze8D20lcoi+8zt/SR8Uyc\n",
       "eXiheaBz5fZsldEQH0l+rnfhKSENGKCayuTZJyiXJw9evqajUomnqPmcKVqRNk/XKL0iSrKCbEIQ\n",
       "spQ3H2UW8iT8XUM3c1qgAiIZy7tUs+/5CdCAtx3ETQ3WyNszBGK9EM2pAcgveuMoTrhW+utMthUE\n",
       "Awh2iXZ0gCmnnJTgpcHG0gtGf+UopvSyVNuxApH81DzIif5wt3++XCrUoEwxi0qo/Cw/Ih2aI8hi\n",
       "OZjOPaQmN6s/Co0J0xdXYlyarvt/flPu9Xl06ZxvOlaP1XG4hooRELMEchBNvuVKvualGukvtii9\n",
       "aaz1xfcHqbmfa3QRJ4zhY63E+FpMMWSRhHthQy2j5XwOLTqulln9YYaZlFMRm3jZ/qM99Z3cj0nk\n",
       "krBzkTIRFQx012+nP6O6z3Rrp4GUQA1aigLsIf/FEvclwudc8qIHmksSTNICHbLImF/gynBGUahF\n",
       "bqVdSlmxiBmfwPzNlMad1qC6CHswYZ5GnQb76qk+2j5zImA6Kk5KjRKbEx6+GjeA3g+fUuGoXIjm\n",
       "d1Xzy8KlG2Y38rbrs6CskhcMmb9UteCRAqbYVzbsVrsaBXMO7SZoA9sD2CV9g/GK6j6kaykMPy5B\n",
       "ojeIc1qbkT00OMHZz0RozNJVfxBHucForL75wqTZPGAW7jwTJvgH/51L0krPPJ0YGsuQlEtgBh48\n",
       "xQQHmVCdWIdIKPlVox+CBD1a8oOB1fPQ4XDoIwYGw488z7h9okIpnkxxYbCYPGCPnFwr/oVWyPwr\n",
       "DaHUCwXQTXC3r8dX/cf+4oVGSbmQefqBOcmmdmzPplEAuMF73R4oBI32rjJuVKFudczBaFmiqSQu\n",
       "SM9rkVh0CPOwSwBPsgfan0QNkY1oyRF2P8lNZDgyFiDr2YURCWLMtr/ekAbORhIc4G7M3bTNMJsr\n",
       "O3h/sjwGXNShLyuvnOrYyHeGjH29kMeTU4co9IbL36XX2TUcc8FrXMpFj9JD3t/ZaSOOO2G8DEnH\n",
       "fFR7HxmIMlB+LGHgQ6cNI8ToLf/buItP7cn/RuN4W5LJRJ9s2RPfemoLAEb4gT8rbNGIAe37CpNC\n",
       "ezWGKY1YDOomWIX0vmvB17V8wAQL7JfkIu6zE+Em/rUXaB1uU8Nr6kNpKGndeJWpOkDaKIB0gAWA\n",
       "M+pTURm/PgsZ4wniZ/Jko4j9qlzKYjZAJRSjBn0ry/BX1+9Uk4wGhCEcMERC0yfrbkrMFtVTBA5X\n",
       "jt7JfBJBjHfi9x3pDfqOyhRgT4cBM6+32ST+DHFun9oFfIKFSZlnWohiOcqEqWoQpScGXiBs+G3A\n",
       "2cRnD3q8BmaS/kjimEqWYp0mdnehE9oEc7nOiby29BuwvtXzyk/soymqAoJ2Apwob8yICSBDdy/g\n",
       "EZWvS4MKawyzG92A75PRLPHmo0suBqrdpfQTpX5uF/bAp77nYz7ykm1Sch0AoFgG+UVvd3fCF4Lx\n",
       "kYX5exsKe8giIVcRLBOTmE4rGfrEp7qBAPGEgMFhJJG9uZZvvGKfXhwGS9/5ZBzV1EoKZOwwsYRQ\n",
       "AqkzEB2h2D7JFe8QeW9uq6zRQbi7aHbozvnkm49RhkQ+uiKkC8amSJpPO5oumuKvJmiiGgmVUtsE\n",
       "p2oCgwZYYMm3JL5tccRIfis3xcUfQE53SHn596JyWRty5QxWKGimvFSmD3VlIKiRMUQahJoytpE9\n",
       "TAdfrAAbSz8t69yYg3jIR0gE3iooiAZJ3kndiExrY1+fN57TdJknjYsQbAf9aCL2om2hR3or5e++\n",
       "nIgG2+2QI6+3rBRPhjTdSTHImdl/ln2t3zcwa51czQwoI+dKcUUQXGd9fNeRyU6pSBxW4ej9h+OZ\n",
       "HvjXgGEkm+JE53O0gwz8Ii/ASF+Q4r262JGCFF2tYB+fhu4uobC8Ly+Qck6dnbM9Uug5paOW8bIA\n",
       "dZRAfa+EChDZeS2jYaKgm7EfXEel7yUCnkkPePIJWN/rCDHE6qxQ9Rw1jq8Ym9wXlqCREodYsecU\n",
       "mxkUPRV3ToSADnY4HxURFE5LgeY2bTyzul63FNxdCrkmFfLRv1IUdZ7h1PAx5QNH69UN1TYSUFDQ\n",
       "StOnZJmReIVX5RhUnwET/1C91XtTrgqHsbPoJMFT99LpGRcK2ajhgDAOXOK5p/zXs10wdMlW55Ke\n",
       "1Cn/bGjzNY2iG+KLWUnixDIH+PYUn6rM74hFP2Xe7QP15uxzSKdEBXwAVTnBIzlNDT+OhKgGwGDd\n",
       "a+qgxOR5nnYf+7nmdHSEsWEE4koWY/jHUZ9JSHtQqHJd4dWI/oeKCFMgiKXC9MstOt36YwRLQ5tK\n",
       "lSNlodwPZqx0ivO8LXtXAd+DXrhaJ9zEirjD+0MDssLNDITXgULGAv3g3+cfsn+qUGSbdJk+0JvF\n",
       "TFWVOmbrhHQ1TtDWCH0JVVnsgU7NWCY461HzZwOwz6XpLXiP3mNE4IW6TFPrtDjmkXXFQnvqn/h7\n",
       "zg9E97oPnlA0f/Ke0lZjhhtglHhwOovpSEIg/7QKL81o3K6QfQFk914wA3IOTKa8ADs9QAK5oHaZ\n",
       "5P+6dnpudQ9LwasJQuhCWbCb+81SinWqAaQIenPDJIhjPZwA87wiO5rJovLPiyBz6WBU0ZH6zZyd\n",
       "yDyndgDFQIP6abxN0S0Vc1nakyq3RDttVCbSlsAgjdaaSt4p6z0BkukOj3kmQCxnWBy1r7/N4Tmf\n",
       "7prwz6RK0CivzgsJl3SoTc8HzwXPF2XTPmuZHEPh+BU8IWBNe7pWu2TcMvbSSD3JAqlnujNgTadj\n",
       "SYzJfp5Fg6x4DnSFG4AT13LluWqyLy9zjhJQIu8p2BeJam5MO3ePwAAN7BhxA7nbFB1TPcXii9rG\n",
       "qEREar2zjJeEjt7Qp1aXh3Ax96pVyrUEghoe5fHYBJntKJ8P7/DpV1USBTywJ1Hcp28YutG+zQOc\n",
       "HlcER0tigbO30bzzcp0rZdK3CWRFMGXnImw9RWpHGs59YAxqWXHyAR1JETLYS5IgLjTyuHfjONsI\n",
       "U+0dUiJpI1zUGdVLCxac+QngOeqf+Hvdw1i3mGW9GOJbq/B+Q7KjWoO2Jt4+Qs3Wqrx1I7xj6BDd\n",
       "7OZLX1A4NSyQK2FxRmZngUBjOFPgnV373UtyO3vz2ELF8K7b2TMU0KyUahFbAfOs5dlIzaWnCtIt\n",
       "HN0yj7jYdmjNuFrv7AN6UAX2gryyG1kHa7WTfgLFThb5FKTUrAjY+Rqnn5qmWZeit7FhVWXqPH4w\n",
       "amwiiov1u2CG7cIEsHTUjuNLquo5pmGyu8EN0uG3a1OjzTbX0Ji9R2j3HMaDzBjrjWu5qNWI20MS\n",
       "bVB4Z+7ylIicB3KBKDhM5qWjez/nY2oZTdaHYXpAg2X24oWNoMBspLVjnJSrMCp+zXBaVcMZPwsV\n",
       "jpeVB70c3Q8IUn+8T7uGdkIBi2IUeQlz8uJKN9CJNHRJa4jVwK7RoVUm4HtlYOcfAkiLHOZRHAfZ\n",
       "JNd2eadDXqu5UQYWTXV5Cu8W9cWFR5jCNRyESx44m3H8UkuG/NjvME80Jt4gdxZvajlBQN2+ZqC3\n",
       "ZHBpH/40fqHNg+knTnuv+4hEC5ibs6elK05x7UA1NFzxR4U7yZDzmLGItyPR4N9yM4B0JpAED6/l\n",
       "qXohDjx4iDq7/6XXRqeSQcemc9B+7Go9amLlbKO+mhh6h8N6NO9KVKm/9BNejWgF3kYP9IMnid4l\n",
       "6jan843+aAAOd5o+mLqAKt9tOk6XGytZK1+BxvEdXEbryZfnqALKOG45Z918Pjp6o2Wxij4dSyhf\n",
       "Sm13Xp8awYbzTKhBz9MkyuNuFjIyizx2moqKBYl2wWhXkKDrMS+Aek4kJOVKzjpS4PWxpH0UToq6\n",
       "0Nef2VE8+WQ8VROgyxR1L49rQBkfCXT1bqO+OfZGL+0QsIuAyHd5ERsHKFrM1Y82V+YJGD4q5djW\n",
       "CnBXAVh7ZSVP0nmCAOH06NVmdD/Sz/UN/0guksAmJFhxpcNOzrs8/F6rkx8ABK3yqoC3L5XbBSEl\n",
       "XneHmfbj764TUdLFJfFX1C9PywyWEbAe4dqcwVCKizrX0alqCcgHWp6JQhj9eG6kkWrTfAt9iyZw\n",
       "3lPu0V7g1PJfh1lOEHr/MoloP6l+xbrtgs+arx4n43d/ETLXFEoL9BhUuy/vq36om/2MRoGjy7f8\n",
       "k5qhhiVidVm4xliUCrItg+vSONLYK8DMB7H2ElyP1X9Mg4DbYnoyQAAAAwAAAwAmYQAAANlBmiRs\n",
       "QR/+tSqABvvnDQAazvl5xKZ6O6Jyb+WPO6Z+00CsTgPdRH8foIRTFlKmBFZHL8xKy0bEeO2g0s5I\n",
       "fzHJKIBZO6Uja9aEjuiP/lL8ueNnSNgZmAJbPEbNr/RSmcd2JHQw0ns6mNM7t6bjWrOCUuzpA8tB\n",
       "i0ZoB0J7E++F5miGMyzHHjkPLVemTzmuUbBeunYF0RujfrNgVIJVfqAmEl1z9AVr6LquSQ4pdjwY\n",
       "V6ax5+eocwKCTH/uPXEvSYCNx3Oi10rqQqh7v/0Mf7IxumVND0OtYCBgAAAARkGeQniHfwAa7e7A\n",
       "AhPDYqAbWOpTBD5Gfbci16u6X5j8veHzkrhUXUIIsmwPi1FAU2PwYtCTIOifo4VznEPgQM+X2j2I\n",
       "LuEAAAA/AZ5hdEN/ADtnzOC6ea5YOmMx3gEbPLZoBNj0I2SUfo3vpwPFZc8TGNQDwzfEi7oo5+P8\n",
       "F0hAvY5QVLyozwiYAAAAKAGeY2pDfwA7XcWYgRzNR87yt/U9pz0sc87EnAWcfRe2TF6mFipZyUEA\n",
       "AAAnQZpoSahBaJlMCCP//rUqgAb75w0AGs75ecSmejuicm/lRptSwFJBAAAALEGehkURLDv/ABrt\n",
       "7sACE8NioBtY6lMEPkZsep+nv1qHId+fiDD5iVNM4BWxAAAAIwGepXRDfwAmUlpIIDeJjr/gEHTx\n",
       "VKfo13gobCzeyHI2KR2xAAAAJQGep2pDfwAmUlpIIDeJjr/gEHTxVKfqoyoUItONtk4Lz5OEP8AA\n",
       "AAAmQZqsSahBbJlMCCH//qpVAA33xXAAQpq+Mg+TZsQVVYx1r7UsBSQAAAArQZ7KRRUsO/8AGu3u\n",
       "wAITw2KgG1jqUwQ+Rmx6n6e/WociAkxh7mD70vOI2QAAACMBnul0Q38AJlJaSCA3iY6/4BB08VSn\n",
       "6Nd4KGm6Romap3gi8wAAACUBnutqQ38AJlJaSCA3iY6/4BB08VSn6qMqFCJgywPqopn6WY9IAAAA\n",
       "JkGa8EmoQWyZTAh///6plgA2nw9gAQpqQp84QNqgEtnAqo2yMCBhAAAALEGfDkUVLDv/ABrt7sAC\n",
       "E8NioBtY6lMEPkZsep+nv1qHId+fiDD5iVNM4BWxAAAAIwGfLXRDfwAmUlpIIDeJjr/gEHTxVKfo\n",
       "13gobCzeyHI2KR2xAAAAJQGfL2pDfwAmUlpIIDeJjr/gEHTxVKfqoyoUItONtk4Lz5OEP8AAAAAi\n",
       "QZszSahBbJlMCG///qeEAGx95r3IbFzqjup/VOGlsxgYEAAAAB5Bn1FFFSw3/wAmsZKRhsMEnepq\n",
       "Y8YXZvEN5zBA2YEAAAAUAZ9yakN/AA3Rdkc1tTIy97y+ycAAAAQabW9vdgAAAGxtdmhkAAAAAAAA\n",
       "AAAAAAAAAAAD6AAAB9AAAQAAAQAAAAAAAAAAAAAAAAEAAAAAAAAAAAAAAAAAAAABAAAAAAAAAAAA\n",
       "AAAAAABAAAAAAAAAAAAAAAAAAAAAAAAAAAAAAAAAAAAAAAAAAgAAA0R0cmFrAAAAXHRraGQAAAAD\n",
       "AAAAAAAAAAAAAAABAAAAAAAAB9AAAAAAAAAAAAAAAAAAAAAAAAEAAAAAAAAAAAAAAAAAAAABAAAA\n",
       "AAAAAAAAAAAAAABAAAAAAbAAAAEgAAAAAAAkZWR0cwAAABxlbHN0AAAAAAAAAAEAAAfQAAAIAAAB\n",
       "AAAAAAK8bWRpYQAAACBtZGhkAAAAAAAAAAAAAAAAAAAoAAAAUABVxAAAAAAALWhkbHIAAAAAAAAA\n",
       "AHZpZGUAAAAAAAAAAAAAAABWaWRlb0hhbmRsZXIAAAACZ21pbmYAAAAUdm1oZAAAAAEAAAAAAAAA\n",
       "AAAAACRkaW5mAAAAHGRyZWYAAAAAAAAAAQAAAAx1cmwgAAAAAQAAAidzdGJsAAAAt3N0c2QAAAAA\n",
       "AAAAAQAAAKdhdmMxAAAAAAAAAAEAAAAAAAAAAAAAAAAAAAAAAbABIABIAAAASAAAAAAAAAABAAAA\n",
       "AAAAAAAAAAAAAAAAAAAAAAAAAAAAAAAAAAAAAAAAGP//AAAANWF2Y0MBZAAV/+EAGGdkABWs2UGw\n",
       "loQAAAMABAAAAwBQPFi2WAEABmjr48siwP34+AAAAAAcdXVpZGtoQPJfJE/FujmlG88DI/MAAAAA\n",
       "AAAAGHN0dHMAAAAAAAAAAQAAABQAAAQAAAAAFHN0c3MAAAAAAAAAAQAAAAEAAACoY3R0cwAAAAAA\n",
       "AAATAAAAAQAACAAAAAABAAAUAAAAAAEAAAgAAAAAAQAAAAAAAAABAAAEAAAAAAEAABQAAAAAAQAA\n",
       "CAAAAAABAAAAAAAAAAEAAAQAAAAAAQAAFAAAAAABAAAIAAAAAAEAAAAAAAAAAQAABAAAAAABAAAU\n",
       "AAAAAAEAAAgAAAAAAQAAAAAAAAABAAAEAAAAAAEAABAAAAAAAgAABAAAAAAcc3RzYwAAAAAAAAAB\n",
       "AAAAAQAAABQAAAABAAAAZHN0c3oAAAAAAAAAAAAAABQAABR9AAAA3QAAAEoAAABDAAAALAAAACsA\n",
       "AAAwAAAAJwAAACkAAAAqAAAALwAAACcAAAApAAAAKgAAADAAAAAnAAAAKQAAACYAAAAiAAAAGAAA\n",
       "ABRzdGNvAAAAAAAAAAEAAAAwAAAAYnVkdGEAAABabWV0YQAAAAAAAAAhaGRscgAAAAAAAAAAbWRp\n",
       "cmFwcGwAAAAAAAAAAAAAAAAtaWxzdAAAACWpdG9vAAAAHWRhdGEAAAABAAAAAExhdmY1OS4xNi4x\n",
       "MDA=\n",
       "\">\n",
       "  Your browser does not support the video tag.\n",
       "</video>"
      ],
      "text/plain": [
       "<IPython.core.display.HTML object>"
      ]
     },
     "execution_count": 9,
     "metadata": {},
     "output_type": "execute_result"
    }
   ],
   "source": [
    "display_videos(generated, n_rows=1, n_cols=2)"
   ]
  },
  {
   "cell_type": "code",
   "execution_count": 10,
   "id": "25a6cb51-d19a-43ab-8f15-f7811774ccd0",
   "metadata": {},
   "outputs": [
    {
     "data": {
      "text/plain": [
       "(100, 64, 64, 1)"
      ]
     },
     "execution_count": 10,
     "metadata": {},
     "output_type": "execute_result"
    }
   ],
   "source": [
    "x[0][:,0,...].shape"
   ]
  },
  {
   "cell_type": "code",
   "execution_count": 11,
   "id": "c1a14d76-e3d0-4583-9c6a-38ff460c2437",
   "metadata": {},
   "outputs": [],
   "source": [
    "h, skip = model.encoder(x[0][:,0,...])\n",
    "global_z, _ = model.encoder(x[0][:,-1,...])"
   ]
  },
  {
   "cell_type": "code",
   "execution_count": 12,
   "id": "9fd1ce82-3cb0-4714-b4c2-922d47a6b8f4",
   "metadata": {},
   "outputs": [],
   "source": [
    "time_until_cp = tf.fill([100, 1], (19 - 1 + 1) / 19)\n",
    "delta_time = tf.fill([100, 1], ((1 - 0) / 19))"
   ]
  },
  {
   "cell_type": "code",
   "execution_count": 13,
   "id": "2a8c91da-95a5-4e3d-8926-52a302f72239",
   "metadata": {},
   "outputs": [],
   "source": [
    "h_cpaw = tf.concat([h, global_z, time_until_cp, delta_time], axis=-1)"
   ]
  },
  {
   "cell_type": "code",
   "execution_count": 14,
   "id": "1bfebd68-73c6-47bd-9542-b401f6013638",
   "metadata": {},
   "outputs": [],
   "source": [
    "zt_p, _, _ = model.prior(h_cpaw)"
   ]
  },
  {
   "cell_type": "code",
   "execution_count": 15,
   "id": "186fa751-c10a-40e4-8a9f-aa44d8718789",
   "metadata": {},
   "outputs": [],
   "source": [
    "h = model.frame_predictor(\n",
    "    tf.concat([h, zt_p, time_until_cp, delta_time], axis=-1)\n",
    ")"
   ]
  },
  {
   "cell_type": "code",
   "execution_count": 16,
   "id": "a5b06107-47c2-4ea1-a063-b1e61599027f",
   "metadata": {},
   "outputs": [
    {
     "data": {
      "text/plain": [
       "0.0"
      ]
     },
     "execution_count": 16,
     "metadata": {},
     "output_type": "execute_result"
    }
   ],
   "source": [
    "model.decoder([tf.ones_like(h), [tf.ones_like(s) for s in skip]]).numpy().mean()"
   ]
  },
  {
   "cell_type": "code",
   "execution_count": 17,
   "id": "b436bdd7-961c-425c-8153-a819ecfb83cd",
   "metadata": {},
   "outputs": [
    {
     "data": {
      "text/plain": [
       "0.0"
      ]
     },
     "execution_count": 17,
     "metadata": {},
     "output_type": "execute_result"
    }
   ],
   "source": [
    "model.decoder([h, skip]).numpy().mean()"
   ]
  },
  {
   "cell_type": "code",
   "execution_count": null,
   "id": "111209b6-0c4b-4b2a-b8c4-575920dac5ec",
   "metadata": {},
   "outputs": [],
   "source": []
  }
 ],
 "metadata": {
  "kernelspec": {
   "display_name": "Python 3 (ipykernel)",
   "language": "python",
   "name": "python3"
  },
  "language_info": {
   "codemirror_mode": {
    "name": "ipython",
    "version": 3
   },
   "file_extension": ".py",
   "mimetype": "text/x-python",
   "name": "python",
   "nbconvert_exporter": "python",
   "pygments_lexer": "ipython3",
   "version": "3.8.10"
  }
 },
 "nbformat": 4,
 "nbformat_minor": 5
}
