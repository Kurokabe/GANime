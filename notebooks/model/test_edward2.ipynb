{
 "cells": [
  {
   "cell_type": "code",
   "execution_count": 1,
   "metadata": {},
   "outputs": [],
   "source": [
    "import tensorflow as tf"
   ]
  },
  {
   "cell_type": "code",
   "execution_count": 2,
   "metadata": {},
   "outputs": [
    {
     "name": "stderr",
     "output_type": "stream",
     "text": [
      "2022-04-18 03:01:08.859571: I tensorflow/core/platform/cpu_feature_guard.cc:151] This TensorFlow binary is optimized with oneAPI Deep Neural Network Library (oneDNN) to use the following CPU instructions in performance-critical operations:  AVX2 FMA\n",
      "To enable them in other operations, rebuild TensorFlow with the appropriate compiler flags.\n",
      "2022-04-18 03:01:11.365004: I tensorflow/core/common_runtime/gpu/gpu_device.cc:1525] Created device /job:localhost/replica:0/task:0/device:GPU:0 with 14256 MB memory:  -> device: 0, name: NVIDIA RTX A4000, pci bus id: 0000:01:00.0, compute capability: 8.6\n",
      "2022-04-18 03:01:11.366358: I tensorflow/core/common_runtime/gpu/gpu_device.cc:1525] Created device /job:localhost/replica:0/task:0/device:GPU:1 with 14256 MB memory:  -> device: 1, name: NVIDIA RTX A4000, pci bus id: 0000:25:00.0, compute capability: 8.6\n",
      "2022-04-18 03:01:11.367328: I tensorflow/core/common_runtime/gpu/gpu_device.cc:1525] Created device /job:localhost/replica:0/task:0/device:GPU:2 with 14256 MB memory:  -> device: 2, name: NVIDIA RTX A4000, pci bus id: 0000:41:00.0, compute capability: 8.6\n",
      "2022-04-18 03:01:11.368234: I tensorflow/core/common_runtime/gpu/gpu_device.cc:1525] Created device /job:localhost/replica:0/task:0/device:GPU:3 with 14256 MB memory:  -> device: 3, name: NVIDIA RTX A4000, pci bus id: 0000:61:00.0, compute capability: 8.6\n",
      "2022-04-18 03:01:11.369104: I tensorflow/core/common_runtime/gpu/gpu_device.cc:1525] Created device /job:localhost/replica:0/task:0/device:GPU:4 with 14256 MB memory:  -> device: 4, name: NVIDIA RTX A4000, pci bus id: 0000:81:00.0, compute capability: 8.6\n",
      "2022-04-18 03:01:11.370014: I tensorflow/core/common_runtime/gpu/gpu_device.cc:1525] Created device /job:localhost/replica:0/task:0/device:GPU:5 with 14256 MB memory:  -> device: 5, name: NVIDIA RTX A4000, pci bus id: 0000:a1:00.0, compute capability: 8.6\n",
      "2022-04-18 03:01:11.370909: I tensorflow/core/common_runtime/gpu/gpu_device.cc:1525] Created device /job:localhost/replica:0/task:0/device:GPU:6 with 14256 MB memory:  -> device: 6, name: NVIDIA RTX A4000, pci bus id: 0000:c1:00.0, compute capability: 8.6\n",
      "2022-04-18 03:01:11.371784: I tensorflow/core/common_runtime/gpu/gpu_device.cc:1525] Created device /job:localhost/replica:0/task:0/device:GPU:7 with 14256 MB memory:  -> device: 7, name: NVIDIA RTX A4000, pci bus id: 0000:e1:00.0, compute capability: 8.6\n"
     ]
    },
    {
     "name": "stdout",
     "output_type": "stream",
     "text": [
      "(32, 4)\n"
     ]
    },
    {
     "name": "stderr",
     "output_type": "stream",
     "text": [
      "2022-04-18 03:01:12.002403: I tensorflow/stream_executor/cuda/cuda_dnn.cc:368] Loaded cuDNN version 8101\n"
     ]
    }
   ],
   "source": [
    "inputs = tf.random.normal([32, 10, 8])\n",
    "lstm = tf.keras.layers.LSTM(4)\n",
    "output = lstm(inputs)\n",
    "print(output.shape)\n"
   ]
  },
  {
   "cell_type": "code",
   "execution_count": 9,
   "metadata": {},
   "outputs": [],
   "source": [
    "from edward2.tensorflow.layers.recurrent import LSTMCellReparameterization\n",
    "import edward2 as ed"
   ]
  },
  {
   "cell_type": "code",
   "execution_count": 10,
   "metadata": {},
   "outputs": [],
   "source": [
    "lstm_edward = tf.keras.layers.RNN(LSTMCellReparameterization(4, kernel_regularizer=ed.regularizers.NormalKLDivergence(scale_factor=1.),\n",
    "            recurrent_regularizer=ed.regularizers.NormalKLDivergence(scale_factor=1.)\n",
    "))\n",
    "output_edward = lstm_edward(inputs)"
   ]
  },
  {
   "cell_type": "code",
   "execution_count": 11,
   "metadata": {},
   "outputs": [
    {
     "data": {
      "text/plain": [
       "<tf.Tensor: shape=(32, 4), dtype=float32, numpy=\n",
       "array([[ 0.07953081, -0.00382007,  0.03654471, -0.00397522],\n",
       "       [ 0.03406092, -0.08376069,  0.02008894, -0.03105845],\n",
       "       [ 0.0761084 , -0.05972356,  0.00460801, -0.04736329],\n",
       "       [-0.0025017 , -0.0394656 ,  0.00040414,  0.00550142],\n",
       "       [ 0.05924536, -0.03112705, -0.01898561, -0.06491367],\n",
       "       [ 0.02836957,  0.01888289,  0.03041505,  0.00568993],\n",
       "       [ 0.06529502,  0.00378614,  0.02273558,  0.00211831],\n",
       "       [-0.02876543,  0.01829632, -0.01271728,  0.01748295],\n",
       "       [ 0.06546818, -0.01890285,  0.02546566, -0.08372837],\n",
       "       [-0.00113418, -0.11006109, -0.00948455, -0.08136246],\n",
       "       [-0.01250242,  0.02347998, -0.00042413, -0.02470458],\n",
       "       [ 0.01726401, -0.0329524 , -0.00020574, -0.01916884],\n",
       "       [ 0.03222245, -0.03502439, -0.03363416, -0.03137738],\n",
       "       [ 0.02692167, -0.02324193, -0.01243173,  0.01293084],\n",
       "       [ 0.12888496, -0.01528339,  0.02014148, -0.10832682],\n",
       "       [ 0.01067712, -0.06501289, -0.01022197, -0.05400164],\n",
       "       [-0.03457689,  0.03919737, -0.02981526,  0.04185212],\n",
       "       [-0.0770052 ,  0.04589333,  0.02864823,  0.035071  ],\n",
       "       [ 0.02216768,  0.03754833,  0.00644136,  0.06883132],\n",
       "       [-0.07938161, -0.01530507,  0.01400937,  0.04565553],\n",
       "       [ 0.0008435 , -0.03031424, -0.0064172 , -0.02055101],\n",
       "       [-0.06501312, -0.06616101,  0.01166041,  0.0288363 ],\n",
       "       [-0.00741374, -0.04758399,  0.04350247, -0.03191369],\n",
       "       [-0.00258691,  0.00783666, -0.00485956, -0.0075852 ],\n",
       "       [ 0.00030772,  0.02041258, -0.00423286,  0.00683454],\n",
       "       [-0.06466272, -0.0693665 , -0.03312894,  0.0205491 ],\n",
       "       [-0.02513365,  0.06315088, -0.00447791,  0.0469299 ],\n",
       "       [-0.08588279,  0.02277031,  0.0194909 ,  0.11463537],\n",
       "       [-0.06810024,  0.10211128,  0.028978  ,  0.06448589],\n",
       "       [ 0.0133807 ,  0.0137298 ,  0.00577476, -0.02739296],\n",
       "       [-0.0804438 , -0.0055214 , -0.03990914, -0.02830635],\n",
       "       [-0.00268358, -0.04781937, -0.03698722,  0.01307654]],\n",
       "      dtype=float32)>"
      ]
     },
     "execution_count": 11,
     "metadata": {},
     "output_type": "execute_result"
    }
   ],
   "source": [
    "output_edward"
   ]
  },
  {
   "cell_type": "code",
   "execution_count": 8,
   "metadata": {},
   "outputs": [
    {
     "data": {
      "text/plain": [
       "<tf.Tensor: shape=(32, 4), dtype=float32, numpy=\n",
       "array([[-0.05174665,  0.11907616,  0.02611968, -0.0625048 ],\n",
       "       [ 0.04213394,  0.02587829, -0.20300032,  0.12490874],\n",
       "       [ 0.06055053,  0.36530924, -0.14512336, -0.20931844],\n",
       "       [ 0.0484954 ,  0.40425557, -0.22552314, -0.19126497],\n",
       "       [ 0.14352763, -0.19700985, -0.14723882,  0.21889752],\n",
       "       [-0.13082042,  0.12646306,  0.12433755,  0.19001155],\n",
       "       [ 0.13806003, -0.07411258, -0.1939427 ,  0.04825716],\n",
       "       [-0.17065044,  0.20130092,  0.3015056 ,  0.2092063 ],\n",
       "       [-0.28665128, -0.1839299 ,  0.04767388, -0.18193972],\n",
       "       [-0.04708976,  0.01274668, -0.14064243, -0.19952089],\n",
       "       [ 0.15042518, -0.15521155, -0.02081258, -0.09768558],\n",
       "       [-0.01179758,  0.04286224, -0.1193895 , -0.07775716],\n",
       "       [ 0.06478017,  0.33798343, -0.03424397,  0.09159864],\n",
       "       [ 0.18970443, -0.16430224,  0.07862957,  0.09221538],\n",
       "       [-0.05766273, -0.02643465, -0.03359918,  0.01912273],\n",
       "       [ 0.15906094,  0.14017898, -0.068164  ,  0.1524152 ],\n",
       "       [ 0.21555358,  0.02682899,  0.02759665,  0.30625957],\n",
       "       [-0.2100653 ,  0.08399197,  0.28096318,  0.06824853],\n",
       "       [ 0.20171997,  0.44646546, -0.11061752, -0.13921492],\n",
       "       [ 0.11437793, -0.01755488,  0.00464072,  0.05239049],\n",
       "       [-0.10991819,  0.237577  , -0.2279192 , -0.17332903],\n",
       "       [-0.04992167,  0.14436094, -0.08228555, -0.09728082],\n",
       "       [-0.12495044, -0.09462416,  0.03062341,  0.08169921],\n",
       "       [ 0.15282518, -0.0297268 , -0.05640713, -0.19825804],\n",
       "       [-0.18227895,  0.11886722, -0.18731384, -0.01786426],\n",
       "       [ 0.41897896,  0.30835766, -0.4792819 , -0.3535048 ],\n",
       "       [ 0.03464375, -0.01327852,  0.3578661 ,  0.01014951],\n",
       "       [ 0.11022767,  0.0422726 ,  0.07455286,  0.06908891],\n",
       "       [-0.16907723, -0.04442323,  0.15542553,  0.1575389 ],\n",
       "       [-0.3159998 ,  0.04597615,  0.19577247,  0.37002096],\n",
       "       [-0.06321567, -0.24845266,  0.45002213,  0.30757725],\n",
       "       [ 0.242884  ,  0.01388596,  0.2926895 , -0.02571156]],\n",
       "      dtype=float32)>"
      ]
     },
     "execution_count": 8,
     "metadata": {},
     "output_type": "execute_result"
    }
   ],
   "source": [
    "output"
   ]
  },
  {
   "cell_type": "code",
   "execution_count": 39,
   "metadata": {},
   "outputs": [
    {
     "name": "stdout",
     "output_type": "stream",
     "text": [
      "The autoreload extension is already loaded. To reload it, use:\n",
      "  %reload_ext autoreload\n"
     ]
    }
   ],
   "source": [
    "%load_ext autoreload\n",
    "%autoreload 2"
   ]
  },
  {
   "cell_type": "code",
   "execution_count": 48,
   "metadata": {},
   "outputs": [],
   "source": [
    "from ganime.model.p2p.p2p import MyGaussianLSTM\n",
    "import tensorflow as tf"
   ]
  },
  {
   "cell_type": "code",
   "execution_count": 49,
   "metadata": {},
   "outputs": [],
   "source": [
    "my_lstm = MyGaussianLSTM(10, 4, 1)"
   ]
  },
  {
   "cell_type": "code",
   "execution_count": 50,
   "metadata": {},
   "outputs": [],
   "source": [
    "inputs = tf.random.normal([32, 2, 10])"
   ]
  },
  {
   "cell_type": "code",
   "execution_count": 51,
   "metadata": {},
   "outputs": [],
   "source": [
    "new_outputs = my_lstm(inputs)"
   ]
  },
  {
   "cell_type": "code",
   "execution_count": 52,
   "metadata": {},
   "outputs": [
    {
     "name": "stdout",
     "output_type": "stream",
     "text": [
      "Model: \"my_gaussian_lstm\"\n",
      "_________________________________________________________________\n",
      "Layer (type)                 Output Shape              Param #   \n",
      "=================================================================\n",
      "dense_5 (Dense)              multiple                  110       \n",
      "_________________________________________________________________\n",
      "sequential_6 (Sequential)    (32, 10)                  840       \n",
      "_________________________________________________________________\n",
      "dense_6 (Dense)              multiple                  44        \n",
      "_________________________________________________________________\n",
      "dense_7 (Dense)              multiple                  44        \n",
      "=================================================================\n",
      "Total params: 1,038\n",
      "Trainable params: 1,038\n",
      "Non-trainable params: 0\n",
      "_________________________________________________________________\n"
     ]
    }
   ],
   "source": [
    "my_lstm.summary()"
   ]
  },
  {
   "cell_type": "code",
   "execution_count": 55,
   "metadata": {},
   "outputs": [
    {
     "data": {
      "text/plain": [
       "<tf.Tensor: shape=(4,), dtype=float32, numpy=array([ 0.5118979 , -0.1933068 , -0.32126862, -0.6989702 ], dtype=float32)>"
      ]
     },
     "execution_count": 55,
     "metadata": {},
     "output_type": "execute_result"
    }
   ],
   "source": [
    "new_outputs[0][0]"
   ]
  },
  {
   "cell_type": "code",
   "execution_count": null,
   "metadata": {},
   "outputs": [],
   "source": []
  }
 ],
 "metadata": {
  "interpreter": {
   "hash": "3a8249df8b7044894d7782a831e2faf3db8aed5f9dedc5972f04463fb09cbac8"
  },
  "kernelspec": {
   "display_name": "Python 3.8.10 ('venv': venv)",
   "language": "python",
   "name": "python3"
  },
  "language_info": {
   "codemirror_mode": {
    "name": "ipython",
    "version": 3
   },
   "file_extension": ".py",
   "mimetype": "text/x-python",
   "name": "python",
   "nbconvert_exporter": "python",
   "pygments_lexer": "ipython3",
   "version": "3.8.10"
  },
  "orig_nbformat": 4
 },
 "nbformat": 4,
 "nbformat_minor": 2
}
