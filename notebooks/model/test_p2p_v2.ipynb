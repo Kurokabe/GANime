{
 "cells": [
  {
   "cell_type": "code",
   "execution_count": 1,
   "id": "c1df7df1-919b-4942-afc2-48962dedb126",
   "metadata": {},
   "outputs": [
    {
     "name": "stdout",
     "output_type": "stream",
     "text": [
      "env: CUDA_DEVICE_ORDER=PCI_BUS_ID\n",
      "env: CUDA_VISIBLE_DEVICES=1,2\n"
     ]
    }
   ],
   "source": [
    "%env CUDA_DEVICE_ORDER=PCI_BUS_ID\n",
    "%env CUDA_VISIBLE_DEVICES=1,2"
   ]
  },
  {
   "cell_type": "code",
   "execution_count": 2,
   "id": "d0d9e0ec-1abb-4413-a3f6-5bbe1a6d71a1",
   "metadata": {},
   "outputs": [],
   "source": [
    "%load_ext autoreload\n",
    "%autoreload 2"
   ]
  },
  {
   "cell_type": "code",
   "execution_count": 3,
   "id": "84f518c7-834e-4aa8-b922-9e939dbf0c26",
   "metadata": {},
   "outputs": [],
   "source": [
    "from ganime.data.base import load_dataset\n",
    "from ganime.model.p2p.p2p_v2 import P2P\n",
    "import tensorflow as tf\n",
    "from tqdm import tqdm\n",
    "tf.get_logger().setLevel('ERROR')"
   ]
  },
  {
   "cell_type": "code",
   "execution_count": 4,
   "id": "22037684-cd33-41c0-a5dd-80b89eb18964",
   "metadata": {},
   "outputs": [
    {
     "name": "stderr",
     "output_type": "stream",
     "text": [
      "2022-04-26 02:23:07.252188: I tensorflow/core/platform/cpu_feature_guard.cc:151] This TensorFlow binary is optimized with oneAPI Deep Neural Network Library (oneDNN) to use the following CPU instructions in performance-critical operations:  AVX2 FMA\n",
      "To enable them in other operations, rebuild TensorFlow with the appropriate compiler flags.\n",
      "2022-04-26 02:23:07.895321: I tensorflow/core/common_runtime/gpu/gpu_device.cc:1525] Created device /job:localhost/replica:0/task:0/device:GPU:0 with 14252 MB memory:  -> device: 0, name: NVIDIA RTX A4000, pci bus id: 0000:25:00.0, compute capability: 8.6\n",
      "2022-04-26 02:23:07.896220: I tensorflow/core/common_runtime/gpu/gpu_device.cc:1525] Created device /job:localhost/replica:0/task:0/device:GPU:1 with 14252 MB memory:  -> device: 1, name: NVIDIA RTX A4000, pci bus id: 0000:41:00.0, compute capability: 8.6\n"
     ]
    }
   ],
   "source": [
    "train_ds, test_ds, input_shape = load_dataset(\"moving_mnist\", \"../../data\", batch_size=16)"
   ]
  },
  {
   "cell_type": "code",
   "execution_count": 5,
   "id": "7b1a29c6-d327-496b-9b69-10c4d5682eaf",
   "metadata": {},
   "outputs": [],
   "source": [
    "train_ds_iterator = train_ds.as_numpy_iterator()\n",
    "x = next(train_ds_iterator)[0]"
   ]
  },
  {
   "cell_type": "code",
   "execution_count": 6,
   "id": "694f2d3d-26ab-4548-be93-82b72829326a",
   "metadata": {},
   "outputs": [],
   "source": [
    "model = P2P()"
   ]
  },
  {
   "cell_type": "code",
   "execution_count": 7,
   "id": "50d17886-8cb6-4fb3-8486-791bb643ebcd",
   "metadata": {},
   "outputs": [],
   "source": [
    "from ganime.visualization.videos import display_videos"
   ]
  },
  {
   "cell_type": "code",
   "execution_count": 9,
   "id": "3c17211c-e66c-46da-8d0f-e2d2e1f40058",
   "metadata": {},
   "outputs": [
    {
     "name": "stderr",
     "output_type": "stream",
     "text": [
      " 10%|█████████████████▉                                                                                                                                                                 | 1/10 [01:35<14:18, 95.37s/it]"
     ]
    },
    {
     "name": "stdout",
     "output_type": "stream",
     "text": [
      "EPOCH 0\n",
      "epoch mse tf.Tensor(23.948185, shape=(), dtype=float32)\n",
      "epoch kld tf.Tensor(0.0, shape=(), dtype=float32)\n",
      "epoch cpc tf.Tensor(0.0, shape=(), dtype=float32)\n",
      "epoch align tf.Tensor(19812.799, shape=(), dtype=float32)\n"
     ]
    },
    {
     "name": "stderr",
     "output_type": "stream",
     "text": [
      " 20%|███████████████████████████████████▊                                                                                                                                               | 2/10 [03:10<12:43, 95.38s/it]"
     ]
    },
    {
     "name": "stdout",
     "output_type": "stream",
     "text": [
      "EPOCH 1\n",
      "epoch mse tf.Tensor(23.9482, shape=(), dtype=float32)\n",
      "epoch kld tf.Tensor(0.0, shape=(), dtype=float32)\n",
      "epoch cpc tf.Tensor(0.0, shape=(), dtype=float32)\n",
      "epoch align tf.Tensor(19810.451, shape=(), dtype=float32)\n"
     ]
    },
    {
     "name": "stderr",
     "output_type": "stream",
     "text": [
      " 30%|█████████████████████████████████████████████████████▋                                                                                                                             | 3/10 [04:46<11:07, 95.39s/it]"
     ]
    },
    {
     "name": "stdout",
     "output_type": "stream",
     "text": [
      "EPOCH 2\n",
      "epoch mse tf.Tensor(23.948185, shape=(), dtype=float32)\n",
      "epoch kld tf.Tensor(0.0, shape=(), dtype=float32)\n",
      "epoch cpc tf.Tensor(0.0, shape=(), dtype=float32)\n",
      "epoch align tf.Tensor(19810.63, shape=(), dtype=float32)\n"
     ]
    },
    {
     "name": "stderr",
     "output_type": "stream",
     "text": [
      " 40%|███████████████████████████████████████████████████████████████████████▌                                                                                                           | 4/10 [06:21<09:32, 95.44s/it]"
     ]
    },
    {
     "name": "stdout",
     "output_type": "stream",
     "text": [
      "EPOCH 3\n",
      "epoch mse tf.Tensor(23.948175, shape=(), dtype=float32)\n",
      "epoch kld tf.Tensor(0.0, shape=(), dtype=float32)\n",
      "epoch cpc tf.Tensor(0.0, shape=(), dtype=float32)\n",
      "epoch align tf.Tensor(19812.604, shape=(), dtype=float32)\n"
     ]
    },
    {
     "name": "stderr",
     "output_type": "stream",
     "text": [
      " 50%|█████████████████████████████████████████████████████████████████████████████████████████▌                                                                                         | 5/10 [07:56<07:56, 95.38s/it]"
     ]
    },
    {
     "name": "stdout",
     "output_type": "stream",
     "text": [
      "EPOCH 4\n",
      "epoch mse tf.Tensor(23.948196, shape=(), dtype=float32)\n",
      "epoch kld tf.Tensor(0.0, shape=(), dtype=float32)\n",
      "epoch cpc tf.Tensor(0.0, shape=(), dtype=float32)\n",
      "epoch align tf.Tensor(19810.635, shape=(), dtype=float32)\n"
     ]
    },
    {
     "name": "stderr",
     "output_type": "stream",
     "text": [
      " 60%|███████████████████████████████████████████████████████████████████████████████████████████████████████████▍                                                                       | 6/10 [09:32<06:21, 95.46s/it]"
     ]
    },
    {
     "name": "stdout",
     "output_type": "stream",
     "text": [
      "EPOCH 5\n",
      "epoch mse tf.Tensor(23.948174, shape=(), dtype=float32)\n",
      "epoch kld tf.Tensor(0.0, shape=(), dtype=float32)\n",
      "epoch cpc tf.Tensor(0.0, shape=(), dtype=float32)\n",
      "epoch align tf.Tensor(19783.932, shape=(), dtype=float32)\n"
     ]
    },
    {
     "name": "stderr",
     "output_type": "stream",
     "text": [
      " 70%|█████████████████████████████████████████████████████████████████████████████████████████████████████████████████████████████▎                                                     | 7/10 [11:07<04:46, 95.42s/it]"
     ]
    },
    {
     "name": "stdout",
     "output_type": "stream",
     "text": [
      "EPOCH 6\n",
      "epoch mse tf.Tensor(23.948193, shape=(), dtype=float32)\n",
      "epoch kld tf.Tensor(0.0, shape=(), dtype=float32)\n",
      "epoch cpc tf.Tensor(0.0, shape=(), dtype=float32)\n",
      "epoch align tf.Tensor(19780.867, shape=(), dtype=float32)\n"
     ]
    },
    {
     "name": "stderr",
     "output_type": "stream",
     "text": [
      " 80%|███████████████████████████████████████████████████████████████████████████████████████████████████████████████████████████████████████████████▏                                   | 8/10 [12:43<03:10, 95.42s/it]"
     ]
    },
    {
     "name": "stdout",
     "output_type": "stream",
     "text": [
      "EPOCH 7\n",
      "epoch mse tf.Tensor(23.948185, shape=(), dtype=float32)\n",
      "epoch kld tf.Tensor(0.0, shape=(), dtype=float32)\n",
      "epoch cpc tf.Tensor(0.0, shape=(), dtype=float32)\n",
      "epoch align tf.Tensor(19775.38, shape=(), dtype=float32)\n"
     ]
    },
    {
     "name": "stderr",
     "output_type": "stream",
     "text": [
      " 90%|█████████████████████████████████████████████████████████████████████████████████████████████████████████████████████████████████████████████████████████████████                  | 9/10 [14:18<01:35, 95.43s/it]"
     ]
    },
    {
     "name": "stdout",
     "output_type": "stream",
     "text": [
      "EPOCH 8\n",
      "epoch mse tf.Tensor(23.948162, shape=(), dtype=float32)\n",
      "epoch kld tf.Tensor(0.0, shape=(), dtype=float32)\n",
      "epoch cpc tf.Tensor(0.0, shape=(), dtype=float32)\n",
      "epoch align tf.Tensor(19769.643, shape=(), dtype=float32)\n"
     ]
    },
    {
     "name": "stderr",
     "output_type": "stream",
     "text": [
      "100%|██████████████████████████████████████████████████████████████████████████████████████████████████████████████████████████████████████████████████████████████████████████████████| 10/10 [15:54<00:00, 95.45s/it]"
     ]
    },
    {
     "name": "stdout",
     "output_type": "stream",
     "text": [
      "EPOCH 9\n",
      "epoch mse tf.Tensor(23.9482, shape=(), dtype=float32)\n",
      "epoch kld tf.Tensor(0.0, shape=(), dtype=float32)\n",
      "epoch cpc tf.Tensor(0.0, shape=(), dtype=float32)\n",
      "epoch align tf.Tensor(19679.299, shape=(), dtype=float32)\n"
     ]
    },
    {
     "name": "stderr",
     "output_type": "stream",
     "text": [
      "\n"
     ]
    }
   ],
   "source": [
    "n_epochs = 10\n",
    "\n",
    "for epoch in tqdm(range(n_epochs)):\n",
    "    epoch_mse = 0\n",
    "    epoch_kld = 0\n",
    "    epoch_align = 0\n",
    "    epoch_cpc = 0\n",
    "\n",
    "    for x in train_ds.as_numpy_iterator():\n",
    "        x = x[0]\n",
    "\n",
    "        mse, kld, cpc, align = model(x)\n",
    "        epoch_mse += mse\n",
    "        epoch_kld += kld\n",
    "        epoch_cpc += cpc\n",
    "        epoch_align += align\n",
    "    print(\"EPOCH\", epoch)\n",
    "    print(\"epoch mse\", epoch_mse)\n",
    "    print(\"epoch kld\", epoch_kld)\n",
    "    print(\"epoch cpc\", epoch_cpc)\n",
    "    print(\"epoch align\", epoch_align)"
   ]
  },
  {
   "cell_type": "code",
   "execution_count": null,
   "id": "20661b66-2806-48ca-8388-138d7849b8b4",
   "metadata": {},
   "outputs": [],
   "source": []
  }
 ],
 "metadata": {
  "kernelspec": {
   "display_name": "Python 3 (ipykernel)",
   "language": "python",
   "name": "python3"
  },
  "language_info": {
   "codemirror_mode": {
    "name": "ipython",
    "version": 3
   },
   "file_extension": ".py",
   "mimetype": "text/x-python",
   "name": "python",
   "nbconvert_exporter": "python",
   "pygments_lexer": "ipython3",
   "version": "3.8.10"
  }
 },
 "nbformat": 4,
 "nbformat_minor": 5
}
