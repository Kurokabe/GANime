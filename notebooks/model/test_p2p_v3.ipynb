{
 "cells": [
  {
   "cell_type": "code",
   "execution_count": null,
   "id": "c1df7df1-919b-4942-afc2-48962dedb126",
   "metadata": {},
   "outputs": [],
   "source": [
    "#%env CUDA_DEVICE_ORDER=PCI_BUS_ID\n",
    "#%env CUDA_VISIBLE_DEVICES=3, 4, 5"
   ]
  },
  {
   "cell_type": "code",
   "execution_count": null,
   "id": "d0d9e0ec-1abb-4413-a3f6-5bbe1a6d71a1",
   "metadata": {},
   "outputs": [],
   "source": [
    "%load_ext autoreload\n",
    "%autoreload 2"
   ]
  },
  {
   "cell_type": "code",
   "execution_count": null,
   "id": "84f518c7-834e-4aa8-b922-9e939dbf0c26",
   "metadata": {},
   "outputs": [],
   "source": [
    "import numpy as np\n",
    "from ganime.data.base import load_dataset\n",
    "from ganime.model.p2p.p2p_v3 import P2P\n",
    "import tensorflow as tf\n",
    "from tqdm import tqdm\n",
    "tf.get_logger().setLevel('ERROR')"
   ]
  },
  {
   "cell_type": "code",
   "execution_count": null,
   "id": "22037684-cd33-41c0-a5dd-80b89eb18964",
   "metadata": {},
   "outputs": [],
   "source": [
    "train_ds, test_ds, input_shape = load_dataset(\"moving_mnist\", \"../../data\", batch_size=64)"
   ]
  },
  {
   "cell_type": "code",
   "execution_count": null,
   "id": "7b1a29c6-d327-496b-9b69-10c4d5682eaf",
   "metadata": {},
   "outputs": [],
   "source": [
    "train_ds_iterator = train_ds.as_numpy_iterator()\n",
    "x = next(train_ds_iterator)"
   ]
  },
  {
   "cell_type": "code",
   "execution_count": null,
   "id": "2dbe847a-74f1-4121-a93e-35574c0df8c2",
   "metadata": {},
   "outputs": [],
   "source": [
    "strategy = tf.distribute.MirroredStrategy()"
   ]
  },
  {
   "cell_type": "code",
   "execution_count": null,
   "id": "694f2d3d-26ab-4548-be93-82b72829326a",
   "metadata": {},
   "outputs": [],
   "source": [
    "with strategy.scope():\n",
    "    model = P2P(g_dim=256, kl_beta=0.5)"
   ]
  },
  {
   "cell_type": "code",
   "execution_count": null,
   "id": "20661b66-2806-48ca-8388-138d7849b8b4",
   "metadata": {},
   "outputs": [],
   "source": [
    "model.encoder.summary(line_length=200)"
   ]
  },
  {
   "cell_type": "code",
   "execution_count": null,
   "id": "d82aac1b-eef8-4fe2-ba53-54d23e6fd0a7",
   "metadata": {},
   "outputs": [],
   "source": [
    "model.decoder.summary(line_length=200)"
   ]
  },
  {
   "cell_type": "code",
   "execution_count": null,
   "id": "61fb7225-2ea6-47b8-a1f0-58f11a899249",
   "metadata": {
    "tags": []
   },
   "outputs": [],
   "source": [
    "with strategy.scope():\n",
    "    model.compile(optimizer=tf.keras.optimizers.Adam())\n",
    "history = model.fit(train_ds, epochs=500)"
   ]
  },
  {
   "cell_type": "code",
   "execution_count": null,
   "id": "cabe14bb-2208-4417-a2d8-374e55e8ce18",
   "metadata": {},
   "outputs": [],
   "source": [
    "from ganime.visualization.videos import display_videos\n",
    "generated = model(x[0])"
   ]
  },
  {
   "cell_type": "code",
   "execution_count": null,
   "id": "1cf28f03-c82f-4ba5-8bd2-db35cd958f12",
   "metadata": {},
   "outputs": [],
   "source": [
    "display_videos(generated, n_rows=1, n_cols=5)"
   ]
  },
  {
   "cell_type": "code",
   "execution_count": null,
   "id": "53dcaf22-1d07-4e4c-aef2-e9e3535c66f5",
   "metadata": {},
   "outputs": [],
   "source": [
    "display_videos(generated, n_rows=1, n_cols=5)"
   ]
  },
  {
   "cell_type": "code",
   "execution_count": null,
   "id": "2f553cb9-4a12-47bb-897d-b5dd3f1775bd",
   "metadata": {},
   "outputs": [],
   "source": [
    "display_videos(x[1], n_rows=1, n_cols=5)"
   ]
  },
  {
   "cell_type": "code",
   "execution_count": null,
   "id": "77871344-a749-43e5-997b-865dbbe6ac42",
   "metadata": {},
   "outputs": [],
   "source": [
    "model.save(\"B-VAE\")"
   ]
  },
  {
   "cell_type": "code",
   "execution_count": null,
   "id": "3d36139b-612f-41a0-b6d1-2ebcf2a6aa02",
   "metadata": {},
   "outputs": [],
   "source": []
  }
 ],
 "metadata": {
  "kernelspec": {
   "display_name": "Python 3 (ipykernel)",
   "language": "python",
   "name": "python3"
  },
  "language_info": {
   "codemirror_mode": {
    "name": "ipython",
    "version": 3
   },
   "file_extension": ".py",
   "mimetype": "text/x-python",
   "name": "python",
   "nbconvert_exporter": "python",
   "pygments_lexer": "ipython3",
   "version": "3.8.10"
  }
 },
 "nbformat": 4,
 "nbformat_minor": 5
}
