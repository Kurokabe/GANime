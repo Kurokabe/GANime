{
 "cells": [
  {
   "cell_type": "code",
   "execution_count": 1,
   "metadata": {},
   "outputs": [],
   "source": [
    "from ganime.model.moving_vae import MovingVAE\n",
    "import tensorflow as tf\n",
    "from ganime.data.base import load_dataset\n",
    "import numpy as np"
   ]
  },
  {
   "cell_type": "code",
   "execution_count": 2,
   "metadata": {},
   "outputs": [
    {
     "name": "stderr",
     "output_type": "stream",
     "text": [
      "2022-04-12 06:36:46.409364: I tensorflow/core/platform/cpu_feature_guard.cc:151] This TensorFlow binary is optimized with oneAPI Deep Neural Network Library (oneDNN) to use the following CPU instructions in performance-critical operations:  AVX2 FMA\n",
      "To enable them in other operations, rebuild TensorFlow with the appropriate compiler flags.\n",
      "2022-04-12 06:36:48.950366: I tensorflow/core/common_runtime/gpu/gpu_device.cc:1525] Created device /job:localhost/replica:0/task:0/device:GPU:0 with 14256 MB memory:  -> device: 0, name: NVIDIA RTX A4000, pci bus id: 0000:01:00.0, compute capability: 8.6\n",
      "2022-04-12 06:36:48.951531: I tensorflow/core/common_runtime/gpu/gpu_device.cc:1525] Created device /job:localhost/replica:0/task:0/device:GPU:1 with 14256 MB memory:  -> device: 1, name: NVIDIA RTX A4000, pci bus id: 0000:25:00.0, compute capability: 8.6\n",
      "2022-04-12 06:36:48.952395: I tensorflow/core/common_runtime/gpu/gpu_device.cc:1525] Created device /job:localhost/replica:0/task:0/device:GPU:2 with 14256 MB memory:  -> device: 2, name: NVIDIA RTX A4000, pci bus id: 0000:41:00.0, compute capability: 8.6\n",
      "2022-04-12 06:36:48.953259: I tensorflow/core/common_runtime/gpu/gpu_device.cc:1525] Created device /job:localhost/replica:0/task:0/device:GPU:3 with 14256 MB memory:  -> device: 3, name: NVIDIA RTX A4000, pci bus id: 0000:61:00.0, compute capability: 8.6\n",
      "2022-04-12 06:36:48.954168: I tensorflow/core/common_runtime/gpu/gpu_device.cc:1525] Created device /job:localhost/replica:0/task:0/device:GPU:4 with 14256 MB memory:  -> device: 4, name: NVIDIA RTX A4000, pci bus id: 0000:81:00.0, compute capability: 8.6\n",
      "2022-04-12 06:36:48.955013: I tensorflow/core/common_runtime/gpu/gpu_device.cc:1525] Created device /job:localhost/replica:0/task:0/device:GPU:5 with 14256 MB memory:  -> device: 5, name: NVIDIA RTX A4000, pci bus id: 0000:a1:00.0, compute capability: 8.6\n",
      "2022-04-12 06:36:48.955835: I tensorflow/core/common_runtime/gpu/gpu_device.cc:1525] Created device /job:localhost/replica:0/task:0/device:GPU:6 with 14256 MB memory:  -> device: 6, name: NVIDIA RTX A4000, pci bus id: 0000:c1:00.0, compute capability: 8.6\n",
      "2022-04-12 06:36:48.956790: I tensorflow/core/common_runtime/gpu/gpu_device.cc:1525] Created device /job:localhost/replica:0/task:0/device:GPU:7 with 14256 MB memory:  -> device: 7, name: NVIDIA RTX A4000, pci bus id: 0000:e1:00.0, compute capability: 8.6\n"
     ]
    },
    {
     "name": "stdout",
     "output_type": "stream",
     "text": [
      "INFO:tensorflow:Using MirroredStrategy with devices ('/job:localhost/replica:0/task:0/device:GPU:0', '/job:localhost/replica:0/task:0/device:GPU:1', '/job:localhost/replica:0/task:0/device:GPU:2', '/job:localhost/replica:0/task:0/device:GPU:3', '/job:localhost/replica:0/task:0/device:GPU:4', '/job:localhost/replica:0/task:0/device:GPU:5', '/job:localhost/replica:0/task:0/device:GPU:6', '/job:localhost/replica:0/task:0/device:GPU:7')\n"
     ]
    }
   ],
   "source": [
    "strategy = tf.distribute.MirroredStrategy()"
   ]
  },
  {
   "cell_type": "code",
   "execution_count": 3,
   "metadata": {},
   "outputs": [
    {
     "name": "stderr",
     "output_type": "stream",
     "text": [
      "2022-04-12 06:36:50.355701: W tensorflow/python/util/util.cc:368] Sets are not currently considered sequences, but this may change in the future, so consider avoiding using them.\n"
     ]
    }
   ],
   "source": [
    "with strategy.scope():\n",
    "    vae = MovingVAE(input_shape=(20, 64, 64, 1))"
   ]
  },
  {
   "cell_type": "code",
   "execution_count": 4,
   "metadata": {},
   "outputs": [
    {
     "name": "stdout",
     "output_type": "stream",
     "text": [
      "INFO:tensorflow:Reduce to /job:localhost/replica:0/task:0/device:CPU:0 then broadcast to ('/job:localhost/replica:0/task:0/device:CPU:0',).\n",
      "INFO:tensorflow:Reduce to /job:localhost/replica:0/task:0/device:CPU:0 then broadcast to ('/job:localhost/replica:0/task:0/device:CPU:0',).\n",
      "INFO:tensorflow:Reduce to /job:localhost/replica:0/task:0/device:CPU:0 then broadcast to ('/job:localhost/replica:0/task:0/device:CPU:0',).\n",
      "INFO:tensorflow:Reduce to /job:localhost/replica:0/task:0/device:CPU:0 then broadcast to ('/job:localhost/replica:0/task:0/device:CPU:0',).\n"
     ]
    }
   ],
   "source": [
    "negloglik = lambda x, rv_x: -rv_x.log_prob(x)\n",
    "\n",
    "with strategy.scope():\n",
    "    vae.compile(optimizer=tf.optimizers.Adam(learning_rate=1e-3),\n",
    "                loss=negloglik)"
   ]
  },
  {
   "cell_type": "code",
   "execution_count": 5,
   "metadata": {},
   "outputs": [],
   "source": [
    "# data = np.load(\"../../data/mnist_test_seq.npy\")\n",
    "# data.shape\n",
    "\n",
    "# # We can see that data is of shape (window, n_samples, width, height)\n",
    "# # But we want for keras something of shape (n_samples, window, width, height)\n",
    "# data = np.moveaxis(data, 0, 1)\n",
    "# # Also expand dimensions to have channels at the end (n_samples, window, width, height, channels)\n",
    "# data = np.expand_dims(data, axis=-1)\n",
    "# data.shape\n",
    "\n",
    "# def _preprocess(sample):\n",
    "#     image = tf.cast(sample, tf.float32) / 255.  # Scale to unit interval.\n",
    "#     image = image < tf.random.uniform(tf.shape(image))   # Randomly binarize.\n",
    "#     return image, image\n",
    "\n",
    "# train_dataset = (tf.data.Dataset.from_tensor_slices(data[:9000])\n",
    "#                  .map(_preprocess)\n",
    "#                  .batch(256)\n",
    "#                  .prefetch(tf.data.AUTOTUNE)\n",
    "#                  .shuffle(int(10e3)))\n",
    "# test_dataset = (tf.data.Dataset.from_tensor_slices(data[9000:])\n",
    "#                  .map(_preprocess)\n",
    "#                  .batch(256)\n",
    "#                  .prefetch(tf.data.AUTOTUNE)\n",
    "#                  .shuffle(int(10e3)))"
   ]
  },
  {
   "cell_type": "code",
   "execution_count": 6,
   "metadata": {},
   "outputs": [],
   "source": [
    "# train_dataset, ds_info = load_dataset(\"my_dataset\")"
   ]
  },
  {
   "cell_type": "code",
   "execution_count": 7,
   "metadata": {},
   "outputs": [],
   "source": [
    "import ganime.data.my_dataset\n",
    "import tensorflow_datasets as tfds"
   ]
  },
  {
   "cell_type": "code",
   "execution_count": 8,
   "metadata": {},
   "outputs": [],
   "source": [
    "ds = tfds.load('my_dataset')"
   ]
  },
  {
   "cell_type": "code",
   "execution_count": 9,
   "metadata": {},
   "outputs": [],
   "source": [
    "def normalize_img(sample):\n",
    "  \"\"\"Normalizes images: `uint8` -> `float32`.\"\"\"\n",
    "  video = sample[\"video\"]\n",
    "  label = sample[\"output\"]\n",
    "  # image = tf.cast(image, tf.float32) / 255.\n",
    "  return video, label"
   ]
  },
  {
   "cell_type": "code",
   "execution_count": 10,
   "metadata": {},
   "outputs": [],
   "source": [
    "import tensorflow as tf\n",
    "dataset = ds[\"train\"].map(normalize_img, num_parallel_calls=tf.data.AUTOTUNE).shuffle(int(10e3)).batch(256)#.prefetch(tf.data.AUTOTUNE)\n"
   ]
  },
  {
   "cell_type": "code",
   "execution_count": 11,
   "metadata": {},
   "outputs": [
    {
     "name": "stderr",
     "output_type": "stream",
     "text": [
      "2022-04-12 06:36:52.515547: W tensorflow/core/grappler/optimizers/data/auto_shard.cc:547] The `assert_cardinality` transformation is currently not handled by the auto-shard rewrite and will be removed.\n"
     ]
    },
    {
     "name": "stdout",
     "output_type": "stream",
     "text": [
      "Epoch 1/2\n",
      "INFO:tensorflow:batch_all_reduce: 24 all-reduces with algorithm = nccl, num_packs = 1\n"
     ]
    },
    {
     "name": "stderr",
     "output_type": "stream",
     "text": [
      "INFO:tensorflow:batch_all_reduce: 24 all-reduces with algorithm = nccl, num_packs = 1\n"
     ]
    },
    {
     "name": "stdout",
     "output_type": "stream",
     "text": [
      "INFO:tensorflow:Reduce to /job:localhost/replica:0/task:0/device:CPU:0 then broadcast to ('/job:localhost/replica:0/task:0/device:CPU:0',).\n"
     ]
    },
    {
     "name": "stderr",
     "output_type": "stream",
     "text": [
      "INFO:tensorflow:Reduce to /job:localhost/replica:0/task:0/device:CPU:0 then broadcast to ('/job:localhost/replica:0/task:0/device:CPU:0',).\n"
     ]
    },
    {
     "name": "stdout",
     "output_type": "stream",
     "text": [
      "INFO:tensorflow:Reduce to /job:localhost/replica:0/task:0/device:CPU:0 then broadcast to ('/job:localhost/replica:0/task:0/device:CPU:0',).\n"
     ]
    },
    {
     "name": "stderr",
     "output_type": "stream",
     "text": [
      "INFO:tensorflow:Reduce to /job:localhost/replica:0/task:0/device:CPU:0 then broadcast to ('/job:localhost/replica:0/task:0/device:CPU:0',).\n"
     ]
    },
    {
     "name": "stdout",
     "output_type": "stream",
     "text": [
      "INFO:tensorflow:Reduce to /job:localhost/replica:0/task:0/device:CPU:0 then broadcast to ('/job:localhost/replica:0/task:0/device:CPU:0',).\n"
     ]
    },
    {
     "name": "stderr",
     "output_type": "stream",
     "text": [
      "INFO:tensorflow:Reduce to /job:localhost/replica:0/task:0/device:CPU:0 then broadcast to ('/job:localhost/replica:0/task:0/device:CPU:0',).\n"
     ]
    },
    {
     "name": "stdout",
     "output_type": "stream",
     "text": [
      "INFO:tensorflow:batch_all_reduce: 24 all-reduces with algorithm = nccl, num_packs = 1\n"
     ]
    },
    {
     "name": "stderr",
     "output_type": "stream",
     "text": [
      "INFO:tensorflow:batch_all_reduce: 24 all-reduces with algorithm = nccl, num_packs = 1\n"
     ]
    },
    {
     "name": "stdout",
     "output_type": "stream",
     "text": [
      "INFO:tensorflow:Reduce to /job:localhost/replica:0/task:0/device:CPU:0 then broadcast to ('/job:localhost/replica:0/task:0/device:CPU:0',).\n"
     ]
    },
    {
     "name": "stderr",
     "output_type": "stream",
     "text": [
      "INFO:tensorflow:Reduce to /job:localhost/replica:0/task:0/device:CPU:0 then broadcast to ('/job:localhost/replica:0/task:0/device:CPU:0',).\n"
     ]
    },
    {
     "name": "stdout",
     "output_type": "stream",
     "text": [
      "INFO:tensorflow:Reduce to /job:localhost/replica:0/task:0/device:CPU:0 then broadcast to ('/job:localhost/replica:0/task:0/device:CPU:0',).\n"
     ]
    },
    {
     "name": "stderr",
     "output_type": "stream",
     "text": [
      "INFO:tensorflow:Reduce to /job:localhost/replica:0/task:0/device:CPU:0 then broadcast to ('/job:localhost/replica:0/task:0/device:CPU:0',).\n",
      "2022-04-12 06:37:09.070905: W tensorflow/core/framework/op_kernel.cc:1745] OP_REQUIRES failed at example_parsing_ops.cc:94 : INVALID_ARGUMENT: Feature: output (data type: string) is required but could not be found.\n",
      "2022-04-12 06:37:09.070960: W tensorflow/core/framework/op_kernel.cc:1745] OP_REQUIRES failed at example_parsing_ops.cc:94 : INVALID_ARGUMENT: Feature: output (data type: string) is required but could not be found.\n",
      "2022-04-12 06:37:09.071012: W tensorflow/core/framework/op_kernel.cc:1745] OP_REQUIRES failed at example_parsing_ops.cc:94 : INVALID_ARGUMENT: Feature: output (data type: string) is required but could not be found.\n",
      "2022-04-12 06:37:09.071061: W tensorflow/core/framework/op_kernel.cc:1745] OP_REQUIRES failed at example_parsing_ops.cc:94 : INVALID_ARGUMENT: Feature: output (data type: string) is required but could not be found.\n",
      "2022-04-12 06:37:09.071133: W tensorflow/core/framework/op_kernel.cc:1745] OP_REQUIRES failed at example_parsing_ops.cc:94 : INVALID_ARGUMENT: Feature: output (data type: string) is required but could not be found.\n",
      "2022-04-12 06:37:09.071738: W tensorflow/core/framework/op_kernel.cc:1745] OP_REQUIRES failed at example_parsing_ops.cc:94 : INVALID_ARGUMENT: Feature: output (data type: string) is required but could not be found.\n",
      "2022-04-12 06:37:09.071768: W tensorflow/core/framework/op_kernel.cc:1745] OP_REQUIRES failed at example_parsing_ops.cc:94 : INVALID_ARGUMENT: Feature: output (data type: string) is required but could not be found.\n",
      "2022-04-12 06:37:09.071797: W tensorflow/core/framework/op_kernel.cc:1745] OP_REQUIRES failed at example_parsing_ops.cc:94 : INVALID_ARGUMENT: Feature: output (data type: string) is required but could not be found.\n",
      "2022-04-12 06:37:09.072104: W tensorflow/core/framework/op_kernel.cc:1745] OP_REQUIRES failed at example_parsing_ops.cc:94 : INVALID_ARGUMENT: Feature: output (data type: string) is required but could not be found.\n",
      "2022-04-12 06:37:09.072158: W tensorflow/core/framework/op_kernel.cc:1745] OP_REQUIRES failed at example_parsing_ops.cc:94 : INVALID_ARGUMENT: Feature: output (data type: string) is required but could not be found.\n",
      "2022-04-12 06:37:09.072192: W tensorflow/core/framework/op_kernel.cc:1745] OP_REQUIRES failed at example_parsing_ops.cc:94 : INVALID_ARGUMENT: Feature: output (data type: string) is required but could not be found.\n",
      "2022-04-12 06:37:09.072212: W tensorflow/core/framework/op_kernel.cc:1745] OP_REQUIRES failed at example_parsing_ops.cc:94 : INVALID_ARGUMENT: Feature: output (data type: string) is required but could not be found.\n",
      "2022-04-12 06:37:09.072589: W tensorflow/core/framework/op_kernel.cc:1745] OP_REQUIRES failed at example_parsing_ops.cc:94 : INVALID_ARGUMENT: Feature: output (data type: string) is required but could not be found.\n",
      "2022-04-12 06:37:09.072656: W tensorflow/core/framework/op_kernel.cc:1745] OP_REQUIRES failed at example_parsing_ops.cc:94 : INVALID_ARGUMENT: Feature: output (data type: string) is required but could not be found.\n",
      "2022-04-12 06:37:09.072690: W tensorflow/core/framework/op_kernel.cc:1745] OP_REQUIRES failed at example_parsing_ops.cc:94 : INVALID_ARGUMENT: Feature: output (data type: string) is required but could not be found.\n",
      "2022-04-12 06:37:09.072738: W tensorflow/core/framework/op_kernel.cc:1745] OP_REQUIRES failed at example_parsing_ops.cc:94 : INVALID_ARGUMENT: Feature: output (data type: string) is required but could not be found.\n",
      "2022-04-12 06:37:09.072760: W tensorflow/core/framework/op_kernel.cc:1745] OP_REQUIRES failed at example_parsing_ops.cc:94 : INVALID_ARGUMENT: Feature: output (data type: string) is required but could not be found.\n",
      "2022-04-12 06:37:09.072833: W tensorflow/core/framework/op_kernel.cc:1745] OP_REQUIRES failed at example_parsing_ops.cc:94 : INVALID_ARGUMENT: Feature: output (data type: string) is required but could not be found.\n",
      "2022-04-12 06:37:09.072970: W tensorflow/core/framework/op_kernel.cc:1745] OP_REQUIRES failed at example_parsing_ops.cc:94 : INVALID_ARGUMENT: Feature: output (data type: string) is required but could not be found.\n",
      "2022-04-12 06:37:09.073141: W tensorflow/core/framework/op_kernel.cc:1745] OP_REQUIRES failed at example_parsing_ops.cc:94 : INVALID_ARGUMENT: Feature: output (data type: string) is required but could not be found.\n",
      "2022-04-12 06:37:09.073200: W tensorflow/core/framework/op_kernel.cc:1745] OP_REQUIRES failed at example_parsing_ops.cc:94 : INVALID_ARGUMENT: Feature: output (data type: string) is required but could not be found.\n",
      "2022-04-12 06:37:09.073600: W tensorflow/core/framework/op_kernel.cc:1745] OP_REQUIRES failed at example_parsing_ops.cc:94 : INVALID_ARGUMENT: Feature: output (data type: string) is required but could not be found.\n",
      "2022-04-12 06:37:09.073675: W tensorflow/core/framework/op_kernel.cc:1745] OP_REQUIRES failed at example_parsing_ops.cc:94 : INVALID_ARGUMENT: Feature: output (data type: string) is required but could not be found.\n",
      "2022-04-12 06:37:09.073742: W tensorflow/core/framework/op_kernel.cc:1745] OP_REQUIRES failed at example_parsing_ops.cc:94 : INVALID_ARGUMENT: Feature: output (data type: string) is required but could not be found.\n",
      "2022-04-12 06:37:09.073781: W tensorflow/core/framework/op_kernel.cc:1745] OP_REQUIRES failed at example_parsing_ops.cc:94 : INVALID_ARGUMENT: Feature: output (data type: string) is required but could not be found.\n",
      "2022-04-12 06:37:09.073823: W tensorflow/core/framework/op_kernel.cc:1745] OP_REQUIRES failed at example_parsing_ops.cc:94 : INVALID_ARGUMENT: Feature: output (data type: string) is required but could not be found.\n",
      "2022-04-12 06:37:09.073857: W tensorflow/core/framework/op_kernel.cc:1745] OP_REQUIRES failed at example_parsing_ops.cc:94 : INVALID_ARGUMENT: Feature: output (data type: string) is required but could not be found.\n",
      "2022-04-12 06:37:09.074013: W tensorflow/core/framework/op_kernel.cc:1745] OP_REQUIRES failed at example_parsing_ops.cc:94 : INVALID_ARGUMENT: Feature: output (data type: string) is required but could not be found.\n",
      "2022-04-12 06:37:09.074158: W tensorflow/core/framework/op_kernel.cc:1745] OP_REQUIRES failed at example_parsing_ops.cc:94 : INVALID_ARGUMENT: Feature: output (data type: string) is required but could not be found.\n",
      "2022-04-12 06:37:09.074196: W tensorflow/core/framework/op_kernel.cc:1745] OP_REQUIRES failed at example_parsing_ops.cc:94 : INVALID_ARGUMENT: Feature: output (data type: string) is required but could not be found.\n",
      "2022-04-12 06:37:09.074245: W tensorflow/core/framework/op_kernel.cc:1745] OP_REQUIRES failed at example_parsing_ops.cc:94 : INVALID_ARGUMENT: Feature: output (data type: string) is required but could not be found.\n",
      "2022-04-12 06:37:09.074277: W tensorflow/core/framework/op_kernel.cc:1745] OP_REQUIRES failed at example_parsing_ops.cc:94 : INVALID_ARGUMENT: Feature: output (data type: string) is required but could not be found.\n",
      "2022-04-12 06:37:09.074317: W tensorflow/core/framework/op_kernel.cc:1745] OP_REQUIRES failed at example_parsing_ops.cc:94 : INVALID_ARGUMENT: Feature: output (data type: string) is required but could not be found.\n",
      "2022-04-12 06:37:09.074347: W tensorflow/core/framework/op_kernel.cc:1745] OP_REQUIRES failed at example_parsing_ops.cc:94 : INVALID_ARGUMENT: Feature: output (data type: string) is required but could not be found.\n",
      "2022-04-12 06:37:09.074378: W tensorflow/core/framework/op_kernel.cc:1745] OP_REQUIRES failed at example_parsing_ops.cc:94 : INVALID_ARGUMENT: Feature: output (data type: string) is required but could not be found.\n",
      "2022-04-12 06:37:09.074404: W tensorflow/core/framework/op_kernel.cc:1745] OP_REQUIRES failed at example_parsing_ops.cc:94 : INVALID_ARGUMENT: Feature: output (data type: string) is required but could not be found.\n",
      "2022-04-12 06:37:09.074431: W tensorflow/core/framework/op_kernel.cc:1745] OP_REQUIRES failed at example_parsing_ops.cc:94 : INVALID_ARGUMENT: Feature: output (data type: string) is required but could not be found.\n",
      "2022-04-12 06:37:09.074468: W tensorflow/core/framework/op_kernel.cc:1745] OP_REQUIRES failed at example_parsing_ops.cc:94 : INVALID_ARGUMENT: Feature: output (data type: string) is required but could not be found.\n",
      "2022-04-12 06:37:09.074493: W tensorflow/core/framework/op_kernel.cc:1745] OP_REQUIRES failed at example_parsing_ops.cc:94 : INVALID_ARGUMENT: Feature: output (data type: string) is required but could not be found.\n",
      "2022-04-12 06:37:09.074560: W tensorflow/core/framework/op_kernel.cc:1745] OP_REQUIRES failed at example_parsing_ops.cc:94 : INVALID_ARGUMENT: Feature: output (data type: string) is required but could not be found.\n",
      "2022-04-12 06:37:09.074601: W tensorflow/core/framework/op_kernel.cc:1745] OP_REQUIRES failed at example_parsing_ops.cc:94 : INVALID_ARGUMENT: Feature: output (data type: string) is required but could not be found.\n",
      "2022-04-12 06:37:09.074675: W tensorflow/core/framework/op_kernel.cc:1745] OP_REQUIRES failed at example_parsing_ops.cc:94 : INVALID_ARGUMENT: Feature: output (data type: string) is required but could not be found.\n",
      "2022-04-12 06:37:09.074717: W tensorflow/core/framework/op_kernel.cc:1745] OP_REQUIRES failed at example_parsing_ops.cc:94 : INVALID_ARGUMENT: Feature: output (data type: string) is required but could not be found.\n",
      "2022-04-12 06:37:09.074729: W tensorflow/core/framework/op_kernel.cc:1745] OP_REQUIRES failed at example_parsing_ops.cc:94 : INVALID_ARGUMENT: Feature: output (data type: string) is required but could not be found.\n",
      "2022-04-12 06:37:09.075051: W tensorflow/core/framework/op_kernel.cc:1745] OP_REQUIRES failed at example_parsing_ops.cc:94 : INVALID_ARGUMENT: Feature: output (data type: string) is required but could not be found.\n",
      "2022-04-12 06:37:09.075254: W tensorflow/core/framework/op_kernel.cc:1745] OP_REQUIRES failed at example_parsing_ops.cc:94 : INVALID_ARGUMENT: Feature: output (data type: string) is required but could not be found.\n",
      "2022-04-12 06:37:09.075675: W tensorflow/core/framework/op_kernel.cc:1745] OP_REQUIRES failed at example_parsing_ops.cc:94 : INVALID_ARGUMENT: Feature: output (data type: string) is required but could not be found.\n",
      "2022-04-12 06:37:09.075792: W tensorflow/core/framework/op_kernel.cc:1745] OP_REQUIRES failed at example_parsing_ops.cc:94 : INVALID_ARGUMENT: Feature: output (data type: string) is required but could not be found.\n",
      "2022-04-12 06:37:09.075805: W tensorflow/core/framework/op_kernel.cc:1745] OP_REQUIRES failed at example_parsing_ops.cc:94 : INVALID_ARGUMENT: Feature: output (data type: string) is required but could not be found.\n",
      "2022-04-12 06:37:09.075851: W tensorflow/core/framework/op_kernel.cc:1745] OP_REQUIRES failed at example_parsing_ops.cc:94 : INVALID_ARGUMENT: Feature: output (data type: string) is required but could not be found.\n",
      "2022-04-12 06:37:09.075889: W tensorflow/core/framework/op_kernel.cc:1745] OP_REQUIRES failed at example_parsing_ops.cc:94 : INVALID_ARGUMENT: Feature: output (data type: string) is required but could not be found.\n",
      "2022-04-12 06:37:09.075922: W tensorflow/core/framework/op_kernel.cc:1745] OP_REQUIRES failed at example_parsing_ops.cc:94 : INVALID_ARGUMENT: Feature: output (data type: string) is required but could not be found.\n",
      "2022-04-12 06:37:09.075956: W tensorflow/core/framework/op_kernel.cc:1745] OP_REQUIRES failed at example_parsing_ops.cc:94 : INVALID_ARGUMENT: Feature: output (data type: string) is required but could not be found.\n",
      "2022-04-12 06:37:09.075986: W tensorflow/core/framework/op_kernel.cc:1745] OP_REQUIRES failed at example_parsing_ops.cc:94 : INVALID_ARGUMENT: Feature: output (data type: string) is required but could not be found.\n",
      "2022-04-12 06:37:09.076114: W tensorflow/core/framework/op_kernel.cc:1745] OP_REQUIRES failed at example_parsing_ops.cc:94 : INVALID_ARGUMENT: Feature: output (data type: string) is required but could not be found.\n",
      "2022-04-12 06:37:09.076125: W tensorflow/core/framework/op_kernel.cc:1745] OP_REQUIRES failed at example_parsing_ops.cc:94 : INVALID_ARGUMENT: Feature: output (data type: string) is required but could not be found.\n",
      "2022-04-12 06:37:09.076142: W tensorflow/core/framework/op_kernel.cc:1745] OP_REQUIRES failed at example_parsing_ops.cc:94 : INVALID_ARGUMENT: Feature: output (data type: string) is required but could not be found.\n",
      "2022-04-12 06:37:09.076160: W tensorflow/core/framework/op_kernel.cc:1745] OP_REQUIRES failed at example_parsing_ops.cc:94 : INVALID_ARGUMENT: Feature: output (data type: string) is required but could not be found.\n",
      "2022-04-12 06:37:09.076183: W tensorflow/core/framework/op_kernel.cc:1745] OP_REQUIRES failed at example_parsing_ops.cc:94 : INVALID_ARGUMENT: Feature: output (data type: string) is required but could not be found.\n",
      "2022-04-12 06:37:09.076231: W tensorflow/core/framework/op_kernel.cc:1745] OP_REQUIRES failed at example_parsing_ops.cc:94 : INVALID_ARGUMENT: Feature: output (data type: string) is required but could not be found.\n",
      "2022-04-12 06:37:09.076254: W tensorflow/core/framework/op_kernel.cc:1745] OP_REQUIRES failed at example_parsing_ops.cc:94 : INVALID_ARGUMENT: Feature: output (data type: string) is required but could not be found.\n",
      "2022-04-12 06:37:09.076263: W tensorflow/core/framework/op_kernel.cc:1745] OP_REQUIRES failed at example_parsing_ops.cc:94 : INVALID_ARGUMENT: Feature: output (data type: string) is required but could not be found.\n",
      "2022-04-12 06:37:09.076291: W tensorflow/core/framework/op_kernel.cc:1745] OP_REQUIRES failed at example_parsing_ops.cc:94 : INVALID_ARGUMENT: Feature: output (data type: string) is required but could not be found.\n",
      "2022-04-12 06:37:09.076314: W tensorflow/core/framework/op_kernel.cc:1745] OP_REQUIRES failed at example_parsing_ops.cc:94 : INVALID_ARGUMENT: Feature: output (data type: string) is required but could not be found.\n",
      "2022-04-12 06:37:09.076349: W tensorflow/core/framework/op_kernel.cc:1745] OP_REQUIRES failed at example_parsing_ops.cc:94 : INVALID_ARGUMENT: Feature: output (data type: string) is required but could not be found.\n",
      "2022-04-12 06:37:09.076366: W tensorflow/core/framework/op_kernel.cc:1745] OP_REQUIRES failed at example_parsing_ops.cc:94 : INVALID_ARGUMENT: Feature: output (data type: string) is required but could not be found.\n",
      "2022-04-12 06:37:09.076472: W tensorflow/core/framework/op_kernel.cc:1745] OP_REQUIRES failed at example_parsing_ops.cc:94 : INVALID_ARGUMENT: Feature: output (data type: string) is required but could not be found.\n",
      "2022-04-12 06:37:09.076516: W tensorflow/core/framework/op_kernel.cc:1745] OP_REQUIRES failed at example_parsing_ops.cc:94 : INVALID_ARGUMENT: Feature: output (data type: string) is required but could not be found.\n",
      "2022-04-12 06:37:09.076525: W tensorflow/core/framework/op_kernel.cc:1745] OP_REQUIRES failed at example_parsing_ops.cc:94 : INVALID_ARGUMENT: Feature: output (data type: string) is required but could not be found.\n",
      "2022-04-12 06:37:09.076547: W tensorflow/core/framework/op_kernel.cc:1745] OP_REQUIRES failed at example_parsing_ops.cc:94 : INVALID_ARGUMENT: Feature: output (data type: string) is required but could not be found.\n",
      "2022-04-12 06:37:09.076568: W tensorflow/core/framework/op_kernel.cc:1745] OP_REQUIRES failed at example_parsing_ops.cc:94 : INVALID_ARGUMENT: Feature: output (data type: string) is required but could not be found.\n",
      "2022-04-12 06:37:09.076641: W tensorflow/core/framework/op_kernel.cc:1745] OP_REQUIRES failed at example_parsing_ops.cc:94 : INVALID_ARGUMENT: Feature: output (data type: string) is required but could not be found.\n",
      "2022-04-12 06:37:09.076688: W tensorflow/core/framework/op_kernel.cc:1745] OP_REQUIRES failed at example_parsing_ops.cc:94 : INVALID_ARGUMENT: Feature: output (data type: string) is required but could not be found.\n",
      "2022-04-12 06:37:09.076912: W tensorflow/core/framework/op_kernel.cc:1745] OP_REQUIRES failed at example_parsing_ops.cc:94 : INVALID_ARGUMENT: Feature: output (data type: string) is required but could not be found.\n",
      "2022-04-12 06:37:09.076995: W tensorflow/core/framework/op_kernel.cc:1745] OP_REQUIRES failed at example_parsing_ops.cc:94 : INVALID_ARGUMENT: Feature: output (data type: string) is required but could not be found.\n",
      "2022-04-12 06:37:09.077042: W tensorflow/core/framework/op_kernel.cc:1745] OP_REQUIRES failed at example_parsing_ops.cc:94 : INVALID_ARGUMENT: Feature: output (data type: string) is required but could not be found.\n",
      "2022-04-12 06:37:09.077093: W tensorflow/core/framework/op_kernel.cc:1745] OP_REQUIRES failed at example_parsing_ops.cc:94 : INVALID_ARGUMENT: Feature: output (data type: string) is required but could not be found.\n",
      "2022-04-12 06:37:09.077265: W tensorflow/core/framework/op_kernel.cc:1745] OP_REQUIRES failed at example_parsing_ops.cc:94 : INVALID_ARGUMENT: Feature: output (data type: string) is required but could not be found.\n",
      "2022-04-12 06:37:09.077293: W tensorflow/core/framework/op_kernel.cc:1745] OP_REQUIRES failed at example_parsing_ops.cc:94 : INVALID_ARGUMENT: Feature: output (data type: string) is required but could not be found.\n",
      "2022-04-12 06:37:09.077420: W tensorflow/core/framework/op_kernel.cc:1745] OP_REQUIRES failed at example_parsing_ops.cc:94 : INVALID_ARGUMENT: Feature: output (data type: string) is required but could not be found.\n",
      "2022-04-12 06:37:09.077519: W tensorflow/core/framework/op_kernel.cc:1745] OP_REQUIRES failed at example_parsing_ops.cc:94 : INVALID_ARGUMENT: Feature: output (data type: string) is required but could not be found.\n",
      "2022-04-12 06:37:09.077539: W tensorflow/core/framework/op_kernel.cc:1745] OP_REQUIRES failed at example_parsing_ops.cc:94 : INVALID_ARGUMENT: Feature: output (data type: string) is required but could not be found.\n",
      "2022-04-12 06:37:09.077815: W tensorflow/core/framework/op_kernel.cc:1745] OP_REQUIRES failed at example_parsing_ops.cc:94 : INVALID_ARGUMENT: Feature: output (data type: string) is required but could not be found.\n",
      "2022-04-12 06:37:09.077845: W tensorflow/core/framework/op_kernel.cc:1745] OP_REQUIRES failed at example_parsing_ops.cc:94 : INVALID_ARGUMENT: Feature: output (data type: string) is required but could not be found.\n",
      "2022-04-12 06:37:09.077873: W tensorflow/core/framework/op_kernel.cc:1745] OP_REQUIRES failed at example_parsing_ops.cc:94 : INVALID_ARGUMENT: Feature: output (data type: string) is required but could not be found.\n",
      "2022-04-12 06:37:09.077935: W tensorflow/core/framework/op_kernel.cc:1745] OP_REQUIRES failed at example_parsing_ops.cc:94 : INVALID_ARGUMENT: Feature: output (data type: string) is required but could not be found.\n",
      "2022-04-12 06:37:09.077967: W tensorflow/core/framework/op_kernel.cc:1745] OP_REQUIRES failed at example_parsing_ops.cc:94 : INVALID_ARGUMENT: Feature: output (data type: string) is required but could not be found.\n",
      "2022-04-12 06:37:09.078440: W tensorflow/core/framework/op_kernel.cc:1745] OP_REQUIRES failed at example_parsing_ops.cc:94 : INVALID_ARGUMENT: Feature: output (data type: string) is required but could not be found.\n",
      "2022-04-12 06:37:09.078491: W tensorflow/core/framework/op_kernel.cc:1745] OP_REQUIRES failed at example_parsing_ops.cc:94 : INVALID_ARGUMENT: Feature: output (data type: string) is required but could not be found.\n",
      "2022-04-12 06:37:09.078608: W tensorflow/core/framework/op_kernel.cc:1745] OP_REQUIRES failed at example_parsing_ops.cc:94 : INVALID_ARGUMENT: Feature: output (data type: string) is required but could not be found.\n",
      "2022-04-12 06:37:09.078646: W tensorflow/core/framework/op_kernel.cc:1745] OP_REQUIRES failed at example_parsing_ops.cc:94 : INVALID_ARGUMENT: Feature: output (data type: string) is required but could not be found.\n",
      "2022-04-12 06:37:09.078683: W tensorflow/core/framework/op_kernel.cc:1745] OP_REQUIRES failed at example_parsing_ops.cc:94 : INVALID_ARGUMENT: Feature: output (data type: string) is required but could not be found.\n",
      "2022-04-12 06:37:09.078728: W tensorflow/core/framework/op_kernel.cc:1745] OP_REQUIRES failed at example_parsing_ops.cc:94 : INVALID_ARGUMENT: Feature: output (data type: string) is required but could not be found.\n",
      "2022-04-12 06:37:09.078857: W tensorflow/core/framework/op_kernel.cc:1745] OP_REQUIRES failed at example_parsing_ops.cc:94 : INVALID_ARGUMENT: Feature: output (data type: string) is required but could not be found.\n",
      "2022-04-12 06:37:09.078998: W tensorflow/core/framework/op_kernel.cc:1745] OP_REQUIRES failed at example_parsing_ops.cc:94 : INVALID_ARGUMENT: Feature: output (data type: string) is required but could not be found.\n",
      "2022-04-12 06:37:09.079098: W tensorflow/core/framework/op_kernel.cc:1745] OP_REQUIRES failed at example_parsing_ops.cc:94 : INVALID_ARGUMENT: Feature: output (data type: string) is required but could not be found.\n",
      "2022-04-12 06:37:09.079218: W tensorflow/core/framework/op_kernel.cc:1745] OP_REQUIRES failed at example_parsing_ops.cc:94 : INVALID_ARGUMENT: Feature: output (data type: string) is required but could not be found.\n",
      "2022-04-12 06:37:09.079245: W tensorflow/core/framework/op_kernel.cc:1745] OP_REQUIRES failed at example_parsing_ops.cc:94 : INVALID_ARGUMENT: Feature: output (data type: string) is required but could not be found.\n",
      "2022-04-12 06:37:09.079314: W tensorflow/core/framework/op_kernel.cc:1745] OP_REQUIRES failed at example_parsing_ops.cc:94 : INVALID_ARGUMENT: Feature: output (data type: string) is required but could not be found.\n",
      "2022-04-12 06:37:09.079358: W tensorflow/core/framework/op_kernel.cc:1745] OP_REQUIRES failed at example_parsing_ops.cc:94 : INVALID_ARGUMENT: Feature: output (data type: string) is required but could not be found.\n",
      "2022-04-12 06:37:09.079389: W tensorflow/core/framework/op_kernel.cc:1745] OP_REQUIRES failed at example_parsing_ops.cc:94 : INVALID_ARGUMENT: Feature: output (data type: string) is required but could not be found.\n",
      "2022-04-12 06:37:09.079418: W tensorflow/core/framework/op_kernel.cc:1745] OP_REQUIRES failed at example_parsing_ops.cc:94 : INVALID_ARGUMENT: Feature: output (data type: string) is required but could not be found.\n",
      "2022-04-12 06:37:09.079490: W tensorflow/core/framework/op_kernel.cc:1745] OP_REQUIRES failed at example_parsing_ops.cc:94 : INVALID_ARGUMENT: Feature: output (data type: string) is required but could not be found.\n",
      "2022-04-12 06:37:09.079965: W tensorflow/core/framework/op_kernel.cc:1745] OP_REQUIRES failed at example_parsing_ops.cc:94 : INVALID_ARGUMENT: Feature: output (data type: string) is required but could not be found.\n",
      "2022-04-12 06:37:09.080027: W tensorflow/core/framework/op_kernel.cc:1745] OP_REQUIRES failed at example_parsing_ops.cc:94 : INVALID_ARGUMENT: Feature: output (data type: string) is required but could not be found.\n",
      "2022-04-12 06:37:09.080050: W tensorflow/core/framework/op_kernel.cc:1745] OP_REQUIRES failed at example_parsing_ops.cc:94 : INVALID_ARGUMENT: Feature: output (data type: string) is required but could not be found.\n",
      "2022-04-12 06:37:09.080076: W tensorflow/core/framework/op_kernel.cc:1745] OP_REQUIRES failed at example_parsing_ops.cc:94 : INVALID_ARGUMENT: Feature: output (data type: string) is required but could not be found.\n",
      "2022-04-12 06:37:09.080094: W tensorflow/core/framework/op_kernel.cc:1745] OP_REQUIRES failed at example_parsing_ops.cc:94 : INVALID_ARGUMENT: Feature: output (data type: string) is required but could not be found.\n",
      "2022-04-12 06:37:09.080116: W tensorflow/core/framework/op_kernel.cc:1745] OP_REQUIRES failed at example_parsing_ops.cc:94 : INVALID_ARGUMENT: Feature: output (data type: string) is required but could not be found.\n",
      "2022-04-12 06:37:09.080170: W tensorflow/core/framework/op_kernel.cc:1745] OP_REQUIRES failed at example_parsing_ops.cc:94 : INVALID_ARGUMENT: Feature: output (data type: string) is required but could not be found.\n",
      "2022-04-12 06:37:09.080268: W tensorflow/core/framework/op_kernel.cc:1745] OP_REQUIRES failed at example_parsing_ops.cc:94 : INVALID_ARGUMENT: Feature: output (data type: string) is required but could not be found.\n",
      "2022-04-12 06:37:09.080288: W tensorflow/core/framework/op_kernel.cc:1745] OP_REQUIRES failed at example_parsing_ops.cc:94 : INVALID_ARGUMENT: Feature: output (data type: string) is required but could not be found.\n",
      "2022-04-12 06:37:09.080309: W tensorflow/core/framework/op_kernel.cc:1745] OP_REQUIRES failed at example_parsing_ops.cc:94 : INVALID_ARGUMENT: Feature: output (data type: string) is required but could not be found.\n",
      "2022-04-12 06:37:09.080338: W tensorflow/core/framework/op_kernel.cc:1745] OP_REQUIRES failed at example_parsing_ops.cc:94 : INVALID_ARGUMENT: Feature: output (data type: string) is required but could not be found.\n",
      "2022-04-12 06:37:09.080358: W tensorflow/core/framework/op_kernel.cc:1745] OP_REQUIRES failed at example_parsing_ops.cc:94 : INVALID_ARGUMENT: Feature: output (data type: string) is required but could not be found.\n",
      "2022-04-12 06:37:09.080419: W tensorflow/core/framework/op_kernel.cc:1745] OP_REQUIRES failed at example_parsing_ops.cc:94 : INVALID_ARGUMENT: Feature: output (data type: string) is required but could not be found.\n",
      "2022-04-12 06:37:09.080628: W tensorflow/core/framework/op_kernel.cc:1745] OP_REQUIRES failed at example_parsing_ops.cc:94 : INVALID_ARGUMENT: Feature: output (data type: string) is required but could not be found.\n",
      "2022-04-12 06:37:09.080782: W tensorflow/core/framework/op_kernel.cc:1745] OP_REQUIRES failed at example_parsing_ops.cc:94 : INVALID_ARGUMENT: Feature: output (data type: string) is required but could not be found.\n",
      "2022-04-12 06:37:09.080804: W tensorflow/core/framework/op_kernel.cc:1745] OP_REQUIRES failed at example_parsing_ops.cc:94 : INVALID_ARGUMENT: Feature: output (data type: string) is required but could not be found.\n",
      "2022-04-12 06:37:09.080892: W tensorflow/core/framework/op_kernel.cc:1745] OP_REQUIRES failed at example_parsing_ops.cc:94 : INVALID_ARGUMENT: Feature: output (data type: string) is required but could not be found.\n",
      "2022-04-12 06:37:09.080898: W tensorflow/core/framework/op_kernel.cc:1745] OP_REQUIRES failed at example_parsing_ops.cc:94 : INVALID_ARGUMENT: Feature: output (data type: string) is required but could not be found.\n",
      "2022-04-12 06:37:09.081025: W tensorflow/core/framework/op_kernel.cc:1745] OP_REQUIRES failed at example_parsing_ops.cc:94 : INVALID_ARGUMENT: Feature: output (data type: string) is required but could not be found.\n",
      "2022-04-12 06:37:09.081041: W tensorflow/core/framework/op_kernel.cc:1745] OP_REQUIRES failed at example_parsing_ops.cc:94 : INVALID_ARGUMENT: Feature: output (data type: string) is required but could not be found.\n",
      "2022-04-12 06:37:09.081127: W tensorflow/core/framework/op_kernel.cc:1745] OP_REQUIRES failed at example_parsing_ops.cc:94 : INVALID_ARGUMENT: Feature: output (data type: string) is required but could not be found.\n",
      "2022-04-12 06:37:09.081163: W tensorflow/core/framework/op_kernel.cc:1745] OP_REQUIRES failed at example_parsing_ops.cc:94 : INVALID_ARGUMENT: Feature: output (data type: string) is required but could not be found.\n",
      "2022-04-12 06:37:09.081201: W tensorflow/core/framework/op_kernel.cc:1745] OP_REQUIRES failed at example_parsing_ops.cc:94 : INVALID_ARGUMENT: Feature: output (data type: string) is required but could not be found.\n",
      "2022-04-12 06:37:09.081211: W tensorflow/core/framework/op_kernel.cc:1745] OP_REQUIRES failed at example_parsing_ops.cc:94 : INVALID_ARGUMENT: Feature: output (data type: string) is required but could not be found.\n",
      "2022-04-12 06:37:09.081284: W tensorflow/core/framework/op_kernel.cc:1745] OP_REQUIRES failed at example_parsing_ops.cc:94 : INVALID_ARGUMENT: Feature: output (data type: string) is required but could not be found.\n",
      "2022-04-12 06:37:09.081321: W tensorflow/core/framework/op_kernel.cc:1745] OP_REQUIRES failed at example_parsing_ops.cc:94 : INVALID_ARGUMENT: Feature: output (data type: string) is required but could not be found.\n",
      "2022-04-12 06:37:09.081357: W tensorflow/core/framework/op_kernel.cc:1745] OP_REQUIRES failed at example_parsing_ops.cc:94 : INVALID_ARGUMENT: Feature: output (data type: string) is required but could not be found.\n",
      "2022-04-12 06:37:09.081431: W tensorflow/core/framework/op_kernel.cc:1745] OP_REQUIRES failed at example_parsing_ops.cc:94 : INVALID_ARGUMENT: Feature: output (data type: string) is required but could not be found.\n",
      "2022-04-12 06:37:09.081467: W tensorflow/core/framework/op_kernel.cc:1745] OP_REQUIRES failed at example_parsing_ops.cc:94 : INVALID_ARGUMENT: Feature: output (data type: string) is required but could not be found.\n",
      "2022-04-12 06:37:09.081502: W tensorflow/core/framework/op_kernel.cc:1745] OP_REQUIRES failed at example_parsing_ops.cc:94 : INVALID_ARGUMENT: Feature: output (data type: string) is required but could not be found.\n",
      "2022-04-12 06:37:09.081616: W tensorflow/core/framework/op_kernel.cc:1745] OP_REQUIRES failed at example_parsing_ops.cc:94 : INVALID_ARGUMENT: Feature: output (data type: string) is required but could not be found.\n",
      "2022-04-12 06:37:09.081673: W tensorflow/core/framework/op_kernel.cc:1745] OP_REQUIRES failed at example_parsing_ops.cc:94 : INVALID_ARGUMENT: Feature: output (data type: string) is required but could not be found.\n",
      "2022-04-12 06:37:09.081806: W tensorflow/core/framework/op_kernel.cc:1745] OP_REQUIRES failed at example_parsing_ops.cc:94 : INVALID_ARGUMENT: Feature: output (data type: string) is required but could not be found.\n",
      "2022-04-12 06:37:09.081870: W tensorflow/core/framework/op_kernel.cc:1745] OP_REQUIRES failed at example_parsing_ops.cc:94 : INVALID_ARGUMENT: Feature: output (data type: string) is required but could not be found.\n",
      "2022-04-12 06:37:09.081921: W tensorflow/core/framework/op_kernel.cc:1745] OP_REQUIRES failed at example_parsing_ops.cc:94 : INVALID_ARGUMENT: Feature: output (data type: string) is required but could not be found.\n",
      "2022-04-12 06:37:09.081947: W tensorflow/core/framework/op_kernel.cc:1745] OP_REQUIRES failed at example_parsing_ops.cc:94 : INVALID_ARGUMENT: Feature: output (data type: string) is required but could not be found.\n",
      "2022-04-12 06:37:09.082113: W tensorflow/core/framework/op_kernel.cc:1745] OP_REQUIRES failed at example_parsing_ops.cc:94 : INVALID_ARGUMENT: Feature: output (data type: string) is required but could not be found.\n",
      "2022-04-12 06:37:09.082273: W tensorflow/core/framework/op_kernel.cc:1745] OP_REQUIRES failed at example_parsing_ops.cc:94 : INVALID_ARGUMENT: Feature: output (data type: string) is required but could not be found.\n",
      "2022-04-12 06:37:09.082434: W tensorflow/core/framework/op_kernel.cc:1745] OP_REQUIRES failed at example_parsing_ops.cc:94 : INVALID_ARGUMENT: Feature: output (data type: string) is required but could not be found.\n",
      "2022-04-12 06:37:09.082829: W tensorflow/core/framework/op_kernel.cc:1745] OP_REQUIRES failed at example_parsing_ops.cc:94 : INVALID_ARGUMENT: Feature: output (data type: string) is required but could not be found.\n",
      "2022-04-12 06:37:09.083000: W tensorflow/core/framework/op_kernel.cc:1745] OP_REQUIRES failed at example_parsing_ops.cc:94 : INVALID_ARGUMENT: Feature: output (data type: string) is required but could not be found.\n",
      "2022-04-12 06:37:09.083141: W tensorflow/core/framework/op_kernel.cc:1745] OP_REQUIRES failed at example_parsing_ops.cc:94 : INVALID_ARGUMENT: Feature: output (data type: string) is required but could not be found.\n",
      "2022-04-12 06:37:09.083172: W tensorflow/core/framework/op_kernel.cc:1745] OP_REQUIRES failed at example_parsing_ops.cc:94 : INVALID_ARGUMENT: Feature: output (data type: string) is required but could not be found.\n",
      "2022-04-12 06:37:09.083189: W tensorflow/core/framework/op_kernel.cc:1745] OP_REQUIRES failed at example_parsing_ops.cc:94 : INVALID_ARGUMENT: Feature: output (data type: string) is required but could not be found.\n",
      "2022-04-12 06:37:09.083274: W tensorflow/core/framework/op_kernel.cc:1745] OP_REQUIRES failed at example_parsing_ops.cc:94 : INVALID_ARGUMENT: Feature: output (data type: string) is required but could not be found.\n",
      "2022-04-12 06:37:09.083325: W tensorflow/core/framework/op_kernel.cc:1745] OP_REQUIRES failed at example_parsing_ops.cc:94 : INVALID_ARGUMENT: Feature: output (data type: string) is required but could not be found.\n",
      "2022-04-12 06:37:09.083351: W tensorflow/core/framework/op_kernel.cc:1745] OP_REQUIRES failed at example_parsing_ops.cc:94 : INVALID_ARGUMENT: Feature: output (data type: string) is required but could not be found.\n",
      "2022-04-12 06:37:09.083381: W tensorflow/core/framework/op_kernel.cc:1745] OP_REQUIRES failed at example_parsing_ops.cc:94 : INVALID_ARGUMENT: Feature: output (data type: string) is required but could not be found.\n",
      "2022-04-12 06:37:09.083412: W tensorflow/core/framework/op_kernel.cc:1745] OP_REQUIRES failed at example_parsing_ops.cc:94 : INVALID_ARGUMENT: Feature: output (data type: string) is required but could not be found.\n",
      "2022-04-12 06:37:09.083442: W tensorflow/core/framework/op_kernel.cc:1745] OP_REQUIRES failed at example_parsing_ops.cc:94 : INVALID_ARGUMENT: Feature: output (data type: string) is required but could not be found.\n",
      "2022-04-12 06:37:09.083501: W tensorflow/core/framework/op_kernel.cc:1745] OP_REQUIRES failed at example_parsing_ops.cc:94 : INVALID_ARGUMENT: Feature: output (data type: string) is required but could not be found.\n",
      "2022-04-12 06:37:09.083566: W tensorflow/core/framework/op_kernel.cc:1745] OP_REQUIRES failed at example_parsing_ops.cc:94 : INVALID_ARGUMENT: Feature: output (data type: string) is required but could not be found.\n",
      "2022-04-12 06:37:09.083665: W tensorflow/core/framework/op_kernel.cc:1745] OP_REQUIRES failed at example_parsing_ops.cc:94 : INVALID_ARGUMENT: Feature: output (data type: string) is required but could not be found.\n",
      "2022-04-12 06:37:09.083748: W tensorflow/core/framework/op_kernel.cc:1745] OP_REQUIRES failed at example_parsing_ops.cc:94 : INVALID_ARGUMENT: Feature: output (data type: string) is required but could not be found.\n",
      "2022-04-12 06:37:09.083764: W tensorflow/core/framework/op_kernel.cc:1745] OP_REQUIRES failed at example_parsing_ops.cc:94 : INVALID_ARGUMENT: Feature: output (data type: string) is required but could not be found.\n",
      "2022-04-12 06:37:09.083832: W tensorflow/core/framework/op_kernel.cc:1745] OP_REQUIRES failed at example_parsing_ops.cc:94 : INVALID_ARGUMENT: Feature: output (data type: string) is required but could not be found.\n",
      "2022-04-12 06:37:09.083861: W tensorflow/core/framework/op_kernel.cc:1745] OP_REQUIRES failed at example_parsing_ops.cc:94 : INVALID_ARGUMENT: Feature: output (data type: string) is required but could not be found.\n",
      "2022-04-12 06:37:09.083899: W tensorflow/core/framework/op_kernel.cc:1745] OP_REQUIRES failed at example_parsing_ops.cc:94 : INVALID_ARGUMENT: Feature: output (data type: string) is required but could not be found.\n",
      "2022-04-12 06:37:09.083917: W tensorflow/core/framework/op_kernel.cc:1745] OP_REQUIRES failed at example_parsing_ops.cc:94 : INVALID_ARGUMENT: Feature: output (data type: string) is required but could not be found.\n",
      "2022-04-12 06:37:09.083938: W tensorflow/core/framework/op_kernel.cc:1745] OP_REQUIRES failed at example_parsing_ops.cc:94 : INVALID_ARGUMENT: Feature: output (data type: string) is required but could not be found.\n",
      "2022-04-12 06:37:09.083949: W tensorflow/core/framework/op_kernel.cc:1745] OP_REQUIRES failed at example_parsing_ops.cc:94 : INVALID_ARGUMENT: Feature: output (data type: string) is required but could not be found.\n",
      "2022-04-12 06:37:09.083963: W tensorflow/core/framework/op_kernel.cc:1745] OP_REQUIRES failed at example_parsing_ops.cc:94 : INVALID_ARGUMENT: Feature: output (data type: string) is required but could not be found.\n",
      "2022-04-12 06:37:09.083977: W tensorflow/core/framework/op_kernel.cc:1745] OP_REQUIRES failed at example_parsing_ops.cc:94 : INVALID_ARGUMENT: Feature: output (data type: string) is required but could not be found.\n",
      "2022-04-12 06:37:09.084004: W tensorflow/core/framework/op_kernel.cc:1745] OP_REQUIRES failed at example_parsing_ops.cc:94 : INVALID_ARGUMENT: Feature: output (data type: string) is required but could not be found.\n",
      "2022-04-12 06:37:09.084018: W tensorflow/core/framework/op_kernel.cc:1745] OP_REQUIRES failed at example_parsing_ops.cc:94 : INVALID_ARGUMENT: Feature: output (data type: string) is required but could not be found.\n",
      "2022-04-12 06:37:09.084032: W tensorflow/core/framework/op_kernel.cc:1745] OP_REQUIRES failed at example_parsing_ops.cc:94 : INVALID_ARGUMENT: Feature: output (data type: string) is required but could not be found.\n",
      "2022-04-12 06:37:09.084274: W tensorflow/core/framework/op_kernel.cc:1745] OP_REQUIRES failed at example_parsing_ops.cc:94 : INVALID_ARGUMENT: Feature: output (data type: string) is required but could not be found.\n",
      "2022-04-12 06:37:09.084299: W tensorflow/core/framework/op_kernel.cc:1745] OP_REQUIRES failed at example_parsing_ops.cc:94 : INVALID_ARGUMENT: Feature: output (data type: string) is required but could not be found.\n",
      "2022-04-12 06:37:09.084398: W tensorflow/core/framework/op_kernel.cc:1745] OP_REQUIRES failed at example_parsing_ops.cc:94 : INVALID_ARGUMENT: Feature: output (data type: string) is required but could not be found.\n",
      "2022-04-12 06:37:09.084452: W tensorflow/core/framework/op_kernel.cc:1745] OP_REQUIRES failed at example_parsing_ops.cc:94 : INVALID_ARGUMENT: Feature: output (data type: string) is required but could not be found.\n",
      "2022-04-12 06:37:09.084502: W tensorflow/core/framework/op_kernel.cc:1745] OP_REQUIRES failed at example_parsing_ops.cc:94 : INVALID_ARGUMENT: Feature: output (data type: string) is required but could not be found.\n",
      "2022-04-12 06:37:09.084517: W tensorflow/core/framework/op_kernel.cc:1745] OP_REQUIRES failed at example_parsing_ops.cc:94 : INVALID_ARGUMENT: Feature: output (data type: string) is required but could not be found.\n",
      "2022-04-12 06:37:09.084553: W tensorflow/core/framework/op_kernel.cc:1745] OP_REQUIRES failed at example_parsing_ops.cc:94 : INVALID_ARGUMENT: Feature: output (data type: string) is required but could not be found.\n",
      "2022-04-12 06:37:09.084599: W tensorflow/core/framework/op_kernel.cc:1745] OP_REQUIRES failed at example_parsing_ops.cc:94 : INVALID_ARGUMENT: Feature: output (data type: string) is required but could not be found.\n",
      "2022-04-12 06:37:09.084830: W tensorflow/core/framework/op_kernel.cc:1745] OP_REQUIRES failed at example_parsing_ops.cc:94 : INVALID_ARGUMENT: Feature: output (data type: string) is required but could not be found.\n",
      "2022-04-12 06:37:09.084947: W tensorflow/core/framework/op_kernel.cc:1745] OP_REQUIRES failed at example_parsing_ops.cc:94 : INVALID_ARGUMENT: Feature: output (data type: string) is required but could not be found.\n",
      "2022-04-12 06:37:09.085027: W tensorflow/core/framework/op_kernel.cc:1745] OP_REQUIRES failed at example_parsing_ops.cc:94 : INVALID_ARGUMENT: Feature: output (data type: string) is required but could not be found.\n",
      "2022-04-12 06:37:09.085046: W tensorflow/core/framework/op_kernel.cc:1745] OP_REQUIRES failed at example_parsing_ops.cc:94 : INVALID_ARGUMENT: Feature: output (data type: string) is required but could not be found.\n",
      "2022-04-12 06:37:09.085158: W tensorflow/core/framework/op_kernel.cc:1745] OP_REQUIRES failed at example_parsing_ops.cc:94 : INVALID_ARGUMENT: Feature: output (data type: string) is required but could not be found.\n",
      "2022-04-12 06:37:09.085246: W tensorflow/core/framework/op_kernel.cc:1745] OP_REQUIRES failed at example_parsing_ops.cc:94 : INVALID_ARGUMENT: Feature: output (data type: string) is required but could not be found.\n",
      "2022-04-12 06:37:09.085263: W tensorflow/core/framework/op_kernel.cc:1745] OP_REQUIRES failed at example_parsing_ops.cc:94 : INVALID_ARGUMENT: Feature: output (data type: string) is required but could not be found.\n",
      "2022-04-12 06:37:09.085296: W tensorflow/core/framework/op_kernel.cc:1745] OP_REQUIRES failed at example_parsing_ops.cc:94 : INVALID_ARGUMENT: Feature: output (data type: string) is required but could not be found.\n",
      "2022-04-12 06:37:09.085316: W tensorflow/core/framework/op_kernel.cc:1745] OP_REQUIRES failed at example_parsing_ops.cc:94 : INVALID_ARGUMENT: Feature: output (data type: string) is required but could not be found.\n",
      "2022-04-12 06:37:09.085338: W tensorflow/core/framework/op_kernel.cc:1745] OP_REQUIRES failed at example_parsing_ops.cc:94 : INVALID_ARGUMENT: Feature: output (data type: string) is required but could not be found.\n",
      "2022-04-12 06:37:09.085355: W tensorflow/core/framework/op_kernel.cc:1745] OP_REQUIRES failed at example_parsing_ops.cc:94 : INVALID_ARGUMENT: Feature: output (data type: string) is required but could not be found.\n",
      "2022-04-12 06:37:09.085390: W tensorflow/core/framework/op_kernel.cc:1745] OP_REQUIRES failed at example_parsing_ops.cc:94 : INVALID_ARGUMENT: Feature: output (data type: string) is required but could not be found.\n",
      "2022-04-12 06:37:09.085404: W tensorflow/core/framework/op_kernel.cc:1745] OP_REQUIRES failed at example_parsing_ops.cc:94 : INVALID_ARGUMENT: Feature: output (data type: string) is required but could not be found.\n",
      "2022-04-12 06:37:09.085417: W tensorflow/core/framework/op_kernel.cc:1745] OP_REQUIRES failed at example_parsing_ops.cc:94 : INVALID_ARGUMENT: Feature: output (data type: string) is required but could not be found.\n",
      "2022-04-12 06:37:09.085455: W tensorflow/core/framework/op_kernel.cc:1745] OP_REQUIRES failed at example_parsing_ops.cc:94 : INVALID_ARGUMENT: Feature: output (data type: string) is required but could not be found.\n",
      "2022-04-12 06:37:09.085507: W tensorflow/core/framework/op_kernel.cc:1745] OP_REQUIRES failed at example_parsing_ops.cc:94 : INVALID_ARGUMENT: Feature: output (data type: string) is required but could not be found.\n",
      "2022-04-12 06:37:09.085658: W tensorflow/core/framework/op_kernel.cc:1745] OP_REQUIRES failed at example_parsing_ops.cc:94 : INVALID_ARGUMENT: Feature: output (data type: string) is required but could not be found.\n",
      "2022-04-12 06:37:09.085777: W tensorflow/core/framework/op_kernel.cc:1745] OP_REQUIRES failed at example_parsing_ops.cc:94 : INVALID_ARGUMENT: Feature: output (data type: string) is required but could not be found.\n",
      "2022-04-12 06:37:09.085798: W tensorflow/core/framework/op_kernel.cc:1745] OP_REQUIRES failed at example_parsing_ops.cc:94 : INVALID_ARGUMENT: Feature: output (data type: string) is required but could not be found.\n",
      "2022-04-12 06:37:09.086258: W tensorflow/core/framework/op_kernel.cc:1745] OP_REQUIRES failed at example_parsing_ops.cc:94 : INVALID_ARGUMENT: Feature: output (data type: string) is required but could not be found.\n",
      "2022-04-12 06:37:09.086337: W tensorflow/core/framework/op_kernel.cc:1745] OP_REQUIRES failed at example_parsing_ops.cc:94 : INVALID_ARGUMENT: Feature: output (data type: string) is required but could not be found.\n",
      "2022-04-12 06:37:09.086357: W tensorflow/core/framework/op_kernel.cc:1745] OP_REQUIRES failed at example_parsing_ops.cc:94 : INVALID_ARGUMENT: Feature: output (data type: string) is required but could not be found.\n",
      "2022-04-12 06:37:09.086406: W tensorflow/core/framework/op_kernel.cc:1745] OP_REQUIRES failed at example_parsing_ops.cc:94 : INVALID_ARGUMENT: Feature: output (data type: string) is required but could not be found.\n",
      "2022-04-12 06:37:09.086508: W tensorflow/core/framework/op_kernel.cc:1745] OP_REQUIRES failed at example_parsing_ops.cc:94 : INVALID_ARGUMENT: Feature: output (data type: string) is required but could not be found.\n",
      "2022-04-12 06:37:09.086650: W tensorflow/core/framework/op_kernel.cc:1745] OP_REQUIRES failed at example_parsing_ops.cc:94 : INVALID_ARGUMENT: Feature: output (data type: string) is required but could not be found.\n",
      "2022-04-12 06:37:09.086788: W tensorflow/core/framework/op_kernel.cc:1745] OP_REQUIRES failed at example_parsing_ops.cc:94 : INVALID_ARGUMENT: Feature: output (data type: string) is required but could not be found.\n",
      "2022-04-12 06:37:09.086796: W tensorflow/core/framework/op_kernel.cc:1745] OP_REQUIRES failed at example_parsing_ops.cc:94 : INVALID_ARGUMENT: Feature: output (data type: string) is required but could not be found.\n",
      "2022-04-12 06:37:09.086863: W tensorflow/core/framework/op_kernel.cc:1745] OP_REQUIRES failed at example_parsing_ops.cc:94 : INVALID_ARGUMENT: Feature: output (data type: string) is required but could not be found.\n",
      "2022-04-12 06:37:09.086966: W tensorflow/core/framework/op_kernel.cc:1745] OP_REQUIRES failed at example_parsing_ops.cc:94 : INVALID_ARGUMENT: Feature: output (data type: string) is required but could not be found.\n",
      "2022-04-12 06:37:09.087520: W tensorflow/core/framework/op_kernel.cc:1745] OP_REQUIRES failed at example_parsing_ops.cc:94 : INVALID_ARGUMENT: Feature: output (data type: string) is required but could not be found.\n",
      "2022-04-12 06:37:09.087534: W tensorflow/core/framework/op_kernel.cc:1745] OP_REQUIRES failed at example_parsing_ops.cc:94 : INVALID_ARGUMENT: Feature: output (data type: string) is required but could not be found.\n",
      "2022-04-12 06:37:09.087742: W tensorflow/core/framework/op_kernel.cc:1745] OP_REQUIRES failed at example_parsing_ops.cc:94 : INVALID_ARGUMENT: Feature: output (data type: string) is required but could not be found.\n",
      "2022-04-12 06:37:09.087800: W tensorflow/core/framework/op_kernel.cc:1745] OP_REQUIRES failed at example_parsing_ops.cc:94 : INVALID_ARGUMENT: Feature: output (data type: string) is required but could not be found.\n",
      "2022-04-12 06:37:09.087808: W tensorflow/core/framework/op_kernel.cc:1745] OP_REQUIRES failed at example_parsing_ops.cc:94 : INVALID_ARGUMENT: Feature: output (data type: string) is required but could not be found.\n",
      "2022-04-12 06:37:09.087823: W tensorflow/core/framework/op_kernel.cc:1745] OP_REQUIRES failed at example_parsing_ops.cc:94 : INVALID_ARGUMENT: Feature: output (data type: string) is required but could not be found.\n",
      "2022-04-12 06:37:09.087859: W tensorflow/core/framework/op_kernel.cc:1745] OP_REQUIRES failed at example_parsing_ops.cc:94 : INVALID_ARGUMENT: Feature: output (data type: string) is required but could not be found.\n",
      "2022-04-12 06:37:09.088001: W tensorflow/core/framework/op_kernel.cc:1745] OP_REQUIRES failed at example_parsing_ops.cc:94 : INVALID_ARGUMENT: Feature: output (data type: string) is required but could not be found.\n",
      "2022-04-12 06:37:09.088012: W tensorflow/core/framework/op_kernel.cc:1745] OP_REQUIRES failed at example_parsing_ops.cc:94 : INVALID_ARGUMENT: Feature: output (data type: string) is required but could not be found.\n",
      "2022-04-12 06:37:09.088021: W tensorflow/core/framework/op_kernel.cc:1745] OP_REQUIRES failed at example_parsing_ops.cc:94 : INVALID_ARGUMENT: Feature: output (data type: string) is required but could not be found.\n",
      "2022-04-12 06:37:09.088057: W tensorflow/core/framework/op_kernel.cc:1745] OP_REQUIRES failed at example_parsing_ops.cc:94 : INVALID_ARGUMENT: Feature: output (data type: string) is required but could not be found.\n",
      "2022-04-12 06:37:09.088077: W tensorflow/core/framework/op_kernel.cc:1745] OP_REQUIRES failed at example_parsing_ops.cc:94 : INVALID_ARGUMENT: Feature: output (data type: string) is required but could not be found.\n",
      "2022-04-12 06:37:09.088140: W tensorflow/core/framework/op_kernel.cc:1745] OP_REQUIRES failed at example_parsing_ops.cc:94 : INVALID_ARGUMENT: Feature: output (data type: string) is required but could not be found.\n",
      "2022-04-12 06:37:09.088157: W tensorflow/core/framework/op_kernel.cc:1745] OP_REQUIRES failed at example_parsing_ops.cc:94 : INVALID_ARGUMENT: Feature: output (data type: string) is required but could not be found.\n",
      "2022-04-12 06:37:09.088248: W tensorflow/core/framework/op_kernel.cc:1745] OP_REQUIRES failed at example_parsing_ops.cc:94 : INVALID_ARGUMENT: Feature: output (data type: string) is required but could not be found.\n",
      "2022-04-12 06:37:09.088282: W tensorflow/core/framework/op_kernel.cc:1745] OP_REQUIRES failed at example_parsing_ops.cc:94 : INVALID_ARGUMENT: Feature: output (data type: string) is required but could not be found.\n",
      "2022-04-12 06:37:09.088366: W tensorflow/core/framework/op_kernel.cc:1745] OP_REQUIRES failed at example_parsing_ops.cc:94 : INVALID_ARGUMENT: Feature: output (data type: string) is required but could not be found.\n",
      "2022-04-12 06:37:09.088373: W tensorflow/core/framework/op_kernel.cc:1745] OP_REQUIRES failed at example_parsing_ops.cc:94 : INVALID_ARGUMENT: Feature: output (data type: string) is required but could not be found.\n",
      "2022-04-12 06:37:09.088526: W tensorflow/core/framework/op_kernel.cc:1745] OP_REQUIRES failed at example_parsing_ops.cc:94 : INVALID_ARGUMENT: Feature: output (data type: string) is required but could not be found.\n",
      "2022-04-12 06:37:09.088583: W tensorflow/core/framework/op_kernel.cc:1745] OP_REQUIRES failed at example_parsing_ops.cc:94 : INVALID_ARGUMENT: Feature: output (data type: string) is required but could not be found.\n",
      "2022-04-12 06:37:09.088649: W tensorflow/core/framework/op_kernel.cc:1745] OP_REQUIRES failed at example_parsing_ops.cc:94 : INVALID_ARGUMENT: Feature: output (data type: string) is required but could not be found.\n",
      "2022-04-12 06:37:09.088675: W tensorflow/core/framework/op_kernel.cc:1745] OP_REQUIRES failed at example_parsing_ops.cc:94 : INVALID_ARGUMENT: Feature: output (data type: string) is required but could not be found.\n",
      "2022-04-12 06:37:09.088717: W tensorflow/core/framework/op_kernel.cc:1745] OP_REQUIRES failed at example_parsing_ops.cc:94 : INVALID_ARGUMENT: Feature: output (data type: string) is required but could not be found.\n",
      "2022-04-12 06:37:09.088763: W tensorflow/core/framework/op_kernel.cc:1745] OP_REQUIRES failed at example_parsing_ops.cc:94 : INVALID_ARGUMENT: Feature: output (data type: string) is required but could not be found.\n",
      "2022-04-12 06:37:09.088828: W tensorflow/core/framework/op_kernel.cc:1745] OP_REQUIRES failed at example_parsing_ops.cc:94 : INVALID_ARGUMENT: Feature: output (data type: string) is required but could not be found.\n",
      "2022-04-12 06:37:09.088875: W tensorflow/core/framework/op_kernel.cc:1745] OP_REQUIRES failed at example_parsing_ops.cc:94 : INVALID_ARGUMENT: Feature: output (data type: string) is required but could not be found.\n",
      "2022-04-12 06:37:09.088985: W tensorflow/core/framework/op_kernel.cc:1745] OP_REQUIRES failed at example_parsing_ops.cc:94 : INVALID_ARGUMENT: Feature: output (data type: string) is required but could not be found.\n",
      "2022-04-12 06:37:09.089008: W tensorflow/core/framework/op_kernel.cc:1745] OP_REQUIRES failed at example_parsing_ops.cc:94 : INVALID_ARGUMENT: Feature: output (data type: string) is required but could not be found.\n",
      "2022-04-12 06:37:09.089088: W tensorflow/core/framework/op_kernel.cc:1745] OP_REQUIRES failed at example_parsing_ops.cc:94 : INVALID_ARGUMENT: Feature: output (data type: string) is required but could not be found.\n",
      "2022-04-12 06:37:09.089171: W tensorflow/core/framework/op_kernel.cc:1745] OP_REQUIRES failed at example_parsing_ops.cc:94 : INVALID_ARGUMENT: Feature: output (data type: string) is required but could not be found.\n",
      "2022-04-12 06:37:09.089182: W tensorflow/core/framework/op_kernel.cc:1745] OP_REQUIRES failed at example_parsing_ops.cc:94 : INVALID_ARGUMENT: Feature: output (data type: string) is required but could not be found.\n",
      "2022-04-12 06:37:09.089202: W tensorflow/core/framework/op_kernel.cc:1745] OP_REQUIRES failed at example_parsing_ops.cc:94 : INVALID_ARGUMENT: Feature: output (data type: string) is required but could not be found.\n",
      "2022-04-12 06:37:09.089278: W tensorflow/core/framework/op_kernel.cc:1745] OP_REQUIRES failed at example_parsing_ops.cc:94 : INVALID_ARGUMENT: Feature: output (data type: string) is required but could not be found.\n",
      "2022-04-12 06:37:09.089418: W tensorflow/core/framework/op_kernel.cc:1745] OP_REQUIRES failed at example_parsing_ops.cc:94 : INVALID_ARGUMENT: Feature: output (data type: string) is required but could not be found.\n",
      "2022-04-12 06:37:09.089448: W tensorflow/core/framework/op_kernel.cc:1745] OP_REQUIRES failed at example_parsing_ops.cc:94 : INVALID_ARGUMENT: Feature: output (data type: string) is required but could not be found.\n",
      "2022-04-12 06:37:09.089464: W tensorflow/core/framework/op_kernel.cc:1745] OP_REQUIRES failed at example_parsing_ops.cc:94 : INVALID_ARGUMENT: Feature: output (data type: string) is required but could not be found.\n",
      "2022-04-12 06:37:09.089553: W tensorflow/core/framework/op_kernel.cc:1745] OP_REQUIRES failed at example_parsing_ops.cc:94 : INVALID_ARGUMENT: Feature: output (data type: string) is required but could not be found.\n",
      "2022-04-12 06:37:09.089586: W tensorflow/core/framework/op_kernel.cc:1745] OP_REQUIRES failed at example_parsing_ops.cc:94 : INVALID_ARGUMENT: Feature: output (data type: string) is required but could not be found.\n",
      "2022-04-12 06:37:09.089611: W tensorflow/core/framework/op_kernel.cc:1745] OP_REQUIRES failed at example_parsing_ops.cc:94 : INVALID_ARGUMENT: Feature: output (data type: string) is required but could not be found.\n",
      "2022-04-12 06:37:09.089657: W tensorflow/core/framework/op_kernel.cc:1745] OP_REQUIRES failed at example_parsing_ops.cc:94 : INVALID_ARGUMENT: Feature: output (data type: string) is required but could not be found.\n",
      "2022-04-12 06:37:09.089690: W tensorflow/core/framework/op_kernel.cc:1745] OP_REQUIRES failed at example_parsing_ops.cc:94 : INVALID_ARGUMENT: Feature: output (data type: string) is required but could not be found.\n",
      "2022-04-12 06:37:09.089823: W tensorflow/core/framework/op_kernel.cc:1745] OP_REQUIRES failed at example_parsing_ops.cc:94 : INVALID_ARGUMENT: Feature: output (data type: string) is required but could not be found.\n",
      "2022-04-12 06:37:09.089853: W tensorflow/core/framework/op_kernel.cc:1745] OP_REQUIRES failed at example_parsing_ops.cc:94 : INVALID_ARGUMENT: Feature: output (data type: string) is required but could not be found.\n",
      "2022-04-12 06:37:09.089884: W tensorflow/core/framework/op_kernel.cc:1745] OP_REQUIRES failed at example_parsing_ops.cc:94 : INVALID_ARGUMENT: Feature: output (data type: string) is required but could not be found.\n",
      "2022-04-12 06:37:09.089899: W tensorflow/core/framework/op_kernel.cc:1745] OP_REQUIRES failed at example_parsing_ops.cc:94 : INVALID_ARGUMENT: Feature: output (data type: string) is required but could not be found.\n",
      "2022-04-12 06:37:09.089926: W tensorflow/core/framework/op_kernel.cc:1745] OP_REQUIRES failed at example_parsing_ops.cc:94 : INVALID_ARGUMENT: Feature: output (data type: string) is required but could not be found.\n",
      "2022-04-12 06:37:09.089957: W tensorflow/core/framework/op_kernel.cc:1745] OP_REQUIRES failed at example_parsing_ops.cc:94 : INVALID_ARGUMENT: Feature: output (data type: string) is required but could not be found.\n",
      "2022-04-12 06:37:09.089975: W tensorflow/core/framework/op_kernel.cc:1745] OP_REQUIRES failed at example_parsing_ops.cc:94 : INVALID_ARGUMENT: Feature: output (data type: string) is required but could not be found.\n",
      "2022-04-12 06:37:09.090044: W tensorflow/core/framework/op_kernel.cc:1745] OP_REQUIRES failed at example_parsing_ops.cc:94 : INVALID_ARGUMENT: Feature: output (data type: string) is required but could not be found.\n",
      "2022-04-12 06:37:09.090062: W tensorflow/core/framework/op_kernel.cc:1745] OP_REQUIRES failed at example_parsing_ops.cc:94 : INVALID_ARGUMENT: Feature: output (data type: string) is required but could not be found.\n",
      "2022-04-12 06:37:09.090100: W tensorflow/core/framework/op_kernel.cc:1745] OP_REQUIRES failed at example_parsing_ops.cc:94 : INVALID_ARGUMENT: Feature: output (data type: string) is required but could not be found.\n",
      "2022-04-12 06:37:09.090125: W tensorflow/core/framework/op_kernel.cc:1745] OP_REQUIRES failed at example_parsing_ops.cc:94 : INVALID_ARGUMENT: Feature: output (data type: string) is required but could not be found.\n",
      "2022-04-12 06:37:09.090142: W tensorflow/core/framework/op_kernel.cc:1745] OP_REQUIRES failed at example_parsing_ops.cc:94 : INVALID_ARGUMENT: Feature: output (data type: string) is required but could not be found.\n",
      "2022-04-12 06:37:09.090154: W tensorflow/core/framework/op_kernel.cc:1745] OP_REQUIRES failed at example_parsing_ops.cc:94 : INVALID_ARGUMENT: Feature: output (data type: string) is required but could not be found.\n",
      "2022-04-12 06:37:09.090165: W tensorflow/core/framework/op_kernel.cc:1745] OP_REQUIRES failed at example_parsing_ops.cc:94 : INVALID_ARGUMENT: Feature: output (data type: string) is required but could not be found.\n",
      "2022-04-12 06:37:09.090207: W tensorflow/core/framework/op_kernel.cc:1745] OP_REQUIRES failed at example_parsing_ops.cc:94 : INVALID_ARGUMENT: Feature: output (data type: string) is required but could not be found.\n",
      "2022-04-12 06:37:09.090253: W tensorflow/core/framework/op_kernel.cc:1745] OP_REQUIRES failed at example_parsing_ops.cc:94 : INVALID_ARGUMENT: Feature: output (data type: string) is required but could not be found.\n",
      "2022-04-12 06:37:09.090262: W tensorflow/core/framework/op_kernel.cc:1745] OP_REQUIRES failed at example_parsing_ops.cc:94 : INVALID_ARGUMENT: Feature: output (data type: string) is required but could not be found.\n",
      "2022-04-12 06:37:09.090276: W tensorflow/core/framework/op_kernel.cc:1745] OP_REQUIRES failed at example_parsing_ops.cc:94 : INVALID_ARGUMENT: Feature: output (data type: string) is required but could not be found.\n",
      "2022-04-12 06:37:09.090344: W tensorflow/core/framework/op_kernel.cc:1745] OP_REQUIRES failed at example_parsing_ops.cc:94 : INVALID_ARGUMENT: Feature: output (data type: string) is required but could not be found.\n",
      "2022-04-12 06:37:09.090373: W tensorflow/core/framework/op_kernel.cc:1745] OP_REQUIRES failed at example_parsing_ops.cc:94 : INVALID_ARGUMENT: Feature: output (data type: string) is required but could not be found.\n",
      "2022-04-12 06:37:09.090421: W tensorflow/core/framework/op_kernel.cc:1745] OP_REQUIRES failed at example_parsing_ops.cc:94 : INVALID_ARGUMENT: Feature: output (data type: string) is required but could not be found.\n",
      "2022-04-12 06:37:09.090472: W tensorflow/core/framework/op_kernel.cc:1745] OP_REQUIRES failed at example_parsing_ops.cc:94 : INVALID_ARGUMENT: Feature: output (data type: string) is required but could not be found.\n",
      "2022-04-12 06:37:09.090490: W tensorflow/core/framework/op_kernel.cc:1745] OP_REQUIRES failed at example_parsing_ops.cc:94 : INVALID_ARGUMENT: Feature: output (data type: string) is required but could not be found.\n",
      "2022-04-12 06:37:09.090530: W tensorflow/core/framework/op_kernel.cc:1745] OP_REQUIRES failed at example_parsing_ops.cc:94 : INVALID_ARGUMENT: Feature: output (data type: string) is required but could not be found.\n",
      "2022-04-12 06:37:09.090543: W tensorflow/core/framework/op_kernel.cc:1745] OP_REQUIRES failed at example_parsing_ops.cc:94 : INVALID_ARGUMENT: Feature: output (data type: string) is required but could not be found.\n",
      "2022-04-12 06:37:09.090577: W tensorflow/core/framework/op_kernel.cc:1745] OP_REQUIRES failed at example_parsing_ops.cc:94 : INVALID_ARGUMENT: Feature: output (data type: string) is required but could not be found.\n",
      "2022-04-12 06:37:09.090587: W tensorflow/core/framework/op_kernel.cc:1745] OP_REQUIRES failed at example_parsing_ops.cc:94 : INVALID_ARGUMENT: Feature: output (data type: string) is required but could not be found.\n",
      "2022-04-12 06:37:09.090601: W tensorflow/core/framework/op_kernel.cc:1745] OP_REQUIRES failed at example_parsing_ops.cc:94 : INVALID_ARGUMENT: Feature: output (data type: string) is required but could not be found.\n",
      "2022-04-12 06:37:09.090644: W tensorflow/core/framework/op_kernel.cc:1745] OP_REQUIRES failed at example_parsing_ops.cc:94 : INVALID_ARGUMENT: Feature: output (data type: string) is required but could not be found.\n",
      "2022-04-12 06:37:09.090701: W tensorflow/core/framework/op_kernel.cc:1745] OP_REQUIRES failed at example_parsing_ops.cc:94 : INVALID_ARGUMENT: Feature: output (data type: string) is required but could not be found.\n",
      "2022-04-12 06:37:09.090742: W tensorflow/core/framework/op_kernel.cc:1745] OP_REQUIRES failed at example_parsing_ops.cc:94 : INVALID_ARGUMENT: Feature: output (data type: string) is required but could not be found.\n",
      "2022-04-12 06:37:09.090757: W tensorflow/core/framework/op_kernel.cc:1745] OP_REQUIRES failed at example_parsing_ops.cc:94 : INVALID_ARGUMENT: Feature: output (data type: string) is required but could not be found.\n",
      "2022-04-12 06:37:09.090869: W tensorflow/core/framework/op_kernel.cc:1745] OP_REQUIRES failed at example_parsing_ops.cc:94 : INVALID_ARGUMENT: Feature: output (data type: string) is required but could not be found.\n",
      "2022-04-12 06:37:09.090890: W tensorflow/core/framework/op_kernel.cc:1745] OP_REQUIRES failed at example_parsing_ops.cc:94 : INVALID_ARGUMENT: Feature: output (data type: string) is required but could not be found.\n",
      "2022-04-12 06:37:09.090938: W tensorflow/core/framework/op_kernel.cc:1745] OP_REQUIRES failed at example_parsing_ops.cc:94 : INVALID_ARGUMENT: Feature: output (data type: string) is required but could not be found.\n",
      "2022-04-12 06:37:09.091135: W tensorflow/core/framework/op_kernel.cc:1745] OP_REQUIRES failed at example_parsing_ops.cc:94 : INVALID_ARGUMENT: Feature: output (data type: string) is required but could not be found.\n",
      "2022-04-12 06:37:09.091456: W tensorflow/core/framework/op_kernel.cc:1745] OP_REQUIRES failed at example_parsing_ops.cc:94 : INVALID_ARGUMENT: Feature: output (data type: string) is required but could not be found.\n",
      "2022-04-12 06:37:09.091714: W tensorflow/core/framework/op_kernel.cc:1745] OP_REQUIRES failed at example_parsing_ops.cc:94 : INVALID_ARGUMENT: Feature: output (data type: string) is required but could not be found.\n",
      "2022-04-12 06:37:09.091968: W tensorflow/core/framework/op_kernel.cc:1745] OP_REQUIRES failed at example_parsing_ops.cc:94 : INVALID_ARGUMENT: Feature: output (data type: string) is required but could not be found.\n",
      "2022-04-12 06:37:09.092059: W tensorflow/core/framework/op_kernel.cc:1745] OP_REQUIRES failed at example_parsing_ops.cc:94 : INVALID_ARGUMENT: Feature: output (data type: string) is required but could not be found.\n",
      "2022-04-12 06:37:09.092114: W tensorflow/core/framework/op_kernel.cc:1745] OP_REQUIRES failed at example_parsing_ops.cc:94 : INVALID_ARGUMENT: Feature: output (data type: string) is required but could not be found.\n",
      "2022-04-12 06:37:09.092172: W tensorflow/core/framework/op_kernel.cc:1745] OP_REQUIRES failed at example_parsing_ops.cc:94 : INVALID_ARGUMENT: Feature: output (data type: string) is required but could not be found.\n",
      "2022-04-12 06:37:09.092275: W tensorflow/core/framework/op_kernel.cc:1745] OP_REQUIRES failed at example_parsing_ops.cc:94 : INVALID_ARGUMENT: Feature: output (data type: string) is required but could not be found.\n"
     ]
    },
    {
     "ename": "InvalidArgumentError",
     "evalue": "Graph execution error:\n\n4 root error(s) found.\n  (0) INVALID_ARGUMENT:  Feature: output (data type: string) is required but could not be found.\n\t [[{{node ParseSingleExample/ParseExample/ParseExampleV2}}]]\n\t [[MultiDeviceIteratorGetNextFromShard]]\n\t [[RemoteCall]]\n\t [[IteratorGetNextAsOptional]]\n\t [[cond/pivot_t/_4/_165]]\n  (1) INVALID_ARGUMENT:  Feature: output (data type: string) is required but could not be found.\n\t [[{{node ParseSingleExample/ParseExample/ParseExampleV2}}]]\n\t [[MultiDeviceIteratorGetNextFromShard]]\n\t [[RemoteCall]]\n\t [[IteratorGetNextAsOptional]]\n\t [[Adam/Adam/group_deps/_849]]\n  (2) INVALID_ARGUMENT:  Feature: output (data type: string) is required but could not be found.\n\t [[{{node ParseSingleExample/ParseExample/ParseExampleV2}}]]\n\t [[MultiDeviceIteratorGetNextFromShard]]\n\t [[RemoteCall]]\n\t [[IteratorGetNextAsOptional]]\n  (3) CANCELLED:  Function was cancelled before it was started\n0 successful operations.\n1 derived errors ignored. [Op:__inference_train_function_34832]",
     "output_type": "error",
     "traceback": [
      "\u001b[0;31m---------------------------------------------------------------------------\u001b[0m",
      "\u001b[0;31mInvalidArgumentError\u001b[0m                      Traceback (most recent call last)",
      "\u001b[1;32m/home/abdalla/GANime/notebooks/model/test_moving_vae.ipynb Cell 11'\u001b[0m in \u001b[0;36m<cell line: 1>\u001b[0;34m()\u001b[0m\n\u001b[0;32m----> <a href='vscode-notebook-cell://ssh-remote%2B157.26.83.14/home/abdalla/GANime/notebooks/model/test_moving_vae.ipynb#ch0000006vscode-remote?line=0'>1</a>\u001b[0m vae\u001b[39m.\u001b[39;49mfit(dataset, epochs\u001b[39m=\u001b[39;49m\u001b[39m2\u001b[39;49m)\n",
      "File \u001b[0;32m~/GANime/venv/lib/python3.8/site-packages/keras/utils/traceback_utils.py:67\u001b[0m, in \u001b[0;36mfilter_traceback.<locals>.error_handler\u001b[0;34m(*args, **kwargs)\u001b[0m\n\u001b[1;32m     <a href='file:///home/abdalla/GANime/venv/lib/python3.8/site-packages/keras/utils/traceback_utils.py?line=64'>65</a>\u001b[0m \u001b[39mexcept\u001b[39;00m \u001b[39mException\u001b[39;00m \u001b[39mas\u001b[39;00m e:  \u001b[39m# pylint: disable=broad-except\u001b[39;00m\n\u001b[1;32m     <a href='file:///home/abdalla/GANime/venv/lib/python3.8/site-packages/keras/utils/traceback_utils.py?line=65'>66</a>\u001b[0m   filtered_tb \u001b[39m=\u001b[39m _process_traceback_frames(e\u001b[39m.\u001b[39m__traceback__)\n\u001b[0;32m---> <a href='file:///home/abdalla/GANime/venv/lib/python3.8/site-packages/keras/utils/traceback_utils.py?line=66'>67</a>\u001b[0m   \u001b[39mraise\u001b[39;00m e\u001b[39m.\u001b[39mwith_traceback(filtered_tb) \u001b[39mfrom\u001b[39;00m \u001b[39mNone\u001b[39m\n\u001b[1;32m     <a href='file:///home/abdalla/GANime/venv/lib/python3.8/site-packages/keras/utils/traceback_utils.py?line=67'>68</a>\u001b[0m \u001b[39mfinally\u001b[39;00m:\n\u001b[1;32m     <a href='file:///home/abdalla/GANime/venv/lib/python3.8/site-packages/keras/utils/traceback_utils.py?line=68'>69</a>\u001b[0m   \u001b[39mdel\u001b[39;00m filtered_tb\n",
      "File \u001b[0;32m~/GANime/venv/lib/python3.8/site-packages/tensorflow/python/eager/execute.py:54\u001b[0m, in \u001b[0;36mquick_execute\u001b[0;34m(op_name, num_outputs, inputs, attrs, ctx, name)\u001b[0m\n\u001b[1;32m     <a href='file:///home/abdalla/GANime/venv/lib/python3.8/site-packages/tensorflow/python/eager/execute.py?line=51'>52</a>\u001b[0m \u001b[39mtry\u001b[39;00m:\n\u001b[1;32m     <a href='file:///home/abdalla/GANime/venv/lib/python3.8/site-packages/tensorflow/python/eager/execute.py?line=52'>53</a>\u001b[0m   ctx\u001b[39m.\u001b[39mensure_initialized()\n\u001b[0;32m---> <a href='file:///home/abdalla/GANime/venv/lib/python3.8/site-packages/tensorflow/python/eager/execute.py?line=53'>54</a>\u001b[0m   tensors \u001b[39m=\u001b[39m pywrap_tfe\u001b[39m.\u001b[39mTFE_Py_Execute(ctx\u001b[39m.\u001b[39m_handle, device_name, op_name,\n\u001b[1;32m     <a href='file:///home/abdalla/GANime/venv/lib/python3.8/site-packages/tensorflow/python/eager/execute.py?line=54'>55</a>\u001b[0m                                       inputs, attrs, num_outputs)\n\u001b[1;32m     <a href='file:///home/abdalla/GANime/venv/lib/python3.8/site-packages/tensorflow/python/eager/execute.py?line=55'>56</a>\u001b[0m \u001b[39mexcept\u001b[39;00m core\u001b[39m.\u001b[39m_NotOkStatusException \u001b[39mas\u001b[39;00m e:\n\u001b[1;32m     <a href='file:///home/abdalla/GANime/venv/lib/python3.8/site-packages/tensorflow/python/eager/execute.py?line=56'>57</a>\u001b[0m   \u001b[39mif\u001b[39;00m name \u001b[39mis\u001b[39;00m \u001b[39mnot\u001b[39;00m \u001b[39mNone\u001b[39;00m:\n",
      "\u001b[0;31mInvalidArgumentError\u001b[0m: Graph execution error:\n\n4 root error(s) found.\n  (0) INVALID_ARGUMENT:  Feature: output (data type: string) is required but could not be found.\n\t [[{{node ParseSingleExample/ParseExample/ParseExampleV2}}]]\n\t [[MultiDeviceIteratorGetNextFromShard]]\n\t [[RemoteCall]]\n\t [[IteratorGetNextAsOptional]]\n\t [[cond/pivot_t/_4/_165]]\n  (1) INVALID_ARGUMENT:  Feature: output (data type: string) is required but could not be found.\n\t [[{{node ParseSingleExample/ParseExample/ParseExampleV2}}]]\n\t [[MultiDeviceIteratorGetNextFromShard]]\n\t [[RemoteCall]]\n\t [[IteratorGetNextAsOptional]]\n\t [[Adam/Adam/group_deps/_849]]\n  (2) INVALID_ARGUMENT:  Feature: output (data type: string) is required but could not be found.\n\t [[{{node ParseSingleExample/ParseExample/ParseExampleV2}}]]\n\t [[MultiDeviceIteratorGetNextFromShard]]\n\t [[RemoteCall]]\n\t [[IteratorGetNextAsOptional]]\n  (3) CANCELLED:  Function was cancelled before it was started\n0 successful operations.\n1 derived errors ignored. [Op:__inference_train_function_34832]"
     ]
    }
   ],
   "source": [
    "vae.fit(dataset, epochs=2)"
   ]
  },
  {
   "cell_type": "code",
   "execution_count": null,
   "metadata": {},
   "outputs": [],
   "source": []
  }
 ],
 "metadata": {
  "interpreter": {
   "hash": "3a8249df8b7044894d7782a831e2faf3db8aed5f9dedc5972f04463fb09cbac8"
  },
  "kernelspec": {
   "display_name": "Python 3 (ipykernel)",
   "language": "python",
   "name": "python3"
  },
  "language_info": {
   "codemirror_mode": {
    "name": "ipython",
    "version": 3
   },
   "file_extension": ".py",
   "mimetype": "text/x-python",
   "name": "python",
   "nbconvert_exporter": "python",
   "pygments_lexer": "ipython3",
   "version": "3.8.10"
  }
 },
 "nbformat": 4,
 "nbformat_minor": 4
}
