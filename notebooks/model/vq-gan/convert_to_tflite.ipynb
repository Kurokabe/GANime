{
 "cells": [
  {
   "cell_type": "code",
   "execution_count": null,
   "id": "f79106bc-dc23-42b9-b48f-44609d31fe1c",
   "metadata": {},
   "outputs": [],
   "source": []
  },
  {
   "cell_type": "code",
   "execution_count": 27,
   "id": "d7eb7187-68c3-4cd6-a710-5e2aeedd0bb4",
   "metadata": {},
   "outputs": [],
   "source": [
    "inputs = tf.keras.Input(images.shape[1:])\n",
    "x = model.first_stage_model.encoder(inputs)\n",
    "x = model.first_stage_model.quant_conv(x)\n",
    "outputs = model.first_stage_model.quantize(x)\n",
    "encoder = tf.keras.Model(inputs, outputs)"
   ]
  },
  {
   "cell_type": "code",
   "execution_count": 32,
   "id": "0ad74c98-972e-4116-abe1-4de0b885c65b",
   "metadata": {},
   "outputs": [],
   "source": [
    "quant, indices, loss = encoder(images)"
   ]
  },
  {
   "cell_type": "code",
   "execution_count": 31,
   "id": "e174e81c-7868-4a9d-836e-4c658886ddd6",
   "metadata": {},
   "outputs": [],
   "source": [
    "inputs = tf.keras.Input(outputs[0].shape[1:])\n",
    "x = model.first_stage_model.post_quant_conv(inputs)\n",
    "outputs = model.first_stage_model.decoder(x)\n",
    "decoder = tf.keras.Model(inputs, outputs)"
   ]
  },
  {
   "cell_type": "code",
   "execution_count": 45,
   "id": "c505a573-1aad-4bd3-b1d1-92e7aaf269f5",
   "metadata": {},
   "outputs": [
    {
     "name": "stderr",
     "output_type": "stream",
     "text": [
      "WARNING:absl:Found untraced functions such as conv2d_22_layer_call_fn, conv2d_22_layer_call_and_return_conditional_losses, group_normalization_37_layer_call_fn, group_normalization_37_layer_call_and_return_conditional_losses, conv2d_59_layer_call_fn while saving (showing 5 of 460). These functions will not be directly callable after loading.\n"
     ]
    },
    {
     "name": "stdout",
     "output_type": "stream",
     "text": [
      "INFO:tensorflow:Assets written to: /tmp/tmp6k1drd4l/assets\n"
     ]
    },
    {
     "name": "stderr",
     "output_type": "stream",
     "text": [
      "INFO:tensorflow:Assets written to: /tmp/tmp6k1drd4l/assets\n",
      "2022-06-14 01:44:59.126260: W tensorflow/compiler/mlir/lite/python/tf_tfl_flatbuffer_helpers.cc:363] Ignored output_format.\n",
      "2022-06-14 01:44:59.126345: W tensorflow/compiler/mlir/lite/python/tf_tfl_flatbuffer_helpers.cc:366] Ignored drop_control_dependency.\n",
      "2022-06-14 01:44:59.126649: I tensorflow/cc/saved_model/reader.cc:43] Reading SavedModel from: /tmp/tmp6k1drd4l\n",
      "2022-06-14 01:44:59.145200: I tensorflow/cc/saved_model/reader.cc:107] Reading meta graph with tags { serve }\n",
      "2022-06-14 01:44:59.145239: I tensorflow/cc/saved_model/reader.cc:148] Reading SavedModel debug info (if present) from: /tmp/tmp6k1drd4l\n",
      "2022-06-14 01:44:59.228654: I tensorflow/cc/saved_model/loader.cc:210] Restoring SavedModel bundle.\n",
      "2022-06-14 01:44:59.480986: I tensorflow/cc/saved_model/loader.cc:194] Running initialization op on SavedModel bundle at path: /tmp/tmp6k1drd4l\n",
      "2022-06-14 01:44:59.624230: I tensorflow/cc/saved_model/loader.cc:283] SavedModel load for tags { serve }; Status: success: OK. Took 497584 microseconds.\n"
     ]
    }
   ],
   "source": [
    "converter = tf.lite.TFLiteConverter.from_keras_model(decoder)\n",
    "tflite_model = converter.convert()"
   ]
  },
  {
   "cell_type": "code",
   "execution_count": 46,
   "id": "187dbd26-3027-4bad-bba5-cd14fd8585b9",
   "metadata": {},
   "outputs": [],
   "source": [
    "import pathlib\n",
    "tflite_models_dir = pathlib.Path(\"./tflite/\")\n",
    "tflite_models_dir.mkdir(exist_ok=True, parents=True)"
   ]
  },
  {
   "cell_type": "code",
   "execution_count": 47,
   "id": "77130cb8-704e-4207-9d1c-e05935139613",
   "metadata": {},
   "outputs": [
    {
     "data": {
      "text/plain": [
       "43772324"
      ]
     },
     "execution_count": 47,
     "metadata": {},
     "output_type": "execute_result"
    }
   ],
   "source": [
    "tflite_model_file = tflite_models_dir/\"decoder.tflite\"\n",
    "tflite_model_file.write_bytes(tflite_model)"
   ]
  },
  {
   "cell_type": "code",
   "execution_count": 48,
   "id": "9e6b6240-b408-4103-af96-876cab521beb",
   "metadata": {},
   "outputs": [],
   "source": [
    "converter.optimizations = [tf.lite.Optimize.DEFAULT]\n",
    "converter.target_spec.supported_types = [tf.float16]"
   ]
  },
  {
   "cell_type": "code",
   "execution_count": 49,
   "id": "2c2e5b7d-93d8-485e-8bfd-a0494556c55d",
   "metadata": {},
   "outputs": [
    {
     "name": "stderr",
     "output_type": "stream",
     "text": [
      "WARNING:absl:Found untraced functions such as conv2d_22_layer_call_fn, conv2d_22_layer_call_and_return_conditional_losses, group_normalization_37_layer_call_fn, group_normalization_37_layer_call_and_return_conditional_losses, conv2d_59_layer_call_fn while saving (showing 5 of 460). These functions will not be directly callable after loading.\n"
     ]
    },
    {
     "name": "stdout",
     "output_type": "stream",
     "text": [
      "INFO:tensorflow:Assets written to: /tmp/tmpodkjjmwz/assets\n"
     ]
    },
    {
     "name": "stderr",
     "output_type": "stream",
     "text": [
      "INFO:tensorflow:Assets written to: /tmp/tmpodkjjmwz/assets\n",
      "2022-06-14 01:45:16.945417: W tensorflow/compiler/mlir/lite/python/tf_tfl_flatbuffer_helpers.cc:363] Ignored output_format.\n",
      "2022-06-14 01:45:16.945495: W tensorflow/compiler/mlir/lite/python/tf_tfl_flatbuffer_helpers.cc:366] Ignored drop_control_dependency.\n",
      "2022-06-14 01:45:16.945785: I tensorflow/cc/saved_model/reader.cc:43] Reading SavedModel from: /tmp/tmpodkjjmwz\n",
      "2022-06-14 01:45:16.980192: I tensorflow/cc/saved_model/reader.cc:107] Reading meta graph with tags { serve }\n",
      "2022-06-14 01:45:16.980257: I tensorflow/cc/saved_model/reader.cc:148] Reading SavedModel debug info (if present) from: /tmp/tmpodkjjmwz\n",
      "2022-06-14 01:45:17.078904: I tensorflow/cc/saved_model/loader.cc:210] Restoring SavedModel bundle.\n",
      "2022-06-14 01:45:17.327498: I tensorflow/cc/saved_model/loader.cc:194] Running initialization op on SavedModel bundle at path: /tmp/tmpodkjjmwz\n",
      "2022-06-14 01:45:17.477138: I tensorflow/cc/saved_model/loader.cc:283] SavedModel load for tags { serve }; Status: success: OK. Took 531353 microseconds.\n"
     ]
    },
    {
     "data": {
      "text/plain": [
       "22025720"
      ]
     },
     "execution_count": 49,
     "metadata": {},
     "output_type": "execute_result"
    }
   ],
   "source": [
    "tflite_fp16_model = converter.convert()\n",
    "tflite_model_fp16_file = tflite_models_dir/\"decoder_quant_f16.tflite\"\n",
    "tflite_model_fp16_file.write_bytes(tflite_fp16_model)"
   ]
  }
 ],
 "metadata": {
  "kernelspec": {
   "display_name": "Python 3 (ipykernel)",
   "language": "python",
   "name": "python3"
  },
  "language_info": {
   "codemirror_mode": {
    "name": "ipython",
    "version": 3
   },
   "file_extension": ".py",
   "mimetype": "text/x-python",
   "name": "python",
   "nbconvert_exporter": "python",
   "pygments_lexer": "ipython3",
   "version": "3.8.10"
  }
 },
 "nbformat": 4,
 "nbformat_minor": 5
}
