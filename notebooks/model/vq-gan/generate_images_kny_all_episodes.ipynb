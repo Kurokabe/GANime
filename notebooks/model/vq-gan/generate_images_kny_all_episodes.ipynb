{
 "cells": [
  {
   "cell_type": "code",
   "execution_count": 1,
   "id": "60636c6e-f93b-4b37-83ec-fcec017c6e95",
   "metadata": {},
   "outputs": [],
   "source": [
    "import os\n",
    "from tqdm.auto import tqdm\n",
    "\n",
    "os.environ[\"CUDA_DEVICE_ORDER\"]=\"PCI_BUS_ID\"   # see issue #152\n",
    "os.environ[\"CUDA_VISIBLE_DEVICES\"]=\"0\"\n",
    "os.environ[\"NCCL_DEBUG\"]=\"WARN\""
   ]
  },
  {
   "cell_type": "code",
   "execution_count": 2,
   "id": "b8317dca-3184-43da-92ef-6f1226b97722",
   "metadata": {},
   "outputs": [],
   "source": [
    "os.chdir(\"../../../scripts/dataset/\")"
   ]
  },
  {
   "cell_type": "code",
   "execution_count": 7,
   "id": "66d82e33-4873-4829-865c-1bf593b7030a",
   "metadata": {},
   "outputs": [],
   "source": [
    "command = \"python create_image_tfrecords.py --source=videos --path=../../data/kny/raw_videos --resize 256 512 --extension=mkv --output_dir=../../data/kny/images_tfrecords_full_256 --filename=kny_images\""
   ]
  },
  {
   "cell_type": "code",
   "execution_count": 8,
   "id": "4671a845-7046-4b03-87a1-96e9aa9bca66",
   "metadata": {},
   "outputs": [
    {
     "data": {
      "text/plain": [
       "512"
      ]
     },
     "execution_count": 8,
     "metadata": {},
     "output_type": "execute_result"
    }
   ],
   "source": [
    "os.system(command)"
   ]
  },
  {
   "cell_type": "code",
   "execution_count": 9,
   "id": "939d40c6-fe59-43ee-9dba-34fcb881d567",
   "metadata": {},
   "outputs": [
    {
     "data": {
      "text/plain": [
       "'python create_image_tfrecords --source=videos --path=../../data/kny/raw_videos --resize 256 512 --extension=mkv --output_dir=../../data/kny/images_tfrecords_full_256 --filename=kny_images'"
      ]
     },
     "execution_count": 9,
     "metadata": {},
     "output_type": "execute_result"
    }
   ],
   "source": [
    "command"
   ]
  }
 ],
 "metadata": {
  "kernelspec": {
   "display_name": "Python 3",
   "language": "python",
   "name": "python3"
  },
  "language_info": {
   "codemirror_mode": {
    "name": "ipython",
    "version": 3
   },
   "file_extension": ".py",
   "mimetype": "text/x-python",
   "name": "python",
   "nbconvert_exporter": "python",
   "pygments_lexer": "ipython3",
   "version": "3.8.10"
  }
 },
 "nbformat": 4,
 "nbformat_minor": 5
}
