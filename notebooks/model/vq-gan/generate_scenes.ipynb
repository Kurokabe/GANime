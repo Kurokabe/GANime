{
 "cells": [
  {
   "cell_type": "code",
   "execution_count": 1,
   "id": "fa84d1d1-d34c-480a-a66f-a2685c7449a5",
   "metadata": {},
   "outputs": [],
   "source": [
    "import os\n",
    "import glob\n",
    "from tqdm.auto import tqdm"
   ]
  },
  {
   "cell_type": "code",
   "execution_count": 2,
   "id": "f2f63516-0907-46b0-a496-1322ea39e37b",
   "metadata": {},
   "outputs": [],
   "source": [
    "source_folder = \"../../../data/kny/raw_videos/\"\n",
    "output_folder = \"../../../data/kny/scenes/\""
   ]
  },
  {
   "cell_type": "code",
   "execution_count": 3,
   "id": "1dde3e94-b6ea-4f3f-be85-91be16e97abe",
   "metadata": {},
   "outputs": [],
   "source": [
    "video_paths = sorted(glob.glob(source_folder + \"*.mkv\"))"
   ]
  },
  {
   "cell_type": "code",
   "execution_count": 4,
   "id": "e19fac9b-c719-4031-9150-cbb9bf23fae9",
   "metadata": {},
   "outputs": [],
   "source": [
    "commands = []\n",
    "for i, path in enumerate(video_paths):\n",
    "    sub_folder_name = os.path.basename(path).split(\".\")[0]\n",
    "    commands.append(f\"scenedetect --input {path} --output {output_folder}/{sub_folder_name} --downscale 4 --min-scene-len=0.5s --drop-short-scenes --stats {sub_folder_name}.stats.csv --quiet detect-content --threshold=15 list-scenes save-images split-video\")"
   ]
  },
  {
   "cell_type": "code",
   "execution_count": 5,
   "id": "1e9d9d48-0806-4f34-985d-6d4e3e400c3a",
   "metadata": {
    "tags": []
   },
   "outputs": [
    {
     "data": {
      "application/vnd.jupyter.widget-view+json": {
       "model_id": "d86b87eebef14bf9a66d9a25355507f3",
       "version_major": 2,
       "version_minor": 0
      },
      "text/plain": [
       "  0%|          | 0/44 [00:00<?, ?it/s]"
      ]
     },
     "metadata": {},
     "output_type": "display_data"
    }
   ],
   "source": [
    "for command in tqdm(commands):\n",
    "    os.system(f\"{command} &\")"
   ]
  },
  {
   "cell_type": "code",
   "execution_count": null,
   "id": "9d59cfa6-88ac-4ac6-8381-0569b86e8d96",
   "metadata": {},
   "outputs": [],
   "source": []
  }
 ],
 "metadata": {
  "kernelspec": {
   "display_name": "Python 3 (ipykernel)",
   "language": "python",
   "name": "python3"
  },
  "language_info": {
   "codemirror_mode": {
    "name": "ipython",
    "version": 3
   },
   "file_extension": ".py",
   "mimetype": "text/x-python",
   "name": "python",
   "nbconvert_exporter": "python",
   "pygments_lexer": "ipython3",
   "version": "3.8.10"
  }
 },
 "nbformat": 4,
 "nbformat_minor": 5
}
