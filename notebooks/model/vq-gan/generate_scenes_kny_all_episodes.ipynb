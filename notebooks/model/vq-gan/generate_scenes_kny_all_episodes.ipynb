{
 "cells": [
  {
   "cell_type": "code",
   "execution_count": 1,
   "id": "fa84d1d1-d34c-480a-a66f-a2685c7449a5",
   "metadata": {},
   "outputs": [],
   "source": [
    "import os\n",
    "from tqdm.auto import tqdm\n",
    "\n",
    "os.environ[\"CUDA_DEVICE_ORDER\"]=\"PCI_BUS_ID\"   # see issue #152\n",
    "os.environ[\"CUDA_VISIBLE_DEVICES\"]=\"0\"\n",
    "os.environ[\"NCCL_DEBUG\"]=\"WARN\""
   ]
  },
  {
   "cell_type": "code",
   "execution_count": 2,
   "id": "7eba24e0-cd76-4e2b-8baa-7a540f312054",
   "metadata": {},
   "outputs": [],
   "source": [
    "os.chdir(\"../../../scripts/dataset/\")"
   ]
  },
  {
   "cell_type": "code",
   "execution_count": 6,
   "id": "9d59cfa6-88ac-4ac6-8381-0569b86e8d96",
   "metadata": {
    "tags": []
   },
   "outputs": [],
   "source": [
    "commands = []\n",
    "for i in range(44, 45):\n",
    "    commands.append(f\"python create_video_tfrecords.py --path=../../data/kny/scenes/{i:02d}/ --resize 256 512 --extension mp4 --output_dir=../../videos_tfrecords_full_256/{i:02d} --filename=kny_videos\")"
   ]
  },
  {
   "cell_type": "code",
   "execution_count": 5,
   "id": "f2a9aac8-2a77-4ece-8828-8675de1f8b95",
   "metadata": {},
   "outputs": [],
   "source": [
    "for command in commands:\n",
    "    os.system(command)"
   ]
  },
  {
   "cell_type": "code",
   "execution_count": null,
   "id": "1e9d9d48-0806-4f34-985d-6d4e3e400c3a",
   "metadata": {
    "tags": []
   },
   "outputs": [],
   "source": [
    "os.system(\" && \".join(commands))"
   ]
  },
  {
   "cell_type": "code",
   "execution_count": 7,
   "id": "4d5db82a-91a8-4cd2-96a6-917595a01dee",
   "metadata": {},
   "outputs": [
    {
     "data": {
      "text/plain": [
       "['python create_video_tfrecords.py --path=../../data/kny/scenes/44/ --resize 256 512 --extension mp4 --output_dir=../../videos_tfrecords_full_256/44 --filename=kny_videos']"
      ]
     },
     "execution_count": 7,
     "metadata": {},
     "output_type": "execute_result"
    }
   ],
   "source": [
    "commands"
   ]
  },
  {
   "cell_type": "code",
   "execution_count": null,
   "id": "5e639a67-1af1-4190-8031-fb4eb983cbd0",
   "metadata": {},
   "outputs": [],
   "source": []
  }
 ],
 "metadata": {
  "kernelspec": {
   "display_name": "Python 3",
   "language": "python",
   "name": "python3"
  },
  "language_info": {
   "codemirror_mode": {
    "name": "ipython",
    "version": 3
   },
   "file_extension": ".py",
   "mimetype": "text/x-python",
   "name": "python",
   "nbconvert_exporter": "python",
   "pygments_lexer": "ipython3",
   "version": "3.8.10"
  }
 },
 "nbformat": 4,
 "nbformat_minor": 5
}
