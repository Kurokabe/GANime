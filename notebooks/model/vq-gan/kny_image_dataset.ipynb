{
 "cells": [
  {
   "cell_type": "code",
   "execution_count": 1,
   "id": "7ad30b63-a6c7-4dad-b2b4-aedccf951561",
   "metadata": {},
   "outputs": [],
   "source": [
    "import glob\n",
    "import numpy as np\n",
    "from skimage import io\n",
    "from skimage import transform\n",
    "from ganime.visualization.images import display_images\n",
    "from ganime.data.experimental import ImageDataset"
   ]
  },
  {
   "cell_type": "code",
   "execution_count": 2,
   "id": "58bc0fc0-5356-4f09-9915-8745381f4f99",
   "metadata": {},
   "outputs": [],
   "source": [
    "folder_path = \"../../../data/kny/scenes/*/\""
   ]
  },
  {
   "cell_type": "code",
   "execution_count": 3,
   "id": "069fd5b9-4092-4785-b3a9-b8ed2e0e21ab",
   "metadata": {},
   "outputs": [],
   "source": [
    "image_paths = sorted(glob.glob(folder_path+\"*.jpg\"))"
   ]
  },
  {
   "cell_type": "code",
   "execution_count": 4,
   "id": "e6064fba-dce5-4adf-893b-ec741f3ee451",
   "metadata": {},
   "outputs": [],
   "source": [
    "images = np.zeros((len(image_paths), 64, 128, 3), dtype=np.uint8)\n",
    "for i, path in enumerate(image_paths):\n",
    "    img = io.imread(path)\n",
    "    resized = transform.resize(img, (64, 128), anti_aliasing=True)\n",
    "    resized = (resized * 255).astype(np.uint8)\n",
    "    images[i] = resized"
   ]
  },
  {
   "cell_type": "code",
   "execution_count": 5,
   "id": "e024f2a3-22fb-48c5-b9f5-318c8570b99f",
   "metadata": {},
   "outputs": [
    {
     "data": {
      "application/vnd.jupyter.widget-view+json": {
       "model_id": "8a009f0ca0a14acab30f40d47a3c8b8e",
       "version_major": 2,
       "version_minor": 0
      },
      "text/plain": [
       "  0%|          | 0/52014 [00:00<?, ?it/s]"
      ]
     },
     "metadata": {},
     "output_type": "display_data"
    },
    {
     "name": "stderr",
     "output_type": "stream",
     "text": [
      "2022-06-29 03:02:04.281630: I tensorflow/core/platform/cpu_feature_guard.cc:151] This TensorFlow binary is optimized with oneAPI Deep Neural Network Library (oneDNN) to use the following CPU instructions in performance-critical operations:  AVX2 FMA\n",
      "To enable them in other operations, rebuild TensorFlow with the appropriate compiler flags.\n",
      "2022-06-29 03:02:07.032844: I tensorflow/core/common_runtime/gpu/gpu_device.cc:1525] Created device /job:localhost/replica:0/task:0/device:GPU:0 with 21885 MB memory:  -> device: 0, name: NVIDIA GeForce RTX 3090, pci bus id: 0000:01:00.0, compute capability: 8.6\n",
      "2022-06-29 03:02:07.033863: I tensorflow/core/common_runtime/gpu/gpu_device.cc:1525] Created device /job:localhost/replica:0/task:0/device:GPU:1 with 22308 MB memory:  -> device: 1, name: NVIDIA GeForce RTX 3090, pci bus id: 0000:25:00.0, compute capability: 8.6\n",
      "2022-06-29 03:02:07.034683: I tensorflow/core/common_runtime/gpu/gpu_device.cc:1525] Created device /job:localhost/replica:0/task:0/device:GPU:2 with 22308 MB memory:  -> device: 2, name: NVIDIA GeForce RTX 3090, pci bus id: 0000:41:00.0, compute capability: 8.6\n",
      "2022-06-29 03:02:07.035458: I tensorflow/core/common_runtime/gpu/gpu_device.cc:1525] Created device /job:localhost/replica:0/task:0/device:GPU:3 with 22308 MB memory:  -> device: 3, name: NVIDIA GeForce RTX 3090, pci bus id: 0000:61:00.0, compute capability: 8.6\n",
      "2022-06-29 03:02:07.036225: I tensorflow/core/common_runtime/gpu/gpu_device.cc:1525] Created device /job:localhost/replica:0/task:0/device:GPU:4 with 22308 MB memory:  -> device: 4, name: NVIDIA GeForce RTX 3090, pci bus id: 0000:81:00.0, compute capability: 8.6\n",
      "2022-06-29 03:02:07.036995: I tensorflow/core/common_runtime/gpu/gpu_device.cc:1525] Created device /job:localhost/replica:0/task:0/device:GPU:5 with 22308 MB memory:  -> device: 5, name: NVIDIA GeForce RTX 3090, pci bus id: 0000:a1:00.0, compute capability: 8.6\n",
      "2022-06-29 03:02:07.037759: I tensorflow/core/common_runtime/gpu/gpu_device.cc:1525] Created device /job:localhost/replica:0/task:0/device:GPU:6 with 22308 MB memory:  -> device: 6, name: NVIDIA GeForce RTX 3090, pci bus id: 0000:c1:00.0, compute capability: 8.6\n",
      "2022-06-29 03:02:07.038521: I tensorflow/core/common_runtime/gpu/gpu_device.cc:1525] Created device /job:localhost/replica:0/task:0/device:GPU:7 with 22308 MB memory:  -> device: 7, name: NVIDIA GeForce RTX 3090, pci bus id: 0000:e1:00.0, compute capability: 8.6\n"
     ]
    },
    {
     "name": "stdout",
     "output_type": "stream",
     "text": [
      "Creating 13 files with 4002 elements each.\n"
     ]
    },
    {
     "data": {
      "application/vnd.jupyter.widget-view+json": {
       "model_id": "cc567825997b47a7a0f0c8fbe8784264",
       "version_major": 2,
       "version_minor": 0
      },
      "text/plain": [
       "  0%|          | 0/13 [00:00<?, ?it/s]"
      ]
     },
     "metadata": {},
     "output_type": "display_data"
    },
    {
     "name": "stdout",
     "output_type": "stream",
     "text": [
      "\n",
      "Wrote 52014 elements to TFRecord\n"
     ]
    }
   ],
   "source": [
    "ImageDataset.write_to_tfr(images, out_dir=\"../../../data/kny/images_tfrecords\", filename=\"kny_images\")"
   ]
  },
  {
   "cell_type": "code",
   "execution_count": null,
   "id": "1b16dbb9-b5fa-44cf-998a-b3c9d28465bd",
   "metadata": {},
   "outputs": [],
   "source": []
  }
 ],
 "metadata": {
  "kernelspec": {
   "display_name": "Python 3 (ipykernel)",
   "language": "python",
   "name": "python3"
  },
  "language_info": {
   "codemirror_mode": {
    "name": "ipython",
    "version": 3
   },
   "file_extension": ".py",
   "mimetype": "text/x-python",
   "name": "python",
   "nbconvert_exporter": "python",
   "pygments_lexer": "ipython3",
   "version": "3.8.10"
  }
 },
 "nbformat": 4,
 "nbformat_minor": 5
}
