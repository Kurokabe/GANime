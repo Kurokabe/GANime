{
 "cells": [
  {
   "cell_type": "code",
   "execution_count": 1,
   "id": "2bdff554-1c7e-422c-9c02-8e8a81c55d4f",
   "metadata": {},
   "outputs": [],
   "source": [
    "import os\n",
    "os.environ[\"CUDA_DEVICE_ORDER\"]=\"PCI_BUS_ID\"   # see issue #152\n",
    "os.environ[\"CUDA_VISIBLE_DEVICES\"]=\"0\""
   ]
  },
  {
   "cell_type": "code",
   "execution_count": 2,
   "id": "5e0a6e7c-eeae-4bca-812f-8e026f046894",
   "metadata": {},
   "outputs": [],
   "source": [
    "%load_ext autoreload\n",
    "%autoreload 2"
   ]
  },
  {
   "cell_type": "code",
   "execution_count": 3,
   "id": "cb3820ac-31d6-4787-9994-ca6ed69bbe3d",
   "metadata": {},
   "outputs": [],
   "source": [
    "import sys\n",
    "sys.path.append(\"../../../\")"
   ]
  },
  {
   "cell_type": "markdown",
   "id": "4ef5a9a2-1f2b-420a-bbed-24ff4ab9c9e6",
   "metadata": {},
   "source": [
    "\n",
    "from tensorflow.keras import mixed_precision\n",
    "\n",
    "policy = mixed_precision.Policy('mixed_float16')\n",
    "mixed_precision.set_global_policy(policy)\n",
    "print('Compute dtype: %s' % policy.compute_dtype)\n",
    "print('Variable dtype: %s' % policy.variable_dtype)"
   ]
  },
  {
   "cell_type": "code",
   "execution_count": 4,
   "id": "ea3bca5d-ef9c-443f-aea0-f5d03fbc49a5",
   "metadata": {},
   "outputs": [],
   "source": [
    "import tensorflow as tf\n",
    "for device in tf.config.list_physical_devices(\"GPU\"):\n",
    "    tf.config.experimental.set_memory_growth(device, True)"
   ]
  },
  {
   "cell_type": "code",
   "execution_count": 5,
   "id": "f0f493e5-3aea-42dd-b657-2e332e1d8afd",
   "metadata": {},
   "outputs": [
    {
     "name": "stderr",
     "output_type": "stream",
     "text": [
      "2022-06-27 05:08:45.102645: I tensorflow/core/platform/cpu_feature_guard.cc:151] This TensorFlow binary is optimized with oneAPI Deep Neural Network Library (oneDNN) to use the following CPU instructions in performance-critical operations:  AVX2 FMA\n",
      "To enable them in other operations, rebuild TensorFlow with the appropriate compiler flags.\n",
      "2022-06-27 05:08:47.886961: I tensorflow/core/common_runtime/gpu/gpu_device.cc:1525] Created device /job:localhost/replica:0/task:0/device:GPU:0 with 22308 MB memory:  -> device: 0, name: NVIDIA GeForce RTX 3090, pci bus id: 0000:25:00.0, compute capability: 8.6\n",
      "2022-06-27 05:08:47.888092: I tensorflow/core/common_runtime/gpu/gpu_device.cc:1525] Created device /job:localhost/replica:0/task:0/device:GPU:1 with 22308 MB memory:  -> device: 1, name: NVIDIA GeForce RTX 3090, pci bus id: 0000:41:00.0, compute capability: 8.6\n",
      "2022-06-27 05:08:47.889054: I tensorflow/core/common_runtime/gpu/gpu_device.cc:1525] Created device /job:localhost/replica:0/task:0/device:GPU:2 with 22308 MB memory:  -> device: 2, name: NVIDIA GeForce RTX 3090, pci bus id: 0000:61:00.0, compute capability: 8.6\n",
      "2022-06-27 05:08:47.889941: I tensorflow/core/common_runtime/gpu/gpu_device.cc:1525] Created device /job:localhost/replica:0/task:0/device:GPU:3 with 22308 MB memory:  -> device: 3, name: NVIDIA GeForce RTX 3090, pci bus id: 0000:81:00.0, compute capability: 8.6\n",
      "2022-06-27 05:08:47.890828: I tensorflow/core/common_runtime/gpu/gpu_device.cc:1525] Created device /job:localhost/replica:0/task:0/device:GPU:4 with 22308 MB memory:  -> device: 4, name: NVIDIA GeForce RTX 3090, pci bus id: 0000:a1:00.0, compute capability: 8.6\n",
      "2022-06-27 05:08:47.891710: I tensorflow/core/common_runtime/gpu/gpu_device.cc:1525] Created device /job:localhost/replica:0/task:0/device:GPU:5 with 22308 MB memory:  -> device: 5, name: NVIDIA GeForce RTX 3090, pci bus id: 0000:c1:00.0, compute capability: 8.6\n",
      "2022-06-27 05:08:47.892605: I tensorflow/core/common_runtime/gpu/gpu_device.cc:1525] Created device /job:localhost/replica:0/task:0/device:GPU:6 with 22308 MB memory:  -> device: 6, name: NVIDIA GeForce RTX 3090, pci bus id: 0000:e1:00.0, compute capability: 8.6\n"
     ]
    }
   ],
   "source": [
    "import omegaconf\n",
    "import numpy as np\n",
    "import matplotlib.pyplot as plt\n",
    "from ganime.data.experimental import ImageDataset, VideoDataset\n",
    "from ganime.visualization.videos import display_videos\n",
    "from ganime.visualization.images import display_images\n",
    "from ganime.model.vqgan_clean.experimental.net2net_v3 import Net2Net\n",
    "import tensorflow_addons as tfa\n",
    "from datetime import datetime\n",
    "from tqdm.auto import tqdm\n",
    "from pyprojroot.pyprojroot import here\n",
    "\n",
    "tf.get_logger().setLevel('WARNING')\n",
    "import warnings\n",
    "warnings.filterwarnings('ignore')"
   ]
  },
  {
   "cell_type": "code",
   "execution_count": 6,
   "id": "6dc5e7fd-b6d4-4b78-9618-045075d125fc",
   "metadata": {},
   "outputs": [],
   "source": [
    "strategy = tf.distribute.MirroredStrategy(cross_device_ops=tf.distribute.HierarchicalCopyAllReduce())"
   ]
  },
  {
   "cell_type": "code",
   "execution_count": 7,
   "id": "3d3366cc-e9a8-406e-9756-6710171eb50d",
   "metadata": {},
   "outputs": [],
   "source": [
    "cfg = omegaconf.OmegaConf.load(here(\"configs/moving_mnist_image_transformer_huggingface.yaml\"))\n",
    "#cfg = omegaconf.OmegaConf.load(here(\"configs/default_transformer.yaml\"))\n",
    "batch_size = cfg[\"train\"][\"batch_size\"] \n",
    "global_batch_size = batch_size * strategy.num_replicas_in_sync\n",
    "n_epochs = cfg[\"train\"][\"n_epochs\"]\n",
    "sample_batch_size = 8"
   ]
  },
  {
   "cell_type": "code",
   "execution_count": 8,
   "id": "d488cea1-b450-4620-9b82-9c7c7f859be2",
   "metadata": {},
   "outputs": [],
   "source": [
    "dataset_length = 10000\n",
    "num_batch = dataset_length / batch_size"
   ]
  },
  {
   "cell_type": "markdown",
   "id": "ff4d4f1e-eaac-46d7-a4dd-c7a79adaed2f",
   "metadata": {},
   "source": [
    "def preprocess(element):\n",
    "    element = tf.reshape(element, (tf.shape(element)[0], tf.shape(element)[1], tf.shape(element)[2], 3))\n",
    "    element = tf.cast(element, tf.float32) / 255.0\n",
    "    first_frame = element[0,...]\n",
    "    last_frame = element[2,...]\n",
    "    \n",
    "    y = element[0:3,...]\n",
    "    \n",
    "    return {\"first_frame\": first_frame, \"last_frame\": last_frame, \"y\": y, \"n_frames\": tf.shape(element)[0]}"
   ]
  },
  {
   "cell_type": "code",
   "execution_count": 9,
   "id": "1b8c80d4-f55b-4934-991f-f890bbde5956",
   "metadata": {},
   "outputs": [],
   "source": [
    "drop_prob = 0.0 #0.2"
   ]
  },
  {
   "cell_type": "markdown",
   "id": "ed16aece-063d-4e14-bae9-148634bca1a6",
   "metadata": {},
   "source": [
    "def preprocess(element):\n",
    "    element = tf.reshape(element, (tf.shape(element)[0], tf.shape(element)[1], tf.shape(element)[2], 3))\n",
    "    element = tf.cast(element, tf.float32) / 255.0\n",
    "    #num_elements_to_keep = tf.random.uniform(shape=(1,), minval=5, maxval=tf.shape(element)[0], dtype=tf.int32)\n",
    "    #remainder = tf.shape(element)[0] - num_elements_to_keep[0]\n",
    "    idx_to_keep = tf.random.uniform((tf.shape(element)[0],)) > drop_prob\n",
    "    element = element[idx_to_keep]\n",
    "    \n",
    "    #element = element[:10,...]\n",
    "    first_frame = element[0,...]\n",
    "    last_frame = element[-1,...]\n",
    "    \n",
    "    y = element\n",
    "    \n",
    "    return {\"first_frame\": first_frame, \"last_frame\": last_frame, \"y\": y, \"n_frames\": tf.shape(element)[0]}"
   ]
  },
  {
   "cell_type": "markdown",
   "id": "80f0cd38-1da8-493c-9824-19e7c143e0b2",
   "metadata": {},
   "source": [
    "def video_to_ragged(element):\n",
    "    element[\"y\"] = tf.RaggedTensor.from_tensor(tf.expand_dims(element[\"y\"], 0))\n",
    "    return element\n",
    "def squeeze_ragged(element):\n",
    "    element[\"y\"] = tf.squeeze(element[\"y\"], axis=1)\n",
    "    return element\n",
    "def to_tensor(element):\n",
    "    element[\"y\"] = element[\"y\"].to_tensor()\n",
    "    return element"
   ]
  },
  {
   "cell_type": "markdown",
   "id": "00ed0f75-bd03-4b74-aa0f-e883132ea8a8",
   "metadata": {},
   "source": [
    "dataset = VideoDataset(\"../../../data/moving_mnist_tfrecords\").load()\n",
    "dataset = (dataset.shuffle(dataset_length, reshuffle_each_iteration=True)\n",
    "           .map(preprocess, num_parallel_calls=tf.data.AUTOTUNE)\n",
    "           #.map(video_to_ragged, num_parallel_calls=tf.data.AUTOTUNE)\n",
    "           )"
   ]
  },
  {
   "cell_type": "markdown",
   "id": "609c7df1-0948-4f29-ab87-9169f028313a",
   "metadata": {},
   "source": [
    "train_size = int(dataset_length * 0.8)\n",
    "validation_size = int(dataset_length * 0.1)\n",
    "test_size = int(dataset_length * 0.1)"
   ]
  },
  {
   "cell_type": "markdown",
   "id": "e4c8fb4f-6386-472b-ab4c-2ca904888487",
   "metadata": {},
   "source": [
    "train_ds = dataset.take(train_size)#.batch(global_batch_size)\n",
    "validation_ds = dataset.skip(train_size).take(validation_size)#.batch(global_batch_size)\n",
    "test_ds = dataset.skip(train_size + validation_size).take(validation_size)#.batch(global_batch_size)"
   ]
  },
  {
   "cell_type": "markdown",
   "id": "6a2bd55b-a50d-4dc3-ac34-62d53015b0a5",
   "metadata": {
    "tags": []
   },
   "source": [
    "train_sample_data = next(train_ds\n",
    "                          .padded_batch(batch_size)\n",
    "                          .prefetch(tf.data.AUTOTUNE).as_numpy_iterator())\n",
    "validation_sample_data = next(validation_ds.padded_batch(batch_size).as_numpy_iterator())"
   ]
  },
  {
   "cell_type": "markdown",
   "id": "a8e9b1a4-e9e2-4b1b-b0ed-13d1836b8ba3",
   "metadata": {},
   "source": [
    "train_ds = (train_ds.apply(\n",
    "                        tf.data.experimental.dense_to_ragged_batch(batch_size=batch_size, drop_remainder=True))\n",
    "            .prefetch(tf.data.AUTOTUNE))\n",
    "validation_ds = (validation_ds.apply(\n",
    "                        tf.data.experimental.dense_to_ragged_batch(batch_size=batch_size, drop_remainder=True))\n",
    "            .prefetch(tf.data.AUTOTUNE))\n",
    "test_ds = (test_ds.apply(\n",
    "                        tf.data.experimental.dense_to_ragged_batch(batch_size=batch_size, drop_remainder=True))\n",
    "            .prefetch(tf.data.AUTOTUNE))"
   ]
  },
  {
   "cell_type": "code",
   "execution_count": 10,
   "id": "78e1f5c5-e188-4d6c-95be-a3f988cd16ca",
   "metadata": {},
   "outputs": [],
   "source": [
    "def preprocess(element):\n",
    "    element = tf.reshape(element, (tf.shape(element)[0], tf.shape(element)[1], tf.shape(element)[2], 3))\n",
    "    element = tf.cast(element, tf.float32) / 255.0\n",
    "    n_frames = tf.shape(element)[0]\n",
    "    \n",
    "    remaining_frames = tf.reverse(tf.range(n_frames), axis=[0])\n",
    "    \n",
    "    idx_to_keep = tf.random.uniform((tf.shape(element)[0],)) > drop_prob\n",
    "    element = element[idx_to_keep]\n",
    "    remaining_frames = remaining_frames[idx_to_keep]\n",
    "    \n",
    "    element = element[:10,...]\n",
    "    first_frame = element[0,...]\n",
    "    last_frame = element[-1,...]\n",
    "    \n",
    "    y = element\n",
    "    \n",
    "    return {\"first_frame\": first_frame, \"last_frame\": last_frame, \"y\": y, \"n_frames\": tf.shape(element)[0], \"remaining_frames\": remaining_frames}\n",
    "def postprocess(batch):\n",
    "    min_frames = tf.reduce_min(batch[\"n_frames\"])\n",
    "    first_frame_idx = tf.constant(0)\n",
    "    frames_to_keep = min_frames - 2\n",
    "    \n",
    "    y = tf.TensorArray(tf.float32, size=0, dynamic_size=True, clear_after_read=False)\n",
    "    remaining_frames = tf.TensorArray(tf.int32, size=0, dynamic_size=True, clear_after_read=False)\n",
    "    \n",
    "    for i in tf.range(tf.shape(batch[\"y\"])[0]):\n",
    "        num_frames = batch[\"n_frames\"][i]\n",
    "        last_frame_idx = num_frames - 1\n",
    "        all_indices = tf.range(1, num_frames - 1)\n",
    "        indices = tf.sort(tf.random.shuffle(all_indices)[:frames_to_keep])\n",
    "        indices = tf.concat([[first_frame_idx], indices, [last_frame_idx]], axis=0)\n",
    "        y = y.write(i, tf.gather(batch[\"y\"][i], indices))\n",
    "        remaining_frames = remaining_frames.write(i, tf.gather(batch[\"remaining_frames\"][i], indices))\n",
    "        \n",
    "    batch[\"remaining_frames\"] = remaining_frames.stack()\n",
    "    batch[\"y\"] = y.stack()\n",
    "    batch[\"n_frames\"] = tf.repeat(min_frames, tf.shape(batch[\"y\"])[0])\n",
    "    \n",
    "    return batch"
   ]
  },
  {
   "cell_type": "code",
   "execution_count": 11,
   "id": "7604a9a9-0bc1-4167-838f-5566966efedb",
   "metadata": {},
   "outputs": [],
   "source": [
    "dataset = VideoDataset(\"../../../data/moving_mnist_tfrecords\").load()\n",
    "dataset = (dataset.shuffle(dataset_length, reshuffle_each_iteration=True)\n",
    "           .map(preprocess, num_parallel_calls=tf.data.AUTOTUNE)\n",
    "           )"
   ]
  },
  {
   "cell_type": "code",
   "execution_count": 12,
   "id": "fa2379e7-9bb0-46f6-bc7f-11f5197de55c",
   "metadata": {},
   "outputs": [],
   "source": [
    "train_size = int(dataset_length * 0.8)\n",
    "validation_size = int(dataset_length * 0.1)\n",
    "test_size = int(dataset_length * 0.1)"
   ]
  },
  {
   "cell_type": "code",
   "execution_count": 13,
   "id": "62d1c5aa-84b8-4ae3-b6db-db4a433bcca4",
   "metadata": {},
   "outputs": [],
   "source": [
    "train_ds = dataset.take(train_size)\n",
    "validation_ds = dataset.skip(train_size).take(validation_size)#.padded_batch(global_batch_size).map(postprocess)\n",
    "test_ds = dataset.skip(train_size + validation_size).take(validation_size)#.padded_batch(global_batch_size).map(postprocess)"
   ]
  },
  {
   "cell_type": "code",
   "execution_count": 14,
   "id": "4d748166-e601-4cab-9605-3e126e10c4dd",
   "metadata": {
    "tags": []
   },
   "outputs": [],
   "source": [
    "train_sample_data = next(train_ds\n",
    "                          .padded_batch(sample_batch_size).map(postprocess)\n",
    "                          .prefetch(tf.data.AUTOTUNE).as_numpy_iterator())\n",
    "validation_sample_data = next(validation_ds.padded_batch(sample_batch_size).map(postprocess).as_numpy_iterator())"
   ]
  },
  {
   "cell_type": "code",
   "execution_count": 15,
   "id": "9bdbbb77-4dfe-49d3-9ab5-8a2f82753ada",
   "metadata": {},
   "outputs": [],
   "source": [
    "train_ds = (train_ds.padded_batch(global_batch_size, drop_remainder=True)\n",
    "            .map(postprocess, num_parallel_calls=tf.data.AUTOTUNE)\n",
    "            .prefetch(tf.data.AUTOTUNE))\n",
    "validation_ds = (validation_ds.padded_batch(global_batch_size, drop_remainder=True)\n",
    "            .map(postprocess, num_parallel_calls=tf.data.AUTOTUNE)\n",
    "            .prefetch(tf.data.AUTOTUNE))\n",
    "test_ds = (test_ds.padded_batch(global_batch_size, drop_remainder=True)\n",
    "            .map(postprocess, num_parallel_calls=tf.data.AUTOTUNE)\n",
    "            .prefetch(tf.data.AUTOTUNE))"
   ]
  },
  {
   "cell_type": "code",
   "execution_count": 16,
   "id": "581e67e5-bbf9-4cb2-815f-661061d15e25",
   "metadata": {},
   "outputs": [
    {
     "data": {
      "text/plain": [
       "array([10, 10, 10, 10, 10, 10, 10, 10], dtype=int32)"
      ]
     },
     "execution_count": 16,
     "metadata": {},
     "output_type": "execute_result"
    }
   ],
   "source": [
    "train_sample_data[\"n_frames\"]"
   ]
  },
  {
   "cell_type": "code",
   "execution_count": 17,
   "id": "dae3aaa8-b21d-47af-aa0b-e15b5bf97c9f",
   "metadata": {},
   "outputs": [
    {
     "data": {
      "text/plain": [
       "[]"
      ]
     },
     "execution_count": 17,
     "metadata": {},
     "output_type": "execute_result"
    },
    {
     "data": {
      "image/png": "[encoded data removed]",
      "text/plain": [
       "<Figure size 1728x864 with 8 Axes>"
      ]
     },
     "metadata": {
      "needs_background": "light"
     },
     "output_type": "display_data"
    }
   ],
   "source": [
    "display_images(train_sample_data[\"last_frame\"], 2, 4)\n",
    "plt.plot()"
   ]
  },
  {
   "cell_type": "code",
   "execution_count": 18,
   "id": "0a88e2d0-afb0-4f24-a515-c652bacc6045",
   "metadata": {},
   "outputs": [
    {
     "data": {
      "text/html": [
       "<video width=\"432\" height=\"288\" controls autoplay loop>\n",
       "  <source type=\"video/mp4\" src=\"data:video/mp4;base64,AAAAHGZ0eXBNNFYgAAACAGlzb21pc28yYXZjMQAAAAhmcmVlAABMeG1kYXQAAAKtBgX//6ncRem9\n",
       "5tlIt5Ys2CDZI+7veDI2NCAtIGNvcmUgMTU1IHIyOTE3IDBhODRkOTggLSBILjI2NC9NUEVHLTQg\n",
       "QVZDIGNvZGVjIC0gQ29weWxlZnQgMjAwMy0yMDE4IC0gaHR0cDovL3d3dy52aWRlb2xhbi5vcmcv\n",
       "eDI2NC5odG1sIC0gb3B0aW9uczogY2FiYWM9MSByZWY9MyBkZWJsb2NrPTE6MDowIGFuYWx5c2U9\n",
       "MHgzOjB4MTEzIG1lPWhleCBzdWJtZT03IHBzeT0xIHBzeV9yZD0xLjAwOjAuMDAgbWl4ZWRfcmVm\n",
       "PTEgbWVfcmFuZ2U9MTYgY2hyb21hX21lPTEgdHJlbGxpcz0xIDh4OGRjdD0xIGNxbT0wIGRlYWR6\n",
       "b25lPTIxLDExIGZhc3RfcHNraXA9MSBjaHJvbWFfcXBfb2Zmc2V0PS0yIHRocmVhZHM9OSBsb29r\n",
       "YWhlYWRfdGhyZWFkcz0xIHNsaWNlZF90aHJlYWRzPTAgbnI9MCBkZWNpbWF0ZT0xIGludGVybGFj\n",
       "ZWQ9MCBibHVyYXlfY29tcGF0PTAgY29uc3RyYWluZWRfaW50cmE9MCBiZnJhbWVzPTMgYl9weXJh\n",
       "bWlkPTIgYl9hZGFwdD0xIGJfYmlhcz0wIGRpcmVjdD0xIHdlaWdodGI9MSBvcGVuX2dvcD0wIHdl\n",
       "aWdodHA9MiBrZXlpbnQ9MjUwIGtleWludF9taW49NiBzY2VuZWN1dD00MCBpbnRyYV9yZWZyZXNo\n",
       "PTAgcmNfbG9va2FoZWFkPTQwIHJjPWNyZiBtYnRyZWU9MSBjcmY9MjMuMCBxY29tcD0wLjYwIHFw\n",
       "bWluPTAgcXBtYXg9NjkgcXBzdGVwPTQgaXBfcmF0aW89MS40MCBhcT0xOjEuMDAAgAAAGeRliIQA\n",
       "Ef/+94gfMstp+TrXchHnrS6tH1DuRnFepL3+IAAAAwAWnJlD+2HHTlrDQABD6G/hKyD4ACKlgntT\n",
       "/dubM3IYrmQV4AtvE9kFeKGGSeQS3hTX5cY9XAlRYlFL67sP0l5FJESrq4cQTAuRVSrhcglvlNSK\n",
       "fdQopWmwmiphlGlXkELeiTHlpefiG59DbdDrcOeQyf2EuRvxBgDu0UCEjepdy55VS/SbZw9QDbHG\n",
       "3PZJSjbAyVErUNiZqClfOjCz/3OtAnKxRKUrKRSYOqYqaWh/3HTINHHgIFmwzQtDlsta3k+78O54\n",
       "x/ttAKBGr3dAc5mU508XXXa6lWrxXaJOwxngsdPSNKalIdrcEyO6xHwSlCJY6Xtl2ll42EjjFNMx\n",
       "TfCxCSf66bIxiqoM+JgN36DaTJh2CMG0wd/owRLBhf+WUthyA4l+MuDzUK87e/FIIk5uyye6SQ21\n",
       "eWYiEDrPXccWz29xbTsiY78r6YF63TlE9LDZvm1mDm68pkhHom2Vy99+ZzPFjuLwofvWSywgCVjE\n",
       "N6ALRhAP55GwYsD5aOuXzTcY52lnxBcoA2oSUW8GIVF//vAV+59f7aVJUUGn+dS/V0It1m5ybZwu\n",
       "HhA4HsVH3EX7Olbdtdci0y2cJEX0SVLXcLE/0J6UpkW2L80zL2Ig3QZxfBXihxL//kA5NrI5ztDt\n",
       "lJOI5Aora5uhXgUToh5QwvQpFIdA5MN6m/NTbdJsg0qrRU8u7kYPH676Q1+cHImtr28h7tfx9BlU\n",
       "+UyziEETdLg3eMZ0a0xX0/rLJzhUIgrxuBPIsOCRc3AHfoiTinE6M68w1QFeE/K//Q5L+/YKM406\n",
       "HuUuGASnPQKB/dLpstjVZV6aMcoSUFWitDZqOk5GmJXN6fnVhlNZaBfJUb2wvp2Dzs5F6OdpQhl7\n",
       "mj1Lst1YkJT5KnpEVCX4UxG19fBOTYYbZpD34/VZFUKjN1fZtBXfAZBRKKxJ5L7UeswfBWoAdmOh\n",
       "MUmqExfygdtmDZZgmB6Cr5xYAxhb1UGwdJ97UDGiip00i+YaI3uu7TGqV7bjFCkcdCZmtqV2JnUz\n",
       "6IctRat6MTcjLGn4PLL/g58HSdSaEyund9jiFq14+0g2smdoGslOVVAPjUZs4xxNgdkyHdlIjXMs\n",
       "xHcRHQS/212S827DqbO5RgKg5ayVmickiDWyH5EvKkFeIaPn7JSDWFlWjQdkKuJYHoUD8KgZLn5j\n",
       "0xyVImAMKQDDRDnx211jc7j7M2kYc+qxfm2uMpHboX7LVEumr3VyXUW4Qmrfrs0ddGhnyrv4RYlO\n",
       "fKdoiPFKs5bATNoWbsmgvt9e387lrAj8dgsp5Pi6FBau5tSqi0XfnIlMYuToMJFi2Hd2VI/EFl6U\n",
       "hZULXX8siORM5gM56OdQfHHwM5AhMECko57F8OsGk10BenjbRx+JWfvBSikQ4OTiUaMWDAuKOjTY\n",
       "kQp4O679Pde3XPnMYcXsWhGQQRD35RIeKfpKpF+yjQdGQ1JCNf08Q49jRO9IhAcI6WGk5bO4eHSR\n",
       "E3lBWNDf7DW4DNBmKMt82/rRyD03k54qv9m5UvP8LHvbMYSvjv0wOChek68GHViJ3qVZAby9lw5b\n",
       "On5XZFoQvN9RNhA33qO2LQ4tOLw8CxDPE2M9+DxAnc+eJgv8XbsLuV5rddVWvR3aAJIVfimN9qIV\n",
       "z827CBiWaHAEs7NYatAqpl+61GGqRmW128C0tR4QpPb7cOp0IupqHeZo5iHIiKMjclLssyE7L3Uz\n",
       "Mzh8Ma0tKrlAzoaZSmDpsX04xaizO5qi6Ou1+MhegIZ1MInEdbQTIGMg/wp9km8iVC0XMbL3Wei6\n",
       "D0HyTT1JYzlAoLlTakAneFFuSNlyq1oKRj3h5tvO1g96m+uyiiiSr+gP4/9e0/ag12v+jSCqM68r\n",
       "OgGI6j51uIMQI4/l6O8oFNLOIddFMIT1+QeoHoX8vGD5Vn07SmXFjBxvQT21hbzuOslZTy/7JcYO\n",
       "W0cdhbGMnyUglHsy7ep3MtVbsp3q9DwM8TsICp002MaGf3uhij/EqVnto9YyNZIUdDBuD17cduyp\n",
       "5hySUOZcfaYfbDJx+ZsiL/On+MrBUBM/tOhXbyA5BsxbM0Xa/wpG6VdSec6PUl8ICXV81FfpTDce\n",
       "bCwKANBpeCOfzVp7ER4XruIGFjybI8USl0oW/2QCsxRbB0IrOWpgxPtI6hq83MHgWhyX68+kuKkW\n",
       "m0mEm8rWOBqnM5w68BMqQzyVPkLBCLy+KKnnIo+NgqwKmEvhcNdb0f5+Ubm3cVOI9DNC0rTh4n9l\n",
       "V6Lszd6LYemyBlG2SGGhoTPceKneD11ItxYX+PfPNkJdAOrhUeYm8HRP1ZqPwbn+0vaokCAAmL8i\n",
       "x3ujObKW9QSWU096Zy/gFl20QiwhJMvFbHub//BZp4azb3H5YNTvnxaLWk1pOsHyAIhf8FuOUTZa\n",
       "D8TcUirEs7Bh5b4wjtWWwSoiB5S38aB4HKAG1rkPC6LBHZgC6PE1smuBFlHvKm2bhhNcH/0dSlyj\n",
       "b7oyFHk0aUZHvhCOq8H8Rj4tYf2UxcO/grc7gtg3dDitV0gZHaMz95lhd40Bt3KoUUQB23iry80R\n",
       "9rHt323snUHf6QLvCbp9pLdw3Y5O3DvVLZVbaD2x0RWQD9+3M9VRhXG9EC4XxE5pVeTzThfQaNCK\n",
       "fxNhy9DisfRWc/g4+wyaK50CFWUUAL06MPTseJaL65WrTAsE7jqJfsWj5AqVp3IzrE8PswhY0lkD\n",
       "bisNd43i9iFFcyhjHQf9GlEeL7tPhw7YM+X7DUkt9mzq3rnVO/JU5fZCkh9sZFfzXCJVat0AMXmM\n",
       "wP1M5UodQ/5bemr+tNTw86b0sJE98OuUROGpmufpLFqtsVJSF2QiVju89PoO1NGbLSQYFhGeuIPu\n",
       "K+1KeeSCLNBs1+aXGmpTOUnP8TJfEPxY6uRTXRUmQrUhpGcPfWF/P8jXAOzZ2m5T8qM6X4yCEXva\n",
       "q2DQNbVigSWUTDrhqeCcvWqW/vf/V8J0jIA8p/kDsyxbnC5ou5Do5f9ZssKg8CL0wg0JCWttM+Mg\n",
       "X2byqpDT/iu2Z1goxI1XMUOwWT0eLo8UQZChRZI80HDJvn1Rk7Nt63RFRSP6gFzwzdFSR0I/zlHF\n",
       "DGCgxvgTTqz24DVRxxuIvvxQKlZQdSM24hFpetqWIhFk37lPSayE9GeTNAWJP6bCq2mMTlBsVbSN\n",
       "jK1OjjWNcFNYiruIjuBpk5cwfsF6puEa/I2jD+ppDOgDdhBuSwkMumi01CHUJGOkvP7gYzNCFDNk\n",
       "/0RemUgNHz19qNOgBsi6fUVegiaB1H2jJtG7/Ec4vhyn/u/tsEVDF0L7NMMpwdiErV9kj4mSvbUK\n",
       "0T2TctoSpEj3zkXCzKtJ94q1Jj6sN9j2HpirnZgh61ePfB7cK4czmfOsGjiQO7k0ABxKtTa/iJaU\n",
       "gUDY/qN8S8d7UIkm5mFNoB5nkOUePagaa+3d8vnc4b5n/LS69ROk9ua5VOHqB4nsa1MV5gmGSq9p\n",
       "elYfA2JAYBrlvmBTCusX0C1FYefbthGoG3m9WJR0uAD+Wge84gR7b1M1am7569gqlJkuteVNxUIK\n",
       "j68Za35sL+RZBpS/xGBpYBPJx58qv8sUCHzfmssk+EkKngSBb6o9m8PwOCd6XD/PfwMDwSFN6GvB\n",
       "LZWQNHtUNB2+0RA+8yVPamQ+2q7sr7076aYe+X2kJpilLkHWnQvGuuSKacX7PSUx/ks87UrvAoVQ\n",
       "lVEh55c12I5NtsEfKRsPvoTSHP8ddNu7k774YL0hCu12PidngeP55P403vyKf6NOmtOwKUjEqO4X\n",
       "j3F02f4OC4+LZ6VUbyjwxmBqTXbCEjEgjuQLaGb/8dw24G8/gOYojrbqzNbPX/41z/qxmBKFtuWT\n",
       "avpUE7oLp/z8Bl95GrOLq+meo/eY1TjRK7ESziocczADn/t6BWks3sIrQptrpo82hO4h/HV9bfBM\n",
       "FicCh+l9PyOwwZky8Yvj/8XoGnyfu15BghapGZ7TqXED3M1T7f4Jtbs+T9fxOqIEHRBxm5h1vM5C\n",
       "rZHwZOSPRMmFY/49tTpsuY+wPVX7ZgCGN939LirHuh+ds+8fIUPz0nhAUsFER6ASzZlcf4s2s1tn\n",
       "Fa9jB5Vrt1wUVQebjYGqofRTyuWLLRgXF2nryu+QBJlG2kspalj7VBpIpLsSg3AOKHukhkT9NRkR\n",
       "u36+zNp9btEmwlNSgypVyVsewNnLO8fOYd95F//z9Mm5J/ZBvQM6dmRHfskduS2aY32B9iFzYGZN\n",
       "0tEDXkSdb+mXQ70xPOJTQfidsjsQbXrxAsa7/tnGBbuA8iia9WiVU7O06tFaGIvPBw7tN2T1XjaZ\n",
       "AGAq3ItphHXv3oemkNSH3SIvo6tg8Kd/CXBSZYKveUyAfH175wqZL2XrHJzScrgyLkop5DaWkin8\n",
       "Baqn7IEritHS2DsJjm4JO4LXl/g5xRONVpe8pMAXT217ocIErTARQfFMN1Omc03DRm17zujNwS6u\n",
       "e7In6SJB+pwCbAAAg6KhLaa5MCtAeN6/RvMysf/Ff+q6jwsV0bX6x+nRyPFzfZ70ut/h6ET2xHxh\n",
       "RiAOk5C7ZAnYuhQ4EUM1REll2/HzNtLmnHudrSlUdYP1HJFKrgqbJM+4RmOz/kSjppuK1/7wXfk1\n",
       "TjEAMWqSqZACsUcmWUxk7j9nyS94jc3VYIEoTHrRLhNvkDK2FkzHmY606nGTxzFdabz6XeWYj8Br\n",
       "f/y86hPIXFhduYCayjqhNke+QBlXuIFQq83RoTWv6n8mgkNFDphyCMFIHg4ep0qW/w2KUYJU2Fmo\n",
       "7NSlkjT0uFcPuUZmFioj0vFlecGTs60p7DYcULIvf2w2+dN9amo+shonVTQxyUNlZY/ZhtrSiRol\n",
       "eAmNNZgTo0EJg6yaDAjYCwu2Nac7kFeDuRyjfHi3x4qYo3GfjK1MCrbCrqgNmETL+ty14fnpuSBM\n",
       "5xJWrHv9y4oZMf9uceNypqwbgH7vSYtlHE0P0SUNIuKTSWVAGRUfKEaObk4E5RXv6cckForlxHA1\n",
       "PqI63LNVMVDHS+H5KN1M9/R+hmOytwjL/Ov6kXtfDwd/qRBfc/95QQPaYCW+OHq0+OI3QCh6du2E\n",
       "tKgZvl1iKerupaBZtncp9dFCHUYPN6NJBPLKL1/Puoj3yb5TqWWtB1tc7HeU3agbNr+U6WfzzzIx\n",
       "3ogndbEZXbxoa/GYph71WE9W7jGbOByYNEVThep12zl6S+hS0Wn730Jah+LRIPI8L4mDyj/6yzbi\n",
       "A/iaUaIhMIbJYgBVZBGPULty/JPEpAaFkfloFx5ZOFbUn6uz4KuED+8jDJNvrquyuK+MVIq9cOjJ\n",
       "P06D7sPStb9z/Lxdl6WqV2lPMrBrrT2wH3V2QoCAAD5U4Qlsco1gqzrHIwRZ6aK03pqlz7NK2UKD\n",
       "WfrSYVWK84183mAV+OiZgw6PYVwNEgtOXmVNrtXLz8x3Ac3msZ8Hprh80ibZy9/OV2FZygkcPXPd\n",
       "SHN+mxL0TmLjMhVneGy69AZST2O1UXDO8hq1N1C67v0lx8ueM/1nlfg0eUF6BzQr/7pGgyj0jlHZ\n",
       "uAKt/SkZfHRag3jX+Cx/4k8rz1zOnU3qEl1ldzwr5zxzvvtmxAvutvaJpqBb1gjHNh5xta3H+zBQ\n",
       "xJMR0ofqsajsE96Mvbfaa1MqZkUdH4v6sm4LXkFeODEB7KCIen45gGxBJvwREMaR0jgrnbQSN+ew\n",
       "A0R3Mw/8+nq0Sy8SnlT9pTkXMkGWadClnMLnP7YIi3Wjbu8HDqdjMELeZASLDGlio07nN9W8odkw\n",
       "+V38g5LzHjkpnLl3EH9WplfN/AEGqlcmi/9nYzAX0SN6Tq58lXwkP0DEwedtgXGea2SYzEhsC9iS\n",
       "7L+tDUJyy4LJKzxw/Nl9JnKsCyrS9KoxT7AMpjsa+MoCuKFraIVZwzRd5zZ9oR/j+cLRBd82ISXb\n",
       "1FZatsWP8Ydh9VI8oQH2ZNWnEpMFPPA+qFzxVYeFveXXDoDdR6pLTLaZ6/NDPloY9xQTJHna36Ue\n",
       "RZO19khAdyCqlm+P9NNcTm68/AJs4KyNHaPvNOnJVeXhQGBTnvFsa8xchyFFJ1Ik4mJJbdyTnjw+\n",
       "JkJaBhm2qR9WXcEjgsQw4XDCjRF53U8m1KqwX1/i0ad7wwZKO6AB3YXeTaJCdvLsPwWqX6IFExUk\n",
       "abMfP4YxL2swnVdRlGUwAMf410ajj8en1Lyg5D0c8gx/38q6h6SzyovQgANY4BMMfGPAhphD3kZg\n",
       "mzSgTSsP+gajLVxzCvkDewJWdpKCgl1hoMRPVopz3xRDoSuCM2xBfkcgnjLECguQFQStzxjXwqcB\n",
       "PrFIxxd1pO/wyuPDdeyPgHvqIa0nUiSebLdlv4X/fScXT/JM24vdTpI4yXwe1GAg/k3FXbjL/VeY\n",
       "J4VYpgPlyuu8Ojp6rHiuweqySnhdNNE42tSi9iORbK5F+d1uVXGn2y0zzTwuD7DWAZiIVUJCQiEc\n",
       "BDhtGp0ImbKejgOAPoK2FKDxqVzFcGtSbzNOVpezcZdjFA7/3l7yUQ2StOVbeMgAzist8ngxawJz\n",
       "7mFBc0PXVFl3WWuiQ0TWn0t+bRkAsfvanIuWkC/6xqSTdYuAE7ZiCbsI1O5fllJ1WUIys5NmlP1a\n",
       "FudrZSPm130v81Jc5Y+vAgokuPu6FuBQ6MwwlN2AY4k0+Jl3BpEITXaMBM1H1UrsYlKQ/3RPM3EP\n",
       "D26b8wPEHgtKTOlDzmcAMxywO+3Lguc0C3gyBNCQ/1FUWIFArQShyGAufuwjhZHknSBxvBjBDNe4\n",
       "cExchsFMMf+4PVnRrSfFaVCgUYHSy1ZbTg9ad79luvmcbTyERS93kY+oUmll+56cxTPbBsKGvb0q\n",
       "2lDq80jCNrKdgrmIOCsC7taz5qnMpbh39TSU0k8LsksTMzpiv4ljdfXEe2YHc9HGWLZlusU+pi0C\n",
       "ng6jjGkJHAC6e0g627xAAQWhHCHGgwj9DNRgh/JzrVVZfswvlhFhmlNBAS14LGv0nLTXXHZ8c/I8\n",
       "CB3QV/penRIXPW5cJDfblrW798eTNWYQf8F+q92Mv3Ztzz0AJNZub2sNOLRwRiHbCQRv9BLxzdnu\n",
       "ameXy+7WER/m7IYU2Y9BlZCsl62K0wo+t+Z1W+xoAVJ9ulqi2UyTVkxSEkIwfpoGCDeVHcPCxf5y\n",
       "vAJ74CqBXAnWjKj8bTDCpHE0SX1OdVGl91BX/PmhHaoyWMdvUP59uW12fRFwCma7RFww1rWs5S7t\n",
       "Ubvb3JFNihpsGNm1sHRAC+FVqxl/OxD8To+j5Ydu5lwCghNj9W6szZAG9MWgmRR2T2APSnkZsS8+\n",
       "x3gAjzC5LsB+Mcmtl8/Pibi3vesBHuBiZx3eWogYEVhuw9eic6nNcIJ4fWHfm4+hncilugm7aIFY\n",
       "FHcYKS2Miar1BoWDbnNky32R34osCVZoGahyWTtdG4xX9vaWkWAwv1JRoKBeW06GBc1u1ioIgBom\n",
       "WgPLvAN/GmfIwqItrSh7bcztqQ3f7jKquQT99uYKUgOhmbwUFjgggFz9CdltvzzUOhHBuBgLALye\n",
       "4m+DeWloQfzFVxFnrgoGz45YQ0Ie3SyrUthw850Pw0TLdG9szQ4pQXnfZWx5f8kj8aMcRfRNfTHw\n",
       "TCCKug/tN7scGSmpaz/EidNSgMC646ElQkY7I0lZlm+IliBi35kP9KwDzvjOzT4ZbHlro1r+jitS\n",
       "nHHsi+7BrTgIKQ2fDrpQBejACjtSPysPRwoJ/6WwWd/09kF9fSZVNPqwF9ZBn0BH19Dy1HidiKBN\n",
       "IM2kWVzmXzedDr3DbMERwBmTOKR8EGZtgRbSnut7Yu3Fa04TlpVFo0mi9j3MwNw+qOWo/gXsFNXW\n",
       "KtEk1IyCFVx5BEWm1gtGZXrGYbeWBeRz2Pfi7+79raWiwpbN7bjGVgrfXHaNBkLZ7eHYHFIjnMab\n",
       "DkDZ6lxiatUMEHd2NmsGP7Zkxt+W9Ax7CLxuQmsx2J7MKiflkwTAF7mEE7nGVN1dWm7fw0YyJ/jL\n",
       "0X64DAt2A0PTDLRHqlu3zs9RPP8QeTxhPAS08V2IGhLq+y0b9n/HZTIPK9T3ihXx9ZRAcS5+HuhM\n",
       "erw6v8XhBOPyvA9BMcAR832Rktyl/L1/851fEFu26Q3j6Vy6IqZJz+3WmRuaTmav9K0P1X+Blnd9\n",
       "rNWnXvoqkBWhMERstVgGRbd9vQRcSjGa5+aNnmbtq96mpBYgVPFZfd/vYUX7UpPqvgHRti6nykDf\n",
       "UNKTVA9OMWcA37COp+zUGPikuE7O4kLcxAffoGlrPteuBz6pOmkfNiH2Xndh9W4npbzBKE9zqiW8\n",
       "Cg42rjgM6KIWb4lLGJgQEoktxl77YmwdRAzVlYDtz7gZSxTyq/DqDwIDLccV0K0+kM6a9/+BrJiJ\n",
       "WoRhC8yPQ93LxO7TFG9T2Qe9syz86FCV/tvwNlYseOsw8xbYz/C3lD2cd6BUxDN5ozH1HIRkyew4\n",
       "hWzytIrp0CLo8/8XaUgpSmQQ8BzJ5/YjrqT7WQ2B7kZnegrxOyyk825XOOTq3yOO+KAo2Opie7fu\n",
       "mEZxtYG2ZrJPgztEkqyE3lwwiTHlqKyTjbNDJUCNqGU3WUdznLqXIf+XhnDfWzfqZBA3C0+K5KRt\n",
       "P2awAulYV2ocECE+hteB2c1NXlb575DqRDZTtU5SLwC83NjsoQr4DNiE4v6nb1juY52kwXTlJXP/\n",
       "sZGgmumBaVkS94ayqlypvQm7IvraPUlcXLIcQaFHLU9X0yT0yQGBxqxmPAnH3MO7nSVRRH0q/TKJ\n",
       "xbG3jR71zvRnOdeYEsrIhiy4xP5JDLPPg1NHHSvj45wUyQAFridzFCNHpuzZjEzt6RR4F67/bPSm\n",
       "mlNaYpV6fnGKAAJLAAAHbEGaIWxBH/61KoAWxqkgAiVI3ty1X0Iy3n0zHWYUsWNPKJ0RV3Yv/UeK\n",
       "kRt2pc2S1g/6wI02Tla/3D6m08PWWcAgF/yFsK9JG/YN5cW7iT2xDD69t3ohAGj+WVS6E4pW9vCc\n",
       "6mBDpO7bNyrXZhATl60Dzbsi44ObWdfbT72zmpZehdbirupEf2DIsawKqIGWC5A9molFrJJRyRdM\n",
       "lJ6Ch+OxDYZdTDGyoc2ZeVMQB3twCA1sunAEiFE+JHViLC85xlDDNGma7NGdb7484xGqtb0a/9yd\n",
       "/0Q3takjUID9iLvXUJuvkeVuQdOagVaF9r2wF0gij/ddARgUUSivaxcvVr0kc6iqcnz3r4COOsrT\n",
       "a4U1dU4tbppWBYq8I2Il/Ngo8UhCiC6o7U32exIgc4lb17XvIGV9AJ0AcVDL7ZEBeCs2eoGjNUmt\n",
       "BJEUwldIvOakPpc6XaCDHUCpcZ7RJaIE3LZDMQXnh2WXgNoC7VkFk8fE8jh6FdEZ21M7MJ/1mcVH\n",
       "vDZ3+hsDBRpOfiWvdheIDt+vveZLQf2+cxByTdzbvD0zJCXzsGo/sMUpuz+WAfGPKGnMvTzMcIfE\n",
       "hPff0bZri3l+AOWm/JDP3dMTc0c7XSew7g56BldDG6K3aq7MT5ZrIinMiw3SUzeQwojaCz1JDkdf\n",
       "kAxwaZQP1yJqWBiEs0DG/7xI3BcTndzi9vxPHqtuoymeBMRsEqm7ElW2xoOQq54gRtTfdfFcFVch\n",
       "gR84ov90CvqLbehQ0j70GmOBUykDRFMQ8ypfhclCwsN2V2AQ2+rMUmy+qRuDliyVYnJDV9sTgodB\n",
       "BqYWLGF5B+DiTXR866GFDAxMQNikoM1b00k/muMfilfMEVlq3C2cowKMRBNkjGK72XMjMTxkJ59M\n",
       "v2n2hHdGbxGsLxP5pqYpXWIifGWb6VnAZzXDdMuhI7F8bY+FoeyBu6timbb7bl8mWVzBtwD99ngG\n",
       "gA0SsxcKWRbB0bcHqMZ3Zt3+TrwpR1r7ymXwk3NFkAqp7lGoD7vX8fz4qUPIE4JUmk6RWD+m35VU\n",
       "cXNuHrHAM31X06prBKE1lED96MDpjWueA24ltmkUIcIdJ8nIYEFo6cDVRoRtMnNuMBeeLkYKzN++\n",
       "Eui7KG6Ua3JKsZoDVtB8oy/1IDa80OhW4ZjRqL80c0LLIxoxSSBsThICLeSyQ4TdWeExT77X7wqa\n",
       "K2NUTkcKKXQuFOnMgsrJaXXj13hUz6r/zhyahwXK/RJKvRuKIbhDo8cZtTFbn4xn0t+ZmstwGSZa\n",
       "ZI2OAJFx/RHsH2Xjzi0qcdbykRid5hJqgl1sUB9F3cbypgzsIPF25V6gKVOAqpDETJ812Uzhg0Hd\n",
       "SNLIdc0faXaL7XnOnISsvIuaIxsdP6xbd793f03HUAXFtANZOtfE5yWox7I7ck16mNCjRMdIvF+1\n",
       "bdkd83lGKTP06f6ZqQewPFX7X8qR/CyWSdrHBOzqatkCvTanDSgOoJfRUoT84aLU28Jw2INGkNXv\n",
       "6JxAQzUxmbRMDwT6HysrkUXOEr6TQQpO3DKVjvdWX7lru6il42BsAWdDMvySsyAuEFGn7QSp2G4a\n",
       "+PmYsi8iQfDN3AsE7q//xKKwNn79YvxnD2QU59ItVRrvNAcqlY/ZR3PX0frPPZ/xNuiaGWTuc5oU\n",
       "aWnf0prNm6sNy058OE95tHxBbDXYv6fPuyDCexbb/ps+j04pUaMDnZkTc1oOlhfCoQTuRw7TYECF\n",
       "UZRZfoMnrIwDKQHfJZ8NFLQP5Jf0CRFsQnc1hTR7L/HDVswxIbW2/Mt6fHvbQpIkXzKR5SAa9HL9\n",
       "NGzi5VQsI4ql8U6HbTAW1A3bKRMVbBAKqIhPkdWZphWzI1kSAzVw1fAhI5gmxr7Q3D1wnN3pTDQL\n",
       "ZrhGiBa3z1xF1Pb+ZiGqbbsdVaWbsho7QQKLF2oSsP84N9XpKPbFmKrMWqgS5AZbYiCNNT8EZ98t\n",
       "u/I+8czKm6AW7dQQrx7yaj8YvUFa55D277xnk+ifXTtbljvED3BtRr0ZxH5mPo88rdgZGyIT6ynC\n",
       "m5+BZzotyvXXNnQOt4exInYIkdYSsuTmucjMPn0aAQh+ZleGIxynudCdH5SzuSHxwIkbds7SMDOx\n",
       "+6Despk1x8ksJWQrKrlDJzDkxQ/6ue7j1soiUYgk7eJJyp1apyB17CLovGSE+Y5AK2XNyXAI+CZ/\n",
       "D6G+HmUKapI9Wcid+gJdypqlCOci9uh/VCo5hMz+S4GoMBiizCS0XcbFv4yBK+VCSAKh6WmtpnGz\n",
       "vbya0mnWJ2rrw84f9lEDghSM10x5p176N8i9SQY5RYXuOgopxF19Vx568SrJL+jTokemH7E8RMfl\n",
       "G2h+s9a0RXTxbuN2tyhgB84SxtQtbZ9tiu/jRTOP6hQLOUYvzWyzhGs28xcPiwD1Kdhn11AD9MH6\n",
       "j/tpC7Y+O9S81VtxUNw813wode8NLid+IYprP3gDLbH1wFyn02C/kH/6gA+UcpAoBXWgTNFkI9ap\n",
       "qH2uytuQGmf9hFm+WGt+S5/Ejv7IV3i08J4gjN9JtKssAt8AAAWQQZpCPCGTKYQR//61KoALugKM\n",
       "/Fa1AB811Vs1KN9PfmkVWODt6pK5nlMH8DonRV6Ol7BmJIhjHWCAPXyl7KesFfEtyGfwQM5lug/k\n",
       "Afv6TBwIk4H89fFGetf3QvUPJRrXGDMaSci+uldbH6URUMMKQyWso1xo7662hkU5Oy7F1vPSU+uR\n",
       "0tj8GsWKkxeeQjITaJzXdGjgfTePAX/Cd+52u5P37k73wRRmVNmfPYK9vX1Sp/fWDR7Knz4ayhcJ\n",
       "ul9yw13QjX8auhBwXYF3RiXs8u3vJy/ALyiz8QzvDirZ7Uig6r15/m/YzrNu0W/h2GTsKZ63jk4q\n",
       "5jWIxAmKv60u5VtKxTXhsYUbAqqD6TKyBzRGZAgU3r07Ox4eWtr/ifGb+rQYZvb9PmUa2HLrenbc\n",
       "1JQblkxjs8zUzneyqotMLTjLWLZj3TlLqAoLlf+YlwsE0boRlhycuZQApTqCFdmojZLlt81FaFlf\n",
       "1HT1tvxz793mITUuzMoh8WoveTB/nErcwWNpOxLq4MvevLxhSgFVKJZnZE52tRz7jh3D2+bg43fr\n",
       "5ZXnLPXfPT4RwEzwrl3wqeQvbwh6ytsY3YzXc/Tcjt09lnQFfouHaq5ezqXpvsNrkXzw/WcDJJZM\n",
       "3RxL2wqyPrBi19Bufd6XLXQ8I5/3OdmYresMDb8XMXJk/MkUnFMsdRFlI0Se1hfF1Eu/Y8Xqe4p+\n",
       "DkFce8TBJkBofbXZ7SnRyBKWnA3BfmRjI5+UnxYWkeFL+7VyGQW3CBpu4VJNoi6RtFRM5KfODZdx\n",
       "kszA39jhwtFJeIhxoGEJv+XN9BLsEJqrLR/xGtIBaVzagH61DrjnZ5o39cTtkgqC7laB8D36A5NT\n",
       "vvssWx2biXNIJFSKAVaC/VpVHBVIrNkM0q7y6kxamBEll6azwBkWinv5NeSxFjpiSGkGMXYKsm3e\n",
       "ZEcj5qIpjXMr+Vt+AC20fQ/5gfsceLB1sRzbmCKcpBKpbStZAH0/Oi8EW0M90JiwILbsEH41gxeV\n",
       "tNGKl0EMZ75TvvfF93Htir6szW1mhUtJZK9PZxlZIMS38RuxIJmsk7WifY03AlcdBZkCsaGum7lY\n",
       "I8wwktJJbG66Xllg3pf/OlImk34Ci6bfP9tbF/PBq+aqJ3In+BY0ftJW4ZNxJbdLVWuFabo/TfTZ\n",
       "Uofz0wi2ldOdzrQwbkOi1sSI1Jr7baC2ci712vU9E5YQuKSUheGE6T2Y6ncJnKJpxpLlUVoRJlqr\n",
       "xgWKUuNKrMJj9RoYwfdtYHwXFblJi8xcQcXbbQsEkupIPaFQb56/CMYNp1R4S7q98aC9xrY/ECCL\n",
       "iZ2YL1ZICCKpbBz6R5Kvm4LUx/IcVFXy9CknzUjfHhM0nHRZ1QmY9L3vXONiLC46RRdLi8WDDQA6\n",
       "yxZBlDmKbq0VhRXADMnvgL7hhFJ3jYgaBsoZX2HDjdMfv//r7y3uco26qjMEEc8N5xSmGuZMtA7R\n",
       "u57QqWWvyXAe8QdzZLgjKQYCA6SX03zHj7SQutOC3xmfEagUCoxt1e5ZHbcp13jYv/CPj5k/r8zE\n",
       "jCm9jFJEQv1qCCkvB+REu6j5yLVsrAR9LGvJ640Au4dwKoPv/ts7wdGz5SI2tInw75CHiO0aVx2C\n",
       "0mR2hUX6BS/2bx1K7BjUjhKEwGPJRL/VGmZpn6f3nncTLAdN/PR9od6Djm7SV1W3CtBALWoial6n\n",
       "9WTjBT21eOiKT4W2JxalnMLwSnDXrkriZXKA2GB/VZLhBryrUmNf6XQBF4yvA4SMZl8sW//RZK9K\n",
       "EHsUa062LX36iypn3oTsSWDV1LeIV6C6qjJDPTbF/cyfFOX6LIDtCBXXJ65xoSpuG+xYJ9Y6XTjz\n",
       "pny9p23MdJJJIlSh2b23soWvkBMPcA804Spq9INolZsSxr5DFK0AAAUhQZpjSeEPJlMCCP/+tSqA\n",
       "C7tH4wJVeAB2iP5Uxe8jFTFpJ1YXbWR49SiHmAvB4yV7skTC0vrQccTSYdRuhCzrRqEM2yPjTZW9\n",
       "0prIPnCfGqeF5R6y6ib0ihFw9iWO4oouBId4XauhA9VbMQpqbUzgpvj981YCWlaHbobwJ/KhJBKa\n",
       "X0+Kd4axTu7OMw/r0pjOrxB0Gq2HCTb8JYJQPe2wwKHOdoAWyb9MgcNwvsLIZuqjBQIISnr2TVoW\n",
       "0oPo9EucXv8Lc9US/k/caQbtAvsBijx6rX2a4DhNeL5aHJ1rmcF3MrLYlFjfSHoGviiDqQGUGbUk\n",
       "lSp/cMuudvJsoYDe8q2W32/ecndaJZA2w5mGpr2Kwv9MC9ugLw/95a+KKuO3pxvvesyr+mfKsUaa\n",
       "1IU220/VEZM6VoKOev1NxBuRv6DQL+NJGX+YBIVgA9OE19plh4EnBsb8n1uuYpC7I03NconZ456j\n",
       "erYbRz7xpRyftqIq+ARm+kEFFpDgJN8WrcOHKdZXu6TdlOaDXWdYqHJ4zr0zcfnxvPLeS5PdhNmz\n",
       "0ftCg0Bi/P0xAjJ9PfZo6dX2weA+PAJyX+XgNqLFS+7OFzVtWMI2yIBsCWL4FCQJVxGVPbftMKHa\n",
       "Ck4+4rA63w0aJ/3aJ0TaODYpVsfHNDyWSABzZ9QgTMFbA4xSoGNAJOFmi4akEw4h5rTezKsVcl2G\n",
       "oo5akoGwx9je1BGVPThr9wilIsVyJnNCfjcBHk8SVu34Uks2T7X1HfXi8es0gUZeDXWgF4Iau631\n",
       "HhdfrE0P4cy2FQvxPxV5jHoRCULg9LXQtxtk8amPadD/Be/c6lsin+7EzJG1muu21Z65WgBunnt7\n",
       "oAZgvfgL6s9bEXzDn7CJ3MqjALz3I2eM3tTYWmdMFhILasq04UgEAmb+9Giwj6EKUMMnAyFIAlNj\n",
       "RNCsFXEFQNSaca8GlylfCB2LE1fD85BYK682Io7ntMXuQ26rEDGjh0dStTYJX2jfgpXuZnpEMMA6\n",
       "9B0NF177oOEVEcrIkbWfIo11wA38GHiZXyc8U1MHEusag9R3agxGrc90rz1oqN84JCI9SPLdPDIp\n",
       "ts5pXULzSgD8hhmsjn/J7j/ixWbcSsyhAA93xKeQRvnd9nxP3NpXHCCwJwiZiqTYZ2y01U20QYRT\n",
       "rRwVuHr9IQVePrm0yXBQV5gPwctv3EGAxoS25l1pGZ/RPec5vbcInDNkUx1xFwXqYVnaFcJ+r3iR\n",
       "8hmRibqH9jg3Ok99XgnxrlRKOGZbo1EB0Z1H20wog9i/cOhDNIvQNuzjttbmeyhN7pIxXXLwWok2\n",
       "LiVZ8B5flPHP87FG3lxaEA8/Qjnxp0j32DHh9px1NE/f4hZ1+V0oaN87O9iybKbfRWYK7U/mH7Ql\n",
       "sl1LFRZmzrXe1ZnMB53cqeWPivSymyDSuNQSYIMMFUG3CpGFlcj7u/jSRYc/229N4KTF+9OzLOff\n",
       "ZV/tW6Pck8Gbi5nLcLR21KNqmMrDByoy7Xp6Nuk2ecV0fMBTe0eIbAVvAhQ6AkZtr4zRSDaVNNWQ\n",
       "NDGmpizMKOJpZKoDmL1+ZMsHyTHz8e/WU7+26gyyGMZj5gIsfcutvoTW0oGoR2jRV/35Ne1QnGs6\n",
       "RuVBt5Ld8CTpheJn5TUuD+khJ443PvXbCIh0hci1IC76Wykl7nrYfLM7zYWRl7eCXKCbRo2leMyH\n",
       "nfz4cmMbJB2aIe1juon73ByrwmFvcb1sjVmKjvTw6y0RyR3Y0XaYlg+i5rwAAAUjQZqESeEPJlMC\n",
       "CP/+tSqAC77K6yv4AGjeOh095mwnw/nuEAUTsg/t0kj90no8fALQf+14cG+UfESXRhAPvGG8HnmD\n",
       "/YmXXx8mz0eA1bmTjE+NxDgrO3kLUZJ4FIHLUYRV2Qa35lixOf0zl0OEMjWVDpdYUq/jVEVVY4hS\n",
       "W/30mQkhSrdVnmetgZDztUnt1fvwcIenalPFBMW9QlLBKKi8hWDvQX95vxI36Q/t+WXaoMFGCU2F\n",
       "A88MO3EtcrPjtUBG6WjIRH97zbE1gtHTes54Alx5lR+eh9sJUvhIBeJtkYZvOjTnSlbzOmdgX7uX\n",
       "AjJlCjoTJTt9q1+XMxLny5Ur3iCXeNObQ3FQqyXi30Ya0ArGgbnNKxe4vf45l6kwgfYV6HB5zpz7\n",
       "+He78PpaA8qyKIWW0EEIguQIX7194d8XpYossBL/xtPQY4UYBTvlvPKk0Uf+4vXnpfi8Gwk/XCjS\n",
       "UqBJcjrmDXAroL35bqZ0NNi1CI6RzN39V++EgrQv7/VVyvmlbM3/u10A0ClOndOvygjTc0ck7Vcq\n",
       "kXfG1qle4NVAiw6GFeG4hw5kfRZAgqnNm7rnlqfoLehWwhDqd6xKyLNzgBvCSqUEGp2apckjmnlt\n",
       "xF/SYeSW3TMGzWroWHmR0MLWXp6Vwf8mSEunIuEpKR/2X4rLk1l4U/2LXzVkhcHeUkpO8F8cycnD\n",
       "O7bDJxhTfRyCDirIjzmwRB7ozl09CRMhuSzazlw8AFAl2VLyt1286zfjcZOuE1azUiWIaVXpHs/Q\n",
       "BcnK9U38WHUbJ3VIJN/TOzYjzJ3iRk3jVuMT4Is+UUYAJOC6v3BqBieJhx1KIWW6aDW64QjowmrJ\n",
       "YDBPWATPmvJGkzU7hpwa7mPhSBAmb4eeW4GJB+kzUF7C203Kyz6V/9dbdAViz9EgYu5Q9qdsmUKN\n",
       "NE2C/c9BVVV9XJvizhGgNn/WZ83vwXHct263WW1qnbTvT/X93Gq/52OAym4SQpm4Dw9tqy/o4f1s\n",
       "vHHQBa0qbx0acg1y7PPuL6iNCOJl6x5BQ0CHMOjk78IgjAFRgTJetUNSVik9ADXIBqBrSSJV/N4X\n",
       "8eYQiI2l2NdpH0SDFCRM+F2D9zHuPTmVy/rgz79Qs7IrNE5eu31AQyx2FqzwLYNOyiWfn0YGoMGR\n",
       "ogE60aVKR43tM9MJpM/bwGVu1HYi9DXpJt9duvlEb1TqWnJRu11+ahbcvB9FHsasgTPr/AeJ48ru\n",
       "H0PRmaNfS8S8JpQNexHdLZA2D7vEf3g5WgOevTSfkOOWhbVNDACT5d2y6zao2kwJ8BK1xi/b25pU\n",
       "WnsGYdnGojv2H/ne7DI8tLRMoKjK0ZZ0pRPzKOKAyYAkOPg3o9p5yjpoCOcNP4qOMIKCTlL3xyDo\n",
       "1kY5Qm4Z7S7LtP7Q+gpUBwtKptsqD195uIwiWkwVlmx+6LjaM88oDhqotBZvDlFju9wgyxWkM9Za\n",
       "mvscb8J8P+n+vf8mWwtX62I0fbJDWWonzNYwtgwP3RWLNgiMp7rZ/nY28Tr3bAU0HMjRQl5GJrJk\n",
       "oB0ff5O+0GZg76JshCH5e/wTr7MprjtKNC/lEr/di181+XoRG9RqCYog3mzDAvvUVJwJp/DR3ldq\n",
       "6WweVRYKnzt//14QbV1z/Vcie9lHojuu9rgHquZtbV0VcnHl0mUjsS8FhGexN7k6s8R5Gfxo72GU\n",
       "zRnK2W/+9rikhs8eM8fg5lJ9h8QvkbegWOwFvCzqHVOi18vH2tiIV60VyXSEUMHWITAKmQAABURB\n",
       "mqZJ4Q8mUwURPBD//qpVABdxoWiwAAcaZFZSw7yQexuAQo2CvATNiLMHqf0EIMa3+pmzOpoUYlTb\n",
       "YOq7FzygOh20ARBlUQdY1VV143RM1bWRcS/Q9/eyrR9hHsLpji4qJP7nBMo5SnZpvZnLMmqo75Eg\n",
       "GGCXr7GlUfo0kGoS7vmSjjDUDHr0I9ZYvSc1qkVyNk9Oh3wpZinzEnTA9NnCUbC9YTSi4FEJ7iCF\n",
       "IIIgN6Rlt9+xsMme+w2r7NYg6CpkjBbcueS45ijTNrvEN2qPVfPb9xj7X/oQIidq2uwb+Q5Bg4Mg\n",
       "mEOuBRbxYMoPR5BpTXPhcg5s7ycwDgmArXxd/5H/b/VPMkvMpw7xkhSj5UWxrgv1sCXQ5NA6gZSK\n",
       "CY0/z6syN9jeUsACnBykyL2VCDazCJ0Fgw0Nmzdv3DFlazK7dvH0yRogwMxXSO3mT8wjczhLX4jA\n",
       "ZrjVkqcYp50CplM/wKNShv7K5JDXQtmVm7yiuCCMpuKjjblDeJf0SLZ+Ev4M4UBEr3zVzaZgBJ21\n",
       "BXOdg6JlscFrA+8MuAWiAR03kHfNhl232Ib7lylJxInXtd76e5yjPCHpflf+iCOIX/IDZRRxh4O/\n",
       "SDFz9yT9JfRzdX0JKELTu9MaiCkxrila+jBN0GPMsyK4NPiF6bUiH7l0wlLYc2is8Z5+MaHKPdgY\n",
       "8CcpcN4kw3IFfTVPcmOFJ+gLNfgZqPXBGHy2+J/7h4NcOZ+m92b1NBgKkCBWoTluKY25jZxEiogk\n",
       "EMPKaUPv90lb4lTtGp39cWGjETeyCoMm81cplLR/CCbpVvGpJAiWpLkaDjDlF40UdB0yToTn3hEU\n",
       "0TUeYqzz8Cz2enUDJaaAclbb1bTFvSeF50/15GIHiNrwMz+6XK6vGzVDGQ9YqlLop0y+KZEQIDgE\n",
       "nEFEWjUrvXKqz1l5SYcfug5+iiB9/UUaCKZSjYtZwtBJkplim5XS8JG3fqb/fDypHkCAPUc2yfZe\n",
       "APJjYQhCCEaVzw0sGdkydKeltnoE7zo59rKV2ArT0Gs8EvFDHVQXLO4imGMJD290JFiL9vJGi4zQ\n",
       "tJiexHQGlq8JLBA6IJbzb8PgE2dNEOPSf+qqzCSKSSA8G4d41Yp9d4/J9vNPVgKhPqPXEGHWCHIJ\n",
       "UtdsMq14rBcLyhpf8KftGGOg6m0keIf2c7yS1oIcjWNjmKzI9zXT4gw7Vfz2OzKKW3iqa3G5rpcX\n",
       "3tTTN90xWJZTR/i+lxT3K+1PqKvIITLr4PECWd8hq35mWsmyPv0nvwndcMagE35sBz91hu4JvTrn\n",
       "qp5phURSzogd3/Fd/CHR+95k69eKIqa6i3zk3T7o4k9XfuO5J2T4YL7eGsy6QuaA+W1o4VbG8jI8\n",
       "WaZFLz2eBUUjNhwUCbxM5r4TeNzIXMRSfB88BDyBKF2GrLuYqiPQnCWuRtaDRH15AolpHfEKZHuT\n",
       "Hn+vnj2iAo3nKxptmhQ/+axsjKtJLoeaAv4I+BffAzLWzvEf0kZwo3fyME9Iq8WH/pxTZFBQHOlA\n",
       "Kd/g5VfzUpj6Q0hynBKhjWRrQsudXPDaNc/u1zDzeWrz+szsRTIc0sepd7/DPYf/pMHEWRmbO3gQ\n",
       "dkiAFLxXUSPJgidZnc5nsqQumDDUH4gA5B2w2TZ78xDjVQRGDrvqx0U9kLo+6FScOb1i8wRYdUko\n",
       "quCWCLNaZ14jgF9cVdv5bfAqf4KuREgZqZEnDsinnZrdhbs2qGrH/HTqngrjaTTRycJvIaqq4L7Y\n",
       "5EzWAPbpAK9VC806JQeg3c02lqfj0baTsVvBLTs/2nSmvgOvAAAEPwGexWpDvwAtxL9XvxAA2BZT\n",
       "oW0pfrNvydXA5pe4DyZ/xhL6abRKFLuocuoiGRnLPGNu0qxCi2ssjupqdKuN+z+kcyTKkoQfGHWB\n",
       "/TToDi7uWvPQnO9LcLFAlrFbdOypeRkVqBAPIEF7bRP3TCvVS37WN5WAAAabV004H+MOFsWYuSWZ\n",
       "BLMqsrok//+xUUFQ5fLZzA8gZqGcI2yTq1YA6J9RZApb8VIKaeDL7RP1zKtYNUWpMeQrWqhR64Qt\n",
       "xL5X/93FYgEuDu8lCluqPyu2Z0dfMKHlPJD6rPXWfPFo0ZlzNKcgDgBQHehK1seUKWspMPqn5XNX\n",
       "c1AsE8DjuerHAHieZKAOaZa1rl3xJY9gEMj5uMqP6dY8UYw0No3kDP6QlmKFoYpp1SvwgN5TD6dG\n",
       "Eim1kLExfdmm6EG5UNgl3yVgi6J63BIfe9RwqU/V31EXXM0VRKSnjKsbKa4tkF64J6GnlnCTRsaK\n",
       "Y1zXHUC3fv1FM0j62B4yeBINLypLm7uHcLs9bQeZztcECocdeV+WYZ9hFyRnX14miNEoNCAXRmBN\n",
       "5eYPw4wN1gJXMntnJpvivpe6saDlpE32zNI9Abupu5zg4U9oYbO9dMir6V5Lq1qaTdc1Mi4x8i+1\n",
       "bRHC7GWSsFhx9TE7LEME9g4V4QHU4b5tAMQsCyf1ErdO5b7iT6dmfVjPhyMcKoUpSAvSomLBxAmL\n",
       "u0lebG+uoJuXx/TxkzbC39MhrWr3A2RokhUbrjbo0Gtc+yuzic055XfIV3hQp1RUifsNBbgJ7K/M\n",
       "otxqubIWasEQV7vbtqS2ZFzMN8c2qpql9uPSRTVMBhIvZM1OrZAJ2zLUyAGtn0mhaMDlEm/KfKza\n",
       "QhdSLKCjviWfGn9yTrQeJkAwBjq+PhH9gMYWHRU+eQvGwnA+TLrxn8Az5Z5QZxOiC4vyOU+YxxTx\n",
       "LzK6XuCDImQAoY2BlgMlbg9zlto+FrfTGCTyR0thJKB9Bf8KBFmY+0dJBPg10FsvK82MfXxSAhSP\n",
       "4Gh4vBS59acogMYOk/NnyetFgSPeF/m0iWSiOwqiEkI/bSM85F23cJpgbdZwSy+/z/PHSnezaPc4\n",
       "SFhOljUaA0mK70lPvsY+qJbOymHHHg8iE5kBRUam1TdJSS7HUqAR1cYl2dMsKujX55xw15pCke5b\n",
       "96KPJr5hT0DJoWfU2IkwUy9DAwkoOQurwHceLSS1lENKpW3Xs8j2w1RvNxcRvP8TtqmYK/9BWBC+\n",
       "y9l7SXRdghivphX2hZOLJmzVuyh+LXjGdjW25QHwoJa+x+sNsExporHsOcfgz7H3Ar74OMmhssMW\n",
       "v85igdCgnWkewIAbuw6OcuGpHXyRm7SiJ0qW2p34FFlNp0cYCKZjVI4kjMp9X68lkyg/PTpXhwgf\n",
       "OSJQeE0CPgi/VYx32Hoq3SlzkquCNARglX7Fl/746RJesx/Yj45RtTOjJNkAAAWTQZrHSeEPJlMC\n",
       "CH/+qlUAF4+gVGYBDMQh4tD1OSY9m0ff6VtL/DJlu1Xvmz+TcIV+VVPssYw8euq+Mxqqljs18lUt\n",
       "nVDns7slkHPDk8P/ExvlEmEU4yq3O6n1+JcVM9e19hDRz95YTrecJixgV0u3H7gV+4kkXb4RSR3w\n",
       "Uw+AZ+uOZTh3aUNRaoTsXjwTQTAMZ7I8O0chFODm0x6z5hdn/FQyT0aMFyXCvKSRzGacMKTKavXj\n",
       "QIi4m/fD9+lTGLCYZAVGXuyT6KZ9A9d3trjLy1LUjfV/ZsrsacTWOu9NNUyL4P5uXoYrjpiQOHpu\n",
       "lL1ENAaQDTNRYIxiFI48q9a+S4dHutt49AgeiCTdCKs5osjBpzUQvqRCRZXPqrllrp/fb5+ofQ0d\n",
       "pEEfbdOR7hHOCNGqNI/f8G0XsgzyJs9KnsAnM1e8B8xcE1Ny6oAnvPgxsqMqZO5pAIlEgK6IKT8+\n",
       "89FZ/WBQIPLcoVfHvo/+jDIZl1J3hnR/NJ4WQHIe0u6RR2T/Rd67g6GpuxP0j/0cx0lDE1XUsWVR\n",
       "aI8vufhU5QWq8iDHb0jGpsXTA9PmlN3bTdc/1kv4mEX9Ub7AwyJ0L7IrIEPqVqd+P2s5YZdW4XS9\n",
       "o9tsH9wSB+jN4c23r1afLvVNC9FK1i3VWaqBGcLyfefC/kgsiWZT4Rxa7ksMiS+PxooNO3j8dkiH\n",
       "vOiP+CiAnmv6EUFLIC1KnOw8HDc2bepRXLEe4aeHUj9YYDRN86KK0gYA3fBQNAqegwVO8YROP5zU\n",
       "V/5An92n79CQqlLZVcziIV/2TvCXuOHuBleE0NUACB2s+zNTP9wdt4dB4vyi6zrWEA778IJI3f98\n",
       "E59XE2kU9cJ4YkjKNW/EDWzrNpN0cfRZTdmOra6onV7xlYrwjB/EMAL2bKup11a7HE1OeQ3e25i+\n",
       "xmboRkV6ux6pRkuJ3N/m/HeHlck6+jEkuCvup+EE7bRpHRMlHfJoXONhOaZfhckhyfz8ImKGfPkD\n",
       "O8Lzid+v89JAnQZ9S0r/RPvL2aDTkAu/5LCJnb7qItC3mGa9Xgi2efUxruIRlw+O5E32snM2oI3f\n",
       "ZO2B02/DQU6OFlm38AUJ3qb5+GudWXVEGtZhBxPfUGF40W+frknIFeobnb2o3UXzi4SBF5hP3mJQ\n",
       "PZd2RnTVSHSQLIMcbYLKhzEbHeI6vHKIt5KrNiekT0/AduUZcuFg7OxCacB8d5Kh7bRmHuzuIjjR\n",
       "kaw9ypv+YZ7WKJ8+RBaI+UXfE3Z5Yp3HV4bmkLAKNZkANT7gZZ2uUHIUv1OYgMTDbo2QsGLpdYL5\n",
       "eS0DfTAwbRV5GPLZZ1yWzfaA3alMF4qcPJJp3+NxTAoZH2QGNZlUiu4aaNiexm968aGtaH7lYez0\n",
       "4BF0C5vlH6GJiaeoCQM4Nqwy660sGwS51IzeDMoeMJ3+2rRKiPr7RP3aINsWDHRZ6zobomLmlfZz\n",
       "taTEg19a6hG9VYR+ODPT92EsoCjb3W6+TFcpmDdzl+qD/EoIn6pI10BOpe9p3arRaTMn/Bt2R4/f\n",
       "0rycnI7DflSLMJ9XQstzYarJa7HUL6XrAnwR2Fz0yp/WphbMhXWJtRu3rjZidMapEtGQxESYOk6y\n",
       "xWoK/f7X9J/cfIXOC8kcK8vYTWzqCFf/RDTiicJFzZ8BQOyIYP2rmiMA9rC9XuAXjV84W2jckQSO\n",
       "RZXGnnrBQbWfMQnxr9Hom3ayg5wQ1yVWxzW8PfQ5L1ih0gVj6GekeVLsqDaNu2ABRKfN0fpeL4pT\n",
       "8zRn0DUj+SQo4UfRT3Fv5nkcANk1c81zPRr8sKwt0+9WOyd1etHdZ5waMmRZQUgj+95YoqWF0Ex3\n",
       "IgDoMdByQetVaG19e3Fqgc1U6HVxolNlTT+3T840JzWoURqcdoQiTPEUkcBailyQBB0AAAT7QZro\n",
       "SeEPJlMCH//+qZYAWb5oU86X2jtKKMBHJMl1SYpn+9nN/3zizurVGVmZ6wLcjOrRML9kdajusgmk\n",
       "FeKt5/o7HWwOV9ZTSrdXSpxn24cfpisS+hnsX4F2qEDsKKtno+eVTP+a9bXgzstwND5rtbh3nRSq\n",
       "mZaQWiH7qwIb+zzNtpONCO4JE/mCwZbN9bG78Xji0waQ6D33R7DzsXMR79HUJj/pUrNIK1ccWG+u\n",
       "Enak0yTLD5k63wO68ZRw5hhXQqZLWXxxgwHgwBDNkV4C48YpevqSi6yVUuLajg2BDZDt73ammB+J\n",
       "0RPJUqVGNAMggf1AJqf/TQiKWb1ceg9DmfJFtQm2b1alINeHU0AxYP4BmQ1/XaR7NWD0DbZAA08F\n",
       "8ZO1zSA+WjAgPx28x+Q8W6rk32Wj1yb5loeiCL+HhPxAA1P9/A2BbfA/HfFEpWUrydDzKALR/Jsd\n",
       "JbXmFON9RyDdWQLY08eRt+YsSrgm2r01u5m2sqb64WOxP5/+vuEfykEVQYdKl8T9OgQ1HyZPkr1C\n",
       "BhwV3p8sdNFEiicecTkhAZR7+0Uv14ms6n9DBZffacvw5sO3VzZkB38OkD4W9QEIoZQHT+qhZth6\n",
       "YR2yB0ERK8TCVP/DZL9Okvewr/Yy0iTRepO0KPnQ3nMDo43HmN2Lqf++tP+8l4bmP3W/wiOyqZOF\n",
       "dukNxHEBtVTCdphTKewmXW47042E6jLqud/cdnHxjwiTVAbBbo/AnwFTWg8vxWrhhicCQncZtIyu\n",
       "ekWbYZpFxLlEVTCccams8mqNkHdoiPZvMer7eVX34xlcXsUdl1gLySBEtJVuFzTk9G+IBTfHVJzd\n",
       "N0Yn+56lVLMeYjUvd4ha7f2nNWGIEoxm0fQaPlFyn9vYlbT9ZVZ1y/5GHG5eUqi6H99pKPrDWcTC\n",
       "YhgUABC0Zx3RRVdWMZYAS2aqQfHQX9N0jhB9ZipWKtMF/JNVJnc1bRXL0fGKMLPKkqAoL9YejUcc\n",
       "Pkz0PEBR0f9UFAY3Q0iZkINQVS3qzLnoOtSxzvD+9H66aCh/SVfeJV34iTMBa0U5ob+PNFUrxWDK\n",
       "/YdB6w8G5xPW2AOl8vvgY5/Kda7ODJmGcY0ODzKPXdi9VRg7TbsQRMmaOVWjcq5DYoGKEgP06t9t\n",
       "yX+ZacuIDIP7MTabf756LGOMQo2Vu1HcrxD032xhFNSvkaKPdFDdkPtbwtrDjK57ZuwYghAICkBK\n",
       "pm+fAe8ZZUdMcEHMqCXt12/kt5b/fDFvuzt7OIB7U4D1HM6b/jEtsE4tg/DkenneQugItqLBSReS\n",
       "bYD0OFBTLGEPbUf1RuUK4lydZKagyfB891vm5GIHmpbRhPvUOj7F8yHlXbeO1k43RJ6A2YUIneV3\n",
       "TELeaqAHzVwbM7A86IHfvKUN7cJg/y5Vc9jnShKccCT7ksM4dZJNWwwv23EwNVHHTKUAVyE4UIc8\n",
       "gB9EOxuIb0hbQ6JCpn+lUkzbfCEv73LsiVgjnQxLJ1Oci97hEYIae0eINvYjhphYOJQZQZLknCI3\n",
       "7K66O4h/igEEShc/EBgVnURpdkJeI7Ty3B2v0PSOVRafz3+sMrM85fy3IeGBXsFLYRXYBf9aTYa4\n",
       "Bh2YU9mXubWJUJ38Bi6fpGt/3HWb6cjlkjpTRbNPCvX72Zi17mhlumdHF6u1sqlEq1lfrhrWgiD9\n",
       "m3cte369/FMvnJgjviSqUZF3AAAEYkGbCUnhDyZTAh3//qmWAGogLZLYQASxqsYrCoY9RB/YXYWO\n",
       "bsRHAM8GsRpmr1u5N/sPhTJWPRhBO300CRUnl2IVxIuaa1/jLku2qa8eHn0sms9j+UFTFi3vpoiW\n",
       "wCKvBSamCF30ud88rWkyuO8Gqdx8lxqdcvup4TkP6a7UXlbB+8KQxADAdLpDvadvO/VATvZP3Kjj\n",
       "JsUOY1Z1YMaAUZUfLy5cjjsh5AcAbusLZ0ZYUfZlJn8weWSpdl5SX6wgdzJh2yaskDtMkFfACbyW\n",
       "CsKEXJIBgo/7T0NKCnKQ3thLRqxFjZ160upO8APCndPFIejjvSU75alUWOb0GQag2Uza5wqFw67S\n",
       "frfRti/8VhE/EUFRn/vEprjYgvDF/n+jI/YMOKv2wIBob/XTTSZDHJ0crbzJHt2q1wnNRAj82PgT\n",
       "rsTVXfPNwKo0Prt6yzcmdsOK9ZEw4xVhVvVCeTdfeaWXElVrIAXg9u/TvwD7t6nCwCZU4gcK29hS\n",
       "UeqEZwju1qkFzjbR5qR6CpdBYtVQVlj4kM3wcszlNb28WoQMc5SMUGqjiT34S1TVM8oorvRu/LPi\n",
       "oDpNy5mjJD0onZsCL9Ueq4LoDol1RQQy+ep+eHDdVKfw16SIiP2BvLeEhh4r5hEbM2kyFy82g8Mq\n",
       "kMKsbuHr4lY35RxePuIwqTAy5Wxldp7YMAedw7JT/smCvc22BsYSLXgOuzbuTikrl/k5NJIqS6e9\n",
       "2ni1BNzg0EBJkjbt8yyfVBsaEDWRwotNPD956wpMlniGCsRd98VZ7Ij0DzLzMD/v0K0NeOnZfaNB\n",
       "2SJShDWQcy20QeoWuu6rFWWz2AQ4CqJFfmRyypY9D26Uk6nqu9uI+X85NImul/tySZOQVglqb14d\n",
       "1+ryiyWSYDJgxtvhBfgHU/M3DBfOjHwrF4TfCdzrsVNIZrHpvVVePva0pXtQQue8UHEDYY7LJuLN\n",
       "9whvbVW5unNgMfLAuOZ0hYy9V+k87oASKZuGwaJ0cvt1oaTeIQLRxPzwqvc+5/EXCtt+BJpKJefI\n",
       "jZJOLHD4nc5+BWJ4jVUCwusIM+0QuEbB8tQpAITgJdUR3HG+cv+/zj6qasAmvN3MwZ3K6YpshOGt\n",
       "qaU3n6GYXL5ux5Nx+fVDcJHsRohfoxt17wp5qHqqN6L3qbuXLfbfp3DGKFAfk3j4pcR+3CV3vrFr\n",
       "W6SBWpguyYTdlBTmWjTfhhkiFM+7hJ2NzyhlcCOBbvFWeCzvitJkUiP0Co4yFeiYDQF9xCygK33K\n",
       "VSdW4XCBI7JKrswjg+OhzyUL+b5UVOrDZLDHSOjbBw0+JiSEffwq/H8gkbDiHRIL8ZzmpBB91XnX\n",
       "mePfNWtB9OaqSCEW6RzukfugjzyyCNlZ4gBHHloeSyZhRO8ubiSioTPYNzNL4GAli41s5sA2UupI\n",
       "wpzOdhgaaay+W/rm0ZhwhCxvsuB1zJLg5y1+2iWVYDP8Yk7VJeQowGInwVaKKMKUSbUs40WrbA1d\n",
       "poztfgAAA3Ztb292AAAAbG12aGQAAAAAAAAAAAAAAAAAAAPoAAAF3AABAAABAAAAAAAAAAAAAAAA\n",
       "AQAAAAAAAAAAAAAAAAAAAAEAAAAAAAAAAAAAAAAAAEAAAAAAAAAAAAAAAAAAAAAAAAAAAAAAAAAA\n",
       "AAAAAAACAAACoHRyYWsAAABcdGtoZAAAAAMAAAAAAAAAAAAAAAEAAAAAAAAF3AAAAAAAAAAAAAAA\n",
       "AAAAAAAAAQAAAAAAAAAAAAAAAAAAAAEAAAAAAAAAAAAAAAAAAEAAAAABsAAAASAAAAAAACRlZHRz\n",
       "AAAAHGVsc3QAAAAAAAAAAQAABdwAAAwAAAEAAAAAAhhtZGlhAAAAIG1kaGQAAAAAAAAAAAAAAAAA\n",
       "ACgAAAA8AFXEAAAAAAAtaGRscgAAAAAAAAAAdmlkZQAAAAAAAAAAAAAAAFZpZGVvSGFuZGxlcgAA\n",
       "AAHDbWluZgAAABR2bWhkAAAAAQAAAAAAAAAAAAAAJGRpbmYAAAAcZHJlZgAAAAAAAAABAAAADHVy\n",
       "bCAAAAABAAABg3N0YmwAAACzc3RzZAAAAAAAAAABAAAAo2F2YzEAAAAAAAAAAQAAAAAAAAAAAAAA\n",
       "AAAAAAABsAEgAEgAAABIAAAAAAAAAAEAAAAAAAAAAAAAAAAAAAAAAAAAAAAAAAAAAAAAAAAAAAAY\n",
       "//8AAAAxYXZjQwFkABX/4QAYZ2QAFazZQbCWhAAAAwAMAAADAKA8WLZYAQAGaOvjyyLAAAAAHHV1\n",
       "aWRraEDyXyRPxbo5pRvPAyPzAAAAAAAAABhzdHRzAAAAAAAAAAEAAAAKAAAGAAAAABRzdHNzAAAA\n",
       "AAAAAAEAAAABAAAAMGN0dHMAAAAAAAAABAAAAAUAAAwAAAAAAQAAEgAAAAABAAAGAAAAAAMAAAwA\n",
       "AAAAHHN0c2MAAAAAAAAAAQAAAAEAAAAKAAAAAQAAADxzdHN6AAAAAAAAAAAAAAAKAAAcmQAAB3AA\n",
       "AAWUAAAFJQAABScAAAVIAAAEQwAABZcAAAT/AAAEZgAAABRzdGNvAAAAAAAAAAEAAAAsAAAAYnVk\n",
       "dGEAAABabWV0YQAAAAAAAAAhaGRscgAAAAAAAAAAbWRpcmFwcGwAAAAAAAAAAAAAAAAtaWxzdAAA\n",
       "ACWpdG9vAAAAHWRhdGEAAAABAAAAAExhdmY1OC4yOS4xMDA=\n",
       "\">\n",
       "  Your browser does not support the video tag.\n",
       "</video>"
      ],
      "text/plain": [
       "<IPython.core.display.HTML object>"
      ]
     },
     "execution_count": 18,
     "metadata": {},
     "output_type": "execute_result"
    }
   ],
   "source": [
    "display_videos(train_sample_data[\"y\"], 2, 4)"
   ]
  },
  {
   "cell_type": "markdown",
   "id": "8e55e032-ffb2-4194-87c7-cec441f21947",
   "metadata": {},
   "source": [
    "train_ds = strategy.experimental_distribute_dataset(train_ds)\n",
    "validation_ds = strategy.experimental_distribute_dataset(validation_ds)\n",
    "test_ds = strategy.experimental_distribute_dataset(test_ds)"
   ]
  },
  {
   "cell_type": "code",
   "execution_count": 19,
   "id": "1b95ea96-7064-48dd-81ce-320d48431d1e",
   "metadata": {},
   "outputs": [],
   "source": [
    "from ganime.utils.callbacks import TensorboardVideo, get_logdir\n",
    "import os\n",
    "\n",
    "logdir = get_logdir(\"../../../logs/ganime/transformers\", experiment_name=\"mnist_video\")\n",
    "tensorboard_callback = tf.keras.callbacks.TensorBoard(log_dir=logdir)\n",
    "tensorboard_video_callback = TensorboardVideo(logdir, train_sample_data, validation_sample_data)\n",
    "early_stopping = tf.keras.callbacks.EarlyStopping(\n",
    "    monitor=\"val_loss\",\n",
    "    min_delta=0.001,\n",
    "    patience=50,\n",
    "    restore_best_weights=True,\n",
    ")\n",
    "checkpointing = tf.keras.callbacks.ModelCheckpoint(os.path.join(logdir, \"checkpoint\", \"checkpoint\"), monitor='val_total_loss', save_best_only=True, save_weights_only=True)\n",
    "#callbacks = [tensorboard_callback, early_stopping, checkpointing, tensorboard_video_callback]\n",
    "callbacks = [tensorboard_callback, checkpointing, tensorboard_video_callback]"
   ]
  },
  {
   "cell_type": "code",
   "execution_count": 20,
   "id": "5b95352d-e94f-44a2-8c9b-4fff40b4fb91",
   "metadata": {},
   "outputs": [],
   "source": [
    "images = train_sample_data[\"y\"][:,0,...]"
   ]
  },
  {
   "cell_type": "code",
   "execution_count": 21,
   "id": "e428ecb3-01a8-4453-896f-71cf98fb8ad9",
   "metadata": {},
   "outputs": [
    {
     "data": {
      "text/plain": [
       "(8, 10, 64, 64, 3)"
      ]
     },
     "execution_count": 21,
     "metadata": {},
     "output_type": "execute_result"
    }
   ],
   "source": [
    "train_sample_data[\"y\"].shape"
   ]
  },
  {
   "cell_type": "code",
   "execution_count": 22,
   "id": "abc61700-6a55-41f2-8a22-05419f28f965",
   "metadata": {
    "tags": []
   },
   "outputs": [
    {
     "name": "stdout",
     "output_type": "stream",
     "text": [
      "Working with z of shape (1, 128, 16, 16) = 32768 dimensions.\n",
      "VQLPIPSWithDiscriminator running with hinge loss.\n"
     ]
    },
    {
     "name": "stderr",
     "output_type": "stream",
     "text": [
      "2022-06-27 05:08:58.570502: W tensorflow/python/util/util.cc:368] Sets are not currently considered sequences, but this may change in the future, so consider avoiding using them.\n",
      "2022-06-27 05:08:59.658085: I tensorflow/stream_executor/cuda/cuda_blas.cc:1774] TensorFloat-32 will be used for the matrix multiplication. This will only be logged once.\n",
      "All model checkpoint layers were used when initializing TFGPT2Model.\n",
      "\n",
      "All the layers of TFGPT2Model were initialized from the model checkpoint at gpt2-medium.\n",
      "If your task is similar to the task the model of the checkpoint was trained on, you can already use TFGPT2Model for predictions without further training.\n"
     ]
    }
   ],
   "source": [
    "with strategy.scope():\n",
    "    model = Net2Net(**cfg[\"model\"], trainer_config=cfg[\"train\"], num_replicas=strategy.num_replicas_in_sync)\n",
    "    #model.build(train_sample_data[\"y\"].shape)#first_stage_model.build(train_sample_data[\"y\"].shape[1:])\n",
    "    model.first_stage_model.build(train_sample_data[\"y\"].shape[1:])"
   ]
  },
  {
   "cell_type": "code",
   "execution_count": 23,
   "id": "0aa12dd2-20a1-4760-b392-9f10eb3476a3",
   "metadata": {},
   "outputs": [],
   "source": [
    "from pynvml import *\n",
    "\n",
    "\n",
    "def print_gpu_utilization():\n",
    "    nvmlInit()\n",
    "    handle = nvmlDeviceGetHandleByIndex(0)\n",
    "    info = nvmlDeviceGetMemoryInfo(handle)\n",
    "    print(f\"GPU memory occupied: {info.used//1024**2} MB.\")"
   ]
  },
  {
   "cell_type": "code",
   "execution_count": 24,
   "id": "da5313ea-35c7-4f99-9413-10ed7771ef8d",
   "metadata": {},
   "outputs": [
    {
     "name": "stdout",
     "output_type": "stream",
     "text": [
      "GPU memory occupied: 308 MB.\n"
     ]
    }
   ],
   "source": [
    "print_gpu_utilization()"
   ]
  },
  {
   "cell_type": "markdown",
   "id": "7936da37-67cd-4b81-9744-2f4402db1376",
   "metadata": {
    "tags": []
   },
   "source": [
    "for i in range(10):\n",
    "    pbar = tqdm(train_ds)\n",
    "    for data in pbar:\n",
    "        output = strategy.run(model.train_step, args=(data,))\n",
    "        pbar.set_postfix(loss=output[\"loss\"].numpy())"
   ]
  },
  {
   "cell_type": "code",
   "execution_count": null,
   "id": "da5dd8b1-39db-4d97-bc84-6ae46631a646",
   "metadata": {
    "tags": []
   },
   "outputs": [
    {
     "name": "stdout",
     "output_type": "stream",
     "text": [
      "Epoch 1/100\n"
     ]
    },
    {
     "name": "stderr",
     "output_type": "stream",
     "text": [
      "2022-06-27 05:13:31.067938: I tensorflow/stream_executor/cuda/cuda_dnn.cc:366] Loaded cuDNN version 8100\n",
      "2022-06-27 05:13:32.010265: I tensorflow/stream_executor/cuda/cuda_dnn.cc:366] Loaded cuDNN version 8100\n",
      "2022-06-27 05:13:33.133003: I tensorflow/stream_executor/cuda/cuda_dnn.cc:366] Loaded cuDNN version 8100\n",
      "2022-06-27 05:13:34.318024: I tensorflow/stream_executor/cuda/cuda_dnn.cc:366] Loaded cuDNN version 8100\n",
      "2022-06-27 05:13:35.767145: I tensorflow/stream_executor/cuda/cuda_dnn.cc:366] Loaded cuDNN version 8100\n",
      "2022-06-27 05:13:37.338400: I tensorflow/stream_executor/cuda/cuda_dnn.cc:366] Loaded cuDNN version 8100\n",
      "2022-06-27 05:13:38.822290: I tensorflow/stream_executor/cuda/cuda_dnn.cc:366] Loaded cuDNN version 8100\n"
     ]
    },
    {
     "name": "stdout",
     "output_type": "stream",
     "text": [
      "    142/Unknown - 717s 3s/step - total_loss: 0.7663 - frame_loss: 0.0000e+00 - perceptual_loss: 0.0000e+00"
     ]
    },
    {
     "name": "stderr",
     "output_type": "stream",
     "text": [
      "2022-06-27 05:21:41.112810: E tensorflow/core/grappler/optimizers/meta_optimizer.cc:812] layout failed: INVALID_ARGUMENT: MutableGraphView::SortTopologically error: detected edge(s) creating cycle(s) {'Func/replica_6/net2_net/StatefulPartitionedCall/while/body/_7630/while/StatefulPartitionedCall_1/StatefulPartitionedCall_2/input/_25778' -> 'replica_6/net2_net/StatefulPartitionedCall/while/body/_7630/while/StatefulPartitionedCall_1/StatefulPartitionedCall_2/transformer/concat', 'replica_6/net2_net/StatefulPartitionedCall/while/body/_7630/while/StatefulPartitionedCall_1/StatefulPartitionedCall_2/transformer/strided_slice_2/stack' -> 'replica_6/net2_net/StatefulPartitionedCall/while/body/_7630/while/StatefulPartitionedCall_1/StatefulPartitionedCall_2/transformer/strided_slice_2', 'replica_6/net2_net/StatefulPartitionedCall/while/body/_7630/while/StatefulPartitionedCall_1/Shape_1' -> 'replica_6/net2_net/StatefulPartitionedCall/while/body/_7630/while/StatefulPartitionedCall_1/Reshape', 'replica_6/net2_net/StatefulPartitionedCall/while/body/_7630/while/StatefulPartitionedCall_1/Shape-0-0-DataFormatVecPermuteNCHWToNHWC-LayoutOptimizer' -> 'replica_6/net2_net/StatefulPartitionedCall/while/body/_7630/while/StatefulPartitionedCall_1/Reshape_1', 'Func/replica_6/net2_net/StatefulPartitionedCall/while/body/_7630/output_control_node/_19035' -> 'replica_6/net2_net/StatefulPartitionedCall/while/next_iteration/_8181', 'replica_6/net2_net/StatefulPartitionedCall/while/body/_7630/while/NoOp' -> 'replica_6/net2_net/StatefulPartitionedCall/while/body/_7630/while/Identity_5', 'replica_6/net2_net/StatefulPartitionedCall/while/body/_7630/while/StatefulPartitionedCall_1/NoOp' -> 'replica_6/net2_net/StatefulPartitionedCall/while/body/_7630/while/StatefulPartitionedCall_1/Identity', 'replica_6/net2_net/StatefulPartitionedCall/while/body/_7630/while/StatefulPartitionedCall_1/StatefulPartitionedCall_2/NoOp' -> 'replica_6/net2_net/StatefulPartitionedCall/while/body/_7630/while/StatefulPartitionedCall_1/StatefulPartitionedCall_2/Identity', 'Func/replica_5/net2_net/StatefulPartitionedCall/while/body/_6992/while/StatefulPartitionedCall_1/StatefulPartitionedCall_2/input/_25305' -> 'replica_5/net2_net/StatefulPartitionedCall/while/body/_6992/while/StatefulPartitionedCall_1/StatefulPartitionedCall_2/transformer/concat', 'replica_5/net2_net/StatefulPartitionedCall/while/body/_6992/while/StatefulPartitionedCall_1/StatefulPartitionedCall_2/transformer/strided_slice_2/stack' -> 'replica_5/net2_net/StatefulPartitionedCall/while/body/_6992/while/StatefulPartitionedCall_1/StatefulPartitionedCall_2/transformer/strided_slice_2', 'replica_5/net2_net/StatefulPartitionedCall/while/body/_6992/while/StatefulPartitionedCall_1/Shape_1' -> 'replica_5/net2_net/StatefulPartitionedCall/while/body/_6992/while/StatefulPartitionedCall_1/Reshape', 'replica_5/net2_net/StatefulPartitionedCall/while/body/_6992/while/StatefulPartitionedCall_1/Shape-0-0-DataFormatVecPermuteNCHWToNHWC-LayoutOptimizer' -> 'replica_5/net2_net/StatefulPartitionedCall/while/body/_6992/while/StatefulPartitionedCall_1/Reshape_1', 'Func/replica_5/net2_net/StatefulPartitionedCall/while/body/_6992/output_control_node/_17497' -> 'replica_5/net2_net/StatefulPartitionedCall/while/next_iteration/_7543', 'replica_5/net2_net/StatefulPartitionedCall/while/body/_6992/while/NoOp' -> 'replica_5/net2_net/StatefulPartitionedCall/while/body/_6992/while/Identity_5', 'replica_5/net2_net/StatefulPartitionedCall/while/body/_6992/while/StatefulPartitionedCall_1/NoOp' -> 'replica_5/net2_net/StatefulPartitionedCall/while/body/_6992/while/StatefulPartitionedCall_1/Identity', 'replica_5/net2_net/StatefulPartitionedCall/while/body/_6992/while/StatefulPartitionedCall_1/StatefulPartitionedCall_2/NoOp' -> 'replica_5/net2_net/StatefulPartitionedCall/while/body/_6992/while/StatefulPartitionedCall_1/StatefulPartitionedCall_2/Identity', 'Func/replica_4/net2_net/StatefulPartitionedCall/while/body/_6354/while/StatefulPartitionedCall_1/StatefulPartitionedCall_2/input/_24832' -> 'replica_4/net2_net/StatefulPartitionedCall/while/body/_6354/while/StatefulPartitionedCall_1/StatefulPartitionedCall_2/transformer/concat', 'replica_4/net2_net/StatefulPartitionedCall/while/body/_6354/while/StatefulPartitionedCall_1/StatefulPartitionedCall_2/transformer/strided_slice_2/stack' -> 'replica_4/net2_net/StatefulPartitionedCall/while/body/_6354/while/StatefulPartitionedCall_1/StatefulPartitionedCall_2/transformer/strided_slice_2', 'replica_4/net2_net/StatefulPartitionedCall/while/body/_6354/while/StatefulPartitionedCall_1/Shape_1' -> 'replica_4/net2_net/StatefulPartitionedCall/while/body/_6354/while/StatefulPartitionedCall_1/Reshape', 'replica_4/net2_net/StatefulPartitionedCall/while/body/_6354/while/StatefulPartitionedCall_1/Shape-0-0-DataFormatVecPermuteNCHWToNHWC-LayoutOptimizer' -> 'replica_4/net2_net/StatefulPartitionedCall/while/body/_6354/while/StatefulPartitionedCall_1/Reshape_1', 'Func/replica_4/net2_net/StatefulPartitionedCall/while/body/_6354/output_control_node/_15959' -> 'replica_4/net2_net/StatefulPartitionedCall/while/next_iteration/_6905', 'replica_4/net2_net/StatefulPartitionedCall/while/body/_6354/while/NoOp' -> 'replica_4/net2_net/StatefulPartitionedCall/while/body/_6354/while/Identity_5', 'replica_4/net2_net/StatefulPartitionedCall/while/body/_6354/while/StatefulPartitionedCall_1/NoOp' -> 'replica_4/net2_net/StatefulPartitionedCall/while/body/_6354/while/StatefulPartitionedCall_1/Identity', 'replica_4/net2_net/StatefulPartitionedCall/while/body/_6354/while/StatefulPartitionedCall_1/StatefulPartitionedCall_2/NoOp' -> 'replica_4/net2_net/StatefulPartitionedCall/while/body/_6354/while/StatefulPartitionedCall_1/StatefulPartitionedCall_2/Identity', 'Func/replica_3/net2_net/StatefulPartitionedCall/while/body/_5716/while/StatefulPartitionedCall_1/StatefulPartitionedCall_2/input/_24359' -> 'replica_3/net2_net/StatefulPartitionedCall/while/body/_5716/while/StatefulPartitionedCall_1/StatefulPartitionedCall_2/transformer/concat', 'replica_3/net2_net/StatefulPartitionedCall/while/body/_5716/while/StatefulPartitionedCall_1/StatefulPartitionedCall_2/transformer/strided_slice_2/stack' -> 'replica_3/net2_net/StatefulPartitionedCall/while/body/_5716/while/StatefulPartitionedCall_1/StatefulPartitionedCall_2/transformer/strided_slice_2', 'replica_3/net2_net/StatefulPartitionedCall/while/body/_5716/while/StatefulPartitionedCall_1/Shape_1' -> 'replica_3/net2_net/StatefulPartitionedCall/while/body/_5716/while/StatefulPartitionedCall_1/Reshape', 'replica_3/net2_net/StatefulPartitionedCall/while/body/_5716/while/StatefulPartitionedCall_1/Shape-0-0-DataFormatVecPermuteNCHWToNHWC-LayoutOptimizer' -> 'replica_3/net2_net/StatefulPartitionedCall/while/body/_5716/while/StatefulPartitionedCall_1/Reshape_1', 'Func/replica_3/net2_net/StatefulPartitionedCall/while/body/_5716/output_control_node/_14421' -> 'replica_3/net2_net/StatefulPartitionedCall/while/next_iteration/_6267', 'replica_3/net2_net/StatefulPartitionedCall/while/body/_5716/while/NoOp' -> 'replica_3/net2_net/StatefulPartitionedCall/while/body/_5716/while/Identity_5', 'replica_3/net2_net/StatefulPartitionedCall/while/body/_5716/while/StatefulPartitionedCall_1/NoOp' -> 'replica_3/net2_net/StatefulPartitionedCall/while/body/_5716/while/StatefulPartitionedCall_1/Identity', 'replica_3/net2_net/StatefulPartitionedCall/while/body/_5716/while/StatefulPartitionedCall_1/StatefulPartitionedCall_2/NoOp' -> 'replica_3/net2_net/StatefulPartitionedCall/while/body/_5716/while/StatefulPartitionedCall_1/StatefulPartitionedCall_2/Identity', 'Func/replica_2/net2_net/StatefulPartitionedCall/while/body/_5078/while/StatefulPartitionedCall_1/StatefulPartitionedCall_2/input/_23886' -> 'replica_2/net2_net/StatefulPartitionedCall/while/body/_5078/while/StatefulPartitionedCall_1/StatefulPartitionedCall_2/transformer/concat', 'replica_2/net2_net/StatefulPartitionedCall/while/body/_5078/while/StatefulPartitionedCall_1/StatefulPartitionedCall_2/transformer/strided_slice_2/stack' -> 'replica_2/net2_net/StatefulPartitionedCall/while/body/_5078/while/StatefulPartitionedCall_1/StatefulPartitionedCall_2/transformer/strided_slice_2', 'replica_2/net2_net/StatefulPartitionedCall/while/body/_5078/while/StatefulPartitionedCall_1/Shape_1' -> 'replica_2/net2_net/StatefulPartitionedCall/while/body/_5078/while/StatefulPartitionedCall_1/Reshape', 'replica_2/net2_net/StatefulPartitionedCall/while/body/_5078/while/StatefulPartitionedCall_1/Shape-0-0-DataFormatVecPermuteNCHWToNHWC-LayoutOptimizer' -> 'replica_2/net2_net/StatefulPartitionedCall/while/body/_5078/while/StatefulPartitionedCall_1/Reshape_1', 'Func/replica_2/net2_net/StatefulPartitionedCall/while/body/_5078/output_control_node/_12883' -> 'replica_2/net2_net/StatefulPartitionedCall/while/next_iteration/_5629', 'replica_2/net2_net/StatefulPartitionedCall/while/body/_5078/while/NoOp' -> 'replica_2/net2_net/StatefulPartitionedCall/while/body/_5078/while/Identity_5', 'replica_2/net2_net/StatefulPartitionedCall/while/body/_5078/while/StatefulPartitionedCall_1/NoOp' -> 'replica_2/net2_net/StatefulPartitionedCall/while/body/_5078/while/StatefulPartitionedCall_1/Identity', 'replica_2/net2_net/StatefulPartitionedCall/while/body/_5078/while/StatefulPartitionedCall_1/StatefulPartitionedCall_2/NoOp' -> 'replica_2/net2_net/StatefulPartitionedCall/while/body/_5078/while/StatefulPartitionedCall_1/StatefulPartitionedCall_2/Identity', 'Func/replica_1/net2_net/StatefulPartitionedCall/while/body/_4440/while/StatefulPartitionedCall_1/StatefulPartitionedCall_2/input/_23413' -> 'replica_1/net2_net/StatefulPartitionedCall/while/body/_4440/while/StatefulPartitionedCall_1/StatefulPartitionedCall_2/transformer/concat', 'replica_1/net2_net/StatefulPartitionedCall/while/body/_4440/while/StatefulPartitionedCall_1/StatefulPartitionedCall_2/transformer/strided_slice_2/stack' -> 'replica_1/net2_net/StatefulPartitionedCall/while/body/_4440/while/StatefulPartitionedCall_1/StatefulPartitionedCall_2/transformer/strided_slice_2', 'replica_1/net2_net/StatefulPartitionedCall/while/body/_4440/while/StatefulPartitionedCall_1/Shape_1' -> 'replica_1/net2_net/StatefulPartitionedCall/while/body/_4440/while/StatefulPartitionedCall_1/Reshape', 'replica_1/net2_net/StatefulPartitionedCall/while/body/_4440/while/StatefulPartitionedCall_1/Shape-0-0-DataFormatVecPermuteNCHWToNHWC-LayoutOptimizer' -> 'replica_1/net2_net/StatefulPartitionedCall/while/body/_4440/while/StatefulPartitionedCall_1/Reshape_1', 'Func/replica_1/net2_net/StatefulPartitionedCall/while/body/_4440/output_control_node/_11345' -> 'replica_1/net2_net/StatefulPartitionedCall/while/next_iteration/_4991', 'replica_1/net2_net/StatefulPartitionedCall/while/body/_4440/while/NoOp' -> 'replica_1/net2_net/StatefulPartitionedCall/while/body/_4440/while/Identity_5', 'replica_1/net2_net/StatefulPartitionedCall/while/body/_4440/while/StatefulPartitionedCall_1/NoOp' -> 'replica_1/net2_net/StatefulPartitionedCall/while/body/_4440/while/StatefulPartitionedCall_1/Identity', 'replica_1/net2_net/StatefulPartitionedCall/while/body/_4440/while/StatefulPartitionedCall_1/StatefulPartitionedCall_2/NoOp' -> 'replica_1/net2_net/StatefulPartitionedCall/while/body/_4440/while/StatefulPartitionedCall_1/StatefulPartitionedCall_2/Identity', 'Func/net2_net/StatefulPartitionedCall/while/body/_3802/while/StatefulPartitionedCall_1/StatefulPartitionedCall_2/input/_22940' -> 'net2_net/StatefulPartitionedCall/while/body/_3802/while/StatefulPartitionedCall_1/StatefulPartitionedCall_2/transformer/concat', 'net2_net/StatefulPartitionedCall/while/body/_3802/while/StatefulPartitionedCall_1/StatefulPartitionedCall_2/transformer/strided_slice_2/stack' -> 'net2_net/StatefulPartitionedCall/while/body/_3802/while/StatefulPartitionedCall_1/StatefulPartitionedCall_2/transformer/strided_slice_2', 'net2_net/StatefulPartitionedCall/while/body/_3802/while/StatefulPartitionedCall_1/Shape_1' -> 'net2_net/StatefulPartitionedCall/while/body/_3802/while/StatefulPartitionedCall_1/Reshape', 'net2_net/StatefulPartitionedCall/while/body/_3802/while/StatefulPartitionedCall_1/Shape-0-0-DataFormatVecPermuteNCHWToNHWC-LayoutOptimizer' -> 'net2_net/StatefulPartitionedCall/while/body/_3802/while/StatefulPartitionedCall_1/Reshape_1', 'Func/net2_net/StatefulPartitionedCall/while/body/_3802/output_control_node/_9807' -> 'net2_net/StatefulPartitionedCall/while/next_iteration/_4353', 'net2_net/StatefulPartitionedCall/while/body/_3802/while/NoOp' -> 'net2_net/StatefulPartitionedCall/while/body/_3802/while/Identity_5', 'net2_net/StatefulPartitionedCall/while/body/_3802/while/StatefulPartitionedCall_1/NoOp' -> 'net2_net/StatefulPartitionedCall/while/body/_3802/while/StatefulPartitionedCall_1/Identity', 'net2_net/StatefulPartitionedCall/while/body/_3802/while/StatefulPartitionedCall_1/StatefulPartitionedCall_2/NoOp' -> 'net2_net/StatefulPartitionedCall/while/body/_3802/while/StatefulPartitionedCall_1/StatefulPartitionedCall_2/Identity'}.\n",
      "2022-06-27 05:22:40.826074: E tensorflow/core/grappler/optimizers/meta_optimizer.cc:812] layout failed: INVALID_ARGUMENT: MutableGraphView::SortTopologically error: detected edge(s) creating cycle(s) {'Func/while/body/_94/while/StatefulPartitionedCall_1/StatefulPartitionedCall_2/input/_3135' -> 'while/body/_94/while/StatefulPartitionedCall_1/StatefulPartitionedCall_2/transformer/concat', 'while/body/_94/while/StatefulPartitionedCall_1/StatefulPartitionedCall_2/transformer/strided_slice_2/stack' -> 'while/body/_94/while/StatefulPartitionedCall_1/StatefulPartitionedCall_2/transformer/strided_slice_2', 'while/body/_94/while/StatefulPartitionedCall_1/Shape_1' -> 'while/body/_94/while/StatefulPartitionedCall_1/Reshape', 'while/body/_94/while/StatefulPartitionedCall_1/Shape-0-0-DataFormatVecPermuteNCHWToNHWC-LayoutOptimizer' -> 'while/body/_94/while/StatefulPartitionedCall_1/Reshape_1'}.\n"
     ]
    },
    {
     "name": "stdout",
     "output_type": "stream",
     "text": [
      "142/142 [==============================] - 814s 4s/step - total_loss: 0.7663 - frame_loss: 0.0000e+00 - perceptual_loss: 0.0000e+00 - val_total_loss: 0.6062 - val_frame_loss: 0.0000e+00 - val_perceptual_loss: 0.0000e+00\n",
      "Epoch 2/100\n",
      "142/142 [==============================] - 473s 3s/step - total_loss: 0.5558 - frame_loss: 0.0000e+00 - perceptual_loss: 0.0000e+00 - val_total_loss: 0.5883 - val_frame_loss: 0.0000e+00 - val_perceptual_loss: 0.0000e+00\n",
      "Epoch 3/100\n",
      "142/142 [==============================] - 456s 3s/step - total_loss: 0.5155 - frame_loss: 0.0000e+00 - perceptual_loss: 0.0000e+00 - val_total_loss: 0.5892 - val_frame_loss: 0.0000e+00 - val_perceptual_loss: 0.0000e+00\n",
      "Epoch 4/100\n",
      "142/142 [==============================] - 456s 3s/step - total_loss: 0.4616 - frame_loss: 0.0000e+00 - perceptual_loss: 0.0000e+00 - val_total_loss: 0.5955 - val_frame_loss: 0.0000e+00 - val_perceptual_loss: 0.0000e+00\n",
      "Epoch 5/100\n",
      "142/142 [==============================] - 456s 3s/step - total_loss: 0.4059 - frame_loss: 0.0000e+00 - perceptual_loss: 0.0000e+00 - val_total_loss: 0.6095 - val_frame_loss: 0.0000e+00 - val_perceptual_loss: 0.0000e+00\n",
      "Epoch 6/100\n",
      "142/142 [==============================] - 456s 3s/step - total_loss: 0.3758 - frame_loss: 0.0000e+00 - perceptual_loss: 0.0000e+00 - val_total_loss: 0.6453 - val_frame_loss: 0.0000e+00 - val_perceptual_loss: 0.0000e+00\n",
      "Epoch 7/100\n",
      "142/142 [==============================] - 454s 3s/step - total_loss: 0.3540 - frame_loss: 0.0000e+00 - perceptual_loss: 0.0000e+00 - val_total_loss: 0.6581 - val_frame_loss: 0.0000e+00 - val_perceptual_loss: 0.0000e+00\n",
      "Epoch 8/100\n",
      "142/142 [==============================] - 450s 3s/step - total_loss: 0.3344 - frame_loss: 0.0000e+00 - perceptual_loss: 0.0000e+00 - val_total_loss: 0.6654 - val_frame_loss: 0.0000e+00 - val_perceptual_loss: 0.0000e+00\n",
      "Epoch 9/100\n",
      "142/142 [==============================] - 453s 3s/step - total_loss: 0.3143 - frame_loss: 0.0000e+00 - perceptual_loss: 0.0000e+00 - val_total_loss: 0.7216 - val_frame_loss: 0.0000e+00 - val_perceptual_loss: 0.0000e+00\n",
      "Epoch 10/100\n",
      "142/142 [==============================] - 454s 3s/step - total_loss: 0.2965 - frame_loss: 0.0000e+00 - perceptual_loss: 0.0000e+00 - val_total_loss: 0.7501 - val_frame_loss: 0.0000e+00 - val_perceptual_loss: 0.0000e+00\n",
      "Epoch 11/100\n",
      "142/142 [==============================] - 454s 3s/step - total_loss: 0.2797 - frame_loss: 0.0000e+00 - perceptual_loss: 0.0000e+00 - val_total_loss: 0.7740 - val_frame_loss: 0.0000e+00 - val_perceptual_loss: 0.0000e+00\n",
      "Epoch 12/100\n",
      "142/142 [==============================] - 455s 3s/step - total_loss: 0.2654 - frame_loss: 0.0000e+00 - perceptual_loss: 0.0000e+00 - val_total_loss: 0.8027 - val_frame_loss: 0.0000e+00 - val_perceptual_loss: 0.0000e+00\n",
      "Epoch 13/100\n",
      "120/142 [========================>.....] - ETA: 1:07 - total_loss: 0.2573 - frame_loss: 0.0000e+00 - perceptual_loss: 0.0000e+00"
     ]
    }
   ],
   "source": [
    "model.fit(train_ds, validation_data=validation_ds, epochs=cfg[\"train\"][\"n_epochs\"], callbacks=callbacks)\n",
    "#model.fit(train_ds, epochs=cfg[\"train\"][\"n_epochs\"], callbacks=callbacks)"
   ]
  },
  {
   "cell_type": "code",
   "execution_count": null,
   "id": "5b0cec6e-b287-49d9-8848-ed32d695e3d8",
   "metadata": {
    "tags": []
   },
   "outputs": [],
   "source": [
    "generated_videos = model(train_sample_data, training=False)"
   ]
  },
  {
   "cell_type": "code",
   "execution_count": null,
   "id": "3d399fa7-3a52-466d-a742-04f00816cf2a",
   "metadata": {},
   "outputs": [],
   "source": [
    "display_videos(generated_videos, 1, 4)"
   ]
  },
  {
   "cell_type": "code",
   "execution_count": null,
   "id": "b583a6a7-7d07-47fc-9b71-1d718f48ce9e",
   "metadata": {},
   "outputs": [],
   "source": [
    "display_videos(train_sample_data[\"y\"], 1, 4)"
   ]
  },
  {
   "cell_type": "code",
   "execution_count": null,
   "id": "ee59bbc9-96f5-4e93-80b2-ae760b068cdd",
   "metadata": {},
   "outputs": [],
   "source": [
    "quant_z, indices = model.encode_to_z(images)"
   ]
  },
  {
   "cell_type": "code",
   "execution_count": null,
   "id": "65336fd2-1a64-4635-ab2d-6275749d1de4",
   "metadata": {},
   "outputs": [],
   "source": [
    "quant = model.first_stage_model.quantize.get_codebook_entry(\n",
    "    indices, shape=tf.shape(quant_z)\n",
    ")\n",
    "decoded = model.first_stage_model.decode(quant)"
   ]
  },
  {
   "cell_type": "code",
   "execution_count": null,
   "id": "c6751d91-e4d2-44f2-9778-8c5b23d698e3",
   "metadata": {
    "tags": []
   },
   "outputs": [],
   "source": [
    "display_images(model.first_stage_model(images)[0])\n",
    "plt.show()"
   ]
  },
  {
   "cell_type": "code",
   "execution_count": null,
   "id": "2ab52bd5-c95e-4fc1-9009-76e1f7f6425a",
   "metadata": {},
   "outputs": [],
   "source": [
    "display_images(generated_videos[:,0,...])"
   ]
  },
  {
   "cell_type": "code",
   "execution_count": null,
   "id": "b576c96f-c0a6-401b-877a-5eaf7b69ec03",
   "metadata": {},
   "outputs": [],
   "source": []
  }
 ],
 "metadata": {
  "kernelspec": {
   "display_name": "Python 3 (ipykernel)",
   "language": "python",
   "name": "python3"
  },
  "language_info": {
   "codemirror_mode": {
    "name": "ipython",
    "version": 3
   },
   "file_extension": ".py",
   "mimetype": "text/x-python",
   "name": "python",
   "nbconvert_exporter": "python",
   "pygments_lexer": "ipython3",
   "version": "3.8.10"
  }
 },
 "nbformat": 4,
 "nbformat_minor": 5
}
