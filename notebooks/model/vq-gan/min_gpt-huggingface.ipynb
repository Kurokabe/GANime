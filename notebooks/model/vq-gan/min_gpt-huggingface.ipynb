{
 "cells": [
  {
   "cell_type": "code",
   "execution_count": 1,
   "id": "8c995bfd-ceef-4145-a103-c2a064be737e",
   "metadata": {},
   "outputs": [],
   "source": [
    "import os\n",
    "os.environ[\"CUDA_DEVICE_ORDER\"]=\"PCI_BUS_ID\"   # see issue #152\n",
    "os.environ[\"CUDA_VISIBLE_DEVICES\"]=\"0\""
   ]
  },
  {
   "cell_type": "code",
   "execution_count": 2,
   "id": "a2a9c822-ecf1-44b2-aaf6-c7122a777180",
   "metadata": {},
   "outputs": [],
   "source": [
    "%load_ext autoreload\n",
    "%autoreload 2"
   ]
  },
  {
   "cell_type": "code",
   "execution_count": 3,
   "id": "639df7f6-3066-44e2-a9c0-60bc80e81a83",
   "metadata": {},
   "outputs": [],
   "source": [
    "import sys\n",
    "sys.path.append(\"../../../\")"
   ]
  },
  {
   "cell_type": "markdown",
   "id": "58672f89-39c3-4e2c-9960-c51fad5e2709",
   "metadata": {},
   "source": [
    "\n",
    "from tensorflow.keras import mixed_precision\n",
    "\n",
    "policy = mixed_precision.Policy('mixed_float16')\n",
    "mixed_precision.set_global_policy(policy)\n",
    "print('Compute dtype: %s' % policy.compute_dtype)\n",
    "print('Variable dtype: %s' % policy.variable_dtype)"
   ]
  },
  {
   "cell_type": "code",
   "execution_count": 4,
   "id": "277a395f-1f54-4d91-be02-214f698f0c31",
   "metadata": {},
   "outputs": [],
   "source": [
    "import tensorflow as tf\n",
    "for device in tf.config.list_physical_devices(\"GPU\"):\n",
    "    tf.config.experimental.set_memory_growth(device, True)"
   ]
  },
  {
   "cell_type": "code",
   "execution_count": 5,
   "id": "7f01a67a-1183-424a-8eda-986b6be4173c",
   "metadata": {},
   "outputs": [
    {
     "name": "stderr",
     "output_type": "stream",
     "text": [
      "2022-06-17 03:49:30.557034: I tensorflow/core/platform/cpu_feature_guard.cc:151] This TensorFlow binary is optimized with oneAPI Deep Neural Network Library (oneDNN) to use the following CPU instructions in performance-critical operations:  AVX2 FMA\n",
      "To enable them in other operations, rebuild TensorFlow with the appropriate compiler flags.\n",
      "2022-06-17 03:49:30.920375: I tensorflow/core/common_runtime/gpu/gpu_device.cc:1525] Created device /job:localhost/replica:0/task:0/device:GPU:0 with 14252 MB memory:  -> device: 0, name: NVIDIA RTX A4000, pci bus id: 0000:01:00.0, compute capability: 8.6\n"
     ]
    }
   ],
   "source": [
    "import omegaconf\n",
    "import numpy as np\n",
    "import matplotlib.pyplot as plt\n",
    "from ganime.data.experimental import ImageDataset, VideoDataset\n",
    "from ganime.visualization.videos import display_videos\n",
    "from ganime.visualization.images import display_images\n",
    "from ganime.model.vqgan_clean.experimental.net2net import Net2Net\n",
    "import tensorflow_addons as tfa\n",
    "from datetime import datetime\n",
    "from tqdm import tqdm\n",
    "from pyprojroot.pyprojroot import here\n",
    "\n",
    "#tf.get_logger().setLevel('WARNING')\n",
    "import warnings\n",
    "warnings.filterwarnings('ignore')"
   ]
  },
  {
   "cell_type": "code",
   "execution_count": 6,
   "id": "64804403-13f9-4157-9dbb-757df9448525",
   "metadata": {},
   "outputs": [
    {
     "name": "stdout",
     "output_type": "stream",
     "text": [
      "INFO:tensorflow:Using MirroredStrategy with devices ('/job:localhost/replica:0/task:0/device:GPU:0',)\n"
     ]
    }
   ],
   "source": [
    "strategy = tf.distribute.MirroredStrategy(cross_device_ops=tf.distribute.HierarchicalCopyAllReduce())"
   ]
  },
  {
   "cell_type": "code",
   "execution_count": 7,
   "id": "b530068b-b80a-4553-b0bb-5ec609da7c4e",
   "metadata": {},
   "outputs": [],
   "source": [
    "cfg = omegaconf.OmegaConf.load(here(\"configs/moving_mnist_image_transformer_huggingface.yaml\"))\n",
    "#cfg = omegaconf.OmegaConf.load(here(\"configs/default_transformer.yaml\"))\n",
    "batch_size = cfg[\"train\"][\"batch_size\"] \n",
    "global_batch_size = batch_size * strategy.num_replicas_in_sync\n",
    "n_epochs = cfg[\"train\"][\"n_epochs\"]"
   ]
  },
  {
   "cell_type": "code",
   "execution_count": 8,
   "id": "d0216592-8406-46fe-b5c9-bfb39ce04b23",
   "metadata": {},
   "outputs": [],
   "source": [
    "dataset_length = 10000\n",
    "num_batch = dataset_length / batch_size"
   ]
  },
  {
   "cell_type": "markdown",
   "id": "466810d7-a54f-4cf3-90fa-22bd15c35e25",
   "metadata": {},
   "source": [
    "def preprocess(element):\n",
    "    element = tf.reshape(element, (tf.shape(element)[0], tf.shape(element)[1], tf.shape(element)[2], 3))\n",
    "    element = tf.cast(element, tf.float32) / 255.0\n",
    "    first_frame = element[0,...]\n",
    "    last_frame = element[2,...]\n",
    "    \n",
    "    y = element[0:3,...]\n",
    "    \n",
    "    return {\"first_frame\": first_frame, \"last_frame\": last_frame, \"y\": y, \"n_frames\": tf.shape(element)[0]}"
   ]
  },
  {
   "cell_type": "code",
   "execution_count": 9,
   "id": "0bd301a6-c566-443d-879d-e58c1a2ecc68",
   "metadata": {},
   "outputs": [],
   "source": [
    "def preprocess(element):\n",
    "    element = tf.reshape(element, (tf.shape(element)[0], tf.shape(element)[1], tf.shape(element)[2], 3))\n",
    "    element = tf.cast(element, tf.float32) / 255.0\n",
    "    first_frame = element[0,...]\n",
    "    last_frame = element[-1,...]\n",
    "    \n",
    "    y = element\n",
    "    \n",
    "    return {\"first_frame\": first_frame, \"last_frame\": last_frame, \"y\": y, \"n_frames\": tf.shape(element)[0]}"
   ]
  },
  {
   "cell_type": "code",
   "execution_count": 10,
   "id": "293f1357-eb57-4561-9f54-c10912f1dd67",
   "metadata": {},
   "outputs": [],
   "source": [
    "dataset = VideoDataset(\"../../../data/moving_mnist_tfrecords\").load()\n",
    "dataset = dataset.shuffle(dataset_length, reshuffle_each_iteration=True).map(preprocess, num_parallel_calls=tf.data.AUTOTUNE).prefetch(tf.data.AUTOTUNE)"
   ]
  },
  {
   "cell_type": "code",
   "execution_count": 11,
   "id": "4b06c992-9332-4690-b5d3-0deb9de24c10",
   "metadata": {},
   "outputs": [],
   "source": [
    "train_size = int(dataset_length * 0.8)\n",
    "validation_size = int(dataset_length * 0.1)\n",
    "test_size = int(dataset_length * 0.1)"
   ]
  },
  {
   "cell_type": "code",
   "execution_count": 12,
   "id": "6bf5e800-4917-4873-bfe5-bf6a69ab3d93",
   "metadata": {},
   "outputs": [],
   "source": [
    "train_ds = dataset.take(train_size)#.batch(global_batch_size)\n",
    "validation_ds = dataset.skip(train_size).take(validation_size)#.batch(global_batch_size)\n",
    "test_ds = dataset.skip(train_size + validation_size).take(validation_size)#.batch(global_batch_size)"
   ]
  },
  {
   "cell_type": "code",
   "execution_count": 13,
   "id": "210fd67e-fc3a-4f1b-a4b9-7c19a8032940",
   "metadata": {},
   "outputs": [],
   "source": [
    "train_sample_data = next(train_ds.batch(batch_size).as_numpy_iterator())\n",
    "validation_sample_data = next(validation_ds.batch(batch_size).as_numpy_iterator())"
   ]
  },
  {
   "cell_type": "code",
   "execution_count": 14,
   "id": "9a298d58-014f-498f-b662-7a13edc00ca8",
   "metadata": {},
   "outputs": [],
   "source": [
    "train_ds = train_ds.batch(global_batch_size, drop_remainder=True)\n",
    "validation_ds = validation_ds.batch(global_batch_size, drop_remainder=True)\n",
    "test_ds = test_ds.batch(global_batch_size, drop_remainder=True)"
   ]
  },
  {
   "cell_type": "code",
   "execution_count": 15,
   "id": "4ff93bce-aef3-497f-bf30-88b804c0ea88",
   "metadata": {},
   "outputs": [],
   "source": [
    "train_ds = strategy.experimental_distribute_dataset(train_ds)\n",
    "validation_ds = strategy.experimental_distribute_dataset(validation_ds)\n",
    "test_ds = strategy.experimental_distribute_dataset(test_ds)"
   ]
  },
  {
   "cell_type": "code",
   "execution_count": 16,
   "id": "4aa7cedb-d229-415e-9162-b4ac9dc89fc5",
   "metadata": {},
   "outputs": [],
   "source": [
    "from ganime.utils.callbacks import TensorboardVideo, get_logdir\n",
    "import os\n",
    "\n",
    "logdir = get_logdir(\"../../../logs/ganime/transformers\", experiment_name=\"mnist_video\")\n",
    "tensorboard_callback = tf.keras.callbacks.TensorBoard(log_dir=logdir)\n",
    "tensorboard_video_callback = TensorboardVideo(logdir, train_sample_data, validation_sample_data)\n",
    "early_stopping = tf.keras.callbacks.EarlyStopping(\n",
    "    monitor=\"val_loss\",\n",
    "    min_delta=0.001,\n",
    "    patience=50,\n",
    "    restore_best_weights=True,\n",
    ")\n",
    "checkpointing = tf.keras.callbacks.ModelCheckpoint(os.path.join(logdir, \"checkpoint\", \"checkpoint\"), monitor='val_loss', save_best_only=True, save_weights_only=True)\n",
    "callbacks = [tensorboard_callback, early_stopping, checkpointing, tensorboard_video_callback]\n",
    "#callbacks = [tensorboard_callback, tensorboard_video_callback]"
   ]
  },
  {
   "cell_type": "code",
   "execution_count": 17,
   "id": "92b4a1d3-8c67-458d-ad52-ecab8390438c",
   "metadata": {},
   "outputs": [],
   "source": [
    "images = train_sample_data[\"y\"][:,0,...]"
   ]
  },
  {
   "cell_type": "code",
   "execution_count": 18,
   "id": "66be9456-796e-4618-8ed2-26257f58773f",
   "metadata": {
    "tags": []
   },
   "outputs": [
    {
     "name": "stdout",
     "output_type": "stream",
     "text": [
      "Working with z of shape (1, 128, 16, 16) = 32768 dimensions.\n",
      "VQLPIPSWithDiscriminator running with hinge loss.\n",
      "INFO:tensorflow:Reduce to /job:localhost/replica:0/task:0/device:CPU:0 then broadcast to ('/job:localhost/replica:0/task:0/device:CPU:0',).\n",
      "INFO:tensorflow:Reduce to /job:localhost/replica:0/task:0/device:CPU:0 then broadcast to ('/job:localhost/replica:0/task:0/device:CPU:0',).\n",
      "INFO:tensorflow:Reduce to /job:localhost/replica:0/task:0/device:CPU:0 then broadcast to ('/job:localhost/replica:0/task:0/device:CPU:0',).\n",
      "INFO:tensorflow:Reduce to /job:localhost/replica:0/task:0/device:CPU:0 then broadcast to ('/job:localhost/replica:0/task:0/device:CPU:0',).\n",
      "INFO:tensorflow:Reduce to /job:localhost/replica:0/task:0/device:CPU:0 then broadcast to ('/job:localhost/replica:0/task:0/device:CPU:0',).\n",
      "INFO:tensorflow:Reduce to /job:localhost/replica:0/task:0/device:CPU:0 then broadcast to ('/job:localhost/replica:0/task:0/device:CPU:0',).\n",
      "INFO:tensorflow:Reduce to /job:localhost/replica:0/task:0/device:CPU:0 then broadcast to ('/job:localhost/replica:0/task:0/device:CPU:0',).\n",
      "INFO:tensorflow:Reduce to /job:localhost/replica:0/task:0/device:CPU:0 then broadcast to ('/job:localhost/replica:0/task:0/device:CPU:0',).\n",
      "INFO:tensorflow:Reduce to /job:localhost/replica:0/task:0/device:CPU:0 then broadcast to ('/job:localhost/replica:0/task:0/device:CPU:0',).\n",
      "INFO:tensorflow:Reduce to /job:localhost/replica:0/task:0/device:CPU:0 then broadcast to ('/job:localhost/replica:0/task:0/device:CPU:0',).\n"
     ]
    },
    {
     "name": "stderr",
     "output_type": "stream",
     "text": [
      "2022-06-17 03:49:35.865282: W tensorflow/python/util/util.cc:368] Sets are not currently considered sequences, but this may change in the future, so consider avoiding using them.\n",
      "2022-06-17 03:49:36.338076: I tensorflow/stream_executor/cuda/cuda_blas.cc:1774] TensorFloat-32 will be used for the matrix multiplication. This will only be logged once.\n",
      "All model checkpoint layers were used when initializing TFGPT2Model.\n",
      "\n",
      "All the layers of TFGPT2Model were initialized from the model checkpoint at gpt2.\n",
      "If your task is similar to the task the model of the checkpoint was trained on, you can already use TFGPT2Model for predictions without further training.\n"
     ]
    },
    {
     "name": "stdout",
     "output_type": "stream",
     "text": [
      "Restoring weights from ../../../checkpoints/mnist_animated/checkpoint\n"
     ]
    }
   ],
   "source": [
    "with strategy.scope():\n",
    "    model = Net2Net(**cfg[\"model\"], trainer_config=cfg[\"train\"])\n",
    "    #model.build(train_sample_data[\"y\"].shape)#first_stage_model.build(train_sample_data[\"y\"].shape[1:])\n",
    "    model.first_stage_model.build(train_sample_data[\"y\"].shape[1:])"
   ]
  },
  {
   "cell_type": "code",
   "execution_count": 19,
   "id": "0aa12dd2-20a1-4760-b392-9f10eb3476a3",
   "metadata": {},
   "outputs": [],
   "source": [
    "from pynvml import *\n",
    "\n",
    "\n",
    "def print_gpu_utilization():\n",
    "    nvmlInit()\n",
    "    handle = nvmlDeviceGetHandleByIndex(0)\n",
    "    info = nvmlDeviceGetMemoryInfo(handle)\n",
    "    print(f\"GPU memory occupied: {info.used//1024**2} MB.\")"
   ]
  },
  {
   "cell_type": "code",
   "execution_count": 20,
   "id": "da5313ea-35c7-4f99-9413-10ed7771ef8d",
   "metadata": {},
   "outputs": [
    {
     "name": "stdout",
     "output_type": "stream",
     "text": [
      "GPU memory occupied: 5075 MB.\n"
     ]
    }
   ],
   "source": [
    "print_gpu_utilization()"
   ]
  },
  {
   "cell_type": "code",
   "execution_count": null,
   "id": "8020c527-af01-4f94-9499-a441dfeb58a1",
   "metadata": {
    "tags": []
   },
   "outputs": [
    {
     "name": "stderr",
     "output_type": "stream",
     "text": [
      "2022-06-17 03:50:31.812717: I tensorflow/stream_executor/cuda/cuda_dnn.cc:366] Loaded cuDNN version 8101\n"
     ]
    },
    {
     "name": "stdout",
     "output_type": "stream",
     "text": [
      "{'loss': <tf.Tensor: shape=(), dtype=float32, numpy=3.4729915>}\n",
      "{'loss': <tf.Tensor: shape=(), dtype=float32, numpy=4.140129>}\n",
      "{'loss': <tf.Tensor: shape=(), dtype=float32, numpy=4.827012>}\n",
      "{'loss': <tf.Tensor: shape=(), dtype=float32, numpy=5.4696593>}\n",
      "{'loss': <tf.Tensor: shape=(), dtype=float32, numpy=6.080322>}\n",
      "{'loss': <tf.Tensor: shape=(), dtype=float32, numpy=6.6745257>}\n",
      "{'loss': <tf.Tensor: shape=(), dtype=float32, numpy=7.2547684>}\n",
      "{'loss': <tf.Tensor: shape=(), dtype=float32, numpy=7.81613>}\n",
      "{'loss': <tf.Tensor: shape=(), dtype=float32, numpy=8.362308>}\n",
      "{'loss': <tf.Tensor: shape=(), dtype=float32, numpy=8.890529>}\n",
      "{'loss': <tf.Tensor: shape=(), dtype=float32, numpy=9.434673>}\n",
      "{'loss': <tf.Tensor: shape=(), dtype=float32, numpy=9.943254>}\n",
      "{'loss': <tf.Tensor: shape=(), dtype=float32, numpy=10.458991>}\n",
      "{'loss': <tf.Tensor: shape=(), dtype=float32, numpy=10.967342>}\n",
      "{'loss': <tf.Tensor: shape=(), dtype=float32, numpy=11.471836>}\n",
      "{'loss': <tf.Tensor: shape=(), dtype=float32, numpy=11.96449>}\n",
      "{'loss': <tf.Tensor: shape=(), dtype=float32, numpy=12.444629>}\n",
      "{'loss': <tf.Tensor: shape=(), dtype=float32, numpy=12.921423>}\n",
      "{'loss': <tf.Tensor: shape=(), dtype=float32, numpy=13.38552>}\n",
      "{'loss': <tf.Tensor: shape=(), dtype=float32, numpy=13.841929>}\n",
      "{'loss': <tf.Tensor: shape=(), dtype=float32, numpy=14.299571>}\n",
      "{'loss': <tf.Tensor: shape=(), dtype=float32, numpy=14.7449045>}\n",
      "{'loss': <tf.Tensor: shape=(), dtype=float32, numpy=15.179068>}\n",
      "{'loss': <tf.Tensor: shape=(), dtype=float32, numpy=15.620108>}\n",
      "{'loss': <tf.Tensor: shape=(), dtype=float32, numpy=16.049583>}\n",
      "{'loss': <tf.Tensor: shape=(), dtype=float32, numpy=16.468565>}\n",
      "{'loss': <tf.Tensor: shape=(), dtype=float32, numpy=16.879936>}\n",
      "{'loss': <tf.Tensor: shape=(), dtype=float32, numpy=17.273006>}\n",
      "{'loss': <tf.Tensor: shape=(), dtype=float32, numpy=17.669973>}\n",
      "{'loss': <tf.Tensor: shape=(), dtype=float32, numpy=18.063313>}\n",
      "{'loss': <tf.Tensor: shape=(), dtype=float32, numpy=18.453596>}\n",
      "{'loss': <tf.Tensor: shape=(), dtype=float32, numpy=18.8368>}\n",
      "{'loss': <tf.Tensor: shape=(), dtype=float32, numpy=19.229603>}\n",
      "{'loss': <tf.Tensor: shape=(), dtype=float32, numpy=19.597696>}\n",
      "{'loss': <tf.Tensor: shape=(), dtype=float32, numpy=19.957481>}\n",
      "{'loss': <tf.Tensor: shape=(), dtype=float32, numpy=20.31878>}\n",
      "{'loss': <tf.Tensor: shape=(), dtype=float32, numpy=20.667578>}\n",
      "{'loss': <tf.Tensor: shape=(), dtype=float32, numpy=21.019463>}\n",
      "{'loss': <tf.Tensor: shape=(), dtype=float32, numpy=21.369646>}\n",
      "{'loss': <tf.Tensor: shape=(), dtype=float32, numpy=21.704622>}\n",
      "{'loss': <tf.Tensor: shape=(), dtype=float32, numpy=22.034494>}\n",
      "{'loss': <tf.Tensor: shape=(), dtype=float32, numpy=22.36106>}\n",
      "{'loss': <tf.Tensor: shape=(), dtype=float32, numpy=22.687243>}\n",
      "{'loss': <tf.Tensor: shape=(), dtype=float32, numpy=23.022593>}\n",
      "{'loss': <tf.Tensor: shape=(), dtype=float32, numpy=23.340677>}\n",
      "{'loss': <tf.Tensor: shape=(), dtype=float32, numpy=23.659658>}\n",
      "{'loss': <tf.Tensor: shape=(), dtype=float32, numpy=23.961514>}\n",
      "{'loss': <tf.Tensor: shape=(), dtype=float32, numpy=24.27629>}\n",
      "{'loss': <tf.Tensor: shape=(), dtype=float32, numpy=24.578001>}\n",
      "{'loss': <tf.Tensor: shape=(), dtype=float32, numpy=24.873703>}\n",
      "{'loss': <tf.Tensor: shape=(), dtype=float32, numpy=25.161598>}\n",
      "{'loss': <tf.Tensor: shape=(), dtype=float32, numpy=25.458342>}\n",
      "{'loss': <tf.Tensor: shape=(), dtype=float32, numpy=25.73564>}\n",
      "{'loss': <tf.Tensor: shape=(), dtype=float32, numpy=26.02057>}\n",
      "{'loss': <tf.Tensor: shape=(), dtype=float32, numpy=26.31255>}\n",
      "{'loss': <tf.Tensor: shape=(), dtype=float32, numpy=26.587996>}\n",
      "{'loss': <tf.Tensor: shape=(), dtype=float32, numpy=26.86601>}\n",
      "{'loss': <tf.Tensor: shape=(), dtype=float32, numpy=27.144142>}\n",
      "{'loss': <tf.Tensor: shape=(), dtype=float32, numpy=27.413641>}\n",
      "{'loss': <tf.Tensor: shape=(), dtype=float32, numpy=27.681303>}\n",
      "{'loss': <tf.Tensor: shape=(), dtype=float32, numpy=27.95588>}\n",
      "{'loss': <tf.Tensor: shape=(), dtype=float32, numpy=28.211674>}\n",
      "{'loss': <tf.Tensor: shape=(), dtype=float32, numpy=28.466978>}\n",
      "{'loss': <tf.Tensor: shape=(), dtype=float32, numpy=28.711523>}\n",
      "{'loss': <tf.Tensor: shape=(), dtype=float32, numpy=28.95931>}\n",
      "{'loss': <tf.Tensor: shape=(), dtype=float32, numpy=29.214403>}\n",
      "{'loss': <tf.Tensor: shape=(), dtype=float32, numpy=29.44335>}\n",
      "{'loss': <tf.Tensor: shape=(), dtype=float32, numpy=29.6739>}\n",
      "{'loss': <tf.Tensor: shape=(), dtype=float32, numpy=29.911722>}\n",
      "{'loss': <tf.Tensor: shape=(), dtype=float32, numpy=30.148558>}\n",
      "{'loss': <tf.Tensor: shape=(), dtype=float32, numpy=30.371323>}\n",
      "{'loss': <tf.Tensor: shape=(), dtype=float32, numpy=30.605404>}\n",
      "{'loss': <tf.Tensor: shape=(), dtype=float32, numpy=30.840322>}\n",
      "{'loss': <tf.Tensor: shape=(), dtype=float32, numpy=31.059145>}\n",
      "{'loss': <tf.Tensor: shape=(), dtype=float32, numpy=31.28262>}\n",
      "{'loss': <tf.Tensor: shape=(), dtype=float32, numpy=31.507181>}\n",
      "{'loss': <tf.Tensor: shape=(), dtype=float32, numpy=31.735172>}\n",
      "{'loss': <tf.Tensor: shape=(), dtype=float32, numpy=31.955648>}\n",
      "{'loss': <tf.Tensor: shape=(), dtype=float32, numpy=32.168156>}\n",
      "{'loss': <tf.Tensor: shape=(), dtype=float32, numpy=32.383945>}\n",
      "{'loss': <tf.Tensor: shape=(), dtype=float32, numpy=32.597553>}\n",
      "{'loss': <tf.Tensor: shape=(), dtype=float32, numpy=32.810097>}\n"
     ]
    }
   ],
   "source": [
    "for i in range(10):\n",
    "    for data in train_ds:\n",
    "        print(strategy.run(model.train_step, args=(data,)))"
   ]
  },
  {
   "cell_type": "code",
   "execution_count": null,
   "id": "dc8a614b-a07e-404d-82eb-c46749467136",
   "metadata": {},
   "outputs": [],
   "source": []
  },
  {
   "cell_type": "code",
   "execution_count": null,
   "id": "da5dd8b1-39db-4d97-bc84-6ae46631a646",
   "metadata": {
    "tags": []
   },
   "outputs": [
    {
     "name": "stdout",
     "output_type": "stream",
     "text": [
      "Epoch 1/500\n"
     ]
    }
   ],
   "source": [
    "model.fit(train_ds, validation_data=validation_ds, epochs=cfg[\"train\"][\"n_epochs\"])"
   ]
  },
  {
   "cell_type": "code",
   "execution_count": 21,
   "id": "5b0cec6e-b287-49d9-8848-ed32d695e3d8",
   "metadata": {},
   "outputs": [],
   "source": [
    "generated_videos = model(train_sample_data)"
   ]
  },
  {
   "cell_type": "code",
   "execution_count": 22,
   "id": "3d399fa7-3a52-466d-a742-04f00816cf2a",
   "metadata": {},
   "outputs": [
    {
     "data": {
      "text/html": [
       "<video width=\"432\" height=\"288\" controls autoplay loop>\n",
       "  <source type=\"video/mp4\" src=\"data:video/mp4;base64,AAAAIGZ0eXBNNFYgAAACAE00ViBpc29taXNvMmF2YzEAAAAIZnJlZQAANxBtZGF0AAACrgYF//+q\n",
       "3EXpvebZSLeWLNgg2SPu73gyNjQgLSBjb3JlIDE2NCByMzA5NCBiZmM4N2I3IC0gSC4yNjQvTVBF\n",
       "Ry00IEFWQyBjb2RlYyAtIENvcHlsZWZ0IDIwMDMtMjAyMiAtIGh0dHA6Ly93d3cudmlkZW9sYW4u\n",
       "b3JnL3gyNjQuaHRtbCAtIG9wdGlvbnM6IGNhYmFjPTEgcmVmPTMgZGVibG9jaz0xOjA6MCBhbmFs\n",
       "eXNlPTB4MzoweDExMyBtZT1oZXggc3VibWU9NyBwc3k9MSBwc3lfcmQ9MS4wMDowLjAwIG1peGVk\n",
       "X3JlZj0xIG1lX3JhbmdlPTE2IGNocm9tYV9tZT0xIHRyZWxsaXM9MSA4eDhkY3Q9MSBjcW09MCBk\n",
       "ZWFkem9uZT0yMSwxMSBmYXN0X3Bza2lwPTEgY2hyb21hX3FwX29mZnNldD0tMiB0aHJlYWRzPTkg\n",
       "bG9va2FoZWFkX3RocmVhZHM9MSBzbGljZWRfdGhyZWFkcz0wIG5yPTAgZGVjaW1hdGU9MSBpbnRl\n",
       "cmxhY2VkPTAgYmx1cmF5X2NvbXBhdD0wIGNvbnN0cmFpbmVkX2ludHJhPTAgYmZyYW1lcz0zIGJf\n",
       "cHlyYW1pZD0yIGJfYWRhcHQ9MSBiX2JpYXM9MCBkaXJlY3Q9MSB3ZWlnaHRiPTEgb3Blbl9nb3A9\n",
       "MCB3ZWlnaHRwPTIga2V5aW50PTI1MCBrZXlpbnRfbWluPTEwIHNjZW5lY3V0PTQwIGludHJhX3Jl\n",
       "ZnJlc2g9MCByY19sb29rYWhlYWQ9NDAgcmM9Y3JmIG1idHJlZT0xIGNyZj0yMy4wIHFjb21wPTAu\n",
       "NjAgcXBtaW49MCBxcG1heD02OSBxcHN0ZXA9NCBpcF9yYXRpbz0xLjQwIGFxPTE6MS4wMACAAAAM\n",
       "f2WIhAAR//73iB8yy2n5OtdyEeetLq0fUO5GcV6kvf4gAAADABacmUP7YcdOWsNAAEKAAIWL00tu\n",
       "f3Kh4gCI13R9FuJhlTLZAeGv5gTpwFtK7IfSPmQ2nVuWoY5ibp3h6iszVZSwk4XLzCeNEvRBZcs1\n",
       "f9E5Jy5lka9VeFhW3xOim80qq98PmYZlPgb3l4s9hNBavZfMRf0ycYRUFkFZ0r5Jr2QTFQIOS3SV\n",
       "3dlzQZlY74WfjLngwm7TvllnfFLH7xisqbryavaWB7LW5gGtURSBSF1IU8dSyyT2hwRgNg+q5uDT\n",
       "vc32DzMatGfw0AnFKopIsjcyyp2SGH93QRAEQa+lu8Y+PyjhTbDJkV+zEK+4GQy6z0pkQ0ZFBnO8\n",
       "hjn6fS5hhyEjmJHpQN/Xcvqk5TaSD1mxviZt8FIwzzH9YU53YZsykX86bjaOmKHfblVOp5BxzldG\n",
       "NC+qipkeeg6mq4Yr0yWaQAa4YSuINxgVbzzFjRQD4q1ZAXfn4PqfQpyQa6e3+XShzmagZnn3t3v5\n",
       "5yKXuYyN2FYT8PIeETcecek8V8V7wgXtWRpF17g9BTgh0Mso8e5BRmoSbL3XHLyPb/wk+/2NsHsw\n",
       "Xms0eKBoCbgQYo9O7jrnEnDQe0VF22+U7QUg+7Ox8/wOTfI886xwtNhdRf4Z6uL2kxm9YmHh8OzF\n",
       "S1R+wD7S5EnO4PSpKLZEE/4VWOA9J+UaR080LptuvaXSe25mQYTu96m0wl0Ygzi71NNiPdyOyprh\n",
       "91rMrkB7FM0idpx9uIV3lborW89yTr9AmgkIVgKmAaBaD/63omHRaLCZN1TsTmbWN4rzjEvi4eoh\n",
       "vSrwoQ15nqGkTjY+Ym2/lZO5OMMuVeMzkNio2rPctn7jE7PddJohbzv8ge0FZyPTVqLNLUBj//ty\n",
       "CkPpDeQ8XGdngBsitISi8z5IAQFSHCxZ3ICCq8Vy/UedqkOuysLANqAUu7eMO9vjs0EBFtOKz2CR\n",
       "//n3zPVLVO98w0bOx09HyPbOvXNdmh9kWSPnShpt2fjDNR/7K9dczG3nMnFJ28nkpjse/iMOxUS6\n",
       "3BpkmPxa6hKmF16qCnK9K9T11U3I2+MfuP0q8RcjrvC2yaEf680YqX+/j0W9gCD6twGA5Lz9zPng\n",
       "1GOiKNDxH4DSfsoYpVdOE/Cv/SDwJnxm3GVIkns88hr6ZdFcGy8iw88Vr9F1D+PaZFjOy3DZb2Ze\n",
       "TUgtg9JjXmgXem+smcfF6LMhjbEetj7eJGhtgqlzZoF0hfYP7fI+Nn1kZxksMjuXWlHiZkegII6t\n",
       "nAezOyw3QrVTzpGVhiCbAdRuQq9/ITGX4fHjNIBXn/M2LIiC9T/cm5y+plAJOW/XfvNS8nFghD3u\n",
       "IaZIoxhQNXqy/Jz+xL2h2UHbgt0ylC1Gf3+gLJzyA9Brdf2rVlEF06azFYipcTsao3b5ulH4t1PS\n",
       "ku7d6x2E73yDOqjZlaJSsggoBUZGqQq2ZUSe7mYMzssN0K8yOn6l8FC/d0zu57RSOoHgEWB6pjMu\n",
       "so/fP0sB4PlPbz6FLYmjTL3SctNYRpu7eaq6Qv/NnFIqgBf0HTu/M3G+1l2C7tRkpcAMPnvOSK5J\n",
       "Mr0OzGCiP5p9z+HrFNeG5Ws8QKCLBVOPaIoKSZA2VcQO8iAzOS45/bjuKYUwnLJ4Ui5cPpKf54KF\n",
       "BWiEfpj8+9FPyiSgAATgzxzDFQ5qC2z7FUqQypB6ADNVvjSXDcfsefoSvmqd1qLPKwmj6hTj5aOM\n",
       "JUyQRFSaNc7TU+wwmRArMUA3WfQvU82v2qGxrE7txERCPMzWEFoXk+lJHLHDd6DsqfSUB9Mql68N\n",
       "HT4sxJ9Th8F3BfUIm0iDE1xegG/cxuZk0TvvuQIAv7xU/4TpZkHnNl+Sj9aFmJbGC5csOZ2AAG9M\n",
       "1TZO/QztIq0Vs9zsNCk0uGLaSqQGQl+fRYr8ESEz8JVw4ymIioBpffNpe3xkrrToGH3hFy3rOdLb\n",
       "Zol0aoYqTC5NFjxw/qAt7shKmqegKQla5SfQUui+Z+ra875dqp0HiMuB8m/FmCLFsNde1Ay8ShFj\n",
       "feXyQP6UR943JJy68dLk6j675uJEkUes0rExK6hKcaUL6tWzRFn/YvW/x/65b6DF10uvZUvs/zgl\n",
       "8HLUAe3nVGX/WXVaLDTQsrJG9LiZzZ88lf5Giz1VccSOVbd8/QnueQnAWSrGyMxhHhDjk7P9wesW\n",
       "u/Oq6/gbNkOEllHEXh2CeWI9nYvsPe81vDpAl8NQ276xXjVdzmvwmvcZiTjg0aaxIfZkT/zWiFO/\n",
       "cXdp++YB2RFt5fbt+uWcbbNi8gBU/bd0yFE5GKfBBKiRUnRpofLNTZz2Il92r05Q4k+shwGZY/VP\n",
       "EbIiP4YXtuAjw/mhonAQouqRNCTPiCUx1Xtbv2EHKsdfN7NiyXd28o+T01FE2/Ak3EMe+uLbZVdZ\n",
       "2Hs4ZkKQEvhwuY/oQRniQFX0+mh+tAKaUDqm8IlRWrAYbNX3//pglbYagrPVmJjQ2i5Y/7bw2+E1\n",
       "5OywJ8Xeh+u+JipiyEystoOrchir3ZHE95Hpix8rFWiUj/zDbM92gVm2U9tzanFqikoXp5LkhqBU\n",
       "TippFj67Ha19G3RzjPFcLZIgfDYB4WqxHjq2j84Hemrq0jQBpkXiKWdc6LOuvZoURCQXWP9cZaUm\n",
       "HBwN+MNjeEdxLCcp3usUgBfCRkKeqiEqCSUj+MqjoKbZVv785K4Tlrwhd0UNZmDkByDIDkwbKxX1\n",
       "SvwrusTmGrLb0coaCzzcu8fU9SmHW3IdQ4JYnLWSdFVYX4kZFlpMGjT3pE6133Uj4Rf2F8wS4fQZ\n",
       "c8GbVgMij/hvc7xJ4ePccZ5VQaXBD2e48k79oQDuFyhbd2w/YDAfI/Z4ZKeQk+Mu+6iXmcVzyP54\n",
       "1oOt5/DZpVCC6aL0p9dOStXfG++wxCqj5PyfEtybPS68mpFSBzhiKBNIM2kWVxEI/3CMkFoG90Dk\n",
       "wk24sHbWTcFViz/egF/AatgI4YntqqSIaogrsJmE7GfrfHTxkcSulJUj8QMtz1VQecq+8qr+WNgp\n",
       "Am/mmIh+3kjy0KfGawIAKIkAfZ/DTIvVpaCYiJn1+wQ2fGsUtIvR0HjvJ9MwU++bEhSUCXqv8NyM\n",
       "Rb6w0+h6X3CBgmyumXe2XSg8tYMsqU1EEkVmPo6aHikd2b57PXwhn/ecsNclmog5JHOqAiNnrGuY\n",
       "qoVMlwWS4HlsOMSOpZFWJjFhH/0z/M0SWqBWdxw0Ici7swxARCL0sz/SM4qAMgN1Nf0eEV8BByNs\n",
       "EM1Dl1umeh7BT5890GbFDGjCXNYWDeWBEfQlxE5nhYyxyTRskDnzIMTwO8d2fBkMj6V4fX2XYMNQ\n",
       "QgbXesJr1JATV3oGDmdpl8vDHmmycaENt083N+y/En/vibxcJyeR1B+TpJRhxRqaysTo/eYUeFmC\n",
       "sTOh1xMMYcVchtTPw1K8sLpHWEAo/GgEG5P0nWL9+QQ6tz+g/9AHj7NS7TEqmOf0kjXwzJ5W/Dnd\n",
       "zQpJZE/CFFYooD+c7H6CY85VxvC70s3pHbXaa7HBqhtPvl/8BgzUMB+fpizUlF9tEtm+8jOpj9UW\n",
       "LOiuBbig1y2wCoKNifZ+WunRxRFFO0LASRsb4+4TUuK7QGn+cJHjm1r1byORETmq5qxaTowdvZlN\n",
       "ffEDU/Y8eKPb5vhbrgY2cf1vkcSr/LvimDRsEmCrxP4Z7AgDXutCFVgUioLvWl1nfb19k7ycNqbK\n",
       "WBFwFbExtsfnU7Ar/tYjtnIq6nzxl2GMZYN+T2NFAILKBHnGmzcTk2xbG3uLri2XtctQWgaN4Xg7\n",
       "Huq5u/mz3CbHYMGKJjfOfhtkwqzGaeok3ggj1WfMDYYtlENKoRWI8BG/6IRPeF3Y2PgOHhL8nCEC\n",
       "CZM5lIYareF3QzplOHnK8N0fBq7SNL9G77UNEJYcj5KwdeGQKq630ycViOAhDiMmmm7k+QY9nxWG\n",
       "7/4ndcp0jVgaxmR17QzuD4plsd64vBNhvlcAWK1cVzii3sBhFtT+zFGCOhisHh8haP3yTetsY0OQ\n",
       "uxB0+nUYS/lkHkMoHhew5PkNOzpXuhWU7AM0GD32r9QblIFYszqnDMRlEos95E0nDoQWDQv6I5Ir\n",
       "4mPU6TjQp1azdrw0MyNO2wv/hV2uQP+6RctimZT3SeIhOUTO1A8uAaeWOO8fJGakkM2IPU5q+gDx\n",
       "r8/3Yp6H/IN+ZBvOwwhyLhDIKUFdhB3h4buze2+bbPdsjfsnRrvK/V0juV1PnycLbHm8PvpwiDRR\n",
       "gAAAAwAACGkAAAQPQZokbEEf/rUqgAGUyOoAG7FB//MS/fOPujpUDkF8fJ9wNOw00WoMDsmdk8Xe\n",
       "/5J0zv+Bhya9j0n9DkjKl/1Dxah8Ol3UoZSAyS/GeilzNAmOyKp6VT6Hl/a1VpgIh17ofogQy8Ip\n",
       "x2Vla9iRed/1+xd8o82uLPtgJYYBjETLJEqMGHJpAYcz02B+6MWxF08lIe69Z+zIA8F6F1z34HCA\n",
       "sl1evOWCjIesLhxFjZ1b7ynkFMRuCOwRZTeIZLD2tf+I9DgJe3HeiF9S/llNqS6kzneA+4qOXbgA\n",
       "egBOyzmnMBlJ1lxwFx2MVhAqSQUax+D26CMuX3MG6+r4Y1p7eoC/gfER2Mf6kCG6l07eOmgpB5dB\n",
       "+Re4CnKJt5ogDKOXNHwQUN1FA3l/xFgzchQlMGoVq8I7RllnpDVEOxBqFdpZBR4aB9IPJyj93m1J\n",
       "xWtLoyJ40i3BpvlJxPK7RItt0S43LlPoXrfiPhkouIfiFo/3NsiHB0EH8lPVzV3yzk6g8QXKzm/2\n",
       "1yubMdyMblUeZc/FgcO/aMsEIM7Ee+jV+frmKG4JZv5aaCmPqL/w0AIlVnBRhVUTRBE39t/vzt6/\n",
       "S6h9WGJ1kU7+nUYFoJJGFr/X4N9vsqwNzO2FsArrk7iNqv94JRJlLAlKdCHdGP902KlKPIr60Z+l\n",
       "xjT5dvNUlLZ2WV+J/u+pcMUDYAx9xFTMZ87rDvRwCsRHuzVIJKL9aKgOeV6vK7HUprGELktQZwRf\n",
       "RthEB5fdsx9Ze+XbO498DPaEZ9398phapWKchqOokr9682aXV7z7X2/yllhkoR/2i7WCyzjiGWMQ\n",
       "vFF+aWxZAKHGQKWqE0ezlqdEQdSgWCikLbK44Bg1mr6el0MHCiGKm82BuSFRQ2+oJ3L5DVePVOW5\n",
       "DaNo7RANKPh0IVeGRfWnKMEpWuWzHw0Go0WSR+8sHtlPUoXRTdk6rlIwSp6foHjhnwAoBR9TLerH\n",
       "flF8ivSFB+++gLooErexnrpzCiefZSgQlrmGhLUg0P6iPWptSXNUmQoPPijG/xAAUmI2toB5b/I2\n",
       "0c9hNZfe7SOJ0syoGUWBrVkdQOIind5ll7bCqud1W29DE8q/qyC2ZV7hcoSRTxc9BRJuX6HGoDlM\n",
       "W+Q+zpcQFoShb1lrkH03OshtAZajycaDJb5K7qZ1jZz2H5/v1xdBWHjdapk5gCVOGUGjyriHteHs\n",
       "RLdTwVCfMWCvduvfy8KGrztNUqKhxCkw3QkcWvJGzdEdaJMp8kSQfwxO8LeleuWnGe3ccwUO7KhU\n",
       "at5/WSO0qGm4ShZq5V0To9tn8thmqUkgO9LU0knap+upmtsjqmQsZbYvujPeAMARalM0rux2+K2W\n",
       "V5ztpEYddcBvkdc4tOkBuSpaI8BIfJAO6AAAA3xBnkJ4h38ABitsOovsGIOYdRwimKEAF81xvjwd\n",
       "V6alkPRK39nlKBQb+D3titJN5XAByfi4cyW6tUW4TnqAvRYUCihH4+Rg24GrCFoB8sX6WY8p7nzH\n",
       "NUzBJN0EHYyll2BDkWpTE/eRX6PT/DijqgvYcqqTkEUd8J2Z2L9ozJuhK7DQ6ojg3AsuF/hbeNN4\n",
       "xOvtizF4kE1AXGNTYxeR3MPkTAzof9xZwHFnDDMKGJhX2bCr32h60WIRnkwE8DrFesytEBiZbWFA\n",
       "b0FwDHOF+IY3PJFgRj1yh5UfEflRwDx0hrC1You60TQQql1CyJHaNje0Q14In0Fi4xXtMF2Cca27\n",
       "rpWT+YaeoTgooT2/TYXPFJCimX50rDiqFpiQVAoMICJEcvwNuBtihvMW404Irpr8rk7bPt4Mp9Sp\n",
       "noz074x9r6IfOgzGa/I3urCoef6Ith60FIQIfa6Ohla6AAPbwRIvUrUnJNIRFNYkIZ78UhT17CqD\n",
       "Hb1bGTEY26MKQ8+jiqgX+54ZSPspWsx7E20utwnRsGLq1uX81f02Cbikbpvo3rOhBbKc+3JB8EgK\n",
       "gpzLuAh8ZoA3yQb9o4m22IQMkifDGBbvKjXoUSO5+ZoR13XaG6FvrYlQX7cRwDDXV+9EABHt6C0j\n",
       "yrsxIKJ3dh5Fo2mCbJtBz6EQzsoPNOh26shXWiomXgV4XMqLcaryiu6yK8+2M4khbsHQ5c2v8X3V\n",
       "Zbqb16vD7UEttQlokxvg22yymj5w0/2RjXcb3lPbHODql/ykE16eDDfJDgIBWeSQ1+rFZVSOuh7Q\n",
       "lCg4s+q3vP40+vgj5oXNgOEFiEctW66rmOKrKsyr4tk/dyPy1wk1glRHP9NA1KqEzcHoobnn+z0h\n",
       "/UClBaZEUTpUyxLOyQqXifb05pTH4KHymR0R6m19N3Yo7IcHCg761oBEef23acQhln8X/ze8tQax\n",
       "fx06s6DYkrLAWBI0pmwEcIAFtO3FbVVN6Sh+dD89mn+9XuhS+gWRCT5i+aLNj1wE67pWdsiz1+TI\n",
       "H2b0oYwTX40B4B+dxowPfbG+4Y/QKB1b7besfpUGm3G/aJd+41UD9M8BSjp3lM4NKNjW+yNiXAZj\n",
       "8reI8c9gFE1kTaCiSmUBlSY9scsg/C3WlwwhPg0xFxqS1YBQjyJAgbUQdY2zN06EYoNQzZ2QZSOc\n",
       "nnqjRtZ9IAm5AAADDwGeYXRDfwAIrN1+ICoiunmTkAFNkYrLwwsKMTuhwfWbA16azwzRJ9KbNJFb\n",
       "UrjSuX11gSJMFLtM2evllV39+/x8cj1JsFxP8ihBzzP4xcKhQFKltKLSMLdgGFq8od3InvUcNleP\n",
       "hWCQ6Gd592QkKKDwkDSuv8q2QtR/hQGX766jSpF7FWql2R5K8cZWoSJ8m3Sa0gCaMtuSbO3GFx32\n",
       "YpedQ0UWAvlf19m+gEOmjmvEEHzBg7lSobm6iPsuCWpo45r2MUK8GkVIn5TGlS+1rCWQCXHP8Lr5\n",
       "sMyekXr1mlTZSaBC7lCXk5FM3bSAW+v0u1ucwbI+Xt7gWBN2xul5kIik6xJi8JLtCct4RsZkb/1x\n",
       "KVZt4/s9vfKRUleZwP90s1YLmUASRYzAeIVYWDxqC9oTGEfjPyPAVzkKxfDuFLfdFyfnPXivgeCK\n",
       "Uz/+KNgCUwazU7CKgU6Qi/ECmle6sOYeLareZF6D01MC10/7ABxBT92rh408gAYz9z50JNa1d+65\n",
       "mJWA66TrLpfcfuAcs7AlX0+UXHee42fNkCxXq/ONpLj5DgoKIDgPo5J9l1qGT8E7o+lH4lbPIHre\n",
       "EbNW9yuZDUX/AOH0VuUiEQXvgryOJwxTTFJOLxJe+upmseVtKL1k99MC9sjDwi287152J483VGFc\n",
       "j9N2ZnI+mbaoOa8+Xpp/GIK70BRC3VVaLRQM+tkE2KNfMaLGYLbUhKhudrxwV7zyTMmlBm/6jhLp\n",
       "f9hN3lASm+tVs0ZoSkeaOQKxAZB4JrTegruzxBCcX1i0RVS0GEPWOInfGk7hNEGek/3W7kxsHwsd\n",
       "mKYz8ZRuzrYmEU63Kd7kBd0uD0/FglnHA9Ob7jsVhg/EdkpCs+qXcAQbrMsP9Zr3eLPMbS5H2BKW\n",
       "k16EGr2dGOvFR1XW8XbYV+FsUrQhuT0RVJ7a/zhyGaS/nJoKXz9D0spT3InjZ3sMS6sz7p9QrvlY\n",
       "GbIDIEUkARWhSvmxJSOCkapJeVDufPCqWFUDpUfTZnIyVyzBWlsCr7nj24h3h2TrXyO2UACDgAAA\n",
       "AwsBnmNqQ38ABNDFKjMozWtIAW6XN5puUplR8ZxpJ2ZMKvgPaCXL4FTNPOX7MR/EEirZzYVyJaif\n",
       "opGf6GALYE2JX6CqIadlMXTN/xfc7XaPlcF0YfLsLwwwoYIKCMLQDND7QfjtaW0dBE8zgPHVmve8\n",
       "YXIPCv2+0ykjhmytzrxD06+Hx797PYW5BFSvLVz5bh3HjiPvFDlgTMBwPypFe8U2FvC0+9FaueNk\n",
       "p8aNNxt0XkETnU2JKVfs3EDzc2uyFB929XtOZjtnSaN+TicCxcsMmbq/D+SqDeboRd6W3zOXItmf\n",
       "+DiRVR21EmEzwq1pZgVmaZCl1Rk9ooybhi5DEBEIbuZvEjHachuZnP5md38VrTYnGgKlekTEQyaA\n",
       "p8egN4m8H9QWTVCCGOLPslyURvYD/jHpQHM9yDLyPlTeULjqB6UvdsecB+/NL48VwbGpxlDrG76V\n",
       "row5DWFYq10JSvkEDpv14ZRO9FlLE7WyyiasQY6DIczksCatHkh5e15x/+taW62UUfNOh2PGspur\n",
       "QrDie1G2jb6XsT8NztVpDjMa/zfjaAttLxFkrkDh/ik+DK4T6bqqMx6p9zWpurRT7jvsae/N+wik\n",
       "5Uu+vKawhW/MBtw+yXxAgtLxJP96ukZBiMq/bWTM57d9oMMQ/s4qlnUJ1gzh8bc3pL2U8+uMkR45\n",
       "A+6IhdltbcUnws0ZjONVgdQgJ/cJqsbAEYVNoj85CyEDaRq4Vsys3aocQW4Wx/T+OYzQD8THmpUP\n",
       "mjfsN3pgHALWbDQISmvCrfr5grhB9hrSVX6BdohqsG2XQX8NS9r/DFAHG9+g6WtqGW8P5GJ2jn/k\n",
       "oOTG76UbEsRJz1dfOKS7+HZ6xxeHcqqRlyHtlfr4IyyCMt7hdVqy1mDBMFuKGrIIDZWfCC6lHLVx\n",
       "fLYx0dfPJ3Pn13/zayhFtATURdjEIpSfHpM5tHzMVtN6b26SL7sauQuAS4y8yYQBLE+90H16mVK4\n",
       "TGGTNqHBiVlcHZUUBr/xdGfqntlv2MlTcKa0Avq9aVWdhhBsbW4D8wAABE5BmmhJqEFomUwII//+\n",
       "tSqAAN98fOyazbRmYAdEs3mbt0Y6eTuPfNTX8vL9kfXwvkW1pk56bY+0xQPFHJTQPPL+nR+fN5f/\n",
       "PS5rNjwY3wgq/Tp1/PX2ZSL4M6DCMNr4i6bamSa1ltGjToaCMjZ6zNuAdPI0Mf6dktV0+SpMHSYn\n",
       "PbOf2555YWa8AumRWHghN//Bq9sX84NSwhOVotMAr0vlBfP3//TbxavkDGCMccH6W94RDZOYYDXp\n",
       "hK5v8PPc34vSP+JePkh+9xFXEu1peVKpOcxxZJCyz2GZSnwMZayhfZ00KBASkhlLngOcRmSzQ0hj\n",
       "qjaL4FBMGAtoStqYZfqC/bpnYXfqh27+GUo8ddsOWnbL2UueDB8dgm7pO8qF2TuVibrmFwilsopJ\n",
       "7YqDPC4YDL7fYKQohuA590Va3d1vdRIYBXXl1vF/TLbJfpcwz+jilRC/KBAfgpHZ4vItMUd28FKX\n",
       "jKWsZo7LucRSdmQxCjp23di+zO5AeyWkm3q+5ezOcCI4zM+TL0IROxzs4oRw0RXw5B0mDr/Z4KFn\n",
       "gPZTWkKN3Yg2bOnTrFIVNIzpljF4nuXkci4gS3G7mP2VtjM5ZRPt/s+JqrPtrN8R0dszEy6OAsYi\n",
       "HTgtChDyiP0Qbcd11ugz7YL1T6ys6JopGFNtsnFMBlAp+u7o+LEJhmrG2V2txmFXKredD3XV9s7f\n",
       "KMNvK3zN91UAEiqdIxamet85plkpVtnFsh890QoOmX9vmyOM5l7ixaLIU/JNJKVtOuxlDd8p9W0O\n",
       "z9AUSoLdU7wLnqx+y0kT8a5SFo3+W50K6ZxrvlgmMkxARwEqcgsr4KcLn+xxOGO7Ak9+CH/W/UuJ\n",
       "afeKWYlw6QBTT+1Y+T8WfKepeHurnVZlooy7whg07xOOdRu1ZVtxr78QuHBH76MQB/mPMWNM5Gzh\n",
       "6Se4ff+Ia4jKRhYV6BCJUWXmqXjKmOfOA7wOmmRFkI0oDzGfI5+No70CgRqqV8twDSUO6ygzWAk7\n",
       "7vLbUyk+V01Qf7qYykJq/hDnLKZTntNLXk8Fkvnl96lc7UezdwGi+ijVuS+GYEOlUmTMw118C3tM\n",
       "068gKvcl+f6U6tKOfGcKtdva20gzgfqFplVJdPLof0DLF5IHILQFRobL9FDHhJPHaWU5UADRu4ey\n",
       "8dfNXdfVQ/i8e4VedCOrK9bXED9UGY9A4vv00fSK78L7uml9WBEDMx/gN0POTGXERCFHFNz2Hp3N\n",
       "XY26CBsEa2L3xN5vlL1VaiRVyv2/ITS4LGgB9zEJoEvnET8rEWbfr5ulISJv+0pL6tSG5Hh+aAlk\n",
       "Xvrg03da9zDvnklPh8t/wlkm+Iru/h/DDpUBkBmoL06xdmgawv0YemXNDnGTOysevAmc1d6If6xt\n",
       "ZjEQprJiASyy1hcmtoHV3791A529aWObUpo4EuWZWaA28OqOhzy8s4SWocnHv1k4g8P3WEEIxJKs\n",
       "Oi7h1GpBAAAC8EGehkURLDv/AANltgKeJJ1pFwAW8YPovKD926StNv/lFMi/5xZix6k1DL6cqEXw\n",
       "DBVb6ZbWMjKfGyOoRXMMw1dFphqIW+xGLw9wxRtwvZwOvhEdqafYkEkZNVs+ZePfpJq+PSr6cCwO\n",
       "UYUXRaDk8BI6vwTpBW7p6ZdzU8V//40PNveHKrePqliS6xlmfsNq9oc81BxMU71fnyy1IRpF0Nkl\n",
       "Cw8+gRCGAaN20cVYS9/rJ+9QZg6M3iemWG6vXj+8zrGkQC8zC8F6VZDGulF0CstohTg4f1zovVQx\n",
       "BW6RvxETgu+U+gL0w6zHUh476N6Vr/7NOXP4C2AtvoioFNH8O3eO0esbLOX1yUGJw8cer4BntETr\n",
       "/2Td+jIPnxzocL0SilOTWPNis1BjCE33SXW+Spegbo1iBUp6vKNEnAiJwCETESyKIfV0HzhbwYQJ\n",
       "aRNCNKo+FSqP2Uj9fmqndcDaDzrtpDPDePeQY5GVAi0UJpIEbOG3A7tb0aPMgrcKnkA+TJYanR4b\n",
       "Jho4YexJ66IndPKjwqP9W963t3DP2oOWzOMwDtg5Tv4siPyBzzEbPiWgLeT0Ld5nTCncpVa2Sefh\n",
       "lQIo5xFCtIoBmCACCBrpfFGwNG91pXjMTQ/4X3b+RJYjhdxAWzsulYcnL5iIdA+yhCaMmMtGdVsJ\n",
       "3+hXr/T9J5CpYTRtAS5ryjWKpBe7jX9hh3l+L6Oop4JZANJ0RyMb5RI3oNbchuoDZPBMPWPDp5Wg\n",
       "tptC2/vLQxPNsdzz6tlDAIOnm+4ZS0NUFqADw0KcXr7ZGTp6eGCRhv9WAUt2qg+cdmvX4ReeHPlz\n",
       "iINRzDZB9mFwK3/msC4q+xnSCT/+RcQswACGZPMHv0FmljihTl+BCXt9BzPzKCaQOhVpZSV5+ncR\n",
       "o6R0KSbgfVnhtRiq5IN5LxrPURV2WRsPUa+2QKAoTA67nzFGnz+vOgcfC/nFayoHhx74A7epTL21\n",
       "0M0EuBb+Lx+T6Rq17jovGseWPIz5AAACYwGepXRDfwAE1fav1dfDXAC29VLzHDTkUCaOcHGUvtyc\n",
       "TMyk5pnNdZm0o0ZngQMkZVQT2kaV8LxM20jr1+JJ9XnLgTjOfa/5F5owpRWsA17NRMKjJHcdHJRN\n",
       "+Mm0KpNbV+XJE5FV8HLsGUuyKro9putM98tiKYi3MWE718aJ45C8qNIDuzL2MLlq47GeJpuI/eTT\n",
       "fyHEuMGDUmCXhmKEgk71nFLEHGqj0JS/hO/Q+IMWH3LS+gBbUssXiZ6IkVWsaQr47ZxkJzTcKh86\n",
       "ykS7hjy7YVj3UmAgXCz4HPgKACRqN/XGVsAipVUCfKvD2n0bcbDkXGUWMnloa7qTLuNp9MMdncci\n",
       "SJRhfEBoN5WqwbLxi6PX9rTOZ0M13GJvgl/YR9Bifn0PGHhVlzo1Z0r05z3/A/Aunm3UOOrCf8QZ\n",
       "2GjjzqrPPVztCd2HGWGvE+88/4CxWfAbGWx5yJ6XjhTo3oQPJ/0xJ7LDlkQ+lnnPIYLuEv61GfaP\n",
       "WkAFWJg0jwRlLpF/ulixCf82LhvZo629l5dMrrkdGq+/zhPZCQQsPqyKZyPrwecHz/aSl4YYfF9B\n",
       "k9CO8VoSjiKAPMeHp8uEzQms/AP0hXSuZrNRS1eGZXCHEvBIY1V9kleyCbFkWKb1zUe04fPPooQu\n",
       "SXZWonCukIIIK7FgBRFbEBHjF19nJPTR7Sv6Cu4lK2zxVYkBVaD3LYJJ05bjmph4ThGA/4vr4l96\n",
       "3PTiMjAWBF25PJLADGoTlUq4rmBLBbQvmfZIAHQxOUOaDIxrHKAHbnqHd1NL4CZ7v4GZtZjM16hJ\n",
       "uwidPJsbr4MrAAACsQGep2pDfwAD94tbAtP4aoY0zcv7IAPy98rysQGF8NOjhXKWnh+GKpFwsogA\n",
       "0hrWkCb6l0XMQ5YXZmYf1wpOdXH882Vep2GlVqFKRyuVIlJfTGL1nqQjNULcJfXVm7c9sA7Fkd81\n",
       "LmLhO6toi4rPatL+K678YQzdVepN8CDtf9nJWlmtnX/1j+D1ipYPJJaYjKpzA8knm7qF1z+pSb5t\n",
       "5VdysGFH8temYquZBPtCwfSyF67AD7co/Lk9XhzNYY/emXBmLdKx4bEPsoNzjMAwJXe9U4Gcbzgi\n",
       "oE3AaFw4KNlBrrLOTBeZB9K1Gd/FcFCwI2FvGJX+3CflxiYQtcZ8VHMiH1R+Mp/I0MPD0JF1RQYB\n",
       "fT/wSV8OdtPC9GQcrXvlh2MoYhTp3ezt802B8MnYQm1PWK58Wb857jkJM09QwP+vVycU2nbHjI+e\n",
       "01UEZH8Xetxjs69+0yNvTWIXKhL1NIeAEY0Jxf8mJd9+k668dnR8FS87mO5zk5432btKHrA0k17J\n",
       "bkw4OedMFyowDoMH9SSjgJFruYcavHw7a5/P6oXtoVF3ixenfmiMymToEHbGwNI6DZrSHqOefigH\n",
       "vwvuJq9+gJEzJ7wn7Hktz61xLd/RKs28PN2Xy2IIytiNb2L0edMnVoAM5+DWZ+LeZD/ZkoB+DovS\n",
       "nobmW0grDzL6Pnq9PDYIK88DnNsscUh+Yem50ssBTYu9HWOJGlZW7yGGND/ngRDn4xzr5iC/uX2L\n",
       "H4JFVVWpgWWd8gU+Pd2vjLJ/gRafl9tfCfZbSruPVY5q5yjOlV97XbWxGkTthfe++4G8wGow6a2T\n",
       "UXZDMtJwjLjrNiVgkT7tqt7MwCtNETBaoKu+g8kTFOQH8UA6805tA7m3d1+ud2EeFTvishdxx0SR\n",
       "rf/mCxi91HSdU7es6DoEAKaAAAAD1EGarEmoQWyZTAgh//6qVQABdvHwAB0Teok6QzW4/AkgvHUC\n",
       "bq1mNXJv4hPamaIiG6+k2yxwAtIWf0BO58WQeFG6pa20MCGAkjTUQg8glAwyUEOXzvMdaKztDCyv\n",
       "HjibP4V8Ep6XrYYa6PEijjKGygc4Y/L63KAHb57b46B43VUl8ufCOszO4uxi/o++NKQPbIuLWpUg\n",
       "2wNeK4JPCtxwNsSc2Yrab4MiGi9T7ryhisc0xgPSdwlgOtH6yxSW/RNiFJfwPAdbzaEYaser9GFu\n",
       "YkvIrBT1n2hXx7sG0g0nniUvD74tPIqPJueIfWnkYatQoGTbjkJZoTbFQVUOe70WRfjo1kM2b6rn\n",
       "bymebBKuhcp5cevBiGMGnJXouQpgGhPWNOo+MJsXscND3Jy4wpL+oTz3UHEMpaI+hF4pf0VwG2YL\n",
       "yeCoKZcj0NyJrrPNjs9BLQRNcif/Pmu9Pi+rH9l344Joj1e2wc/QFWJC3VCqb9kt8ITZq1AUFHMC\n",
       "v1i6VI5p5UDzxwDeuO4YGutOG5T/IKFIUKAL8qyQhyTg8gvkDorx4tdg9XAOqvtaQ/StTF1SWMLy\n",
       "wmy0p3CgvtL1VbE5QnpTj5oYEFTIgjRnfL3ey52F1Li1v0tw+oypmdho9rXQ+YPW2M5l21yq2eAC\n",
       "aE5dGhHgVV0coyg3Z+HAIW4f4AwEs0/A/Lj99yypGAAVR7le2DGDLw7jLXlS92SkVZiFEETosIuH\n",
       "EDL7K9QR5u272FP38hIVbOp4w4yOOmbeo75cHOV5mftoKvITRuoaso26VfEAbnuby/q+cvmkULBs\n",
       "2DUyz+tofUfry+b5G9GkTeYQ1CIRF0AjTl7Ug6qnFHyqmD5wUD24I8dgDMebP8qw0GJT78ypNqnR\n",
       "rY/9aQ7vfJKOCf6ubM0pk819rt0vEUBkxSyPAStSYnfKNdhw1kCPTAiQJoK2qM1IspXo/91vhe24\n",
       "uAtao7aGQKFU66VbhBZSbyatVDcx2Hzgd61bU1298QYZLHXNf/R9mwPlXgTEXXoaiggGUpnEIZll\n",
       "nE5RsCZ7sLO5o7jRFpHGznhpAxykAjDc7uJ0NZi4WL6nbIODltp6ABCcJO8i3dzJYx4AaJOE9jhu\n",
       "CwXEDCF8dC8XL3t/VtdCyP+FjnzZ9jsNfLaWplY6AdHtLoobzi9n+Pu/qOs8flS2QJpEoR4Vwa/u\n",
       "2YX3gJ7hzC+2Dv9g95sZpUdSeare2pfX1uGqqUSmgx7srEBxoHwpK0NWwRxsuE3NzNicvONqqlOu\n",
       "8FdGXqiLppTibDv1r/g+vZlj/Tk4rrrX4FGv9oSho9qCAAAByUGeykUVLDv/AALcYNxNqk3Q2ZsR\n",
       "7ADc8F7QbqD68VBhho7WcAr8xz2yzqYdsFsG/8x8+voCd44I3UzegTc2YAONhCCwzyKQyOv4u95L\n",
       "WgSLdZys7L37s+uWcVHXx44fiRngZS3pvXGI6SXUXLaUcVW37rhyecCxhfz8M8gxk4WI+tLTozjL\n",
       "zWrFEOkCX5XWtJoVb8JoRLnRDGO01xRhEkUECezFL9GSf2hb5VhopKfhMYit4EAT6TZ3St8q8qN3\n",
       "t6qgacSYN/Dj24zj8x9dbFfOJO9/Q1nXYquyP23R4jkSGObpR/oNVE/CDqQph/lh7u2IIpZvdR/I\n",
       "7Gzf+hrRKnwncWpMLFnEpPZ7FrLWd3UE/ynWE1zO98rEuGZClKm/Hje8yd7CPgb/RRR2KK7tB3Wt\n",
       "NdhG5XPaklH/FZibS2tM5uyGSbnOg4+HmVQXGmrGioZV00ltvhykoElvZKqHed1BM/ARwlNKJqBY\n",
       "AWDfSZ19WSAY/KO0+rSQSXqIstCepDBBhEMjxPjkD8sLHilQvV5Xr0zyDzDGsSTAW5hUZ+vo3V1o\n",
       "bxZg1kUebDyJCDx1NcoqToTWJ8gmuBFzr/D0c05KNhwEd+q6AbMAAAHmAZ7pdEN/AAP3TLyUg3Dk\n",
       "0GkOfKhQA3DqXWIeiXBsO2nYxn2eLKXbStrnOd0bb9YgJI5Z8w5TlUCq+ZdulLoywndp9HDIO2YE\n",
       "fpdlWQKG3Bi9YkewNARkeKIo5pkm28c8d8YSsHsDX4iVGOVXn2MhjWfcBxWLWJ8FIzB0lCeZ9Ij6\n",
       "IU0dWSx2ObFGe5yvUexLOJ6HWFYxfeWqlNZwt9CfEoLzdFpmG6pbhP0dn5ViEyGfUtGFfQv/5YD1\n",
       "AZqVsRcBJZ9bBE+/0EZPh8fyuoXAxZ6iDTgeEjOFqRjEQW9tJWW1QryY448jItRGZxe89YrdOrYx\n",
       "XT9XoqUH7ihtfwvEFL2ovYyv05Sv8QaQU8flgSwAxhaor/MeCr+VG1pGJ6TUfkobedUdYhI+3xa0\n",
       "MRkZiUqL1/bPbnDNhANR0c6uTexrz7RpLhyBIjjSyb7dvcRL1BwXefRiGZC8UVIJ7wury77fn3NP\n",
       "zvJ3DrDCkwHcwMOuhheJBW5uzXQzDG4X4lGZgG6AMTEmPEKYYbB3/NU4Rp9CWNbutsJLqM74LAX5\n",
       "3XL0w6qO4JIGIdR6vc2aY3aQZn5+128tUxS3Ieh63p1j124G4ddMPA11nvjiBljks1AfPWDj/4rA\n",
       "deUXetmZLDzStIBHeWKCAAABKAGe62pDfwAD4lEjTXeXADc8GABYDnsWej0ze3p4gjUc9nr5rI8/\n",
       "Y/b8Iqak2Gorwo7SpBV9EsvDzJTjkiK2bNZPANBsI7yAnqb6Gi9fD45L1ueFLuhaFuDlGCtGBRyO\n",
       "OQJgf3id99NVk2b9K7ZG4262ucEdvX3ZYS+gGljiifS1Z2v2t1YynRjyJcQjPzSljMiHbb2jNblq\n",
       "wO8Sc2wnU66k60r6Q+0GbJnzWzTO56ihy++qMP/5cEea6YFr+2BV0dl0u/2OMusbSFli8zEJ9HgI\n",
       "4TyAzyl5j9Vwj8Nnx66Zz5qPpj6iQeSgn72Ugt+bdZi98ku1NwRL7owG+58pNBt34YGHgf2yfTQo\n",
       "OJatSFCFEUikkyUPh96iYqnRRWB48EoFYM9O8GLAAAABp0Ga70moQWyZTAgh//6qVQABdvHwAB0T\n",
       "1B1ZzLDsYwuj9Sb5p52+8MBmQ6O26CqH/wsWzIP6Wc+C4MQ+WskSYEVBh8xxANOVoYc1JOHk2W3W\n",
       "7Br3CPB6HcAeyXtpYUWGlaI35fEqb7D9SJjqVbE4vDWRym2uLcoHDxxn5PyixQVcMB494kcPSo19\n",
       "fHOp1y4DTC8sWqlbtL961GlennYt7Bca/WKW9vz+1bP6TnorteqRYqmQZM6Mu8rzNMfUqqcCYDKU\n",
       "yb7MUxomKyTkYG5ZFoSdwFcTisxl0syhF+PSQ+Ah1erksZgZSZRLrYRtlPR06E9fs537GtEARkEF\n",
       "auWsyHAFL+DehR0f+mryOPfvJvr39i63RBrGtmxBRcNcu4bU/Z81KzE4HxCx9wBvByTQzy83K1be\n",
       "BBJ+doIefRUNNQsCVNW7PtOt1LPmBKmWHsYpabIbuYx+1SB5mQndV9FwVajukTBJNx84gbvlBJ0n\n",
       "MzXudgeHsv4Qc+bA+I3HMM6UZrwNXqPahZInmZkwCrxxKYEnUkqcCyR1Q4AAh+BgAshgK0Ii+WoE\n",
       "nQAAAPVBnw1FFSw3/wAD4qVcNg7YACGs2Bjs3JltZyYX1f+Pnv0HO24aaF+HCOWBjPku7MQhq/Z3\n",
       "c2oXi/5AKmHdqp4LxXbJTGOiyxqu9Cb4oauACP1coJV7st0nEah4PCqMECgc1xBcZlQBZY+EuE4V\n",
       "TM2Msilraf3jfRY5g2scTz8slvuhWMFY/iVfc99aVoWQJ/YiUIn5jzIlDZRillUtnJ1s3WJWtN0e\n",
       "Fa7EsR7Lb8wO0KfCrVjhm+KoZrSs3/9MUKVq7IZHPjkzoScKjvzTdo9AM5/2h6EZ/MBOAg9qCetv\n",
       "U9ttEZQYEMt9kkQT208zyVXT/DAfMQAAAPsBny5qQ38AA+JRJGmhboAHG94MrAavNc+JOBF+Rr2m\n",
       "1r+yK9aFlGGjCh2WQVXBs5xifViEHxOJ6+Fo3QJUnP/dESCBOZgliBAiJR/Dukx69zSen1gL02bz\n",
       "GFMeWaC4uP4VLtkio7M+0tcVgkhWfbacnOPVTVZsa31NncjDVga/OjuHjkwVsYln7Dczszi9s1gO\n",
       "yTMeehfZ1/rPrtJgf2GoUz2SlqatHbmpOzfo3EqEBL0B3t5Sc0nTw/48s0olMOIBNtPqnQ3BlWaP\n",
       "zMnHV//3+HCxZJf2S9JruVm4ryJPf3gx7soLGzNC/yOaVcdplSw7krxkegmtrpBUwQAAAHhBmzNJ\n",
       "qEFsmUwIb//+p4QAA2AsIOIASIBhUDC+IzC2nyUUX6YLsv0k0IRRFO7H3ibamoiXyLHOwQ+8pqIa\n",
       "jQNNTcRNt56NAP5ygHLdvDUYlxbojfmQ2le/3ih8XsrDXa4gYtoKyqXDvPLiOkti82v0GJSuLIb8\n",
       "5vQAAABYQZ9RRRUsO/8AAsrhg9Evn8oBtQT7QAATqptuMZmoQ61hcOLYeCSfLyBRl2lAwpjgz64L\n",
       "htT4JC9Hf21x0+44q2XUFlRKACIC0dFDbn7fN1n61fA8nuPZgAAAAGMBn3B0Q38AA+GnkwToUOK1\n",
       "DzqAD8L7LmcFILvWMaKewc76r178COuIFpzekcxVHwk92CxN2m1E54K6+EtoOMHUDpRK4NwyZyje\n",
       "n6+CpALI1PU22KURiqZc9e3ZoX//plP4ezEAAAAbAZ9yakN/AAPiURMJ+Cjh/dEPwaNF1MIB5fRc\n",
       "AAAEGm1vb3YAAABsbXZoZAAAAAAAAAAAAAAAAAAAA+gAAAfQAAEAAAEAAAAAAAAAAAAAAAABAAAA\n",
       "AAAAAAAAAAAAAAAAAQAAAAAAAAAAAAAAAAAAQAAAAAAAAAAAAAAAAAAAAAAAAAAAAAAAAAAAAAAA\n",
       "AAIAAANEdHJhawAAAFx0a2hkAAAAAwAAAAAAAAAAAAAAAQAAAAAAAAfQAAAAAAAAAAAAAAAAAAAA\n",
       "AAABAAAAAAAAAAAAAAAAAAAAAQAAAAAAAAAAAAAAAAAAQAAAAAGwAAABIAAAAAAAJGVkdHMAAAAc\n",
       "ZWxzdAAAAAAAAAABAAAH0AAACAAAAQAAAAACvG1kaWEAAAAgbWRoZAAAAAAAAAAAAAAAAAAAKAAA\n",
       "AFAAVcQAAAAAAC1oZGxyAAAAAAAAAAB2aWRlAAAAAAAAAAAAAAAAVmlkZW9IYW5kbGVyAAAAAmdt\n",
       "aW5mAAAAFHZtaGQAAAABAAAAAAAAAAAAAAAkZGluZgAAABxkcmVmAAAAAAAAAAEAAAAMdXJsIAAA\n",
       "AAEAAAInc3RibAAAALdzdHNkAAAAAAAAAAEAAACnYXZjMQAAAAAAAAABAAAAAAAAAAAAAAAAAAAA\n",
       "AAGwASAASAAAAEgAAAAAAAAAAQAAAAAAAAAAAAAAAAAAAAAAAAAAAAAAAAAAAAAAAAAAABj//wAA\n",
       "ADVhdmNDAWQAFf/hABhnZAAVrNlBsJaEAAADAAQAAAMAUDxYtlgBAAZo6+PLIsD9+PgAAAAAHHV1\n",
       "aWRraEDyXyRPxbo5pRvPAyPzAAAAAAAAABhzdHRzAAAAAAAAAAEAAAAUAAAEAAAAABRzdHNzAAAA\n",
       "AAAAAAEAAAABAAAAqGN0dHMAAAAAAAAAEwAAAAEAAAgAAAAAAQAAFAAAAAABAAAIAAAAAAEAAAAA\n",
       "AAAAAQAABAAAAAABAAAUAAAAAAEAAAgAAAAAAQAAAAAAAAABAAAEAAAAAAEAABQAAAAAAQAACAAA\n",
       "AAABAAAAAAAAAAEAAAQAAAAAAQAAEAAAAAACAAAEAAAAAAEAABQAAAAAAQAACAAAAAABAAAAAAAA\n",
       "AAEAAAQAAAAAHHN0c2MAAAAAAAAAAQAAAAEAAAAUAAAAAQAAAGRzdHN6AAAAAAAAAAAAAAAUAAAP\n",
       "NQAABBMAAAOAAAADEwAAAw8AAARSAAAC9AAAAmcAAAK1AAAD2AAAAc0AAAHqAAABLAAAAasAAAD5\n",
       "AAAA/wAAAHwAAABcAAAAZwAAAB8AAAAUc3RjbwAAAAAAAAABAAAAMAAAAGJ1ZHRhAAAAWm1ldGEA\n",
       "AAAAAAAAIWhkbHIAAAAAAAAAAG1kaXJhcHBsAAAAAAAAAAAAAAAALWlsc3QAAAAlqXRvbwAAAB1k\n",
       "YXRhAAAAAQAAAABMYXZmNTkuMTYuMTAw\n",
       "\">\n",
       "  Your browser does not support the video tag.\n",
       "</video>"
      ],
      "text/plain": [
       "<IPython.core.display.HTML object>"
      ]
     },
     "execution_count": 22,
     "metadata": {},
     "output_type": "execute_result"
    }
   ],
   "source": [
    "display_videos(generated_videos, 1, 4)"
   ]
  },
  {
   "cell_type": "code",
   "execution_count": null,
   "id": "b583a6a7-7d07-47fc-9b71-1d718f48ce9e",
   "metadata": {},
   "outputs": [],
   "source": [
    "display_videos(train_sample_data[\"y\"], 1, 4)"
   ]
  },
  {
   "cell_type": "code",
   "execution_count": null,
   "id": "ee59bbc9-96f5-4e93-80b2-ae760b068cdd",
   "metadata": {},
   "outputs": [],
   "source": [
    "quant_z, indices = model.encode_to_z(images)"
   ]
  },
  {
   "cell_type": "code",
   "execution_count": null,
   "id": "65336fd2-1a64-4635-ab2d-6275749d1de4",
   "metadata": {},
   "outputs": [],
   "source": [
    "quant = model.first_stage_model.quantize.get_codebook_entry(\n",
    "    indices, shape=tf.shape(quant_z)\n",
    ")\n",
    "decoded = model.first_stage_model.decode(quant)"
   ]
  },
  {
   "cell_type": "code",
   "execution_count": null,
   "id": "c6751d91-e4d2-44f2-9778-8c5b23d698e3",
   "metadata": {
    "tags": []
   },
   "outputs": [],
   "source": [
    "display_images(model.first_stage_model(images)[0])\n",
    "plt.show()"
   ]
  },
  {
   "cell_type": "code",
   "execution_count": null,
   "id": "2ab52bd5-c95e-4fc1-9009-76e1f7f6425a",
   "metadata": {},
   "outputs": [],
   "source": [
    "display_images(generated_videos[:,0,...])"
   ]
  },
  {
   "cell_type": "code",
   "execution_count": null,
   "id": "b576c96f-c0a6-401b-877a-5eaf7b69ec03",
   "metadata": {},
   "outputs": [],
   "source": []
  }
 ],
 "metadata": {
  "kernelspec": {
   "display_name": "Python 3 (ipykernel)",
   "language": "python",
   "name": "python3"
  },
  "language_info": {
   "codemirror_mode": {
    "name": "ipython",
    "version": 3
   },
   "file_extension": ".py",
   "mimetype": "text/x-python",
   "name": "python",
   "nbconvert_exporter": "python",
   "pygments_lexer": "ipython3",
   "version": "3.8.10"
  }
 },
 "nbformat": 4,
 "nbformat_minor": 5
}
