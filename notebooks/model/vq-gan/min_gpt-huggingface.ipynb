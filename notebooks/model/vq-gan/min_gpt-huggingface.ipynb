{
 "cells": [
  {
   "cell_type": "code",
   "execution_count": 1,
   "id": "8c995bfd-ceef-4145-a103-c2a064be737e",
   "metadata": {},
   "outputs": [],
   "source": [
    "import os\n",
    "os.environ[\"CUDA_DEVICE_ORDER\"]=\"PCI_BUS_ID\"   # see issue #152\n",
    "os.environ[\"CUDA_VISIBLE_DEVICES\"]=\"0\""
   ]
  },
  {
   "cell_type": "code",
   "execution_count": 2,
   "id": "a2a9c822-ecf1-44b2-aaf6-c7122a777180",
   "metadata": {},
   "outputs": [],
   "source": [
    "%load_ext autoreload\n",
    "%autoreload 2"
   ]
  },
  {
   "cell_type": "code",
   "execution_count": 3,
   "id": "639df7f6-3066-44e2-a9c0-60bc80e81a83",
   "metadata": {},
   "outputs": [],
   "source": [
    "import sys\n",
    "sys.path.append(\"../../../\")"
   ]
  },
  {
   "cell_type": "markdown",
   "id": "58672f89-39c3-4e2c-9960-c51fad5e2709",
   "metadata": {},
   "source": [
    "\n",
    "from tensorflow.keras import mixed_precision\n",
    "\n",
    "policy = mixed_precision.Policy('mixed_float16')\n",
    "mixed_precision.set_global_policy(policy)\n",
    "print('Compute dtype: %s' % policy.compute_dtype)\n",
    "print('Variable dtype: %s' % policy.variable_dtype)"
   ]
  },
  {
   "cell_type": "code",
   "execution_count": 4,
   "id": "277a395f-1f54-4d91-be02-214f698f0c31",
   "metadata": {},
   "outputs": [],
   "source": [
    "import tensorflow as tf\n",
    "for device in tf.config.list_physical_devices(\"GPU\"):\n",
    "    tf.config.experimental.set_memory_growth(device, True)"
   ]
  },
  {
   "cell_type": "code",
   "execution_count": 5,
   "id": "7f01a67a-1183-424a-8eda-986b6be4173c",
   "metadata": {},
   "outputs": [
    {
     "name": "stderr",
     "output_type": "stream",
     "text": [
      "2022-06-15 07:48:50.290333: I tensorflow/core/platform/cpu_feature_guard.cc:151] This TensorFlow binary is optimized with oneAPI Deep Neural Network Library (oneDNN) to use the following CPU instructions in performance-critical operations:  AVX2 FMA\n",
      "To enable them in other operations, rebuild TensorFlow with the appropriate compiler flags.\n",
      "2022-06-15 07:48:50.664782: I tensorflow/core/common_runtime/gpu/gpu_device.cc:1525] Created device /job:localhost/replica:0/task:0/device:GPU:0 with 22308 MB memory:  -> device: 0, name: NVIDIA GeForce RTX 3090, pci bus id: 0000:01:00.0, compute capability: 8.6\n"
     ]
    }
   ],
   "source": [
    "import omegaconf\n",
    "import numpy as np\n",
    "import matplotlib.pyplot as plt\n",
    "from ganime.data.experimental import ImageDataset, VideoDataset\n",
    "from ganime.visualization.videos import display_videos\n",
    "from ganime.visualization.images import display_images\n",
    "from ganime.model.vqgan_clean.experimental.net2net import Net2Net\n",
    "import tensorflow_addons as tfa\n",
    "from datetime import datetime\n",
    "from tqdm import tqdm\n",
    "from pyprojroot.pyprojroot import here\n",
    "\n",
    "#tf.get_logger().setLevel('WARNING')\n",
    "import warnings\n",
    "warnings.filterwarnings('ignore')"
   ]
  },
  {
   "cell_type": "code",
   "execution_count": 6,
   "id": "64804403-13f9-4157-9dbb-757df9448525",
   "metadata": {},
   "outputs": [
    {
     "name": "stdout",
     "output_type": "stream",
     "text": [
      "INFO:tensorflow:Using MirroredStrategy with devices ('/job:localhost/replica:0/task:0/device:GPU:0',)\n"
     ]
    }
   ],
   "source": [
    "strategy = tf.distribute.MirroredStrategy(cross_device_ops=tf.distribute.HierarchicalCopyAllReduce())"
   ]
  },
  {
   "cell_type": "code",
   "execution_count": 7,
   "id": "b530068b-b80a-4553-b0bb-5ec609da7c4e",
   "metadata": {},
   "outputs": [],
   "source": [
    "cfg = omegaconf.OmegaConf.load(here(\"configs/moving_mnist_image_transformer_huggingface.yaml\"))\n",
    "#cfg = omegaconf.OmegaConf.load(here(\"configs/default_transformer.yaml\"))\n",
    "batch_size = cfg[\"train\"][\"batch_size\"] \n",
    "global_batch_size = batch_size * strategy.num_replicas_in_sync\n",
    "n_epochs = cfg[\"train\"][\"n_epochs\"]"
   ]
  },
  {
   "cell_type": "code",
   "execution_count": 8,
   "id": "d0216592-8406-46fe-b5c9-bfb39ce04b23",
   "metadata": {},
   "outputs": [],
   "source": [
    "dataset_length = 10000\n",
    "num_batch = dataset_length / batch_size"
   ]
  },
  {
   "cell_type": "code",
   "execution_count": 9,
   "id": "cb1ac55d-561c-4b99-92c9-f92547e4cdfc",
   "metadata": {},
   "outputs": [],
   "source": [
    "def preprocess(element):\n",
    "    element = tf.reshape(element, (tf.shape(element)[0], tf.shape(element)[1], tf.shape(element)[2], 3))\n",
    "    element = tf.cast(element, tf.float32) / 255.0\n",
    "    first_frame = element[0,...]\n",
    "    last_frame = element[-1,...]\n",
    "    \n",
    "    y = element\n",
    "    \n",
    "    return {\"first_frame\": first_frame, \"last_frame\": last_frame, \"y\": y, \"n_frames\": tf.shape(element)[0]}"
   ]
  },
  {
   "cell_type": "code",
   "execution_count": 10,
   "id": "293f1357-eb57-4561-9f54-c10912f1dd67",
   "metadata": {},
   "outputs": [],
   "source": [
    "dataset = VideoDataset(\"../../../data/moving_mnist_tfrecords\").load()\n",
    "dataset = dataset.shuffle(dataset_length, reshuffle_each_iteration=True).map(preprocess, num_parallel_calls=tf.data.AUTOTUNE).prefetch(tf.data.AUTOTUNE)"
   ]
  },
  {
   "cell_type": "code",
   "execution_count": 11,
   "id": "4b06c992-9332-4690-b5d3-0deb9de24c10",
   "metadata": {},
   "outputs": [],
   "source": [
    "train_size = int(dataset_length * 0.8)\n",
    "validation_size = int(dataset_length * 0.1)\n",
    "test_size = int(dataset_length * 0.1)"
   ]
  },
  {
   "cell_type": "code",
   "execution_count": 12,
   "id": "6bf5e800-4917-4873-bfe5-bf6a69ab3d93",
   "metadata": {},
   "outputs": [],
   "source": [
    "train_ds = dataset.take(train_size)#.batch(global_batch_size)\n",
    "validation_ds = dataset.skip(train_size).take(validation_size)#.batch(global_batch_size)\n",
    "test_ds = dataset.skip(train_size + validation_size).take(validation_size)#.batch(global_batch_size)"
   ]
  },
  {
   "cell_type": "code",
   "execution_count": 13,
   "id": "210fd67e-fc3a-4f1b-a4b9-7c19a8032940",
   "metadata": {},
   "outputs": [],
   "source": [
    "train_sample_data = next(train_ds.batch(batch_size).as_numpy_iterator())\n",
    "validation_sample_data = next(validation_ds.batch(batch_size).as_numpy_iterator())"
   ]
  },
  {
   "cell_type": "code",
   "execution_count": 14,
   "id": "9a298d58-014f-498f-b662-7a13edc00ca8",
   "metadata": {},
   "outputs": [],
   "source": [
    "train_ds = train_ds.batch(global_batch_size, drop_remainder=True)\n",
    "validation_ds = validation_ds.batch(global_batch_size, drop_remainder=True)\n",
    "test_ds = test_ds.batch(global_batch_size, drop_remainder=True)"
   ]
  },
  {
   "cell_type": "code",
   "execution_count": 15,
   "id": "4aa7cedb-d229-415e-9162-b4ac9dc89fc5",
   "metadata": {},
   "outputs": [],
   "source": [
    "from ganime.utils.callbacks import TensorboardVideo, get_logdir\n",
    "import os\n",
    "\n",
    "logdir = get_logdir(\"../../../logs/ganime/transformers\", experiment_name=\"mnist_video\")\n",
    "tensorboard_callback = tf.keras.callbacks.TensorBoard(log_dir=logdir)\n",
    "tensorboard_video_callback = TensorboardVideo(logdir, train_sample_data, validation_sample_data)\n",
    "early_stopping = tf.keras.callbacks.EarlyStopping(\n",
    "    monitor=\"val_loss\",\n",
    "    min_delta=0.001,\n",
    "    patience=50,\n",
    "    restore_best_weights=True,\n",
    ")\n",
    "checkpointing = tf.keras.callbacks.ModelCheckpoint(os.path.join(logdir, \"checkpoint\", \"checkpoint\"), monitor='val_loss', save_best_only=True, save_weights_only=True)\n",
    "callbacks = [tensorboard_callback, early_stopping, checkpointing, tensorboard_video_callback]\n",
    "#callbacks = [tensorboard_callback, tensorboard_video_callback]"
   ]
  },
  {
   "cell_type": "code",
   "execution_count": 16,
   "id": "92b4a1d3-8c67-458d-ad52-ecab8390438c",
   "metadata": {},
   "outputs": [],
   "source": [
    "images = train_sample_data[\"y\"][:,0,...]"
   ]
  },
  {
   "cell_type": "code",
   "execution_count": 17,
   "id": "66be9456-796e-4618-8ed2-26257f58773f",
   "metadata": {
    "tags": []
   },
   "outputs": [
    {
     "name": "stdout",
     "output_type": "stream",
     "text": [
      "Working with z of shape (1, 128, 16, 16) = 32768 dimensions.\n",
      "VQLPIPSWithDiscriminator running with hinge loss.\n"
     ]
    },
    {
     "name": "stderr",
     "output_type": "stream",
     "text": [
      "2022-06-15 07:48:57.334955: W tensorflow/python/util/util.cc:368] Sets are not currently considered sequences, but this may change in the future, so consider avoiding using them.\n",
      "2022-06-15 07:48:57.808808: I tensorflow/stream_executor/cuda/cuda_blas.cc:1774] TensorFloat-32 will be used for the matrix multiplication. This will only be logged once.\n",
      "All model checkpoint layers were used when initializing TFGPT2Model.\n",
      "\n",
      "All the layers of TFGPT2Model were initialized from the model checkpoint at gpt2.\n",
      "If your task is similar to the task the model of the checkpoint was trained on, you can already use TFGPT2Model for predictions without further training.\n"
     ]
    }
   ],
   "source": [
    "#with strategy.scope():\n",
    "model = Net2Net(**cfg[\"model\"], trainer_config=cfg[\"train\"])\n",
    "#model.build(train_sample_data[\"y\"].shape)#first_stage_model.build(train_sample_data[\"y\"].shape[1:])\n",
    "model.first_stage_model.build(train_sample_data[\"y\"].shape[1:])"
   ]
  },
  {
   "cell_type": "code",
   "execution_count": 18,
   "id": "0aa12dd2-20a1-4760-b392-9f10eb3476a3",
   "metadata": {},
   "outputs": [],
   "source": [
    "from pynvml import *\n",
    "\n",
    "\n",
    "def print_gpu_utilization():\n",
    "    nvmlInit()\n",
    "    handle = nvmlDeviceGetHandleByIndex(0)\n",
    "    info = nvmlDeviceGetMemoryInfo(handle)\n",
    "    print(f\"GPU memory occupied: {info.used//1024**2} MB.\")"
   ]
  },
  {
   "cell_type": "code",
   "execution_count": 19,
   "id": "da5313ea-35c7-4f99-9413-10ed7771ef8d",
   "metadata": {},
   "outputs": [
    {
     "name": "stdout",
     "output_type": "stream",
     "text": [
      "GPU memory occupied: 3179 MB.\n"
     ]
    }
   ],
   "source": [
    "print_gpu_utilization()"
   ]
  },
  {
   "cell_type": "code",
   "execution_count": null,
   "id": "b183bb95-c3a4-47d4-ac27-3a6f0b268ece",
   "metadata": {},
   "outputs": [
    {
     "name": "stdout",
     "output_type": "stream",
     "text": [
      "{'loss': <tf.Tensor: shape=(), dtype=float32, numpy=56.734867>}\n",
      "{'loss': <tf.Tensor: shape=(), dtype=float32, numpy=56.74128>}\n",
      "{'loss': <tf.Tensor: shape=(), dtype=float32, numpy=56.74762>}\n",
      "{'loss': <tf.Tensor: shape=(), dtype=float32, numpy=56.753883>}\n",
      "{'loss': <tf.Tensor: shape=(), dtype=float32, numpy=56.760082>}\n",
      "{'loss': <tf.Tensor: shape=(), dtype=float32, numpy=56.766216>}\n",
      "{'loss': <tf.Tensor: shape=(), dtype=float32, numpy=56.772293>}\n",
      "{'loss': <tf.Tensor: shape=(), dtype=float32, numpy=56.778305>}\n"
     ]
    }
   ],
   "source": [
    "for i in range(10000):\n",
    "    print(model.train_step(train_sample_data))"
   ]
  },
  {
   "cell_type": "code",
   "execution_count": 20,
   "id": "da5dd8b1-39db-4d97-bc84-6ae46631a646",
   "metadata": {
    "collapsed": true,
    "jupyter": {
     "outputs_hidden": true
    },
    "tags": []
   },
   "outputs": [
    {
     "name": "stdout",
     "output_type": "stream",
     "text": [
      "Epoch 1/150\n"
     ]
    },
    {
     "name": "stderr",
     "output_type": "stream",
     "text": [
      "2022-06-15 07:46:56.790896: I tensorflow/stream_executor/cuda/cuda_dnn.cc:366] Loaded cuDNN version 8100\n",
      "2022-06-15 07:46:58.137964: W tensorflow/core/common_runtime/bfc_allocator.cc:275] Allocator (GPU_0_bfc) ran out of memory trying to allocate 38.25MiB with freed_by_count=0. The caller indicates that this is not a failure, but may mean that there could be performance gains if more memory were available.\n",
      "2022-06-15 07:46:58.138399: W tensorflow/core/common_runtime/bfc_allocator.cc:275] Allocator (GPU_0_bfc) ran out of memory trying to allocate 11.25MiB with freed_by_count=0. The caller indicates that this is not a failure, but may mean that there could be performance gains if more memory were available.\n",
      "2022-06-15 07:46:58.139118: W tensorflow/core/common_runtime/bfc_allocator.cc:275] Allocator (GPU_0_bfc) ran out of memory trying to allocate 18.00MiB with freed_by_count=0. The caller indicates that this is not a failure, but may mean that there could be performance gains if more memory were available.\n",
      "2022-06-15 07:46:58.139770: W tensorflow/core/common_runtime/bfc_allocator.cc:275] Allocator (GPU_0_bfc) ran out of memory trying to allocate 27.00MiB with freed_by_count=0. The caller indicates that this is not a failure, but may mean that there could be performance gains if more memory were available.\n",
      "2022-06-15 07:46:58.140101: W tensorflow/core/common_runtime/bfc_allocator.cc:275] Allocator (GPU_0_bfc) ran out of memory trying to allocate 13.50MiB with freed_by_count=0. The caller indicates that this is not a failure, but may mean that there could be performance gains if more memory were available.\n",
      "2022-06-15 07:46:58.140740: W tensorflow/core/common_runtime/bfc_allocator.cc:275] Allocator (GPU_0_bfc) ran out of memory trying to allocate 13.50MiB with freed_by_count=0. The caller indicates that this is not a failure, but may mean that there could be performance gains if more memory were available.\n",
      "2022-06-15 07:46:58.141319: W tensorflow/core/common_runtime/bfc_allocator.cc:275] Allocator (GPU_0_bfc) ran out of memory trying to allocate 13.50MiB with freed_by_count=0. The caller indicates that this is not a failure, but may mean that there could be performance gains if more memory were available.\n",
      "2022-06-15 07:46:58.141886: W tensorflow/core/common_runtime/bfc_allocator.cc:275] Allocator (GPU_0_bfc) ran out of memory trying to allocate 13.50MiB with freed_by_count=0. The caller indicates that this is not a failure, but may mean that there could be performance gains if more memory were available.\n",
      "2022-06-15 07:46:58.142439: W tensorflow/core/common_runtime/bfc_allocator.cc:275] Allocator (GPU_0_bfc) ran out of memory trying to allocate 13.50MiB with freed_by_count=0. The caller indicates that this is not a failure, but may mean that there could be performance gains if more memory were available.\n",
      "IOPub data rate exceeded.\n",
      "The Jupyter server will temporarily stop sending output\n",
      "to the client in order to avoid crashing it.\n",
      "To change this limit, set the config variable\n",
      "`--ServerApp.iopub_data_rate_limit`.\n",
      "\n",
      "Current values:\n",
      "ServerApp.iopub_data_rate_limit=1000000.0 (bytes/sec)\n",
      "ServerApp.rate_limit_window=3.0 (secs)\n",
      "\n"
     ]
    },
    {
     "ename": "ResourceExhaustedError",
     "evalue": " OOM when allocating tensor with shape[2032,2304] and type float on /job:localhost/replica:0/task:0/device:GPU:0 by allocator GPU_0_bfc\n\t [[node tfgpt2_model/transformer/h_._7/attn/c_attn/MatMul\n (defined at /usr/local/lib/python3.8/dist-packages/transformers/modeling_tf_utils.py:1931)\n]]\nHint: If you want to see a list of allocated tensors when OOM happens, add report_tensor_allocations_upon_oom to RunOptions for current allocation info. This isn't available when running in Eager mode.\n [Op:__inference_train_function_86097]\n\nErrors may have originated from an input operation.\nInput Source operations connected to node tfgpt2_model/transformer/h_._7/attn/c_attn/MatMul:\nIn[0] tfgpt2_model/transformer/h_._7/attn/c_attn/Reshape (defined at /usr/local/lib/python3.8/dist-packages/transformers/modeling_tf_utils.py:1930)\t\nIn[1] tfgpt2_model/transformer/h_._7/attn/c_attn/MatMul/ReadVariableOp:\n\nOperation defined at: (most recent call last)\n>>>   File \"/usr/lib/python3.8/runpy.py\", line 194, in _run_module_as_main\n>>>     return _run_code(code, main_globals, None,\n>>> \n>>>   File \"/usr/lib/python3.8/runpy.py\", line 87, in _run_code\n>>>     exec(code, run_globals)\n>>> \n>>>   File \"/usr/local/lib/python3.8/dist-packages/ipykernel_launcher.py\", line 17, in <module>\n>>>     app.launch_new_instance()\n>>> \n>>>   File \"/usr/local/lib/python3.8/dist-packages/traitlets/config/application.py\", line 846, in launch_instance\n>>>     app.start()\n>>> \n>>>   File \"/usr/local/lib/python3.8/dist-packages/ipykernel/kernelapp.py\", line 707, in start\n>>>     self.io_loop.start()\n>>> \n>>>   File \"/usr/local/lib/python3.8/dist-packages/tornado/platform/asyncio.py\", line 199, in start\n>>>     self.asyncio_loop.run_forever()\n>>> \n>>>   File \"/usr/lib/python3.8/asyncio/base_events.py\", line 570, in run_forever\n>>>     self._run_once()\n>>> \n>>>   File \"/usr/lib/python3.8/asyncio/base_events.py\", line 1859, in _run_once\n>>>     handle._run()\n>>> \n>>>   File \"/usr/lib/python3.8/asyncio/events.py\", line 81, in _run\n>>>     self._context.run(self._callback, *self._args)\n>>> \n>>>   File \"/usr/local/lib/python3.8/dist-packages/ipykernel/kernelbase.py\", line 502, in dispatch_queue\n>>>     await self.process_one()\n>>> \n>>>   File \"/usr/local/lib/python3.8/dist-packages/ipykernel/kernelbase.py\", line 491, in process_one\n>>>     await dispatch(*args)\n>>> \n>>>   File \"/usr/local/lib/python3.8/dist-packages/ipykernel/kernelbase.py\", line 398, in dispatch_shell\n>>>     await result\n>>> \n>>>   File \"/usr/local/lib/python3.8/dist-packages/ipykernel/kernelbase.py\", line 722, in execute_request\n>>>     reply_content = await reply_content\n>>> \n>>>   File \"/usr/local/lib/python3.8/dist-packages/ipykernel/ipkernel.py\", line 389, in do_execute\n>>>     res = shell.run_cell(code, store_history=store_history, silent=silent)\n>>> \n>>>   File \"/usr/local/lib/python3.8/dist-packages/ipykernel/zmqshell.py\", line 528, in run_cell\n>>>     return super().run_cell(*args, **kwargs)\n>>> \n>>>   File \"/usr/local/lib/python3.8/dist-packages/IPython/core/interactiveshell.py\", line 2863, in run_cell\n>>>     result = self._run_cell(\n>>> \n>>>   File \"/usr/local/lib/python3.8/dist-packages/IPython/core/interactiveshell.py\", line 2909, in _run_cell\n>>>     return runner(coro)\n>>> \n>>>   File \"/usr/local/lib/python3.8/dist-packages/IPython/core/async_helpers.py\", line 129, in _pseudo_sync_runner\n>>>     coro.send(None)\n>>> \n>>>   File \"/usr/local/lib/python3.8/dist-packages/IPython/core/interactiveshell.py\", line 3106, in run_cell_async\n>>>     has_raised = await self.run_ast_nodes(code_ast.body, cell_name,\n>>> \n>>>   File \"/usr/local/lib/python3.8/dist-packages/IPython/core/interactiveshell.py\", line 3309, in run_ast_nodes\n>>>     if await self.run_code(code, result, async_=asy):\n>>> \n>>>   File \"/usr/local/lib/python3.8/dist-packages/IPython/core/interactiveshell.py\", line 3369, in run_code\n>>>     exec(code_obj, self.user_global_ns, self.user_ns)\n>>> \n>>>   File \"/tmp/ipykernel_14/917087675.py\", line 1, in <cell line: 1>\n>>>     model.fit(train_ds, validation_data=validation_ds, epochs=cfg[\"train\"][\"n_epochs\"], callbacks=callbacks)\n>>> \n>>>   File \"/usr/local/lib/python3.8/dist-packages/keras/utils/traceback_utils.py\", line 64, in error_handler\n>>>     return fn(*args, **kwargs)\n>>> \n>>>   File \"/usr/local/lib/python3.8/dist-packages/keras/engine/training.py\", line 1216, in fit\n>>>     tmp_logs = self.train_function(iterator)\n>>> \n>>>   File \"/usr/local/lib/python3.8/dist-packages/keras/engine/training.py\", line 878, in train_function\n>>>     return step_function(self, iterator)\n>>> \n>>>   File \"/usr/local/lib/python3.8/dist-packages/keras/engine/training.py\", line 867, in step_function\n>>>     outputs = model.distribute_strategy.run(run_step, args=(data,))\n>>> \n>>>   File \"/usr/local/lib/python3.8/dist-packages/keras/engine/training.py\", line 860, in run_step\n>>>     outputs = model.train_step(data)\n>>> \n>>>   File \"/GANime/ganime/model/vqgan_clean/experimental/net2net.py\", line 193, in train_step\n>>>     logits = self.predict_next_indices(\n>>> \n>>>   File \"/GANime/ganime/model/vqgan_clean/experimental/net2net.py\", line 161, in predict_next_indices\n>>>     logits = self.transformer(inputs)\n>>> \n>>>   File \"/usr/local/lib/python3.8/dist-packages/keras/utils/traceback_utils.py\", line 64, in error_handler\n>>>     return fn(*args, **kwargs)\n>>> \n>>>   File \"/usr/local/lib/python3.8/dist-packages/keras/engine/base_layer.py\", line 1083, in __call__\n>>>     outputs = call_fn(inputs, *args, **kwargs)\n>>> \n>>>   File \"/usr/local/lib/python3.8/dist-packages/keras/utils/traceback_utils.py\", line 92, in error_handler\n>>>     return fn(*args, **kwargs)\n>>> \n>>>   File \"/usr/local/lib/python3.8/dist-packages/transformers/modeling_tf_utils.py\", line 726, in run_call_with_unpacked_inputs\n>>>     _requires_load_weight_prefix = False\n>>> \n>>>   File \"/usr/local/lib/python3.8/dist-packages/transformers/models/gpt2/modeling_tf_gpt2.py\", line 758, in call\n>>>     outputs = self.transformer(\n>>> \n>>>   File \"/usr/local/lib/python3.8/dist-packages/keras/utils/traceback_utils.py\", line 64, in error_handler\n>>>     return fn(*args, **kwargs)\n>>> \n>>>   File \"/usr/local/lib/python3.8/dist-packages/keras/engine/base_layer.py\", line 1083, in __call__\n>>>     outputs = call_fn(inputs, *args, **kwargs)\n>>> \n>>>   File \"/usr/local/lib/python3.8/dist-packages/keras/utils/traceback_utils.py\", line 92, in error_handler\n>>>     return fn(*args, **kwargs)\n>>> \n>>>   File \"/usr/local/lib/python3.8/dist-packages/transformers/modeling_tf_utils.py\", line 726, in run_call_with_unpacked_inputs\n>>>     _requires_load_weight_prefix = False\n>>> \n>>>   File \"/usr/local/lib/python3.8/dist-packages/transformers/models/gpt2/modeling_tf_gpt2.py\", line 467, in call\n>>>     for i, (block, layer_past) in enumerate(zip(self.h, past)):\n>>> \n>>>   File \"/usr/local/lib/python3.8/dist-packages/transformers/models/gpt2/modeling_tf_gpt2.py\", line 471, in call\n>>>     outputs = block(\n>>> \n>>>   File \"/usr/local/lib/python3.8/dist-packages/keras/utils/traceback_utils.py\", line 64, in error_handler\n>>>     return fn(*args, **kwargs)\n>>> \n>>>   File \"/usr/local/lib/python3.8/dist-packages/keras/engine/base_layer.py\", line 1083, in __call__\n>>>     outputs = call_fn(inputs, *args, **kwargs)\n>>> \n>>>   File \"/usr/local/lib/python3.8/dist-packages/keras/utils/traceback_utils.py\", line 92, in error_handler\n>>>     return fn(*args, **kwargs)\n>>> \n>>>   File \"/usr/local/lib/python3.8/dist-packages/transformers/models/gpt2/modeling_tf_gpt2.py\", line 256, in call\n>>>     output_attn = self.attn(\n>>> \n>>>   File \"/usr/local/lib/python3.8/dist-packages/keras/utils/traceback_utils.py\", line 64, in error_handler\n>>>     return fn(*args, **kwargs)\n>>> \n>>>   File \"/usr/local/lib/python3.8/dist-packages/keras/engine/base_layer.py\", line 1083, in __call__\n>>>     outputs = call_fn(inputs, *args, **kwargs)\n>>> \n>>>   File \"/usr/local/lib/python3.8/dist-packages/keras/utils/traceback_utils.py\", line 92, in error_handler\n>>>     return fn(*args, **kwargs)\n>>> \n>>>   File \"/usr/local/lib/python3.8/dist-packages/transformers/models/gpt2/modeling_tf_gpt2.py\", line 169, in call\n>>>     if encoder_hidden_states is not None:\n>>> \n>>>   File \"/usr/local/lib/python3.8/dist-packages/transformers/models/gpt2/modeling_tf_gpt2.py\", line 181, in call\n>>>     x = self.c_attn(x)\n>>> \n>>>   File \"/usr/local/lib/python3.8/dist-packages/keras/utils/traceback_utils.py\", line 64, in error_handler\n>>>     return fn(*args, **kwargs)\n>>> \n>>>   File \"/usr/local/lib/python3.8/dist-packages/keras/engine/base_layer.py\", line 1083, in __call__\n>>>     outputs = call_fn(inputs, *args, **kwargs)\n>>> \n>>>   File \"/usr/local/lib/python3.8/dist-packages/keras/utils/traceback_utils.py\", line 92, in error_handler\n>>>     return fn(*args, **kwargs)\n>>> \n>>>   File \"/usr/local/lib/python3.8/dist-packages/transformers/modeling_tf_utils.py\", line 1931, in call\n>>>     x = tf.matmul(x, self.weight) + self.bias\n>>> \n\nFunction call stack:\ntrain_function -> predict_next_indices\n",
     "output_type": "error",
     "traceback": [
      "\u001b[0;31m---------------------------------------------------------------------------\u001b[0m",
      "\u001b[0;31mResourceExhaustedError\u001b[0m                    Traceback (most recent call last)",
      "Input \u001b[0;32mIn [20]\u001b[0m, in \u001b[0;36m<cell line: 1>\u001b[0;34m()\u001b[0m\n\u001b[0;32m----> 1\u001b[0m \u001b[43mmodel\u001b[49m\u001b[38;5;241;43m.\u001b[39;49m\u001b[43mfit\u001b[49m\u001b[43m(\u001b[49m\u001b[43mtrain_ds\u001b[49m\u001b[43m,\u001b[49m\u001b[43m \u001b[49m\u001b[43mvalidation_data\u001b[49m\u001b[38;5;241;43m=\u001b[39;49m\u001b[43mvalidation_ds\u001b[49m\u001b[43m,\u001b[49m\u001b[43m \u001b[49m\u001b[43mepochs\u001b[49m\u001b[38;5;241;43m=\u001b[39;49m\u001b[43mcfg\u001b[49m\u001b[43m[\u001b[49m\u001b[38;5;124;43m\"\u001b[39;49m\u001b[38;5;124;43mtrain\u001b[39;49m\u001b[38;5;124;43m\"\u001b[39;49m\u001b[43m]\u001b[49m\u001b[43m[\u001b[49m\u001b[38;5;124;43m\"\u001b[39;49m\u001b[38;5;124;43mn_epochs\u001b[39;49m\u001b[38;5;124;43m\"\u001b[39;49m\u001b[43m]\u001b[49m\u001b[43m,\u001b[49m\u001b[43m \u001b[49m\u001b[43mcallbacks\u001b[49m\u001b[38;5;241;43m=\u001b[39;49m\u001b[43mcallbacks\u001b[49m\u001b[43m)\u001b[49m\n",
      "File \u001b[0;32m/usr/local/lib/python3.8/dist-packages/keras/utils/traceback_utils.py:67\u001b[0m, in \u001b[0;36mfilter_traceback.<locals>.error_handler\u001b[0;34m(*args, **kwargs)\u001b[0m\n\u001b[1;32m     65\u001b[0m \u001b[38;5;28;01mexcept\u001b[39;00m \u001b[38;5;167;01mException\u001b[39;00m \u001b[38;5;28;01mas\u001b[39;00m e:  \u001b[38;5;66;03m# pylint: disable=broad-except\u001b[39;00m\n\u001b[1;32m     66\u001b[0m   filtered_tb \u001b[38;5;241m=\u001b[39m _process_traceback_frames(e\u001b[38;5;241m.\u001b[39m__traceback__)\n\u001b[0;32m---> 67\u001b[0m   \u001b[38;5;28;01mraise\u001b[39;00m e\u001b[38;5;241m.\u001b[39mwith_traceback(filtered_tb) \u001b[38;5;28;01mfrom\u001b[39;00m \u001b[38;5;28mNone\u001b[39m\n\u001b[1;32m     68\u001b[0m \u001b[38;5;28;01mfinally\u001b[39;00m:\n\u001b[1;32m     69\u001b[0m   \u001b[38;5;28;01mdel\u001b[39;00m filtered_tb\n",
      "File \u001b[0;32m/usr/local/lib/python3.8/dist-packages/tensorflow/python/eager/execute.py:58\u001b[0m, in \u001b[0;36mquick_execute\u001b[0;34m(op_name, num_outputs, inputs, attrs, ctx, name)\u001b[0m\n\u001b[1;32m     56\u001b[0m \u001b[38;5;28;01mtry\u001b[39;00m:\n\u001b[1;32m     57\u001b[0m   ctx\u001b[38;5;241m.\u001b[39mensure_initialized()\n\u001b[0;32m---> 58\u001b[0m   tensors \u001b[38;5;241m=\u001b[39m pywrap_tfe\u001b[38;5;241m.\u001b[39mTFE_Py_Execute(ctx\u001b[38;5;241m.\u001b[39m_handle, device_name, op_name,\n\u001b[1;32m     59\u001b[0m                                       inputs, attrs, num_outputs)\n\u001b[1;32m     60\u001b[0m \u001b[38;5;28;01mexcept\u001b[39;00m core\u001b[38;5;241m.\u001b[39m_NotOkStatusException \u001b[38;5;28;01mas\u001b[39;00m e:\n\u001b[1;32m     61\u001b[0m   \u001b[38;5;28;01mif\u001b[39;00m name \u001b[38;5;129;01mis\u001b[39;00m \u001b[38;5;129;01mnot\u001b[39;00m \u001b[38;5;28;01mNone\u001b[39;00m:\n",
      "\u001b[0;31mResourceExhaustedError\u001b[0m:  OOM when allocating tensor with shape[2032,2304] and type float on /job:localhost/replica:0/task:0/device:GPU:0 by allocator GPU_0_bfc\n\t [[node tfgpt2_model/transformer/h_._7/attn/c_attn/MatMul\n (defined at /usr/local/lib/python3.8/dist-packages/transformers/modeling_tf_utils.py:1931)\n]]\nHint: If you want to see a list of allocated tensors when OOM happens, add report_tensor_allocations_upon_oom to RunOptions for current allocation info. This isn't available when running in Eager mode.\n [Op:__inference_train_function_86097]\n\nErrors may have originated from an input operation.\nInput Source operations connected to node tfgpt2_model/transformer/h_._7/attn/c_attn/MatMul:\nIn[0] tfgpt2_model/transformer/h_._7/attn/c_attn/Reshape (defined at /usr/local/lib/python3.8/dist-packages/transformers/modeling_tf_utils.py:1930)\t\nIn[1] tfgpt2_model/transformer/h_._7/attn/c_attn/MatMul/ReadVariableOp:\n\nOperation defined at: (most recent call last)\n>>>   File \"/usr/lib/python3.8/runpy.py\", line 194, in _run_module_as_main\n>>>     return _run_code(code, main_globals, None,\n>>> \n>>>   File \"/usr/lib/python3.8/runpy.py\", line 87, in _run_code\n>>>     exec(code, run_globals)\n>>> \n>>>   File \"/usr/local/lib/python3.8/dist-packages/ipykernel_launcher.py\", line 17, in <module>\n>>>     app.launch_new_instance()\n>>> \n>>>   File \"/usr/local/lib/python3.8/dist-packages/traitlets/config/application.py\", line 846, in launch_instance\n>>>     app.start()\n>>> \n>>>   File \"/usr/local/lib/python3.8/dist-packages/ipykernel/kernelapp.py\", line 707, in start\n>>>     self.io_loop.start()\n>>> \n>>>   File \"/usr/local/lib/python3.8/dist-packages/tornado/platform/asyncio.py\", line 199, in start\n>>>     self.asyncio_loop.run_forever()\n>>> \n>>>   File \"/usr/lib/python3.8/asyncio/base_events.py\", line 570, in run_forever\n>>>     self._run_once()\n>>> \n>>>   File \"/usr/lib/python3.8/asyncio/base_events.py\", line 1859, in _run_once\n>>>     handle._run()\n>>> \n>>>   File \"/usr/lib/python3.8/asyncio/events.py\", line 81, in _run\n>>>     self._context.run(self._callback, *self._args)\n>>> \n>>>   File \"/usr/local/lib/python3.8/dist-packages/ipykernel/kernelbase.py\", line 502, in dispatch_queue\n>>>     await self.process_one()\n>>> \n>>>   File \"/usr/local/lib/python3.8/dist-packages/ipykernel/kernelbase.py\", line 491, in process_one\n>>>     await dispatch(*args)\n>>> \n>>>   File \"/usr/local/lib/python3.8/dist-packages/ipykernel/kernelbase.py\", line 398, in dispatch_shell\n>>>     await result\n>>> \n>>>   File \"/usr/local/lib/python3.8/dist-packages/ipykernel/kernelbase.py\", line 722, in execute_request\n>>>     reply_content = await reply_content\n>>> \n>>>   File \"/usr/local/lib/python3.8/dist-packages/ipykernel/ipkernel.py\", line 389, in do_execute\n>>>     res = shell.run_cell(code, store_history=store_history, silent=silent)\n>>> \n>>>   File \"/usr/local/lib/python3.8/dist-packages/ipykernel/zmqshell.py\", line 528, in run_cell\n>>>     return super().run_cell(*args, **kwargs)\n>>> \n>>>   File \"/usr/local/lib/python3.8/dist-packages/IPython/core/interactiveshell.py\", line 2863, in run_cell\n>>>     result = self._run_cell(\n>>> \n>>>   File \"/usr/local/lib/python3.8/dist-packages/IPython/core/interactiveshell.py\", line 2909, in _run_cell\n>>>     return runner(coro)\n>>> \n>>>   File \"/usr/local/lib/python3.8/dist-packages/IPython/core/async_helpers.py\", line 129, in _pseudo_sync_runner\n>>>     coro.send(None)\n>>> \n>>>   File \"/usr/local/lib/python3.8/dist-packages/IPython/core/interactiveshell.py\", line 3106, in run_cell_async\n>>>     has_raised = await self.run_ast_nodes(code_ast.body, cell_name,\n>>> \n>>>   File \"/usr/local/lib/python3.8/dist-packages/IPython/core/interactiveshell.py\", line 3309, in run_ast_nodes\n>>>     if await self.run_code(code, result, async_=asy):\n>>> \n>>>   File \"/usr/local/lib/python3.8/dist-packages/IPython/core/interactiveshell.py\", line 3369, in run_code\n>>>     exec(code_obj, self.user_global_ns, self.user_ns)\n>>> \n>>>   File \"/tmp/ipykernel_14/917087675.py\", line 1, in <cell line: 1>\n>>>     model.fit(train_ds, validation_data=validation_ds, epochs=cfg[\"train\"][\"n_epochs\"], callbacks=callbacks)\n>>> \n>>>   File \"/usr/local/lib/python3.8/dist-packages/keras/utils/traceback_utils.py\", line 64, in error_handler\n>>>     return fn(*args, **kwargs)\n>>> \n>>>   File \"/usr/local/lib/python3.8/dist-packages/keras/engine/training.py\", line 1216, in fit\n>>>     tmp_logs = self.train_function(iterator)\n>>> \n>>>   File \"/usr/local/lib/python3.8/dist-packages/keras/engine/training.py\", line 878, in train_function\n>>>     return step_function(self, iterator)\n>>> \n>>>   File \"/usr/local/lib/python3.8/dist-packages/keras/engine/training.py\", line 867, in step_function\n>>>     outputs = model.distribute_strategy.run(run_step, args=(data,))\n>>> \n>>>   File \"/usr/local/lib/python3.8/dist-packages/keras/engine/training.py\", line 860, in run_step\n>>>     outputs = model.train_step(data)\n>>> \n>>>   File \"/GANime/ganime/model/vqgan_clean/experimental/net2net.py\", line 193, in train_step\n>>>     logits = self.predict_next_indices(\n>>> \n>>>   File \"/GANime/ganime/model/vqgan_clean/experimental/net2net.py\", line 161, in predict_next_indices\n>>>     logits = self.transformer(inputs)\n>>> \n>>>   File \"/usr/local/lib/python3.8/dist-packages/keras/utils/traceback_utils.py\", line 64, in error_handler\n>>>     return fn(*args, **kwargs)\n>>> \n>>>   File \"/usr/local/lib/python3.8/dist-packages/keras/engine/base_layer.py\", line 1083, in __call__\n>>>     outputs = call_fn(inputs, *args, **kwargs)\n>>> \n>>>   File \"/usr/local/lib/python3.8/dist-packages/keras/utils/traceback_utils.py\", line 92, in error_handler\n>>>     return fn(*args, **kwargs)\n>>> \n>>>   File \"/usr/local/lib/python3.8/dist-packages/transformers/modeling_tf_utils.py\", line 726, in run_call_with_unpacked_inputs\n>>>     _requires_load_weight_prefix = False\n>>> \n>>>   File \"/usr/local/lib/python3.8/dist-packages/transformers/models/gpt2/modeling_tf_gpt2.py\", line 758, in call\n>>>     outputs = self.transformer(\n>>> \n>>>   File \"/usr/local/lib/python3.8/dist-packages/keras/utils/traceback_utils.py\", line 64, in error_handler\n>>>     return fn(*args, **kwargs)\n>>> \n>>>   File \"/usr/local/lib/python3.8/dist-packages/keras/engine/base_layer.py\", line 1083, in __call__\n>>>     outputs = call_fn(inputs, *args, **kwargs)\n>>> \n>>>   File \"/usr/local/lib/python3.8/dist-packages/keras/utils/traceback_utils.py\", line 92, in error_handler\n>>>     return fn(*args, **kwargs)\n>>> \n>>>   File \"/usr/local/lib/python3.8/dist-packages/transformers/modeling_tf_utils.py\", line 726, in run_call_with_unpacked_inputs\n>>>     _requires_load_weight_prefix = False\n>>> \n>>>   File \"/usr/local/lib/python3.8/dist-packages/transformers/models/gpt2/modeling_tf_gpt2.py\", line 467, in call\n>>>     for i, (block, layer_past) in enumerate(zip(self.h, past)):\n>>> \n>>>   File \"/usr/local/lib/python3.8/dist-packages/transformers/models/gpt2/modeling_tf_gpt2.py\", line 471, in call\n>>>     outputs = block(\n>>> \n>>>   File \"/usr/local/lib/python3.8/dist-packages/keras/utils/traceback_utils.py\", line 64, in error_handler\n>>>     return fn(*args, **kwargs)\n>>> \n>>>   File \"/usr/local/lib/python3.8/dist-packages/keras/engine/base_layer.py\", line 1083, in __call__\n>>>     outputs = call_fn(inputs, *args, **kwargs)\n>>> \n>>>   File \"/usr/local/lib/python3.8/dist-packages/keras/utils/traceback_utils.py\", line 92, in error_handler\n>>>     return fn(*args, **kwargs)\n>>> \n>>>   File \"/usr/local/lib/python3.8/dist-packages/transformers/models/gpt2/modeling_tf_gpt2.py\", line 256, in call\n>>>     output_attn = self.attn(\n>>> \n>>>   File \"/usr/local/lib/python3.8/dist-packages/keras/utils/traceback_utils.py\", line 64, in error_handler\n>>>     return fn(*args, **kwargs)\n>>> \n>>>   File \"/usr/local/lib/python3.8/dist-packages/keras/engine/base_layer.py\", line 1083, in __call__\n>>>     outputs = call_fn(inputs, *args, **kwargs)\n>>> \n>>>   File \"/usr/local/lib/python3.8/dist-packages/keras/utils/traceback_utils.py\", line 92, in error_handler\n>>>     return fn(*args, **kwargs)\n>>> \n>>>   File \"/usr/local/lib/python3.8/dist-packages/transformers/models/gpt2/modeling_tf_gpt2.py\", line 169, in call\n>>>     if encoder_hidden_states is not None:\n>>> \n>>>   File \"/usr/local/lib/python3.8/dist-packages/transformers/models/gpt2/modeling_tf_gpt2.py\", line 181, in call\n>>>     x = self.c_attn(x)\n>>> \n>>>   File \"/usr/local/lib/python3.8/dist-packages/keras/utils/traceback_utils.py\", line 64, in error_handler\n>>>     return fn(*args, **kwargs)\n>>> \n>>>   File \"/usr/local/lib/python3.8/dist-packages/keras/engine/base_layer.py\", line 1083, in __call__\n>>>     outputs = call_fn(inputs, *args, **kwargs)\n>>> \n>>>   File \"/usr/local/lib/python3.8/dist-packages/keras/utils/traceback_utils.py\", line 92, in error_handler\n>>>     return fn(*args, **kwargs)\n>>> \n>>>   File \"/usr/local/lib/python3.8/dist-packages/transformers/modeling_tf_utils.py\", line 1931, in call\n>>>     x = tf.matmul(x, self.weight) + self.bias\n>>> \n\nFunction call stack:\ntrain_function -> predict_next_indices\n"
     ]
    }
   ],
   "source": [
    "model.fit(train_ds, validation_data=validation_ds, epochs=cfg[\"train\"][\"n_epochs\"], callbacks=callbacks)"
   ]
  },
  {
   "cell_type": "code",
   "execution_count": 42,
   "id": "5b0cec6e-b287-49d9-8848-ed32d695e3d8",
   "metadata": {},
   "outputs": [],
   "source": [
    "generated_videos = model(train_sample_data)"
   ]
  },
  {
   "cell_type": "code",
   "execution_count": 43,
   "id": "3d399fa7-3a52-466d-a742-04f00816cf2a",
   "metadata": {},
   "outputs": [
    {
     "data": {
      "text/html": [
       "<video width=\"432\" height=\"288\" controls autoplay loop>\n",
       "  <source type=\"video/mp4\" src=\"data:video/mp4;base64,AAAAHGZ0eXBNNFYgAAACAGlzb21pc28yYXZjMQAAAAhmcmVlAABGqm1kYXQAAAKuBgX//6rcRem9\n",
       "5tlIt5Ys2CDZI+7veDI2NCAtIGNvcmUgMTU1IHIyOTE3IDBhODRkOTggLSBILjI2NC9NUEVHLTQg\n",
       "QVZDIGNvZGVjIC0gQ29weWxlZnQgMjAwMy0yMDE4IC0gaHR0cDovL3d3dy52aWRlb2xhbi5vcmcv\n",
       "eDI2NC5odG1sIC0gb3B0aW9uczogY2FiYWM9MSByZWY9MyBkZWJsb2NrPTE6MDowIGFuYWx5c2U9\n",
       "MHgzOjB4MTEzIG1lPWhleCBzdWJtZT03IHBzeT0xIHBzeV9yZD0xLjAwOjAuMDAgbWl4ZWRfcmVm\n",
       "PTEgbWVfcmFuZ2U9MTYgY2hyb21hX21lPTEgdHJlbGxpcz0xIDh4OGRjdD0xIGNxbT0wIGRlYWR6\n",
       "b25lPTIxLDExIGZhc3RfcHNraXA9MSBjaHJvbWFfcXBfb2Zmc2V0PS0yIHRocmVhZHM9OSBsb29r\n",
       "YWhlYWRfdGhyZWFkcz0xIHNsaWNlZF90aHJlYWRzPTAgbnI9MCBkZWNpbWF0ZT0xIGludGVybGFj\n",
       "ZWQ9MCBibHVyYXlfY29tcGF0PTAgY29uc3RyYWluZWRfaW50cmE9MCBiZnJhbWVzPTMgYl9weXJh\n",
       "bWlkPTIgYl9hZGFwdD0xIGJfYmlhcz0wIGRpcmVjdD0xIHdlaWdodGI9MSBvcGVuX2dvcD0wIHdl\n",
       "aWdodHA9MiBrZXlpbnQ9MjUwIGtleWludF9taW49MTAgc2NlbmVjdXQ9NDAgaW50cmFfcmVmcmVz\n",
       "aD0wIHJjX2xvb2thaGVhZD00MCByYz1jcmYgbWJ0cmVlPTEgY3JmPTIzLjAgcWNvbXA9MC42MCBx\n",
       "cG1pbj0wIHFwbWF4PTY5IHFwc3RlcD00IGlwX3JhdGlvPTEuNDAgYXE9MToxLjAwAIAAABoFZYiE\n",
       "ABH//veIHzLLafk613IR560urR9Q7kZxXqS9/iAAAAMAFpyZZ6/gm38wCgYb/G7gYPysP313Yzqy\n",
       "MKvmj0xVmtm46ansMvt56vR1EMJiRIVPbmMl8VHikwXRsQ061QefZ5dcoWHCk1Na5ARI6uc6FoWS\n",
       "UqNyaM3UAoIHxDjdNHQUEJq+rIo/Ukycs6XtdQZQ33/EZE9xbIS1JERU9SIZMVyrYLUAnWBUV/CV\n",
       "5j9N3ka+XJJl9heZfIZjnebLmZsdilvtslC4by64yeT82SuFpMrDrQ/iwV1hSLUfrXuoSJ/wdEjf\n",
       "I2QNEku1xGtRm6610Aqp3ItRgHizGSFo5Y38btQmDGBlqq5+rdqmNPj5WZ3QOhnFwF0CJecIvTck\n",
       "UcFW4SmqvhJ4JiLYQ5L08uU6dgBj5ldho/kNal2Rx25Y0PTkPKdhOugtO1RIj5ouSZ1Cb/uJbBIq\n",
       "KpOIlNOZZMAc09bC+WWJwd+OcrzvRNndb2MDTaIxNBZfRgMr0CXojVfg7UyN8AbsSRAQF1Iq5cdo\n",
       "MzG4hTNLcervQP2HfPU8fKtxSw8gB8vEjlNQjb15ijyNhCx/fztThtujwsojsJQZe8Fa/lha55d6\n",
       "FNKju3nwIKZadVpdflf/pamArIFwBBcScRSMEhO1xUc4mIFR4Z3sixPnjUb6yiNuIrUOh3MPn7Ts\n",
       "36Tl36byMYovMSVHmwYlR3ddt6+rFA4Y06CrtUo1I1ZvpZ2svKT0CNOJFCfXqv56nTD4ykgleHLx\n",
       "5b/t7bBUSou8zlQK+LB258pwpvaEJmeCOGxbtMgT0Xr6YCVo/zCjv9oT2XVFXBBZo8uHvt/vs53d\n",
       "OQTHDQIFZm8WSlr3Moz6tVynTExy/4v8lSGTqoUTYRTI0kdt1swTc1glgDAnWQh/jj6iROfmBqxu\n",
       "REEdccXVFWRs4YlkFtr4Gc5yW2v7+/bfHmVqLATTTvlwA4nBODp2adL7TYUM+IAyWFMgcjMCCH9W\n",
       "mXlKAHa4v7nAE9d+yhwqV9sRYivHOE5ylxbQQ9vTtxurIk4gtQhSJU1AIvfdytbMUgkiBqsJwKLN\n",
       "0SGf9sYCa83zVzkvnVp2Bwr1wEyr8e+D03NMFhutTtk1wDiCXEnd4WRZTQCvaRKhFGCdADvkpUM3\n",
       "jn+VGv19pdFaTzue9H5Mzo9gFKs/okrzlNziOGc+qdHps/0ICGsdQRTgb1S0/bP0PaYhihwaTmWa\n",
       "BVlYjppBm0iyuLLTcJoScnlc2GDdYYsbOYqAHzbZrQFwAQts2OccAQpQaHMgBmHUmJflZHnQ0Hph\n",
       "1a8SNNYeA1lP3JdJxu1y0fdQ8V35KQAQ32w10RszqI+WdkvpPHbxAee+zLJQCOkSwBaLMT2dSzLM\n",
       "8c9kA3R9brY8JOnR6uZyx5nKn48x/XE913qh7DUjVyZWdpe4UfHQwqIA0vxG/voR6H7TJhSkgR61\n",
       "/gCc0loC5Z7dCTULZxNrPpqW4sy4KUROgfOdcm1B86gOFSo0CggEMgUBMqpVm189qHw9mPQl/Z3o\n",
       "KrxTIYStf8F5EMwfk79PczhUShBx8/7YDSPsO9xkPJmLrjpZOPfZxWdifbH9OoGFTB0yfdHKOrYR\n",
       "5VRRFurxObwbveKC+jg+/1khC4IxooodQcsVGPBPuiPCaQv67ARE0FhKYxNTfgfaGVWXnii7R7zu\n",
       "kKaJYO+s/wSEF03BOgJAH2qHhyYAH4VRB8bghO+9/KYw1Da+8i5n7DomSEt/Zm2rjwYczPbK2+XZ\n",
       "74NeArjagC6UgWjcx5mFqM181qTkzoyAxdfQ4jVt171H+OHJQJ6hmom7haR+aaAfTdNmYs6/UqX+\n",
       "AbK6mWjjri/HzH1qsoHDjEK836HeE2vWTLSrTkL9uF9iCDMYt45L3zJ6woFlQKB+u1Sncl3qQUGr\n",
       "5q/fPZW3cyvwnpayv7h5XvWUZTVfOF8QgaHXvtLMP0mQEjwOa7NIKOLB5K8E37miF9YGH1o7cy2k\n",
       "sS3G61rQAJZIIY3CJtg/OeWDUX05XYo+vTsldoAgt2AD7z3sWSsIcREZbDpxB95pizIJBi3iAysK\n",
       "2WYufENHC6MqG4NQUSarsW04id0BerL97qdv9LCw/onrn94d44crqTKcAIS+q7SuXgGkcdLFbk2K\n",
       "nqdiq671yRCCzTAkV1RMBmAvf5lFczYQAVYpM/60/YpHh9rUJqQi+ZLRbiPBptbYM7hEXNPfJeIP\n",
       "logVYUOUiOEWcObK46oOqNh3aUvFZUmer+F9eO0JQ/scBhpsWTrMjb5LHPwsntk2woI0D5H+3oQB\n",
       "/7YOMG9jC7G79L9HWLLElVn75N3eEqnyp+UPUF027f2lFdLbwOa9zx4vn7NnD6SbZ8wqIRqWDLej\n",
       "Z9spvPYcwlzTJRLdZhD+4BjBS5si2ZiN3l8TXXNtQD6uHBZfJtHJsnMDTY6tZMxIuHlO1C2BrXXR\n",
       "tbMQOGGjfM7FTPfdohdBzk+OrK4PNWgAqWiX8BfdugkwQ83h9IeJbplOqUDjsY8+1XO1R/y0ZyCn\n",
       "pYXcWEKTqQqlUhoIAiuGbjG7UJ8gvLjvd+0WyWC/92CntWtHilnKH3SrM1Xz3p0kXF/I4Z0NdYaH\n",
       "Tof/ykadtaPwOagjsESk3nThztFvWykg4Ku693PJf3/7xVjxufZ45wv9mryfousO4/+t79dttcnh\n",
       "b1xo+O/7s3mq3OMHA8AcEKGLzWV3MH0rHKHa6eWPhfOIvKb5IWWokk/+jO72lJnDz6X+mZh0fDNW\n",
       "aWw78mFOtdOdhbvaoh969dnYCgqK1rHOqKKgBJy1khXp5dtoXHpFTd4EBny1CrcWRJ5bz4Cw/hSu\n",
       "NRFLrotl7qODpJYhhyYCv7ZWbxBY/ErAM7DjyBVPZujsdQZihz/gKQnETLZ8uhXggMwJMW8JNZcM\n",
       "Tc91dv0uilM0+Y+ZPYdG63Ww8S2m7RwWK/7deKSKSAeBS898H/eZFd9Y/UeRfd8g9Tc9Oqknpujs\n",
       "ocdgUGNcuq5jM7ZUymWI3rWaBd3Xpk/RtzuJkNKGMsKKywmZVobToOKFQiOTTP+aMdeoMA5c0cv9\n",
       "64oHnlAXWpX32e7kN9tgp0yIocAAGDwUxDLUCWcKq6rPrOwYbb/z0f2uXHfZVQ9bI533cth4s8D4\n",
       "M7luOSphXj+DOS3yV4yIvTxCktC24Tgnm5Dj64h1m+y4TMBuAH0AOsY7bxjb/B9Ndm5lQ6ACcFnm\n",
       "iL3lOlP7CNUGOZRRPmhphJRMfwKvqh1cLuA8+aEN57PVV7r7QvxrAffvmbs6uvSz9a8eb/uvFBSR\n",
       "i08Nj0iNhNTFoG4y2yRvcMgB6cb225ylJAEpwE6sLVPiVKjaQjvX0yJ+7UCkjtZhhZ5BsWtNDxlZ\n",
       "fY+IYdMaP4euMP0LCJlXTi1FbGI6nrcgEFB9mm9zZChcDje+XsLa0txmRElM4vZ0406s0aCKZOoL\n",
       "G0tuJyHsLNnRmsv8ikvJFLAR4fITBX1X/i721UFY+sMCuVlFARFsNUvusJtUfVm5psM6CDwJIzHi\n",
       "H8efshEWzpa7tgqKDW/FbXG2FwRdvXEFyf39RbMXdTu69bAE0cwV6mYFT91Zr1aztGhpdD+lbeiM\n",
       "/7Xuo04QR2Yn0WdtUC70z7KwXXNp2Ky4+Ox0a58wQBgoIF6VtlwZJ+4ydBEJTYUTq+bQScPD6PND\n",
       "m8prFZkr8hMKIFDQeXyj3/orZvWZqcALa5GZsRVvyExH7eorWfkE6LHlxcV4kEa3tzC/cYka6QhC\n",
       "qfDVNTTBy+YJ1bGeZwy3PuWZy+XufKVyqehMZ5P6Qx50KpWpZYQDbq8rkoKWpp7L3QpHcXDtsBYD\n",
       "jlxddNbYZ5qG8LFpemg7lO2tCLl+J7D1P699kC6Z86VNjfHKbq1GTI//byAQygQxNG3V62EuyfDO\n",
       "2G6TCJq79Khx9kEtHn46gt2PVRcaRkQr9BDoSoxy/dvdyUIqkYYypKXyV9qbXcowcWsEjqmiWaZ/\n",
       "f7FzhCRUT5VlMrjbHmZmlYsj65zg/VJdJ1G6iL+mwQOdaUUnhNGzl+FTDjWHjA2g296gsiULXSUl\n",
       "5iZH9ViVAqA/3mu7ZLDTtELPytH6ZnsW24re9SrNgdKrbemOjZPPeMNrcqXJAQhhRnHcdZW6AXhN\n",
       "13JiP2FsmI23h6XPsfQfQ324CyB3MPB/3AQrI96139q7+R0cvyRh5RRzi8kwpxynNskIBFBj1mPn\n",
       "nA1KxJxKg0b9Cj26VIAq8D9FZQZx9xozOGddm+5ossYF4Q+cQAAcWeX6kbofbQFuIMVNWc5qrHsE\n",
       "lJ79uJ08zyz7KDF2B93Fjnh4RSwId5ops1JGIuH3P8JRQx01N2XnGDKKA//cFlVswZzR8j++SXj3\n",
       "ooi74fnnWSlBqDGdtTyJi/SGQI5QGHnlhRl8MpYWGrTSifRtTODNjJClkD2OgGvqj9NgaVOBPMgh\n",
       "AGW1eyUK4Wsmtlj+lxk2EZ9MD5gly9yl/hHpterrDgLQ5HMCYmMbrbzDLOB2SVkVW8BKOP/O6lbg\n",
       "j9r8XCNrKcwokVFfoqKJK9Y+OXu9e5xYjSHbYAKvY1rkdyhiwY6wfaoq1sJSw1R27b6e0+vyxIDW\n",
       "2cv1sI0O2qlkhEwemp28uPRi+bW1W4H8f9LTSqlZROVMLMiVtlvTJsSRgyULs06tCytDIDHWfUHi\n",
       "9SXIMTZeEABZCN1IgAcyVLOdtaNZgAnloKgDqiFx5AokDJUEGOdQiy5YiL+m3J7AAmZyJkhUEAEj\n",
       "WV3b74JYG0vh3foW7pRsJVfxuc5RhjXhEd2QJx3Wigx9VF0AQV6xR8gFPn5S0gnYEm2kqlw6kZje\n",
       "bC4G3KPXyOp/QiYV8qQ2021017cVajsJz7h4TgV6SOpWAqRFKqJ8ma5GotDSwrALU2P7oTTjtbrY\n",
       "MeSh9RUFENgtLxuSdhjNJoqJ3LH8eY7e3BtJEYvha6PkTyeTizVda8ro/u6hCm0zXHRJiSKvc+fT\n",
       "2Qx/2KEXSLaytNgr8ZN9/ViGdbZ4EIi2PWD786Z8b547rs20EemN110d8Okod3GTXYbonJaFTQTu\n",
       "gvuw1xIhIVLM6QUqgzsMxpa2DX1TNI4ZOcpOjeS64tRldpVwkYkINrgmyP+/T/1LsRcCQTCK4Tjr\n",
       "BLXTxodQWPgZ3fJfqoLyghW0a3C/DWCnpNc8Ptel1AmeTlQ06lEFmQMDyDCMcNObHzETjTI240mw\n",
       "A6ZjQKN36y47QRPaRIRBuvWt6EtuSP+ejb7XfaEGETvjtnS+Sik/sm2EAI90h1RMHqY4DUVU+hyr\n",
       "CKz2v3CqY3Q6seglgRna2eNwzvie5HTzWAPDUAYKx9RQNNHLAQym4oZ/TDB6j8mThC4vDcadlD09\n",
       "8nQPZbevATocAOwZRQNiov3t2HTdDTcBL4jj7P/rwFdnAOhno7mJvfhNHs5YOYu41oleu/HP/+C1\n",
       "kVvihVsxkQJNCgROr5SODVjiBX9hG5heRadbg+EkXi456gWGa4WYIE3kPAvoUw0XtmiNz+tpsF/u\n",
       "aNu/yS0dxO4vzp2f72OBSo/qlPHI6Q0XVH/4vAQqEKoKHj8LdGK8D0jQ4kVrM7Qc+SYsiMGIF5x0\n",
       "OVLGnF89hyrNVJyCa86EoIrpvOduNwtXGm2wai86LgTeleESkt0p1MeS0fx5QFTmHm4j/VwnHTIg\n",
       "VoDGq/KxVOyckchdDm6b3vNdRIgDpx9KWcwmKajXJ4zFQNjGqfkTF3Q40xdE6uvL46MZFkhRUdHm\n",
       "Y69Jeepja7xs43o6K/KdSF2ONUIY/2R6WshRPnFH2tskyhlrhhJH3S049qyBtDfAoIvAW0yQWWkq\n",
       "pIavDHE87RosLtLitU8Unk6tBjDfzyTpVunFIC77ssV9bWlGWuXVcxmdc8493aXe7OmyU5eb+Gc1\n",
       "zXQ24epc4SEadO+O69FkfFFDBzfKZMLdWdONr1Au8P7paMBl786GcTkkQADtmvfATnWt9Lkjg5qI\n",
       "xwF6fJmQRQfyHSJKr5fXdf2XxDWKUIa8PJyo9lUYz2XWkrU+PEBan9oT9alC1LtnscqwULevoucC\n",
       "uRIpsoNgtZawl9vBCC3cVdyXq4ITZN2j5vuNTMBibN5luheuvAwil4Lh87CNT8bmEKjT9A/RNr/Q\n",
       "qPxMqjTc+wSkC0fpFC5DROtSDQ3SmQ8H2HpG0yvFO9JcyLgwZ4kK7OdNRsN+wBMKFGxM19qeYIzs\n",
       "XKqDjMAhG5s8iczM9NuMhnVWOuTvTFGv0MUwRwwKhgB5LCGvjSg5EmmpMYAJCv2dMHPpaC6O9enM\n",
       "590RoUKp8Rm+fTXMt7Ml3Ts/3fWsijOpKDeXVcqcrrCp1yRzU7lhiGn0KCBIvSSwqRYWXPiSr01g\n",
       "e1l+/DC2FkLdKVUTFdvzkfQ7E/fCRCDsgX5jCYVtAyiasAJWmoAF/eHAoKQpDZxnmdtQDgKhjuWR\n",
       "DrzHJp+bvSiLl5598b5TiKX+I4ht7hmgbCnxGZ4EFuHyyD8g8o8uEq7gkIQXT4ZK03VMqYDz3Kwg\n",
       "j5NOJLmvPlwsWxtgWIGMZY2e3cnuk3BUCKTPaWD9nIWaOfV5klfoaB4TbTf6xHzoqiYTu0omDedT\n",
       "upzEy66bCM7vW16uBJ4WTf8IXb6R5SlDJZzTNCcC3f3ufB6FrdDoySkbZYailxPaN/CDGHL196wP\n",
       "WIjflqP4oyIBCTpdqJnDv4vlk7GSE+HjGVHGaEyf9FenxXXaIuuDxlvyXJP83huZYf9+jQ9GppwO\n",
       "qTKvW564e94J93Gkbx5Ffyezw/08NNe6Vb3+qLwP4B0La3jKY7wX4QN4mWtkvayUR99l/gkezn0N\n",
       "cPsyDrCHaZnPMpZI/335dNJUWk6/xM0xTOu16/FpqcHdMrnAqAuI/pAgHqkeK16NU2rPPK0Vcs5p\n",
       "pvFIv3sG82UdZ3ihlYS1q880Efnilg9omno4zEXpRGllBQ4htMmk9Z+dz8Yz93IXd9sGM6GjQuxm\n",
       "qoqCfZn4VmYlk3yezLODI8LHkbxIw9+aIv6zpstrKXPC1u46Co00ySoVGwjaA9C2/YMoiA3XAmbz\n",
       "rRYm62Ak/nGrvrHBmnaHpm54U5++gFujQ8o8DXfS+oSU4oMusRFJfg/TRFoVriREMd55h5M1Q1gi\n",
       "MWxYtVawoUKE0CIDbZPxciJLPRouDTjHaPD10CoCdGrV7hJQSCSig5MFlh7NfuMzqVzt2/Ls2Hau\n",
       "VnAEB+W7xC+I7Y2J09aKJlXr/cY00+kc0nRgurxzjRL6F52BQtbHBKA51Y+Ae4X/UqcPnxCqUl94\n",
       "6ska2RksGF5ETMixsxtNX71H23xCL3v/2cD/POT4Pq/9UTxWUVnfyoiF5B082/c2D1YaJWQycsdW\n",
       "SUL1dYr8vULBMaBpVDpak9zU0Iayet36tX3Z9fKowAclNiYqDhm5PN7Z/qKbSOrxXb4hIZB4ZjxR\n",
       "RVVI0uSetBtuZtVu8PLcHchK83duWTSHO5C1w8vpFtz13rlXPDy/akWjt5PpUwNX4cZkSnOKKQVD\n",
       "Gk5+MWaMWWyMfITKHqAG/xMEbtrJ+LknUhQwXGSxhCPDdgtf1IsMUiwSXgKZIWDeT3F7/TAvyxor\n",
       "rWmZRBv+Fpm/+50c1vfTbgKgx+//bKQd/gmvfkFlUWFy5KaDWVxyAWoG2lf6d03WtoBqnfoXKkcQ\n",
       "GDsIz7FSC1MhL0wPeJpB3AGlq5NQMgX7BCz/zK+plUo4K3Go8vMeM5AJKAyS4Ez2OVgnnk855lo6\n",
       "tlMfIPjMDC/zGOckw80ynZQpDJNps1iutn4oXHonYxbqx1pcnzGCuNIavb6HFle6gEk0byizV59p\n",
       "9lRp1XwSGRELwaogSVFhuQQv9p6cEzDNtXvCmov7ol41yAAIiS2mHYiGi8EZDs+xp6TK6hD2CKGQ\n",
       "XYQJiTcvAcKwwYwTIS/VM00MeX9dgietocxABRQ6AtN7lj061HtLaGGWEChTfxW8LQ9EMMTdOua4\n",
       "/KI2VXzg+6XPyHqHEB0yLQWRpG1foSeTTbP4k3Q5je15XFBp1NkNE75Zlp3wgd3jGW2RR8C6sR3R\n",
       "fRdrXn3h6pgbOuLxb55jZaBCvsmLpDppS50/Woo20ZeINCxKzZ76EdFEUM9UsYQE54VmOHTPHg+M\n",
       "EHqTsQauTJbfcz8v16Tvy2CiN8nrhiMS59/msT3bACXvkTXRKbcXjQEfwt2KEGcBW/pe8l1yb6Yd\n",
       "u4vao9JaTuWN6lS/0KzDK6lF4lf6zZlpdA0V5/9ZCt9idgB/3KGXL5VaU9cL3Bp9JY+OXZ9wz84z\n",
       "RFjhdcxQzInTSHQrwVrv3H3RI+7Sc7dbFOTy/HL4kePc5T6NRnKfbc6uGn9QtnB8iBvbhs9XEG7V\n",
       "2ToXxeXmp/LTAkMcQQqmjrym9knfOMymrDtFRi9k26cXRvJGyj6C7Nb9fWgBtvCSKloUOEyeljLf\n",
       "qQrrySeHYXKR8rGc3bsJiQWGapTlWm7ZFbGENPPIHVKSjAfGxlru34Rtq6wkYEhBfUMoJ4olASUF\n",
       "yWow3wqESUEy2NKnOFoFV9U3nmrNh1BSru3dArDFoJcU5EG1Hn9PU75vHcD2asdU8sHYGUwbB6++\n",
       "IQtE+5iYgTJ798x/nQdYRkZDQ9hb82hWB9n9iSJPrLF0uFIuliDRv5Z/FEWhyyjtVGwIX0ff8rNn\n",
       "8CMTGFlb6wQSQBP99qpKmFMgh15SEdqyAUF5u3sViRDblmQ+I+RgD+YNBf/BXQG6nJaHRJXX5dVs\n",
       "jEGrYwds7R9654KJkRIT9z18Kety9ndg0Hu2S+/mtH3ndpgyYoZpbPwYZV+Us8yHfBy+j5wE5Sj5\n",
       "/cd5HOUl0x0pDUE/icl2D9bLXu9IkJeJoM+dKqqXiiocrwJ4Xkjtzn5hJi7v9ohp6W0u1inbpfu6\n",
       "YsDb0xC5sDMm6Wque9DhtaQsOMl1wKveSPHzU98rK/vPN7RowGxALgAQuABKQQAABaRBmiRsQR/+\n",
       "tSqAHM1aEALcPcIJ2R2pNYNTIiD/6rvv7q4EGUz8ffq1JJMBdRcJDKRV5XwhO4Y9jmT/3baJ6di7\n",
       "NhSCmLtByZuTiNX0AzT0Vh5X8Erv5kGNNJf5thiN3TEepZj+tWvW4fSlViP2bQ/CiFrhZ9jMhZ2N\n",
       "4ASkHYxppfgI+yrfLM/8XKC89WduzQYJdkCuPnL+t0N+na5OULQEv1yltyRUHWYijlEHJuMj3yEF\n",
       "txD537/BANlXstjOhAgH4Kd6c6hG/Uq/bmiTyLOv+A7hzFN8PjeYfKypzdiZwx5AmY5rGxT4VsfQ\n",
       "+svPXuFb++oQoVDZPfjJptzT415utXwUVcwtGliCrdpCAflDHAOrrWOQQ1dKXIi45hid7Qx4aPRv\n",
       "8k8+ryUNgmJ8YGq5MQy3c6R2KJW1YDXeai2tXy56waQE0sDZZ/asfLvvZ7a60nb+zUjkvfcON2oi\n",
       "qS/QkhfrykF8yUfC2VaqyBfEWhMswfBcBgntJY2YbUuoJYMH6i3LiHrWNlrAANOz5RPrS0uvAsq4\n",
       "oRFeIrNKeKVqbBwgmo3cHp5Xj0m/qxXOFsKfVor5YaqZaYuxZprmL8IWPagdNUdAFs0o35ibWP9c\n",
       "U5GK5qN9vBoqNIw1c9MM5hwU89KAFDqdwiBT4EYdZQ/IdlAEmH8KqQC3sfQxo/OIT5qmz8GlNOAt\n",
       "ZCdFWY6eI6Gz9Sb8dqipPf++TeXjRmo+1l779fYhPsGdEOElDYOiMA198cSK2yKVcY0I08ZfKXaA\n",
       "NZx9lbTtZBTfD77EV4/DjgveAItvKyyalX2Wqfpy/RLPmWey8UCw6lwcpknByPlm/mIdgFeXdBo+\n",
       "UU85rzo0gxdgLvwv3+S/WotpRc4vGj2y4PoNw0Vu1eItjPm2NG9wTVeEsHK7FOcHaqCwqUSLMrXY\n",
       "pH1HSIMH2F+VAe+75ybNbVjvx+QYo+4+zLrT5rnJDTLepSxeIWY+pO/dcMhVGHC/5dzVmzvzqphZ\n",
       "26DQTY2KXcQk+ty+IiZjV2yvZpabAEon8odgX29gIIPj8yD5EKKtyvUtQQ15GDBRviFjqYtRrlSf\n",
       "5NKn3sZ2rnC8vgclkrsjVAqTd9goNgJM31RI2SO4udcP8mjqCL/eRKhODIU4cpWblww+oNT+QKxS\n",
       "DXm9UKBXE5T9gGzflwvCyrYcVYyvwtJBBBBaim1FdPEHHbtUOgTDw+OLtARwd1Jx8jpzWyy9hqDC\n",
       "O0lrRNe3mhQ2owBm5U1EohUV9gQ3nHLhR2ATYN6k0cQd89g2s5iXHLe4l/D1lOKL9U5Jxwkyfiz8\n",
       "gD53FS93dCucJQ/dp8x9t9IShJtXJSGVDGkGQ1uWpcVtt92juxCMDXJpB2yjzuGPRHDvxjH2HH5q\n",
       "97rB8F3kUsYxW2n5LFF9SSuH1feaUPQVOIT/wYCVJ4ZdUztEk8FD/Rp2D+N6ypoESfeZYOCYk3Tl\n",
       "KQDA2Dc1VpHn9+99kRvM2500cMkL4H9fJlpKVk7KAy54HqhetMkKQsE2FLnbZ/aN3GJNqbQAFCoZ\n",
       "4Gdt7+iHrMiSIe6v9ikpoNIOYOe/NoiGI9fGQKn0zYoiWZuTpfLKpWmgS0mi/dH9zwRk/WuRI8lb\n",
       "UPGgAaGiYkphy3gYHc+EBedM+38Pow0W69GeFMRPLmNARvMNF+l//SS2vU5ari7QUhvmjmZoaM4X\n",
       "7xNcfKBMe16RE9wHoX18WwMmFHiCLwM88+S+5DrFRFWznHX+aMoeUB3v7eRvBt4fgJpJYQWcfqEr\n",
       "8qqwDinL6o3iVk2Qr+GvCpydtN2O40JQAyVErbvElIl/q7nKXrqouBnBsa2j4x+ngQqQiR+rmP6+\n",
       "FxIW84glQwJUb/IARZ/GkAaaB39RiaCRe+no4YUqznON5FyjqSi9frVc+uqBFzg4Tf7e9VT7PmWC\n",
       "YRLOQpuDdRwQgF/AAAADlEGeQniHfwBlRV3U/cADKeJiksGvlHxfbVF+KwYp+Jf6pjjqt1aWahuY\n",
       "h64NyxGrH5lAH8GRB46nBhq/Ccp2+ZzYkOjWEM6cYTKCteCWgqcLgy+D14zbxpASEUYz0jTUymnn\n",
       "miuDl0AaUY5Y89cpBj4Rjiixq0NsuI1t07sDyafRIZ6/wfO8Re6N5yhD/zV7fVmBPmeN8bjBfyif\n",
       "RLtHw/pyc9Dgl2zcl5aWWYL23QK2hF14T8rIklet0bNNYYtggD96akME7PeL9RXCzNWLj9r7yXjJ\n",
       "6/KAEahcBM2LV7RBEcOQhMyBExdzKZLLEDrQAPl+m3P1PfUWhoh25dzuJhqLiyZ+NMhTNbQ8W+7i\n",
       "i+fe1TgnNxt8IU6a7kPd2JTg8TTgR6iYEGc7x4oBTE/98pKrWF7UVrpyFpqP/0btGK2EnGQaLcWv\n",
       "/2850/JstvHNcnj7ezSxibaL3qMTCqIXTY6yhSCKEdwCyMpOQ9KaTAqQTGB8eQ3Y2DmB7ud9Hm3n\n",
       "m93DboxGU8cY5QJYJ/WzPnD/Igtjs2CWUdRPKaUc0DONtp/b1yZ9w4uPZ5904ZoSLxH4Hj67plSw\n",
       "JI06FQ/iywozkzXT3+4mwAdDYc7CEE+zmtMM1AiBquP6Hv+1/1Z2mnfUIOa0h+fYKrgty8ZNW6M6\n",
       "2hSNffDdM1nS3Bq21DZGlaUZVmRgC4B/5aJ926CpK7tCKSYuRwOSrqHcWt1u9vmy02YOPMa1YcZ4\n",
       "o/IoFh5W2wQm47h+LYWtvpkJzZLSXWVhNO6UTicRywu+0YxxGZD8JKuqKfxjQa/l8r+vqN9HnFKE\n",
       "ZpaWUomcRtsNLlPOxb0cf8dm0GC/hW65XNU0wFYZWK0LRbDpZPyLReD6HFfWzJV7OcK1edWDrHbw\n",
       "2WsWMMlXzA4rmfARnjf3n02BX/hKC/xmdDyOhpyft8J88jEoqfy3bacJ5bumah/v/U5/hlw+4PtQ\n",
       "ELj1HxajEsXXQD7YBUTddGlzviJhmgG78H90AxWlI84ddp/6K03if3MqIBzz3Qk4hlkIo1U3n+2u\n",
       "iykOdVZutK5KrlEPqyXvw9BmAubkNuhBTNlo/Gm7KOfrJr712/ci54SfNsUVSNfmCVUJcyFAcEM/\n",
       "JnjwDjzd7LAD//PwPLDMfzMGVX9E0n4uOzzkjXGDuT6C9iug3Ng9yQdaIGSIq2g076xd3pejtiHc\n",
       "4bgFFbFuKrhLGRYZSy1XNI8GoK8AAAMUAZ5hdEN/AQHeUf3agKC/YqqWIgRCvy+gAAmiQAF3+6UO\n",
       "OwQPLzhVw7qiEom+ILoKhKMASPSyuCa+myptddzaKmha6cBitGibZWhxrMR7996XWWf3ZrJGAP6H\n",
       "gQXMgNCPrInbAZiFzR4RJwUi5DDHdZ2qOhE+gtWg//qfKhU7paWC17OU+CSRK0DjXYl9fBrOIASl\n",
       "qrylw/tYFjTzK2l3mBdCK4aqkj7hB6T8rdaobDvnMmQB8EqJWDbXbe3MI/1/7DFFFaV+4CKKDdEI\n",
       "TE+UUc7M1Zc1tnVx+5rveEI8TjwbBaXqdCP8c2gP3xzp7vURjIrMGI+geL4PypL5Jh0gsxzpZWJE\n",
       "lRCqlMdU5rELScZqLdivdYdifsUXl/RinG7rwr1ikqgcj+GPvkrECr/91pn2+5mpB0/vsioLdbca\n",
       "HXGnEYPFlehEx4HZ/gIimiIqH0DvkfhgWGODJZfPcyNjVXg8evfetjxTingN2wXDbyrBEMQF3yC2\n",
       "339GNUGao7YvTp1LKae5EzVAgWA33NPjKDV8XnKD0g+1oc0t16SKiJ1dLBxl+WhnD+B922ldzMdC\n",
       "ZikWD7QCkgGgiXUBC8t7zbAt321DOEaDnOzC6gPtG2T8u63RH85RLVe+qkyoooPkCs36NFEY/yms\n",
       "a81tERCr3quJz9qxpvha+0KSgzzWpeobRzQcBQwBgQWzD2+WZH4AL6ej+Ngd2D9LErvbYDmQlDzL\n",
       "4YqhjKIlftvnCkl7/AWU1yd2qyWDO4juXe4BT1Vd7SbTrk28l+IK/tSMG/in+fcl8Qnw73yeUC/I\n",
       "8VUcei5Y0zZah8gGnEJJWP5rbhMjvh90rABfpOAi51jn6CDzzqcKBWcssMnUIb5OZ86YzlyaHPxW\n",
       "3w1t4+8NfS8Wfb5fWteqCMEcwNN0H8d8GHnE2XFcwd1Seo09kVlMIAG13tbESO+OzR0JcX+TWnd5\n",
       "LAeVaX9q+kE9oXZLslO5tSE41WcZClCpZO+vg8PVqpNDz9oEpQluWYLWAaS59sc0TbQQpVIGnmX4\n",
       "xvYTxDzdJB12yKZUMuAAAAKAAZ5jakN/AQGOGQiOpKfeHkZgDloDOVp7JnlQwQ/98CjWRHEJDsBC\n",
       "StOuuWR32fQNfEIYwKPCute0oSVgtXLqkV0vCgttJ9KN3A1UCp7iyzazOwfftvSo7Z6K6HIcG/7o\n",
       "YH3vMFIPhCjutLjPLO+EbT1Bq+h6V0eujDQACH06iJr4oUmJPA40cFVDW0heh04bfBkAkrPNSxFd\n",
       "U/0IunqeZsueB/5cDn8eFTm4B7MMy6C9Y8St4aA0PJpKqtEp8sZsR0jHisR8wEVpmcgeiul1kW5g\n",
       "+ZkGxxvBU+1HGivDd0pRMO3GpGamrn/6twSuRnd+LtyP/xg86XBEXVP/2lwApACy76oUBQIf352o\n",
       "jcuwATW3dvLjp8Qw3YkOiBQO9WRNt2h1Z023/O+kSvwiQyoK02JcQh2y0cEKjep5R/pb3B7aMihM\n",
       "vLZRHv/2B2tW/AANOSeF9ImB3OtcGsaeW5dWF42f9Zqi20fwLw1cyTBCr8h+Xp8jHDX1OeUIRZWI\n",
       "v7Z8U/jEq/RS3yu2ptz/Y0n/0F/kBqbLeOPb2nM/+bGGa98huCuTjmaUyUIbsINeb2MLt+UwnTjh\n",
       "ErStXZu3sGvM8P4at29NOLJ3/lyNg+TTevFi/0QdSgBgdZ0/FtNl0lmZf9PQVpRcXzA0vMwiTHiu\n",
       "Ty99+klgmw+glLZvQbFTr4gOWnyZVf6Kyik4wILzsSb1qFmKCyqrEujJoMsT21iF2k+gCPNUvZ8Q\n",
       "A9d0fA0cEwKcSwdZS2yS9jCls3vVWqROlsWqnsBrnlWwdOnS3AAFY/RC8j0uD3AktfIf7KSnitWd\n",
       "+fPLo3Ob+NpPjqQtTA4yHk2Urvveg1Qss+OfUzwXsQAAA+tBmmhJqEFomUwII//+tSqAHHZpQcjN\n",
       "AAti+MQRKztcceAG4ocJHqDIZe9RmWbnoHx1vTal3EJNE51tCvRhDhx7iWBp9MbC09R/sGpAYzGb\n",
       "Am9rUPEUb3xenjmUfb13lv0nUp1E8bBMDE9PFIWa8sMZUBWnudSlO1hQvnBaB/btmTG5QgJnrA/r\n",
       "pjp1teBDuNvk/a4FoQ6JTxP4jtc4GJ7i3D3sPNKqYaPaGPMVAx2U/sCT/SAgFOMykNj6UYmszj7o\n",
       "WQtVGrNxs1l1N8QRIRy7LdoQ+ZnBU1+nmrcpCzo96rHoADlBe5bdfvGSjLw7rq6V0ZiWj2NyDm2S\n",
       "aUMlrAmeIIeDlmVGnD36LWW96neDMySqobeBJzwKf4RGx8xceHSRulfiWKdaRqHgJf3DQ79xT4rK\n",
       "tWW/coxprWQTmx/a3YA6wpdS+ce+FjxPISp/c78nOTVsL5O8QdVrHo8C3rt9gndpwVQFWw7zZ+R3\n",
       "pjyo3Rz64uLBykF/Mgv8s1Yl9FRmnvDNHZM2dfnWd9jwN1sq5X7SmWcX1L0berMMYuM1dYYWNYNc\n",
       "oVoUlap7y7UYs2b1Zt/5ONrr4PwSGqvZ9sBI84ob6t7H//y6zuO/PBLSImmuiawKu9oVlYnNOwlr\n",
       "r1XqOoFO5XMPNTH7qi9OVZPQWT9kY0s6K2lHAlzmOZki/iWGzRiVONMr36+g0KNbWpQ7ps8uPZg6\n",
       "QNUNcnXz68h+0Sbm4JH5OOq1MUoA05f74lBTr+pLDr96MzeqNhqJYr2o13ANrjy7kn3RGibuntUn\n",
       "kLJAWsHdgoUSf+9zl24pwYo+9Z5ncm2VnET5GQMcaFSrOWv+LZsTPqH3RgxbtZgLby6RYYuUe5Ij\n",
       "+hAXjQ1DrIsiWLyj0dmgqD5zl1bULo33mMSxllAZjzEI3vP0WLfzbPVcnUT7FyUv2D/zUZPZAHzE\n",
       "EKgKyvOU72RayOUhobjQQpJOaVTQmRDOyfotAdB+Q0DaiDy7QIkNrD/KTDbS/cU73C0b74gehJQg\n",
       "W8LCJxwexWOyYJKlbYYM4cxmZ6qrjcWsGP/s/fNmxaeHkCCxPtP9wfdPzhDRomGLg2LAHSOys5xR\n",
       "U/dBBOv1vffEQmRaqAE2w38NVJR6ZqYdUB30LeZwP7pOEs8SEgGyRpjgmMBzRdaIIiu35AQWOzv6\n",
       "W6Tn/Ox4eKHnBCLr6IvMdJuVWwSh6mfjVIVuXNp6QkYWqpImz8chdN2GSRQPzdYVcrWZCoT/3sPc\n",
       "MC8vb1VVw/rz4S8VN2+V4TY7Cs+g2fL1Stm7HXQYDknVQbjAJf0Bgumeq8ZOhw+7SkLL+pGhPQ0o\n",
       "UUy8G9fS1lqw/+EPAAADNkGehkURLDv/AJaCU9Gm86AP9ABCTsDjGvLhTXeLgl0B/jnS5/faq09g\n",
       "abw3T1Ax4FMbR5J7OwQ5BjDNt3GfQ03J386+JiDwZLmVPmvNXHHeVS/CoYR5+q5NLvoYPhHIgyV0\n",
       "8dLLhD52o5Fp4JvAP0TAYbBtPHkimZt0MjPxchBO34/mcg5i8AGwzguLx5BZKdxYjXit6Mif7SaI\n",
       "7glfn90D1pq9MfPIIs7KJj01pmNgSCykk7Cwnz+iR27JKlUZSd6HY7gCuaX4qaR+5F7Ha/jnYiro\n",
       "yvX0zsr3D7xgHnzIYZB4pKP3uiLm1Vv/RAHxVtXXfdIr6y0Icf9Wsl1NMmi6WL4EDr7a6RK/TQo7\n",
       "rno/Ue/kgi8dEKUgAX4/P1/rjoFDLRt/+KF7jWRGjVF4Pj6kMmE2VaNKDQijZIDd1ccWw3nk5DVp\n",
       "xDc1wLTnPgIxmJh5GJl2xyD7wOTln9L4x4XTWgWd222b9wg0wCOOm0z1LQ9daMJM49uEKcE02Kt0\n",
       "nzLw5zAzGIQ5xPal33UlqesHEhSSOhbOZgOoY8x18jvFz8MGQ9pDOWJIdXsBjSszMZfHSrS6hqb1\n",
       "BuJrZWPo0d7O0L6kZvoZdozbQ+OxNOAhFZAEImwxHTfzn4aHnETtVpYCUMyPC66ZVz5U2RKOh42v\n",
       "F03mGuP1MU1P7q4gt+BK859Wm/6H7Mf9djThbw2IOphOUPALDcTZQoucK17D1phmhkh46v46TjbM\n",
       "QwJMBNfXXRKaSCh5QudHm6Z1kNM2v6Fmz4SSbQw/bY2tw60S8x2FhDVwpmgoZCc6cPwBca/cmDsw\n",
       "S+hOiBngaIPPPqkopy8Um1IqB3BnhoL4v/FO2111DGrnldfDZe16VyduO18DuUn//kXO1Q4EmYmq\n",
       "76glB/g1uaurpok2ciAkoh8c4gr0TvRjlCv9+UKtqnoTh1hEEuZ1QJjVDItCd2O7FV8Xe/QVP9wz\n",
       "hgttmQf7YFznmSpP70AHFtf31bsZVX7BQpvrjgYhrxDamgEAO00MsYcO918aK+ZhNgnwd+aAIi68\n",
       "1N0Ln1Ntac/9mfJir8qfJ76egEx6hRMIgvpQcY35YGzYUUNkvpZ+DwAAAiQBnqV0Q38BGtldvi3y\n",
       "kpx6rMAG/FJYZmmUWpXtijmH536jtBHA4+006Lo1Pm5W8J0dRNaWXqpbrane0+ISXZG3Bbejyi4C\n",
       "IDzVAvy2FxDvo3371jG/ct8YC/SLpxsi/0M2Wif7+Cn0RgGKDLVIwZW62CZyqpOVhWNjsxLr3Gf2\n",
       "tg2k7xvb79T9QkhvR7N85/nVFM53lOfSdvH996sH8e3WJGJhGCfeSLRkKaTB0LSmU1BGIWDzBMtS\n",
       "806NZk2SCtWToHg1WR8lEjcKktm9WFAvXymBexmyrPFymkFUYoaY+/yztYnWOSDB+q3VUCqFa3EW\n",
       "aWJgU8RRTUUC3mfgzd6PW6ZSyqpvq3RnmWs070kPG3kLm4/AmTM0sN6dwq+ru6RZhgogIc898HcS\n",
       "hUta/n93jOF9uPrXgHujft9AJ1lWrebFHFGnIHvzY3PNtQ5FsMl8ltbtyJu5sObnYwJEwmHCNyiP\n",
       "7XVBfaJjjJ1W2ky90FjwQ48wBGYJAj/pud7rD4hKKRu0uLoAjQXu/gJeiIM/qfFN55pa7GG/PFs/\n",
       "CIV55nLFWRfM3cEWGet0muaXlLoyoBuk8OV3Dv+IzprSPSXF9ew0EFYoA0MtnIq7szJLIBGsdQQI\n",
       "bU8NYcFJmR26g84KJJLanSE3IURr0dnKRD7aY2ca1l1/9hed9FfBbpt0mTvhqr9E216wpI6j0tKz\n",
       "cRSda7LL34Vkjqj84FKz2EIwsVLQsQAAAjYBnqdqQ38BGnol3xEoIgAyCKhmmzEil+buAeZyK/7+\n",
       "HHMJcXAddHw/FRM1N+nqo0eWy1q6qNen6AlZ0nvQ0rmnvS9nDbjgXRwBkEbmJfKczJ1BdawQd3Iy\n",
       "mDYbS2joiThEQR88ew11DzfhhjFA1Lp3mmGTKV71dyoN8J3dlvEswa1pfniLpb+fE4TvyXwjuGy3\n",
       "WBi83AKcflSBl2KaRlLTXt+pntwBa1ODuW0pADBa1Jjo2aFuFj3LSnMvJHIix12cJUrr/42DuT7R\n",
       "yr6mfDQczxlLyTQggLeoyP/sBkdiJftFJWZ7BbS+tvzHnyKJ6ArypbYJxBGm+MlTbgzKdRoUv+VZ\n",
       "hmAkzEu8crXbr4WL/t4683VnfKief4BPbmjO+CraM1Yi1jKHfvCYVnnddi4NnjzuYQQEYNZG/Frc\n",
       "6kJsBLzmlIWEzTgM++ZzSWNJCX1gNfLaO3zpo10KrlHNGoc7INSTSMcVquyNkDFBAPXlypiCB+ZO\n",
       "QWBSefj/8Us9w1HG7iZ+KLKlklMnWffEzWD79q2Hs5Y+CjNW2pd1N7UTyyYjAsQxPYg0aO2798sl\n",
       "fi/QYvB5/XvOtHBujCZ/LGDW8H3m/OzX57GGJZSVFn905bhBUFmbTw3/t+4VDx1JIWeoeMo20jXO\n",
       "O0HePNeYnKrLCB/x6cRzpeMpy3Y+H0y+PPg2u1BduZZDzH7ayLY6mHc++5tnUJvCNKXffGobJerb\n",
       "zvmTeqfmHYoQoR0zRPTl6BZWRErHPAAAA3xBmqxJqEFsmUwIIf/+qlUAQWA+AAPjIL7ODVad40gr\n",
       "3CxJEyX8yXs3HMt5GGAI8uErdnZiVOJPMB2+Kp/YT0rP8b2MEz5y4jMhoGLABcLFRU6yGdW0f6tm\n",
       "/Wvb0gjjYuQLzYUrqKGgVZIfN14Qq9uGLedjxFEi7rE7ONv6nNNGBDKlmTySZG2MLAZQ3j49nKhV\n",
       "cwlnOxWKV+Q8/wqMb9BA+itumpZX3lOXWkqdW/lIKYZID/6+ciiCnB/bFYe6FHDpgt9oAWfHi0Aj\n",
       "9Raz8bHxJ00+Mdnvpe7LujelIowRusKp0qI+wnMTTN61cy7bNVuDbKNmFYz+P0HimL1RhOtjeyzG\n",
       "f0EJnQncCcsWiB8BgRvXBp78g+V7KR7c9wBMfzPPdQFAR3Oap+lp3dTeG3Yh5NNvr6wK4I/7ON+U\n",
       "LdZC9L+t14KQDyDH3yhdLszr3VWOXJu9c48sb9rpaU6kgPM3eD28UpEPnltJTRmW7hl8MRDmBpVZ\n",
       "bc3qu612Ra8Sh0/bixuoEOdEDjpar+M2IxftOmG4SyQdzgfm3ENNWdy8YgSZ8F4g5zEt3TJd6lOv\n",
       "TXKSlKGueBw7rx0idtn7segxsevV2HJ8mg1ojFBJCPCkDYXDZMGhnTcXVKH4KF5ZENyV+hPduk0o\n",
       "kmErHhh3es0AJ7Lhybm+xyQHG3djdvdbtq3nN2++lzrvuXi9YvR9pR7lc+dgLazTb135rhLThXzw\n",
       "ltB0XLPZNaVGOLG6djGx5q+dUxpEShvDM0At8PeuHpoQE/+ZJr7MW7w98yEP1JDlsFDN6L8TzTGs\n",
       "KVCjF+ym86nIVxdT+WAGpm/tirfLQYWmy9RHbz6mm0tpHhVraV5ywn2uVEtF76rNWgvxbkT9vU12\n",
       "Bk8S/z62btFeoVbczGn9nI7c+Vxp2p/mbg/qfoIuS3ds17AWVDYT22lXeRfoh+YvTypl1Qs2sfYC\n",
       "mJS9UPkmH0HepT/B9AjO7K4f3HLWkq62Wz8uLJLJeyuyyF2xZbIKaUsmhA+O1Mw0dm1iLUoi4yhc\n",
       "dTMTla4lowaQU+rICaGDF82ZGnNeQJKhmnqvrlD2/srur4NqR2WR96WWZnzUpvMXTCumfs28nnU/\n",
       "vUX4/k4CQDJyuP/oTEzF10uDj+TrvSWzrI80AgyzvMg4KsAUtcQc1aAqAWF8/36h2FxGHYiHNje8\n",
       "F87DOOR0AAAB90GeykUVLDv/AJaKNpF0OPmJ269OtqrLKaHaP9XTs1gAriKY+DOwAzOItt7sYhBA\n",
       "ii383Mip0jatqxp78v+Hessb3GVGPppQZ91Fte6rcWRluXvbDC9lx6PiSkAhxmjH3TifONJqXdnF\n",
       "jwdV3kIIQzdiZUnHSE0W/zN4w8NdMajqCiSJ7VapZUhZjKo2gMGjwOmY5e4pYo62dIF5kUKZHLTS\n",
       "QlkhlYxDYOGRfJpBBlNW8AbKPpKXgB+lMGNzY32rPocO7PWb/3XP3s7Vlber+zuMlq94A/sQyqsY\n",
       "6TSIqSzwgty5O1srEC+JdsQ5kDI62nZqu29igQMCHVGVZMjOo/M7CasPDEJMjLTevV4jLdWE54Jm\n",
       "pwH43pZ/H9JA8xqbMzo34zogBLxBlx8R5q8cqMgj4vHQgWTq2OTXPRTgaRZEqN1C1REjf8VY7hgh\n",
       "GP4DHZweR9y1+myiHJShQFcjErWLf2nSft3EPNdmbMv+YfeVLegDxlb2FbTtQg9Jl7Y4eTrwj5UN\n",
       "DRHxOzckYpu3sMaPStv0WIdYI4SbyJ4MFZVzHfiFdR9GKJ/Sdv+H9U/zTLBqIdHVxWYaRERCdMEP\n",
       "cFWC2zo6UzzMQdixy2S5bDLzd7KIAFL4Yo0QBA/7lw5gRh3CZDtJFZnOon8Qxt/Vxw9TFMjdLgFP\n",
       "AAABaAGe6XRDfwDXrZm6Gk3u4cz//EAKTcSXNcV8Wn6K5LLx4+jBCuqpj+ZSwhW65CZ4ZfMto6i2\n",
       "kEggLGwAFmZgBXZCsR4vUZfAUpIAe352V8aTlrq7dQ1QYvB0KcuLuX/CUkvGIE7wDEIW7LHtY5cw\n",
       "CMnta9yewkmMOE/QZfCM4V/FdqgRPZjqMLUNjoRiJSeUNYLAibxjwvlKpiXHPlsRsk06lFyxwmKg\n",
       "jrl9cnfaV01H5GqpsHOYVUHKAYo3fGPFuj+l3ID8viUlpHB4lfBME3J02UMLYNQRIQpHqfqKd68J\n",
       "iNE8ODYDrfCsGD/DWxQZy3WIe5BnVvYQZMgpYwthklhYPLIDFUyvvGM2syHfeYZPkFajyLROQZ31\n",
       "CDZNzb//QlNl6l8Eyl6RHNbmU1ZoSLbRxO4a8QvX2PjRxW73Pt06NUn/uPJG14k3vQD85FKCSGtr\n",
       "MxuOx364VFdEHoIBmnjLyPIRuhdXdAAAAacBnutqQ38A199vCAb3ZDLyJlE1FAKrMpf6YToqwrLr\n",
       "nQGslELZZkHRfDJr4k9rnOkHl1jDFEexvXOAa3caB51baf4acHLgQcMaLpRaLoZbXSSP9gGiCvc7\n",
       "kMCVYqvGIT+7Wg165WXNtXb6bKRCK1SxPaM2wsiHu1n/CaTFhmMV0s5XAD3MOomnn77utn9cv2qL\n",
       "794d1obGKLFQSDfefV7yZYjfgDu+ZybHhjHpr0CbTN5cZRb73vstPOSXJOKdiTXXfts3OkUB7RvU\n",
       "gm1fpNsuYguyvcTOABKq3Vedp78/nG0xNAku7UA0VvVUnwk/2Cs+ETzlIb9hYZg+FQmfKXR74dWM\n",
       "84qdhUS6FNxry8t3LBaqVity/nGodquSKM+BMsabk90r3ewa2xwC707eMI0wot0BWlUbuanr4q+M\n",
       "6dkw6j7Z47Dv8QW9lP6D6o9xFizd4uxEhFXlVZvhHXXppsBLg8DCJoVHWkXZBlQDorbqTKNszIPQ\n",
       "Aod0mKmqZGGL+4g4og8n57enRZBf0PtHMGpMdg9z0DIxixFAbHGo34WjRxb06CDJYi4AAAJ/QZrw\n",
       "SahBbJlMCH///qmWAEQWbpV15bukLn0AbhEEWmK9rUKcElkOqGBIycF2P8fjyJrOXMFYkDbbj7V3\n",
       "gQcjyFhb78yxnS/0aINYiCrIo02jA2QVke5c2L5aC9VUBiP9UCYptYnXsph7ZPaUuYpVG5WyG/Na\n",
       "TIGA3UyemGSkj38BA5RsMe/A2ng3/AxqmdoWDdBPdeG0RbwYFq8WpU8wUUYkcewFMO0JWBCHzI9i\n",
       "J7kfAYO91w37oR6zYMjdXuGXxpVLp/GlvQZFVGi8w6LxM/mUf86MTaCDB53bdHrGZqlZd9Aj/mWj\n",
       "HYQ24Yu9XpshiPA/hYwU6mMhWZ//LZNP6dN9bNW4wRIy8XjkMnMrzXeGLR0UVPj/1dxDmU2+UGwr\n",
       "VB1OOVB+crfKTe8K83nWqrLwck1HBZjSogOrerRPuX+qF46EXjmLvMyK687Kmg353J2iF0C4kr20\n",
       "WTASTCQs0PjsfmvFOr9h5FnNGSUqJtBTSuKbhGLo1vzNIWmfX8M42jAPoJDI65rTOz0TuLGZEwu9\n",
       "2mfyJfcLt/tUi/vNyk2HstPgy9qamtAIo9iQLYw1M99n0NyPyKElR0e5tiSkPAcif/fbpZkO16zm\n",
       "T08FD5jROI7dWHB2rmIemKoDx2KtHsCrfAZd8GwrSHv4M1B96k8Npz7JFF+TaxLcYWH+ceyexMAR\n",
       "/9b0nydnaTzMGJNNRlD+NkZuGDi5230725PeT+ZTZ2DrGYbVgOHsmftUs9pIQKyFj6TKeej+Zbmo\n",
       "nonBKPv6Tr3YtdFeVftpmqPpnvSryGMQ/YDgdomC1JQU5GvvbPj6miADm7t27n5yHE/6oz65pHeu\n",
       "C0BFAJWNfA6JAAAAfkGfDkUVLDv/AJaSAXcVz15SLDB0merchUZ0r249ogZS2JC5wN98YIx0HJII\n",
       "Hzeoru7o+TvAigE49yOl0K7lCG/r8gMV/wQeye9oQonfeU1hmSLN4wAg+VvlWMd1a9p09AK7+2kj\n",
       "vLkJaIePQ0De2hJtwj9Ssev6nx/aPUU3wQAAAOEBny10Q38A162Zui8cu9buqe8hkzrepfYAPzk2\n",
       "hMAm/AtLsggRSF7LlR3Pq0VF8U/4sZyJkjnfJ+tg7zkUUwlmOqAWITzAoip4NgC9SMYQmv3DNa+e\n",
       "tb96DhOcdKsnek+yJ5sHt6z8ivPbyyCuvOVCtU+d2E6NAkG+lp1VR9KYq/A6P/hz8f5ZD8y9bD6f\n",
       "qhYhjKdlJhwklXYLWwAvEJ79fUcO9Iw4cf9hz6akqrMlhMHh3XiebxtpVoKReANmnVBqnFwoiXNt\n",
       "aLmzpHvIIRBbyBbPyEeRsZmHxL+VGyP1m2cAAAClAZ8vakN/ANffZ8IR9ejWx3iEFEHiqAD5SgfV\n",
       "IddUrbQpNmPnv2dbXVS5uoem2hvVzBGkvNeYBA+v5Np6AMF/CxSDoXOKyrpgk4wJrPIMhunZlqa9\n",
       "x3T2qRzmCkDeQ3LfErrHk/ub8iGcH2KUsIRBb8/lzFNRLgjwkndFRO2eG5hEH+Z5S3VkALonF7es\n",
       "Za8It3uRUCeKnDS0Mo5coxaGB30bt/kIAAABgkGbM0moQWyZTAhv//6nhABkY8OgA6UyrzR0h6XP\n",
       "gaA2Fed23cbWYQgmQvVHyPQIS/Boyqa7YvQYmrTBEHDOWgmZov2F7H2Njc9rvxPpPRlpf5DaX6xx\n",
       "nPfTOTB3aO1q7FqfTOIWi1MSiRBDSGLKcUHxUkKqfKTChIKWlpeDqnq95AjZool9iZMa98yXFsTh\n",
       "Cy+1o5mEkTOqgAXWxZ7d8Y2OvpysjyiACfli3eXT0itsp9V/HLeekCRM+sJFwGfAeZuHdRVi1Ld0\n",
       "daLoeMg8AF+PIF4uYKt3iKcWnah5H53A85ixFBNtlDr8Cec6raPCckYSA+7qPyrg3/7rnJiCqZ1c\n",
       "DF/wlWQw/sgFB0/ESIR5avB+caaYcZStBD7l6R9MN/yLmBNJPJA21wrB0EcoOOl3D6rX36HD777s\n",
       "gW+pE68TG3/G4oVWmAwIOL9hv24Xet7vZR6FoeNGw9maxGIGtQDUqGWFxH6Iqlc3d6wVi7ksEpjO\n",
       "SSie5XxJ6yrmEXnz6zjQAAAAckGfUUUVLDf/ANf4y8EmgL1rsAmOBeZ2SU2DJPaas3x1ZF5NPUvq\n",
       "mwGH5eBi0OtRjENThhYXIMc/iL8cpuhu7psCNp3GFyNmmAMQkdjMvthGAHYCQFiuhJTqyIeuLYyj\n",
       "uJYDyT8rZvoTHjrNWuoc1JZz1QAAAFsBn3JqQ38A199nwhH16NbH6kVHDlXIMs2wq46suqJME//Q\n",
       "gC5BfpzUKnaAKvbxiivsp/E0MffUjdqsksxc3OEe4znGKNBHjaqGu97Mw3Yi9NVYDAww5Z+IBCcg\n",
       "AAAEFm1vb3YAAABsbXZoZAAAAAAAAAAAAAAAAAAAA+gAAAfQAAEAAAEAAAAAAAAAAAAAAAABAAAA\n",
       "AAAAAAAAAAAAAAAAAQAAAAAAAAAAAAAAAAAAQAAAAAAAAAAAAAAAAAAAAAAAAAAAAAAAAAAAAAAA\n",
       "AAIAAANAdHJhawAAAFx0a2hkAAAAAwAAAAAAAAAAAAAAAQAAAAAAAAfQAAAAAAAAAAAAAAAAAAAA\n",
       "AAABAAAAAAAAAAAAAAAAAAAAAQAAAAAAAAAAAAAAAAAAQAAAAAGwAAABIAAAAAAAJGVkdHMAAAAc\n",
       "ZWxzdAAAAAAAAAABAAAH0AAACAAAAQAAAAACuG1kaWEAAAAgbWRoZAAAAAAAAAAAAAAAAAAAKAAA\n",
       "AFAAVcQAAAAAAC1oZGxyAAAAAAAAAAB2aWRlAAAAAAAAAAAAAAAAVmlkZW9IYW5kbGVyAAAAAmNt\n",
       "aW5mAAAAFHZtaGQAAAABAAAAAAAAAAAAAAAkZGluZgAAABxkcmVmAAAAAAAAAAEAAAAMdXJsIAAA\n",
       "AAEAAAIjc3RibAAAALNzdHNkAAAAAAAAAAEAAACjYXZjMQAAAAAAAAABAAAAAAAAAAAAAAAAAAAA\n",
       "AAGwASAASAAAAEgAAAAAAAAAAQAAAAAAAAAAAAAAAAAAAAAAAAAAAAAAAAAAAAAAAAAAABj//wAA\n",
       "ADFhdmNDAWQAFf/hABhnZAAVrNlBsJaEAAADAAQAAAMAUDxYtlgBAAZo6+PLIsAAAAAcdXVpZGto\n",
       "QPJfJE/FujmlG88DI/MAAAAAAAAAGHN0dHMAAAAAAAAAAQAAABQAAAQAAAAAFHN0c3MAAAAAAAAA\n",
       "AQAAAAEAAACoY3R0cwAAAAAAAAATAAAAAQAACAAAAAABAAAUAAAAAAEAAAgAAAAAAQAAAAAAAAAB\n",
       "AAAEAAAAAAEAABQAAAAAAQAACAAAAAABAAAAAAAAAAEAAAQAAAAAAQAAFAAAAAABAAAIAAAAAAEA\n",
       "AAAAAAAAAQAABAAAAAABAAAUAAAAAAEAAAgAAAAAAQAAAAAAAAABAAAEAAAAAAEAABAAAAAAAgAA\n",
       "BAAAAAAcc3RzYwAAAAAAAAABAAAAAQAAABQAAAABAAAAZHN0c3oAAAAAAAAAAAAAABQAABy7AAAF\n",
       "qAAAA5gAAAMYAAAChAAAA+8AAAM6AAACKAAAAjoAAAOAAAAB+wAAAWwAAAGrAAACgwAAAIIAAADl\n",
       "AAAAqQAAAYYAAAB2AAAAXwAAABRzdGNvAAAAAAAAAAEAAAAsAAAAYnVkdGEAAABabWV0YQAAAAAA\n",
       "AAAhaGRscgAAAAAAAAAAbWRpcmFwcGwAAAAAAAAAAAAAAAAtaWxzdAAAACWpdG9vAAAAHWRhdGEA\n",
       "AAABAAAAAExhdmY1OC4yOS4xMDA=\n",
       "\">\n",
       "  Your browser does not support the video tag.\n",
       "</video>"
      ],
      "text/plain": [
       "<IPython.core.display.HTML object>"
      ]
     },
     "execution_count": 43,
     "metadata": {},
     "output_type": "execute_result"
    }
   ],
   "source": [
    "display_videos(generated_videos)"
   ]
  },
  {
   "cell_type": "code",
   "execution_count": null,
   "id": "ee59bbc9-96f5-4e93-80b2-ae760b068cdd",
   "metadata": {},
   "outputs": [],
   "source": [
    "quant_z, indices = model.encode_to_z(images)"
   ]
  },
  {
   "cell_type": "code",
   "execution_count": null,
   "id": "65336fd2-1a64-4635-ab2d-6275749d1de4",
   "metadata": {},
   "outputs": [],
   "source": [
    "quant = model.first_stage_model.quantize.get_codebook_entry(\n",
    "    indices, shape=tf.shape(quant_z)\n",
    ")\n",
    "decoded = model.first_stage_model.decode(quant)"
   ]
  },
  {
   "cell_type": "code",
   "execution_count": null,
   "id": "c6751d91-e4d2-44f2-9778-8c5b23d698e3",
   "metadata": {
    "tags": []
   },
   "outputs": [],
   "source": [
    "display_images(model.first_stage_model(images)[0])\n",
    "plt.show()"
   ]
  },
  {
   "cell_type": "code",
   "execution_count": null,
   "id": "2ab52bd5-c95e-4fc1-9009-76e1f7f6425a",
   "metadata": {},
   "outputs": [],
   "source": [
    "display_images(generated_videos[:,0,...])"
   ]
  },
  {
   "cell_type": "code",
   "execution_count": null,
   "id": "eda82c07-52ff-4d07-94b8-2168354dcb97",
   "metadata": {},
   "outputs": [],
   "source": []
  }
 ],
 "metadata": {
  "kernelspec": {
   "display_name": "Python 3 (ipykernel)",
   "language": "python",
   "name": "python3"
  },
  "language_info": {
   "codemirror_mode": {
    "name": "ipython",
    "version": 3
   },
   "file_extension": ".py",
   "mimetype": "text/x-python",
   "name": "python",
   "nbconvert_exporter": "python",
   "pygments_lexer": "ipython3",
   "version": "3.8.10"
  }
 },
 "nbformat": 4,
 "nbformat_minor": 5
}
