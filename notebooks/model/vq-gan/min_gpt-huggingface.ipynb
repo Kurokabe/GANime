{
 "cells": [
  {
   "cell_type": "code",
   "execution_count": 1,
   "id": "8c995bfd-ceef-4145-a103-c2a064be737e",
   "metadata": {},
   "outputs": [],
   "source": [
    "import os\n",
    "os.environ[\"CUDA_DEVICE_ORDER\"]=\"PCI_BUS_ID\"   # see issue #152\n",
    "os.environ[\"CUDA_VISIBLE_DEVICES\"]=\"2\""
   ]
  },
  {
   "cell_type": "code",
   "execution_count": 2,
   "id": "a2a9c822-ecf1-44b2-aaf6-c7122a777180",
   "metadata": {},
   "outputs": [],
   "source": [
    "%load_ext autoreload\n",
    "%autoreload 2"
   ]
  },
  {
   "cell_type": "code",
   "execution_count": 3,
   "id": "639df7f6-3066-44e2-a9c0-60bc80e81a83",
   "metadata": {},
   "outputs": [],
   "source": [
    "import sys\n",
    "sys.path.append(\"../../../\")"
   ]
  },
  {
   "cell_type": "markdown",
   "id": "58672f89-39c3-4e2c-9960-c51fad5e2709",
   "metadata": {},
   "source": [
    "\n",
    "from tensorflow.keras import mixed_precision\n",
    "\n",
    "policy = mixed_precision.Policy('mixed_float16')\n",
    "mixed_precision.set_global_policy(policy)\n",
    "print('Compute dtype: %s' % policy.compute_dtype)\n",
    "print('Variable dtype: %s' % policy.variable_dtype)"
   ]
  },
  {
   "cell_type": "code",
   "execution_count": 4,
   "id": "277a395f-1f54-4d91-be02-214f698f0c31",
   "metadata": {},
   "outputs": [],
   "source": [
    "import tensorflow as tf\n",
    "for device in tf.config.list_physical_devices(\"GPU\"):\n",
    "    tf.config.experimental.set_memory_growth(device, True)"
   ]
  },
  {
   "cell_type": "code",
   "execution_count": 5,
   "id": "7f01a67a-1183-424a-8eda-986b6be4173c",
   "metadata": {},
   "outputs": [
    {
     "name": "stderr",
     "output_type": "stream",
     "text": [
      "2022-06-21 08:26:04.885351: I tensorflow/core/platform/cpu_feature_guard.cc:151] This TensorFlow binary is optimized with oneAPI Deep Neural Network Library (oneDNN) to use the following CPU instructions in performance-critical operations:  AVX2 FMA\n",
      "To enable them in other operations, rebuild TensorFlow with the appropriate compiler flags.\n",
      "2022-06-21 08:26:05.330788: I tensorflow/core/common_runtime/gpu/gpu_device.cc:1525] Created device /job:localhost/replica:0/task:0/device:GPU:0 with 22308 MB memory:  -> device: 0, name: NVIDIA GeForce RTX 3090, pci bus id: 0000:41:00.0, compute capability: 8.6\n"
     ]
    }
   ],
   "source": [
    "import omegaconf\n",
    "import numpy as np\n",
    "import matplotlib.pyplot as plt\n",
    "from ganime.data.experimental import ImageDataset, VideoDataset\n",
    "from ganime.visualization.videos import display_videos\n",
    "from ganime.visualization.images import display_images\n",
    "from ganime.model.vqgan_clean.experimental.net2net import Net2Net\n",
    "import tensorflow_addons as tfa\n",
    "from datetime import datetime\n",
    "from tqdm.auto import tqdm\n",
    "from pyprojroot.pyprojroot import here\n",
    "\n",
    "tf.get_logger().setLevel('WARNING')\n",
    "import warnings\n",
    "warnings.filterwarnings('ignore')"
   ]
  },
  {
   "cell_type": "code",
   "execution_count": 6,
   "id": "64804403-13f9-4157-9dbb-757df9448525",
   "metadata": {},
   "outputs": [],
   "source": [
    "strategy = tf.distribute.MirroredStrategy(cross_device_ops=tf.distribute.HierarchicalCopyAllReduce())"
   ]
  },
  {
   "cell_type": "code",
   "execution_count": 7,
   "id": "b530068b-b80a-4553-b0bb-5ec609da7c4e",
   "metadata": {},
   "outputs": [],
   "source": [
    "cfg = omegaconf.OmegaConf.load(here(\"configs/moving_mnist_image_transformer_huggingface.yaml\"))\n",
    "#cfg = omegaconf.OmegaConf.load(here(\"configs/default_transformer.yaml\"))\n",
    "batch_size = cfg[\"train\"][\"batch_size\"] \n",
    "global_batch_size = batch_size * strategy.num_replicas_in_sync\n",
    "n_epochs = cfg[\"train\"][\"n_epochs\"]"
   ]
  },
  {
   "cell_type": "code",
   "execution_count": 8,
   "id": "d0216592-8406-46fe-b5c9-bfb39ce04b23",
   "metadata": {},
   "outputs": [],
   "source": [
    "dataset_length = 10000\n",
    "num_batch = dataset_length / batch_size"
   ]
  },
  {
   "cell_type": "markdown",
   "id": "466810d7-a54f-4cf3-90fa-22bd15c35e25",
   "metadata": {},
   "source": [
    "def preprocess(element):\n",
    "    element = tf.reshape(element, (tf.shape(element)[0], tf.shape(element)[1], tf.shape(element)[2], 3))\n",
    "    element = tf.cast(element, tf.float32) / 255.0\n",
    "    first_frame = element[0,...]\n",
    "    last_frame = element[2,...]\n",
    "    \n",
    "    y = element[0:3,...]\n",
    "    \n",
    "    return {\"first_frame\": first_frame, \"last_frame\": last_frame, \"y\": y, \"n_frames\": tf.shape(element)[0]}"
   ]
  },
  {
   "cell_type": "code",
   "execution_count": 9,
   "id": "c7fe1dcd-9763-4fc1-8aa3-5619fc45da9f",
   "metadata": {},
   "outputs": [],
   "source": [
    "drop_prob = 0.2"
   ]
  },
  {
   "cell_type": "markdown",
   "id": "0527b8f4-ea54-414b-870c-75ffac4e5db6",
   "metadata": {},
   "source": [
    "def preprocess(element):\n",
    "    element = tf.reshape(element, (tf.shape(element)[0], tf.shape(element)[1], tf.shape(element)[2], 3))\n",
    "    element = tf.cast(element, tf.float32) / 255.0\n",
    "    #num_elements_to_keep = tf.random.uniform(shape=(1,), minval=5, maxval=tf.shape(element)[0], dtype=tf.int32)\n",
    "    #remainder = tf.shape(element)[0] - num_elements_to_keep[0]\n",
    "    idx_to_keep = tf.random.uniform((tf.shape(element)[0],)) > drop_prob\n",
    "    element = element[idx_to_keep]\n",
    "    \n",
    "    #element = element[:10,...]\n",
    "    first_frame = element[0,...]\n",
    "    last_frame = element[-1,...]\n",
    "    \n",
    "    y = element\n",
    "    \n",
    "    return {\"first_frame\": first_frame, \"last_frame\": last_frame, \"y\": y, \"n_frames\": tf.shape(element)[0]}"
   ]
  },
  {
   "cell_type": "markdown",
   "id": "8e9c3689-5a6c-45d6-84b3-d6164b4bd9ed",
   "metadata": {},
   "source": [
    "def video_to_ragged(element):\n",
    "    element[\"y\"] = tf.RaggedTensor.from_tensor(tf.expand_dims(element[\"y\"], 0))\n",
    "    return element\n",
    "def squeeze_ragged(element):\n",
    "    element[\"y\"] = tf.squeeze(element[\"y\"], axis=1)\n",
    "    return element\n",
    "def to_tensor(element):\n",
    "    element[\"y\"] = element[\"y\"].to_tensor()\n",
    "    return element"
   ]
  },
  {
   "cell_type": "markdown",
   "id": "8bc9164f-4166-40cd-bb29-33d8e19bd233",
   "metadata": {},
   "source": [
    "dataset = VideoDataset(\"../../../data/moving_mnist_tfrecords\").load()\n",
    "dataset = (dataset.shuffle(dataset_length, reshuffle_each_iteration=True)\n",
    "           .map(preprocess, num_parallel_calls=tf.data.AUTOTUNE)\n",
    "           #.map(video_to_ragged, num_parallel_calls=tf.data.AUTOTUNE)\n",
    "           )"
   ]
  },
  {
   "cell_type": "markdown",
   "id": "aea92c78-d669-47bd-a1e2-1810ba5b5308",
   "metadata": {},
   "source": [
    "train_size = int(dataset_length * 0.8)\n",
    "validation_size = int(dataset_length * 0.1)\n",
    "test_size = int(dataset_length * 0.1)"
   ]
  },
  {
   "cell_type": "markdown",
   "id": "da008282-cc4a-4e56-b96c-4e488ee1235b",
   "metadata": {},
   "source": [
    "train_ds = dataset.take(train_size)#.batch(global_batch_size)\n",
    "validation_ds = dataset.skip(train_size).take(validation_size)#.batch(global_batch_size)\n",
    "test_ds = dataset.skip(train_size + validation_size).take(validation_size)#.batch(global_batch_size)"
   ]
  },
  {
   "cell_type": "markdown",
   "id": "44db6c50-ff25-40bc-ba00-c329291c47a5",
   "metadata": {
    "tags": []
   },
   "source": [
    "train_sample_data = next(train_ds\n",
    "                          .padded_batch(batch_size)\n",
    "                          .prefetch(tf.data.AUTOTUNE).as_numpy_iterator())\n",
    "validation_sample_data = next(validation_ds.padded_batch(batch_size).as_numpy_iterator())"
   ]
  },
  {
   "cell_type": "markdown",
   "id": "efbb70b5-5087-4c2f-b0dd-8ddaf771dd7c",
   "metadata": {},
   "source": [
    "train_ds = (train_ds.apply(\n",
    "                        tf.data.experimental.dense_to_ragged_batch(batch_size=batch_size, drop_remainder=True))\n",
    "            .prefetch(tf.data.AUTOTUNE))\n",
    "validation_ds = (validation_ds.apply(\n",
    "                        tf.data.experimental.dense_to_ragged_batch(batch_size=batch_size, drop_remainder=True))\n",
    "            .prefetch(tf.data.AUTOTUNE))\n",
    "test_ds = (test_ds.apply(\n",
    "                        tf.data.experimental.dense_to_ragged_batch(batch_size=batch_size, drop_remainder=True))\n",
    "            .prefetch(tf.data.AUTOTUNE))"
   ]
  },
  {
   "cell_type": "code",
   "execution_count": 10,
   "id": "dcdd45fb-67e8-4a7e-a88b-40391f0c4da3",
   "metadata": {},
   "outputs": [],
   "source": [
    "def preprocess(element):\n",
    "    element = tf.reshape(element, (tf.shape(element)[0], tf.shape(element)[1], tf.shape(element)[2], 3))\n",
    "    element = tf.cast(element, tf.float32) / 255.0\n",
    "    n_frames = tf.shape(element)[0]\n",
    "    \n",
    "    remaining_time = tf.cast(tf.linspace(1, 0, n_frames), dtype=tf.float32)\n",
    "    \n",
    "    idx_to_keep = tf.random.uniform((tf.shape(element)[0],)) > drop_prob\n",
    "    element = element[idx_to_keep]\n",
    "    remaining_time = remaining_time[idx_to_keep]\n",
    "    \n",
    "    #element = element[:10,...]\n",
    "    first_frame = element[0,...]\n",
    "    last_frame = element[-1,...]\n",
    "    \n",
    "    y = element\n",
    "    \n",
    "    return {\"first_frame\": first_frame, \"last_frame\": last_frame, \"y\": y, \"n_frames\": tf.shape(element)[0], \"remaining_time\": remaining_time}\n",
    "def postprocess(batch):\n",
    "    min_frames = tf.reduce_min(batch[\"n_frames\"])\n",
    "    first_frame_idx = tf.constant(0)\n",
    "    frames_to_keep = min_frames - 2\n",
    "    \n",
    "    y = tf.TensorArray(tf.float32, size=0, dynamic_size=True, clear_after_read=False)\n",
    "    remaining_times = tf.TensorArray(tf.float32, size=0, dynamic_size=True, clear_after_read=False)\n",
    "    \n",
    "    for i in tf.range(tf.shape(batch[\"y\"])[0]):\n",
    "        num_frames = batch[\"n_frames\"][i]\n",
    "        last_frame_idx = num_frames - 1\n",
    "        all_indices = tf.range(1, num_frames - 1)\n",
    "        indices = tf.sort(tf.random.shuffle(all_indices)[:frames_to_keep])\n",
    "        indices = tf.concat([[first_frame_idx], indices, [last_frame_idx]], axis=0)\n",
    "        y = y.write(i, tf.gather(batch[\"y\"][i], indices))\n",
    "        remaining_times = remaining_times.write(i, tf.gather(batch[\"remaining_time\"][i], indices))\n",
    "        \n",
    "    batch[\"remaining_time\"] = remaining_times.stack()\n",
    "    batch[\"y\"] = y.stack()\n",
    "    batch[\"n_frames\"] = tf.repeat(min_frames, tf.shape(batch[\"y\"])[0])\n",
    "    \n",
    "    return batch"
   ]
  },
  {
   "cell_type": "code",
   "execution_count": 11,
   "id": "1a2d8808-3b56-44f0-b2b6-4b541ecd3f50",
   "metadata": {},
   "outputs": [],
   "source": [
    "dataset = VideoDataset(\"../../../data/moving_mnist_tfrecords\").load()\n",
    "dataset = (dataset.shuffle(dataset_length, reshuffle_each_iteration=True)\n",
    "           .map(preprocess, num_parallel_calls=tf.data.AUTOTUNE)\n",
    "           )"
   ]
  },
  {
   "cell_type": "code",
   "execution_count": 12,
   "id": "7e42c2b8-56f2-4023-a0be-4a03ae6417f5",
   "metadata": {},
   "outputs": [],
   "source": [
    "train_size = int(dataset_length * 0.8)\n",
    "validation_size = int(dataset_length * 0.1)\n",
    "test_size = int(dataset_length * 0.1)"
   ]
  },
  {
   "cell_type": "code",
   "execution_count": 13,
   "id": "e86ea1e2-a8bd-48b6-a8cb-46aa59d162b5",
   "metadata": {},
   "outputs": [],
   "source": [
    "train_ds = dataset.take(train_size)\n",
    "validation_ds = dataset.skip(train_size).take(validation_size)#.padded_batch(global_batch_size).map(postprocess)\n",
    "test_ds = dataset.skip(train_size + validation_size).take(validation_size)#.padded_batch(global_batch_size).map(postprocess)"
   ]
  },
  {
   "cell_type": "code",
   "execution_count": 14,
   "id": "d43c491d-7196-44dd-8054-81fd74bccd93",
   "metadata": {
    "tags": []
   },
   "outputs": [],
   "source": [
    "train_sample_data = next(train_ds\n",
    "                          .padded_batch(batch_size).map(postprocess)\n",
    "                          .prefetch(tf.data.AUTOTUNE).as_numpy_iterator())\n",
    "validation_sample_data = next(validation_ds.padded_batch(batch_size).map(postprocess).as_numpy_iterator())"
   ]
  },
  {
   "cell_type": "code",
   "execution_count": 15,
   "id": "15290c6d-e36b-48c5-87e2-84603307b7cc",
   "metadata": {},
   "outputs": [],
   "source": [
    "train_ds = (train_ds.padded_batch(global_batch_size, drop_remainder=True)\n",
    "            .map(postprocess, num_parallel_calls=tf.data.AUTOTUNE)\n",
    "            .prefetch(tf.data.AUTOTUNE))\n",
    "validation_ds = (validation_ds.padded_batch(global_batch_size, drop_remainder=True)\n",
    "            .map(postprocess, num_parallel_calls=tf.data.AUTOTUNE)\n",
    "            .prefetch(tf.data.AUTOTUNE))\n",
    "test_ds = (test_ds.padded_batch(global_batch_size, drop_remainder=True)\n",
    "            .map(postprocess, num_parallel_calls=tf.data.AUTOTUNE)\n",
    "            .prefetch(tf.data.AUTOTUNE))"
   ]
  },
  {
   "cell_type": "code",
   "execution_count": 16,
   "id": "12f8b42f-176d-431a-ae4a-7a4c3f96be66",
   "metadata": {},
   "outputs": [
    {
     "data": {
      "text/plain": [
       "array([14, 14, 14, 14, 14, 14, 14, 14], dtype=int32)"
      ]
     },
     "execution_count": 16,
     "metadata": {},
     "output_type": "execute_result"
    }
   ],
   "source": [
    "train_sample_data[\"n_frames\"]"
   ]
  },
  {
   "cell_type": "code",
   "execution_count": 17,
   "id": "3937e9cc-1ca7-498a-9a85-ffd5bcdafc24",
   "metadata": {},
   "outputs": [
    {
     "data": {
      "text/plain": [
       "(8, 14, 64, 64, 3)"
      ]
     },
     "execution_count": 17,
     "metadata": {},
     "output_type": "execute_result"
    }
   ],
   "source": [
    "train_sample_data[\"y\"].shape"
   ]
  },
  {
   "cell_type": "code",
   "execution_count": 18,
   "id": "1a099eed-36ab-496c-8662-bdfce8eb25c4",
   "metadata": {},
   "outputs": [
    {
     "data": {
      "text/plain": [
       "[]"
      ]
     },
     "execution_count": 18,
     "metadata": {},
     "output_type": "execute_result"
    },
    {
     "data": {
      "image/png": "[encoded data removed]",
      "text/plain": [
       "<Figure size 1728x864 with 8 Axes>"
      ]
     },
     "metadata": {
      "needs_background": "light"
     },
     "output_type": "display_data"
    }
   ],
   "source": [
    "display_images(train_sample_data[\"last_frame\"], 2, 4)\n",
    "plt.plot()"
   ]
  },
  {
   "cell_type": "code",
   "execution_count": 19,
   "id": "30d5dea6-5889-469c-9fe2-54960c8506e9",
   "metadata": {},
   "outputs": [
    {
     "data": {
      "text/html": [
       "<video width=\"432\" height=\"288\" controls autoplay loop>\n",
       "  <source type=\"video/mp4\" src=\"data:video/mp4;base64,AAAAHGZ0eXBNNFYgAAACAGlzb21pc28yYXZjMQAAAAhmcmVlAABTv21kYXQAAAKuBgX//6rcRem9\n",
       "5tlIt5Ys2CDZI+7veDI2NCAtIGNvcmUgMTU1IHIyOTE3IDBhODRkOTggLSBILjI2NC9NUEVHLTQg\n",
       "QVZDIGNvZGVjIC0gQ29weWxlZnQgMjAwMy0yMDE4IC0gaHR0cDovL3d3dy52aWRlb2xhbi5vcmcv\n",
       "eDI2NC5odG1sIC0gb3B0aW9uczogY2FiYWM9MSByZWY9MyBkZWJsb2NrPTE6MDowIGFuYWx5c2U9\n",
       "MHgzOjB4MTEzIG1lPWhleCBzdWJtZT03IHBzeT0xIHBzeV9yZD0xLjAwOjAuMDAgbWl4ZWRfcmVm\n",
       "PTEgbWVfcmFuZ2U9MTYgY2hyb21hX21lPTEgdHJlbGxpcz0xIDh4OGRjdD0xIGNxbT0wIGRlYWR6\n",
       "b25lPTIxLDExIGZhc3RfcHNraXA9MSBjaHJvbWFfcXBfb2Zmc2V0PS0yIHRocmVhZHM9OSBsb29r\n",
       "YWhlYWRfdGhyZWFkcz0xIHNsaWNlZF90aHJlYWRzPTAgbnI9MCBkZWNpbWF0ZT0xIGludGVybGFj\n",
       "ZWQ9MCBibHVyYXlfY29tcGF0PTAgY29uc3RyYWluZWRfaW50cmE9MCBiZnJhbWVzPTMgYl9weXJh\n",
       "bWlkPTIgYl9hZGFwdD0xIGJfYmlhcz0wIGRpcmVjdD0xIHdlaWdodGI9MSBvcGVuX2dvcD0wIHdl\n",
       "aWdodHA9MiBrZXlpbnQ9MjUwIGtleWludF9taW49MTAgc2NlbmVjdXQ9NDAgaW50cmFfcmVmcmVz\n",
       "aD0wIHJjX2xvb2thaGVhZD00MCByYz1jcmYgbWJ0cmVlPTEgY3JmPTIzLjAgcWNvbXA9MC42MCBx\n",
       "cG1pbj0wIHFwbWF4PTY5IHFwc3RlcD00IGlwX3JhdGlvPTEuNDAgYXE9MToxLjAwAIAAABp4ZYiE\n",
       "ABD//veBvzLLXyK6yXH5530srM885DxyXYmuuNAAAAMADN2InuDwrXQ9FeAAIN5X4SsNcQBViWJM\n",
       "9LaaVhbsDKtLcMwAe5hXVJqYuovZLG4T4o2xi8XfB+o2ZO4QGR+JU5kFeAMSHM1pymduODY8OYI9\n",
       "PlRg3A/k2PBLLRlfAo6JII+n3NnvrWytV3G8MkiKkdDWai2w//rcmfjYT8BOS1oRykZpAt25Q4WB\n",
       "O5O8RjzdR/dLfuCNFrRTU1mKQT3OswWSvfGFkp7C8m69tl23dzFHj2R7CHRG4lodydjaYTpvS1zv\n",
       "1GvhHJUel/stkTEdTtb0FKvcTnms2cd0DnN3exK4hnz7zu5kloK8ZPeZilr4qCmmkIjzSEJory37\n",
       "iq6sU+469VK4+NV42HFj7xuJuUIDFP4X3RPxMpNQ5D7vdpQjQG6DQJhwgdCsut5koauScAnQtc0b\n",
       "PifHCB0i0Vr3mM/jMKF9nkwnq+baoIkIlz5mVqV9kRP4mHK0zdOPCyGCewr0X1rGJDGXIV+lyo6W\n",
       "ZVjJf1kSnD0h+PKZIR6Jtlc03ewOcvPh2x+P7AUdVIgYSAbRLXAhqbUMW7SDiZst0auv/JNh4yQ+\n",
       "UU2KIH4nmUaSCELmaTfI7RJKPeyqREHTrY6q0P02Rs+xWmu7bEX1J4OFsLzotWos9NSwfDAcnUJZ\n",
       "QmkyN4K5abMj2igCGRwj5p5/QyU6OdxKgkSQebr8nyVqlY775c+SDXnVTmdG4FPwATvJGOJf/8gD\n",
       "xldxU2mXWzO4jkBl7+3dCvAonRDyhhDuSX7+A5MN6nNr55ZBLUkIhEBTKxiNcUJltK+Rtoia2vby\n",
       "Hu1/G1wm8SXlnEHgtYF7cxnxtzmwLEQoOvP5iWTr1H5larona3SEbxVAR6KTBWlomirSglxF4SOA\n",
       "KbAfM0fvv/271xz5AmosKK1US3PdiQhDMv/7QtXL4WWPhXNsD4MW3ne2pFNxIIPE42bb0Sn7q4qy\n",
       "IMKZNq/UHZMG82Ve9yiGxU1KsFmSZFpnF/srelVgZKVTWE8aIDIXQUj5HY+oPCR9yeaeAU1+6gJb\n",
       "CeXP2LluX5/lccS2Oe6+VzKany81669UXaGkeyuYyvezrsq1KjumxhRt+9qsd/+BNKGGoKcm/3ty\n",
       "HdZizMq0J//I+O9r9BT9XdWYDYEcmGbSJ309G9nIlO8tdpL2C1uny5uGdb8ouW4/1F5nJemjv1LB\n",
       "odFs5rQZChv0p3KHuzDxz4avolFXOFnqbR/I00xZlB9lbaJ0Cp2P/DQAFvaXHXUvaKm6d5YkFeBo\n",
       "jXjM3zDif0zwpuRMRnYK9aYhM3f4ew7y3dL8xTXRI34sjRoViim3aTMG4KAmneQNGxewBgdjOOwH\n",
       "DjPAxjBEv6Vf/vEn1Pd6GadxZFfmIyxD7JKcRpy9e2oHB4nGcfQ8GfyaXxBPM2V0FNX+MBNvLw8T\n",
       "rizzoNOwOOInRS5874gMBtzZam37bCJdmwc06HIuGiKGHwz2ZF/rFw8cADyxsr2BlvIS/x3OFZdk\n",
       "rAg/E5NWuuSYza5PNW6qhBMzrRWUP+vGIsDlDSXkg9KV10bItEs6ZjPTsuKMU+1yqP346OYBub9M\n",
       "rk+eEuBA7sA885+qil4ITq7MTSP9FnqbGrADNxH5dNd2RE0MWnMoh2xch9V0PW4tbFzMnXVePDLK\n",
       "zGv5fcOH2bTdMoziMm3CvPLFgEp2kLWKMppxJfkCN5YxZda18XxeGOPvaULtZTikm9CVASgruHTC\n",
       "cFZ1LJcrGQxPnuatrjpjBcJqux5PKBuYaXoK7rsGOavqlK4S7vk8ib11jGDSbBS9W5lZzqT8mC4Y\n",
       "K3KLG00rnWU4RRirmPmAazZP2RkKyuGtrx/bnBjoQMyp7W5cv0k3Ea5w8dI4l/x5BjwUB0icaADk\n",
       "Hu7XA3OOvjEatIMobj67b0pQVE1J/qv/jnRDPTeZHQQ3/pyjjftEjlB+4/I5+dJv7rvU5akfm23G\n",
       "9mVMkNu1lhiFe0qgcglqHcojhGMLFr/zGHPJ12FWllB2ke+jeOW7jAr6bNXae74qsZdfgdlKzalC\n",
       "TEzH+RY3Eq14WT25PSIDRbhcomnATOQweCOjYD00N8WUeLYRtGzT0BWDQMU7BsUVnmA2P+TedcgD\n",
       "Qe/ZZksdRJSMz0XU7R5Rvm2GFqKa5r8Wak+2P45iT/eiyYhFqUV4Qd1AFisktZA8OtoACT5dzYNO\n",
       "Y2rj1G087eNzDn8Eo2uRVUaLsfw11UC7sB1su5NEwF+WiCbQ0Agq1oyW1Lq8VYXYyZ+QAA8BQUuO\n",
       "vqR7cPPWlO7ZYgeISEVUC91FEyt9Z94iN5/cqY4Rhk2IcZlsVM5O5ShvFpUv8OruBoWAR8egwjsQ\n",
       "vnE+zAcYHSZBKe+dGBDzYCEAm3YJR+T7k+OJtFrPM4sugYetxEP//yoXI1A2jAznkixIMci5fmIt\n",
       "Nj2GTMRSJVzrm1EVUqu1qqPfVYt8TvfDEToOvZtFpUOFQL8vt2cuqSBTBMn7h4QHGQexlsWp6acN\n",
       "OGo64AGG2ui6q9yPnizGXWPMqqPb3BUs6+TohPSVNZL+AZoRUculSNuAM76ocmp8aN8HNtP/zd/0\n",
       "dnwydjx71RK/+G220ra56lxHastglRECpXZtJR8xMbVtBzbwuq5Zz0H6zp9npXkAEejMkIv5bp/A\n",
       "IavakkfRCXXsF1mrbiXMjx/i6xL7zkw9WQrVBWu60o58DQLVapXyjoa/iWYKhNG7pGL+7P6xwtcd\n",
       "TSrNGPybiCdahxgGZsSywjFwllNoSuY2T0lMY8dzF3DS3VmpTUD1SE2gpJBITLctkw7yvb+DwNyq\n",
       "V/VykngfmdFtAxoWmraq90YC1Y3OPJp9zs6RImBi5MxgIVZRA2BER4hKwsG38tojNC2O/U7mdlZX\n",
       "qwALokxkfjoQncY0bJq7R3XudXwp8aA1p9wDP8HMt0KAwYP6o9G/DxdLdv0OlSXbfxtJQiOOUIAZ\n",
       "66UIuNS3GSSQHQiaNioQheCiuXZ9NQmHftbrpYtb0pqCAnZBwEnmLlwn/hmdVWg39L/aknZFFDxe\n",
       "sQiTiyheN5OM4J0na4LBcrBvgAelm1qSxEH6A6Mv17W75X51uooMSr8PIJroYh0tRvHPh15G/IUa\n",
       "bcSk1ygbGVOjgPt5RLIRDxE6pgEsxpMLg7xNh7kYcua5i4vCem6V839Lr0Y3kRk7O6pp9w8m82/N\n",
       "RI0GwgjJXZaXPuVljy5nTnAoDROcsoa5PsuF6e1Lx0xrOp1HUgaphH05pxmOMYehqeWIj4nHK4ix\n",
       "4RK6D2bPFTS0Hv2su6FC4yVhDR8+mzApqO0pGyJPDaQxA1bsz9TBQj7WTXAHiHU5LQbvfKRocGW3\n",
       "/8ENwvn1eNdrO205aViehm9IDN07aEfDlJfKbch1IGe1SRnVWtOrfmvxsvzFXYA3yE8/j/zXfyAO\n",
       "vX7pyHneCuiiH//xDXjw/sUKbb2fVTa/4YaO7J8HfHm12P551jEeB+e4rRGwdLrm94bHLYMoUeuv\n",
       "pbUt7LnpxcuvmpE4Gjuf0atS71KgJMTUmX0rz9aHLhp58i0Fb6BgPsHuhgytwNN6fcLtk2X0KwLg\n",
       "uOfcjhGJCIDOMe5sLfDuCgJ/9OlbdTjwcKGnGF/MR7RSMCAKLyGUwXIkDWuztpP+xQvKFpEeWVBp\n",
       "qt9jJ6N913hGqRz7ze0RRHeZTcGdyCJaoH14M0Udax+UmiCYBKFB/46SqSuoG3PsB8ckqcTBiQ53\n",
       "/sqAdnzk+ibJD3Eb+EfCsVuzbO9PPJi06xYpgAso/kpxjtsXOPW22Lb8eEHQGq3BbqJJCPKyIiTL\n",
       "TtKpeaeJqlurs0kC+6SzwosCD+0vD3B6ADnQe8tgom86QhjH1jyo324DmGIYvP+xQf1dXaBGTmF9\n",
       "N4Nk4FbalRFt/rClRPA48bjAveo2OYPTD/NR5NyoJWzt8YK3XOClTIhPcg6aDLj1j/9zW6gU+Xi7\n",
       "dWvl7RgkBQXEjk4U5tK8To/rVCbV9KgndBdHdVuV1Viu0gfvPvNNwY+ZEmKfIZAgK5MGGohLgres\n",
       "3sV/RooZngAq2AGB86k8Ks8c0ppvkYYpCSi0JNbtU8bx3/XxKem/+Ecwa/hpjY16o/25dumV0+Jz\n",
       "95VeWbIVbKwv9AdLGmNw6byz+Zs8zEraOdHgojAmPZvDn+dhc3AoYWtvRSDrkMZTDfrRayL5iJmN\n",
       "+4W7l8qUjgChv42gdI7432FmMYM4vrOBKDp6dAEUWgPp3oLLvrz1N0Qsmpo/owSymRNyM0hle+xS\n",
       "2UKsjwYzLKwsxd2Hv9S/Jrs93UAlolLe8J3vTqxw33PABgHeD7pAL2x1jyRbO5QRMv5XlE/yw/0+\n",
       "AuDg1wGn+TYQYNmL+e0Hx3URNtzy+OdJlHA6v7eIpfnYsWdiFBhXJS+o15ri35qcoMoY6Vrq/V/B\n",
       "wf0koCWtTCG3NMJz5c+gYNkJkaa/hi0zhQ93/sdoyeGA/2l5efAV7get/IgKBaEigo+E8haMPEoT\n",
       "XGvWDKxknSLPUsgVBZkqOYdoCMBQDM2MpmqfrBuaHMRZpVFNm34zFdBHWu9KxxHONcIZo1p5O1A6\n",
       "l2KquF8rywjDnJhd+T1W0RQ1s4gFD1EgIGGjZf0/16cLZ9dvScpOJVEhUChiUIaC9YEFC4sFAjig\n",
       "RKMPuXhdBHWcl/f8qtEvjaV2mvdufxlKVg772RvCbASwF+lHJZdrSlUdjPoNu9TW1U2SZlLgHzD/\n",
       "nup5IPom3uA0uYc0i9mBQFmUH326Pf1RIymZHyhIWcmt1cymxsNXA0priQCdL6+95OMSMAs9QvEn\n",
       "pBe5bQZykXJ7oiEbkG/vgMCHuJGHQksna1bV4DUXb4HaC8c0ZBxyvfgSxb8CHIzuWNsLE+bGHWjD\n",
       "HnH4GMtE4nhsSBa/IDaFFOAdIU2XhJ2TmzdRabwn+2Fvz3GU6dCD3b/eqxW2JI+uZLxdttXl5NKQ\n",
       "ZrdAUszoZOAvUmBq5t2Cln5D80ejeyVriy96FZqN8/gkPPUGV1+Pc+QleBd13+UCvhoU3juRTDoq\n",
       "FLBL8JIH394td5mEiXsqe4tvnuEn4nolT6xkI8GNmf2tzyYvIeLCTGCCazBEmgjP+qx/1K6C/jZZ\n",
       "OW8aWu3ahhP5vElW2BrM/HnO5MBGWLaqrMvkMLEuWaiE3+rFVESIssSPETs0ktXqLEQPICKfK+IN\n",
       "H1Qp5WJwfVC+SEjGqBKbJZz/TOVW7N7hkLnsdXAUmwir3zy/KpXVlVKlv39Xb0fBE4uu95JIfgxn\n",
       "K7WDXoUObU9YHKfrGGX7VxJNhs22coEe3cfSgRHBCj8eDQHpRwJp1lDSoUuFvHRVel7USk70zlgQ\n",
       "jIZO8VS6E6KEdX7CUvlVFKHSempr6ms0AL1IA4kKMwrzRZNYkZoIXSq6WRIxWGjIA5sY91RjQKGR\n",
       "oJ/YQc/Dww2sHLrmrRWcofFG8GIdlVhQXzAejjRf0DAFuEtYlxhb7NSTNT9wuWjrZwq936mE+150\n",
       "MQnLVfPbXzX5sMR0N5eQ+Ojl/s2SclLMDobDEIlI3Org3udyGj9V+x2S2Pjvvu9P7xntTyBGECOV\n",
       "4cVZAaMBKoOI73RrOUyIb/kLd77pL8TxCOvNhjNR1NE5q29HOAKn+c1X7bwc0koekKj/BhdRSz4K\n",
       "IvsJNfv8tI109mcGdyNQfiQolwF2oKP/2D8joLfqXZ7dMLUJeZi3h4AXt6UsfDO5DDqCdrCmUMj7\n",
       "0ZWzYjCG0UWipwjmacDYD+Ya4TwHT0txqXUhvivM/UO4YZt0uEolkK3OzIhrWdu5NjZOqvrO7vp6\n",
       "HWTPXYUBD7nDO6qiPpHNNcl4qNZYqURFLY29oCIcRYTrZO0vh1L5o6PHVRoZiHRxFMI7toMraria\n",
       "kz2y2pP3n+u8SZoOhGn01mYba+jtpFSBIIShdCHrIV+A1134DZdtwKkROZgQpV7dLcG+e+fIuf7V\n",
       "R295e7UsrCoRrmLIQ9Nu2brSLOhnj8AJAxm/0+kS3wrD9CBa0YXeTbKlZKcsmhe80KXjHtf8x1Zf\n",
       "xdWAZNdW1sVnW1+W+o/avr+gUY4B/OcbkHO9jthonXrfmLIwi5At7CrmA4GD9J4eXMKJ8nMGPGu3\n",
       "/AbBniIwDTwhoBE/CqxmGl5X7MOjGm9wu+hhfFhpHhlXuQQB3DL9Ot9AW4VF4VtYZD7x5V39hIPW\n",
       "6+jMnb3IEYZaZjlAjZpm2SX8xnwPw3HoDOhgv9ccXdKIfhmqc4Rhz+UQEgJXM2yX5Tl/++7WCP5i\n",
       "2GbDl7p8v4MHOqqM8UJuh/oyp82TayU3wxFaDwfT9L00+K0NGKJc11Sw1zIw30S5b3DpbFhbiLpq\n",
       "1V3Zg5TCJzZgbu994eUwpmEW9cATanrRqrCAjx4e/+mFrRKuUbng1n7H3PVFf6oaJlYv56rUnbb/\n",
       "n9bfkciKCxJabG463eVvBb1Br+p1K4NH/k5hO2Q89wI4Dqzs8I3zR13ChszeVAbDWsXmvQ8N3obU\n",
       "ntqMRJ/pwABtXnaOpROkZrPQ/pRHRDmdOYte3Fk3KlsZkLuJ9NUqI0gZe/2HYHr0gP89UFJyYne3\n",
       "gOxUVxYwz0kpV76AJ5G7ruq+izFfvYIT23rEFn3DlZyBPznAjWdz5dw1BFiQTOb9yn09fRYqbYZ7\n",
       "+jYUnk/OGYwlb2GUWunD9g9+pFGg6BPxpvrqWkaYVeHysvQZASJBJlIe2p1Etkhhl41rRKXzAdix\n",
       "pKXu2XzWTvXu27ebPBh284wvPR+zNLqqeSOmN7RU53pypRW8HFlGTDFNOmtqgXwWC8MUAttDQwXe\n",
       "BVZO/QyPDgF7lZmkqvRw4CpvQh9g40CYu3e9g68dqHStmNUtS/P1wgPkrBRsFwfaEcuNvbxSSG6/\n",
       "xqQ0Jov3RIURTn3DaMBm7KCifRjK67QrRrzFbfG/5Sw1SzNX/9FRGI7NX7TaO5/34C8y6HeMG9ED\n",
       "FVSGDd4qghFchsgL8YqYdiOfc9wS6hyhCYb0uk+b2AjiJjXjR2868kOjZ20zJ3EEKNu/QKfdfJl/\n",
       "71nBAIcw/MRqjqGXKux9potdUX8zRbnyn4Q3ZUZTrVMevYOgNFp0K6iS3jBRO3rbyj57czbQ4b1P\n",
       "YldwlTnWnzCTsXcM/SNDLruZbJMBh2l6qkUoApHv5t6spIyf16g+mDPzm6S/09qL42cQTOKJRKCe\n",
       "E1hh7NaMx2GhSk0YATHlr0cXCSLm8ocjewR8Z+0RIQAX+6LQ2+EX+dpgJGcAVhCfB+uyN25aExeW\n",
       "E7DUQ9sETgMFZnkunLFi2PHurNapWQSFXIr1EoaXXVB/90rM2NNXOl4ablOAv8Ac+UTuKRGLsvuU\n",
       "a+aeFI8YPPuaO5N/1EgtMcPS343xosIJPB+QGJWezXGJoOKv0dhxyriYLvNIRyyOF15hUwYnZH7u\n",
       "+/kBCYL5dTXKfChgGpAAxV13hPTen32NDDjq6jDdE7O5TaFG5cH64oiFzTLouaN3aAyiXOfLGR71\n",
       "ekyMrz6sNrEU+13AkmAHZzfBk13fkBmZ8v3Xmw+vfVN+TuhCraC1IGeoVbdQq1ilD3B5FRDqdU9E\n",
       "bQ0bAJaH4sgiiF08PJ6C9za3sQtQZk7ZNKLffaiSnZsd6ISinW8VawQ5w0Xeg4+1QflflzbXQkA0\n",
       "EQ2TOldSBr2PBwTZU/b9wMQ+i2DEySs4jFxwDoY8vbqbYQzQX2ZbgGDF0ZLNpiboWCrB6SpkWiYW\n",
       "pY3IOJ26MzYaae6MmZ4MKGKsJZQaDb7Xhnh5iA6S/zpsXB8egqlz9DMvL36YEIOmoyQG89sFSr1g\n",
       "FzBwSkzMIezQKLzHP5pUdYBKoyIQpXKhd9F2lN+6ZAje/Ek6+4klyaONYo8ZlxON4ux4NwiG8cCB\n",
       "K2afDLY7IEnnSlCvz0XZbqwQPAkWKtj+7bvIs1jLFPmG4a25MPC6xBmA6IzTh/pVSKfdhBJgsfXW\n",
       "vCiEi5abF0A7VJcHrLs0iyoO0MwBHOLcb2WCmdmOm4DPcNxYX4nvdv076IJRVzbW1/a8TiV9kMZU\n",
       "Ow2VSdGcKmQjKscNxghw/+vwV/DzTAIljwfZ7Y53SAAKbZMlIb78pieTswpbPkIhE3bxlpMjVO57\n",
       "wXCbKwIw6CRDZmZxRNZwrFyCX7CfuVCIzB5yp7RzQj8fcYMI7t3e/9nvG+IS6ZksNG8NNi6E34fd\n",
       "qjztYC8boZWJdfiWNge5CvUksLsb842VOyFcwthVb/MyaqLiF6Yf43TU9l5WfZHaQyoaf8gX0c2/\n",
       "H8nrIlKLOUUqIDdJqmR9hLQH7eXZajd2PDI3Fz3WLb8Y8xeenvz312RFGW2rQZTYWV9fSGd7ixcj\n",
       "Kc9S3YUkmQOed9bv/Vy9H/kzl0hnhVzlgCkLEh2DQpX/bwU8wAeG83V7u925Bx+qmBtrSPtt5nlP\n",
       "fXbmUeEyWK9ROTJ8qsYN2wLfxZq1hBNOFEYG+6iqhRM5NlAcUJTZJP7xALTcl2fa/qb5Z+5cbSM9\n",
       "T2M0gW5vpuKFwM8CvzRLuMYDzhgapOXu8lMC0mA+rpN/ztua6aCN9f2lUgmLQlWojHTiIgQAHJ+k\n",
       "uTxCwWGbNu3luPCaVIQ0dpsJNl7yxMGvT4l6V0zV+Vscx/zgUA2K42cMz3yv/y4xKmKBeJ87gi3f\n",
       "8yziyx/W6uyRE8dFcWbIzMi+aAta3nWAqYhm89SsAX14vb41/CmjaaXGLzqBZafOp6v9NYCYV2/y\n",
       "AoLQyH5TzFRdz9eXuqFriyVa2D0XK5xuOgSMPJcGXPY6mJ70APYRnG1gbZmsk+DMHXO4fjUqzj7Q\n",
       "PLUVknHKaGSoEbUMpuso7nOXUuQ/8vDOG+tezqZBIAVJG0JCgKT9msALpjkRn+dQ9PpAVC28VH8/\n",
       "YmfWQ6kmKR7+LU/pW+RR2j33PLooXItarsa9ZA2vfDMp6JLLUfsZGhDqE14YQJ+d0uem7noVfb6Z\n",
       "dgLKGZHtjscM0t7Lp/u8MtSuz/6JblmLOKvC94AVa7m4ETCRrXvQKuMldZw39jgC05r1crEYs9GA\n",
       "Q0rxGB7Xoh69ZJTNUtiL+6zfn1vslh11SQLsF08QnzLLd4MiURERVpaWOAAAH+EAAAZiQZoibEEP\n",
       "/qpVAC2MwgAFgtl8jVIlCMt6Xn6X/dqopjoy9JZgzWWo6F6vlV353XXGvvt0rKaOBLpjcKh6r2YX\n",
       "uOl5fDe5vI2Za0GBo0He75oypxMNPy9DEKK0FO61EDDqOpvxa1ebzYluTiGyzV9PX9ei0RhmpWoR\n",
       "c6HvqI7XJM0I1QxzQUkqCJRJH02Gs+kkFdA/QXW5xxE42JML35J4QwoP+MdEbz1hPbSpvaIGDX3v\n",
       "xrW5MwF3R0iF5S4CX6s5tuukJs9xq4d/zssj3mzxrzlFNL1zdm2CfmaIf1TPNLyrIvyA4r/zN6Vf\n",
       "n6JJgfadk85tZPo8EP3P27gl8y5KjvedtCwBDL+HWKXIaPT4z3SFmfwB2dydUm6M/Zqxt5d5o5zt\n",
       "eLvR0RYdkeSMqJwQ0qCAwQnTJd6XtdDvwn3wO8bPEYDH0FNu0+lZieDveLVmfl9iNcaGmuRzSHC5\n",
       "9dLwQ2ZaTy/xiUiGGjb1oVg0bzmVRMjQF5YamRzaeHnEShmHzCLkUW/CDgihdK99QKLxVAwHQ3f1\n",
       "rmf1eUW6OLt+3DMFL6KSZTac7oPehUN5WCrqkpVEfmm/gUcaWkI06+MXxb6N3hjwIJOn2txPNmHS\n",
       "JlRfpLrszWuVxUijzqIfv1MUYCBjROkYHd22lDHWjKWWE5QhOyAoVU+nnrBe13oW9Zy76CO+Rf5n\n",
       "ci8QV+Zi+h0nwGggzKCEpuvLAI4Ktmtf/O6dCWPkfao6Gk9hfrcd2wtAGnSVSWpU7ESY+eBmgo/b\n",
       "LS6QmcpLha3x3xEAHsMNkYl0P31YHXWFzksnmHNE6HuDyopvgB/dXjWyPXp0TLVbQuIgmcjgo1SM\n",
       "7MQWUkc/2zuJ5A2zXa0wsNsRq6hvbv6Xow5GtL5IklgIBkQAe9P4ANUaxKWxEfwhOP//S19YZ2Eb\n",
       "aJ/SKNkHsKOgoLO1gUj0yK8zbd0tJyuG+Uy02B8huyzcRk/FXq7nLpZr9oYyRenoDwpIvn1mnHAP\n",
       "auMBEnc/clUjxEYhZya9uuYFAGcGuKYHjIMdufbzqk0GpbHBMntQGneeFuHrWev+Hh/hyVvwdYY0\n",
       "jW4hAbjQugGJcoAIAtRWZcrCN9rQEu0DM60ztUejyj1akfw+XU3lKxlUbN35mm+8d8+pQ+bHRujm\n",
       "hDcXvi8x9KX8loi20oOHS7RzzCMSktrideGbtgHDSf0Mf2UCIvDJKxpz8sh2gCseGbh/jqNzGESg\n",
       "IAo3wyKeh9pRujlcxeOfEw+YitBscDQ+jWoH3uDb0s3PMHqEd3pa6qSNyoHa2NSq1Od+Qnq01zRB\n",
       "rlGnXmf3ldZ3FktMof1eZBDR9S8kifG0EsA4CiOs4Jljq7AGW13XnFPL8hi9Auy4MN4Rn2p2P5uZ\n",
       "f5iEIgTM8GusMh9m0Qfd48EH+kKKIQzAqja8mbrIUIeT51DW616jSpfrsojuabsbuSRvKziEWZ61\n",
       "mV5GrMEqvUzmIL5n/BstwzR3pG72I4azVJU12Joeu2l2rf7veTf8mYUKQBavoK81uRRtLIitFtR5\n",
       "FRWNU2g2hSB9dlch1B0T22l50mpOaJJnOV9hH0qIiZayPMzDvQ0qqIylEUDZGCmej28EtOZVNgzK\n",
       "E5bRFrKEjpQ39ID56uwCsu70ZiE4hnorM7a4MyCJJN8/msRqi6TFGaY+GGKN9wNQRM1XkTBZ6KZG\n",
       "4tniZFjaQrpRPdry55opl4EAw5lRAFOuNy5s0KsWwZmeoT0EYPwmnuqmysnCHtO23aijmSa4gg5f\n",
       "Jl9lBrfxN40jaE8TTJYFm9QX+K88+UQ4ppgCEZSw/hYd2kd6dptYqObua3hjurtpNt7N7+c7AGgZ\n",
       "2TD32YwDLJsc0EKNoTWL1M2SP9V93xIx5NEk/enPcs3gLQ64YKjf8w4OmTtHI1jzu8tva3aLBcLa\n",
       "xfVsa76kbEbyggmfsxUj02AaKa+w5q4U+ibwTFvfgZcdlkMKjSLmvSaBJJgh/EPEkSkp7AP81X6i\n",
       "UBphxhmOkSEsSQD8QkqOuAQXcgzG9yB+1QISKpq19lkpx7e+iANTEs345KHoBdPj3c6x1jBmxpR/\n",
       "84GJZJyHGHCBV1/g3B4xDGXW7hRECLeRqXO3gE/oqheph0HuUjp8VfcDMm+ygB/9svF7ujxh3qSN\n",
       "8OFhrCdAGsraN2BDg2F6JSlWTorxrgJnItSnH3Uc1EAAAAMNAZ5BeQ3/AHk7ieKNcgcgAjHtIDpe\n",
       "om0Mcn90BjaWQGjKIA9T3+a2HYq9LlK5yZwKE0q2TjsxD1FSRCmGTPHGG5iT2VCeul9UvqEJf6zU\n",
       "sT1epYt2Km5XNvygLj7WQ//T0qwy1TmXtAPmFRDtRUmzppzNFfCzgT2qlki8UAhv0uMWaj724Osn\n",
       "BBQrY8Rjkrk9y+6jGS+Zn2v5W/TkpFB8qnUf4edDQqhUWmYmo087kgJLJK43MoXQZh4mPoE9Yg3b\n",
       "2LxgTzyzSgNrDDzUaqns+P1bYPf8xG7pX7ZZaiawtibp5vQW4RjiCcr8XV/gVi5LiC5S0tUF25gD\n",
       "SPmR7H0UB6mX6ruhmvRgxjS+theg28allmOiKWCXDFhOcyKPBnzwWbgdosFpjWNt4oE6kDuUQTyl\n",
       "N+NVHLUCcBqYKxjG4qt9QJc/Tn7g+gkvoFIc+oH55ssuNtc7iTzxRPoTdmnOE0wB1ALes6B7dP+m\n",
       "iSZF7yt8J0cTKdb/3SrEPwBzAXIlnKg020gsHNQkHriUbO3cKttxV04MEyM2CiKEYqZ5bcbQfieb\n",
       "cV4QwCRY+xGtMBEAnYSllVZkwCnKQIOkjd+zNzUmi9uupWEl5VO9T3+Eywf3VfgGgKEo2KYBWqhP\n",
       "/AjL56pa1Wkx0dhny8XFcKM0tsl24Z9a/KoBIU0Gx42wRNKkwF9CRE6kt2qXGx7Vxs6Frxcf0nks\n",
       "XZGruxdVMJ5mV5fOIS1s8Gh9+fFoU3E2HrcxhQYb5K9PjJkfh9fN3Iv9IJwDR1v35asb549C9oXw\n",
       "Wv7OxILM37SrvIYeljdlv4H+z/P4Ni92PCvrXbYZlhXgJddgkhvRXB3HGfI/kktEDAVU/yFYqwQh\n",
       "Med8icrFQUAqAEKavyPPAalpdw6Xk7exB/HR7F2qiz+shXUigsb95KHfltjET9XKg2unobKi/79w\n",
       "HiHD9rns1M0Q5tjBBotnE6Ez7wDNewk68rWnHXLq1raAsYZbbV+Ip9j3uTdG6AyElENa9Kn4m0Rv\n",
       "HGVr/I2fhsC9q7X52qW3GafRcQAABNdBmkQ8IZMphD///qmWAGq+NBRCcHh/UJJgIBfBd0ddPUWx\n",
       "U9Ap6o6lVOzEzHwtNuV4An5uL+RaAWbuD/tL89/mlbfEOZZmJ3yZo73RRRwmCO1Gn7zmWmXvpUJp\n",
       "Oo2/cpU5BCM4YR52EMCFYrrsFkZ8SLCjueIyRPUU4q9Etf6bmesco+A9kvO3V0c4UaQawJGyW15h\n",
       "DV98cQjyRUBqAdgWmztGnkxX6tWpCpRLwl2qFmZXHFkU7u9ie5Tr5qtn1wIv0i8VKJPx8QjM3Ark\n",
       "8sdNnjLkaUt8qsVHPeJD+xVr0BEXrg7nU6VqMSf9VQJ1dRZvAfcDU368BcySGLfl/jWL4SGBV0js\n",
       "bPTKLIHJ7gHeySudPSxSpzqJhIcv2Lu7qPdcYtCb12ULOJKJNs68SRJHBAjGtYva1fQUvQJ284cc\n",
       "uw4Oy6E2wunpuhl9ElQpZvKlR5SC9uoAW4QcwbMMKAqkmhvPwsgPuCqDxTiISUuvwMKAWZ8tml/J\n",
       "ZLSmAdutMQhJVaodil7fjoQLJzMLrBwYGJywgouirmbgOeKk33fKdv/Ynhfs5LSVGuSo0ziCp7U+\n",
       "UvhPiLU1XiYn12J0pX2q8ev3dnhPkYgj83ikPsaBF3F6Yr0ADQ6N9yv8E1PaQoqzTLKBAFyBDPCT\n",
       "yVySblCqTfV97zod7GCfRoOMYoruw4kUPuR5r3ZMRmZled+nn67re7xuKhn9zDZookXKrBCY5lpz\n",
       "MNcTYCQaA5qJ1t2aUvUFpLdIhUvyo/wV890AmIi2OVsP7AA/V8rVDCXDvKL2sRER27X4n0oIP0cg\n",
       "tBvntAjxyUziMFCzD0r+/in5xw9jTO/GcKXnHQS+35nJ9WYL9iZG9f3pQEXUDhJzGvh9iRyua5V/\n",
       "KE2UFH1K5EV7+FId37LbkzZk/JjuSDbQzT2yoZo/PoW2tG+g0pikgeC+W296O6NGscUHQW6/UWIs\n",
       "TStuuls2sHF+0yMTmH9LbiXUJH0/G+bUx1FzmjKIWaCOh2aiwNv3jnEtC+pECAfI+2SxPYO84FmV\n",
       "1fliVLG9xYCWdta/KnT4B/p3jq+OG+n3ABGHihw/MLo0Dl5tEHANMc++Y4ZGeVSxzhEuoFOtDcXA\n",
       "xRvy821gFDy+T55z/csjIZuqCPUsVs8jPrmeGXsLXt0wZbmUuljYJi26lV/CywNoq4N0otvNCCux\n",
       "RC/QEuDWsgL+LT1hIvj32bz3ZUs5w8YColkxN6329uM6i21BMpTlUcuAp7Umge6yWmIVD20m77On\n",
       "8hPR1zR1mBxUm1GyiEk+s6ozbrrUi+7dU2WvH453X1uvjzCZJjRv/dAkSsCaIRNhA/ZOVSGbYjX2\n",
       "bkOH4oYEQID1McjBWQERH4Ebu7nPCakzffL1HxRhxyOkzp57l1UbciERyrlFOMS6iYJ/fME6Y7LV\n",
       "m3WiNxBDTbp92yc1WIcofCo9PFuDz1ynoaMa2zb6vNW8WYRNIC7IIUql7uQAcpTPaS+e6vEM4L+m\n",
       "SQJVyZD2k4YYDt4D+VF/eYt+7QEeLM3ubaoRpqE9NlFPl4jx9Z7FWV2NPGrZY+KeiJAteMG9kw8U\n",
       "PdkmiExKPMpKz7grHop76BydCwTORMMVbosaBTYuj3xDVBkI0GV+4aje3/L2u2C1VLq51cGMtd55\n",
       "iLWalfAR5bsAAAMHAZ5jakN/AEtjPsFnuI1R9UuPV7eH5UmO28650DEABEC8fzr7Gd6nzlHqM1eG\n",
       "1P9oq6VLTI9g8+XUR3HB+g8lD6PTvctOuKrhlyts9ntZljXX9QhNCjffEy89SCpKv6yu/m86mttv\n",
       "ijOcjv+ZLrOE1C/oLheiD0reKTkC6V7a1mgdAAcFw7GSs6f2RQnKkaxvk2FKJE4ewE6l0mfjb1lq\n",
       "8r3Bqsb22fh999S04GIyTKtvdCfAwZ37b776qyvjQlCOb7BFwK58UieVk+jacST9Ji6APM3P0vP9\n",
       "YfHzJmKKipn1AHbCkNSqC+mn23sGcYn93wCXrUgEjNqTerTT4pESPXMefqjVtVXYE6jd+6hgVgQU\n",
       "VgPiXuAdHfTvSGZ1x+uPIQ9lxQv382eNwyG026tO4mdIzHVLKpO9DFFOSWeiGwdIkfB8V2N/9W0R\n",
       "cxQSZJ1SMouS6ANvCnM/5XUemXFaCnTlx68HdkSC+1v1gfUox6Llm+YrB2kpZHxmZ6c0IDzT4H3p\n",
       "V1zFvi+UlclodGRHTmu5zoOzAD+msjfG9eRsqbIMxN9+8cr/c0Sor/aFdULwB5/5nnLxLQDSuPXr\n",
       "CjqTr3kZ4XtaXscnRtObLjEmDqapyAiLrDvMVlKX6X1gw096iZg04q5mBn4WI1r+YckKMAC1cQ7/\n",
       "VmMkYph/zAtibiDno8yPaFfHFLwHRMSzg9NUcMpglH2/NskMk4dgULa4LraRBp2Wl7duq8MOXomx\n",
       "EZnkKyuxte2QjUwjZtcRiaJ1y0r6OnZcIwojsJWzxQPdtILX6gwerTJXGFJctT4eob2Od9P+qt/5\n",
       "0hzduPec1LfoTtsIdqvV/KH2UyN1n5hA9hxuCMpmgmp2XM5XpBwueFTRRGWB1gzWKtvCdOFvFJtG\n",
       "JAJ9DKHG7yzroRxKMjpaNrMkk8enJ/p7J7v0lrHMWFtZTwXrklMgAa1gv+4u4x4aMoOS2X+4Eym/\n",
       "qdkwiphKv3U2psG8paalZvG59FrutbwdsrOBV4RKv/8hcg6E0mF2N2F5rrT/dQAABK1BmmVJ4Q8m\n",
       "UwIIf/6qVQARgW7/G++0U5MAB2Z5nU74FppB9Iy7m+7StztaJ4pBVP7WyP6JS5LV/dSgGWR4rSjH\n",
       "a4SgxAaz3TX8nT+cyZxpyWDhj4elRygl2/yFWyOQcYrDq14KttHNq6Jnjzysv6Kn+btpS0c/LMmo\n",
       "tbRNoATWvUfvQTQ+FsQ9Do2Wq+X4/U3mK/0IK3J1+BshQhgmVs5pde3WISaRZ6rqOsud+gB4QhPv\n",
       "vmEU3cesFKGMUGFVQuC20C/RC1LKPA5P29OAEtVi0UO7teGQczNumV/4CtdN9aDk95Ra1XZBRFb/\n",
       "Q5fJCaColUuRxRXHZcGwJGS2hy41YbQTelxcK5xscVhwYa92Fcob5tnAhAkuH8AUZBVSqBgRe0f8\n",
       "xtLuaVaT9FauIC7bJdoob+utRmahIaqFf3TBhT0D1yAEvbofpLlETKM4f/PWRA7UD8tL+G9w7dXO\n",
       "tEb+4IcPR4vhwYXI2/hWZeZcSRiSEURuUtwW/b7eVB0bIKlyN1AbeOYlEck3jqbfRaFeiViiOxoR\n",
       "LlROukhURPJdCUVA38Ujbz/y+awwKKZkFiWVXcKnhUcODcDFXaiTs9/RGYscgDl7ii/UBx9jHuEY\n",
       "7gOKw9i1jFrijH5C1iEXrTgcNVRyA6akAdHCQtW3i3heuvcQzxOrmrrwL1x4XgwK1Y5RIulInDB3\n",
       "V/2UOJh1mfxcRIzpHPv5Q+trO5wY98zywgvAUNCrnIidZg5+Y+4T6jkgGHXTclIjMnHColILBxu6\n",
       "PinrXOkMIURx4cSOeBn7hAqIqzL9X+xQlTNE2sH5vE0nEg0/7IEDJ5IhPFPZmJQ/GxaMDqd1lO07\n",
       "9uYB7N5M9osrvaokJ84S5kZv0iY4obHChKMXf1Oto5jzbDQQgFyWG9C98cjKUO3R6YQ2Z1Dr3Yo2\n",
       "lfq2JIOO5jElBBrandcS6pO5VEza4xFEqlVvsZQVa5sOx2PGUBo4Z4MgHvxsVeMKmsbrAvPmH8DH\n",
       "LqZ9+2EqJrVN/A7L/EMMsATd8nNmZBERIGAXBVbPDrsL9Y5J9hkT94jp7JqcuN7n0lklqjNQqSRM\n",
       "5IRe/7TOJA2InN3EjTNXDTx0gpziVScNfhCeU2uypWLTolaFNJCDKk8Q2t2E265TshU62tD6gktA\n",
       "SR3/xu86SQSiW7Lc2rRIpBUzxiDNmEMJcc6ccbqp9cvAeY93K5lzdMiV6RWs5miF2P2dTkREnFv/\n",
       "gj2gUslHuRyxU4xyfhccP1upchQSslrDjiag/rjyDInGAARRGntbTuQqfjviTMY+A4KrW3KyBvoi\n",
       "9TRJ6eoQmbkqGx8ry2vr2UOMK8oqJoWIDJVt+a0UHR77mSwaH6/zHt/Wvb1o46ZKXmK/cZVtyIIO\n",
       "VdLJOTnY8Z9vjZ2U2EPylRk5xBQImvBiito9uabgkVXL9w9yWsQkE4U57T+UJCtnguIA8nwcPaX0\n",
       "9T0CLlatXY4AEbLffAu8HSQ59FW3Qzj2i+m2Y0bbgPicJ5Bfi5chG1pMxgCRNKK4rRIHFTc1cc+y\n",
       "rVAEJ3+5Be27sXDudHM1botY5m0elkxmBVNw8wpux8oCpvBceEJtKMsMYk1mNGNUHuEAAAVhQZqH\n",
       "SeEPJlMFETw///6plgBGDYU75uytuI10dsPuN1wDFoACOfv5vE5ESTtoAKttbwkzcKAyiRqQ8LBW\n",
       "YsB52iT2OiZr4lpQ/qQ/QmFwJLnNO3bL262yoajUJP+rclvbgQ2NK8wUw7ErIWG/pU5bcwvqz1Qx\n",
       "1OyMi9CxA3lnzZ3th7vpBm5931HWheFU6eSxkmVQsCwzl5rguKvRtvVFsKvMKTe0LnVeroQCaUin\n",
       "KGFYCENEDG0Hq/T5+kdVsb/dprFMk76i4rV0MCC676tc9mhX3Lbzl3SAf8+yjE+bx6B6G187uDTk\n",
       "ckvC+lZoU10tIDdkPunqdcHwZF3hBmt2D+w7fGLxrSpawTU0p1aIxkyJpRb39IzPQ69wkEWXK77r\n",
       "fzDold6l7rg7dMVhR+pcjskvucTn6K0ArS1yMgqs128JNV0z9KpY5cKtpPZZPEy+Ovq7cPxiibBH\n",
       "OppAbY2kgt+7Xhwl3BCec71tICVuriRLKPjEEGdlUkYs/ecIve6s5cgewbwxwCEfBXFfgoaSci0V\n",
       "TEH8B4IsCbhMpwE0QzORUFlbiOO15La0elb5HdwIPjNJQdo24nHcfDfGMyZpK/FU60428zSqDmzv\n",
       "esR4LRl3oCFNKfwKwB8QzUxRyLY5TiRepe5LC6jkfkdsd3Qh4PPrtzifaMWp0heq3554QDQP/Xw1\n",
       "JxUowNlsOTItUxhkC4OnN4Imbs35EvzQN8P5qUXvRrHInQF58uQutbTaYkh0WWG9v+tMxu7OMoVQ\n",
       "qNszqoGY5F/5qYRm23gWZXUBkzCS46By4bCJV7ReoL9HFdmGBijy1bJIwZtVYlHDUdcdxQjGhAot\n",
       "fYlLsVqZTYqL6Pz2kNN0NwBZtQoiCAreZqgdxLnDpngKLrk6aro6ITUaRseCEjxgSI98KMdqPEcP\n",
       "77gatiECC+EZM3wA+os9D/g8W5SvlYlWXQGFzQFZQCgLRUj777B5VK4tGvUmiGWpdVWlm2Sp9bC7\n",
       "GhF03/t/3Z5VISeUP0EjqKlQPadJ7/mr0qpIk4jWYjbN2bPkug1wjlFq9wc0ra/a9UeouoHTIyR/\n",
       "RKM7Pr0CX4PZV0qiyll/oaMFxObO2PW9cOSmvXXMi5FbXjA4aQeZiRV7XnS8YwqZVyUeOdHhYNmS\n",
       "lIpj+K6eTEPSycQ0yWuRocEJeOFSytxCQi1TbrW8dVl9gE4qg/jYld2vZoX5oer+CwTsNEpaA4Zg\n",
       "rPmkgHKb5VDLHfASQDcrmVV+qfmgHPj6e7G+JtXDwkt8+2QzoRnu5wp1Y3R8C/WzB9nGZWZ1vmC8\n",
       "Ni5YrC3mhd+mg8rZJ9+Gl+lnUC3oGNp2Az0FLo92yj4blLlsZrIlbO2PJJiT9mjW1443d8Q9pYq2\n",
       "CpUq0zpY5eWLqGvnBNU9pM242zgvTi/4V71HP4UxD+VXuvgKkOtiIqrUP4re8oLi2pC3bTnx+nFV\n",
       "V/eb+0UeQeGDlCP52OD7mTD/205o7vBQfBskKw3pXzqFB5kJW8Uiw68dJ+YkK+bVRBq2bdUGUv6O\n",
       "jzvkt6fx1z5i20FEjOte9RxOSANhno9/Ne8gc7MYxPWbXWleJCiCHrUbq3YP0jlokOBBosaQFUpg\n",
       "MFK0O1FWTLC9QWxCZxKYNckeN+MWDCs94J4K6KorigMzvqz3ruQiQ9i74ONrZtpD6mzCAvNCADVn\n",
       "P4iZT3H2Bn/p72j4iShgJPoUdU7Ty1FQld0yciBqABzKphjcezSgbhZEcDs1AXYpTLH8KPzm8Tsm\n",
       "+7YRN1J3XblatasYmcmu4QqfAS6x5qlR4x+voZBLsuVUi7tle5WapRAe7aJ/enq/PeaQpEn6MiCI\n",
       "OUXPTPaBAAADKQGepmpDfwBJa9tjdfpW/xnoAE4+XyrmeJQ5LsgJtG5gbON+p8BOFq1Q607oTZmG\n",
       "UQF1q8XDmxQAU9Xo4RruxGZylhyW8Anq9h0h6bzWxS++W9rFeHPYf5qmexuEm+9JJj6y6BlClGie\n",
       "bcg9/N2kc+QY2Q74gRpOiS8AUfEAfnnF5ginGkXZH70IEMlRdlJIo/XW4oaa5jpQRi83165tHWuF\n",
       "EsXJYwXOlPNATR2ITf633H0pfkKG1RdvetRVGeyI/pqQXGV9y039eDCJlL/EyCsa3avTBIv8OmJY\n",
       "t8q5kloTaDxjzHV682WZcA3+p56nKd3eTfPBRkvTPI/Wa01bm2pjloAvwUBKZdB/P+9tURtLe9eL\n",
       "ly/ie1FDqnAZ3qm6c7tZcD7AyhCW87SZCNYNcZPJzdo1Ghy3lslJHfXcQFvtRPA622MLD/siVZlI\n",
       "0qPnSZ56v26WWYnMJEvluhQCXKhlRBmBthGMpBWl/m0Mbb/UHbrRgKxfc8Muq9iP/S94sqSFL9pj\n",
       "z3Eqpcmq1Va36vGrMXT4txQJdbGGqQP1/mCANxuMEhcYE1PRd9uTqvtDtllpLPVpUyabD/+8Qyx6\n",
       "wxiDbAD4NZ+zBeGnQm3t5m47qfWvZ/T8lw3NIUrGvs1W4TPK/qUHGGy5nZPpb9dNC0AXilhak2PB\n",
       "lWe8FSKy0mKgXeQC8vZXjoz1c4BS8Wny25YmFl05W4czzPJlKO9Oah+ku4q2X996DyZ4VUM5gWSv\n",
       "B/Is33u8B3e2JKP55/5LhMQoSI6bkhdkyBdNfSnR10zPPwAKHW537nELVkRU2AjkjAWzEurtIGBw\n",
       "e9QN1zHRMMERK4pHuhklxqauavZoaUrEMdIRir+WC5V4fTXZTTpVul73xsc/LeoQMPod/NUHZwHD\n",
       "O9pHY1ThlxbPlPFkXvYxAONbqrYVfUzzM8/yvWzuJwSevppW2gyUgRhLDjk5U86Of0CjhU9smDCQ\n",
       "geDCDMew5ReW9+yzYCf8uYHMHiALjC9cqrFQm4dNsezwonv6D58V2LUNsavZ7vDf0WZHxLiC2ijD\n",
       "RNkvCxJZ91FZpq4qeZ0nZBnwrQcRAAAESUGaqEnhDyZTAh///qmWAGeiz96xoALofq7oX5y16nEH\n",
       "bFS6SX+ZAHGEkjC1eIAnNhYFskK9l+r+fwpPam8FmDkaullVxMXRgzOzPj12gz/bpIMqd14HKK6m\n",
       "wxga3KNTD4DBaaRh1GeK45qu+abre2Sdcsg4JdVRf140Hr3lB6n3DdrB1Pud1KTzugDTaF+bNGn1\n",
       "Od4O6phtS+SIt38BrDNmxE9knJkpRzGQMFBjSZLhSm20WiQo89lQVK+P2bYFpMbaPCy3h0Dba1nF\n",
       "nIRwBim+8QXxWp8th2seuW12LFS0c6d44SCHJKFh2H/yRZi6Pp89MN1t3h/cQZcOghr2q3tUuhrA\n",
       "M/SPLKWz416xX9EivxgxEUICXIJL+7xu5knxQ7Q1idH1UsM2J0kQrAJqmdCQcDh/lz3h+CEvGCkV\n",
       "js9MzYNFHZQleNnbbiykmJc1uAAwm7F+gwFZ6iJV4Y1QBlRWNKScN48iRWgb5pVf+Tbvsnw/AUi/\n",
       "ZP5Vl7k+G9JAUdmMVAs/+HJO9WTY4lOkJ6kWO2T4KIVVpmTu5vMA2V2QAL/piTXSucEY7OguQAS+\n",
       "jWjKn3LeV2hJioSAVkOHuzPHFrOVOMpwACYP1CesiYe2TvKBBBzCPSEgNOHytNH1X2tiFzjQaSlP\n",
       "MGzshfWkvOqzuax3Bu6K+yNQRjc91lDkinGvhJ6tiCNen2xy/o+LufhfJMp/Tn3b7AjqQVRSR9ki\n",
       "L2SxlI3Yx1QRzDH2np8qqlsVdwLuTQtcU/TvCXJHoV3k3SoBvp10cP4PivYlPgHIHWiBaIVGSEUt\n",
       "UOVZRZGokPO0j/Jc8PhNOT347HH9u/iecIkKVW3ZV7cs5NN2f3HrfMjgM97/nR+FJ8RnPbuog10D\n",
       "9pqiSa24eWg3ODWWRssdFm8dwgRSwwr+47u5S9WPdNECRxqL991WnQ0QtSS/eKz6Hlif4ILdzX/2\n",
       "UhLWaA3A6x/PWiP38mzp6OhYqn//IkjX608n/lZvNoZmHbD9J98vWgkB+TkBUQri5tJELzXDNVNR\n",
       "TcqT4I+vWqGXyJb7wz5SXiIF7b0Ygak5ccAymCNgbzsMpng4jyzkJzY7GTAEmrX+DaJRaTVEgPeD\n",
       "7DRa24FWXryiknzrB04cSQTafw695SWnlwPuxbdo4WQkrgpOQ4v2sb9X+Z6CDjwnQjM/5gCR6g66\n",
       "NZWl+uc+2NlF9bPEWiDQpEIL70JQQO7B3ethual9cDAoy18F9v00lN7/7iQXeRyKJ1APpW+CotHg\n",
       "jStXDbq8+Wez+ExtRQ9/fxi7tbo7hMieTcxB8bj2z+ZMvqZr3WO23RsyUABxKeanQYSQjiocJhri\n",
       "UctymMhwm08naPPzKNLnMByl4/yOIShT8VX9GA7S7NmQM08tajocojvF4ZGV6lZn9W86DMae4HXi\n",
       "idcnvviH7DNOOgs0L7Mwrm7FR8KsW/28IngdilzRpzIBZyltLcHfAAAEnkGayUnhDyZTAh///qmW\n",
       "AGommqANwiEfe3MU34PXZVzt99hncodkRFHWKS7GDAyYueHfION7oUbUYXN+CnCgxFrMnllibkzI\n",
       "EJ+oTO7NhmhZv7K2Do2tO1d0IzKz+GWU5CmP+MyPQpbDAcOOenauwJ1fV/6slLxaPnek5cWLY8yL\n",
       "sgXWt4FDnOJALR0BB1VFAfOG2cAAnZw602oORqegmgbnOxvd+U5uMrnTJiBmcVY8EtXQDbwfaBeg\n",
       "4U+qUh33mSGFWPaTkp35lsQ0TmgVY3eR3XnMzxMdPPipVE8KWJTSwKoootzgYs/8w8OlcAJ8NHx2\n",
       "271tLnVh95QEA91uhffe4ufFI5o9ftJa6qIY3IEIU9f5eqhs6cqwDZmOoLk2EbiNuO1Pd9YdlHdg\n",
       "O0+RGxo+MqL1QkAGD3Ybdb1Rzbk8jkIhjWNhczt1DMNAdFT3qZO/RPe5LV9AVB6j7v9bc3tr3ARw\n",
       "ZHtC2ijGHInAWA2En9tJ6+q0p45bB9EUdzNnU95OY408/eWLF8s/CU6ikmN+ylabbanLbeiB6+I9\n",
       "D+SKQ72m3x3ikcvyyw7zXHvdhleKh064RbXEGSUiwkgBwPcF2bR1exkl+/6vNABaGpNdUzJyNaIg\n",
       "Z0r0EIonPwJ1vsaZQCiCOvGYjqZYTydw3Ln85q1kuPwX+qx7iR1EgD7/Dw6Mg1NM/k/Xr+uiTJoP\n",
       "+3tIeIt72x78786viCFslkvKDFo2fuLMV96uhytDMIZXKgAVBQa4v9bxM5JQPqSIAuO1xm/y5amy\n",
       "vFxmHFA+qU33ERKAyQ31dxK0ziYzUy/MD43Esp9ATMrEEt0nuifQFQUWeWzXaLWtTBMtXdu8mBQM\n",
       "ITOTKAJL//HgMk9kzogZALWDxNJISlngSy2wjJV0Dsu+5647bDukK2ywC2Mgpq4MDxmxITXJNY+X\n",
       "tH2kyen+xBWsgGE68H5qxIlyorx9Z+fEAEnerQgJPuqDa9Atf4Xu+kguwWr1NAngdYcU4kpBA7xW\n",
       "M9o/lESgWiBQN68V8we7EOVr//sAVaSMKilqZI+99xZpUKRkHT8qJYzC/PrtwSCDJsYa+o5C2XDP\n",
       "x6PW2dXEVu9oOcMTs9OqXcUPOHdUUCXQGxr+KHN+uKsdmJK8Lr6mIiC9+8K9MVR7KMpouvTIMNtE\n",
       "Wlr2aNqGsIqKYK/wCZfZHzcbb50ykEWai4j6icXrqHz9SnD+zEfE2zl7MBG2uCQWVlp1mFdL0fvu\n",
       "ZGK48OlRg4Nyqe49D6Rh7h6s7ZwTFdyO4XL+2KaLHa2dS90Av2V9zDH27Ylv+aUC34dKhtH7p4/q\n",
       "HOLaVE6C2S1ktHUkMYcWmJEdYNVB+6oomKgYsbzBLfz/ngHNB0EknyzZKy5xjMOg1pYIhJbb79p/\n",
       "PxR/gtw2wM5J0/K9Xy6jCyYB9dORW10unk0N3OiNLo+zyagz8p+qk5/C5zU5IZEIdq4CmxDmbOeG\n",
       "aDaHgIgiTo600QVB5UV9MknjehBP6qZlWPSzn2axiHb00whaa7tjuVQHLXWdDbzsOHCEwPsRWCe6\n",
       "Sb6eEbwW/QzVNwoJLcg+xTH2/pmo+FJB24MRgQAAA4tBmupJ4Q8mUwIf//6plgBqIwPNwdBACyTN\n",
       "9dDpsU+WOtj58JgMkoJGR+3q31bTc6fIqEvy0Z5kZYHRl4mvo5DCc0TzQTeu4EHxpPA4pN0dIH0m\n",
       "xjK1vuWyyCeV8Wc0B3cKH21VM8k516/wDzKs1Ep7YVQiMCGEpzUArxa/5O+fO87/eo7PZIAceTeS\n",
       "2dpWBgY84ZVQxvLZjypCdtiM0tiJvJ3CzXRfcoptrq2J8XST8EfDnu//Bxp8HhOcXWxQzogpDYGr\n",
       "KvoT8oYXF4elmEugivZujYyn0K1vKqGVer3Oqz4HEQh0FMr5+3g8xMm+3MluhrM4sOqx0hUN86bb\n",
       "343yholk/ij3nwTVRL3zaqs0kPpJci6V+vYuchGrUULpW8GLY0B2lAtmLOz/zNLHV8F9YwCnPwDl\n",
       "nLbfHsOFlMxWszt42m+oWMY+NNasa5dU4dHa49/YHA1l9O8jjLPUkkurWfnctGF249B3wzoMvPLY\n",
       "3hh+hWSQfmXWnwo7Lvgs3uGnxawPSjsXA8x9bNAcNejRZJR6UtJ91K2Ipb8GGNsM39PEVzVhyzKZ\n",
       "Lh9pOwxyoVAE19D0ba2Pin15lrYePsbIatYCwzMc+k6+9Ed+yq79oTruKGcPD91V61+ha0GSDUWD\n",
       "kCOHYNjHXqQ6x3y0ghUh15g1u5lgRSsmWyufkYtc8ODAaDaWkhD2uKyxfJ9QTQdoFLKzhBCygfZJ\n",
       "XgT8B18BTnS68dX6B64g7nCYcdDVJoSh71ZLxmrDx6UrurajF9+15xx6iHNj6bayfF59H476AKtW\n",
       "RaZDcw+EfuYnVNP9c2Ty0ckLy6eiTPGV4UQjQhUuf1J2GAcd7lW7l4DnOhMT8pbqtg1WNW+exXUw\n",
       "Z6QEaNQ8296TIb1u0EyIaRtzlTYD5qoTzXqqP5y0llcMkNZ90Bq6R2dtobwcQSikAAdsgN5J5O71\n",
       "6io0o82AOVg33bdbyyPZGj/dWgXUFnNpX0MWzv7A9HirY9tJ/VD9n4Rieay2TMFSpMPFnlbk5Qne\n",
       "BksOnsfklZrmCbrXoBQrYnWumkhW4IREA+KgC6Ts7vZ8CiGSNRjTcIBwvcNKXEOeTCE5avCqXZ4W\n",
       "sPrdvb/SVcgjyEUguYbPcGTNzzJFo8QvrFACdzfXWk1Qvk//CzHFeYnQpDrBwfYwnO7EXFrH+ACS\n",
       "nzuwDhzM8XAv54iS458dC0YNs+LWMiyssDQhAAAEzEGbDUnhDyZTAhv//qeEANa6lCNQAJyPuNEM\n",
       "nWbmlCW41T01RZrIBXwJj3tF9GKSlMnahfVb/LpscE6wo9r6+73WWv/hzahldtFrhk5YtSbCAZyy\n",
       "C7wr84n0GZhTQB1driGgVSXlT8cR1o4iSr7PhoF7tQYXj7gEHi4TBCkU726kycKcD9O0pY96lyiY\n",
       "2r6u+yYitji29lwfVaxD/ZnaBFqBSM06YoxtQtwhyIW1xK4jZ7zMc2SS01HAzKhYYPyrf5HpcrlN\n",
       "RzN6uZQCfInXE2VLaX0BUD8vAZK51He3ysVrt5ClzTWtBrykgH0YJ+YMkfjGpxLN3Knr7qnYIKM1\n",
       "vdNhj7yvgZ0Y0k1OsmOZh6g1jugaLAhQd2oty54VD2hsvpX8+eMIxkIN+75PupkcCqbpqEggrtHV\n",
       "0mUABMm6oFVqwH4+S44dZko5Wqd6FgDtwRfgXMfZbV4y0bBjX1OhndLxN2Gfk9zgw0+1qfGRPVF3\n",
       "Ttm9TDs3KiQBuLeJ27TI5nj2cECUAmBuRv42VEE0p/61QFl/KbmhCdyTKYsV/sFGZqMADe61DHON\n",
       "kGLMlEf3JB/YVQPZns5UZCfI3rLhAnpmhYGHI0SuQFgxKk+vOtgftA0VMWm+M83i+JmZeTG7Jil+\n",
       "i7Zn5VJ0kovDvINtAA9sCKAxxl4gU11NmVNDj/Ap2FhcvRq26f0YmKwBjPRe/EKceOTzB3c3LI/2\n",
       "UccGTQQkBYd3KZB/4iREuH6RUMTgEzLKQ6c/YqMN8i3KXrIZrs3Xim3o7aAQXqcjlGwt7+aO9rnM\n",
       "T0JTCy705WM4ryoAL73BYQqvO8LLqSUS+Idc830Wb39ruk/wJMeFnln8gVUaxJmKvHNN0mC0MD5s\n",
       "oW6p+o46/WARqb4JmatdD1mtBH0awQvtq0iAm79xyr9Id3JEWJqu0z1cv7DycqMH1v7036jtHyRS\n",
       "QrRlwRe8qL+bd5Y/wLNZtt3oEJ3Qy0Rm9lqxOCDu+blDaYz+J+mJjmgdnquLxjUgDdtdIiyYUs8i\n",
       "CE20sJe1XsJ5bcP6UsFtNEVAbspeFB0waBSEoLt6wOArqkJieZ4ndOVotdT2rRczqGHeePYImGR7\n",
       "8zCfk7ZL5miJRW/xbvEsvPygWrJphIIj6ehIWoH87byW4U3nqGyGrdnLPiuFkCfcvql5O2tiQUtn\n",
       "LTwGOlu7U71jkWccxazrjWvmLUgffE1m+kTa9RqeOrmhmuaRuBd/uQW1TGDYWazMMnuzuT0kog03\n",
       "e0fC3PJajFSdmnCmjqQLs/nyOHJ1F8lyBWHu4H4Dtc2Q4yonKu65NuypHelpHHV8kNk1ssr1i/q9\n",
       "G3TpSH+1m45Y+YVGbM/Zb6ZLLkQWwLcTNPn1uNC4G5sXk9bHNoF04wtribuTcn0nftSMRrIYalhU\n",
       "fVfeH4Yr3Ese0S4BaT4PZoRZqyNo0urjAyr2Cjh7SqnLCHfm9CODVsP79PupXWFTtrZInYPfHGhW\n",
       "QB1GEG9cfiOSLMDhudY+rxKj/a/lPgYTP9J/sHIBRTTjUA9GxmGsaJlDngu1gxr1xg3WLwexXtTc\n",
       "qIVU/Zzlf5hFGT1EXtXIqydAds6h9FmGfjswEPRHUMTqJz5qas63nEjx7bKr6Cll/eOBKryITq0r\n",
       "2sd0ISsAAANlQZ8rRRE8N/8ATWvNKz6dzEABDZnuXJe02pP44EViBobvq91gN4Kwtr6pziGuyk2s\n",
       "o8z7JRTr/A5OsjnCIkrclHp2E66pKPAjmstNvCdwwK9T/oM3bWrouuxTsuUii4XrXg0iaF/+HVfK\n",
       "11T3UPBCAxCEcF0iSB3Y1Ni3oZhG8LMOBk0WDj+c7Kfv7bum8ZWl0ts4U/7wtB+bUSlXb1VLJ7lJ\n",
       "PC/Z+j/HOj2W4mk8VgO+lknwDM2ZATbxkuiDWdfADMb8aSjD84kb7aAkyC8sGezifcCYB6kvTQqp\n",
       "W3tc+HSFgNLWq/NKLTf8djFBOXQbQptf7VdEXUSIu9CjbmxbquSz9vwZyJ9RqzWn0Ah/OaACYbj4\n",
       "hr8K5jSbQ8MyAr6fkAeQ6knybUr7C0U9zgIH+2olZeCWyprgOg5wfFN2d7xxbMyrALC91l+YvePq\n",
       "6FXS+1J+Ww5cMv/z4LLd0gIR60qUIGCrf0ZZLv/EF/aup50SoFkRqowzaPSIAvAEcLhPBTlKqa9u\n",
       "cSIMC/nG3FHdUqxSbwuR3QE9mxVASvFsHWXyk4rtj3roIWga07Gx2ZSrH04LMS5vKOZcvUsymkrG\n",
       "9quzIjv6OL2qPDysLxRGo1mtJ9108vTjo4qtkkK943k5ouv/x76t3gcyTbU/+E6Ua+mr/G5yZcqD\n",
       "x9MfD+cOnJLqRM+fJzgkV2GfEOnKrwvBiEoBnPFx+P6cPZ+cT8HHPTztORRTjAD2objguocV1zrW\n",
       "WSlsF7+O3mFr1aYT5b6EwO/dR+Qm05/Y4jqrp7hj0QdmYHoBSM+1XGIodUsbYI96f4L9K/ktPmvC\n",
       "ixWZ7UN5HOooJMxoPTwooOXlVaB0CyWqjwlpM5o4yJhgXl86UzwcFXbf0yMOifTn88XdC5kN2U2e\n",
       "UMI5m4Q0ev92fvkzO1b/fljx1u5ZlUkBq1qD0R8NvUq0rzd2xX/je2WJGJrINiFzWNGTI8GhwXZe\n",
       "mEkMM+JfwCAcvdJuocXOl0U4kmqJb6MG5DhS48Ki9Vyv1m7n5PIF6AfyQ2yOo3Z65v6h6Umges9m\n",
       "EgbRHo2n2CUg9noPxEEzP7QPkqzC4Y9+JCkojVkIABk+G96ui4bizZ/WBtnwLVV4RYIAATuGpGtc\n",
       "H+4gN6DyT1TBkzOKArlun4pl3LR4QS4AAAMuAZ9MakN/AE1yQuQH/cl3USgl1ourFz4zedNBIh5L\n",
       "dpaE8sMUiBu2DiyPZlke4pTmTtZGIstOL8537SyummmQ/GE45GIL3PAb2XcfmcYjv979M7FVsuDl\n",
       "uBC+EJLH5dFFamjA8BdZYnP+LEa16ki+4qxsK92U2QuhOG1uFrA47VIERt1lbUMpQut/5XF9UFNS\n",
       "1SX+FlpRidkmWFUa1+vi1USLghcYW5y7jMM3MehMjPZRYiXYLCfOez6wErZWGU1AGrVvNJVl+ljH\n",
       "wnBkeyeNRbOGLcYcTB0b3eG0PMv2WGI6MYt8Sbc2HJh8yGUZSgDFYlJQbpDyIUp4p6X9XyPgIHV8\n",
       "6TwlzA1brCWsR58s1JD/LcdGjT45Q8e8OrJhYoPvz9Gzzl9vmxws4SHQ8zxbgN6vIckFlM1/Hlz3\n",
       "2DK9EI1F8yDHu2HPDP2DCLMKqrNNbBxRrfz9UD9+m4DKm/xWGY1WpjrlBRB6QN9qVMwt2bjdGKSM\n",
       "R2g2A4Wdxvb8ukjEs6FBmam1CnKjndZ9tSUaYcxnjGwYcxagNEIPi62uHnRju1dVEbWkZT1+o/ZX\n",
       "ZyRZpmpRZmFk/UNez3LNoo+y0otqgxYJ3C1HsUhBJNDKN9UA6vcZabo9jlaEK5uJ+S2yMGMMt8dU\n",
       "nOZ/BfxFh8dnK95J/atZDoTt0zE3LRnDL8xTexFhiHtuDUwmcBhy4K+G7Mu45LNH5itxnZjPdMfK\n",
       "XDhBJo6sCpIrzZB5EuNq7Yte2LPOmNDLbQ8U8E2wyilAAi9zeaG5Amu+hzjY4h2OpCcJbDm28yvo\n",
       "8ADfzv6nvbLX0xF4DYy4ZEfaCBBLc0XhxAm/p9Bk9qo36DC28iDtbrgS+GNpVjsWe8LiH3TZw+7N\n",
       "UYsKzGS5gKGqFBHHTQUVl1KJauB6+/TMrON7G/LPLcVDB1OHwOJk+nDjGBgR/h+3OjN0ngQUI7By\n",
       "87lShZmNhwjGFDgnUO5xJg5LQ0Q6I2/Of8p9Wc5s1WZ27kiqlmC4Bar9K/hlorO2UY5vU3f5kL9i\n",
       "1ty9HRhG7+2UWgBT3nChmCj1a06t0JTsxYhQ70UWedDk7FcRv+sYoS2uZQAAA75tb292AAAAbG12\n",
       "aGQAAAAAAAAAAAAAAAAAAAPoAAAFeAABAAABAAAAAAAAAAAAAAAAAQAAAAAAAAAAAAAAAAAAAAEA\n",
       "AAAAAAAAAAAAAAAAAEAAAAAAAAAAAAAAAAAAAAAAAAAAAAAAAAAAAAAAAAACAAAC6HRyYWsAAABc\n",
       "dGtoZAAAAAMAAAAAAAAAAAAAAAEAAAAAAAAFeAAAAAAAAAAAAAAAAAAAAAAAAQAAAAAAAAAAAAAA\n",
       "AAAAAAEAAAAAAAAAAAAAAAAAAEAAAAABsAAAASAAAAAAACRlZHRzAAAAHGVsc3QAAAAAAAAAAQAA\n",
       "BXgAAAgAAAEAAAAAAmBtZGlhAAAAIG1kaGQAAAAAAAAAAAAAAAAAACgAAAA4AFXEAAAAAAAtaGRs\n",
       "cgAAAAAAAAAAdmlkZQAAAAAAAAAAAAAAAFZpZGVvSGFuZGxlcgAAAAILbWluZgAAABR2bWhkAAAA\n",
       "AQAAAAAAAAAAAAAAJGRpbmYAAAAcZHJlZgAAAAAAAAABAAAADHVybCAAAAABAAABy3N0YmwAAACz\n",
       "c3RzZAAAAAAAAAABAAAAo2F2YzEAAAAAAAAAAQAAAAAAAAAAAAAAAAAAAAABsAEgAEgAAABIAAAA\n",
       "AAAAAAEAAAAAAAAAAAAAAAAAAAAAAAAAAAAAAAAAAAAAAAAAAAAY//8AAAAxYXZjQwFkABX/4QAY\n",
       "Z2QAFazZQbCWhAAAAwAEAAADAFA8WLZYAQAGaOvjyyLAAAAAHHV1aWRraEDyXyRPxbo5pRvPAyPz\n",
       "AAAAAAAAABhzdHRzAAAAAAAAAAEAAAAOAAAEAAAAABRzdHNzAAAAAAAAAAEAAAABAAAAaGN0dHMA\n",
       "AAAAAAAACwAAAAEAAAgAAAAAAQAADAAAAAABAAAEAAAAAAEAAAwAAAAAAQAABAAAAAABAAAIAAAA\n",
       "AAEAAAwAAAAAAQAABAAAAAADAAAIAAAAAAEAABAAAAAAAgAABAAAAAAcc3RzYwAAAAAAAAABAAAA\n",
       "AQAAAA4AAAABAAAATHN0c3oAAAAAAAAAAAAAAA4AAB0uAAAGZgAAAxEAAATbAAADCwAABLEAAAVl\n",
       "AAADLQAABE0AAASiAAADjwAABNAAAANpAAADMgAAABRzdGNvAAAAAAAAAAEAAAAsAAAAYnVkdGEA\n",
       "AABabWV0YQAAAAAAAAAhaGRscgAAAAAAAAAAbWRpcmFwcGwAAAAAAAAAAAAAAAAtaWxzdAAAACWp\n",
       "dG9vAAAAHWRhdGEAAAABAAAAAExhdmY1OC4yOS4xMDA=\n",
       "\">\n",
       "  Your browser does not support the video tag.\n",
       "</video>"
      ],
      "text/plain": [
       "<IPython.core.display.HTML object>"
      ]
     },
     "execution_count": 19,
     "metadata": {},
     "output_type": "execute_result"
    }
   ],
   "source": [
    "display_videos(train_sample_data[\"y\"], 2, 4)"
   ]
  },
  {
   "cell_type": "markdown",
   "id": "dac21e84-38a8-4c33-8404-e8e118ad5be6",
   "metadata": {},
   "source": [
    "train_ds = strategy.experimental_distribute_dataset(train_ds)\n",
    "validation_ds = strategy.experimental_distribute_dataset(validation_ds)\n",
    "test_ds = strategy.experimental_distribute_dataset(test_ds)"
   ]
  },
  {
   "cell_type": "code",
   "execution_count": 20,
   "id": "4aa7cedb-d229-415e-9162-b4ac9dc89fc5",
   "metadata": {},
   "outputs": [],
   "source": [
    "from ganime.utils.callbacks import TensorboardVideo, get_logdir\n",
    "import os\n",
    "\n",
    "logdir = get_logdir(\"../../../logs/ganime/transformers\", experiment_name=\"mnist_video\")\n",
    "tensorboard_callback = tf.keras.callbacks.TensorBoard(log_dir=logdir)\n",
    "tensorboard_video_callback = TensorboardVideo(logdir, train_sample_data, validation_sample_data)\n",
    "early_stopping = tf.keras.callbacks.EarlyStopping(\n",
    "    monitor=\"val_loss\",\n",
    "    min_delta=0.001,\n",
    "    patience=50,\n",
    "    restore_best_weights=True,\n",
    ")\n",
    "checkpointing = tf.keras.callbacks.ModelCheckpoint(os.path.join(logdir, \"checkpoint\", \"checkpoint\"), monitor='val_loss', save_best_only=True, save_weights_only=True)\n",
    "#callbacks = [tensorboard_callback, early_stopping, checkpointing, tensorboard_video_callback]\n",
    "callbacks = [tensorboard_callback, checkpointing, tensorboard_video_callback]"
   ]
  },
  {
   "cell_type": "code",
   "execution_count": 22,
   "id": "92b4a1d3-8c67-458d-ad52-ecab8390438c",
   "metadata": {},
   "outputs": [],
   "source": [
    "images = train_sample_data[\"y\"][:,0,...]"
   ]
  },
  {
   "cell_type": "code",
   "execution_count": 22,
   "id": "b0fe4f08-4aae-4c30-bcd6-cf8f3e9ed40c",
   "metadata": {},
   "outputs": [
    {
     "data": {
      "text/plain": [
       "(8, 11, 64, 64, 3)"
      ]
     },
     "execution_count": 22,
     "metadata": {},
     "output_type": "execute_result"
    }
   ],
   "source": [
    "train_sample_data[\"y\"].shape"
   ]
  },
  {
   "cell_type": "code",
   "execution_count": 46,
   "id": "66be9456-796e-4618-8ed2-26257f58773f",
   "metadata": {
    "tags": []
   },
   "outputs": [
    {
     "name": "stdout",
     "output_type": "stream",
     "text": [
      "Working with z of shape (1, 128, 16, 16) = 32768 dimensions.\n",
      "VQLPIPSWithDiscriminator running with hinge loss.\n"
     ]
    },
    {
     "name": "stderr",
     "output_type": "stream",
     "text": [
      "All model checkpoint layers were used when initializing TFGPT2Model.\n",
      "\n",
      "All the layers of TFGPT2Model were initialized from the model checkpoint at gpt2-medium.\n",
      "If your task is similar to the task the model of the checkpoint was trained on, you can already use TFGPT2Model for predictions without further training.\n"
     ]
    }
   ],
   "source": [
    "#with strategy.scope():\n",
    "model = Net2Net(**cfg[\"model\"], trainer_config=cfg[\"train\"])\n",
    "#model.build(train_sample_data[\"y\"].shape)#first_stage_model.build(train_sample_data[\"y\"].shape[1:])\n",
    "model.first_stage_model.build(train_sample_data[\"y\"].shape[1:])"
   ]
  },
  {
   "cell_type": "code",
   "execution_count": 24,
   "id": "0aa12dd2-20a1-4760-b392-9f10eb3476a3",
   "metadata": {},
   "outputs": [],
   "source": [
    "from pynvml import *\n",
    "\n",
    "\n",
    "def print_gpu_utilization():\n",
    "    nvmlInit()\n",
    "    handle = nvmlDeviceGetHandleByIndex(0)\n",
    "    info = nvmlDeviceGetMemoryInfo(handle)\n",
    "    print(f\"GPU memory occupied: {info.used//1024**2} MB.\")"
   ]
  },
  {
   "cell_type": "code",
   "execution_count": 25,
   "id": "da5313ea-35c7-4f99-9413-10ed7771ef8d",
   "metadata": {},
   "outputs": [
    {
     "name": "stdout",
     "output_type": "stream",
     "text": [
      "GPU memory occupied: 23889 MB.\n"
     ]
    }
   ],
   "source": [
    "print_gpu_utilization()"
   ]
  },
  {
   "cell_type": "markdown",
   "id": "7936da37-67cd-4b81-9744-2f4402db1376",
   "metadata": {
    "tags": []
   },
   "source": [
    "for i in range(10):\n",
    "    pbar = tqdm(train_ds)\n",
    "    for data in pbar:\n",
    "        output = strategy.run(model.train_step, args=(data,))\n",
    "        pbar.set_postfix(loss=output[\"loss\"].numpy())"
   ]
  },
  {
   "cell_type": "code",
   "execution_count": 26,
   "id": "da5dd8b1-39db-4d97-bc84-6ae46631a646",
   "metadata": {
    "tags": []
   },
   "outputs": [
    {
     "name": "stdout",
     "output_type": "stream",
     "text": [
      "Epoch 1/500\n"
     ]
    },
    {
     "ename": "TypeError",
     "evalue": "in user code:\n\n    File \"/usr/local/lib/python3.8/dist-packages/keras/engine/training.py\", line 878, in train_function  *\n        return step_function(self, iterator)\n    File \"/GANime/ganime/model/vqgan_clean/experimental/net2net.py\", line 139, in body  *\n        cz_indices = tf.concat((last_frame_indices, previous_frame_indices, remaining_time), axis=1)\n\n    TypeError: Tensors in list passed to 'values' of 'ConcatV2' Op have types [int32, int32, float32] that don't all match.\n",
     "output_type": "error",
     "traceback": [
      "\u001b[0;31m---------------------------------------------------------------------------\u001b[0m",
      "\u001b[0;31mTypeError\u001b[0m                                 Traceback (most recent call last)",
      "Input \u001b[0;32mIn [26]\u001b[0m, in \u001b[0;36m<cell line: 1>\u001b[0;34m()\u001b[0m\n\u001b[0;32m----> 1\u001b[0m \u001b[43mmodel\u001b[49m\u001b[38;5;241;43m.\u001b[39;49m\u001b[43mfit\u001b[49m\u001b[43m(\u001b[49m\u001b[43mtrain_ds\u001b[49m\u001b[43m,\u001b[49m\u001b[43m \u001b[49m\u001b[43mvalidation_data\u001b[49m\u001b[38;5;241;43m=\u001b[39;49m\u001b[43mvalidation_ds\u001b[49m\u001b[43m,\u001b[49m\u001b[43m \u001b[49m\u001b[43msteps_per_epoch\u001b[49m\u001b[38;5;241;43m=\u001b[39;49m\u001b[38;5;241;43m10\u001b[39;49m\u001b[43m,\u001b[49m\u001b[43m \u001b[49m\u001b[43mepochs\u001b[49m\u001b[38;5;241;43m=\u001b[39;49m\u001b[43mcfg\u001b[49m\u001b[43m[\u001b[49m\u001b[38;5;124;43m\"\u001b[39;49m\u001b[38;5;124;43mtrain\u001b[39;49m\u001b[38;5;124;43m\"\u001b[39;49m\u001b[43m]\u001b[49m\u001b[43m[\u001b[49m\u001b[38;5;124;43m\"\u001b[39;49m\u001b[38;5;124;43mn_epochs\u001b[39;49m\u001b[38;5;124;43m\"\u001b[39;49m\u001b[43m]\u001b[49m\u001b[43m,\u001b[49m\u001b[43m \u001b[49m\u001b[43mcallbacks\u001b[49m\u001b[38;5;241;43m=\u001b[39;49m\u001b[43mcallbacks\u001b[49m\u001b[43m)\u001b[49m\n",
      "File \u001b[0;32m/usr/local/lib/python3.8/dist-packages/keras/utils/traceback_utils.py:67\u001b[0m, in \u001b[0;36mfilter_traceback.<locals>.error_handler\u001b[0;34m(*args, **kwargs)\u001b[0m\n\u001b[1;32m     65\u001b[0m \u001b[38;5;28;01mexcept\u001b[39;00m \u001b[38;5;167;01mException\u001b[39;00m \u001b[38;5;28;01mas\u001b[39;00m e:  \u001b[38;5;66;03m# pylint: disable=broad-except\u001b[39;00m\n\u001b[1;32m     66\u001b[0m   filtered_tb \u001b[38;5;241m=\u001b[39m _process_traceback_frames(e\u001b[38;5;241m.\u001b[39m__traceback__)\n\u001b[0;32m---> 67\u001b[0m   \u001b[38;5;28;01mraise\u001b[39;00m e\u001b[38;5;241m.\u001b[39mwith_traceback(filtered_tb) \u001b[38;5;28;01mfrom\u001b[39;00m \u001b[38;5;28mNone\u001b[39m\n\u001b[1;32m     68\u001b[0m \u001b[38;5;28;01mfinally\u001b[39;00m:\n\u001b[1;32m     69\u001b[0m   \u001b[38;5;28;01mdel\u001b[39;00m filtered_tb\n",
      "File \u001b[0;32m/usr/local/lib/python3.8/dist-packages/tensorflow/python/framework/func_graph.py:1129\u001b[0m, in \u001b[0;36mfunc_graph_from_py_func.<locals>.autograph_handler\u001b[0;34m(*args, **kwargs)\u001b[0m\n\u001b[1;32m   1127\u001b[0m \u001b[38;5;28;01mexcept\u001b[39;00m \u001b[38;5;167;01mException\u001b[39;00m \u001b[38;5;28;01mas\u001b[39;00m e:  \u001b[38;5;66;03m# pylint:disable=broad-except\u001b[39;00m\n\u001b[1;32m   1128\u001b[0m   \u001b[38;5;28;01mif\u001b[39;00m \u001b[38;5;28mhasattr\u001b[39m(e, \u001b[38;5;124m\"\u001b[39m\u001b[38;5;124mag_error_metadata\u001b[39m\u001b[38;5;124m\"\u001b[39m):\n\u001b[0;32m-> 1129\u001b[0m     \u001b[38;5;28;01mraise\u001b[39;00m e\u001b[38;5;241m.\u001b[39mag_error_metadata\u001b[38;5;241m.\u001b[39mto_exception(e)\n\u001b[1;32m   1130\u001b[0m   \u001b[38;5;28;01melse\u001b[39;00m:\n\u001b[1;32m   1131\u001b[0m     \u001b[38;5;28;01mraise\u001b[39;00m\n",
      "\u001b[0;31mTypeError\u001b[0m: in user code:\n\n    File \"/usr/local/lib/python3.8/dist-packages/keras/engine/training.py\", line 878, in train_function  *\n        return step_function(self, iterator)\n    File \"/GANime/ganime/model/vqgan_clean/experimental/net2net.py\", line 139, in body  *\n        cz_indices = tf.concat((last_frame_indices, previous_frame_indices, remaining_time), axis=1)\n\n    TypeError: Tensors in list passed to 'values' of 'ConcatV2' Op have types [int32, int32, float32] that don't all match.\n"
     ]
    }
   ],
   "source": [
    "model.fit(train_ds, validation_data=validation_ds, steps_per_epoch=10, epochs=cfg[\"train\"][\"n_epochs\"], callbacks=callbacks)"
   ]
  },
  {
   "cell_type": "code",
   "execution_count": null,
   "id": "5b0cec6e-b287-49d9-8848-ed32d695e3d8",
   "metadata": {},
   "outputs": [],
   "source": [
    "generated_videos = model(sample)"
   ]
  },
  {
   "cell_type": "code",
   "execution_count": null,
   "id": "3d399fa7-3a52-466d-a742-04f00816cf2a",
   "metadata": {},
   "outputs": [],
   "source": [
    "display_videos(generated_videos, 2, 4)"
   ]
  },
  {
   "cell_type": "code",
   "execution_count": null,
   "id": "b583a6a7-7d07-47fc-9b71-1d718f48ce9e",
   "metadata": {},
   "outputs": [],
   "source": [
    "display_videos(train_sample_data[\"y\"], 2, 4)"
   ]
  },
  {
   "cell_type": "code",
   "execution_count": null,
   "id": "ee59bbc9-96f5-4e93-80b2-ae760b068cdd",
   "metadata": {},
   "outputs": [],
   "source": [
    "quant_z, indices = model.encode_to_z(images)"
   ]
  },
  {
   "cell_type": "code",
   "execution_count": null,
   "id": "65336fd2-1a64-4635-ab2d-6275749d1de4",
   "metadata": {},
   "outputs": [],
   "source": [
    "quant = model.first_stage_model.quantize.get_codebook_entry(\n",
    "    indices, shape=tf.shape(quant_z)\n",
    ")\n",
    "decoded = model.first_stage_model.decode(quant)"
   ]
  },
  {
   "cell_type": "code",
   "execution_count": null,
   "id": "c6751d91-e4d2-44f2-9778-8c5b23d698e3",
   "metadata": {
    "tags": []
   },
   "outputs": [],
   "source": [
    "display_images(model.first_stage_model(images)[0])\n",
    "plt.show()"
   ]
  },
  {
   "cell_type": "code",
   "execution_count": null,
   "id": "2ab52bd5-c95e-4fc1-9009-76e1f7f6425a",
   "metadata": {},
   "outputs": [],
   "source": [
    "display_images(generated_videos[:,0,...])"
   ]
  },
  {
   "cell_type": "code",
   "execution_count": null,
   "id": "b576c96f-c0a6-401b-877a-5eaf7b69ec03",
   "metadata": {},
   "outputs": [],
   "source": []
  }
 ],
 "metadata": {
  "kernelspec": {
   "display_name": "Python 3 (ipykernel)",
   "language": "python",
   "name": "python3"
  },
  "language_info": {
   "codemirror_mode": {
    "name": "ipython",
    "version": 3
   },
   "file_extension": ".py",
   "mimetype": "text/x-python",
   "name": "python",
   "nbconvert_exporter": "python",
   "pygments_lexer": "ipython3",
   "version": "3.8.10"
  }
 },
 "nbformat": 4,
 "nbformat_minor": 5
}
