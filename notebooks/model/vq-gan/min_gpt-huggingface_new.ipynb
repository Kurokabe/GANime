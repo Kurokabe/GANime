{
 "cells": [
  {
   "cell_type": "code",
   "execution_count": 1,
   "id": "8c995bfd-ceef-4145-a103-c2a064be737e",
   "metadata": {},
   "outputs": [],
   "source": [
    "import os\n",
    "os.environ[\"CUDA_DEVICE_ORDER\"]=\"PCI_BUS_ID\"   # see issue #152\n",
    "#os.environ[\"CUDA_VISIBLE_DEVICES\"]=\"0\""
   ]
  },
  {
   "cell_type": "code",
   "execution_count": 2,
   "id": "a2a9c822-ecf1-44b2-aaf6-c7122a777180",
   "metadata": {},
   "outputs": [],
   "source": [
    "%load_ext autoreload\n",
    "%autoreload 2"
   ]
  },
  {
   "cell_type": "code",
   "execution_count": 3,
   "id": "639df7f6-3066-44e2-a9c0-60bc80e81a83",
   "metadata": {},
   "outputs": [],
   "source": [
    "import sys\n",
    "sys.path.append(\"../../../\")"
   ]
  },
  {
   "cell_type": "markdown",
   "id": "58672f89-39c3-4e2c-9960-c51fad5e2709",
   "metadata": {},
   "source": [
    "\n",
    "from tensorflow.keras import mixed_precision\n",
    "\n",
    "policy = mixed_precision.Policy('mixed_float16')\n",
    "mixed_precision.set_global_policy(policy)\n",
    "print('Compute dtype: %s' % policy.compute_dtype)\n",
    "print('Variable dtype: %s' % policy.variable_dtype)"
   ]
  },
  {
   "cell_type": "code",
   "execution_count": 4,
   "id": "277a395f-1f54-4d91-be02-214f698f0c31",
   "metadata": {},
   "outputs": [],
   "source": [
    "import tensorflow as tf\n",
    "for device in tf.config.list_physical_devices(\"GPU\"):\n",
    "    tf.config.experimental.set_memory_growth(device, True)"
   ]
  },
  {
   "cell_type": "code",
   "execution_count": 5,
   "id": "7f01a67a-1183-424a-8eda-986b6be4173c",
   "metadata": {},
   "outputs": [
    {
     "name": "stderr",
     "output_type": "stream",
     "text": [
      "2022-06-19 10:25:40.733673: I tensorflow/core/platform/cpu_feature_guard.cc:151] This TensorFlow binary is optimized with oneAPI Deep Neural Network Library (oneDNN) to use the following CPU instructions in performance-critical operations:  AVX2 FMA\n",
      "To enable them in other operations, rebuild TensorFlow with the appropriate compiler flags.\n",
      "2022-06-19 10:25:45.705957: I tensorflow/core/common_runtime/gpu/gpu_device.cc:1525] Created device /job:localhost/replica:0/task:0/device:GPU:0 with 14252 MB memory:  -> device: 0, name: NVIDIA RTX A4000, pci bus id: 0000:01:00.0, compute capability: 8.6\n",
      "2022-06-19 10:25:45.707255: I tensorflow/core/common_runtime/gpu/gpu_device.cc:1525] Created device /job:localhost/replica:0/task:0/device:GPU:1 with 14252 MB memory:  -> device: 1, name: NVIDIA RTX A4000, pci bus id: 0000:25:00.0, compute capability: 8.6\n",
      "2022-06-19 10:25:45.708253: I tensorflow/core/common_runtime/gpu/gpu_device.cc:1525] Created device /job:localhost/replica:0/task:0/device:GPU:2 with 14252 MB memory:  -> device: 2, name: NVIDIA RTX A4000, pci bus id: 0000:41:00.0, compute capability: 8.6\n",
      "2022-06-19 10:25:45.709164: I tensorflow/core/common_runtime/gpu/gpu_device.cc:1525] Created device /job:localhost/replica:0/task:0/device:GPU:3 with 14252 MB memory:  -> device: 3, name: NVIDIA RTX A4000, pci bus id: 0000:61:00.0, compute capability: 8.6\n",
      "2022-06-19 10:25:45.710159: I tensorflow/core/common_runtime/gpu/gpu_device.cc:1525] Created device /job:localhost/replica:0/task:0/device:GPU:4 with 14252 MB memory:  -> device: 4, name: NVIDIA RTX A4000, pci bus id: 0000:81:00.0, compute capability: 8.6\n",
      "2022-06-19 10:25:45.711108: I tensorflow/core/common_runtime/gpu/gpu_device.cc:1525] Created device /job:localhost/replica:0/task:0/device:GPU:5 with 14252 MB memory:  -> device: 5, name: NVIDIA RTX A4000, pci bus id: 0000:a1:00.0, compute capability: 8.6\n",
      "2022-06-19 10:25:45.712035: I tensorflow/core/common_runtime/gpu/gpu_device.cc:1525] Created device /job:localhost/replica:0/task:0/device:GPU:6 with 14252 MB memory:  -> device: 6, name: NVIDIA RTX A4000, pci bus id: 0000:c1:00.0, compute capability: 8.6\n",
      "2022-06-19 10:25:45.712972: I tensorflow/core/common_runtime/gpu/gpu_device.cc:1525] Created device /job:localhost/replica:0/task:0/device:GPU:7 with 14252 MB memory:  -> device: 7, name: NVIDIA RTX A4000, pci bus id: 0000:e1:00.0, compute capability: 8.6\n"
     ]
    }
   ],
   "source": [
    "import omegaconf\n",
    "import numpy as np\n",
    "import matplotlib.pyplot as plt\n",
    "from ganime.data.experimental import ImageDataset, VideoDataset\n",
    "from ganime.visualization.videos import display_videos\n",
    "from ganime.visualization.images import display_images\n",
    "from ganime.model.vqgan_clean.experimental.net2net import Net2Net\n",
    "import tensorflow_addons as tfa\n",
    "from datetime import datetime\n",
    "from tqdm.auto import tqdm\n",
    "from pyprojroot.pyprojroot import here\n",
    "\n",
    "tf.get_logger().setLevel('WARNING')\n",
    "import warnings\n",
    "warnings.filterwarnings('ignore')"
   ]
  },
  {
   "cell_type": "code",
   "execution_count": 6,
   "id": "64804403-13f9-4157-9dbb-757df9448525",
   "metadata": {},
   "outputs": [],
   "source": [
    "strategy = tf.distribute.MirroredStrategy(cross_device_ops=tf.distribute.HierarchicalCopyAllReduce())"
   ]
  },
  {
   "cell_type": "code",
   "execution_count": 7,
   "id": "b530068b-b80a-4553-b0bb-5ec609da7c4e",
   "metadata": {},
   "outputs": [],
   "source": [
    "cfg = omegaconf.OmegaConf.load(here(\"configs/moving_mnist_image_transformer_huggingface.yaml\"))\n",
    "#cfg = omegaconf.OmegaConf.load(here(\"configs/default_transformer.yaml\"))\n",
    "batch_size = cfg[\"train\"][\"batch_size\"] \n",
    "global_batch_size = batch_size * strategy.num_replicas_in_sync\n",
    "n_epochs = cfg[\"train\"][\"n_epochs\"]"
   ]
  },
  {
   "cell_type": "code",
   "execution_count": 8,
   "id": "d0216592-8406-46fe-b5c9-bfb39ce04b23",
   "metadata": {},
   "outputs": [],
   "source": [
    "dataset_length = 10000\n",
    "num_batch = dataset_length / batch_size"
   ]
  },
  {
   "cell_type": "markdown",
   "id": "466810d7-a54f-4cf3-90fa-22bd15c35e25",
   "metadata": {},
   "source": [
    "def preprocess(element):\n",
    "    element = tf.reshape(element, (tf.shape(element)[0], tf.shape(element)[1], tf.shape(element)[2], 3))\n",
    "    element = tf.cast(element, tf.float32) / 255.0\n",
    "    first_frame = element[0,...]\n",
    "    last_frame = element[2,...]\n",
    "    \n",
    "    y = element[0:3,...]\n",
    "    \n",
    "    return {\"first_frame\": first_frame, \"last_frame\": last_frame, \"y\": y, \"n_frames\": tf.shape(element)[0]}"
   ]
  },
  {
   "cell_type": "code",
   "execution_count": 9,
   "id": "0bd301a6-c566-443d-879d-e58c1a2ecc68",
   "metadata": {},
   "outputs": [],
   "source": [
    "def preprocess(element):\n",
    "    element = tf.reshape(element, (tf.shape(element)[0], tf.shape(element)[1], tf.shape(element)[2], 3))\n",
    "    element = tf.cast(element, tf.float32) / 255.0\n",
    "    element = element[:10,...]\n",
    "    first_frame = element[0,...]\n",
    "    last_frame = element[-1,...]\n",
    "    \n",
    "    y = element\n",
    "    \n",
    "    return {\"first_frame\": first_frame, \"last_frame\": last_frame, \"y\": y, \"n_frames\": tf.shape(element)[0]}"
   ]
  },
  {
   "cell_type": "code",
   "execution_count": 10,
   "id": "293f1357-eb57-4561-9f54-c10912f1dd67",
   "metadata": {},
   "outputs": [],
   "source": [
    "dataset = VideoDataset(\"../../../data/moving_mnist_tfrecords\").load()\n",
    "dataset = dataset.shuffle(dataset_length, reshuffle_each_iteration=True).map(preprocess, num_parallel_calls=tf.data.AUTOTUNE).prefetch(tf.data.AUTOTUNE)"
   ]
  },
  {
   "cell_type": "code",
   "execution_count": 11,
   "id": "4b06c992-9332-4690-b5d3-0deb9de24c10",
   "metadata": {},
   "outputs": [],
   "source": [
    "train_size = int(dataset_length * 0.8)\n",
    "validation_size = int(dataset_length * 0.1)\n",
    "test_size = int(dataset_length * 0.1)"
   ]
  },
  {
   "cell_type": "code",
   "execution_count": 12,
   "id": "6bf5e800-4917-4873-bfe5-bf6a69ab3d93",
   "metadata": {},
   "outputs": [],
   "source": [
    "train_ds = dataset.take(train_size)#.batch(global_batch_size)\n",
    "validation_ds = dataset.skip(train_size).take(validation_size)#.batch(global_batch_size)\n",
    "test_ds = dataset.skip(train_size + validation_size).take(validation_size)#.batch(global_batch_size)"
   ]
  },
  {
   "cell_type": "code",
   "execution_count": 13,
   "id": "210fd67e-fc3a-4f1b-a4b9-7c19a8032940",
   "metadata": {},
   "outputs": [],
   "source": [
    "train_sample_data = next(train_ds.batch(batch_size).as_numpy_iterator())\n",
    "validation_sample_data = next(validation_ds.batch(batch_size).as_numpy_iterator())"
   ]
  },
  {
   "cell_type": "code",
   "execution_count": 14,
   "id": "9a298d58-014f-498f-b662-7a13edc00ca8",
   "metadata": {},
   "outputs": [],
   "source": [
    "train_ds = train_ds.batch(global_batch_size, drop_remainder=True)\n",
    "validation_ds = validation_ds.batch(global_batch_size, drop_remainder=True)\n",
    "test_ds = test_ds.batch(global_batch_size, drop_remainder=True)"
   ]
  },
  {
   "cell_type": "markdown",
   "id": "dac21e84-38a8-4c33-8404-e8e118ad5be6",
   "metadata": {},
   "source": [
    "train_ds = strategy.experimental_distribute_dataset(train_ds)\n",
    "validation_ds = strategy.experimental_distribute_dataset(validation_ds)\n",
    "test_ds = strategy.experimental_distribute_dataset(test_ds)"
   ]
  },
  {
   "cell_type": "code",
   "execution_count": 15,
   "id": "4aa7cedb-d229-415e-9162-b4ac9dc89fc5",
   "metadata": {},
   "outputs": [],
   "source": [
    "from ganime.utils.callbacks import TensorboardVideo, get_logdir\n",
    "import os\n",
    "\n",
    "logdir = get_logdir(\"../../../logs/ganime/transformers\", experiment_name=\"mnist_video\")\n",
    "tensorboard_callback = tf.keras.callbacks.TensorBoard(log_dir=logdir)\n",
    "tensorboard_video_callback = TensorboardVideo(logdir, train_sample_data, validation_sample_data)\n",
    "early_stopping = tf.keras.callbacks.EarlyStopping(\n",
    "    monitor=\"val_loss\",\n",
    "    min_delta=0.001,\n",
    "    patience=50,\n",
    "    restore_best_weights=True,\n",
    ")\n",
    "checkpointing = tf.keras.callbacks.ModelCheckpoint(os.path.join(logdir, \"checkpoint\", \"checkpoint\"), monitor='val_loss', save_best_only=True, save_weights_only=True)\n",
    "#callbacks = [tensorboard_callback, early_stopping, checkpointing, tensorboard_video_callback]\n",
    "callbacks = [tensorboard_callback, checkpointing, tensorboard_video_callback]"
   ]
  },
  {
   "cell_type": "code",
   "execution_count": 16,
   "id": "92b4a1d3-8c67-458d-ad52-ecab8390438c",
   "metadata": {},
   "outputs": [],
   "source": [
    "images = train_sample_data[\"y\"][:,0,...]"
   ]
  },
  {
   "cell_type": "code",
   "execution_count": 17,
   "id": "b0fe4f08-4aae-4c30-bcd6-cf8f3e9ed40c",
   "metadata": {},
   "outputs": [
    {
     "data": {
      "text/plain": [
       "(8, 10, 64, 64, 3)"
      ]
     },
     "execution_count": 17,
     "metadata": {},
     "output_type": "execute_result"
    }
   ],
   "source": [
    "train_sample_data[\"y\"].shape"
   ]
  },
  {
   "cell_type": "code",
   "execution_count": 18,
   "id": "66be9456-796e-4618-8ed2-26257f58773f",
   "metadata": {
    "tags": []
   },
   "outputs": [
    {
     "name": "stdout",
     "output_type": "stream",
     "text": [
      "Working with z of shape (1, 128, 16, 16) = 32768 dimensions.\n",
      "VQLPIPSWithDiscriminator running with hinge loss.\n"
     ]
    },
    {
     "name": "stderr",
     "output_type": "stream",
     "text": [
      "2022-06-19 10:25:52.140271: W tensorflow/python/util/util.cc:368] Sets are not currently considered sequences, but this may change in the future, so consider avoiding using them.\n",
      "2022-06-19 10:25:52.875303: I tensorflow/stream_executor/cuda/cuda_blas.cc:1774] TensorFloat-32 will be used for the matrix multiplication. This will only be logged once.\n",
      "All model checkpoint layers were used when initializing TFGPT2Model.\n",
      "\n",
      "All the layers of TFGPT2Model were initialized from the model checkpoint at gpt2-medium.\n",
      "If your task is similar to the task the model of the checkpoint was trained on, you can already use TFGPT2Model for predictions without further training.\n"
     ]
    }
   ],
   "source": [
    "with strategy.scope():\n",
    "    model = Net2Net(**cfg[\"model\"], trainer_config=cfg[\"train\"])\n",
    "    #model.build(train_sample_data[\"y\"].shape)#first_stage_model.build(train_sample_data[\"y\"].shape[1:])\n",
    "    model.first_stage_model.build(train_sample_data[\"y\"].shape[1:])"
   ]
  },
  {
   "cell_type": "code",
   "execution_count": 19,
   "id": "0aa12dd2-20a1-4760-b392-9f10eb3476a3",
   "metadata": {},
   "outputs": [],
   "source": [
    "from pynvml import *\n",
    "\n",
    "\n",
    "def print_gpu_utilization():\n",
    "    nvmlInit()\n",
    "    handle = nvmlDeviceGetHandleByIndex(0)\n",
    "    info = nvmlDeviceGetMemoryInfo(handle)\n",
    "    print(f\"GPU memory occupied: {info.used//1024**2} MB.\")"
   ]
  },
  {
   "cell_type": "code",
   "execution_count": 20,
   "id": "da5313ea-35c7-4f99-9413-10ed7771ef8d",
   "metadata": {},
   "outputs": [
    {
     "name": "stdout",
     "output_type": "stream",
     "text": [
      "GPU memory occupied: 5077 MB.\n"
     ]
    }
   ],
   "source": [
    "print_gpu_utilization()"
   ]
  },
  {
   "cell_type": "markdown",
   "id": "7936da37-67cd-4b81-9744-2f4402db1376",
   "metadata": {
    "tags": []
   },
   "source": [
    "for i in range(10):\n",
    "    pbar = tqdm(train_ds)\n",
    "    for data in pbar:\n",
    "        output = strategy.run(model.train_step, args=(data,))\n",
    "        pbar.set_postfix(loss=output[\"loss\"].numpy())"
   ]
  },
  {
   "cell_type": "code",
   "execution_count": null,
   "id": "da5dd8b1-39db-4d97-bc84-6ae46631a646",
   "metadata": {
    "tags": []
   },
   "outputs": [
    {
     "name": "stdout",
     "output_type": "stream",
     "text": [
      "Epoch 1/500\n"
     ]
    },
    {
     "name": "stderr",
     "output_type": "stream",
     "text": [
      "2022-06-19 10:29:33.938566: I tensorflow/stream_executor/cuda/cuda_dnn.cc:366] Loaded cuDNN version 8101\n",
      "2022-06-19 10:29:35.505679: I tensorflow/stream_executor/cuda/cuda_dnn.cc:366] Loaded cuDNN version 8101\n",
      "2022-06-19 10:29:36.248708: I tensorflow/stream_executor/cuda/cuda_dnn.cc:366] Loaded cuDNN version 8101\n",
      "2022-06-19 10:29:39.181830: I tensorflow/stream_executor/cuda/cuda_dnn.cc:366] Loaded cuDNN version 8101\n",
      "2022-06-19 10:29:39.872726: I tensorflow/stream_executor/cuda/cuda_dnn.cc:366] Loaded cuDNN version 8101\n",
      "2022-06-19 10:29:41.521415: I tensorflow/stream_executor/cuda/cuda_dnn.cc:366] Loaded cuDNN version 8101\n",
      "2022-06-19 10:29:43.515266: I tensorflow/stream_executor/cuda/cuda_dnn.cc:366] Loaded cuDNN version 8101\n",
      "2022-06-19 10:29:45.146497: I tensorflow/stream_executor/cuda/cuda_dnn.cc:366] Loaded cuDNN version 8101\n"
     ]
    },
    {
     "name": "stdout",
     "output_type": "stream",
     "text": [
      "125/125 [==============================] - 786s 4s/step - loss: 58.2130 - val_loss: 49.3282\n",
      "Epoch 2/500\n",
      "125/125 [==============================] - 338s 3s/step - loss: 40.2696 - val_loss: 48.4418\n",
      "Epoch 3/500\n",
      "125/125 [==============================] - 339s 3s/step - loss: 37.9325 - val_loss: 48.1409\n",
      "Epoch 4/500\n",
      "125/125 [==============================] - 340s 3s/step - loss: 37.0524 - val_loss: 45.1076\n",
      "Epoch 5/500\n",
      "125/125 [==============================] - 340s 3s/step - loss: 35.6872 - val_loss: 43.4857\n",
      "Epoch 6/500\n",
      "125/125 [==============================] - 340s 3s/step - loss: 34.5456 - val_loss: 40.7592\n",
      "Epoch 7/500\n",
      "125/125 [==============================] - 341s 3s/step - loss: 33.6929 - val_loss: 40.0394\n",
      "Epoch 8/500\n",
      "125/125 [==============================] - 340s 3s/step - loss: 32.8733 - val_loss: 39.8580\n",
      "Epoch 9/500\n",
      "125/125 [==============================] - 334s 3s/step - loss: 32.2879 - val_loss: 40.5032\n",
      "Epoch 10/500\n",
      "125/125 [==============================] - 341s 3s/step - loss: 31.5986 - val_loss: 39.4330\n",
      "Epoch 11/500\n",
      "125/125 [==============================] - 333s 3s/step - loss: 31.1824 - val_loss: 39.9770\n",
      "Epoch 12/500\n",
      "125/125 [==============================] - 334s 3s/step - loss: 30.7684 - val_loss: 40.3699\n",
      "Epoch 13/500\n",
      "125/125 [==============================] - 334s 3s/step - loss: 30.5147 - val_loss: 41.3962\n",
      "Epoch 14/500\n",
      "125/125 [==============================] - 340s 3s/step - loss: 30.2297 - val_loss: 39.3702\n",
      "Epoch 15/500\n",
      "125/125 [==============================] - 334s 3s/step - loss: 30.0037 - val_loss: 40.5413\n",
      "Epoch 16/500\n",
      "125/125 [==============================] - 334s 3s/step - loss: 29.8164 - val_loss: 40.8327\n",
      "Epoch 17/500\n",
      "125/125 [==============================] - 333s 3s/step - loss: 29.5848 - val_loss: 39.5964\n",
      "Epoch 18/500\n",
      "125/125 [==============================] - 332s 3s/step - loss: 29.4093 - val_loss: 41.1543\n",
      "Epoch 19/500\n",
      "125/125 [==============================] - 333s 3s/step - loss: 29.3039 - val_loss: 41.0861\n",
      "Epoch 20/500\n",
      "125/125 [==============================] - 340s 3s/step - loss: 29.1659 - val_loss: 39.0871\n",
      "Epoch 21/500\n",
      "125/125 [==============================] - 333s 3s/step - loss: 28.9643 - val_loss: 40.4401\n",
      "Epoch 22/500\n",
      "125/125 [==============================] - 333s 3s/step - loss: 28.8556 - val_loss: 39.5532\n",
      "Epoch 23/500\n",
      "125/125 [==============================] - 334s 3s/step - loss: 28.6190 - val_loss: 39.6773\n",
      "Epoch 24/500\n",
      "125/125 [==============================] - 341s 3s/step - loss: 28.5593 - val_loss: 38.5452\n",
      "Epoch 25/500\n",
      "125/125 [==============================] - 334s 3s/step - loss: 28.3739 - val_loss: 40.3194\n",
      "Epoch 26/500\n",
      "125/125 [==============================] - 333s 3s/step - loss: 28.2758 - val_loss: 39.5914\n",
      "Epoch 27/500\n",
      "125/125 [==============================] - 334s 3s/step - loss: 28.1563 - val_loss: 41.1036\n",
      "Epoch 28/500\n",
      "125/125 [==============================] - 335s 3s/step - loss: 27.9539 - val_loss: 39.2396\n",
      "Epoch 29/500\n",
      "125/125 [==============================] - 332s 3s/step - loss: 27.8850 - val_loss: 38.8746\n",
      "Epoch 30/500\n",
      "125/125 [==============================] - 332s 3s/step - loss: 27.6795 - val_loss: 39.3197\n",
      "Epoch 31/500\n",
      "125/125 [==============================] - 334s 3s/step - loss: 27.6302 - val_loss: 39.3516\n",
      "Epoch 32/500\n",
      "125/125 [==============================] - 333s 3s/step - loss: 27.5309 - val_loss: 40.3207\n",
      "Epoch 33/500\n",
      "125/125 [==============================] - 332s 3s/step - loss: 27.4903 - val_loss: 40.2957\n",
      "Epoch 34/500\n",
      "125/125 [==============================] - 332s 3s/step - loss: 27.4358 - val_loss: 40.9966\n",
      "Epoch 35/500\n",
      "125/125 [==============================] - 332s 3s/step - loss: 27.2931 - val_loss: 39.6710\n",
      "Epoch 36/500\n",
      "125/125 [==============================] - 332s 3s/step - loss: 27.2070 - val_loss: 39.8473\n",
      "Epoch 37/500\n",
      "125/125 [==============================] - 334s 3s/step - loss: 27.1580 - val_loss: 41.8434\n",
      "Epoch 38/500\n",
      "125/125 [==============================] - 334s 3s/step - loss: 27.0487 - val_loss: 40.4562\n",
      "Epoch 39/500\n",
      "125/125 [==============================] - 333s 3s/step - loss: 27.0047 - val_loss: 41.1856\n",
      "Epoch 40/500\n",
      "125/125 [==============================] - 332s 3s/step - loss: 26.9167 - val_loss: 41.1028\n",
      "Epoch 41/500\n",
      "125/125 [==============================] - 333s 3s/step - loss: 26.9127 - val_loss: 39.8917\n",
      "Epoch 42/500\n",
      "125/125 [==============================] - 333s 3s/step - loss: 26.7511 - val_loss: 40.6590\n",
      "Epoch 43/500\n",
      "125/125 [==============================] - 333s 3s/step - loss: 26.6208 - val_loss: 40.1787\n",
      "Epoch 44/500\n",
      "125/125 [==============================] - 333s 3s/step - loss: 26.7216 - val_loss: 39.1672\n",
      "Epoch 45/500\n",
      "125/125 [==============================] - 334s 3s/step - loss: 26.5095 - val_loss: 39.8864\n",
      "Epoch 46/500\n",
      "125/125 [==============================] - 333s 3s/step - loss: 26.3842 - val_loss: 40.3265\n",
      "Epoch 47/500\n",
      "125/125 [==============================] - 335s 3s/step - loss: 26.3011 - val_loss: 40.8931\n",
      "Epoch 48/500\n",
      "125/125 [==============================] - 333s 3s/step - loss: 26.2807 - val_loss: 39.3034\n",
      "Epoch 49/500\n",
      "125/125 [==============================] - 334s 3s/step - loss: 26.1732 - val_loss: 40.0514\n",
      "Epoch 50/500\n",
      "125/125 [==============================] - 334s 3s/step - loss: 26.0217 - val_loss: 39.9045\n",
      "Epoch 51/500\n",
      "125/125 [==============================] - 332s 3s/step - loss: 25.8989 - val_loss: 39.6885\n",
      "Epoch 52/500\n",
      "125/125 [==============================] - 333s 3s/step - loss: 25.8454 - val_loss: 41.0883\n",
      "Epoch 53/500\n",
      "125/125 [==============================] - 334s 3s/step - loss: 25.5827 - val_loss: 42.1932\n",
      "Epoch 54/500\n",
      "125/125 [==============================] - 334s 3s/step - loss: 25.4499 - val_loss: 41.3014\n",
      "Epoch 55/500\n",
      "125/125 [==============================] - 333s 3s/step - loss: 25.3902 - val_loss: 40.8346\n",
      "Epoch 56/500\n",
      "125/125 [==============================] - 332s 3s/step - loss: 25.2154 - val_loss: 42.2392\n",
      "Epoch 57/500\n",
      "125/125 [==============================] - 333s 3s/step - loss: 24.9889 - val_loss: 42.3572\n",
      "Epoch 58/500\n",
      "125/125 [==============================] - 334s 3s/step - loss: 25.0840 - val_loss: 41.1378\n",
      "Epoch 59/500\n",
      "125/125 [==============================] - 334s 3s/step - loss: 24.9372 - val_loss: 41.6603\n",
      "Epoch 60/500\n",
      "125/125 [==============================] - 333s 3s/step - loss: 25.0888 - val_loss: 42.2759\n",
      "Epoch 61/500\n",
      "125/125 [==============================] - 333s 3s/step - loss: 24.8239 - val_loss: 42.8154\n",
      "Epoch 62/500\n",
      "125/125 [==============================] - 335s 3s/step - loss: 24.8372 - val_loss: 41.1571\n",
      "Epoch 63/500\n",
      "125/125 [==============================] - 334s 3s/step - loss: 24.8620 - val_loss: 42.0437\n",
      "Epoch 64/500\n",
      "125/125 [==============================] - 334s 3s/step - loss: 24.7876 - val_loss: 41.6603\n",
      "Epoch 65/500\n",
      "125/125 [==============================] - 334s 3s/step - loss: 24.8554 - val_loss: 42.3810\n",
      "Epoch 66/500\n",
      "125/125 [==============================] - 332s 3s/step - loss: 24.7250 - val_loss: 41.1352\n",
      "Epoch 67/500\n",
      "125/125 [==============================] - 334s 3s/step - loss: 24.8501 - val_loss: 41.9859\n",
      "Epoch 68/500\n",
      "125/125 [==============================] - 334s 3s/step - loss: 24.7491 - val_loss: 42.5158\n",
      "Epoch 69/500\n",
      "125/125 [==============================] - 334s 3s/step - loss: 24.7520 - val_loss: 42.6000\n",
      "Epoch 70/500\n",
      "125/125 [==============================] - 333s 3s/step - loss: 24.7234 - val_loss: 42.9731\n",
      "Epoch 71/500\n",
      "125/125 [==============================] - 333s 3s/step - loss: 24.8993 - val_loss: 41.9620\n",
      "Epoch 72/500\n",
      "125/125 [==============================] - 332s 3s/step - loss: 24.8201 - val_loss: 43.4201\n",
      "Epoch 73/500\n",
      "125/125 [==============================] - 333s 3s/step - loss: 24.8141 - val_loss: 42.6769\n",
      "Epoch 74/500\n",
      "125/125 [==============================] - 334s 3s/step - loss: 24.7561 - val_loss: 41.9744\n",
      "Epoch 75/500\n",
      "125/125 [==============================] - 334s 3s/step - loss: 24.8233 - val_loss: 41.1389\n",
      "Epoch 76/500\n",
      "125/125 [==============================] - 332s 3s/step - loss: 24.8219 - val_loss: 41.6536\n",
      "Epoch 77/500\n",
      "125/125 [==============================] - 333s 3s/step - loss: 24.8861 - val_loss: 43.0466\n",
      "Epoch 78/500\n",
      "125/125 [==============================] - 334s 3s/step - loss: 24.7409 - val_loss: 41.4543\n",
      "Epoch 79/500\n",
      "125/125 [==============================] - 334s 3s/step - loss: 24.7941 - val_loss: 42.8945\n",
      "Epoch 80/500\n",
      "125/125 [==============================] - 333s 3s/step - loss: 24.8685 - val_loss: 42.4587\n",
      "Epoch 81/500\n",
      "125/125 [==============================] - 332s 3s/step - loss: 24.8663 - val_loss: 42.5802\n",
      "Epoch 82/500\n",
      "125/125 [==============================] - 333s 3s/step - loss: 24.8978 - val_loss: 42.3046\n",
      "Epoch 83/500\n",
      "125/125 [==============================] - 334s 3s/step - loss: 24.9169 - val_loss: 43.0643\n",
      "Epoch 84/500\n",
      "125/125 [==============================] - 333s 3s/step - loss: 24.9048 - val_loss: 41.9918\n",
      "Epoch 85/500\n",
      "125/125 [==============================] - 332s 3s/step - loss: 24.9965 - val_loss: 43.1195\n",
      "Epoch 86/500\n",
      "125/125 [==============================] - 332s 3s/step - loss: 25.0782 - val_loss: 43.4412\n",
      "Epoch 87/500\n",
      "125/125 [==============================] - 333s 3s/step - loss: 25.0269 - val_loss: 41.3265\n",
      "Epoch 88/500\n",
      "125/125 [==============================] - 333s 3s/step - loss: 24.9387 - val_loss: 43.0095\n",
      "Epoch 89/500\n",
      "125/125 [==============================] - 333s 3s/step - loss: 25.0170 - val_loss: 41.9346\n",
      "Epoch 90/500\n",
      "125/125 [==============================] - 333s 3s/step - loss: 25.0293 - val_loss: 41.4102\n",
      "Epoch 91/500\n",
      "125/125 [==============================] - 333s 3s/step - loss: 25.0835 - val_loss: 42.0932\n",
      "Epoch 92/500\n",
      "125/125 [==============================] - 332s 3s/step - loss: 25.1606 - val_loss: 42.4478\n",
      "Epoch 93/500\n",
      "125/125 [==============================] - 334s 3s/step - loss: 25.1288 - val_loss: 41.6179\n",
      "Epoch 94/500\n",
      "125/125 [==============================] - 334s 3s/step - loss: 25.2476 - val_loss: 43.3317\n",
      "Epoch 95/500\n",
      "125/125 [==============================] - 334s 3s/step - loss: 25.1200 - val_loss: 42.7548\n",
      "Epoch 96/500\n",
      "125/125 [==============================] - 334s 3s/step - loss: 25.0643 - val_loss: 42.9772\n",
      "Epoch 97/500\n",
      "125/125 [==============================] - 335s 3s/step - loss: 25.2154 - val_loss: 41.9188\n",
      "Epoch 98/500\n",
      "125/125 [==============================] - 336s 3s/step - loss: 25.2201 - val_loss: 41.9149\n",
      "Epoch 99/500\n",
      "125/125 [==============================] - 333s 3s/step - loss: 25.1991 - val_loss: 41.7686\n",
      "Epoch 100/500\n",
      "125/125 [==============================] - 334s 3s/step - loss: 25.3193 - val_loss: 41.7653\n",
      "Epoch 101/500\n",
      "125/125 [==============================] - 334s 3s/step - loss: 25.2920 - val_loss: 44.0923\n",
      "Epoch 102/500\n",
      "125/125 [==============================] - 334s 3s/step - loss: 25.2073 - val_loss: 41.4140\n",
      "Epoch 103/500\n",
      "125/125 [==============================] - 334s 3s/step - loss: 25.2984 - val_loss: 41.9906\n",
      "Epoch 104/500\n",
      "125/125 [==============================] - 334s 3s/step - loss: 25.2946 - val_loss: 42.8210\n",
      "Epoch 105/500\n",
      "125/125 [==============================] - 335s 3s/step - loss: 25.3567 - val_loss: 42.4036\n",
      "Epoch 106/500\n",
      "125/125 [==============================] - 333s 3s/step - loss: 25.3947 - val_loss: 42.6650\n",
      "Epoch 107/500\n",
      "125/125 [==============================] - 334s 3s/step - loss: 25.3715 - val_loss: 43.2015\n",
      "Epoch 108/500\n",
      "125/125 [==============================] - 334s 3s/step - loss: 25.3993 - val_loss: 42.1581\n",
      "Epoch 109/500\n",
      "125/125 [==============================] - 334s 3s/step - loss: 25.4483 - val_loss: 43.4666\n",
      "Epoch 110/500\n",
      "125/125 [==============================] - 333s 3s/step - loss: 25.4249 - val_loss: 43.2490\n",
      "Epoch 111/500\n",
      "125/125 [==============================] - 333s 3s/step - loss: 25.3993 - val_loss: 41.8365\n",
      "Epoch 112/500\n",
      "125/125 [==============================] - 333s 3s/step - loss: 25.4808 - val_loss: 42.3732\n",
      "Epoch 113/500\n",
      "125/125 [==============================] - 333s 3s/step - loss: 25.4046 - val_loss: 42.2703\n",
      "Epoch 114/500\n",
      "125/125 [==============================] - 333s 3s/step - loss: 25.4840 - val_loss: 42.5433\n",
      "Epoch 115/500\n",
      "125/125 [==============================] - 333s 3s/step - loss: 25.4477 - val_loss: 43.7899\n",
      "Epoch 116/500\n",
      "125/125 [==============================] - 334s 3s/step - loss: 25.5048 - val_loss: 42.9458\n",
      "Epoch 117/500\n",
      "125/125 [==============================] - 333s 3s/step - loss: 25.4995 - val_loss: 42.9960\n",
      "Epoch 118/500\n",
      "125/125 [==============================] - 333s 3s/step - loss: 25.5482 - val_loss: 42.0305\n",
      "Epoch 119/500\n",
      "125/125 [==============================] - 335s 3s/step - loss: 25.5248 - val_loss: 43.2533\n",
      "Epoch 120/500\n",
      "125/125 [==============================] - 333s 3s/step - loss: 25.4776 - val_loss: 42.0172\n",
      "Epoch 121/500\n",
      "125/125 [==============================] - 333s 3s/step - loss: 25.4683 - val_loss: 41.6081\n",
      "Epoch 122/500\n",
      "125/125 [==============================] - 333s 3s/step - loss: 25.4961 - val_loss: 42.4846\n",
      "Epoch 123/500\n",
      "125/125 [==============================] - 333s 3s/step - loss: 25.5216 - val_loss: 42.3853\n",
      "Epoch 124/500\n",
      "125/125 [==============================] - 333s 3s/step - loss: 25.5269 - val_loss: 42.3100\n",
      "Epoch 125/500\n",
      "125/125 [==============================] - 332s 3s/step - loss: 25.5481 - val_loss: 42.7803\n",
      "Epoch 126/500\n",
      "125/125 [==============================] - 332s 3s/step - loss: 25.5374 - val_loss: 43.5922\n",
      "Epoch 127/500\n",
      "125/125 [==============================] - 333s 3s/step - loss: 25.5890 - val_loss: 41.7557\n",
      "Epoch 128/500\n",
      "125/125 [==============================] - 332s 3s/step - loss: 25.6143 - val_loss: 43.2379\n",
      "Epoch 129/500\n",
      "125/125 [==============================] - 333s 3s/step - loss: 25.5757 - val_loss: 42.5564\n",
      "Epoch 130/500\n",
      "125/125 [==============================] - 333s 3s/step - loss: 25.6372 - val_loss: 41.5106\n",
      "Epoch 131/500\n",
      "125/125 [==============================] - 334s 3s/step - loss: 25.4490 - val_loss: 42.0819\n",
      "Epoch 132/500\n",
      "125/125 [==============================] - 334s 3s/step - loss: 25.5995 - val_loss: 43.2168\n",
      "Epoch 133/500\n",
      "125/125 [==============================] - 333s 3s/step - loss: 25.4979 - val_loss: 43.0286\n",
      "Epoch 134/500\n",
      "125/125 [==============================] - 333s 3s/step - loss: 25.5560 - val_loss: 41.9067\n",
      "Epoch 135/500\n",
      "125/125 [==============================] - 333s 3s/step - loss: 25.5665 - val_loss: 41.2382\n",
      "Epoch 136/500\n",
      "125/125 [==============================] - 332s 3s/step - loss: 25.7655 - val_loss: 41.4132\n",
      "Epoch 137/500\n",
      "125/125 [==============================] - 333s 3s/step - loss: 25.6289 - val_loss: 41.3721\n",
      "Epoch 138/500\n",
      "125/125 [==============================] - 333s 3s/step - loss: 25.5299 - val_loss: 42.8162\n",
      "Epoch 139/500\n",
      "125/125 [==============================] - 333s 3s/step - loss: 25.4762 - val_loss: 42.1761\n",
      "Epoch 140/500\n",
      "125/125 [==============================] - 334s 3s/step - loss: 25.5937 - val_loss: 42.1093\n",
      "Epoch 141/500\n",
      "125/125 [==============================] - 332s 3s/step - loss: 25.6150 - val_loss: 42.7996\n",
      "Epoch 142/500\n",
      "125/125 [==============================] - 332s 3s/step - loss: 25.5786 - val_loss: 42.0942\n",
      "Epoch 143/500\n",
      "125/125 [==============================] - 333s 3s/step - loss: 25.5562 - val_loss: 41.9159\n",
      "Epoch 144/500\n",
      "125/125 [==============================] - 333s 3s/step - loss: 25.5136 - val_loss: 41.7914\n",
      "Epoch 145/500\n",
      "125/125 [==============================] - 333s 3s/step - loss: 25.6097 - val_loss: 42.0012\n",
      "Epoch 146/500\n",
      "125/125 [==============================] - 333s 3s/step - loss: 25.5500 - val_loss: 41.4095\n",
      "Epoch 147/500\n",
      "125/125 [==============================] - 334s 3s/step - loss: 25.5468 - val_loss: 43.2371\n",
      "Epoch 148/500\n",
      "125/125 [==============================] - 337s 3s/step - loss: 25.6109 - val_loss: 42.4135\n",
      "Epoch 149/500\n",
      "125/125 [==============================] - 334s 3s/step - loss: 25.4423 - val_loss: 41.3235\n",
      "Epoch 150/500\n",
      "125/125 [==============================] - 333s 3s/step - loss: 25.5107 - val_loss: 42.5275\n",
      "Epoch 151/500\n",
      "125/125 [==============================] - 333s 3s/step - loss: 25.4927 - val_loss: 41.0879\n",
      "Epoch 152/500\n",
      "125/125 [==============================] - 333s 3s/step - loss: 25.3682 - val_loss: 41.4438\n",
      "Epoch 153/500\n",
      "125/125 [==============================] - 333s 3s/step - loss: 25.4946 - val_loss: 41.4102\n",
      "Epoch 154/500\n",
      "125/125 [==============================] - 333s 3s/step - loss: 25.4995 - val_loss: 41.4151\n",
      "Epoch 155/500\n",
      "125/125 [==============================] - 334s 3s/step - loss: 25.4635 - val_loss: 43.3551\n",
      "Epoch 156/500\n",
      "125/125 [==============================] - 332s 3s/step - loss: 25.3889 - val_loss: 40.8324\n",
      "Epoch 157/500\n",
      "125/125 [==============================] - 332s 3s/step - loss: 25.4058 - val_loss: 41.7034\n",
      "Epoch 158/500\n",
      "125/125 [==============================] - 332s 3s/step - loss: 25.3912 - val_loss: 42.0409\n",
      "Epoch 159/500\n",
      "125/125 [==============================] - 334s 3s/step - loss: 25.3602 - val_loss: 41.9284\n",
      "Epoch 160/500\n",
      "125/125 [==============================] - 333s 3s/step - loss: 25.3011 - val_loss: 40.8579\n",
      "Epoch 161/500\n",
      "125/125 [==============================] - 334s 3s/step - loss: 25.3307 - val_loss: 41.5350\n",
      "Epoch 162/500\n",
      "125/125 [==============================] - 334s 3s/step - loss: 25.2249 - val_loss: 42.2173\n",
      "Epoch 163/500\n",
      "125/125 [==============================] - 333s 3s/step - loss: 25.2042 - val_loss: 41.5939\n",
      "Epoch 164/500\n",
      "125/125 [==============================] - 333s 3s/step - loss: 25.2220 - val_loss: 40.9175\n",
      "Epoch 165/500\n",
      "125/125 [==============================] - 333s 3s/step - loss: 25.2427 - val_loss: 42.2716\n",
      "Epoch 166/500\n",
      "125/125 [==============================] - 332s 3s/step - loss: 25.1335 - val_loss: 41.9509\n",
      "Epoch 167/500\n",
      "125/125 [==============================] - 333s 3s/step - loss: 25.2025 - val_loss: 43.0013\n",
      "Epoch 168/500\n",
      "125/125 [==============================] - 332s 3s/step - loss: 25.1524 - val_loss: 41.9004\n",
      "Epoch 169/500\n",
      "125/125 [==============================] - 333s 3s/step - loss: 25.1423 - val_loss: 41.8111\n",
      "Epoch 170/500\n",
      "125/125 [==============================] - 334s 3s/step - loss: 25.1040 - val_loss: 40.7990\n",
      "Epoch 171/500\n",
      "125/125 [==============================] - 333s 3s/step - loss: 25.0875 - val_loss: 40.7818\n",
      "Epoch 172/500\n",
      "125/125 [==============================] - 334s 3s/step - loss: 24.9281 - val_loss: 40.8104\n",
      "Epoch 173/500\n",
      "125/125 [==============================] - 334s 3s/step - loss: 24.9001 - val_loss: 41.1575\n",
      "Epoch 174/500\n",
      "125/125 [==============================] - 333s 3s/step - loss: 24.9243 - val_loss: 42.0507\n",
      "Epoch 175/500\n",
      "125/125 [==============================] - 332s 3s/step - loss: 24.9576 - val_loss: 40.7095\n",
      "Epoch 176/500\n",
      "125/125 [==============================] - 332s 3s/step - loss: 24.8911 - val_loss: 40.3938\n",
      "Epoch 177/500\n",
      "125/125 [==============================] - 333s 3s/step - loss: 24.8578 - val_loss: 40.9608\n",
      "Epoch 178/500\n",
      "125/125 [==============================] - 334s 3s/step - loss: 24.8286 - val_loss: 42.3738\n",
      "Epoch 179/500\n",
      "125/125 [==============================] - 333s 3s/step - loss: 24.7246 - val_loss: 41.5376\n",
      "Epoch 180/500\n",
      "125/125 [==============================] - 336s 3s/step - loss: 24.7507 - val_loss: 42.5929\n",
      "Epoch 181/500\n",
      "125/125 [==============================] - 334s 3s/step - loss: 24.6499 - val_loss: 43.4262\n",
      "Epoch 182/500\n",
      "125/125 [==============================] - 334s 3s/step - loss: 24.7420 - val_loss: 41.2939\n",
      "Epoch 183/500\n",
      "125/125 [==============================] - 334s 3s/step - loss: 24.6422 - val_loss: 41.2689\n",
      "Epoch 184/500\n",
      "125/125 [==============================] - 333s 3s/step - loss: 24.6966 - val_loss: 41.4102\n",
      "Epoch 185/500\n",
      "125/125 [==============================] - 333s 3s/step - loss: 24.5321 - val_loss: 41.6705\n",
      "Epoch 186/500\n",
      "125/125 [==============================] - 333s 3s/step - loss: 24.5438 - val_loss: 40.6882\n",
      "Epoch 187/500\n",
      "125/125 [==============================] - 332s 3s/step - loss: 24.6120 - val_loss: 41.5387\n",
      "Epoch 188/500\n",
      " 24/125 [====>.........................] - ETA: 4:11 - loss: 24.3774"
     ]
    }
   ],
   "source": [
    "model.fit(train_ds, validation_data=validation_ds, epochs=cfg[\"train\"][\"n_epochs\"], callbacks=callbacks)"
   ]
  },
  {
   "cell_type": "code",
   "execution_count": null,
   "id": "5b0cec6e-b287-49d9-8848-ed32d695e3d8",
   "metadata": {},
   "outputs": [],
   "source": [
    "generated_videos = model(train_sample_data)"
   ]
  },
  {
   "cell_type": "code",
   "execution_count": null,
   "id": "3d399fa7-3a52-466d-a742-04f00816cf2a",
   "metadata": {},
   "outputs": [],
   "source": [
    "display_videos(generated_videos, 1, 4)"
   ]
  },
  {
   "cell_type": "code",
   "execution_count": null,
   "id": "b583a6a7-7d07-47fc-9b71-1d718f48ce9e",
   "metadata": {},
   "outputs": [],
   "source": [
    "display_videos(train_sample_data[\"y\"], 1, 4)"
   ]
  },
  {
   "cell_type": "code",
   "execution_count": null,
   "id": "ee59bbc9-96f5-4e93-80b2-ae760b068cdd",
   "metadata": {},
   "outputs": [],
   "source": [
    "quant_z, indices = model.encode_to_z(images)"
   ]
  },
  {
   "cell_type": "code",
   "execution_count": null,
   "id": "65336fd2-1a64-4635-ab2d-6275749d1de4",
   "metadata": {},
   "outputs": [],
   "source": [
    "quant = model.first_stage_model.quantize.get_codebook_entry(\n",
    "    indices, shape=tf.shape(quant_z)\n",
    ")\n",
    "decoded = model.first_stage_model.decode(quant)"
   ]
  },
  {
   "cell_type": "code",
   "execution_count": null,
   "id": "c6751d91-e4d2-44f2-9778-8c5b23d698e3",
   "metadata": {
    "tags": []
   },
   "outputs": [],
   "source": [
    "display_images(model.first_stage_model(images)[0])\n",
    "plt.show()"
   ]
  },
  {
   "cell_type": "code",
   "execution_count": null,
   "id": "2ab52bd5-c95e-4fc1-9009-76e1f7f6425a",
   "metadata": {},
   "outputs": [],
   "source": [
    "display_images(generated_videos[:,0,...])"
   ]
  },
  {
   "cell_type": "code",
   "execution_count": null,
   "id": "b576c96f-c0a6-401b-877a-5eaf7b69ec03",
   "metadata": {},
   "outputs": [],
   "source": []
  }
 ],
 "metadata": {
  "kernelspec": {
   "display_name": "Python 3 (ipykernel)",
   "language": "python",
   "name": "python3"
  },
  "language_info": {
   "codemirror_mode": {
    "name": "ipython",
    "version": 3
   },
   "file_extension": ".py",
   "mimetype": "text/x-python",
   "name": "python",
   "nbconvert_exporter": "python",
   "pygments_lexer": "ipython3",
   "version": "3.8.10"
  }
 },
 "nbformat": 4,
 "nbformat_minor": 5
}
