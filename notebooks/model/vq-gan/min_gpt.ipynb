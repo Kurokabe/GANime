{
 "cells": [
  {
   "cell_type": "code",
   "execution_count": 1,
   "id": "8c995bfd-ceef-4145-a103-c2a064be737e",
   "metadata": {},
   "outputs": [
    {
     "name": "stdout",
     "output_type": "stream",
     "text": [
      "env: CUDA_DEVICE_ORDER=PCI_BUS_ID\n"
     ]
    }
   ],
   "source": [
    "%env CUDA_DEVICE_ORDER=PCI_BUS_ID\n",
    "#%env CUDA_VISIBLE_DEVICES=5"
   ]
  },
  {
   "cell_type": "code",
   "execution_count": 2,
   "id": "a2a9c822-ecf1-44b2-aaf6-c7122a777180",
   "metadata": {},
   "outputs": [],
   "source": [
    "%load_ext autoreload\n",
    "%autoreload 2"
   ]
  },
  {
   "cell_type": "code",
   "execution_count": 3,
   "id": "7f01a67a-1183-424a-8eda-986b6be4173c",
   "metadata": {},
   "outputs": [],
   "source": [
    "import omegaconf\n",
    "import numpy as np\n",
    "import matplotlib.pyplot as plt\n",
    "from ganime.data.kny import KNYImage\n",
    "from ganime.data.mnist import MovingMNIST\n",
    "from ganime.utils.statistics import dataset_statistics\n",
    "from ganime.visualization.videos import display_videos\n",
    "from ganime.visualization.images import display_images\n",
    "from ganime.model.vqgan_clean.net2net import Net2Net\n",
    "import tensorflow as tf\n",
    "import tensorflow_addons as tfa\n",
    "from datetime import datetime\n",
    "from tqdm import tqdm\n",
    "from pyprojroot.pyprojroot import here\n",
    "#tf.get_logger().setLevel('ERROR')"
   ]
  },
  {
   "cell_type": "code",
   "execution_count": 4,
   "id": "277a395f-1f54-4d91-be02-214f698f0c31",
   "metadata": {},
   "outputs": [],
   "source": [
    "for device in tf.config.list_physical_devices(\"GPU\"):\n",
    "    tf.config.experimental.set_memory_growth(device, True)"
   ]
  },
  {
   "cell_type": "code",
   "execution_count": 5,
   "id": "64804403-13f9-4157-9dbb-757df9448525",
   "metadata": {},
   "outputs": [
    {
     "name": "stderr",
     "output_type": "stream",
     "text": [
      "2022-06-01 04:28:25.223584: I tensorflow/core/platform/cpu_feature_guard.cc:151] This TensorFlow binary is optimized with oneAPI Deep Neural Network Library (oneDNN) to use the following CPU instructions in performance-critical operations:  AVX2 FMA\n",
      "To enable them in other operations, rebuild TensorFlow with the appropriate compiler flags.\n",
      "2022-06-01 04:28:38.392606: I tensorflow/core/common_runtime/gpu/gpu_device.cc:1525] Created device /job:localhost/replica:0/task:0/device:GPU:0 with 14252 MB memory:  -> device: 0, name: NVIDIA RTX A4000, pci bus id: 0000:01:00.0, compute capability: 8.6\n",
      "2022-06-01 04:28:38.419622: I tensorflow/core/common_runtime/gpu/gpu_device.cc:1525] Created device /job:localhost/replica:0/task:0/device:GPU:1 with 14252 MB memory:  -> device: 1, name: NVIDIA RTX A4000, pci bus id: 0000:25:00.0, compute capability: 8.6\n",
      "2022-06-01 04:28:38.439605: I tensorflow/core/common_runtime/gpu/gpu_device.cc:1525] Created device /job:localhost/replica:0/task:0/device:GPU:2 with 14252 MB memory:  -> device: 2, name: NVIDIA RTX A4000, pci bus id: 0000:41:00.0, compute capability: 8.6\n",
      "2022-06-01 04:28:38.459661: I tensorflow/core/common_runtime/gpu/gpu_device.cc:1525] Created device /job:localhost/replica:0/task:0/device:GPU:3 with 14252 MB memory:  -> device: 3, name: NVIDIA RTX A4000, pci bus id: 0000:61:00.0, compute capability: 8.6\n",
      "2022-06-01 04:28:38.479663: I tensorflow/core/common_runtime/gpu/gpu_device.cc:1525] Created device /job:localhost/replica:0/task:0/device:GPU:4 with 14252 MB memory:  -> device: 4, name: NVIDIA RTX A4000, pci bus id: 0000:81:00.0, compute capability: 8.6\n",
      "2022-06-01 04:28:38.495674: I tensorflow/core/common_runtime/gpu/gpu_device.cc:1525] Created device /job:localhost/replica:0/task:0/device:GPU:5 with 14252 MB memory:  -> device: 5, name: NVIDIA RTX A4000, pci bus id: 0000:a1:00.0, compute capability: 8.6\n",
      "2022-06-01 04:28:38.511688: I tensorflow/core/common_runtime/gpu/gpu_device.cc:1525] Created device /job:localhost/replica:0/task:0/device:GPU:6 with 14252 MB memory:  -> device: 6, name: NVIDIA RTX A4000, pci bus id: 0000:c1:00.0, compute capability: 8.6\n",
      "2022-06-01 04:28:38.527671: I tensorflow/core/common_runtime/gpu/gpu_device.cc:1525] Created device /job:localhost/replica:0/task:0/device:GPU:7 with 14252 MB memory:  -> device: 7, name: NVIDIA RTX A4000, pci bus id: 0000:e1:00.0, compute capability: 8.6\n"
     ]
    },
    {
     "name": "stdout",
     "output_type": "stream",
     "text": [
      "INFO:tensorflow:Single-worker MultiWorkerMirroredStrategy with local_devices = ('/device:GPU:0', '/device:GPU:1', '/device:GPU:2', '/device:GPU:3', '/device:GPU:4', '/device:GPU:5', '/device:GPU:6', '/device:GPU:7'), communication = CommunicationImplementation.AUTO\n"
     ]
    }
   ],
   "source": [
    "strategy = tf.distribute.MultiWorkerMirroredStrategy()"
   ]
  },
  {
   "cell_type": "code",
   "execution_count": 6,
   "id": "b530068b-b80a-4553-b0bb-5ec609da7c4e",
   "metadata": {},
   "outputs": [],
   "source": [
    "cfg = omegaconf.OmegaConf.load(here(\"configs/moving_mnist_image_transformer.yaml\"))\n",
    "#cfg = omegaconf.OmegaConf.load(here(\"configs/default_transformer.yaml\"))\n",
    "batch_size = 8"
   ]
  },
  {
   "cell_type": "code",
   "execution_count": 7,
   "id": "2480e339-2e71-44fb-a2b5-d0e0addeed79",
   "metadata": {},
   "outputs": [],
   "source": [
    "train_ds = MovingMNIST(\"../../../data\", batch_size=batch_size, split=\"train\")\n",
    "test_ds = MovingMNIST(\"../../../data\", batch_size=batch_size, split=\"test\")"
   ]
  },
  {
   "cell_type": "code",
   "execution_count": 8,
   "id": "89d8b4d9-86ec-42cc-bba8-9249a08423e2",
   "metadata": {
    "tags": []
   },
   "outputs": [
    {
     "name": "stdout",
     "output_type": "stream",
     "text": [
      "Working with z of shape (1, 128, 16, 16) = 32768 dimensions.\n"
     ]
    },
    {
     "name": "stderr",
     "output_type": "stream",
     "text": [
      "2022-06-01 04:28:47.071000: I tensorflow/stream_executor/cuda/cuda_dnn.cc:366] Loaded cuDNN version 8101\n",
      "2022-06-01 04:28:53.214722: I tensorflow/stream_executor/cuda/cuda_blas.cc:1774] TensorFloat-32 will be used for the matrix multiplication. This will only be logged once.\n"
     ]
    },
    {
     "name": "stdout",
     "output_type": "stream",
     "text": [
      "VQLPIPSWithDiscriminator running with hinge loss.\n"
     ]
    }
   ],
   "source": [
    "with strategy.scope():\n",
    "    model = Net2Net(**cfg[\"model\"])"
   ]
  },
  {
   "cell_type": "code",
   "execution_count": 9,
   "id": "7fb57765-e190-4fdd-a01e-216256095a18",
   "metadata": {},
   "outputs": [
    {
     "data": {
      "text/plain": [
       "[<matplotlib.lines.Line2D at 0x7f94963b6c70>]"
      ]
     },
     "execution_count": 9,
     "metadata": {},
     "output_type": "execute_result"
    },
    {
     "data": {
      "image/png": "[encoded data removed]",
      "text/plain": [
       "<Figure size 432x288 with 1 Axes>"
      ]
     },
     "metadata": {
      "needs_background": "light"
     },
     "output_type": "display_data"
    }
   ],
   "source": [
    "lrs = [model.scheduled_lrs(i) for i in range(71 * 300)]\n",
    "xs = np.linspace(0, 300, len(lrs))\n",
    "plt.plot(xs, lrs)"
   ]
  },
  {
   "cell_type": "code",
   "execution_count": 10,
   "id": "4aa7cedb-d229-415e-9162-b4ac9dc89fc5",
   "metadata": {},
   "outputs": [],
   "source": [
    "from ganime.utils.callbacks import TensorboardImage, get_logdir\n",
    "import os\n",
    "\n",
    "logdir = get_logdir(\"../../../logs/ganime/\", experiment_name=\"transformer_mnist_video\")\n",
    "# Define the basic TensorBoard callback.\n",
    "tensorboard_callback = tf.keras.callbacks.TensorBoard(log_dir=logdir)\n",
    "early_stopping = tf.keras.callbacks.EarlyStopping(\n",
    "    monitor=\"val_loss\",\n",
    "    min_delta=0.001,\n",
    "    patience=10,\n",
    "    restore_best_weights=True,\n",
    ")\n",
    "checkpointing = tf.keras.callbacks.ModelCheckpoint(os.path.join(logdir, \"checkpoint\", \"checkpoint\"), monitor='val_loss', save_best_only=True, save_weights_only=True)\n",
    "callbacks = [tensorboard_callback, early_stopping, checkpointing]"
   ]
  },
  {
   "cell_type": "code",
   "execution_count": 11,
   "id": "86a32b17-f47a-4762-ae3b-745bea1088ca",
   "metadata": {},
   "outputs": [],
   "source": [
    "#with strategy.scope():\n",
    "#    model.compile(optimizer=tfa.optimizers.AdamW(\n",
    "#        learning_rate=1e-3, weight_decay=1e-4\n",
    "#    ))"
   ]
  },
  {
   "cell_type": "markdown",
   "id": "90155450-dd46-419d-9fe7-000259098f6b",
   "metadata": {},
   "source": [
    "display_images(train_ds[0][0], 1, 3)\n",
    "plt.show()"
   ]
  },
  {
   "cell_type": "markdown",
   "id": "6a2cbd8a-a4a9-47fb-a7e2-aa45033c2dea",
   "metadata": {},
   "source": [
    "display_images(train_ds[0][1], 1, 3)\n",
    "plt.show()"
   ]
  },
  {
   "cell_type": "code",
   "execution_count": 12,
   "id": "5000c32a-d403-4d8c-ba8f-2582aa9977cd",
   "metadata": {},
   "outputs": [
    {
     "name": "stdout",
     "output_type": "stream",
     "text": [
      "INFO:tensorflow:Collective all_reduce tensors: 1 all_reduces, num_devices = 8, group_size = 8, implementation = AUTO, num_packs = 1\n",
      "INFO:tensorflow:Collective all_reduce tensors: 1 all_reduces, num_devices = 8, group_size = 8, implementation = AUTO, num_packs = 1\n",
      "INFO:tensorflow:Collective all_reduce tensors: 1 all_reduces, num_devices = 8, group_size = 8, implementation = AUTO, num_packs = 1\n",
      "INFO:tensorflow:Collective all_reduce tensors: 1 all_reduces, num_devices = 8, group_size = 8, implementation = AUTO, num_packs = 1\n",
      "INFO:tensorflow:Collective all_reduce tensors: 1 all_reduces, num_devices = 8, group_size = 8, implementation = AUTO, num_packs = 1\n",
      "INFO:tensorflow:Collective all_reduce tensors: 1 all_reduces, num_devices = 8, group_size = 8, implementation = AUTO, num_packs = 1\n",
      "INFO:tensorflow:Collective all_reduce tensors: 1 all_reduces, num_devices = 8, group_size = 8, implementation = AUTO, num_packs = 1\n",
      "INFO:tensorflow:Collective all_reduce tensors: 1 all_reduces, num_devices = 8, group_size = 8, implementation = AUTO, num_packs = 1\n",
      "INFO:tensorflow:Collective all_reduce tensors: 1 all_reduces, num_devices = 8, group_size = 8, implementation = AUTO, num_packs = 1\n",
      "INFO:tensorflow:Collective all_reduce tensors: 1 all_reduces, num_devices = 8, group_size = 8, implementation = AUTO, num_packs = 1\n",
      "INFO:tensorflow:Collective all_reduce tensors: 1 all_reduces, num_devices = 8, group_size = 8, implementation = AUTO, num_packs = 1\n",
      "INFO:tensorflow:Collective all_reduce tensors: 1 all_reduces, num_devices = 8, group_size = 8, implementation = AUTO, num_packs = 1\n"
     ]
    }
   ],
   "source": [
    "with strategy.scope():\n",
    "    model.first_stage_model.build(input_shape=(None, *train_ds[0][0].shape[2:]))\n",
    "    model.cond_stage_model.build(input_shape=(None, *train_ds[0][0].shape[2:]))"
   ]
  },
  {
   "cell_type": "code",
   "execution_count": 13,
   "id": "603e7f87-f677-4bf0-a380-e969ff82ac5e",
   "metadata": {
    "tags": []
   },
   "outputs": [],
   "source": [
    "with strategy.scope():\n",
    "    video = model(train_ds[0])"
   ]
  },
  {
   "cell_type": "code",
   "execution_count": 14,
   "id": "570c37b7-1eaf-4eb4-8810-d21a110c5c26",
   "metadata": {},
   "outputs": [
    {
     "name": "stdout",
     "output_type": "stream",
     "text": [
      "Model: \"net2_net\"\n",
      "_________________________________________________________________\n",
      " Layer (type)                Output Shape              Param #   \n",
      "=================================================================\n",
      " gpt (GPT)                   multiple                  84813312  \n",
      "                                                                 \n",
      " vqgan (VQGAN)               multiple                  20186956  \n",
      "                                                                 \n",
      "=================================================================\n",
      "Total params: 105,000,270\n",
      "Trainable params: 104,998,468\n",
      "Non-trainable params: 1,802\n",
      "_________________________________________________________________\n"
     ]
    }
   ],
   "source": [
    "model.summary()"
   ]
  },
  {
   "cell_type": "code",
   "execution_count": 15,
   "id": "57e6baf5-5362-4a48-bb7a-c361d466902b",
   "metadata": {
    "tags": []
   },
   "outputs": [
    {
     "name": "stderr",
     "output_type": "stream",
     "text": [
      "2022-06-01 04:29:38.562209: W tensorflow/core/grappler/optimizers/data/auto_shard.cc:766] AUTO sharding policy will apply DATA sharding policy as it failed to apply FILE sharding policy because of the following reason: Did not find a shardable source, walked to a node which is not a dataset: name: \"FlatMapDataset/_2\"\n",
      "op: \"FlatMapDataset\"\n",
      "input: \"TensorDataset/_1\"\n",
      "attr {\n",
      "  key: \"Targuments\"\n",
      "  value {\n",
      "    list {\n",
      "    }\n",
      "  }\n",
      "}\n",
      "attr {\n",
      "  key: \"_cardinality\"\n",
      "  value {\n",
      "    i: -2\n",
      "  }\n",
      "}\n",
      "attr {\n",
      "  key: \"f\"\n",
      "  value {\n",
      "    func {\n",
      "      name: \"__inference_Dataset_flat_map_flat_map_fn_647745\"\n",
      "    }\n",
      "  }\n",
      "}\n",
      "attr {\n",
      "  key: \"metadata\"\n",
      "  value {\n",
      "    s: \"\\n\\020FlatMapDataset:1\"\n",
      "  }\n",
      "}\n",
      "attr {\n",
      "  key: \"output_shapes\"\n",
      "  value {\n",
      "    list {\n",
      "      shape {\n",
      "        dim {\n",
      "          size: -1\n",
      "        }\n",
      "        dim {\n",
      "          size: -1\n",
      "        }\n",
      "        dim {\n",
      "          size: -1\n",
      "        }\n",
      "        dim {\n",
      "          size: -1\n",
      "        }\n",
      "        dim {\n",
      "          size: -1\n",
      "        }\n",
      "      }\n",
      "      shape {\n",
      "        dim {\n",
      "          size: -1\n",
      "        }\n",
      "        dim {\n",
      "          size: -1\n",
      "        }\n",
      "        dim {\n",
      "          size: -1\n",
      "        }\n",
      "        dim {\n",
      "          size: -1\n",
      "        }\n",
      "        dim {\n",
      "          size: -1\n",
      "        }\n",
      "      }\n",
      "    }\n",
      "  }\n",
      "}\n",
      "attr {\n",
      "  key: \"output_types\"\n",
      "  value {\n",
      "    list {\n",
      "      type: DT_FLOAT\n",
      "      type: DT_FLOAT\n",
      "    }\n",
      "  }\n",
      "}\n",
      ". Consider either turning off auto-sharding or switching the auto_shard_policy to DATA to shard this dataset. You can do this by creating a new `tf.data.Options()` object then setting `options.experimental_distribute.auto_shard_policy = AutoShardPolicy.DATA` before applying the options object to the dataset via `dataset.with_options(options)`.\n"
     ]
    },
    {
     "name": "stdout",
     "output_type": "stream",
     "text": [
      "Epoch 1/300\n",
      "INFO:tensorflow:Collective all_reduce tensors: 132 all_reduces, num_devices = 8, group_size = 8, implementation = AUTO, num_packs = 1\n",
      "INFO:tensorflow:Collective all_reduce IndexedSlices: 2 all_reduces, num_devices =8, group_size = 8, implementation = AUTO\n",
      "INFO:tensorflow:Collective all_reduce tensors: 1 all_reduces, num_devices = 8, group_size = 8, implementation = AUTO, num_packs = 1\n",
      "INFO:tensorflow:Collective all_reduce tensors: 1 all_reduces, num_devices = 8, group_size = 8, implementation = AUTO, num_packs = 1\n",
      "INFO:tensorflow:Collective all_reduce tensors: 1 all_reduces, num_devices = 8, group_size = 8, implementation = AUTO, num_packs = 1\n",
      "INFO:tensorflow:Collective all_reduce tensors: 132 all_reduces, num_devices = 8, group_size = 8, implementation = AUTO, num_packs = 1\n",
      "INFO:tensorflow:Collective all_reduce IndexedSlices: 2 all_reduces, num_devices =8, group_size = 8, implementation = AUTO\n",
      "INFO:tensorflow:Collective all_reduce tensors: 1 all_reduces, num_devices = 8, group_size = 8, implementation = AUTO, num_packs = 1\n",
      "INFO:tensorflow:Collective all_reduce tensors: 1 all_reduces, num_devices = 8, group_size = 8, implementation = AUTO, num_packs = 1\n"
     ]
    },
    {
     "name": "stderr",
     "output_type": "stream",
     "text": [
      "2022-06-01 05:15:49.115947: I tensorflow/stream_executor/cuda/cuda_dnn.cc:366] Loaded cuDNN version 8101\n",
      "2022-06-01 05:15:53.004310: I tensorflow/stream_executor/cuda/cuda_dnn.cc:366] Loaded cuDNN version 8101\n",
      "2022-06-01 05:15:55.917932: I tensorflow/stream_executor/cuda/cuda_dnn.cc:366] Loaded cuDNN version 8101\n",
      "2022-06-01 05:16:00.046239: I tensorflow/stream_executor/cuda/cuda_dnn.cc:366] Loaded cuDNN version 8101\n",
      "2022-06-01 05:16:04.207533: I tensorflow/stream_executor/cuda/cuda_dnn.cc:366] Loaded cuDNN version 8101\n",
      "2022-06-01 05:16:11.254517: I tensorflow/stream_executor/cuda/cuda_dnn.cc:366] Loaded cuDNN version 8101\n",
      "2022-06-01 05:16:11.703282: I tensorflow/stream_executor/cuda/cuda_dnn.cc:366] Loaded cuDNN version 8101\n",
      "2022-06-01 05:16:20.901931: W tensorflow/core/common_runtime/bfc_allocator.cc:275] Allocator (GPU_5_bfc) ran out of memory trying to allocate 2.06GiB with freed_by_count=0. The caller indicates that this is not a failure, but may mean that there could be performance gains if more memory were available.\n",
      "2022-06-01 05:16:20.902069: W tensorflow/core/common_runtime/bfc_allocator.cc:275] Allocator (GPU_5_bfc) ran out of memory trying to allocate 2.06GiB with freed_by_count=0. The caller indicates that this is not a failure, but may mean that there could be performance gains if more memory were available.\n",
      "2022-06-01 05:16:20.920387: W tensorflow/core/common_runtime/bfc_allocator.cc:275] Allocator (GPU_5_bfc) ran out of memory trying to allocate 2.06GiB with freed_by_count=0. The caller indicates that this is not a failure, but may mean that there could be performance gains if more memory were available.\n",
      "2022-06-01 05:16:20.920488: W tensorflow/core/common_runtime/bfc_allocator.cc:275] Allocator (GPU_5_bfc) ran out of memory trying to allocate 2.06GiB with freed_by_count=0. The caller indicates that this is not a failure, but may mean that there could be performance gains if more memory were available.\n",
      "2022-06-01 05:16:22.461775: W tensorflow/core/common_runtime/bfc_allocator.cc:275] Allocator (GPU_5_bfc) ran out of memory trying to allocate 2.06GiB with freed_by_count=0. The caller indicates that this is not a failure, but may mean that there could be performance gains if more memory were available.\n",
      "2022-06-01 05:16:22.461868: W tensorflow/core/common_runtime/bfc_allocator.cc:275] Allocator (GPU_5_bfc) ran out of memory trying to allocate 2.06GiB with freed_by_count=0. The caller indicates that this is not a failure, but may mean that there could be performance gains if more memory were available.\n",
      "2022-06-01 05:16:23.218784: W tensorflow/core/common_runtime/bfc_allocator.cc:275] Allocator (GPU_4_bfc) ran out of memory trying to allocate 2.06GiB with freed_by_count=0. The caller indicates that this is not a failure, but may mean that there could be performance gains if more memory were available.\n",
      "2022-06-01 05:16:23.219181: W tensorflow/core/common_runtime/bfc_allocator.cc:275] Allocator (GPU_4_bfc) ran out of memory trying to allocate 2.06GiB with freed_by_count=0. The caller indicates that this is not a failure, but may mean that there could be performance gains if more memory were available.\n",
      "2022-06-01 05:16:25.287145: W tensorflow/core/common_runtime/bfc_allocator.cc:275] Allocator (GPU_6_bfc) ran out of memory trying to allocate 2.06GiB with freed_by_count=0. The caller indicates that this is not a failure, but may mean that there could be performance gains if more memory were available.\n",
      "2022-06-01 05:16:25.287230: W tensorflow/core/common_runtime/bfc_allocator.cc:275] Allocator (GPU_6_bfc) ran out of memory trying to allocate 2.06GiB with freed_by_count=0. The caller indicates that this is not a failure, but may mean that there could be performance gains if more memory were available.\n"
     ]
    },
    {
     "name": "stdout",
     "output_type": "stream",
     "text": [
      "8/8 [==============================] - ETA: 0s - loss: 114.2974"
     ]
    },
    {
     "name": "stderr",
     "output_type": "stream",
     "text": [
      "2022-06-01 05:18:25.480355: W tensorflow/core/grappler/optimizers/data/auto_shard.cc:766] AUTO sharding policy will apply DATA sharding policy as it failed to apply FILE sharding policy because of the following reason: Did not find a shardable source, walked to a node which is not a dataset: name: \"FlatMapDataset/_2\"\n",
      "op: \"FlatMapDataset\"\n",
      "input: \"TensorDataset/_1\"\n",
      "attr {\n",
      "  key: \"Targuments\"\n",
      "  value {\n",
      "    list {\n",
      "    }\n",
      "  }\n",
      "}\n",
      "attr {\n",
      "  key: \"_cardinality\"\n",
      "  value {\n",
      "    i: -2\n",
      "  }\n",
      "}\n",
      "attr {\n",
      "  key: \"f\"\n",
      "  value {\n",
      "    func {\n",
      "      name: \"__inference_Dataset_flat_map_flat_map_fn_3106122\"\n",
      "    }\n",
      "  }\n",
      "}\n",
      "attr {\n",
      "  key: \"metadata\"\n",
      "  value {\n",
      "    s: \"\\n\\021FlatMapDataset:63\"\n",
      "  }\n",
      "}\n",
      "attr {\n",
      "  key: \"output_shapes\"\n",
      "  value {\n",
      "    list {\n",
      "      shape {\n",
      "        dim {\n",
      "          size: -1\n",
      "        }\n",
      "        dim {\n",
      "          size: -1\n",
      "        }\n",
      "        dim {\n",
      "          size: -1\n",
      "        }\n",
      "        dim {\n",
      "          size: -1\n",
      "        }\n",
      "        dim {\n",
      "          size: -1\n",
      "        }\n",
      "      }\n",
      "      shape {\n",
      "        dim {\n",
      "          size: -1\n",
      "        }\n",
      "        dim {\n",
      "          size: -1\n",
      "        }\n",
      "        dim {\n",
      "          size: -1\n",
      "        }\n",
      "        dim {\n",
      "          size: -1\n",
      "        }\n",
      "        dim {\n",
      "          size: -1\n",
      "        }\n",
      "      }\n",
      "    }\n",
      "  }\n",
      "}\n",
      "attr {\n",
      "  key: \"output_types\"\n",
      "  value {\n",
      "    list {\n",
      "      type: DT_FLOAT\n",
      "      type: DT_FLOAT\n",
      "    }\n",
      "  }\n",
      "}\n",
      ". Consider either turning off auto-sharding or switching the auto_shard_policy to DATA to shard this dataset. You can do this by creating a new `tf.data.Options()` object then setting `options.experimental_distribute.auto_shard_policy = AutoShardPolicy.DATA` before applying the options object to the dataset via `dataset.with_options(options)`.\n"
     ]
    },
    {
     "name": "stdout",
     "output_type": "stream",
     "text": [
      "INFO:tensorflow:Collective all_reduce tensors: 1 all_reduces, num_devices = 8, group_size = 8, implementation = AUTO, num_packs = 1\n",
      "INFO:tensorflow:Collective all_reduce tensors: 1 all_reduces, num_devices = 8, group_size = 8, implementation = AUTO, num_packs = 1\n"
     ]
    },
    {
     "ename": "InvalidArgumentError",
     "evalue": "9 root error(s) found.\n  (0) INVALID_ARGUMENT:  logits and labels must have the same first dimension, got logits shape [81920,3] and labels shape [1]\n\t [[node replica_7/sparse_categorical_crossentropy_19/SparseSoftmaxCrossEntropyWithLogits/SparseSoftmaxCrossEntropyWithLogits\n (defined at /home/abdalla/GANime/venv/lib/python3.8/site-packages/keras/backend.py:5113)\n]]\n\t [[group_deps/_24441]]\n  (1) INVALID_ARGUMENT:  logits and labels must have the same first dimension, got logits shape [81920,3] and labels shape [1]\n\t [[node replica_7/sparse_categorical_crossentropy_19/SparseSoftmaxCrossEntropyWithLogits/SparseSoftmaxCrossEntropyWithLogits\n (defined at /home/abdalla/GANime/venv/lib/python3.8/site-packages/keras/backend.py:5113)\n]]\n\t [[group_deps/_24425]]\n  (2) INVALID_ARGUMENT:  logits and labels must have the same first dimension, got logits shape [81920,3] and labels shape [1]\n\t [[node replica_7/sparse_categorical_crossentropy_19/SparseSoftmaxCrossEntropyWithLogits/SparseSoftmaxCrossEntropyWithLogits\n (defined at /home/abdalla/GANime/venv/lib/python3.8/site-packages/keras/backend.py:5113)\n]]\n\t [[div_no_nan/_24389]]\n  (3) INVALID_ARGUMENT:  logits and labels must have the same first dimension, got logits shape [81920,3] and labels shape [1]\n\t [[node replica_7/sparse_categorical_crossentropy_19/SparseSoftmaxCrossEntropyWithLogits/SparseSoftmaxCrossEntropyWithLogits\n (defined at /home/abdalla/GANime/venv/lib/python3.8/site-packages/keras/backend.py:5113)\n]]\n\t [[div_no_nan/_24381]]\n  (4) INVALID_ARGUMENT:  logits and labels must have the same first dimension, got logits shape [81920,3] and labels shape [1]\n\t [[node replica_7/sparse_categorical_crossentropy_19/SparseSoftmaxCrossEntropyWithLogits/SparseSoftmaxCrossEntropyWithLogits\n (defined at /home/abdalla/GANime/venv/lib/python3.8/site-packages/keras/backend.py:5113)\n]]\n\t [[div_no_nan/_24377]]\n  (5) INVALID_ARGUMENT:  logits and labels must have the same first dimension, got logits shape [81920,3] and labels shape [1]\n\t [[node replica_7/sparse_categorical_crossentropy_19/SparseSoftmaxCrossEntropyWithLogits/SparseSoftmaxCrossEntropyWithLogits\n (defined at /home/abdalla/GANime/venv/lib/python3.8/site-packages/keras/backend.py:5113)\n]]\n\t [[div_no_nan/_24373]]\n  (6) INVALID_ARGUMENT:  logits and labels must have the same first dimension, got logits shape [81920,3] and labels shape [1]\n\t [[node replica_7/sparse_categorical_crossentropy_19/SparseSoftmaxCrossEntropyWithLogits/SparseSoftmaxCrossEntropyWithLogits\n (defined at /home/abdalla/GANime/venv/lib/python3.8/site-packages/keras/backend.py:5113)\n]]\n\t [[div_no_nan/CollectiveReduceV2_11/_24341]]\n  (7) INVALID_ARGUMENT:  logits and labels must have the same first dimension, got logits shape [81920,3] and labels shape [1]\n\t [[node replica_7/sparse_categorical_crossentropy_19/SparseSoftmaxCrossEntropyWithLogits/SparseSoftmaxCrossEntropyWithLogits\n (defined at /home/abdalla/GANime/venv/lib/python3.8/site-packages/keras/backend.py:5113)\n]]\n\t [[GroupCrossDeviceControlEdges_0/Identity_9/_24473]]\n  (8) INVALID_ARGUMENT:  logits and labels must have the same first dimension, got logits shape [81920,3] and labels shape [1]\n\t [[node replica_7/sparse_categorical_crossentropy_19/SparseSoftmaxCrossEntropyWithLogits/SparseSoftmaxCrossEntropyWithLogits\n (defined at /home/abdalla/GANime/venv/lib/python3.8/site-packages/keras/backend.py:5113)\n]]\n0 successful operations.\n0 derived errors ignored. [Op:__inference_test_function_3928655]\n\nErrors may have originated from an input operation.\nInput Source operations connected to node replica_7/sparse_categorical_crossentropy_19/SparseSoftmaxCrossEntropyWithLogits/SparseSoftmaxCrossEntropyWithLogits:\nIn[0] replica_7/sparse_categorical_crossentropy_19/Reshape_1 (defined at /home/abdalla/GANime/venv/lib/python3.8/site-packages/keras/backend.py:5109)\t\nIn[1] replica_7/sparse_categorical_crossentropy_19/Reshape (defined at /home/abdalla/GANime/venv/lib/python3.8/site-packages/keras/backend.py:3561)\n\nOperation defined at: (most recent call last)\n>>>   File \"/usr/lib/python3.8/threading.py\", line 890, in _bootstrap\n>>>     self._bootstrap_inner()\n>>> \n>>>   File \"/usr/lib/python3.8/threading.py\", line 932, in _bootstrap_inner\n>>>     self.run()\n>>> \n>>>   File \"/home/abdalla/GANime/venv/lib/python3.8/site-packages/keras/engine/training.py\", line 1349, in run_step\n>>>     outputs = model.test_step(data)\n>>> \n>>>   File \"/home/abdalla/GANime/ganime/model/vqgan_clean/net2net.py\", line 273, in test_step\n>>>     loss += tf.reduce_mean(self.loss_fn(y_true=target, y_pred=logits))\n>>> \n>>>   File \"/home/abdalla/GANime/venv/lib/python3.8/site-packages/keras/losses.py\", line 141, in __call__\n>>>     losses = call_fn(y_true, y_pred)\n>>> \n>>>   File \"/home/abdalla/GANime/venv/lib/python3.8/site-packages/keras/losses.py\", line 245, in call\n>>>     return ag_fn(y_true, y_pred, **self._fn_kwargs)\n>>> \n>>>   File \"/home/abdalla/GANime/venv/lib/python3.8/site-packages/keras/losses.py\", line 1737, in sparse_categorical_crossentropy\n>>>     return backend.sparse_categorical_crossentropy(\n>>> \n>>>   File \"/home/abdalla/GANime/venv/lib/python3.8/site-packages/keras/backend.py\", line 5113, in sparse_categorical_crossentropy\n>>>     res = tf.nn.sparse_softmax_cross_entropy_with_logits(\n>>> \n\nInput Source operations connected to node replica_7/sparse_categorical_crossentropy_19/SparseSoftmaxCrossEntropyWithLogits/SparseSoftmaxCrossEntropyWithLogits:\nIn[0] replica_7/sparse_categorical_crossentropy_19/Reshape_1 (defined at /home/abdalla/GANime/venv/lib/python3.8/site-packages/keras/backend.py:5109)\t\nIn[1] replica_7/sparse_categorical_crossentropy_19/Reshape (defined at /home/abdalla/GANime/venv/lib/python3.8/site-packages/keras/backend.py:3561)\n\nOperation defined at: (most recent call last)\n>>>   File \"/usr/lib/python3.8/threading.py\", line 890, in _bootstrap\n>>>     self._bootstrap_inner()\n>>> \n>>>   File \"/usr/lib/python3.8/threading.py\", line 932, in _bootstrap_inner\n>>>     self.run()\n>>> \n>>>   File \"/home/abdalla/GANime/venv/lib/python3.8/site-packages/keras/engine/training.py\", line 1349, in run_step\n>>>     outputs = model.test_step(data)\n>>> \n>>>   File \"/home/abdalla/GANime/ganime/model/vqgan_clean/net2net.py\", line 273, in test_step\n>>>     loss += tf.reduce_mean(self.loss_fn(y_true=target, y_pred=logits))\n>>> \n>>>   File \"/home/abdalla/GANime/venv/lib/python3.8/site-packages/keras/losses.py\", line 141, in __call__\n>>>     losses = call_fn(y_true, y_pred)\n>>> \n>>>   File \"/home/abdalla/GANime/venv/lib/python3.8/site-packages/keras/losses.py\", line 245, in call\n>>>     return ag_fn(y_true, y_pred, **self._fn_kwargs)\n>>> \n>>>   File \"/home/abdalla/GANime/venv/lib/python3.8/site-packages/keras/losses.py\", line 1737, in sparse_categorical_crossentropy\n>>>     return backend.sparse_categorical_crossentropy(\n>>> \n>>>   File \"/home/abdalla/GANime/venv/lib/python3.8/site-packages/keras/backend.py\", line 5113, in sparse_categorical_crossentropy\n>>>     res = tf.nn.sparse_softmax_cross_entropy_with_logits(\n>>> \n\nInput Source operations connected to node replica_7/sparse_categorical_crossentropy_19/SparseSoftmaxCrossEntropyWithLogits/SparseSoftmaxCrossEntropyWithLogits:\nIn[0] replica_7/sparse_categorical_crossentropy_19/Reshape_1 (defined at /home/abdalla/GANime/venv/lib/python3.8/site-packages/keras/backend.py:5109)\t\nIn[1] replica_7/sparse_categorical_crossentropy_19/Reshape (defined at /home/abdalla/GANime/venv/lib/python3.8/site-packages/keras/backend.py:3561)\n\nOperation defined at: (most recent call last)\n>>>   File \"/usr/lib/python3.8/threading.py\", line 890, in _bootstrap\n>>>     self._bootstrap_inner()\n>>> \n>>>   File \"/usr/lib/python3.8/threading.py\", line 932, in _bootstrap_inner\n>>>     self.run()\n>>> \n>>>   File \"/home/abdalla/GANime/venv/lib/python3.8/site-packages/keras/engine/training.py\", line 1349, in run_step\n>>>     outputs = model.test_step(data)\n>>> \n>>>   File \"/home/abdalla/GANime/ganime/model/vqgan_clean/net2net.py\", line 273, in test_step\n>>>     loss += tf.reduce_mean(self.loss_fn(y_true=target, y_pred=logits))\n>>> \n>>>   File \"/home/abdalla/GANime/venv/lib/python3.8/site-packages/keras/losses.py\", line 141, in __call__\n>>>     losses = call_fn(y_true, y_pred)\n>>> \n>>>   File \"/home/abdalla/GANime/venv/lib/python3.8/site-packages/keras/losses.py\", line 245, in call\n>>>     return ag_fn(y_true, y_pred, **self._fn_kwargs)\n>>> \n>>>   File \"/home/abdalla/GANime/venv/lib/python3.8/site-packages/keras/losses.py\", line 1737, in sparse_categorical_crossentropy\n>>>     return backend.sparse_categorical_crossentropy(\n>>> \n>>>   File \"/home/abdalla/GANime/venv/lib/python3.8/site-packages/keras/backend.py\", line 5113, in sparse_categorical_crossentropy\n>>>     res = tf.nn.sparse_softmax_cross_entropy_with_logits(\n>>> \n\nInput Source operations connected to node replica_7/sparse_categorical_crossentropy_19/SparseSoftmaxCrossEntropyWithLogits/SparseSoftmaxCrossEntropyWithLogits:\nIn[0] replica_7/sparse_categorical_crossentropy_19/Reshape_1 (defined at /home/abdalla/GANime/venv/lib/python3.8/site-packages/keras/backend.py:5109)\t\nIn[1] replica_7/sparse_categorical_crossentropy_19/Reshape (defined at /home/abdalla/GANime/venv/lib/python3.8/site-packages/keras/backend.py:3561)\n\nOperation defined at: (most recent call last)\n>>>   File \"/usr/lib/python3.8/threading.py\", line 890, in _bootstrap\n>>>     self._bootstrap_inner()\n>>> \n>>>   File \"/usr/lib/python3.8/threading.py\", line 932, in _bootstrap_inner\n>>>     self.run()\n>>> \n>>>   File \"/home/abdalla/GANime/venv/lib/python3.8/site-packages/keras/engine/training.py\", line 1349, in run_step\n>>>     outputs = model.test_step(data)\n>>> \n>>>   File \"/home/abdalla/GANime/ganime/model/vqgan_clean/net2net.py\", line 273, in test_step\n>>>     loss += tf.reduce_mean(self.loss_fn(y_true=target, y_pred=logits))\n>>> \n>>>   File \"/home/abdalla/GANime/venv/lib/python3.8/site-packages/keras/losses.py\", line 141, in __call__\n>>>     losses = call_fn(y_true, y_pred)\n>>> \n>>>   File \"/home/abdalla/GANime/venv/lib/python3.8/site-packages/keras/losses.py\", line 245, in call\n>>>     return ag_fn(y_true, y_pred, **self._fn_kwargs)\n>>> \n>>>   File \"/home/abdalla/GANime/venv/lib/python3.8/site-packages/keras/losses.py\", line 1737, in sparse_categorical_crossentropy\n>>>     return backend.sparse_categorical_crossentropy(\n>>> \n>>>   File \"/home/abdalla/GANime/venv/lib/python3.8/site-packages/keras/backend.py\", line 5113, in sparse_categorical_crossentropy\n>>>     res = tf.nn.sparse_softmax_cross_entropy_with_logits(\n>>> \n\nInput Source operations connected to node replica_7/sparse_categorical_crossentropy_19/SparseSoftmaxCrossEntropyWithLogits/SparseSoftmaxCrossEntropyWithLogits:\nIn[0] replica_7/sparse_categorical_crossentropy_19/Reshape_1 (defined at /home/abdalla/GANime/venv/lib/python3.8/site-packages/keras/backend.py:5109)\t\nIn[1] replica_7/sparse_categorical_crossentropy_19/Reshape (defined at /home/abdalla/GANime/venv/lib/python3.8/site-packages/keras/backend.py:3561)\n\nOperation defined at: (most recent call last)\n>>>   File \"/usr/lib/python3.8/threading.py\", line 890, in _bootstrap\n>>>     self._bootstrap_inner()\n>>> \n>>>   File \"/usr/lib/python3.8/threading.py\", line 932, in _bootstrap_inner\n>>>     self.run()\n>>> \n>>>   File \"/home/abdalla/GANime/venv/lib/python3.8/site-packages/keras/engine/training.py\", line 1349, in run_step\n>>>     outputs = model.test_step(data)\n>>> \n>>>   File \"/home/abdalla/GANime/ganime/model/vqgan_clean/net2net.py\", line 273, in test_step\n>>>     loss += tf.reduce_mean(self.loss_fn(y_true=target, y_pred=logits))\n>>> \n>>>   File \"/home/abdalla/GANime/venv/lib/python3.8/site-packages/keras/losses.py\", line 141, in __call__\n>>>     losses = call_fn(y_true, y_pred)\n>>> \n>>>   File \"/home/abdalla/GANime/venv/lib/python3.8/site-packages/keras/losses.py\", line 245, in call\n>>>     return ag_fn(y_true, y_pred, **self._fn_kwargs)\n>>> \n>>>   File \"/home/abdalla/GANime/venv/lib/python3.8/site-packages/keras/losses.py\", line 1737, in sparse_categorical_crossentropy\n>>>     return backend.sparse_categorical_crossentropy(\n>>> \n>>>   File \"/home/abdalla/GANime/venv/lib/python3.8/site-packages/keras/backend.py\", line 5113, in sparse_categorical_crossentropy\n>>>     res = tf.nn.sparse_softmax_cross_entropy_with_logits(\n>>> \n\nInput Source operations connected to node replica_7/sparse_categorical_crossentropy_19/SparseSoftmaxCrossEntropyWithLogits/SparseSoftmaxCrossEntropyWithLogits:\nIn[0] replica_7/sparse_categorical_crossentropy_19/Reshape_1 (defined at /home/abdalla/GANime/venv/lib/python3.8/site-packages/keras/backend.py:5109)\t\nIn[1] replica_7/sparse_categorical_crossentropy_19/Reshape (defined at /home/abdalla/GANime/venv/lib/python3.8/site-packages/keras/backend.py:3561)\n\nOperation defined at: (most recent call last)\n>>>   File \"/usr/lib/python3.8/threading.py\", line 890, in _bootstrap\n>>>     self._bootstrap_inner()\n>>> \n>>>   File \"/usr/lib/python3.8/threading.py\", line 932, in _bootstrap_inner\n>>>     self.run()\n>>> \n>>>   File \"/home/abdalla/GANime/venv/lib/python3.8/site-packages/keras/engine/training.py\", line 1349, in run_step\n>>>     outputs = model.test_step(data)\n>>> \n>>>   File \"/home/abdalla/GANime/ganime/model/vqgan_clean/net2net.py\", line 273, in test_step\n>>>     loss += tf.reduce_mean(self.loss_fn(y_true=target, y_pred=logits))\n>>> \n>>>   File \"/home/abdalla/GANime/venv/lib/python3.8/site-packages/keras/losses.py\", line 141, in __call__\n>>>     losses = call_fn(y_true, y_pred)\n>>> \n>>>   File \"/home/abdalla/GANime/venv/lib/python3.8/site-packages/keras/losses.py\", line 245, in call\n>>>     return ag_fn(y_true, y_pred, **self._fn_kwargs)\n>>> \n>>>   File \"/home/abdalla/GANime/venv/lib/python3.8/site-packages/keras/losses.py\", line 1737, in sparse_categorical_crossentropy\n>>>     return backend.sparse_categorical_crossentropy(\n>>> \n>>>   File \"/home/abdalla/GANime/venv/lib/python3.8/site-packages/keras/backend.py\", line 5113, in sparse_categorical_crossentropy\n>>>     res = tf.nn.sparse_softmax_cross_entropy_with_logits(\n>>> \n\nInput Source operations connected to node replica_7/sparse_categorical_crossentropy_19/SparseSoftmaxCrossEntropyWithLogits/SparseSoftmaxCrossEntropyWithLogits:\nIn[0] replica_7/sparse_categorical_crossentropy_19/Reshape_1 (defined at /home/abdalla/GANime/venv/lib/python3.8/site-packages/keras/backend.py:5109)\t\nIn[1] replica_7/sparse_categorical_crossentropy_19/Reshape (defined at /home/abdalla/GANime/venv/lib/python3.8/site-packages/keras/backend.py:3561)\n\nOperation defined at: (most recent call last)\n>>>   File \"/usr/lib/python3.8/threading.py\", line 890, in _bootstrap\n>>>     self._bootstrap_inner()\n>>> \n>>>   File \"/usr/lib/python3.8/threading.py\", line 932, in _bootstrap_inner\n>>>     self.run()\n>>> \n>>>   File \"/home/abdalla/GANime/venv/lib/python3.8/site-packages/keras/engine/training.py\", line 1349, in run_step\n>>>     outputs = model.test_step(data)\n>>> \n>>>   File \"/home/abdalla/GANime/ganime/model/vqgan_clean/net2net.py\", line 273, in test_step\n>>>     loss += tf.reduce_mean(self.loss_fn(y_true=target, y_pred=logits))\n>>> \n>>>   File \"/home/abdalla/GANime/venv/lib/python3.8/site-packages/keras/losses.py\", line 141, in __call__\n>>>     losses = call_fn(y_true, y_pred)\n>>> \n>>>   File \"/home/abdalla/GANime/venv/lib/python3.8/site-packages/keras/losses.py\", line 245, in call\n>>>     return ag_fn(y_true, y_pred, **self._fn_kwargs)\n>>> \n>>>   File \"/home/abdalla/GANime/venv/lib/python3.8/site-packages/keras/losses.py\", line 1737, in sparse_categorical_crossentropy\n>>>     return backend.sparse_categorical_crossentropy(\n>>> \n>>>   File \"/home/abdalla/GANime/venv/lib/python3.8/site-packages/keras/backend.py\", line 5113, in sparse_categorical_crossentropy\n>>>     res = tf.nn.sparse_softmax_cross_entropy_with_logits(\n>>> \n\nInput Source operations connected to node replica_7/sparse_categorical_crossentropy_19/SparseSoftmaxCrossEntropyWithLogits/SparseSoftmaxCrossEntropyWithLogits:\nIn[0] replica_7/sparse_categorical_crossentropy_19/Reshape_1 (defined at /home/abdalla/GANime/venv/lib/python3.8/site-packages/keras/backend.py:5109)\t\nIn[1] replica_7/sparse_categorical_crossentropy_19/Reshape (defined at /home/abdalla/GANime/venv/lib/python3.8/site-packages/keras/backend.py:3561)\n\nOperation defined at: (most recent call last)\n>>>   File \"/usr/lib/python3.8/threading.py\", line 890, in _bootstrap\n>>>     self._bootstrap_inner()\n>>> \n>>>   File \"/usr/lib/python3.8/threading.py\", line 932, in _bootstrap_inner\n>>>     self.run()\n>>> \n>>>   File \"/home/abdalla/GANime/venv/lib/python3.8/site-packages/keras/engine/training.py\", line 1349, in run_step\n>>>     outputs = model.test_step(data)\n>>> \n>>>   File \"/home/abdalla/GANime/ganime/model/vqgan_clean/net2net.py\", line 273, in test_step\n>>>     loss += tf.reduce_mean(self.loss_fn(y_true=target, y_pred=logits))\n>>> \n>>>   File \"/home/abdalla/GANime/venv/lib/python3.8/site-packages/keras/losses.py\", line 141, in __call__\n>>>     losses = call_fn(y_true, y_pred)\n>>> \n>>>   File \"/home/abdalla/GANime/venv/lib/python3.8/site-packages/keras/losses.py\", line 245, in call\n>>>     return ag_fn(y_true, y_pred, **self._fn_kwargs)\n>>> \n>>>   File \"/home/abdalla/GANime/venv/lib/python3.8/site-packages/keras/losses.py\", line 1737, in sparse_categorical_crossentropy\n>>>     return backend.sparse_categorical_crossentropy(\n>>> \n>>>   File \"/home/abdalla/GANime/venv/lib/python3.8/site-packages/keras/backend.py\", line 5113, in sparse_categorical_crossentropy\n>>>     res = tf.nn.sparse_softmax_cross_entropy_with_logits(\n>>> \n\nInput Source operations connected to node replica_7/sparse_categorical_crossentropy_19/SparseSoftmaxCrossEntropyWithLogits/SparseSoftmaxCrossEntropyWithLogits:\nIn[0] replica_7/sparse_categorical_crossentropy_19/Reshape_1 (defined at /home/abdalla/GANime/venv/lib/python3.8/site-packages/keras/backend.py:5109)\t\nIn[1] replica_7/sparse_categorical_crossentropy_19/Reshape (defined at /home/abdalla/GANime/venv/lib/python3.8/site-packages/keras/backend.py:3561)\n\nOperation defined at: (most recent call last)\n>>>   File \"/usr/lib/python3.8/threading.py\", line 890, in _bootstrap\n>>>     self._bootstrap_inner()\n>>> \n>>>   File \"/usr/lib/python3.8/threading.py\", line 932, in _bootstrap_inner\n>>>     self.run()\n>>> \n>>>   File \"/home/abdalla/GANime/venv/lib/python3.8/site-packages/keras/engine/training.py\", line 1349, in run_step\n>>>     outputs = model.test_step(data)\n>>> \n>>>   File \"/home/abdalla/GANime/ganime/model/vqgan_clean/net2net.py\", line 273, in test_step\n>>>     loss += tf.reduce_mean(self.loss_fn(y_true=target, y_pred=logits))\n>>> \n>>>   File \"/home/abdalla/GANime/venv/lib/python3.8/site-packages/keras/losses.py\", line 141, in __call__\n>>>     losses = call_fn(y_true, y_pred)\n>>> \n>>>   File \"/home/abdalla/GANime/venv/lib/python3.8/site-packages/keras/losses.py\", line 245, in call\n>>>     return ag_fn(y_true, y_pred, **self._fn_kwargs)\n>>> \n>>>   File \"/home/abdalla/GANime/venv/lib/python3.8/site-packages/keras/losses.py\", line 1737, in sparse_categorical_crossentropy\n>>>     return backend.sparse_categorical_crossentropy(\n>>> \n>>>   File \"/home/abdalla/GANime/venv/lib/python3.8/site-packages/keras/backend.py\", line 5113, in sparse_categorical_crossentropy\n>>>     res = tf.nn.sparse_softmax_cross_entropy_with_logits(\n>>> \n\nFunction call stack:\ntest_function -> test_function -> test_function -> test_function -> test_function -> test_function -> test_function -> test_function -> test_function\n",
     "output_type": "error",
     "traceback": [
      "\u001b[0;31m---------------------------------------------------------------------------\u001b[0m",
      "\u001b[0;31mInvalidArgumentError\u001b[0m                      Traceback (most recent call last)",
      "Input \u001b[0;32mIn [15]\u001b[0m, in \u001b[0;36m<cell line: 1>\u001b[0;34m()\u001b[0m\n\u001b[0;32m----> 1\u001b[0m \u001b[43mmodel\u001b[49m\u001b[38;5;241;43m.\u001b[39;49m\u001b[43mfit\u001b[49m\u001b[43m(\u001b[49m\u001b[43mtrain_ds\u001b[49m\u001b[43m,\u001b[49m\u001b[43m \u001b[49m\u001b[43mvalidation_data\u001b[49m\u001b[38;5;241;43m=\u001b[39;49m\u001b[43mtest_ds\u001b[49m\u001b[43m,\u001b[49m\u001b[43m \u001b[49m\u001b[43msteps_per_epoch\u001b[49m\u001b[38;5;241;43m=\u001b[39;49m\u001b[38;5;241;43m8\u001b[39;49m\u001b[43m,\u001b[49m\u001b[43m \u001b[49m\u001b[43mvalidation_steps\u001b[49m\u001b[38;5;241;43m=\u001b[39;49m\u001b[38;5;241;43m8\u001b[39;49m\u001b[43m,\u001b[49m\u001b[43m \u001b[49m\u001b[43mepochs\u001b[49m\u001b[38;5;241;43m=\u001b[39;49m\u001b[38;5;241;43m300\u001b[39;49m\u001b[43m,\u001b[49m\u001b[43m \u001b[49m\u001b[43mcallbacks\u001b[49m\u001b[38;5;241;43m=\u001b[39;49m\u001b[43mcallbacks\u001b[49m\u001b[43m)\u001b[49m\n",
      "File \u001b[0;32m~/GANime/venv/lib/python3.8/site-packages/keras/utils/traceback_utils.py:67\u001b[0m, in \u001b[0;36mfilter_traceback.<locals>.error_handler\u001b[0;34m(*args, **kwargs)\u001b[0m\n\u001b[1;32m     65\u001b[0m \u001b[38;5;28;01mexcept\u001b[39;00m \u001b[38;5;167;01mException\u001b[39;00m \u001b[38;5;28;01mas\u001b[39;00m e:  \u001b[38;5;66;03m# pylint: disable=broad-except\u001b[39;00m\n\u001b[1;32m     66\u001b[0m   filtered_tb \u001b[38;5;241m=\u001b[39m _process_traceback_frames(e\u001b[38;5;241m.\u001b[39m__traceback__)\n\u001b[0;32m---> 67\u001b[0m   \u001b[38;5;28;01mraise\u001b[39;00m e\u001b[38;5;241m.\u001b[39mwith_traceback(filtered_tb) \u001b[38;5;28;01mfrom\u001b[39;00m \u001b[38;5;28mNone\u001b[39m\n\u001b[1;32m     68\u001b[0m \u001b[38;5;28;01mfinally\u001b[39;00m:\n\u001b[1;32m     69\u001b[0m   \u001b[38;5;28;01mdel\u001b[39;00m filtered_tb\n",
      "File \u001b[0;32m~/GANime/venv/lib/python3.8/site-packages/tensorflow/python/eager/execute.py:58\u001b[0m, in \u001b[0;36mquick_execute\u001b[0;34m(op_name, num_outputs, inputs, attrs, ctx, name)\u001b[0m\n\u001b[1;32m     56\u001b[0m \u001b[38;5;28;01mtry\u001b[39;00m:\n\u001b[1;32m     57\u001b[0m   ctx\u001b[38;5;241m.\u001b[39mensure_initialized()\n\u001b[0;32m---> 58\u001b[0m   tensors \u001b[38;5;241m=\u001b[39m pywrap_tfe\u001b[38;5;241m.\u001b[39mTFE_Py_Execute(ctx\u001b[38;5;241m.\u001b[39m_handle, device_name, op_name,\n\u001b[1;32m     59\u001b[0m                                       inputs, attrs, num_outputs)\n\u001b[1;32m     60\u001b[0m \u001b[38;5;28;01mexcept\u001b[39;00m core\u001b[38;5;241m.\u001b[39m_NotOkStatusException \u001b[38;5;28;01mas\u001b[39;00m e:\n\u001b[1;32m     61\u001b[0m   \u001b[38;5;28;01mif\u001b[39;00m name \u001b[38;5;129;01mis\u001b[39;00m \u001b[38;5;129;01mnot\u001b[39;00m \u001b[38;5;28;01mNone\u001b[39;00m:\n",
      "\u001b[0;31mInvalidArgumentError\u001b[0m: 9 root error(s) found.\n  (0) INVALID_ARGUMENT:  logits and labels must have the same first dimension, got logits shape [81920,3] and labels shape [1]\n\t [[node replica_7/sparse_categorical_crossentropy_19/SparseSoftmaxCrossEntropyWithLogits/SparseSoftmaxCrossEntropyWithLogits\n (defined at /home/abdalla/GANime/venv/lib/python3.8/site-packages/keras/backend.py:5113)\n]]\n\t [[group_deps/_24441]]\n  (1) INVALID_ARGUMENT:  logits and labels must have the same first dimension, got logits shape [81920,3] and labels shape [1]\n\t [[node replica_7/sparse_categorical_crossentropy_19/SparseSoftmaxCrossEntropyWithLogits/SparseSoftmaxCrossEntropyWithLogits\n (defined at /home/abdalla/GANime/venv/lib/python3.8/site-packages/keras/backend.py:5113)\n]]\n\t [[group_deps/_24425]]\n  (2) INVALID_ARGUMENT:  logits and labels must have the same first dimension, got logits shape [81920,3] and labels shape [1]\n\t [[node replica_7/sparse_categorical_crossentropy_19/SparseSoftmaxCrossEntropyWithLogits/SparseSoftmaxCrossEntropyWithLogits\n (defined at /home/abdalla/GANime/venv/lib/python3.8/site-packages/keras/backend.py:5113)\n]]\n\t [[div_no_nan/_24389]]\n  (3) INVALID_ARGUMENT:  logits and labels must have the same first dimension, got logits shape [81920,3] and labels shape [1]\n\t [[node replica_7/sparse_categorical_crossentropy_19/SparseSoftmaxCrossEntropyWithLogits/SparseSoftmaxCrossEntropyWithLogits\n (defined at /home/abdalla/GANime/venv/lib/python3.8/site-packages/keras/backend.py:5113)\n]]\n\t [[div_no_nan/_24381]]\n  (4) INVALID_ARGUMENT:  logits and labels must have the same first dimension, got logits shape [81920,3] and labels shape [1]\n\t [[node replica_7/sparse_categorical_crossentropy_19/SparseSoftmaxCrossEntropyWithLogits/SparseSoftmaxCrossEntropyWithLogits\n (defined at /home/abdalla/GANime/venv/lib/python3.8/site-packages/keras/backend.py:5113)\n]]\n\t [[div_no_nan/_24377]]\n  (5) INVALID_ARGUMENT:  logits and labels must have the same first dimension, got logits shape [81920,3] and labels shape [1]\n\t [[node replica_7/sparse_categorical_crossentropy_19/SparseSoftmaxCrossEntropyWithLogits/SparseSoftmaxCrossEntropyWithLogits\n (defined at /home/abdalla/GANime/venv/lib/python3.8/site-packages/keras/backend.py:5113)\n]]\n\t [[div_no_nan/_24373]]\n  (6) INVALID_ARGUMENT:  logits and labels must have the same first dimension, got logits shape [81920,3] and labels shape [1]\n\t [[node replica_7/sparse_categorical_crossentropy_19/SparseSoftmaxCrossEntropyWithLogits/SparseSoftmaxCrossEntropyWithLogits\n (defined at /home/abdalla/GANime/venv/lib/python3.8/site-packages/keras/backend.py:5113)\n]]\n\t [[div_no_nan/CollectiveReduceV2_11/_24341]]\n  (7) INVALID_ARGUMENT:  logits and labels must have the same first dimension, got logits shape [81920,3] and labels shape [1]\n\t [[node replica_7/sparse_categorical_crossentropy_19/SparseSoftmaxCrossEntropyWithLogits/SparseSoftmaxCrossEntropyWithLogits\n (defined at /home/abdalla/GANime/venv/lib/python3.8/site-packages/keras/backend.py:5113)\n]]\n\t [[GroupCrossDeviceControlEdges_0/Identity_9/_24473]]\n  (8) INVALID_ARGUMENT:  logits and labels must have the same first dimension, got logits shape [81920,3] and labels shape [1]\n\t [[node replica_7/sparse_categorical_crossentropy_19/SparseSoftmaxCrossEntropyWithLogits/SparseSoftmaxCrossEntropyWithLogits\n (defined at /home/abdalla/GANime/venv/lib/python3.8/site-packages/keras/backend.py:5113)\n]]\n0 successful operations.\n0 derived errors ignored. [Op:__inference_test_function_3928655]\n\nErrors may have originated from an input operation.\nInput Source operations connected to node replica_7/sparse_categorical_crossentropy_19/SparseSoftmaxCrossEntropyWithLogits/SparseSoftmaxCrossEntropyWithLogits:\nIn[0] replica_7/sparse_categorical_crossentropy_19/Reshape_1 (defined at /home/abdalla/GANime/venv/lib/python3.8/site-packages/keras/backend.py:5109)\t\nIn[1] replica_7/sparse_categorical_crossentropy_19/Reshape (defined at /home/abdalla/GANime/venv/lib/python3.8/site-packages/keras/backend.py:3561)\n\nOperation defined at: (most recent call last)\n>>>   File \"/usr/lib/python3.8/threading.py\", line 890, in _bootstrap\n>>>     self._bootstrap_inner()\n>>> \n>>>   File \"/usr/lib/python3.8/threading.py\", line 932, in _bootstrap_inner\n>>>     self.run()\n>>> \n>>>   File \"/home/abdalla/GANime/venv/lib/python3.8/site-packages/keras/engine/training.py\", line 1349, in run_step\n>>>     outputs = model.test_step(data)\n>>> \n>>>   File \"/home/abdalla/GANime/ganime/model/vqgan_clean/net2net.py\", line 273, in test_step\n>>>     loss += tf.reduce_mean(self.loss_fn(y_true=target, y_pred=logits))\n>>> \n>>>   File \"/home/abdalla/GANime/venv/lib/python3.8/site-packages/keras/losses.py\", line 141, in __call__\n>>>     losses = call_fn(y_true, y_pred)\n>>> \n>>>   File \"/home/abdalla/GANime/venv/lib/python3.8/site-packages/keras/losses.py\", line 245, in call\n>>>     return ag_fn(y_true, y_pred, **self._fn_kwargs)\n>>> \n>>>   File \"/home/abdalla/GANime/venv/lib/python3.8/site-packages/keras/losses.py\", line 1737, in sparse_categorical_crossentropy\n>>>     return backend.sparse_categorical_crossentropy(\n>>> \n>>>   File \"/home/abdalla/GANime/venv/lib/python3.8/site-packages/keras/backend.py\", line 5113, in sparse_categorical_crossentropy\n>>>     res = tf.nn.sparse_softmax_cross_entropy_with_logits(\n>>> \n\nInput Source operations connected to node replica_7/sparse_categorical_crossentropy_19/SparseSoftmaxCrossEntropyWithLogits/SparseSoftmaxCrossEntropyWithLogits:\nIn[0] replica_7/sparse_categorical_crossentropy_19/Reshape_1 (defined at /home/abdalla/GANime/venv/lib/python3.8/site-packages/keras/backend.py:5109)\t\nIn[1] replica_7/sparse_categorical_crossentropy_19/Reshape (defined at /home/abdalla/GANime/venv/lib/python3.8/site-packages/keras/backend.py:3561)\n\nOperation defined at: (most recent call last)\n>>>   File \"/usr/lib/python3.8/threading.py\", line 890, in _bootstrap\n>>>     self._bootstrap_inner()\n>>> \n>>>   File \"/usr/lib/python3.8/threading.py\", line 932, in _bootstrap_inner\n>>>     self.run()\n>>> \n>>>   File \"/home/abdalla/GANime/venv/lib/python3.8/site-packages/keras/engine/training.py\", line 1349, in run_step\n>>>     outputs = model.test_step(data)\n>>> \n>>>   File \"/home/abdalla/GANime/ganime/model/vqgan_clean/net2net.py\", line 273, in test_step\n>>>     loss += tf.reduce_mean(self.loss_fn(y_true=target, y_pred=logits))\n>>> \n>>>   File \"/home/abdalla/GANime/venv/lib/python3.8/site-packages/keras/losses.py\", line 141, in __call__\n>>>     losses = call_fn(y_true, y_pred)\n>>> \n>>>   File \"/home/abdalla/GANime/venv/lib/python3.8/site-packages/keras/losses.py\", line 245, in call\n>>>     return ag_fn(y_true, y_pred, **self._fn_kwargs)\n>>> \n>>>   File \"/home/abdalla/GANime/venv/lib/python3.8/site-packages/keras/losses.py\", line 1737, in sparse_categorical_crossentropy\n>>>     return backend.sparse_categorical_crossentropy(\n>>> \n>>>   File \"/home/abdalla/GANime/venv/lib/python3.8/site-packages/keras/backend.py\", line 5113, in sparse_categorical_crossentropy\n>>>     res = tf.nn.sparse_softmax_cross_entropy_with_logits(\n>>> \n\nInput Source operations connected to node replica_7/sparse_categorical_crossentropy_19/SparseSoftmaxCrossEntropyWithLogits/SparseSoftmaxCrossEntropyWithLogits:\nIn[0] replica_7/sparse_categorical_crossentropy_19/Reshape_1 (defined at /home/abdalla/GANime/venv/lib/python3.8/site-packages/keras/backend.py:5109)\t\nIn[1] replica_7/sparse_categorical_crossentropy_19/Reshape (defined at /home/abdalla/GANime/venv/lib/python3.8/site-packages/keras/backend.py:3561)\n\nOperation defined at: (most recent call last)\n>>>   File \"/usr/lib/python3.8/threading.py\", line 890, in _bootstrap\n>>>     self._bootstrap_inner()\n>>> \n>>>   File \"/usr/lib/python3.8/threading.py\", line 932, in _bootstrap_inner\n>>>     self.run()\n>>> \n>>>   File \"/home/abdalla/GANime/venv/lib/python3.8/site-packages/keras/engine/training.py\", line 1349, in run_step\n>>>     outputs = model.test_step(data)\n>>> \n>>>   File \"/home/abdalla/GANime/ganime/model/vqgan_clean/net2net.py\", line 273, in test_step\n>>>     loss += tf.reduce_mean(self.loss_fn(y_true=target, y_pred=logits))\n>>> \n>>>   File \"/home/abdalla/GANime/venv/lib/python3.8/site-packages/keras/losses.py\", line 141, in __call__\n>>>     losses = call_fn(y_true, y_pred)\n>>> \n>>>   File \"/home/abdalla/GANime/venv/lib/python3.8/site-packages/keras/losses.py\", line 245, in call\n>>>     return ag_fn(y_true, y_pred, **self._fn_kwargs)\n>>> \n>>>   File \"/home/abdalla/GANime/venv/lib/python3.8/site-packages/keras/losses.py\", line 1737, in sparse_categorical_crossentropy\n>>>     return backend.sparse_categorical_crossentropy(\n>>> \n>>>   File \"/home/abdalla/GANime/venv/lib/python3.8/site-packages/keras/backend.py\", line 5113, in sparse_categorical_crossentropy\n>>>     res = tf.nn.sparse_softmax_cross_entropy_with_logits(\n>>> \n\nInput Source operations connected to node replica_7/sparse_categorical_crossentropy_19/SparseSoftmaxCrossEntropyWithLogits/SparseSoftmaxCrossEntropyWithLogits:\nIn[0] replica_7/sparse_categorical_crossentropy_19/Reshape_1 (defined at /home/abdalla/GANime/venv/lib/python3.8/site-packages/keras/backend.py:5109)\t\nIn[1] replica_7/sparse_categorical_crossentropy_19/Reshape (defined at /home/abdalla/GANime/venv/lib/python3.8/site-packages/keras/backend.py:3561)\n\nOperation defined at: (most recent call last)\n>>>   File \"/usr/lib/python3.8/threading.py\", line 890, in _bootstrap\n>>>     self._bootstrap_inner()\n>>> \n>>>   File \"/usr/lib/python3.8/threading.py\", line 932, in _bootstrap_inner\n>>>     self.run()\n>>> \n>>>   File \"/home/abdalla/GANime/venv/lib/python3.8/site-packages/keras/engine/training.py\", line 1349, in run_step\n>>>     outputs = model.test_step(data)\n>>> \n>>>   File \"/home/abdalla/GANime/ganime/model/vqgan_clean/net2net.py\", line 273, in test_step\n>>>     loss += tf.reduce_mean(self.loss_fn(y_true=target, y_pred=logits))\n>>> \n>>>   File \"/home/abdalla/GANime/venv/lib/python3.8/site-packages/keras/losses.py\", line 141, in __call__\n>>>     losses = call_fn(y_true, y_pred)\n>>> \n>>>   File \"/home/abdalla/GANime/venv/lib/python3.8/site-packages/keras/losses.py\", line 245, in call\n>>>     return ag_fn(y_true, y_pred, **self._fn_kwargs)\n>>> \n>>>   File \"/home/abdalla/GANime/venv/lib/python3.8/site-packages/keras/losses.py\", line 1737, in sparse_categorical_crossentropy\n>>>     return backend.sparse_categorical_crossentropy(\n>>> \n>>>   File \"/home/abdalla/GANime/venv/lib/python3.8/site-packages/keras/backend.py\", line 5113, in sparse_categorical_crossentropy\n>>>     res = tf.nn.sparse_softmax_cross_entropy_with_logits(\n>>> \n\nInput Source operations connected to node replica_7/sparse_categorical_crossentropy_19/SparseSoftmaxCrossEntropyWithLogits/SparseSoftmaxCrossEntropyWithLogits:\nIn[0] replica_7/sparse_categorical_crossentropy_19/Reshape_1 (defined at /home/abdalla/GANime/venv/lib/python3.8/site-packages/keras/backend.py:5109)\t\nIn[1] replica_7/sparse_categorical_crossentropy_19/Reshape (defined at /home/abdalla/GANime/venv/lib/python3.8/site-packages/keras/backend.py:3561)\n\nOperation defined at: (most recent call last)\n>>>   File \"/usr/lib/python3.8/threading.py\", line 890, in _bootstrap\n>>>     self._bootstrap_inner()\n>>> \n>>>   File \"/usr/lib/python3.8/threading.py\", line 932, in _bootstrap_inner\n>>>     self.run()\n>>> \n>>>   File \"/home/abdalla/GANime/venv/lib/python3.8/site-packages/keras/engine/training.py\", line 1349, in run_step\n>>>     outputs = model.test_step(data)\n>>> \n>>>   File \"/home/abdalla/GANime/ganime/model/vqgan_clean/net2net.py\", line 273, in test_step\n>>>     loss += tf.reduce_mean(self.loss_fn(y_true=target, y_pred=logits))\n>>> \n>>>   File \"/home/abdalla/GANime/venv/lib/python3.8/site-packages/keras/losses.py\", line 141, in __call__\n>>>     losses = call_fn(y_true, y_pred)\n>>> \n>>>   File \"/home/abdalla/GANime/venv/lib/python3.8/site-packages/keras/losses.py\", line 245, in call\n>>>     return ag_fn(y_true, y_pred, **self._fn_kwargs)\n>>> \n>>>   File \"/home/abdalla/GANime/venv/lib/python3.8/site-packages/keras/losses.py\", line 1737, in sparse_categorical_crossentropy\n>>>     return backend.sparse_categorical_crossentropy(\n>>> \n>>>   File \"/home/abdalla/GANime/venv/lib/python3.8/site-packages/keras/backend.py\", line 5113, in sparse_categorical_crossentropy\n>>>     res = tf.nn.sparse_softmax_cross_entropy_with_logits(\n>>> \n\nInput Source operations connected to node replica_7/sparse_categorical_crossentropy_19/SparseSoftmaxCrossEntropyWithLogits/SparseSoftmaxCrossEntropyWithLogits:\nIn[0] replica_7/sparse_categorical_crossentropy_19/Reshape_1 (defined at /home/abdalla/GANime/venv/lib/python3.8/site-packages/keras/backend.py:5109)\t\nIn[1] replica_7/sparse_categorical_crossentropy_19/Reshape (defined at /home/abdalla/GANime/venv/lib/python3.8/site-packages/keras/backend.py:3561)\n\nOperation defined at: (most recent call last)\n>>>   File \"/usr/lib/python3.8/threading.py\", line 890, in _bootstrap\n>>>     self._bootstrap_inner()\n>>> \n>>>   File \"/usr/lib/python3.8/threading.py\", line 932, in _bootstrap_inner\n>>>     self.run()\n>>> \n>>>   File \"/home/abdalla/GANime/venv/lib/python3.8/site-packages/keras/engine/training.py\", line 1349, in run_step\n>>>     outputs = model.test_step(data)\n>>> \n>>>   File \"/home/abdalla/GANime/ganime/model/vqgan_clean/net2net.py\", line 273, in test_step\n>>>     loss += tf.reduce_mean(self.loss_fn(y_true=target, y_pred=logits))\n>>> \n>>>   File \"/home/abdalla/GANime/venv/lib/python3.8/site-packages/keras/losses.py\", line 141, in __call__\n>>>     losses = call_fn(y_true, y_pred)\n>>> \n>>>   File \"/home/abdalla/GANime/venv/lib/python3.8/site-packages/keras/losses.py\", line 245, in call\n>>>     return ag_fn(y_true, y_pred, **self._fn_kwargs)\n>>> \n>>>   File \"/home/abdalla/GANime/venv/lib/python3.8/site-packages/keras/losses.py\", line 1737, in sparse_categorical_crossentropy\n>>>     return backend.sparse_categorical_crossentropy(\n>>> \n>>>   File \"/home/abdalla/GANime/venv/lib/python3.8/site-packages/keras/backend.py\", line 5113, in sparse_categorical_crossentropy\n>>>     res = tf.nn.sparse_softmax_cross_entropy_with_logits(\n>>> \n\nInput Source operations connected to node replica_7/sparse_categorical_crossentropy_19/SparseSoftmaxCrossEntropyWithLogits/SparseSoftmaxCrossEntropyWithLogits:\nIn[0] replica_7/sparse_categorical_crossentropy_19/Reshape_1 (defined at /home/abdalla/GANime/venv/lib/python3.8/site-packages/keras/backend.py:5109)\t\nIn[1] replica_7/sparse_categorical_crossentropy_19/Reshape (defined at /home/abdalla/GANime/venv/lib/python3.8/site-packages/keras/backend.py:3561)\n\nOperation defined at: (most recent call last)\n>>>   File \"/usr/lib/python3.8/threading.py\", line 890, in _bootstrap\n>>>     self._bootstrap_inner()\n>>> \n>>>   File \"/usr/lib/python3.8/threading.py\", line 932, in _bootstrap_inner\n>>>     self.run()\n>>> \n>>>   File \"/home/abdalla/GANime/venv/lib/python3.8/site-packages/keras/engine/training.py\", line 1349, in run_step\n>>>     outputs = model.test_step(data)\n>>> \n>>>   File \"/home/abdalla/GANime/ganime/model/vqgan_clean/net2net.py\", line 273, in test_step\n>>>     loss += tf.reduce_mean(self.loss_fn(y_true=target, y_pred=logits))\n>>> \n>>>   File \"/home/abdalla/GANime/venv/lib/python3.8/site-packages/keras/losses.py\", line 141, in __call__\n>>>     losses = call_fn(y_true, y_pred)\n>>> \n>>>   File \"/home/abdalla/GANime/venv/lib/python3.8/site-packages/keras/losses.py\", line 245, in call\n>>>     return ag_fn(y_true, y_pred, **self._fn_kwargs)\n>>> \n>>>   File \"/home/abdalla/GANime/venv/lib/python3.8/site-packages/keras/losses.py\", line 1737, in sparse_categorical_crossentropy\n>>>     return backend.sparse_categorical_crossentropy(\n>>> \n>>>   File \"/home/abdalla/GANime/venv/lib/python3.8/site-packages/keras/backend.py\", line 5113, in sparse_categorical_crossentropy\n>>>     res = tf.nn.sparse_softmax_cross_entropy_with_logits(\n>>> \n\nInput Source operations connected to node replica_7/sparse_categorical_crossentropy_19/SparseSoftmaxCrossEntropyWithLogits/SparseSoftmaxCrossEntropyWithLogits:\nIn[0] replica_7/sparse_categorical_crossentropy_19/Reshape_1 (defined at /home/abdalla/GANime/venv/lib/python3.8/site-packages/keras/backend.py:5109)\t\nIn[1] replica_7/sparse_categorical_crossentropy_19/Reshape (defined at /home/abdalla/GANime/venv/lib/python3.8/site-packages/keras/backend.py:3561)\n\nOperation defined at: (most recent call last)\n>>>   File \"/usr/lib/python3.8/threading.py\", line 890, in _bootstrap\n>>>     self._bootstrap_inner()\n>>> \n>>>   File \"/usr/lib/python3.8/threading.py\", line 932, in _bootstrap_inner\n>>>     self.run()\n>>> \n>>>   File \"/home/abdalla/GANime/venv/lib/python3.8/site-packages/keras/engine/training.py\", line 1349, in run_step\n>>>     outputs = model.test_step(data)\n>>> \n>>>   File \"/home/abdalla/GANime/ganime/model/vqgan_clean/net2net.py\", line 273, in test_step\n>>>     loss += tf.reduce_mean(self.loss_fn(y_true=target, y_pred=logits))\n>>> \n>>>   File \"/home/abdalla/GANime/venv/lib/python3.8/site-packages/keras/losses.py\", line 141, in __call__\n>>>     losses = call_fn(y_true, y_pred)\n>>> \n>>>   File \"/home/abdalla/GANime/venv/lib/python3.8/site-packages/keras/losses.py\", line 245, in call\n>>>     return ag_fn(y_true, y_pred, **self._fn_kwargs)\n>>> \n>>>   File \"/home/abdalla/GANime/venv/lib/python3.8/site-packages/keras/losses.py\", line 1737, in sparse_categorical_crossentropy\n>>>     return backend.sparse_categorical_crossentropy(\n>>> \n>>>   File \"/home/abdalla/GANime/venv/lib/python3.8/site-packages/keras/backend.py\", line 5113, in sparse_categorical_crossentropy\n>>>     res = tf.nn.sparse_softmax_cross_entropy_with_logits(\n>>> \n\nInput Source operations connected to node replica_7/sparse_categorical_crossentropy_19/SparseSoftmaxCrossEntropyWithLogits/SparseSoftmaxCrossEntropyWithLogits:\nIn[0] replica_7/sparse_categorical_crossentropy_19/Reshape_1 (defined at /home/abdalla/GANime/venv/lib/python3.8/site-packages/keras/backend.py:5109)\t\nIn[1] replica_7/sparse_categorical_crossentropy_19/Reshape (defined at /home/abdalla/GANime/venv/lib/python3.8/site-packages/keras/backend.py:3561)\n\nOperation defined at: (most recent call last)\n>>>   File \"/usr/lib/python3.8/threading.py\", line 890, in _bootstrap\n>>>     self._bootstrap_inner()\n>>> \n>>>   File \"/usr/lib/python3.8/threading.py\", line 932, in _bootstrap_inner\n>>>     self.run()\n>>> \n>>>   File \"/home/abdalla/GANime/venv/lib/python3.8/site-packages/keras/engine/training.py\", line 1349, in run_step\n>>>     outputs = model.test_step(data)\n>>> \n>>>   File \"/home/abdalla/GANime/ganime/model/vqgan_clean/net2net.py\", line 273, in test_step\n>>>     loss += tf.reduce_mean(self.loss_fn(y_true=target, y_pred=logits))\n>>> \n>>>   File \"/home/abdalla/GANime/venv/lib/python3.8/site-packages/keras/losses.py\", line 141, in __call__\n>>>     losses = call_fn(y_true, y_pred)\n>>> \n>>>   File \"/home/abdalla/GANime/venv/lib/python3.8/site-packages/keras/losses.py\", line 245, in call\n>>>     return ag_fn(y_true, y_pred, **self._fn_kwargs)\n>>> \n>>>   File \"/home/abdalla/GANime/venv/lib/python3.8/site-packages/keras/losses.py\", line 1737, in sparse_categorical_crossentropy\n>>>     return backend.sparse_categorical_crossentropy(\n>>> \n>>>   File \"/home/abdalla/GANime/venv/lib/python3.8/site-packages/keras/backend.py\", line 5113, in sparse_categorical_crossentropy\n>>>     res = tf.nn.sparse_softmax_cross_entropy_with_logits(\n>>> \n\nFunction call stack:\ntest_function -> test_function -> test_function -> test_function -> test_function -> test_function -> test_function -> test_function -> test_function\n"
     ]
    }
   ],
   "source": [
    "model.fit(train_ds, validation_data=test_ds, steps_per_epoch=8, validation_steps=8, epochs=300, callbacks=callbacks)"
   ]
  },
  {
   "cell_type": "code",
   "execution_count": null,
   "id": "e1aab902-7a8e-41d0-9263-fe13d693c555",
   "metadata": {},
   "outputs": [],
   "source": []
  },
  {
   "cell_type": "code",
   "execution_count": null,
   "id": "b04acd18-f616-4b7b-a3dc-385216f49c36",
   "metadata": {},
   "outputs": [],
   "source": []
  }
 ],
 "metadata": {
  "kernelspec": {
   "display_name": "GANime",
   "language": "python",
   "name": "ganime"
  },
  "language_info": {
   "codemirror_mode": {
    "name": "ipython",
    "version": 3
   },
   "file_extension": ".py",
   "mimetype": "text/x-python",
   "name": "python",
   "nbconvert_exporter": "python",
   "pygments_lexer": "ipython3",
   "version": "3.8.10"
  }
 },
 "nbformat": 4,
 "nbformat_minor": 5
}
