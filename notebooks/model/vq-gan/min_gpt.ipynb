{
 "cells": [
  {
   "cell_type": "code",
   "execution_count": 1,
   "id": "8c995bfd-ceef-4145-a103-c2a064be737e",
   "metadata": {},
   "outputs": [
    {
     "name": "stdout",
     "output_type": "stream",
     "text": [
      "env: CUDA_DEVICE_ORDER=PCI_BUS_ID\n",
      "env: CUDA_VISIBLE_DEVICES=3\n"
     ]
    }
   ],
   "source": [
    "%env CUDA_DEVICE_ORDER=PCI_BUS_ID\n",
    "%env CUDA_VISIBLE_DEVICES=\"4,5,6,7\""
   ]
  },
  {
   "cell_type": "code",
   "execution_count": 2,
   "id": "a2a9c822-ecf1-44b2-aaf6-c7122a777180",
   "metadata": {},
   "outputs": [],
   "source": [
    "%load_ext autoreload\n",
    "%autoreload 2"
   ]
  },
  {
   "cell_type": "code",
   "execution_count": 19,
   "id": "7f01a67a-1183-424a-8eda-986b6be4173c",
   "metadata": {},
   "outputs": [],
   "source": [
    "import omegaconf\n",
    "import numpy as np\n",
    "import matplotlib.pyplot as plt\n",
    "from ganime.data.base import load_dataset\n",
    "from ganime.data.kny import KNYImage\n",
    "from ganime.utils.statistics import dataset_statistics\n",
    "from ganime.model.vqgan_clean.vqgan import VQGAN\n",
    "from ganime.visualization.videos import display_videos\n",
    "from ganime.visualization.images import display_images\n",
    "from ganime.model.vqgan_clean.transformer.mingpt import GPT\n",
    "import tensorflow as tf\n",
    "from datetime import datetime\n",
    "from tqdm import tqdm\n",
    "from pyprojroot.pyprojroot import here\n",
    "#tf.get_logger().setLevel('ERROR')"
   ]
  },
  {
   "cell_type": "code",
   "execution_count": 37,
   "id": "840ed326-4cbf-40e6-b596-35288df5b693",
   "metadata": {},
   "outputs": [],
   "source": [
    "gpt = GPT(vocab_size=4096,\n",
    "        block_size=512,\n",
    "        n_layer=12,\n",
    "        n_head=12,\n",
    "        n_embedding=768,\n",
    "        embedding_percentage_drop=0.1,\n",
    "        attention_percentage_drop=0.1)"
   ]
  },
  {
   "cell_type": "code",
   "execution_count": 38,
   "id": "099e83f3-b2d3-453f-a2fa-3308f124cdf0",
   "metadata": {},
   "outputs": [
    {
     "name": "stdout",
     "output_type": "stream",
     "text": [
      "Model: \"model_8\"\n",
      "_________________________________________________________________\n",
      " Layer (type)                Output Shape              Param #   \n",
      "=================================================================\n",
      " input_12 (InputLayer)       [(None, 512)]             0         \n",
      "                                                                 \n",
      " token_and_position_embeddin  (None, 512, 768)         3538944   \n",
      " g_8 (TokenAndPositionEmbedd                                     \n",
      " ing)                                                            \n",
      "                                                                 \n",
      " transformer_block_36 (Trans  (None, 512, 768)         33065472  \n",
      " formerBlock)                                                    \n",
      "                                                                 \n",
      " transformer_block_37 (Trans  (None, 512, 768)         33065472  \n",
      " formerBlock)                                                    \n",
      "                                                                 \n",
      " transformer_block_38 (Trans  (None, 512, 768)         33065472  \n",
      " formerBlock)                                                    \n",
      "                                                                 \n",
      " transformer_block_39 (Trans  (None, 512, 768)         33065472  \n",
      " formerBlock)                                                    \n",
      "                                                                 \n",
      " transformer_block_40 (Trans  (None, 512, 768)         33065472  \n",
      " formerBlock)                                                    \n",
      "                                                                 \n",
      " transformer_block_41 (Trans  (None, 512, 768)         33065472  \n",
      " formerBlock)                                                    \n",
      "                                                                 \n",
      " transformer_block_42 (Trans  (None, 512, 768)         33065472  \n",
      " formerBlock)                                                    \n",
      "                                                                 \n",
      " transformer_block_43 (Trans  (None, 512, 768)         33065472  \n",
      " formerBlock)                                                    \n",
      "                                                                 \n",
      " transformer_block_44 (Trans  (None, 512, 768)         33065472  \n",
      " formerBlock)                                                    \n",
      "                                                                 \n",
      " transformer_block_45 (Trans  (None, 512, 768)         33065472  \n",
      " formerBlock)                                                    \n",
      "                                                                 \n",
      " transformer_block_46 (Trans  (None, 512, 768)         33065472  \n",
      " formerBlock)                                                    \n",
      "                                                                 \n",
      " transformer_block_47 (Trans  (None, 512, 768)         33065472  \n",
      " formerBlock)                                                    \n",
      "                                                                 \n",
      " layer_normalization_224 (La  (None, 512, 768)         1536      \n",
      " yerNormalization)                                               \n",
      "                                                                 \n",
      " dense_224 (Dense)           (None, 512, 4096)         3149824   \n",
      "                                                                 \n",
      "=================================================================\n",
      "Total params: 403,475,968\n",
      "Trainable params: 403,475,968\n",
      "Non-trainable params: 0\n",
      "_________________________________________________________________\n"
     ]
    }
   ],
   "source": [
    "input = tf.keras.layers.Input((512))\n",
    "h = input\n",
    "for block in gpt.layers:\n",
    "    h = block(h)\n",
    "tf.keras.Model(inputs=input, outputs=h).summary()"
   ]
  },
  {
   "cell_type": "code",
   "execution_count": null,
   "id": "b530068b-b80a-4553-b0bb-5ec609da7c4e",
   "metadata": {},
   "outputs": [],
   "source": []
  }
 ],
 "metadata": {
  "kernelspec": {
   "display_name": "Python 3 (ipykernel)",
   "language": "python",
   "name": "python3"
  },
  "language_info": {
   "codemirror_mode": {
    "name": "ipython",
    "version": 3
   },
   "file_extension": ".py",
   "mimetype": "text/x-python",
   "name": "python",
   "nbconvert_exporter": "python",
   "pygments_lexer": "ipython3",
   "version": "3.8.10"
  }
 },
 "nbformat": 4,
 "nbformat_minor": 5
}
