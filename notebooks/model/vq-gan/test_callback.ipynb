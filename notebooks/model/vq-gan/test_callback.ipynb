{
 "cells": [
  {
   "cell_type": "code",
   "execution_count": 1,
   "id": "c73b6490-1818-4382-bfc0-f8b51b6bccf6",
   "metadata": {},
   "outputs": [
    {
     "name": "stdout",
     "output_type": "stream",
     "text": [
      "env: CUDA_DEVICE_ORDER=PCI_BUS_ID\n",
      "env: CUDA_VISIBLE_DEVICES=0\n"
     ]
    }
   ],
   "source": [
    "%env CUDA_DEVICE_ORDER=PCI_BUS_ID\n",
    "%env CUDA_VISIBLE_DEVICES=0"
   ]
  },
  {
   "cell_type": "code",
   "execution_count": 2,
   "id": "fdc09a97-67f6-4f5b-b5b6-671e94cd7f9c",
   "metadata": {},
   "outputs": [],
   "source": [
    "%load_ext autoreload\n",
    "%autoreload 2"
   ]
  },
  {
   "cell_type": "code",
   "execution_count": 3,
   "id": "6126d7ab-b416-4aed-ba6c-43da93e6357e",
   "metadata": {},
   "outputs": [],
   "source": [
    "import omegaconf\n",
    "import numpy as np\n",
    "import matplotlib.pyplot as plt\n",
    "from ganime.data.kny import KNYImage\n",
    "from ganime.data.mnist import MovingMNIST\n",
    "from ganime.utils.statistics import dataset_statistics\n",
    "from ganime.visualization.videos import display_videos\n",
    "from ganime.visualization.images import display_images\n",
    "from ganime.model.vqgan_clean.net2net import Net2Net\n",
    "import tensorflow as tf\n",
    "import tensorflow_addons as tfa\n",
    "from datetime import datetime\n",
    "from tqdm import tqdm\n",
    "from pyprojroot.pyprojroot import here\n",
    "#tf.get_logger().setLevel('ERROR')"
   ]
  },
  {
   "cell_type": "code",
   "execution_count": 4,
   "id": "8750cf7a-3243-4924-bd4b-b519be517223",
   "metadata": {},
   "outputs": [],
   "source": [
    "batch_size = 16"
   ]
  },
  {
   "cell_type": "code",
   "execution_count": 5,
   "id": "b6aa0605-bb1b-4b20-b238-5eff8e61e424",
   "metadata": {},
   "outputs": [],
   "source": [
    "train_ds = MovingMNIST(\"../../../data\", batch_size=batch_size, split=\"train\")\n",
    "validation_ds = MovingMNIST(\"../../../data\", batch_size=batch_size, split=\"validation\")\n",
    "test_ds = MovingMNIST(\"../../../data\", batch_size=batch_size, split=\"test\")"
   ]
  },
  {
   "cell_type": "code",
   "execution_count": 6,
   "id": "9dea2ed6-e479-401e-8200-e1a23c0bbe18",
   "metadata": {},
   "outputs": [],
   "source": [
    "from ganime.utils.callbacks import TensorboardVideo, get_logdir"
   ]
  },
  {
   "cell_type": "code",
   "execution_count": 7,
   "id": "1fc6ed3b-f46b-4db9-b859-039dd5ef362c",
   "metadata": {},
   "outputs": [
    {
     "name": "stderr",
     "output_type": "stream",
     "text": [
      "2022-06-02 04:21:38.966973: I tensorflow/core/platform/cpu_feature_guard.cc:151] This TensorFlow binary is optimized with oneAPI Deep Neural Network Library (oneDNN) to use the following CPU instructions in performance-critical operations:  AVX2 FMA\n",
      "To enable them in other operations, rebuild TensorFlow with the appropriate compiler flags.\n",
      "2022-06-02 04:21:39.396723: I tensorflow/core/common_runtime/gpu/gpu_device.cc:1525] Created device /job:localhost/replica:0/task:0/device:GPU:0 with 12865 MB memory:  -> device: 0, name: NVIDIA GeForce RTX 3090, pci bus id: 0000:01:00.0, compute capability: 8.6\n"
     ]
    }
   ],
   "source": [
    "import os\n",
    "\n",
    "logdir = get_logdir(\"../../../logs/ganime/\", experiment_name=\"test_video\")\n",
    "\n",
    "tensorboard_video_callback = TensorboardVideo(logdir, train_ds, test_ds)"
   ]
  },
  {
   "cell_type": "code",
   "execution_count": 23,
   "id": "ccc9175d-54aa-41aa-ae84-f276e3ea9f7b",
   "metadata": {},
   "outputs": [],
   "source": [
    "video_true = train_ds[0][1][4:7]\n",
    "video_pred = train_ds[0][1][4:7] * 0.5"
   ]
  },
  {
   "cell_type": "code",
   "execution_count": 24,
   "id": "439a3cc1-46fa-4b6b-a980-7892a7585c35",
   "metadata": {},
   "outputs": [],
   "source": [
    "tensorboard_video_callback.write_to_tensorboard(video_true, video_pred, \"train\", step=0)"
   ]
  },
  {
   "cell_type": "code",
   "execution_count": null,
   "id": "ebe5e599-ffb3-4153-b31f-b933257423ee",
   "metadata": {},
   "outputs": [],
   "source": []
  }
 ],
 "metadata": {
  "kernelspec": {
   "display_name": "Python 3 (ipykernel)",
   "language": "python",
   "name": "python3"
  },
  "language_info": {
   "codemirror_mode": {
    "name": "ipython",
    "version": 3
   },
   "file_extension": ".py",
   "mimetype": "text/x-python",
   "name": "python",
   "nbconvert_exporter": "python",
   "pygments_lexer": "ipython3",
   "version": "3.8.10"
  }
 },
 "nbformat": 4,
 "nbformat_minor": 5
}
