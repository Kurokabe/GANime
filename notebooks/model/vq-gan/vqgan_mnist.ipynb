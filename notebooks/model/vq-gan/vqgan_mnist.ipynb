{
 "cells": [
  {
   "cell_type": "code",
   "execution_count": 1,
   "id": "a0efb334-4c96-4b8c-8229-aec9af0619fd",
   "metadata": {},
   "outputs": [],
   "source": [
    "import os\n",
    "os.environ[\"CUDA_DEVICE_ORDER\"]=\"PCI_BUS_ID\"   # see issue #152\n",
    "os.environ[\"CUDA_VISIBLE_DEVICES\"]=\"0, 1, 2, 3, 4, 5, 6, 7\"\n",
    "os.environ[\"NCCL_DEBUG\"]=\"WARN\"\n",
    "#os.environ[\"NCCL_P2P_LEVEL\"]=\"NODE\""
   ]
  },
  {
   "cell_type": "code",
   "execution_count": 2,
   "id": "392c6e3a-c66e-4517-bcb9-4c90782e4f49",
   "metadata": {},
   "outputs": [],
   "source": [
    "import sys\n",
    "sys.path.append(\"../../../\")"
   ]
  },
  {
   "cell_type": "code",
   "execution_count": 3,
   "id": "a2ba8145-34f8-4b06-bce5-d687df559773",
   "metadata": {},
   "outputs": [],
   "source": [
    "%load_ext autoreload\n",
    "%autoreload 2"
   ]
  },
  {
   "cell_type": "code",
   "execution_count": 4,
   "id": "9c5dfda8-24f9-4ca0-af11-45f54d1b8f48",
   "metadata": {},
   "outputs": [],
   "source": [
    "import omegaconf\n",
    "import numpy as np\n",
    "import matplotlib.pyplot as plt\n",
    "from ganime.data.experimental import ImageDataset, VideoDataset\n",
    "from ganime.model.vqgan_clean.vqgan import VQGAN\n",
    "from ganime.visualization.videos import display_videos\n",
    "from ganime.visualization.images import display_images\n",
    "import tensorflow as tf\n",
    "from datetime import datetime\n",
    "from tqdm import tqdm\n",
    "import os\n",
    "from pyprojroot.pyprojroot import here\n",
    "#tf.get_logger().setLevel('ERROR')"
   ]
  },
  {
   "cell_type": "code",
   "execution_count": 5,
   "id": "ed032479-6166-4ab9-8b49-ded5998344ca",
   "metadata": {},
   "outputs": [],
   "source": [
    "for device in tf.config.list_physical_devices(\"GPU\"):\n",
    "    tf.config.experimental.set_memory_growth(device, True)"
   ]
  },
  {
   "cell_type": "code",
   "execution_count": 6,
   "id": "e064c018-2faa-4e6a-99e8-2293c7136a97",
   "metadata": {},
   "outputs": [
    {
     "name": "stdout",
     "output_type": "stream",
     "text": [
      "INFO:tensorflow:Using MirroredStrategy with devices ('/job:localhost/replica:0/task:0/device:GPU:0', '/job:localhost/replica:0/task:0/device:GPU:1', '/job:localhost/replica:0/task:0/device:GPU:2', '/job:localhost/replica:0/task:0/device:GPU:3', '/job:localhost/replica:0/task:0/device:GPU:4', '/job:localhost/replica:0/task:0/device:GPU:5', '/job:localhost/replica:0/task:0/device:GPU:6', '/job:localhost/replica:0/task:0/device:GPU:7')\n"
     ]
    },
    {
     "name": "stderr",
     "output_type": "stream",
     "text": [
      "2022-08-09 03:15:49.426347: I tensorflow/core/platform/cpu_feature_guard.cc:151] This TensorFlow binary is optimized with oneAPI Deep Neural Network Library (oneDNN) to use the following CPU instructions in performance-critical operations:  AVX2 FMA\n",
      "To enable them in other operations, rebuild TensorFlow with the appropriate compiler flags.\n",
      "2022-08-09 03:15:52.261950: I tensorflow/core/common_runtime/gpu/gpu_device.cc:1525] Created device /job:localhost/replica:0/task:0/device:GPU:0 with 22302 MB memory:  -> device: 0, name: NVIDIA GeForce RTX 3090, pci bus id: 0000:01:00.0, compute capability: 8.6\n",
      "2022-08-09 03:15:52.263259: I tensorflow/core/common_runtime/gpu/gpu_device.cc:1525] Created device /job:localhost/replica:0/task:0/device:GPU:1 with 22302 MB memory:  -> device: 1, name: NVIDIA GeForce RTX 3090, pci bus id: 0000:25:00.0, compute capability: 8.6\n",
      "2022-08-09 03:15:52.264261: I tensorflow/core/common_runtime/gpu/gpu_device.cc:1525] Created device /job:localhost/replica:0/task:0/device:GPU:2 with 22302 MB memory:  -> device: 2, name: NVIDIA GeForce RTX 3090, pci bus id: 0000:41:00.0, compute capability: 8.6\n",
      "2022-08-09 03:15:52.265233: I tensorflow/core/common_runtime/gpu/gpu_device.cc:1525] Created device /job:localhost/replica:0/task:0/device:GPU:3 with 22302 MB memory:  -> device: 3, name: NVIDIA GeForce RTX 3090, pci bus id: 0000:61:00.0, compute capability: 8.6\n",
      "2022-08-09 03:15:52.266255: I tensorflow/core/common_runtime/gpu/gpu_device.cc:1525] Created device /job:localhost/replica:0/task:0/device:GPU:4 with 22302 MB memory:  -> device: 4, name: NVIDIA GeForce RTX 3090, pci bus id: 0000:81:00.0, compute capability: 8.6\n",
      "2022-08-09 03:15:52.267168: I tensorflow/core/common_runtime/gpu/gpu_device.cc:1525] Created device /job:localhost/replica:0/task:0/device:GPU:5 with 22302 MB memory:  -> device: 5, name: NVIDIA GeForce RTX 3090, pci bus id: 0000:a1:00.0, compute capability: 8.6\n",
      "2022-08-09 03:15:52.268097: I tensorflow/core/common_runtime/gpu/gpu_device.cc:1525] Created device /job:localhost/replica:0/task:0/device:GPU:6 with 22302 MB memory:  -> device: 6, name: NVIDIA GeForce RTX 3090, pci bus id: 0000:c1:00.0, compute capability: 8.6\n",
      "2022-08-09 03:15:52.269019: I tensorflow/core/common_runtime/gpu/gpu_device.cc:1525] Created device /job:localhost/replica:0/task:0/device:GPU:7 with 22302 MB memory:  -> device: 7, name: NVIDIA GeForce RTX 3090, pci bus id: 0000:e1:00.0, compute capability: 8.6\n"
     ]
    }
   ],
   "source": [
    "strategy = tf.distribute.MirroredStrategy(cross_device_ops=tf.distribute.HierarchicalCopyAllReduce())"
   ]
  },
  {
   "cell_type": "code",
   "execution_count": 7,
   "id": "778386dc-a6c1-4a06-9c4f-ccc4187b487f",
   "metadata": {},
   "outputs": [],
   "source": [
    "cfg = omegaconf.OmegaConf.load(here(\"configs/moving_mnist_image.yaml\"))"
   ]
  },
  {
   "cell_type": "code",
   "execution_count": 8,
   "id": "024352ac-f325-49a3-8f11-847ee31a79f6",
   "metadata": {},
   "outputs": [],
   "source": [
    "num_workers = len(tf.config.list_physical_devices(\"GPU\"))\n",
    "batch_size = cfg[\"trainer\"][\"batch_size\"] \n",
    "global_batch_size = batch_size * strategy.num_replicas_in_sync\n",
    "n_epochs = cfg[\"trainer\"][\"n_epochs\"] \n",
    "sample_batch_size = 8"
   ]
  },
  {
   "cell_type": "code",
   "execution_count": 9,
   "id": "38ed457b-a5fd-4be5-b922-6d47499df6df",
   "metadata": {},
   "outputs": [],
   "source": [
    "#dataset_length = 34045 # KNY\n",
    "#dataset_length = 310153 #KNY full\n",
    "dataset_length = 20*10000 # MNIST\n",
    "num_batch = dataset_length / batch_size"
   ]
  },
  {
   "cell_type": "code",
   "execution_count": 10,
   "id": "8621b402-0616-4a58-a715-964bc47b6728",
   "metadata": {},
   "outputs": [],
   "source": [
    "# Normalizing the images to [-1, 1]\n",
    "def normalize(image):\n",
    "    image = (tf.cast(image, tf.float32) / 127.5) - 1\n",
    "\n",
    "    return image"
   ]
  },
  {
   "cell_type": "code",
   "execution_count": 11,
   "id": "c1de37bb-e5ac-43dc-a457-e5adee689699",
   "metadata": {},
   "outputs": [],
   "source": [
    "def random_crop(image, img_height=64, img_width=128):\n",
    "    cropped_image = tf.image.random_crop(image, size=[img_height, img_width, 3])\n",
    "\n",
    "    return cropped_image"
   ]
  },
  {
   "cell_type": "code",
   "execution_count": 12,
   "id": "e8444b27-f776-4bd6-bc09-f1def624b703",
   "metadata": {},
   "outputs": [],
   "source": [
    "@tf.function()\n",
    "def random_jitter(image):\n",
    "    # Resizing to 72x142\n",
    "    image = tf.image.resize(image, [72, 142], method=tf.image.ResizeMethod.NEAREST_NEIGHBOR)\n",
    "\n",
    "    # Random cropping back to 64x128\n",
    "    image = random_crop(image)\n",
    "\n",
    "    if tf.random.uniform(()) > 0.5:\n",
    "        # Random mirroring\n",
    "        image = tf.image.flip_left_right(image)\n",
    "\n",
    "    return image"
   ]
  },
  {
   "cell_type": "code",
   "execution_count": 13,
   "id": "fbcf7304-151d-45dc-908d-fcdec7c96ccf",
   "metadata": {},
   "outputs": [],
   "source": [
    "def preprocess(image):\n",
    "    image = tf.reshape(image, (tf.shape(image)[0], tf.shape(image)[1], 3))\n",
    "    #image = random_jitter(image)\n",
    "    image = normalize(image)\n",
    "    return image, image"
   ]
  },
  {
   "cell_type": "code",
   "execution_count": 14,
   "id": "7604a9a9-0bc1-4167-838f-5566966efedb",
   "metadata": {},
   "outputs": [],
   "source": [
    "dataset = ImageDataset(\"../../../data/mnist_tfrecords\").load()\n",
    "dataset = dataset.shuffle(dataset_length, reshuffle_each_iteration=True, seed=10).map(preprocess, num_parallel_calls=tf.data.AUTOTUNE)"
   ]
  },
  {
   "cell_type": "code",
   "execution_count": 15,
   "id": "fa2379e7-9bb0-46f6-bc7f-11f5197de55c",
   "metadata": {},
   "outputs": [],
   "source": [
    "train_size = int(dataset_length * 0.8)\n",
    "validation_size = int(dataset_length * 0.1)\n",
    "test_size = int(dataset_length * 0.1)"
   ]
  },
  {
   "cell_type": "code",
   "execution_count": 16,
   "id": "62d1c5aa-84b8-4ae3-b6db-db4a433bcca4",
   "metadata": {},
   "outputs": [],
   "source": [
    "train_ds = dataset.take(train_size)\n",
    "validation_ds = dataset.skip(train_size).take(validation_size)#.padded_batch(global_batch_size).map(postprocess)\n",
    "test_ds = dataset.skip(train_size + validation_size).take(validation_size)#.padded_batch(global_batch_size).map(postprocess)"
   ]
  },
  {
   "cell_type": "code",
   "execution_count": 17,
   "id": "4d748166-e601-4cab-9605-3e126e10c4dd",
   "metadata": {
    "tags": []
   },
   "outputs": [],
   "source": [
    "train_sample_data = next(train_ds\n",
    "                          .batch(sample_batch_size)\n",
    "                          .prefetch(tf.data.AUTOTUNE).as_numpy_iterator())\n",
    "validation_sample_data = next(validation_ds.batch(sample_batch_size).as_numpy_iterator())"
   ]
  },
  {
   "cell_type": "code",
   "execution_count": 18,
   "id": "9bdbbb77-4dfe-49d3-9ab5-8a2f82753ada",
   "metadata": {},
   "outputs": [],
   "source": [
    "train_ds = (train_ds.batch(global_batch_size, drop_remainder=True)\n",
    "            .prefetch(tf.data.AUTOTUNE))\n",
    "validation_ds = (validation_ds.batch(global_batch_size, drop_remainder=True)\n",
    "            .prefetch(tf.data.AUTOTUNE))\n",
    "test_ds = (test_ds.batch(global_batch_size, drop_remainder=True)\n",
    "            .prefetch(tf.data.AUTOTUNE))"
   ]
  },
  {
   "cell_type": "code",
   "execution_count": 19,
   "id": "a2c57b46-5920-4660-9791-7695b6656596",
   "metadata": {},
   "outputs": [],
   "source": [
    "from ganime.utils.callbacks import TensorboardImage, get_logdir\n",
    "\n",
    "logdir = \"../../../logs/ganime/vqgan/moving_mnist_image_2022-08-08_05-05-23\" #get_logdir(\"../../../logs/ganime/vqgan\", experiment_name=\"moving_mnist_image\")\n",
    "# Define the basic TensorBoard callback.\n",
    "tensorboard_callback = tf.keras.callbacks.TensorBoard(log_dir=logdir)\n",
    "tensorboard_image_callback = TensorboardImage(logdir, train_sample_data, validation_sample_data)\n",
    "early_stopping = tf.keras.callbacks.EarlyStopping(\n",
    "    monitor=\"val_total_loss\",\n",
    "    min_delta=0.0001,\n",
    "    patience=100,\n",
    "    restore_best_weights=True,\n",
    ")\n",
    "checkpointing = tf.keras.callbacks.ModelCheckpoint(os.path.join(logdir, \"checkpoint\", \"checkpoint\"), monitor='val_reconstruction_loss', save_best_only=True, save_weights_only=True)\n",
    "callbacks = [tensorboard_callback, tensorboard_image_callback, checkpointing]"
   ]
  },
  {
   "cell_type": "code",
   "execution_count": 20,
   "id": "50eb6fd2-c042-4aa6-a536-2484e41d4e87",
   "metadata": {},
   "outputs": [],
   "source": [
    "# train_mean, train_var, train_std = dataset_statistics(train_ds)"
   ]
  },
  {
   "cell_type": "code",
   "execution_count": 21,
   "id": "7a62a144-c06f-417f-ac6a-c4a5c0120f8c",
   "metadata": {},
   "outputs": [],
   "source": [
    "from ganime.visualization.images import display_true_pred"
   ]
  },
  {
   "cell_type": "code",
   "execution_count": 22,
   "id": "70c6cf30-c4bb-4bf1-a942-cdc944532b88",
   "metadata": {
    "tags": []
   },
   "outputs": [
    {
     "name": "stdout",
     "output_type": "stream",
     "text": [
      "Working with z of shape (1, 512, 16, 16) = 131072 dimensions.\n",
      "INFO:tensorflow:Reduce to /job:localhost/replica:0/task:0/device:CPU:0 then broadcast to ('/job:localhost/replica:0/task:0/device:CPU:0',).\n",
      "INFO:tensorflow:Reduce to /job:localhost/replica:0/task:0/device:CPU:0 then broadcast to ('/job:localhost/replica:0/task:0/device:CPU:0',).\n",
      "INFO:tensorflow:Reduce to /job:localhost/replica:0/task:0/device:CPU:0 then broadcast to ('/job:localhost/replica:0/task:0/device:CPU:0',).\n",
      "INFO:tensorflow:Reduce to /job:localhost/replica:0/task:0/device:CPU:0 then broadcast to ('/job:localhost/replica:0/task:0/device:CPU:0',).\n",
      "INFO:tensorflow:Reduce to /job:localhost/replica:0/task:0/device:CPU:0 then broadcast to ('/job:localhost/replica:0/task:0/device:CPU:0',).\n",
      "INFO:tensorflow:Reduce to /job:localhost/replica:0/task:0/device:CPU:0 then broadcast to ('/job:localhost/replica:0/task:0/device:CPU:0',).\n",
      "INFO:tensorflow:Reduce to /job:localhost/replica:0/task:0/device:CPU:0 then broadcast to ('/job:localhost/replica:0/task:0/device:CPU:0',).\n",
      "INFO:tensorflow:Reduce to /job:localhost/replica:0/task:0/device:CPU:0 then broadcast to ('/job:localhost/replica:0/task:0/device:CPU:0',).\n",
      "INFO:tensorflow:Reduce to /job:localhost/replica:0/task:0/device:CPU:0 then broadcast to ('/job:localhost/replica:0/task:0/device:CPU:0',).\n",
      "INFO:tensorflow:Reduce to /job:localhost/replica:0/task:0/device:CPU:0 then broadcast to ('/job:localhost/replica:0/task:0/device:CPU:0',).\n",
      "VQLPIPSWithDiscriminator running with hinge loss.\n"
     ]
    }
   ],
   "source": [
    "with strategy.scope():\n",
    "    vqgan = VQGAN(**cfg[\"model\"], num_replicas=strategy.num_replicas_in_sync)"
   ]
  },
  {
   "cell_type": "code",
   "execution_count": 23,
   "id": "637fe5ec-e9cf-496d-9daf-95456f867701",
   "metadata": {
    "tags": []
   },
   "outputs": [],
   "source": [
    "with strategy.scope():\n",
    "    gen_optimizer = tf.keras.optimizers.Adam(\n",
    "                learning_rate=cfg[\"trainer\"][\"gen_lr\"],\n",
    "                beta_1=cfg[\"trainer\"][\"gen_beta_1\"],\n",
    "                beta_2=cfg[\"trainer\"][\"gen_beta_2\"],\n",
    "                clipnorm=cfg[\"trainer\"][\"gen_clip_norm\"],\n",
    "    )\n",
    "    disc_optimizer = tf.keras.optimizers.Adam(\n",
    "        learning_rate=cfg[\"trainer\"][\"disc_lr\"],\n",
    "        beta_1=cfg[\"trainer\"][\"disc_beta_1\"],\n",
    "        beta_2=cfg[\"trainer\"][\"disc_beta_2\"],\n",
    "        clipnorm=cfg[\"trainer\"][\"disc_clip_norm\"],\n",
    "    )\n",
    "    vqgan.compile(gen_optimizer=gen_optimizer, disc_optimizer=disc_optimizer)"
   ]
  },
  {
   "cell_type": "code",
   "execution_count": 24,
   "id": "e49d2c92-3443-406c-8f5e-4330bbe8cf7a",
   "metadata": {
    "tags": []
   },
   "outputs": [
    {
     "name": "stdout",
     "output_type": "stream",
     "text": [
      "Epoch 212/10000\n",
      "INFO:tensorflow:batch_all_reduce: 217 all-reduces with algorithm = hierarchical_copy, num_packs = 1\n",
      "INFO:tensorflow:batch_all_reduce: 13 all-reduces with algorithm = hierarchical_copy, num_packs = 1\n",
      "INFO:tensorflow:batch_all_reduce: 217 all-reduces with algorithm = hierarchical_copy, num_packs = 1\n",
      "INFO:tensorflow:batch_all_reduce: 13 all-reduces with algorithm = hierarchical_copy, num_packs = 1\n"
     ]
    },
    {
     "name": "stderr",
     "output_type": "stream",
     "text": [
      "2022-08-09 03:23:09.940293: I tensorflow/stream_executor/cuda/cuda_dnn.cc:366] Loaded cuDNN version 8100\n",
      "2022-08-09 03:23:10.734442: I tensorflow/stream_executor/cuda/cuda_dnn.cc:366] Loaded cuDNN version 8100\n",
      "2022-08-09 03:23:11.635823: I tensorflow/stream_executor/cuda/cuda_dnn.cc:366] Loaded cuDNN version 8100\n",
      "2022-08-09 03:23:13.082970: I tensorflow/stream_executor/cuda/cuda_dnn.cc:366] Loaded cuDNN version 8100\n",
      "2022-08-09 03:23:14.448965: I tensorflow/stream_executor/cuda/cuda_blas.cc:1774] TensorFloat-32 will be used for the matrix multiplication. This will only be logged once.\n",
      "2022-08-09 03:23:14.519365: I tensorflow/stream_executor/cuda/cuda_dnn.cc:366] Loaded cuDNN version 8100\n",
      "2022-08-09 03:23:15.901031: I tensorflow/stream_executor/cuda/cuda_dnn.cc:366] Loaded cuDNN version 8100\n",
      "2022-08-09 03:23:17.090509: I tensorflow/stream_executor/cuda/cuda_dnn.cc:366] Loaded cuDNN version 8100\n",
      "2022-08-09 03:23:18.228551: I tensorflow/stream_executor/cuda/cuda_dnn.cc:366] Loaded cuDNN version 8100\n"
     ]
    },
    {
     "name": "stdout",
     "output_type": "stream",
     "text": [
      "625/625 [==============================] - 908s 732ms/step - total_loss: 6.7460 - reconstruction_loss: 0.2627 - vq_loss: 0.7530 - disc_loss: 0.0000e+00 - val_total_loss: 3.8047 - val_reconstruction_loss: 0.2821 - val_vq_loss: 0.7140 - val_disc_loss: 0.0000e+00\n",
      "Epoch 213/10000\n",
      "625/625 [==============================] - 354s 556ms/step - total_loss: 7.9167 - reconstruction_loss: 0.3200 - vq_loss: 0.7203 - disc_loss: 0.0000e+00 - val_total_loss: 3.2895 - val_reconstruction_loss: 0.3448 - val_vq_loss: 0.6930 - val_disc_loss: 0.0000e+00\n",
      "Epoch 214/10000\n",
      "625/625 [==============================] - 349s 552ms/step - total_loss: 8.4106 - reconstruction_loss: 0.3914 - vq_loss: 0.6878 - disc_loss: 0.0000e+00 - val_total_loss: 3.6512 - val_reconstruction_loss: 0.4143 - val_vq_loss: 0.7111 - val_disc_loss: 0.0000e+00\n",
      "Epoch 215/10000\n",
      "625/625 [==============================] - 351s 553ms/step - total_loss: 7.8104 - reconstruction_loss: 0.4386 - vq_loss: 0.6736 - disc_loss: 0.0000e+00 - val_total_loss: 3.3561 - val_reconstruction_loss: 0.4342 - val_vq_loss: 0.7291 - val_disc_loss: 0.0000e+00\n",
      "Epoch 216/10000\n",
      "625/625 [==============================] - 348s 545ms/step - total_loss: 7.4449 - reconstruction_loss: 0.4529 - vq_loss: 0.6817 - disc_loss: 0.0000e+00 - val_total_loss: 4.4886 - val_reconstruction_loss: 0.5187 - val_vq_loss: 0.6982 - val_disc_loss: 0.0000e+00\n",
      "Epoch 217/10000\n",
      "625/625 [==============================] - 351s 553ms/step - total_loss: 7.2318 - reconstruction_loss: 0.4593 - vq_loss: 0.6813 - disc_loss: 0.0000e+00 - val_total_loss: 2.9914 - val_reconstruction_loss: 0.4075 - val_vq_loss: 0.6740 - val_disc_loss: 0.0000e+00\n",
      "Epoch 218/10000\n",
      "625/625 [==============================] - 352s 555ms/step - total_loss: 6.7930 - reconstruction_loss: 0.4529 - vq_loss: 0.6839 - disc_loss: 0.0000e+00 - val_total_loss: 3.4874 - val_reconstruction_loss: 0.4701 - val_vq_loss: 0.6803 - val_disc_loss: 0.0000e+00\n",
      "Epoch 219/10000\n",
      "625/625 [==============================] - 347s 546ms/step - total_loss: 6.3752 - reconstruction_loss: 0.4461 - vq_loss: 0.6823 - disc_loss: 0.0000e+00 - val_total_loss: 2.5516 - val_reconstruction_loss: 0.4134 - val_vq_loss: 0.6907 - val_disc_loss: 0.0000e+00\n",
      "Epoch 220/10000\n",
      "625/625 [==============================] - 352s 555ms/step - total_loss: 6.2393 - reconstruction_loss: 0.4447 - vq_loss: 0.6892 - disc_loss: 0.0000e+00 - val_total_loss: 2.4969 - val_reconstruction_loss: 0.4109 - val_vq_loss: 0.6746 - val_disc_loss: 0.0000e+00\n",
      "Epoch 221/10000\n",
      "625/625 [==============================] - 349s 551ms/step - total_loss: 6.0366 - reconstruction_loss: 0.4419 - vq_loss: 0.6923 - disc_loss: 0.0000e+00 - val_total_loss: 3.3076 - val_reconstruction_loss: 0.4032 - val_vq_loss: 0.6731 - val_disc_loss: 0.0000e+00\n",
      "Epoch 222/10000\n",
      "625/625 [==============================] - 352s 554ms/step - total_loss: 6.1032 - reconstruction_loss: 0.4486 - vq_loss: 0.6918 - disc_loss: 0.0000e+00 - val_total_loss: 2.5919 - val_reconstruction_loss: 0.4138 - val_vq_loss: 0.6682 - val_disc_loss: 0.0000e+00\n",
      "Epoch 223/10000\n",
      "625/625 [==============================] - 350s 550ms/step - total_loss: 6.0982 - reconstruction_loss: 0.4566 - vq_loss: 0.6977 - disc_loss: 0.0000e+00 - val_total_loss: 3.4256 - val_reconstruction_loss: 0.5402 - val_vq_loss: 0.7978 - val_disc_loss: 0.0000e+00\n",
      "Epoch 224/10000\n",
      "625/625 [==============================] - 348s 544ms/step - total_loss: 5.9884 - reconstruction_loss: 0.4572 - vq_loss: 0.6998 - disc_loss: 0.0000e+00 - val_total_loss: 2.6740 - val_reconstruction_loss: 0.4290 - val_vq_loss: 0.7183 - val_disc_loss: 0.0000e+00\n",
      "Epoch 225/10000\n",
      "625/625 [==============================] - 356s 559ms/step - total_loss: 5.9704 - reconstruction_loss: 0.4603 - vq_loss: 0.6945 - disc_loss: 0.0000e+00 - val_total_loss: 3.2268 - val_reconstruction_loss: 0.4582 - val_vq_loss: 0.6489 - val_disc_loss: 0.0000e+00\n",
      "Epoch 226/10000\n",
      "625/625 [==============================] - 357s 559ms/step - total_loss: 6.2365 - reconstruction_loss: 0.4756 - vq_loss: 0.6921 - disc_loss: 0.0000e+00 - val_total_loss: 3.0565 - val_reconstruction_loss: 0.4415 - val_vq_loss: 0.6914 - val_disc_loss: 0.0000e+00\n",
      "Epoch 227/10000\n",
      "625/625 [==============================] - 356s 558ms/step - total_loss: 6.2764 - reconstruction_loss: 0.4797 - vq_loss: 0.6963 - disc_loss: 0.0000e+00 - val_total_loss: 3.4140 - val_reconstruction_loss: 0.4674 - val_vq_loss: 0.7222 - val_disc_loss: 0.0000e+00\n",
      "Epoch 228/10000\n",
      "625/625 [==============================] - 356s 557ms/step - total_loss: 6.3100 - reconstruction_loss: 0.4844 - vq_loss: 0.6836 - disc_loss: 0.0000e+00 - val_total_loss: 3.0035 - val_reconstruction_loss: 0.4846 - val_vq_loss: 0.6825 - val_disc_loss: 0.0000e+00\n",
      "Epoch 229/10000\n",
      "625/625 [==============================] - 363s 570ms/step - total_loss: 6.5112 - reconstruction_loss: 0.4954 - vq_loss: 0.6856 - disc_loss: 0.0000e+00 - val_total_loss: 2.9872 - val_reconstruction_loss: 0.5193 - val_vq_loss: 0.6998 - val_disc_loss: 0.0000e+00\n",
      "Epoch 230/10000\n",
      "625/625 [==============================] - 353s 557ms/step - total_loss: 6.4746 - reconstruction_loss: 0.4969 - vq_loss: 0.6817 - disc_loss: 0.0000e+00 - val_total_loss: 2.6288 - val_reconstruction_loss: 0.4632 - val_vq_loss: 0.6700 - val_disc_loss: 0.0000e+00\n",
      "Epoch 231/10000\n",
      "625/625 [==============================] - 354s 553ms/step - total_loss: 6.6882 - reconstruction_loss: 0.5106 - vq_loss: 0.6809 - disc_loss: 0.0000e+00 - val_total_loss: 3.8335 - val_reconstruction_loss: 0.4652 - val_vq_loss: 0.6897 - val_disc_loss: 0.0000e+00\n",
      "Epoch 232/10000\n",
      "625/625 [==============================] - 348s 549ms/step - total_loss: 6.4579 - reconstruction_loss: 0.5044 - vq_loss: 0.6777 - disc_loss: 0.0000e+00 - val_total_loss: 3.2465 - val_reconstruction_loss: 0.5248 - val_vq_loss: 0.6738 - val_disc_loss: 0.0000e+00\n",
      "Epoch 233/10000\n",
      " 82/625 [==>...........................] - ETA: 4:32 - total_loss: 6.7757 - reconstruction_loss: 0.5213 - vq_loss: 0.6633 - disc_loss: 0.0000e+00"
     ]
    },
    {
     "ename": "KeyboardInterrupt",
     "evalue": "",
     "output_type": "error",
     "traceback": [
      "\u001b[0;31m---------------------------------------------------------------------------\u001b[0m",
      "\u001b[0;31mKeyboardInterrupt\u001b[0m                         Traceback (most recent call last)",
      "Input \u001b[0;32mIn [24]\u001b[0m, in \u001b[0;36m<cell line: 1>\u001b[0;34m()\u001b[0m\n\u001b[0;32m----> 1\u001b[0m history \u001b[38;5;241m=\u001b[39m \u001b[43mvqgan\u001b[49m\u001b[38;5;241;43m.\u001b[39;49m\u001b[43mfit\u001b[49m\u001b[43m(\u001b[49m\u001b[43mtrain_ds\u001b[49m\u001b[43m,\u001b[49m\u001b[43m \u001b[49m\u001b[43mvalidation_data\u001b[49m\u001b[38;5;241;43m=\u001b[39;49m\u001b[43mvalidation_ds\u001b[49m\u001b[43m,\u001b[49m\u001b[43m \u001b[49m\u001b[43minitial_epoch\u001b[49m\u001b[38;5;241;43m=\u001b[39;49m\u001b[38;5;241;43m211\u001b[39;49m\u001b[43m,\u001b[49m\u001b[43m \u001b[49m\u001b[43mepochs\u001b[49m\u001b[38;5;241;43m=\u001b[39;49m\u001b[43mn_epochs\u001b[49m\u001b[43m,\u001b[49m\u001b[43m \u001b[49m\u001b[43mcallbacks\u001b[49m\u001b[38;5;241;43m=\u001b[39;49m\u001b[43mcallbacks\u001b[49m\u001b[43m)\u001b[49m\n",
      "File \u001b[0;32m/usr/local/lib/python3.8/dist-packages/keras/utils/traceback_utils.py:64\u001b[0m, in \u001b[0;36mfilter_traceback.<locals>.error_handler\u001b[0;34m(*args, **kwargs)\u001b[0m\n\u001b[1;32m     62\u001b[0m filtered_tb \u001b[38;5;241m=\u001b[39m \u001b[38;5;28;01mNone\u001b[39;00m\n\u001b[1;32m     63\u001b[0m \u001b[38;5;28;01mtry\u001b[39;00m:\n\u001b[0;32m---> 64\u001b[0m   \u001b[38;5;28;01mreturn\u001b[39;00m \u001b[43mfn\u001b[49m\u001b[43m(\u001b[49m\u001b[38;5;241;43m*\u001b[39;49m\u001b[43margs\u001b[49m\u001b[43m,\u001b[49m\u001b[43m \u001b[49m\u001b[38;5;241;43m*\u001b[39;49m\u001b[38;5;241;43m*\u001b[39;49m\u001b[43mkwargs\u001b[49m\u001b[43m)\u001b[49m\n\u001b[1;32m     65\u001b[0m \u001b[38;5;28;01mexcept\u001b[39;00m \u001b[38;5;167;01mException\u001b[39;00m \u001b[38;5;28;01mas\u001b[39;00m e:  \u001b[38;5;66;03m# pylint: disable=broad-except\u001b[39;00m\n\u001b[1;32m     66\u001b[0m   filtered_tb \u001b[38;5;241m=\u001b[39m _process_traceback_frames(e\u001b[38;5;241m.\u001b[39m__traceback__)\n",
      "File \u001b[0;32m/usr/local/lib/python3.8/dist-packages/keras/engine/training.py:1216\u001b[0m, in \u001b[0;36mModel.fit\u001b[0;34m(self, x, y, batch_size, epochs, verbose, callbacks, validation_split, validation_data, shuffle, class_weight, sample_weight, initial_epoch, steps_per_epoch, validation_steps, validation_batch_size, validation_freq, max_queue_size, workers, use_multiprocessing)\u001b[0m\n\u001b[1;32m   1209\u001b[0m \u001b[38;5;28;01mwith\u001b[39;00m tf\u001b[38;5;241m.\u001b[39mprofiler\u001b[38;5;241m.\u001b[39mexperimental\u001b[38;5;241m.\u001b[39mTrace(\n\u001b[1;32m   1210\u001b[0m     \u001b[38;5;124m'\u001b[39m\u001b[38;5;124mtrain\u001b[39m\u001b[38;5;124m'\u001b[39m,\n\u001b[1;32m   1211\u001b[0m     epoch_num\u001b[38;5;241m=\u001b[39mepoch,\n\u001b[1;32m   1212\u001b[0m     step_num\u001b[38;5;241m=\u001b[39mstep,\n\u001b[1;32m   1213\u001b[0m     batch_size\u001b[38;5;241m=\u001b[39mbatch_size,\n\u001b[1;32m   1214\u001b[0m     _r\u001b[38;5;241m=\u001b[39m\u001b[38;5;241m1\u001b[39m):\n\u001b[1;32m   1215\u001b[0m   callbacks\u001b[38;5;241m.\u001b[39mon_train_batch_begin(step)\n\u001b[0;32m-> 1216\u001b[0m   tmp_logs \u001b[38;5;241m=\u001b[39m \u001b[38;5;28;43mself\u001b[39;49m\u001b[38;5;241;43m.\u001b[39;49m\u001b[43mtrain_function\u001b[49m\u001b[43m(\u001b[49m\u001b[43miterator\u001b[49m\u001b[43m)\u001b[49m\n\u001b[1;32m   1217\u001b[0m   \u001b[38;5;28;01mif\u001b[39;00m data_handler\u001b[38;5;241m.\u001b[39mshould_sync:\n\u001b[1;32m   1218\u001b[0m     context\u001b[38;5;241m.\u001b[39masync_wait()\n",
      "File \u001b[0;32m/usr/local/lib/python3.8/dist-packages/tensorflow/python/util/traceback_utils.py:150\u001b[0m, in \u001b[0;36mfilter_traceback.<locals>.error_handler\u001b[0;34m(*args, **kwargs)\u001b[0m\n\u001b[1;32m    148\u001b[0m filtered_tb \u001b[38;5;241m=\u001b[39m \u001b[38;5;28;01mNone\u001b[39;00m\n\u001b[1;32m    149\u001b[0m \u001b[38;5;28;01mtry\u001b[39;00m:\n\u001b[0;32m--> 150\u001b[0m   \u001b[38;5;28;01mreturn\u001b[39;00m \u001b[43mfn\u001b[49m\u001b[43m(\u001b[49m\u001b[38;5;241;43m*\u001b[39;49m\u001b[43margs\u001b[49m\u001b[43m,\u001b[49m\u001b[43m \u001b[49m\u001b[38;5;241;43m*\u001b[39;49m\u001b[38;5;241;43m*\u001b[39;49m\u001b[43mkwargs\u001b[49m\u001b[43m)\u001b[49m\n\u001b[1;32m    151\u001b[0m \u001b[38;5;28;01mexcept\u001b[39;00m \u001b[38;5;167;01mException\u001b[39;00m \u001b[38;5;28;01mas\u001b[39;00m e:\n\u001b[1;32m    152\u001b[0m   filtered_tb \u001b[38;5;241m=\u001b[39m _process_traceback_frames(e\u001b[38;5;241m.\u001b[39m__traceback__)\n",
      "File \u001b[0;32m/usr/local/lib/python3.8/dist-packages/tensorflow/python/eager/def_function.py:910\u001b[0m, in \u001b[0;36mFunction.__call__\u001b[0;34m(self, *args, **kwds)\u001b[0m\n\u001b[1;32m    907\u001b[0m compiler \u001b[38;5;241m=\u001b[39m \u001b[38;5;124m\"\u001b[39m\u001b[38;5;124mxla\u001b[39m\u001b[38;5;124m\"\u001b[39m \u001b[38;5;28;01mif\u001b[39;00m \u001b[38;5;28mself\u001b[39m\u001b[38;5;241m.\u001b[39m_jit_compile \u001b[38;5;28;01melse\u001b[39;00m \u001b[38;5;124m\"\u001b[39m\u001b[38;5;124mnonXla\u001b[39m\u001b[38;5;124m\"\u001b[39m\n\u001b[1;32m    909\u001b[0m \u001b[38;5;28;01mwith\u001b[39;00m OptionalXlaContext(\u001b[38;5;28mself\u001b[39m\u001b[38;5;241m.\u001b[39m_jit_compile):\n\u001b[0;32m--> 910\u001b[0m   result \u001b[38;5;241m=\u001b[39m \u001b[38;5;28;43mself\u001b[39;49m\u001b[38;5;241;43m.\u001b[39;49m\u001b[43m_call\u001b[49m\u001b[43m(\u001b[49m\u001b[38;5;241;43m*\u001b[39;49m\u001b[43margs\u001b[49m\u001b[43m,\u001b[49m\u001b[43m \u001b[49m\u001b[38;5;241;43m*\u001b[39;49m\u001b[38;5;241;43m*\u001b[39;49m\u001b[43mkwds\u001b[49m\u001b[43m)\u001b[49m\n\u001b[1;32m    912\u001b[0m new_tracing_count \u001b[38;5;241m=\u001b[39m \u001b[38;5;28mself\u001b[39m\u001b[38;5;241m.\u001b[39mexperimental_get_tracing_count()\n\u001b[1;32m    913\u001b[0m without_tracing \u001b[38;5;241m=\u001b[39m (tracing_count \u001b[38;5;241m==\u001b[39m new_tracing_count)\n",
      "File \u001b[0;32m/usr/local/lib/python3.8/dist-packages/tensorflow/python/eager/def_function.py:942\u001b[0m, in \u001b[0;36mFunction._call\u001b[0;34m(self, *args, **kwds)\u001b[0m\n\u001b[1;32m    939\u001b[0m   \u001b[38;5;28mself\u001b[39m\u001b[38;5;241m.\u001b[39m_lock\u001b[38;5;241m.\u001b[39mrelease()\n\u001b[1;32m    940\u001b[0m   \u001b[38;5;66;03m# In this case we have created variables on the first call, so we run the\u001b[39;00m\n\u001b[1;32m    941\u001b[0m   \u001b[38;5;66;03m# defunned version which is guaranteed to never create variables.\u001b[39;00m\n\u001b[0;32m--> 942\u001b[0m   \u001b[38;5;28;01mreturn\u001b[39;00m \u001b[38;5;28;43mself\u001b[39;49m\u001b[38;5;241;43m.\u001b[39;49m\u001b[43m_stateless_fn\u001b[49m\u001b[43m(\u001b[49m\u001b[38;5;241;43m*\u001b[39;49m\u001b[43margs\u001b[49m\u001b[43m,\u001b[49m\u001b[43m \u001b[49m\u001b[38;5;241;43m*\u001b[39;49m\u001b[38;5;241;43m*\u001b[39;49m\u001b[43mkwds\u001b[49m\u001b[43m)\u001b[49m  \u001b[38;5;66;03m# pylint: disable=not-callable\u001b[39;00m\n\u001b[1;32m    943\u001b[0m \u001b[38;5;28;01melif\u001b[39;00m \u001b[38;5;28mself\u001b[39m\u001b[38;5;241m.\u001b[39m_stateful_fn \u001b[38;5;129;01mis\u001b[39;00m \u001b[38;5;129;01mnot\u001b[39;00m \u001b[38;5;28;01mNone\u001b[39;00m:\n\u001b[1;32m    944\u001b[0m   \u001b[38;5;66;03m# Release the lock early so that multiple threads can perform the call\u001b[39;00m\n\u001b[1;32m    945\u001b[0m   \u001b[38;5;66;03m# in parallel.\u001b[39;00m\n\u001b[1;32m    946\u001b[0m   \u001b[38;5;28mself\u001b[39m\u001b[38;5;241m.\u001b[39m_lock\u001b[38;5;241m.\u001b[39mrelease()\n",
      "File \u001b[0;32m/usr/local/lib/python3.8/dist-packages/tensorflow/python/eager/function.py:3130\u001b[0m, in \u001b[0;36mFunction.__call__\u001b[0;34m(self, *args, **kwargs)\u001b[0m\n\u001b[1;32m   3127\u001b[0m \u001b[38;5;28;01mwith\u001b[39;00m \u001b[38;5;28mself\u001b[39m\u001b[38;5;241m.\u001b[39m_lock:\n\u001b[1;32m   3128\u001b[0m   (graph_function,\n\u001b[1;32m   3129\u001b[0m    filtered_flat_args) \u001b[38;5;241m=\u001b[39m \u001b[38;5;28mself\u001b[39m\u001b[38;5;241m.\u001b[39m_maybe_define_function(args, kwargs)\n\u001b[0;32m-> 3130\u001b[0m \u001b[38;5;28;01mreturn\u001b[39;00m \u001b[43mgraph_function\u001b[49m\u001b[38;5;241;43m.\u001b[39;49m\u001b[43m_call_flat\u001b[49m\u001b[43m(\u001b[49m\n\u001b[1;32m   3131\u001b[0m \u001b[43m    \u001b[49m\u001b[43mfiltered_flat_args\u001b[49m\u001b[43m,\u001b[49m\u001b[43m \u001b[49m\u001b[43mcaptured_inputs\u001b[49m\u001b[38;5;241;43m=\u001b[39;49m\u001b[43mgraph_function\u001b[49m\u001b[38;5;241;43m.\u001b[39;49m\u001b[43mcaptured_inputs\u001b[49m\u001b[43m)\u001b[49m\n",
      "File \u001b[0;32m/usr/local/lib/python3.8/dist-packages/tensorflow/python/eager/function.py:1959\u001b[0m, in \u001b[0;36mConcreteFunction._call_flat\u001b[0;34m(self, args, captured_inputs, cancellation_manager)\u001b[0m\n\u001b[1;32m   1955\u001b[0m possible_gradient_type \u001b[38;5;241m=\u001b[39m gradients_util\u001b[38;5;241m.\u001b[39mPossibleTapeGradientTypes(args)\n\u001b[1;32m   1956\u001b[0m \u001b[38;5;28;01mif\u001b[39;00m (possible_gradient_type \u001b[38;5;241m==\u001b[39m gradients_util\u001b[38;5;241m.\u001b[39mPOSSIBLE_GRADIENT_TYPES_NONE\n\u001b[1;32m   1957\u001b[0m     \u001b[38;5;129;01mand\u001b[39;00m executing_eagerly):\n\u001b[1;32m   1958\u001b[0m   \u001b[38;5;66;03m# No tape is watching; skip to running the function.\u001b[39;00m\n\u001b[0;32m-> 1959\u001b[0m   \u001b[38;5;28;01mreturn\u001b[39;00m \u001b[38;5;28mself\u001b[39m\u001b[38;5;241m.\u001b[39m_build_call_outputs(\u001b[38;5;28;43mself\u001b[39;49m\u001b[38;5;241;43m.\u001b[39;49m\u001b[43m_inference_function\u001b[49m\u001b[38;5;241;43m.\u001b[39;49m\u001b[43mcall\u001b[49m\u001b[43m(\u001b[49m\n\u001b[1;32m   1960\u001b[0m \u001b[43m      \u001b[49m\u001b[43mctx\u001b[49m\u001b[43m,\u001b[49m\u001b[43m \u001b[49m\u001b[43margs\u001b[49m\u001b[43m,\u001b[49m\u001b[43m \u001b[49m\u001b[43mcancellation_manager\u001b[49m\u001b[38;5;241;43m=\u001b[39;49m\u001b[43mcancellation_manager\u001b[49m\u001b[43m)\u001b[49m)\n\u001b[1;32m   1961\u001b[0m forward_backward \u001b[38;5;241m=\u001b[39m \u001b[38;5;28mself\u001b[39m\u001b[38;5;241m.\u001b[39m_select_forward_and_backward_functions(\n\u001b[1;32m   1962\u001b[0m     args,\n\u001b[1;32m   1963\u001b[0m     possible_gradient_type,\n\u001b[1;32m   1964\u001b[0m     executing_eagerly)\n\u001b[1;32m   1965\u001b[0m forward_function, args_with_tangents \u001b[38;5;241m=\u001b[39m forward_backward\u001b[38;5;241m.\u001b[39mforward()\n",
      "File \u001b[0;32m/usr/local/lib/python3.8/dist-packages/tensorflow/python/eager/function.py:598\u001b[0m, in \u001b[0;36m_EagerDefinedFunction.call\u001b[0;34m(self, ctx, args, cancellation_manager)\u001b[0m\n\u001b[1;32m    596\u001b[0m \u001b[38;5;28;01mwith\u001b[39;00m _InterpolateFunctionError(\u001b[38;5;28mself\u001b[39m):\n\u001b[1;32m    597\u001b[0m   \u001b[38;5;28;01mif\u001b[39;00m cancellation_manager \u001b[38;5;129;01mis\u001b[39;00m \u001b[38;5;28;01mNone\u001b[39;00m:\n\u001b[0;32m--> 598\u001b[0m     outputs \u001b[38;5;241m=\u001b[39m \u001b[43mexecute\u001b[49m\u001b[38;5;241;43m.\u001b[39;49m\u001b[43mexecute\u001b[49m\u001b[43m(\u001b[49m\n\u001b[1;32m    599\u001b[0m \u001b[43m        \u001b[49m\u001b[38;5;28;43mstr\u001b[39;49m\u001b[43m(\u001b[49m\u001b[38;5;28;43mself\u001b[39;49m\u001b[38;5;241;43m.\u001b[39;49m\u001b[43msignature\u001b[49m\u001b[38;5;241;43m.\u001b[39;49m\u001b[43mname\u001b[49m\u001b[43m)\u001b[49m\u001b[43m,\u001b[49m\n\u001b[1;32m    600\u001b[0m \u001b[43m        \u001b[49m\u001b[43mnum_outputs\u001b[49m\u001b[38;5;241;43m=\u001b[39;49m\u001b[38;5;28;43mself\u001b[39;49m\u001b[38;5;241;43m.\u001b[39;49m\u001b[43m_num_outputs\u001b[49m\u001b[43m,\u001b[49m\n\u001b[1;32m    601\u001b[0m \u001b[43m        \u001b[49m\u001b[43minputs\u001b[49m\u001b[38;5;241;43m=\u001b[39;49m\u001b[43margs\u001b[49m\u001b[43m,\u001b[49m\n\u001b[1;32m    602\u001b[0m \u001b[43m        \u001b[49m\u001b[43mattrs\u001b[49m\u001b[38;5;241;43m=\u001b[39;49m\u001b[43mattrs\u001b[49m\u001b[43m,\u001b[49m\n\u001b[1;32m    603\u001b[0m \u001b[43m        \u001b[49m\u001b[43mctx\u001b[49m\u001b[38;5;241;43m=\u001b[39;49m\u001b[43mctx\u001b[49m\u001b[43m)\u001b[49m\n\u001b[1;32m    604\u001b[0m   \u001b[38;5;28;01melse\u001b[39;00m:\n\u001b[1;32m    605\u001b[0m     outputs \u001b[38;5;241m=\u001b[39m execute\u001b[38;5;241m.\u001b[39mexecute_with_cancellation(\n\u001b[1;32m    606\u001b[0m         \u001b[38;5;28mstr\u001b[39m(\u001b[38;5;28mself\u001b[39m\u001b[38;5;241m.\u001b[39msignature\u001b[38;5;241m.\u001b[39mname),\n\u001b[1;32m    607\u001b[0m         num_outputs\u001b[38;5;241m=\u001b[39m\u001b[38;5;28mself\u001b[39m\u001b[38;5;241m.\u001b[39m_num_outputs,\n\u001b[0;32m   (...)\u001b[0m\n\u001b[1;32m    610\u001b[0m         ctx\u001b[38;5;241m=\u001b[39mctx,\n\u001b[1;32m    611\u001b[0m         cancellation_manager\u001b[38;5;241m=\u001b[39mcancellation_manager)\n",
      "File \u001b[0;32m/usr/local/lib/python3.8/dist-packages/tensorflow/python/eager/execute.py:58\u001b[0m, in \u001b[0;36mquick_execute\u001b[0;34m(op_name, num_outputs, inputs, attrs, ctx, name)\u001b[0m\n\u001b[1;32m     56\u001b[0m \u001b[38;5;28;01mtry\u001b[39;00m:\n\u001b[1;32m     57\u001b[0m   ctx\u001b[38;5;241m.\u001b[39mensure_initialized()\n\u001b[0;32m---> 58\u001b[0m   tensors \u001b[38;5;241m=\u001b[39m \u001b[43mpywrap_tfe\u001b[49m\u001b[38;5;241;43m.\u001b[39;49m\u001b[43mTFE_Py_Execute\u001b[49m\u001b[43m(\u001b[49m\u001b[43mctx\u001b[49m\u001b[38;5;241;43m.\u001b[39;49m\u001b[43m_handle\u001b[49m\u001b[43m,\u001b[49m\u001b[43m \u001b[49m\u001b[43mdevice_name\u001b[49m\u001b[43m,\u001b[49m\u001b[43m \u001b[49m\u001b[43mop_name\u001b[49m\u001b[43m,\u001b[49m\n\u001b[1;32m     59\u001b[0m \u001b[43m                                      \u001b[49m\u001b[43minputs\u001b[49m\u001b[43m,\u001b[49m\u001b[43m \u001b[49m\u001b[43mattrs\u001b[49m\u001b[43m,\u001b[49m\u001b[43m \u001b[49m\u001b[43mnum_outputs\u001b[49m\u001b[43m)\u001b[49m\n\u001b[1;32m     60\u001b[0m \u001b[38;5;28;01mexcept\u001b[39;00m core\u001b[38;5;241m.\u001b[39m_NotOkStatusException \u001b[38;5;28;01mas\u001b[39;00m e:\n\u001b[1;32m     61\u001b[0m   \u001b[38;5;28;01mif\u001b[39;00m name \u001b[38;5;129;01mis\u001b[39;00m \u001b[38;5;129;01mnot\u001b[39;00m \u001b[38;5;28;01mNone\u001b[39;00m:\n",
      "\u001b[0;31mKeyboardInterrupt\u001b[0m: "
     ]
    }
   ],
   "source": [
    "history = vqgan.fit(train_ds, validation_data=validation_ds, initial_epoch=211, epochs=n_epochs, callbacks=callbacks)"
   ]
  },
  {
   "cell_type": "code",
   "execution_count": null,
   "id": "8ffe4de7-8df4-4278-8a37-d211763c7120",
   "metadata": {},
   "outputs": [],
   "source": [
    "with strategy.scope():\n",
    "    x = train_sample_data[0]\n",
    "    generated = vqgan(x[:10])[0]"
   ]
  },
  {
   "cell_type": "code",
   "execution_count": null,
   "id": "4bb314da-0677-4daf-990a-ba35577a015c",
   "metadata": {},
   "outputs": [],
   "source": [
    "quant, indices, _ = vqgan.encode(x[:10])"
   ]
  },
  {
   "cell_type": "code",
   "execution_count": null,
   "id": "27d387f3-cfd4-47ad-99b3-a22a4bd588df",
   "metadata": {},
   "outputs": [],
   "source": [
    "with strategy.scope():\n",
    "    quant = vqgan.quantize.get_codebook_entry(\n",
    "            [list(range(0, 128))], shape=(1, 8, 16, 128)\n",
    "    )\n",
    "\n",
    "    decoded = vqgan.decode(quant)"
   ]
  },
  {
   "cell_type": "code",
   "execution_count": null,
   "id": "c01f29f8-4b44-4f16-9316-dafa2b2d498e",
   "metadata": {},
   "outputs": [],
   "source": [
    "from ganime.model.vqgan_clean.discriminator.model import NLayerDiscriminator\n",
    "with strategy.scope():\n",
    "    discriminator = NLayerDiscriminator()\n"
   ]
  },
  {
   "cell_type": "code",
   "execution_count": null,
   "id": "5c620720-74d9-4efb-a8cb-bb3bdadccc19",
   "metadata": {},
   "outputs": [],
   "source": [
    "with strategy.scope():\n",
    "    vqgan.discriminator = discriminator"
   ]
  },
  {
   "cell_type": "code",
   "execution_count": null,
   "id": "deef10a4-6899-40a1-b30c-bf582661a76c",
   "metadata": {
    "tags": []
   },
   "outputs": [],
   "source": [
    "model_input = tf.keras.layers.Input((256, 512, 6))\n",
    "model = tf.keras.Model(inputs=[model_input], outputs=vqgan.discriminator.call(model_input))\n",
    "model.summary()"
   ]
  },
  {
   "cell_type": "code",
   "execution_count": null,
   "id": "b831e2bf-9801-4eaa-a5a8-67b06ac665c2",
   "metadata": {},
   "outputs": [],
   "source": []
  },
  {
   "cell_type": "code",
   "execution_count": null,
   "id": "7eec946a-6a21-426e-b0f6-5238c146f49a",
   "metadata": {},
   "outputs": [],
   "source": [
    "disc_out = vqgan.discriminator(tf.concat([tf.ones((8, 256, 512, 3)), tf.image.resize(\n",
    "            train_sample_data[0], [256, 512], method=tf.image.ResizeMethod.NEAREST_NEIGHBOR\n",
    "        )], axis=-1), training=False)"
   ]
  },
  {
   "cell_type": "code",
   "execution_count": null,
   "id": "820fba22-1197-47cd-bd51-d1324b4ba082",
   "metadata": {},
   "outputs": [],
   "source": [
    "plt.imshow(disc_out[0, ..., -1], vmin=-20, vmax=20, cmap='RdBu_r')\n",
    "plt.colorbar()"
   ]
  },
  {
   "cell_type": "code",
   "execution_count": 1,
   "id": "28d9d8d3-a981-445b-ab7f-2c410b52c751",
   "metadata": {},
   "outputs": [],
   "source": [
    "lengths = [789, 799, 814, 816 , 819 ,825 ,794 ,766 ,760 ,747,752 ,787 ,742 ,795 ,752 ,774 ,789, \n",
    " 770 ,786 ,770 ,813 ,805 ,802 ,787 ,744 ,800 ,890 ,732 ,830 ,762 ,667 ,751, 821 , 1541 ,\n",
    " 784 ,801 ,788 ,768 ,768 ,787 ,726 ,705 ,647, 1102]"
   ]
  },
  {
   "cell_type": "code",
   "execution_count": 2,
   "id": "a76edfd2-0e1a-4103-914c-b34c0eee070a",
   "metadata": {},
   "outputs": [
    {
     "data": {
      "text/plain": [
       "44"
      ]
     },
     "execution_count": 2,
     "metadata": {},
     "output_type": "execute_result"
    }
   ],
   "source": [
    "len(lengths)"
   ]
  },
  {
   "cell_type": "code",
   "execution_count": 3,
   "id": "3efab080-be28-43a0-9e66-cc4489c7a58a",
   "metadata": {},
   "outputs": [
    {
     "data": {
      "text/plain": [
       "35267"
      ]
     },
     "execution_count": 3,
     "metadata": {},
     "output_type": "execute_result"
    }
   ],
   "source": [
    "sum(lengths)"
   ]
  },
  {
   "cell_type": "code",
   "execution_count": null,
   "id": "086467c9-d625-4b51-9aee-e71519b36ee0",
   "metadata": {},
   "outputs": [],
   "source": []
  }
 ],
 "metadata": {
  "kernelspec": {
   "display_name": "Python 3 (ipykernel)",
   "language": "python",
   "name": "python3"
  },
  "language_info": {
   "codemirror_mode": {
    "name": "ipython",
    "version": 3
   },
   "file_extension": ".py",
   "mimetype": "text/x-python",
   "name": "python",
   "nbconvert_exporter": "python",
   "pygments_lexer": "ipython3",
   "version": "3.8.10"
  }
 },
 "nbformat": 4,
 "nbformat_minor": 5
}
