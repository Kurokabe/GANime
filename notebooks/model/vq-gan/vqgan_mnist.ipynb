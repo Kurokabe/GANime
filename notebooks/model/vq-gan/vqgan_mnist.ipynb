{
 "cells": [
  {
   "cell_type": "code",
   "execution_count": 1,
   "id": "a0efb334-4c96-4b8c-8229-aec9af0619fd",
   "metadata": {},
   "outputs": [],
   "source": [
    "import os\n",
    "os.environ[\"CUDA_DEVICE_ORDER\"]=\"PCI_BUS_ID\"   # see issue #152\n",
    "os.environ[\"CUDA_VISIBLE_DEVICES\"]=\"0, 1, 2, 3, 4, 5, 6, 7\"\n",
    "os.environ[\"NCCL_DEBUG\"]=\"WARN\"\n",
    "#os.environ[\"NCCL_P2P_LEVEL\"]=\"NODE\""
   ]
  },
  {
   "cell_type": "code",
   "execution_count": 2,
   "id": "392c6e3a-c66e-4517-bcb9-4c90782e4f49",
   "metadata": {},
   "outputs": [],
   "source": [
    "import sys\n",
    "sys.path.append(\"../../../\")"
   ]
  },
  {
   "cell_type": "code",
   "execution_count": 3,
   "id": "a2ba8145-34f8-4b06-bce5-d687df559773",
   "metadata": {},
   "outputs": [],
   "source": [
    "%load_ext autoreload\n",
    "%autoreload 2"
   ]
  },
  {
   "cell_type": "code",
   "execution_count": 4,
   "id": "9c5dfda8-24f9-4ca0-af11-45f54d1b8f48",
   "metadata": {},
   "outputs": [],
   "source": [
    "import omegaconf\n",
    "import numpy as np\n",
    "import matplotlib.pyplot as plt\n",
    "from ganime.data.experimental import ImageDataset, VideoDataset\n",
    "from ganime.model.vqgan_clean.vqgan import VQGAN\n",
    "from ganime.visualization.videos import display_videos\n",
    "from ganime.visualization.images import display_images\n",
    "import tensorflow as tf\n",
    "from datetime import datetime\n",
    "from tqdm import tqdm\n",
    "import os\n",
    "from pyprojroot.pyprojroot import here\n",
    "#tf.get_logger().setLevel('ERROR')"
   ]
  },
  {
   "cell_type": "code",
   "execution_count": 5,
   "id": "ed032479-6166-4ab9-8b49-ded5998344ca",
   "metadata": {},
   "outputs": [],
   "source": [
    "for device in tf.config.list_physical_devices(\"GPU\"):\n",
    "    tf.config.experimental.set_memory_growth(device, True)"
   ]
  },
  {
   "cell_type": "code",
   "execution_count": 6,
   "id": "e064c018-2faa-4e6a-99e8-2293c7136a97",
   "metadata": {},
   "outputs": [
    {
     "name": "stdout",
     "output_type": "stream",
     "text": [
      "INFO:tensorflow:Using MirroredStrategy with devices ('/job:localhost/replica:0/task:0/device:GPU:0', '/job:localhost/replica:0/task:0/device:GPU:1', '/job:localhost/replica:0/task:0/device:GPU:2', '/job:localhost/replica:0/task:0/device:GPU:3', '/job:localhost/replica:0/task:0/device:GPU:4', '/job:localhost/replica:0/task:0/device:GPU:5', '/job:localhost/replica:0/task:0/device:GPU:6', '/job:localhost/replica:0/task:0/device:GPU:7')\n"
     ]
    },
    {
     "name": "stderr",
     "output_type": "stream",
     "text": [
      "2022-08-09 03:15:49.426347: I tensorflow/core/platform/cpu_feature_guard.cc:151] This TensorFlow binary is optimized with oneAPI Deep Neural Network Library (oneDNN) to use the following CPU instructions in performance-critical operations:  AVX2 FMA\n",
      "To enable them in other operations, rebuild TensorFlow with the appropriate compiler flags.\n",
      "2022-08-09 03:15:52.261950: I tensorflow/core/common_runtime/gpu/gpu_device.cc:1525] Created device /job:localhost/replica:0/task:0/device:GPU:0 with 22302 MB memory:  -> device: 0, name: NVIDIA GeForce RTX 3090, pci bus id: 0000:01:00.0, compute capability: 8.6\n",
      "2022-08-09 03:15:52.263259: I tensorflow/core/common_runtime/gpu/gpu_device.cc:1525] Created device /job:localhost/replica:0/task:0/device:GPU:1 with 22302 MB memory:  -> device: 1, name: NVIDIA GeForce RTX 3090, pci bus id: 0000:25:00.0, compute capability: 8.6\n",
      "2022-08-09 03:15:52.264261: I tensorflow/core/common_runtime/gpu/gpu_device.cc:1525] Created device /job:localhost/replica:0/task:0/device:GPU:2 with 22302 MB memory:  -> device: 2, name: NVIDIA GeForce RTX 3090, pci bus id: 0000:41:00.0, compute capability: 8.6\n",
      "2022-08-09 03:15:52.265233: I tensorflow/core/common_runtime/gpu/gpu_device.cc:1525] Created device /job:localhost/replica:0/task:0/device:GPU:3 with 22302 MB memory:  -> device: 3, name: NVIDIA GeForce RTX 3090, pci bus id: 0000:61:00.0, compute capability: 8.6\n",
      "2022-08-09 03:15:52.266255: I tensorflow/core/common_runtime/gpu/gpu_device.cc:1525] Created device /job:localhost/replica:0/task:0/device:GPU:4 with 22302 MB memory:  -> device: 4, name: NVIDIA GeForce RTX 3090, pci bus id: 0000:81:00.0, compute capability: 8.6\n",
      "2022-08-09 03:15:52.267168: I tensorflow/core/common_runtime/gpu/gpu_device.cc:1525] Created device /job:localhost/replica:0/task:0/device:GPU:5 with 22302 MB memory:  -> device: 5, name: NVIDIA GeForce RTX 3090, pci bus id: 0000:a1:00.0, compute capability: 8.6\n",
      "2022-08-09 03:15:52.268097: I tensorflow/core/common_runtime/gpu/gpu_device.cc:1525] Created device /job:localhost/replica:0/task:0/device:GPU:6 with 22302 MB memory:  -> device: 6, name: NVIDIA GeForce RTX 3090, pci bus id: 0000:c1:00.0, compute capability: 8.6\n",
      "2022-08-09 03:15:52.269019: I tensorflow/core/common_runtime/gpu/gpu_device.cc:1525] Created device /job:localhost/replica:0/task:0/device:GPU:7 with 22302 MB memory:  -> device: 7, name: NVIDIA GeForce RTX 3090, pci bus id: 0000:e1:00.0, compute capability: 8.6\n"
     ]
    }
   ],
   "source": [
    "strategy = tf.distribute.MirroredStrategy(cross_device_ops=tf.distribute.HierarchicalCopyAllReduce())"
   ]
  },
  {
   "cell_type": "code",
   "execution_count": 7,
   "id": "778386dc-a6c1-4a06-9c4f-ccc4187b487f",
   "metadata": {},
   "outputs": [],
   "source": [
    "cfg = omegaconf.OmegaConf.load(here(\"configs/moving_mnist_image.yaml\"))"
   ]
  },
  {
   "cell_type": "code",
   "execution_count": 8,
   "id": "024352ac-f325-49a3-8f11-847ee31a79f6",
   "metadata": {},
   "outputs": [],
   "source": [
    "num_workers = len(tf.config.list_physical_devices(\"GPU\"))\n",
    "batch_size = cfg[\"trainer\"][\"batch_size\"] \n",
    "global_batch_size = batch_size * strategy.num_replicas_in_sync\n",
    "n_epochs = cfg[\"trainer\"][\"n_epochs\"] \n",
    "sample_batch_size = 8"
   ]
  },
  {
   "cell_type": "code",
   "execution_count": 9,
   "id": "38ed457b-a5fd-4be5-b922-6d47499df6df",
   "metadata": {},
   "outputs": [],
   "source": [
    "#dataset_length = 34045 # KNY\n",
    "#dataset_length = 310153 #KNY full\n",
    "dataset_length = 20*10000 # MNIST\n",
    "num_batch = dataset_length / batch_size"
   ]
  },
  {
   "cell_type": "code",
   "execution_count": 10,
   "id": "8621b402-0616-4a58-a715-964bc47b6728",
   "metadata": {},
   "outputs": [],
   "source": [
    "# Normalizing the images to [-1, 1]\n",
    "def normalize(image):\n",
    "    image = (tf.cast(image, tf.float32) / 127.5) - 1\n",
    "\n",
    "    return image"
   ]
  },
  {
   "cell_type": "code",
   "execution_count": 11,
   "id": "c1de37bb-e5ac-43dc-a457-e5adee689699",
   "metadata": {},
   "outputs": [],
   "source": [
    "def random_crop(image, img_height=64, img_width=128):\n",
    "    cropped_image = tf.image.random_crop(image, size=[img_height, img_width, 3])\n",
    "\n",
    "    return cropped_image"
   ]
  },
  {
   "cell_type": "code",
   "execution_count": 12,
   "id": "e8444b27-f776-4bd6-bc09-f1def624b703",
   "metadata": {},
   "outputs": [],
   "source": [
    "@tf.function()\n",
    "def random_jitter(image):\n",
    "    # Resizing to 72x142\n",
    "    image = tf.image.resize(image, [72, 142], method=tf.image.ResizeMethod.NEAREST_NEIGHBOR)\n",
    "\n",
    "    # Random cropping back to 64x128\n",
    "    image = random_crop(image)\n",
    "\n",
    "    if tf.random.uniform(()) > 0.5:\n",
    "        # Random mirroring\n",
    "        image = tf.image.flip_left_right(image)\n",
    "\n",
    "    return image"
   ]
  },
  {
   "cell_type": "code",
   "execution_count": 13,
   "id": "fbcf7304-151d-45dc-908d-fcdec7c96ccf",
   "metadata": {},
   "outputs": [],
   "source": [
    "def preprocess(image):\n",
    "    image = tf.reshape(image, (tf.shape(image)[0], tf.shape(image)[1], 3))\n",
    "    #image = random_jitter(image)\n",
    "    image = normalize(image)\n",
    "    return image, image"
   ]
  },
  {
   "cell_type": "code",
   "execution_count": 14,
   "id": "7604a9a9-0bc1-4167-838f-5566966efedb",
   "metadata": {},
   "outputs": [],
   "source": [
    "dataset = ImageDataset(\"../../../data/mnist_tfrecords\").load()\n",
    "dataset = dataset.shuffle(dataset_length, reshuffle_each_iteration=True, seed=10).map(preprocess, num_parallel_calls=tf.data.AUTOTUNE)"
   ]
  },
  {
   "cell_type": "code",
   "execution_count": 15,
   "id": "fa2379e7-9bb0-46f6-bc7f-11f5197de55c",
   "metadata": {},
   "outputs": [],
   "source": [
    "train_size = int(dataset_length * 0.8)\n",
    "validation_size = int(dataset_length * 0.1)\n",
    "test_size = int(dataset_length * 0.1)"
   ]
  },
  {
   "cell_type": "code",
   "execution_count": 16,
   "id": "62d1c5aa-84b8-4ae3-b6db-db4a433bcca4",
   "metadata": {},
   "outputs": [],
   "source": [
    "train_ds = dataset.take(train_size)\n",
    "validation_ds = dataset.skip(train_size).take(validation_size)#.padded_batch(global_batch_size).map(postprocess)\n",
    "test_ds = dataset.skip(train_size + validation_size).take(validation_size)#.padded_batch(global_batch_size).map(postprocess)"
   ]
  },
  {
   "cell_type": "code",
   "execution_count": 17,
   "id": "4d748166-e601-4cab-9605-3e126e10c4dd",
   "metadata": {
    "tags": []
   },
   "outputs": [],
   "source": [
    "train_sample_data = next(train_ds\n",
    "                          .batch(sample_batch_size)\n",
    "                          .prefetch(tf.data.AUTOTUNE).as_numpy_iterator())\n",
    "validation_sample_data = next(validation_ds.batch(sample_batch_size).as_numpy_iterator())"
   ]
  },
  {
   "cell_type": "code",
   "execution_count": 18,
   "id": "9bdbbb77-4dfe-49d3-9ab5-8a2f82753ada",
   "metadata": {},
   "outputs": [],
   "source": [
    "train_ds = (train_ds.batch(global_batch_size, drop_remainder=True)\n",
    "            .prefetch(tf.data.AUTOTUNE))\n",
    "validation_ds = (validation_ds.batch(global_batch_size, drop_remainder=True)\n",
    "            .prefetch(tf.data.AUTOTUNE))\n",
    "test_ds = (test_ds.batch(global_batch_size, drop_remainder=True)\n",
    "            .prefetch(tf.data.AUTOTUNE))"
   ]
  },
  {
   "cell_type": "code",
   "execution_count": 19,
   "id": "a2c57b46-5920-4660-9791-7695b6656596",
   "metadata": {},
   "outputs": [],
   "source": [
    "from ganime.utils.callbacks import TensorboardImage, get_logdir\n",
    "\n",
    "logdir = \"../../../logs/ganime/vqgan/moving_mnist_image_2022-08-08_05-05-23\" #get_logdir(\"../../../logs/ganime/vqgan\", experiment_name=\"moving_mnist_image\")\n",
    "# Define the basic TensorBoard callback.\n",
    "tensorboard_callback = tf.keras.callbacks.TensorBoard(log_dir=logdir)\n",
    "tensorboard_image_callback = TensorboardImage(logdir, train_sample_data, validation_sample_data)\n",
    "early_stopping = tf.keras.callbacks.EarlyStopping(\n",
    "    monitor=\"val_total_loss\",\n",
    "    min_delta=0.0001,\n",
    "    patience=100,\n",
    "    restore_best_weights=True,\n",
    ")\n",
    "checkpointing = tf.keras.callbacks.ModelCheckpoint(os.path.join(logdir, \"checkpoint\", \"checkpoint\"), monitor='val_reconstruction_loss', save_best_only=True, save_weights_only=True)\n",
    "callbacks = [tensorboard_callback, tensorboard_image_callback, checkpointing]"
   ]
  },
  {
   "cell_type": "code",
   "execution_count": 20,
   "id": "50eb6fd2-c042-4aa6-a536-2484e41d4e87",
   "metadata": {},
   "outputs": [],
   "source": [
    "# train_mean, train_var, train_std = dataset_statistics(train_ds)"
   ]
  },
  {
   "cell_type": "code",
   "execution_count": 21,
   "id": "7a62a144-c06f-417f-ac6a-c4a5c0120f8c",
   "metadata": {},
   "outputs": [],
   "source": [
    "from ganime.visualization.images import display_true_pred"
   ]
  },
  {
   "cell_type": "code",
   "execution_count": 22,
   "id": "70c6cf30-c4bb-4bf1-a942-cdc944532b88",
   "metadata": {
    "tags": []
   },
   "outputs": [
    {
     "name": "stdout",
     "output_type": "stream",
     "text": [
      "Working with z of shape (1, 512, 16, 16) = 131072 dimensions.\n",
      "INFO:tensorflow:Reduce to /job:localhost/replica:0/task:0/device:CPU:0 then broadcast to ('/job:localhost/replica:0/task:0/device:CPU:0',).\n",
      "INFO:tensorflow:Reduce to /job:localhost/replica:0/task:0/device:CPU:0 then broadcast to ('/job:localhost/replica:0/task:0/device:CPU:0',).\n",
      "INFO:tensorflow:Reduce to /job:localhost/replica:0/task:0/device:CPU:0 then broadcast to ('/job:localhost/replica:0/task:0/device:CPU:0',).\n",
      "INFO:tensorflow:Reduce to /job:localhost/replica:0/task:0/device:CPU:0 then broadcast to ('/job:localhost/replica:0/task:0/device:CPU:0',).\n",
      "INFO:tensorflow:Reduce to /job:localhost/replica:0/task:0/device:CPU:0 then broadcast to ('/job:localhost/replica:0/task:0/device:CPU:0',).\n",
      "INFO:tensorflow:Reduce to /job:localhost/replica:0/task:0/device:CPU:0 then broadcast to ('/job:localhost/replica:0/task:0/device:CPU:0',).\n",
      "INFO:tensorflow:Reduce to /job:localhost/replica:0/task:0/device:CPU:0 then broadcast to ('/job:localhost/replica:0/task:0/device:CPU:0',).\n",
      "INFO:tensorflow:Reduce to /job:localhost/replica:0/task:0/device:CPU:0 then broadcast to ('/job:localhost/replica:0/task:0/device:CPU:0',).\n",
      "INFO:tensorflow:Reduce to /job:localhost/replica:0/task:0/device:CPU:0 then broadcast to ('/job:localhost/replica:0/task:0/device:CPU:0',).\n",
      "INFO:tensorflow:Reduce to /job:localhost/replica:0/task:0/device:CPU:0 then broadcast to ('/job:localhost/replica:0/task:0/device:CPU:0',).\n",
      "VQLPIPSWithDiscriminator running with hinge loss.\n"
     ]
    }
   ],
   "source": [
    "with strategy.scope():\n",
    "    vqgan = VQGAN(**cfg[\"model\"], num_replicas=strategy.num_replicas_in_sync)"
   ]
  },
  {
   "cell_type": "code",
   "execution_count": 23,
   "id": "637fe5ec-e9cf-496d-9daf-95456f867701",
   "metadata": {
    "tags": []
   },
   "outputs": [],
   "source": [
    "with strategy.scope():\n",
    "    gen_optimizer = tf.keras.optimizers.Adam(\n",
    "                learning_rate=cfg[\"trainer\"][\"gen_lr\"],\n",
    "                beta_1=cfg[\"trainer\"][\"gen_beta_1\"],\n",
    "                beta_2=cfg[\"trainer\"][\"gen_beta_2\"],\n",
    "                clipnorm=cfg[\"trainer\"][\"gen_clip_norm\"],\n",
    "    )\n",
    "    disc_optimizer = tf.keras.optimizers.Adam(\n",
    "        learning_rate=cfg[\"trainer\"][\"disc_lr\"],\n",
    "        beta_1=cfg[\"trainer\"][\"disc_beta_1\"],\n",
    "        beta_2=cfg[\"trainer\"][\"disc_beta_2\"],\n",
    "        clipnorm=cfg[\"trainer\"][\"disc_clip_norm\"],\n",
    "    )\n",
    "    vqgan.compile(gen_optimizer=gen_optimizer, disc_optimizer=disc_optimizer)"
   ]
  },
  {
   "cell_type": "code",
   "execution_count": null,
   "id": "e49d2c92-3443-406c-8f5e-4330bbe8cf7a",
   "metadata": {
    "tags": []
   },
   "outputs": [
    {
     "name": "stdout",
     "output_type": "stream",
     "text": [
      "Epoch 212/10000\n",
      "INFO:tensorflow:batch_all_reduce: 217 all-reduces with algorithm = hierarchical_copy, num_packs = 1\n",
      "INFO:tensorflow:batch_all_reduce: 13 all-reduces with algorithm = hierarchical_copy, num_packs = 1\n",
      "INFO:tensorflow:batch_all_reduce: 217 all-reduces with algorithm = hierarchical_copy, num_packs = 1\n",
      "INFO:tensorflow:batch_all_reduce: 13 all-reduces with algorithm = hierarchical_copy, num_packs = 1\n"
     ]
    },
    {
     "name": "stderr",
     "output_type": "stream",
     "text": [
      "2022-08-09 03:23:09.940293: I tensorflow/stream_executor/cuda/cuda_dnn.cc:366] Loaded cuDNN version 8100\n",
      "2022-08-09 03:23:10.734442: I tensorflow/stream_executor/cuda/cuda_dnn.cc:366] Loaded cuDNN version 8100\n",
      "2022-08-09 03:23:11.635823: I tensorflow/stream_executor/cuda/cuda_dnn.cc:366] Loaded cuDNN version 8100\n",
      "2022-08-09 03:23:13.082970: I tensorflow/stream_executor/cuda/cuda_dnn.cc:366] Loaded cuDNN version 8100\n",
      "2022-08-09 03:23:14.448965: I tensorflow/stream_executor/cuda/cuda_blas.cc:1774] TensorFloat-32 will be used for the matrix multiplication. This will only be logged once.\n",
      "2022-08-09 03:23:14.519365: I tensorflow/stream_executor/cuda/cuda_dnn.cc:366] Loaded cuDNN version 8100\n",
      "2022-08-09 03:23:15.901031: I tensorflow/stream_executor/cuda/cuda_dnn.cc:366] Loaded cuDNN version 8100\n",
      "2022-08-09 03:23:17.090509: I tensorflow/stream_executor/cuda/cuda_dnn.cc:366] Loaded cuDNN version 8100\n",
      "2022-08-09 03:23:18.228551: I tensorflow/stream_executor/cuda/cuda_dnn.cc:366] Loaded cuDNN version 8100\n"
     ]
    },
    {
     "name": "stdout",
     "output_type": "stream",
     "text": [
      "625/625 [==============================] - 908s 732ms/step - total_loss: 6.7460 - reconstruction_loss: 0.2627 - vq_loss: 0.7530 - disc_loss: 0.0000e+00 - val_total_loss: 3.8047 - val_reconstruction_loss: 0.2821 - val_vq_loss: 0.7140 - val_disc_loss: 0.0000e+00\n",
      "Epoch 213/10000\n",
      "625/625 [==============================] - 354s 556ms/step - total_loss: 7.9167 - reconstruction_loss: 0.3200 - vq_loss: 0.7203 - disc_loss: 0.0000e+00 - val_total_loss: 3.2895 - val_reconstruction_loss: 0.3448 - val_vq_loss: 0.6930 - val_disc_loss: 0.0000e+00\n",
      "Epoch 214/10000\n",
      "625/625 [==============================] - 349s 552ms/step - total_loss: 8.4106 - reconstruction_loss: 0.3914 - vq_loss: 0.6878 - disc_loss: 0.0000e+00 - val_total_loss: 3.6512 - val_reconstruction_loss: 0.4143 - val_vq_loss: 0.7111 - val_disc_loss: 0.0000e+00\n",
      "Epoch 215/10000\n",
      "625/625 [==============================] - 351s 553ms/step - total_loss: 7.8104 - reconstruction_loss: 0.4386 - vq_loss: 0.6736 - disc_loss: 0.0000e+00 - val_total_loss: 3.3561 - val_reconstruction_loss: 0.4342 - val_vq_loss: 0.7291 - val_disc_loss: 0.0000e+00\n",
      "Epoch 216/10000\n",
      "625/625 [==============================] - 348s 545ms/step - total_loss: 7.4449 - reconstruction_loss: 0.4529 - vq_loss: 0.6817 - disc_loss: 0.0000e+00 - val_total_loss: 4.4886 - val_reconstruction_loss: 0.5187 - val_vq_loss: 0.6982 - val_disc_loss: 0.0000e+00\n",
      "Epoch 217/10000\n",
      "625/625 [==============================] - 351s 553ms/step - total_loss: 7.2318 - reconstruction_loss: 0.4593 - vq_loss: 0.6813 - disc_loss: 0.0000e+00 - val_total_loss: 2.9914 - val_reconstruction_loss: 0.4075 - val_vq_loss: 0.6740 - val_disc_loss: 0.0000e+00\n",
      "Epoch 218/10000\n",
      "625/625 [==============================] - 352s 555ms/step - total_loss: 6.7930 - reconstruction_loss: 0.4529 - vq_loss: 0.6839 - disc_loss: 0.0000e+00 - val_total_loss: 3.4874 - val_reconstruction_loss: 0.4701 - val_vq_loss: 0.6803 - val_disc_loss: 0.0000e+00\n",
      "Epoch 219/10000\n",
      "625/625 [==============================] - 347s 546ms/step - total_loss: 6.3752 - reconstruction_loss: 0.4461 - vq_loss: 0.6823 - disc_loss: 0.0000e+00 - val_total_loss: 2.5516 - val_reconstruction_loss: 0.4134 - val_vq_loss: 0.6907 - val_disc_loss: 0.0000e+00\n",
      "Epoch 220/10000\n",
      "625/625 [==============================] - 352s 555ms/step - total_loss: 6.2393 - reconstruction_loss: 0.4447 - vq_loss: 0.6892 - disc_loss: 0.0000e+00 - val_total_loss: 2.4969 - val_reconstruction_loss: 0.4109 - val_vq_loss: 0.6746 - val_disc_loss: 0.0000e+00\n",
      "Epoch 221/10000\n",
      "625/625 [==============================] - 349s 551ms/step - total_loss: 6.0366 - reconstruction_loss: 0.4419 - vq_loss: 0.6923 - disc_loss: 0.0000e+00 - val_total_loss: 3.3076 - val_reconstruction_loss: 0.4032 - val_vq_loss: 0.6731 - val_disc_loss: 0.0000e+00\n",
      "Epoch 222/10000\n",
      "625/625 [==============================] - 352s 554ms/step - total_loss: 6.1032 - reconstruction_loss: 0.4486 - vq_loss: 0.6918 - disc_loss: 0.0000e+00 - val_total_loss: 2.5919 - val_reconstruction_loss: 0.4138 - val_vq_loss: 0.6682 - val_disc_loss: 0.0000e+00\n",
      "Epoch 223/10000\n",
      "625/625 [==============================] - 350s 550ms/step - total_loss: 6.0982 - reconstruction_loss: 0.4566 - vq_loss: 0.6977 - disc_loss: 0.0000e+00 - val_total_loss: 3.4256 - val_reconstruction_loss: 0.5402 - val_vq_loss: 0.7978 - val_disc_loss: 0.0000e+00\n",
      "Epoch 224/10000\n",
      "625/625 [==============================] - 348s 544ms/step - total_loss: 5.9884 - reconstruction_loss: 0.4572 - vq_loss: 0.6998 - disc_loss: 0.0000e+00 - val_total_loss: 2.6740 - val_reconstruction_loss: 0.4290 - val_vq_loss: 0.7183 - val_disc_loss: 0.0000e+00\n",
      "Epoch 225/10000\n",
      "625/625 [==============================] - 356s 559ms/step - total_loss: 5.9704 - reconstruction_loss: 0.4603 - vq_loss: 0.6945 - disc_loss: 0.0000e+00 - val_total_loss: 3.2268 - val_reconstruction_loss: 0.4582 - val_vq_loss: 0.6489 - val_disc_loss: 0.0000e+00\n",
      "Epoch 226/10000\n",
      "625/625 [==============================] - 357s 559ms/step - total_loss: 6.2365 - reconstruction_loss: 0.4756 - vq_loss: 0.6921 - disc_loss: 0.0000e+00 - val_total_loss: 3.0565 - val_reconstruction_loss: 0.4415 - val_vq_loss: 0.6914 - val_disc_loss: 0.0000e+00\n",
      "Epoch 227/10000\n",
      "625/625 [==============================] - 356s 558ms/step - total_loss: 6.2764 - reconstruction_loss: 0.4797 - vq_loss: 0.6963 - disc_loss: 0.0000e+00 - val_total_loss: 3.4140 - val_reconstruction_loss: 0.4674 - val_vq_loss: 0.7222 - val_disc_loss: 0.0000e+00\n",
      "Epoch 228/10000\n",
      "490/625 [======================>.......] - ETA: 1:09 - total_loss: 6.3375 - reconstruction_loss: 0.4855 - vq_loss: 0.6812 - disc_loss: 0.0000e+00"
     ]
    }
   ],
   "source": [
    "history = vqgan.fit(train_ds, validation_data=validation_ds, initial_epoch=211, epochs=n_epochs, callbacks=callbacks)"
   ]
  },
  {
   "cell_type": "code",
   "execution_count": null,
   "id": "8ffe4de7-8df4-4278-8a37-d211763c7120",
   "metadata": {},
   "outputs": [],
   "source": [
    "with strategy.scope():\n",
    "    x = train_sample_data[0]\n",
    "    generated = vqgan(x[:10])[0]"
   ]
  },
  {
   "cell_type": "code",
   "execution_count": null,
   "id": "4bb314da-0677-4daf-990a-ba35577a015c",
   "metadata": {},
   "outputs": [],
   "source": [
    "quant, indices, _ = vqgan.encode(x[:10])"
   ]
  },
  {
   "cell_type": "code",
   "execution_count": null,
   "id": "27d387f3-cfd4-47ad-99b3-a22a4bd588df",
   "metadata": {},
   "outputs": [],
   "source": [
    "with strategy.scope():\n",
    "    quant = vqgan.quantize.get_codebook_entry(\n",
    "            [list(range(0, 128))], shape=(1, 8, 16, 128)\n",
    "    )\n",
    "\n",
    "    decoded = vqgan.decode(quant)"
   ]
  },
  {
   "cell_type": "code",
   "execution_count": null,
   "id": "c01f29f8-4b44-4f16-9316-dafa2b2d498e",
   "metadata": {},
   "outputs": [],
   "source": [
    "from ganime.model.vqgan_clean.discriminator.model import NLayerDiscriminator\n",
    "with strategy.scope():\n",
    "    discriminator = NLayerDiscriminator()\n"
   ]
  },
  {
   "cell_type": "code",
   "execution_count": null,
   "id": "5c620720-74d9-4efb-a8cb-bb3bdadccc19",
   "metadata": {},
   "outputs": [],
   "source": [
    "with strategy.scope():\n",
    "    vqgan.discriminator = discriminator"
   ]
  },
  {
   "cell_type": "code",
   "execution_count": null,
   "id": "deef10a4-6899-40a1-b30c-bf582661a76c",
   "metadata": {
    "tags": []
   },
   "outputs": [],
   "source": [
    "model_input = tf.keras.layers.Input((256, 512, 6))\n",
    "model = tf.keras.Model(inputs=[model_input], outputs=vqgan.discriminator.call(model_input))\n",
    "model.summary()"
   ]
  },
  {
   "cell_type": "code",
   "execution_count": null,
   "id": "b831e2bf-9801-4eaa-a5a8-67b06ac665c2",
   "metadata": {},
   "outputs": [],
   "source": []
  },
  {
   "cell_type": "code",
   "execution_count": null,
   "id": "7eec946a-6a21-426e-b0f6-5238c146f49a",
   "metadata": {},
   "outputs": [],
   "source": [
    "disc_out = vqgan.discriminator(tf.concat([tf.ones((8, 256, 512, 3)), tf.image.resize(\n",
    "            train_sample_data[0], [256, 512], method=tf.image.ResizeMethod.NEAREST_NEIGHBOR\n",
    "        )], axis=-1), training=False)"
   ]
  },
  {
   "cell_type": "code",
   "execution_count": null,
   "id": "820fba22-1197-47cd-bd51-d1324b4ba082",
   "metadata": {},
   "outputs": [],
   "source": [
    "plt.imshow(disc_out[0, ..., -1], vmin=-20, vmax=20, cmap='RdBu_r')\n",
    "plt.colorbar()"
   ]
  },
  {
   "cell_type": "code",
   "execution_count": null,
   "id": "28d9d8d3-a981-445b-ab7f-2c410b52c751",
   "metadata": {},
   "outputs": [],
   "source": [
    "lengths = [789, 799, 814, 816 , 819 ,825 ,794 ,766 ,760 ,747,752 ,787 ,742 ,795 ,752 ,774 ,789, \n",
    " 770 ,786 ,770 ,813 ,805 ,802 ,787 ,744 ,800 ,890 ,732 ,830 ,762 ,667 ,751, 821 , 1541 ,\n",
    " 784 ,801 ,788 ,768 ,768 ,787 ,726 ,705 ,647, 1102]"
   ]
  },
  {
   "cell_type": "code",
   "execution_count": null,
   "id": "a76edfd2-0e1a-4103-914c-b34c0eee070a",
   "metadata": {},
   "outputs": [],
   "source": [
    "len(lengths)"
   ]
  },
  {
   "cell_type": "code",
   "execution_count": null,
   "id": "3efab080-be28-43a0-9e66-cc4489c7a58a",
   "metadata": {},
   "outputs": [],
   "source": [
    "sum(lengths)"
   ]
  },
  {
   "cell_type": "code",
   "execution_count": null,
   "id": "086467c9-d625-4b51-9aee-e71519b36ee0",
   "metadata": {},
   "outputs": [],
   "source": []
  }
 ],
 "metadata": {
  "kernelspec": {
   "display_name": "Python 3 (ipykernel)",
   "language": "python",
   "name": "python3"
  },
  "language_info": {
   "codemirror_mode": {
    "name": "ipython",
    "version": 3
   },
   "file_extension": ".py",
   "mimetype": "text/x-python",
   "name": "python",
   "nbconvert_exporter": "python",
   "pygments_lexer": "ipython3",
   "version": "3.8.10"
  }
 },
 "nbformat": 4,
 "nbformat_minor": 5
}
